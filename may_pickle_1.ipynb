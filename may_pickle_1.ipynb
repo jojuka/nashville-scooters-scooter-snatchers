{
 "cells": [
  {
   "cell_type": "code",
   "execution_count": 1,
   "id": "b3cb1e0c",
   "metadata": {},
   "outputs": [],
   "source": [
    "from shapely.geometry import Point\n",
    "import pandas as pd\n",
    "import geopandas as gpd\n",
    "import matplotlib.pyplot as plt\n",
    "import folium\n",
    "from folium.plugins import MarkerCluster\n",
    "from folium.plugins import FastMarkerCluster\n",
    "import datetime as dt"
   ]
  },
  {
   "cell_type": "code",
   "execution_count": 2,
   "id": "38742cf8",
   "metadata": {},
   "outputs": [],
   "source": [
    "import pandas as pd\n",
    "import pickle"
   ]
  },
  {
   "cell_type": "code",
   "execution_count": 3,
   "id": "445d7f4c",
   "metadata": {
    "scrolled": false
   },
   "outputs": [
    {
     "data": {
      "text/html": [
       "<div>\n",
       "<style scoped>\n",
       "    .dataframe tbody tr th:only-of-type {\n",
       "        vertical-align: middle;\n",
       "    }\n",
       "\n",
       "    .dataframe tbody tr th {\n",
       "        vertical-align: top;\n",
       "    }\n",
       "\n",
       "    .dataframe thead th {\n",
       "        text-align: right;\n",
       "    }\n",
       "</style>\n",
       "<table border=\"1\" class=\"dataframe\">\n",
       "  <thead>\n",
       "    <tr style=\"text-align: right;\">\n",
       "      <th></th>\n",
       "      <th>pubdatetime</th>\n",
       "      <th>latitude</th>\n",
       "      <th>longitude</th>\n",
       "      <th>sumdid</th>\n",
       "      <th>chargelevel</th>\n",
       "      <th>companyname</th>\n",
       "    </tr>\n",
       "  </thead>\n",
       "  <tbody>\n",
       "    <tr>\n",
       "      <th>0</th>\n",
       "      <td>2019-05-01 00:01:41.247</td>\n",
       "      <td>36.136822</td>\n",
       "      <td>-86.799877</td>\n",
       "      <td>PoweredLIRL1</td>\n",
       "      <td>93.0</td>\n",
       "      <td>Bird</td>\n",
       "    </tr>\n",
       "    <tr>\n",
       "      <th>1</th>\n",
       "      <td>2019-05-01 00:01:41.247</td>\n",
       "      <td>36.191252</td>\n",
       "      <td>-86.772945</td>\n",
       "      <td>PoweredXWRWC</td>\n",
       "      <td>35.0</td>\n",
       "      <td>Bird</td>\n",
       "    </tr>\n",
       "    <tr>\n",
       "      <th>2</th>\n",
       "      <td>2019-05-01 00:01:41.247</td>\n",
       "      <td>36.144752</td>\n",
       "      <td>-86.806293</td>\n",
       "      <td>PoweredMEJEH</td>\n",
       "      <td>90.0</td>\n",
       "      <td>Bird</td>\n",
       "    </tr>\n",
       "    <tr>\n",
       "      <th>3</th>\n",
       "      <td>2019-05-01 00:01:41.247</td>\n",
       "      <td>36.162056</td>\n",
       "      <td>-86.774688</td>\n",
       "      <td>Powered1A7TC</td>\n",
       "      <td>88.0</td>\n",
       "      <td>Bird</td>\n",
       "    </tr>\n",
       "    <tr>\n",
       "      <th>4</th>\n",
       "      <td>2019-05-01 00:01:41.247</td>\n",
       "      <td>36.150973</td>\n",
       "      <td>-86.783109</td>\n",
       "      <td>Powered2TYEF</td>\n",
       "      <td>98.0</td>\n",
       "      <td>Bird</td>\n",
       "    </tr>\n",
       "  </tbody>\n",
       "</table>\n",
       "</div>"
      ],
      "text/plain": [
       "              pubdatetime   latitude  longitude        sumdid  chargelevel  \\\n",
       "0 2019-05-01 00:01:41.247  36.136822 -86.799877  PoweredLIRL1         93.0   \n",
       "1 2019-05-01 00:01:41.247  36.191252 -86.772945  PoweredXWRWC         35.0   \n",
       "2 2019-05-01 00:01:41.247  36.144752 -86.806293  PoweredMEJEH         90.0   \n",
       "3 2019-05-01 00:01:41.247  36.162056 -86.774688  Powered1A7TC         88.0   \n",
       "4 2019-05-01 00:01:41.247  36.150973 -86.783109  Powered2TYEF         98.0   \n",
       "\n",
       "  companyname  \n",
       "0        Bird  \n",
       "1        Bird  \n",
       "2        Bird  \n",
       "3        Bird  \n",
       "4        Bird  "
      ]
     },
     "execution_count": 3,
     "metadata": {},
     "output_type": "execute_result"
    }
   ],
   "source": [
    "may = pd.read_pickle(\"data/may.pkl\")\n",
    "may.head()"
   ]
  },
  {
   "cell_type": "code",
   "execution_count": 4,
   "id": "0324d671",
   "metadata": {},
   "outputs": [
    {
     "name": "stdout",
     "output_type": "stream",
     "text": [
      "<class 'pandas.core.frame.DataFrame'>\n",
      "Int64Index: 20283582 entries, 0 to 20292502\n",
      "Data columns (total 6 columns):\n",
      " #   Column       Dtype         \n",
      "---  ------       -----         \n",
      " 0   pubdatetime  datetime64[ns]\n",
      " 1   latitude     float64       \n",
      " 2   longitude    float64       \n",
      " 3   sumdid       object        \n",
      " 4   chargelevel  float64       \n",
      " 5   companyname  object        \n",
      "dtypes: datetime64[ns](1), float64(3), object(2)\n",
      "memory usage: 1.1+ GB\n"
     ]
    }
   ],
   "source": [
    "may.info()"
   ]
  },
  {
   "cell_type": "code",
   "execution_count": 5,
   "id": "cc0d1c5a",
   "metadata": {},
   "outputs": [
    {
     "data": {
      "text/plain": [
       "100.00    2364422\n",
       "0.00      1025190\n",
       "98.00      456863\n",
       "99.00      417371\n",
       "96.00      398695\n",
       "           ...   \n",
       "13.35           1\n",
       "27.26           1\n",
       "21.15           1\n",
       "17.04           1\n",
       "58.90           1\n",
       "Name: chargelevel, Length: 885, dtype: int64"
      ]
     },
     "execution_count": 5,
     "metadata": {},
     "output_type": "execute_result"
    }
   ],
   "source": [
    "may.chargelevel.value_counts()"
   ]
  },
  {
   "cell_type": "code",
   "execution_count": 6,
   "id": "8a45846e",
   "metadata": {
    "scrolled": false
   },
   "outputs": [],
   "source": [
    "#may = may.loc[(may['chargelevel'] >= 0.00) & (may['chargelevel'] <= 0.00)]"
   ]
  },
  {
   "cell_type": "code",
   "execution_count": 8,
   "id": "08bbf6f1",
   "metadata": {
    "scrolled": false
   },
   "outputs": [],
   "source": [
    "#may[may.pubdatetime.dt.strftime('%H:%M:%S').between_time('00:45:00', '00:15:00')] -Index must be DatetimeIndex\n",
    "#may['hour'] = may['pubdatetime'].dt.hour\n",
    "#hour = may.hour.reset_index()\n",
    "#may.head()"
   ]
  },
  {
   "cell_type": "code",
   "execution_count": 9,
   "id": "a0495807",
   "metadata": {
    "scrolled": true
   },
   "outputs": [],
   "source": [
    "#may.loc[may['hour']"
   ]
  },
  {
   "cell_type": "code",
   "execution_count": 10,
   "id": "1e78198b",
   "metadata": {},
   "outputs": [
    {
     "data": {
      "text/plain": [
       "20292498   2019-05-31 23:59:42\n",
       "20292499   2019-05-31 23:59:42\n",
       "20292500   2019-05-31 23:59:42\n",
       "20292501   2019-05-31 23:59:42\n",
       "20292502   2019-05-31 23:59:42\n",
       "Name: pubdatetime, dtype: datetime64[ns]"
      ]
     },
     "execution_count": 10,
     "metadata": {},
     "output_type": "execute_result"
    }
   ],
   "source": [
    "may.pubdatetime.nlargest() #doesn't make sense. The time and date is pin point the scooter location. "
   ]
  },
  {
   "cell_type": "code",
   "execution_count": null,
   "id": "d85a3984",
   "metadata": {
    "scrolled": true
   },
   "outputs": [],
   "source": [
    "co_name = may.companyname.value_counts()\n",
    "co_name = co_name.reset_index()\n",
    "co_name = co_name.rename(columns = {'index':'company_name', 'companyname':'num'})\n",
    "co_name.head(10)"
   ]
  },
  {
   "cell_type": "code",
   "execution_count": 12,
   "id": "ddc3f9a0",
   "metadata": {
    "scrolled": false
   },
   "outputs": [
    {
     "data": {
      "image/png": "[encoded data removed]",
      "text/plain": [
       "<Figure size 432x288 with 1 Axes>"
      ]
     },
     "metadata": {
      "needs_background": "light"
     },
     "output_type": "display_data"
    }
   ],
   "source": [
    "plt.bar('company_name', 'num', data = co_name)\n",
    "plt.xticks(rotation = 70)\n",
    "plt.title('Company usage'); #company scooter report counts, not the most the scooter on the street"
   ]
  },
  {
   "cell_type": "code",
   "execution_count": 13,
   "id": "48c2d26b",
   "metadata": {
    "scrolled": false
   },
   "outputs": [
    {
     "data": {
      "text/plain": [
       "PoweredIE7H5RIN474PE    8921\n",
       "PoweredUK65LOU3K5N7G    8748\n",
       "PoweredIOHG2G3XKATUL    8576\n",
       "PoweredJCKMQCAL2SSNJ    8521\n",
       "Powered4NYK5PWADVIAU    8439\n",
       "                        ... \n",
       "Powered1PKP7               1\n",
       "PoweredN4YI2A7RXZQLY       1\n",
       "Powered3361332             1\n",
       "Powered523737              1\n",
       "PoweredCI6VKIK2KOFMC       1\n",
       "Name: sumdid, Length: 8303, dtype: int64"
      ]
     },
     "execution_count": 13,
     "metadata": {},
     "output_type": "execute_result"
    }
   ],
   "source": [
    "may.sumdid.value_counts()"
   ]
  },
  {
   "cell_type": "code",
   "execution_count": null,
   "id": "015d2ffa",
   "metadata": {
    "scrolled": false
   },
   "outputs": [],
   "source": [
    "may[may['sumdid']].isin(['Lime'])"
   ]
  },
  {
   "cell_type": "code",
   "execution_count": 15,
   "id": "5b8be076",
   "metadata": {
    "scrolled": false
   },
   "outputs": [
    {
     "data": {
      "text/html": [
       "<div>\n",
       "<style scoped>\n",
       "    .dataframe tbody tr th:only-of-type {\n",
       "        vertical-align: middle;\n",
       "    }\n",
       "\n",
       "    .dataframe tbody tr th {\n",
       "        vertical-align: top;\n",
       "    }\n",
       "\n",
       "    .dataframe thead th {\n",
       "        text-align: right;\n",
       "    }\n",
       "</style>\n",
       "<table border=\"1\" class=\"dataframe\">\n",
       "  <thead>\n",
       "    <tr style=\"text-align: right;\">\n",
       "      <th></th>\n",
       "      <th>pubdatetime</th>\n",
       "      <th>latitude</th>\n",
       "      <th>longitude</th>\n",
       "      <th>sumdid</th>\n",
       "      <th>chargelevel</th>\n",
       "      <th>companyname</th>\n",
       "    </tr>\n",
       "  </thead>\n",
       "  <tbody>\n",
       "    <tr>\n",
       "      <th>1150</th>\n",
       "      <td>2019-05-01 00:04:48.030</td>\n",
       "      <td>36.121581</td>\n",
       "      <td>-86.770304</td>\n",
       "      <td>Powered515</td>\n",
       "      <td>3.0</td>\n",
       "      <td>Gotcha</td>\n",
       "    </tr>\n",
       "    <tr>\n",
       "      <th>3318</th>\n",
       "      <td>2019-05-01 00:09:48.257</td>\n",
       "      <td>36.121581</td>\n",
       "      <td>-86.770304</td>\n",
       "      <td>Powered515</td>\n",
       "      <td>3.0</td>\n",
       "      <td>Gotcha</td>\n",
       "    </tr>\n",
       "    <tr>\n",
       "      <th>5542</th>\n",
       "      <td>2019-05-01 00:14:48.537</td>\n",
       "      <td>36.121581</td>\n",
       "      <td>-86.770304</td>\n",
       "      <td>Powered515</td>\n",
       "      <td>3.0</td>\n",
       "      <td>Gotcha</td>\n",
       "    </tr>\n",
       "    <tr>\n",
       "      <th>7716</th>\n",
       "      <td>2019-05-01 00:19:48.763</td>\n",
       "      <td>36.121581</td>\n",
       "      <td>-86.770304</td>\n",
       "      <td>Powered515</td>\n",
       "      <td>3.0</td>\n",
       "      <td>Gotcha</td>\n",
       "    </tr>\n",
       "    <tr>\n",
       "      <th>9911</th>\n",
       "      <td>2019-05-01 00:24:49.147</td>\n",
       "      <td>36.121581</td>\n",
       "      <td>-86.770304</td>\n",
       "      <td>Powered515</td>\n",
       "      <td>3.0</td>\n",
       "      <td>Gotcha</td>\n",
       "    </tr>\n",
       "    <tr>\n",
       "      <th>...</th>\n",
       "      <td>...</td>\n",
       "      <td>...</td>\n",
       "      <td>...</td>\n",
       "      <td>...</td>\n",
       "      <td>...</td>\n",
       "      <td>...</td>\n",
       "    </tr>\n",
       "    <tr>\n",
       "      <th>20277223</th>\n",
       "      <td>2019-05-31 23:37:12.950</td>\n",
       "      <td>36.121581</td>\n",
       "      <td>-86.770304</td>\n",
       "      <td>Powered515</td>\n",
       "      <td>3.0</td>\n",
       "      <td>Gotcha</td>\n",
       "    </tr>\n",
       "    <tr>\n",
       "      <th>20280669</th>\n",
       "      <td>2019-05-31 23:42:13.147</td>\n",
       "      <td>36.121581</td>\n",
       "      <td>-86.770304</td>\n",
       "      <td>Powered515</td>\n",
       "      <td>3.0</td>\n",
       "      <td>Gotcha</td>\n",
       "    </tr>\n",
       "    <tr>\n",
       "      <th>20284093</th>\n",
       "      <td>2019-05-31 23:47:13.240</td>\n",
       "      <td>36.121581</td>\n",
       "      <td>-86.770304</td>\n",
       "      <td>Powered515</td>\n",
       "      <td>3.0</td>\n",
       "      <td>Gotcha</td>\n",
       "    </tr>\n",
       "    <tr>\n",
       "      <th>20287541</th>\n",
       "      <td>2019-05-31 23:52:13.357</td>\n",
       "      <td>36.121581</td>\n",
       "      <td>-86.770304</td>\n",
       "      <td>Powered515</td>\n",
       "      <td>3.0</td>\n",
       "      <td>Gotcha</td>\n",
       "    </tr>\n",
       "    <tr>\n",
       "      <th>20290977</th>\n",
       "      <td>2019-05-31 23:57:13.567</td>\n",
       "      <td>36.121581</td>\n",
       "      <td>-86.770304</td>\n",
       "      <td>Powered515</td>\n",
       "      <td>3.0</td>\n",
       "      <td>Gotcha</td>\n",
       "    </tr>\n",
       "  </tbody>\n",
       "</table>\n",
       "<p>5769 rows × 6 columns</p>\n",
       "</div>"
      ],
      "text/plain": [
       "                     pubdatetime   latitude  longitude      sumdid  \\\n",
       "1150     2019-05-01 00:04:48.030  36.121581 -86.770304  Powered515   \n",
       "3318     2019-05-01 00:09:48.257  36.121581 -86.770304  Powered515   \n",
       "5542     2019-05-01 00:14:48.537  36.121581 -86.770304  Powered515   \n",
       "7716     2019-05-01 00:19:48.763  36.121581 -86.770304  Powered515   \n",
       "9911     2019-05-01 00:24:49.147  36.121581 -86.770304  Powered515   \n",
       "...                          ...        ...        ...         ...   \n",
       "20277223 2019-05-31 23:37:12.950  36.121581 -86.770304  Powered515   \n",
       "20280669 2019-05-31 23:42:13.147  36.121581 -86.770304  Powered515   \n",
       "20284093 2019-05-31 23:47:13.240  36.121581 -86.770304  Powered515   \n",
       "20287541 2019-05-31 23:52:13.357  36.121581 -86.770304  Powered515   \n",
       "20290977 2019-05-31 23:57:13.567  36.121581 -86.770304  Powered515   \n",
       "\n",
       "          chargelevel companyname  \n",
       "1150              3.0      Gotcha  \n",
       "3318              3.0      Gotcha  \n",
       "5542              3.0      Gotcha  \n",
       "7716              3.0      Gotcha  \n",
       "9911              3.0      Gotcha  \n",
       "...               ...         ...  \n",
       "20277223          3.0      Gotcha  \n",
       "20280669          3.0      Gotcha  \n",
       "20284093          3.0      Gotcha  \n",
       "20287541          3.0      Gotcha  \n",
       "20290977          3.0      Gotcha  \n",
       "\n",
       "[5769 rows x 6 columns]"
      ]
     },
     "execution_count": 15,
     "metadata": {},
     "output_type": "execute_result"
    }
   ],
   "source": [
    "may.loc[(may['sumdid'] == 'Powered515')]"
   ]
  },
  {
   "cell_type": "code",
   "execution_count": 16,
   "id": "4be04eec",
   "metadata": {
    "scrolled": false
   },
   "outputs": [
    {
     "data": {
      "text/html": [
       "<div>\n",
       "<style scoped>\n",
       "    .dataframe tbody tr th:only-of-type {\n",
       "        vertical-align: middle;\n",
       "    }\n",
       "\n",
       "    .dataframe tbody tr th {\n",
       "        vertical-align: top;\n",
       "    }\n",
       "\n",
       "    .dataframe thead th {\n",
       "        text-align: right;\n",
       "    }\n",
       "</style>\n",
       "<table border=\"1\" class=\"dataframe\">\n",
       "  <thead>\n",
       "    <tr style=\"text-align: right;\">\n",
       "      <th></th>\n",
       "      <th>pubdatetime</th>\n",
       "      <th>latitude</th>\n",
       "      <th>longitude</th>\n",
       "      <th>sumdid</th>\n",
       "      <th>chargelevel</th>\n",
       "      <th>companyname</th>\n",
       "    </tr>\n",
       "  </thead>\n",
       "  <tbody>\n",
       "    <tr>\n",
       "      <th>1206</th>\n",
       "      <td>2019-05-01 00:04:48.030</td>\n",
       "      <td>36.121391</td>\n",
       "      <td>-86.770298</td>\n",
       "      <td>Powered609</td>\n",
       "      <td>0.0</td>\n",
       "      <td>Gotcha</td>\n",
       "    </tr>\n",
       "    <tr>\n",
       "      <th>3419</th>\n",
       "      <td>2019-05-01 00:09:48.257</td>\n",
       "      <td>36.121391</td>\n",
       "      <td>-86.770298</td>\n",
       "      <td>Powered609</td>\n",
       "      <td>0.0</td>\n",
       "      <td>Gotcha</td>\n",
       "    </tr>\n",
       "    <tr>\n",
       "      <th>5584</th>\n",
       "      <td>2019-05-01 00:14:48.537</td>\n",
       "      <td>36.121391</td>\n",
       "      <td>-86.770298</td>\n",
       "      <td>Powered609</td>\n",
       "      <td>0.0</td>\n",
       "      <td>Gotcha</td>\n",
       "    </tr>\n",
       "    <tr>\n",
       "      <th>7774</th>\n",
       "      <td>2019-05-01 00:19:48.763</td>\n",
       "      <td>36.121391</td>\n",
       "      <td>-86.770298</td>\n",
       "      <td>Powered609</td>\n",
       "      <td>0.0</td>\n",
       "      <td>Gotcha</td>\n",
       "    </tr>\n",
       "    <tr>\n",
       "      <th>9972</th>\n",
       "      <td>2019-05-01 00:24:49.147</td>\n",
       "      <td>36.121391</td>\n",
       "      <td>-86.770298</td>\n",
       "      <td>Powered609</td>\n",
       "      <td>0.0</td>\n",
       "      <td>Gotcha</td>\n",
       "    </tr>\n",
       "    <tr>\n",
       "      <th>...</th>\n",
       "      <td>...</td>\n",
       "      <td>...</td>\n",
       "      <td>...</td>\n",
       "      <td>...</td>\n",
       "      <td>...</td>\n",
       "      <td>...</td>\n",
       "    </tr>\n",
       "    <tr>\n",
       "      <th>20277178</th>\n",
       "      <td>2019-05-31 23:37:12.950</td>\n",
       "      <td>36.121391</td>\n",
       "      <td>-86.770298</td>\n",
       "      <td>Powered609</td>\n",
       "      <td>0.0</td>\n",
       "      <td>Gotcha</td>\n",
       "    </tr>\n",
       "    <tr>\n",
       "      <th>20280587</th>\n",
       "      <td>2019-05-31 23:42:13.147</td>\n",
       "      <td>36.121391</td>\n",
       "      <td>-86.770298</td>\n",
       "      <td>Powered609</td>\n",
       "      <td>0.0</td>\n",
       "      <td>Gotcha</td>\n",
       "    </tr>\n",
       "    <tr>\n",
       "      <th>20284162</th>\n",
       "      <td>2019-05-31 23:47:13.240</td>\n",
       "      <td>36.121391</td>\n",
       "      <td>-86.770298</td>\n",
       "      <td>Powered609</td>\n",
       "      <td>0.0</td>\n",
       "      <td>Gotcha</td>\n",
       "    </tr>\n",
       "    <tr>\n",
       "      <th>20287607</th>\n",
       "      <td>2019-05-31 23:52:13.357</td>\n",
       "      <td>36.121391</td>\n",
       "      <td>-86.770298</td>\n",
       "      <td>Powered609</td>\n",
       "      <td>0.0</td>\n",
       "      <td>Gotcha</td>\n",
       "    </tr>\n",
       "    <tr>\n",
       "      <th>20291016</th>\n",
       "      <td>2019-05-31 23:57:13.567</td>\n",
       "      <td>36.121391</td>\n",
       "      <td>-86.770298</td>\n",
       "      <td>Powered609</td>\n",
       "      <td>0.0</td>\n",
       "      <td>Gotcha</td>\n",
       "    </tr>\n",
       "  </tbody>\n",
       "</table>\n",
       "<p>5769 rows × 6 columns</p>\n",
       "</div>"
      ],
      "text/plain": [
       "                     pubdatetime   latitude  longitude      sumdid  \\\n",
       "1206     2019-05-01 00:04:48.030  36.121391 -86.770298  Powered609   \n",
       "3419     2019-05-01 00:09:48.257  36.121391 -86.770298  Powered609   \n",
       "5584     2019-05-01 00:14:48.537  36.121391 -86.770298  Powered609   \n",
       "7774     2019-05-01 00:19:48.763  36.121391 -86.770298  Powered609   \n",
       "9972     2019-05-01 00:24:49.147  36.121391 -86.770298  Powered609   \n",
       "...                          ...        ...        ...         ...   \n",
       "20277178 2019-05-31 23:37:12.950  36.121391 -86.770298  Powered609   \n",
       "20280587 2019-05-31 23:42:13.147  36.121391 -86.770298  Powered609   \n",
       "20284162 2019-05-31 23:47:13.240  36.121391 -86.770298  Powered609   \n",
       "20287607 2019-05-31 23:52:13.357  36.121391 -86.770298  Powered609   \n",
       "20291016 2019-05-31 23:57:13.567  36.121391 -86.770298  Powered609   \n",
       "\n",
       "          chargelevel companyname  \n",
       "1206              0.0      Gotcha  \n",
       "3419              0.0      Gotcha  \n",
       "5584              0.0      Gotcha  \n",
       "7774              0.0      Gotcha  \n",
       "9972              0.0      Gotcha  \n",
       "...               ...         ...  \n",
       "20277178          0.0      Gotcha  \n",
       "20280587          0.0      Gotcha  \n",
       "20284162          0.0      Gotcha  \n",
       "20287607          0.0      Gotcha  \n",
       "20291016          0.0      Gotcha  \n",
       "\n",
       "[5769 rows x 6 columns]"
      ]
     },
     "execution_count": 16,
     "metadata": {},
     "output_type": "execute_result"
    }
   ],
   "source": [
    "may.loc[(may['sumdid'] == 'Powered609')]"
   ]
  },
  {
   "cell_type": "code",
   "execution_count": null,
   "id": "23c3f1eb",
   "metadata": {},
   "outputs": [],
   "source": [
    "#merage successfully but take long time. \n",
    "may['geometry'] = may.apply(lambda x: Point((x.longitude, \n",
    "                                            x.latitude)), \n",
    "                                        axis=1)\n",
    "may.head(3) "
   ]
  },
  {
   "cell_type": "code",
   "execution_count": null,
   "id": "e1b8a6df",
   "metadata": {},
   "outputs": [],
   "source": []
  }
 ],
 "metadata": {
  "kernelspec": {
   "display_name": "Python 3 (ipykernel)",
   "language": "python",
   "name": "python3"
  },
  "language_info": {
   "codemirror_mode": {
    "name": "ipython",
    "version": 3
   },
   "file_extension": ".py",
   "mimetype": "text/x-python",
   "name": "python",
   "nbconvert_exporter": "python",
   "pygments_lexer": "ipython3",
   "version": "3.8.5"
  }
 },
 "nbformat": 4,
 "nbformat_minor": 5
}
