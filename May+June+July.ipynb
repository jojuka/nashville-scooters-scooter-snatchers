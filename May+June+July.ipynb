{
 "cells": [
  {
   "cell_type": "code",
   "execution_count": 11,
   "id": "62fcfb7b",
   "metadata": {},
   "outputs": [
    {
     "data": {
      "text/plain": [
       "(20292503, 9)"
      ]
     },
     "execution_count": 11,
     "metadata": {},
     "output_type": "execute_result"
    }
   ],
   "source": [
    "import pandas as pd\n",
    "may = pd.read_csv('C:/Users/6106057/nss-data-analytics/projects/nashville-scooters-scooter-snatchers/data/may.csv')\n",
    "may.shape"
   ]
  },
  {
   "cell_type": "code",
   "execution_count": 12,
   "id": "85e16e86",
   "metadata": {},
   "outputs": [
    {
     "data": {
      "text/html": [
       "<div>\n",
       "<style scoped>\n",
       "    .dataframe tbody tr th:only-of-type {\n",
       "        vertical-align: middle;\n",
       "    }\n",
       "\n",
       "    .dataframe tbody tr th {\n",
       "        vertical-align: top;\n",
       "    }\n",
       "\n",
       "    .dataframe thead th {\n",
       "        text-align: right;\n",
       "    }\n",
       "</style>\n",
       "<table border=\"1\" class=\"dataframe\">\n",
       "  <thead>\n",
       "    <tr style=\"text-align: right;\">\n",
       "      <th></th>\n",
       "      <th>pubdatetime</th>\n",
       "      <th>latitude</th>\n",
       "      <th>longitude</th>\n",
       "      <th>sumdid</th>\n",
       "      <th>sumdtype</th>\n",
       "      <th>chargelevel</th>\n",
       "      <th>sumdgroup</th>\n",
       "      <th>costpermin</th>\n",
       "      <th>companyname</th>\n",
       "    </tr>\n",
       "  </thead>\n",
       "  <tbody>\n",
       "    <tr>\n",
       "      <th>0</th>\n",
       "      <td>2019-05-01 00:01:41.247000</td>\n",
       "      <td>36.136822</td>\n",
       "      <td>-86.799877</td>\n",
       "      <td>PoweredLIRL1</td>\n",
       "      <td>Powered</td>\n",
       "      <td>93.0</td>\n",
       "      <td>scooter</td>\n",
       "      <td>0.0</td>\n",
       "      <td>Bird</td>\n",
       "    </tr>\n",
       "    <tr>\n",
       "      <th>1</th>\n",
       "      <td>2019-05-01 00:01:41.247000</td>\n",
       "      <td>36.191252</td>\n",
       "      <td>-86.772945</td>\n",
       "      <td>PoweredXWRWC</td>\n",
       "      <td>Powered</td>\n",
       "      <td>35.0</td>\n",
       "      <td>scooter</td>\n",
       "      <td>0.0</td>\n",
       "      <td>Bird</td>\n",
       "    </tr>\n",
       "    <tr>\n",
       "      <th>2</th>\n",
       "      <td>2019-05-01 00:01:41.247000</td>\n",
       "      <td>36.144752</td>\n",
       "      <td>-86.806293</td>\n",
       "      <td>PoweredMEJEH</td>\n",
       "      <td>Powered</td>\n",
       "      <td>90.0</td>\n",
       "      <td>scooter</td>\n",
       "      <td>0.0</td>\n",
       "      <td>Bird</td>\n",
       "    </tr>\n",
       "    <tr>\n",
       "      <th>3</th>\n",
       "      <td>2019-05-01 00:01:41.247000</td>\n",
       "      <td>36.162056</td>\n",
       "      <td>-86.774688</td>\n",
       "      <td>Powered1A7TC</td>\n",
       "      <td>Powered</td>\n",
       "      <td>88.0</td>\n",
       "      <td>scooter</td>\n",
       "      <td>0.0</td>\n",
       "      <td>Bird</td>\n",
       "    </tr>\n",
       "    <tr>\n",
       "      <th>4</th>\n",
       "      <td>2019-05-01 00:01:41.247000</td>\n",
       "      <td>36.150973</td>\n",
       "      <td>-86.783109</td>\n",
       "      <td>Powered2TYEF</td>\n",
       "      <td>Powered</td>\n",
       "      <td>98.0</td>\n",
       "      <td>scooter</td>\n",
       "      <td>0.0</td>\n",
       "      <td>Bird</td>\n",
       "    </tr>\n",
       "    <tr>\n",
       "      <th>5</th>\n",
       "      <td>2019-05-01 00:01:41.247000</td>\n",
       "      <td>36.157188</td>\n",
       "      <td>-86.769978</td>\n",
       "      <td>Powered3F3VK</td>\n",
       "      <td>Powered</td>\n",
       "      <td>82.0</td>\n",
       "      <td>scooter</td>\n",
       "      <td>0.0</td>\n",
       "      <td>Bird</td>\n",
       "    </tr>\n",
       "    <tr>\n",
       "      <th>6</th>\n",
       "      <td>2019-05-01 00:01:41.247000</td>\n",
       "      <td>36.154348</td>\n",
       "      <td>-86.784765</td>\n",
       "      <td>PoweredVL7YG</td>\n",
       "      <td>Powered</td>\n",
       "      <td>56.0</td>\n",
       "      <td>scooter</td>\n",
       "      <td>0.0</td>\n",
       "      <td>Bird</td>\n",
       "    </tr>\n",
       "    <tr>\n",
       "      <th>7</th>\n",
       "      <td>2019-05-01 00:01:41.247000</td>\n",
       "      <td>36.158930</td>\n",
       "      <td>-86.775987</td>\n",
       "      <td>Powered5LNUG</td>\n",
       "      <td>Powered</td>\n",
       "      <td>100.0</td>\n",
       "      <td>scooter</td>\n",
       "      <td>0.0</td>\n",
       "      <td>Bird</td>\n",
       "    </tr>\n",
       "    <tr>\n",
       "      <th>8</th>\n",
       "      <td>2019-05-01 00:01:41.247000</td>\n",
       "      <td>36.135993</td>\n",
       "      <td>-86.804226</td>\n",
       "      <td>Powered7SPQQ</td>\n",
       "      <td>Powered</td>\n",
       "      <td>85.0</td>\n",
       "      <td>scooter</td>\n",
       "      <td>0.0</td>\n",
       "      <td>Bird</td>\n",
       "    </tr>\n",
       "    <tr>\n",
       "      <th>9</th>\n",
       "      <td>2019-05-01 00:01:41.247000</td>\n",
       "      <td>36.148938</td>\n",
       "      <td>-86.811256</td>\n",
       "      <td>PoweredBV1DT</td>\n",
       "      <td>Powered</td>\n",
       "      <td>65.0</td>\n",
       "      <td>scooter</td>\n",
       "      <td>0.0</td>\n",
       "      <td>Bird</td>\n",
       "    </tr>\n",
       "  </tbody>\n",
       "</table>\n",
       "</div>"
      ],
      "text/plain": [
       "                  pubdatetime   latitude  longitude        sumdid sumdtype  \\\n",
       "0  2019-05-01 00:01:41.247000  36.136822 -86.799877  PoweredLIRL1  Powered   \n",
       "1  2019-05-01 00:01:41.247000  36.191252 -86.772945  PoweredXWRWC  Powered   \n",
       "2  2019-05-01 00:01:41.247000  36.144752 -86.806293  PoweredMEJEH  Powered   \n",
       "3  2019-05-01 00:01:41.247000  36.162056 -86.774688  Powered1A7TC  Powered   \n",
       "4  2019-05-01 00:01:41.247000  36.150973 -86.783109  Powered2TYEF  Powered   \n",
       "5  2019-05-01 00:01:41.247000  36.157188 -86.769978  Powered3F3VK  Powered   \n",
       "6  2019-05-01 00:01:41.247000  36.154348 -86.784765  PoweredVL7YG  Powered   \n",
       "7  2019-05-01 00:01:41.247000  36.158930 -86.775987  Powered5LNUG  Powered   \n",
       "8  2019-05-01 00:01:41.247000  36.135993 -86.804226  Powered7SPQQ  Powered   \n",
       "9  2019-05-01 00:01:41.247000  36.148938 -86.811256  PoweredBV1DT  Powered   \n",
       "\n",
       "   chargelevel sumdgroup  costpermin companyname  \n",
       "0         93.0   scooter         0.0        Bird  \n",
       "1         35.0   scooter         0.0        Bird  \n",
       "2         90.0   scooter         0.0        Bird  \n",
       "3         88.0   scooter         0.0        Bird  \n",
       "4         98.0   scooter         0.0        Bird  \n",
       "5         82.0   scooter         0.0        Bird  \n",
       "6         56.0   scooter         0.0        Bird  \n",
       "7        100.0   scooter         0.0        Bird  \n",
       "8         85.0   scooter         0.0        Bird  \n",
       "9         65.0   scooter         0.0        Bird  "
      ]
     },
     "execution_count": 12,
     "metadata": {},
     "output_type": "execute_result"
    }
   ],
   "source": [
    "may.head(10)"
   ]
  },
  {
   "cell_type": "code",
   "execution_count": 9,
   "id": "2649f3a6",
   "metadata": {},
   "outputs": [
    {
     "data": {
      "text/plain": [
       "(28046095, 9)"
      ]
     },
     "execution_count": 9,
     "metadata": {},
     "output_type": "execute_result"
    }
   ],
   "source": [
    "june = pd.read_csv('C:/Users/6106057/nss-data-analytics/projects/nashville-scooters-scooter-snatchers/data/june.csv')\n",
    "june.shape"
   ]
  },
  {
   "cell_type": "code",
   "execution_count": 10,
   "id": "5b6ab630",
   "metadata": {},
   "outputs": [
    {
     "data": {
      "text/plain": [
       "(25075445, 9)"
      ]
     },
     "execution_count": 10,
     "metadata": {},
     "output_type": "execute_result"
    }
   ],
   "source": [
    "july = pd.read_csv('C:/Users/6106057/nss-data-analytics/projects/nashville-scooters-scooter-snatchers/data/july.csv')\n",
    "july.shape"
   ]
  },
  {
   "cell_type": "code",
   "execution_count": 13,
   "id": "0a6f3ab8",
   "metadata": {},
   "outputs": [
    {
     "data": {
      "text/plain": [
       "array(['scooter', 'Scooter', 'bicycle'], dtype=object)"
      ]
     },
     "execution_count": 13,
     "metadata": {},
     "output_type": "execute_result"
    }
   ],
   "source": [
    "may.sumdgroup.unique()"
   ]
  },
  {
   "cell_type": "code",
   "execution_count": 15,
   "id": "e92f7d93",
   "metadata": {},
   "outputs": [
    {
     "data": {
      "text/plain": [
       "0.00    10918645\n",
       "0.15     5577488\n",
       "0.06     2741578\n",
       "0.23     1051915\n",
       "0.05        2877\n",
       "Name: costpermin, dtype: int64"
      ]
     },
     "execution_count": 15,
     "metadata": {},
     "output_type": "execute_result"
    }
   ],
   "source": [
    "may.costpermin.value_counts()"
   ]
  },
  {
   "cell_type": "code",
   "execution_count": 19,
   "id": "fe01f8bc",
   "metadata": {
    "scrolled": true
   },
   "outputs": [
    {
     "data": {
      "text/plain": [
       "scooter    17542872\n",
       "Scooter     2740710\n",
       "bicycle        8921\n",
       "Name: sumdgroup, dtype: int64"
      ]
     },
     "execution_count": 19,
     "metadata": {},
     "output_type": "execute_result"
    }
   ],
   "source": [
    "may.sumdgroup.value_counts()"
   ]
  },
  {
   "cell_type": "code",
   "execution_count": 22,
   "id": "793bee5b",
   "metadata": {},
   "outputs": [
    {
     "data": {
      "text/plain": [
       "Lime      7120576\n",
       "Bird      4334006\n",
       "Lyft      3112581\n",
       "Jump      2984630\n",
       "Spin      1301001\n",
       "Gotcha     915314\n",
       "Bolt       524395\n",
       "Name: companyname, dtype: int64"
      ]
     },
     "execution_count": 22,
     "metadata": {},
     "output_type": "execute_result"
    }
   ],
   "source": [
    "may.companyname.value_counts()"
   ]
  },
  {
   "cell_type": "code",
   "execution_count": null,
   "id": "8b29691c",
   "metadata": {},
   "outputs": [],
   "source": []
  }
 ],
 "metadata": {
  "kernelspec": {
   "display_name": "Python 3",
   "language": "python",
   "name": "python3"
  },
  "language_info": {
   "codemirror_mode": {
    "name": "ipython",
    "version": 3
   },
   "file_extension": ".py",
   "mimetype": "text/x-python",
   "name": "python",
   "nbconvert_exporter": "python",
   "pygments_lexer": "ipython3",
   "version": "3.8.8"
  }
 },
 "nbformat": 4,
 "nbformat_minor": 5
}
