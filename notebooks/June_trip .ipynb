{
 "cells": [
  {
   "cell_type": "code",
   "execution_count": 3,
   "id": "47b3ef1a",
   "metadata": {},
   "outputs": [],
   "source": [
    "import pandas as pd\n",
    "import pickle\n",
    "import matplotlib.pyplot as plt\n",
    "from shapely.geometry import Point\n",
    "import geopandas as gpd\n",
    "import folium\n",
    "from folium.plugins import MarkerCluster\n",
    "from folium.plugins import FastMarkerCluster\n",
    "\n",
    "%matplotlib inline"
   ]
  },
  {
   "cell_type": "code",
   "execution_count": 7,
   "id": "36affa3b",
   "metadata": {
    "scrolled": true
   },
   "outputs": [],
   "source": [
    "june_trip = pd.read_csv('../data/june_trip.csv')"
   ]
  },
  {
   "cell_type": "code",
   "execution_count": 8,
   "id": "c5766cd5",
   "metadata": {
    "scrolled": false
   },
   "outputs": [
    {
     "name": "stdout",
     "output_type": "stream",
     "text": [
      "<class 'pandas.core.frame.DataFrame'>\n",
      "RangeIndex: 205627 entries, 0 to 205626\n",
      "Data columns (total 16 columns):\n",
      " #   Column          Non-Null Count   Dtype  \n",
      "---  ------          --------------   -----  \n",
      " 0   pubTimeStamp    205627 non-null  object \n",
      " 1   companyName     205627 non-null  object \n",
      " 2   tripRecordNum   205627 non-null  object \n",
      " 3   sumdID          205627 non-null  object \n",
      " 4   tripDuration    205627 non-null  float64\n",
      " 5   tripDistance    205627 non-null  float64\n",
      " 6   startDate       205627 non-null  object \n",
      " 7   startTime       205627 non-null  object \n",
      " 8   endDate         205627 non-null  object \n",
      " 9   endTime         205627 non-null  object \n",
      " 10  startLatitude   205627 non-null  float64\n",
      " 11  startLongitude  205627 non-null  float64\n",
      " 12  endLatitude     205627 non-null  float64\n",
      " 13  endLongitude    205627 non-null  float64\n",
      " 14  tripRoute       205627 non-null  object \n",
      " 15  create_dt       205627 non-null  object \n",
      "dtypes: float64(6), object(10)\n",
      "memory usage: 25.1+ MB\n"
     ]
    }
   ],
   "source": [
    "june_trip.info()"
   ]
  },
  {
   "cell_type": "code",
   "execution_count": 11,
   "id": "b647f490",
   "metadata": {
    "scrolled": true
   },
   "outputs": [
    {
     "data": {
      "text/html": [
       "<div>\n",
       "<style scoped>\n",
       "    .dataframe tbody tr th:only-of-type {\n",
       "        vertical-align: middle;\n",
       "    }\n",
       "\n",
       "    .dataframe tbody tr th {\n",
       "        vertical-align: top;\n",
       "    }\n",
       "\n",
       "    .dataframe thead th {\n",
       "        text-align: right;\n",
       "    }\n",
       "</style>\n",
       "<table border=\"1\" class=\"dataframe\">\n",
       "  <thead>\n",
       "    <tr style=\"text-align: right;\">\n",
       "      <th></th>\n",
       "      <th>pubTimeStamp</th>\n",
       "      <th>companyName</th>\n",
       "      <th>tripRecordNum</th>\n",
       "      <th>sumdID</th>\n",
       "      <th>tripDuration</th>\n",
       "      <th>tripDistance</th>\n",
       "      <th>startDate</th>\n",
       "      <th>startTime</th>\n",
       "      <th>endDate</th>\n",
       "      <th>endTime</th>\n",
       "      <th>startLatitude</th>\n",
       "      <th>startLongitude</th>\n",
       "      <th>endLatitude</th>\n",
       "      <th>endLongitude</th>\n",
       "      <th>tripRoute</th>\n",
       "      <th>create_dt</th>\n",
       "      <th>start_dt</th>\n",
       "      <th>end_dt</th>\n",
       "      <th>time_diff</th>\n",
       "    </tr>\n",
       "  </thead>\n",
       "  <tbody>\n",
       "    <tr>\n",
       "      <th>0</th>\n",
       "      <td>2019-06-01 00:05:46.817000</td>\n",
       "      <td>Bird</td>\n",
       "      <td>BRD3572</td>\n",
       "      <td>PoweredSPI1T</td>\n",
       "      <td>4.0</td>\n",
       "      <td>328.084000</td>\n",
       "      <td>2019-06-01 00:00:00</td>\n",
       "      <td>00:02:18.203333</td>\n",
       "      <td>2019-06-01 00:00:00</td>\n",
       "      <td>00:06:16.406666</td>\n",
       "      <td>36.164400</td>\n",
       "      <td>-86.78070</td>\n",
       "      <td>36.163600</td>\n",
       "      <td>-86.780200</td>\n",
       "      <td>[[36.164679,-86.781089],[36.163693,-86.78011],...</td>\n",
       "      <td>2019-06-02 05:30:19.960000</td>\n",
       "      <td>2019-06-01 00:02:18.203333</td>\n",
       "      <td>2019-06-01 00:06:16.406666</td>\n",
       "      <td>0 days 00:03:58.203333</td>\n",
       "    </tr>\n",
       "    <tr>\n",
       "      <th>1</th>\n",
       "      <td>2019-06-01 00:05:46.817000</td>\n",
       "      <td>Bird</td>\n",
       "      <td>BRD3571</td>\n",
       "      <td>Powered2I3MS</td>\n",
       "      <td>5.0</td>\n",
       "      <td>4921.260000</td>\n",
       "      <td>2019-06-01 00:00:00</td>\n",
       "      <td>00:02:44.803333</td>\n",
       "      <td>2019-06-01 00:00:00</td>\n",
       "      <td>00:07:28.286666</td>\n",
       "      <td>36.175300</td>\n",
       "      <td>-86.79430</td>\n",
       "      <td>36.175300</td>\n",
       "      <td>-86.794300</td>\n",
       "      <td>[[36.175367,-86.794232],[36.175367,-86.794232]...</td>\n",
       "      <td>2019-06-02 05:30:19.927000</td>\n",
       "      <td>2019-06-01 00:02:44.803333</td>\n",
       "      <td>2019-06-01 00:07:28.286666</td>\n",
       "      <td>0 days 00:04:43.483333</td>\n",
       "    </tr>\n",
       "    <tr>\n",
       "      <th>2</th>\n",
       "      <td>2019-06-01 00:09:54</td>\n",
       "      <td>Gotcha</td>\n",
       "      <td>GOT1</td>\n",
       "      <td>Powered327</td>\n",
       "      <td>12.0</td>\n",
       "      <td>12.426575</td>\n",
       "      <td>2019-06-01 00:00:00</td>\n",
       "      <td>00:09:56</td>\n",
       "      <td>2019-06-01 00:00:00</td>\n",
       "      <td>00:21:56</td>\n",
       "      <td>36.161501</td>\n",
       "      <td>-86.77601</td>\n",
       "      <td>36.152529</td>\n",
       "      <td>-86.783742</td>\n",
       "      <td>[[\"36.16149\",\"-86.77605000000001\"]]</td>\n",
       "      <td>2019-06-06 22:23:08.673000</td>\n",
       "      <td>2019-06-01 00:09:56.000000</td>\n",
       "      <td>2019-06-01 00:21:56.000000</td>\n",
       "      <td>0 days 00:12:00</td>\n",
       "    </tr>\n",
       "    <tr>\n",
       "      <th>3</th>\n",
       "      <td>2019-06-01 00:10:46.957000</td>\n",
       "      <td>Bird</td>\n",
       "      <td>BRD3610</td>\n",
       "      <td>Powered8U1A6</td>\n",
       "      <td>2.0</td>\n",
       "      <td>0.000000</td>\n",
       "      <td>2019-06-01 00:00:00</td>\n",
       "      <td>00:10:31.163333</td>\n",
       "      <td>2019-06-01 00:00:00</td>\n",
       "      <td>00:12:02.773333</td>\n",
       "      <td>36.164000</td>\n",
       "      <td>-86.78070</td>\n",
       "      <td>36.163100</td>\n",
       "      <td>-86.779700</td>\n",
       "      <td>[[36.163168,-86.779639]]</td>\n",
       "      <td>2019-06-02 05:30:20.283000</td>\n",
       "      <td>2019-06-01 00:10:31.163333</td>\n",
       "      <td>2019-06-01 00:12:02.773333</td>\n",
       "      <td>0 days 00:01:31.610000</td>\n",
       "    </tr>\n",
       "    <tr>\n",
       "      <th>4</th>\n",
       "      <td>2019-06-01 00:10:46.957000</td>\n",
       "      <td>Bird</td>\n",
       "      <td>BRD3612</td>\n",
       "      <td>PoweredSPI1T</td>\n",
       "      <td>5.0</td>\n",
       "      <td>656.168000</td>\n",
       "      <td>2019-06-01 00:00:00</td>\n",
       "      <td>00:07:21.430000</td>\n",
       "      <td>2019-06-01 00:00:00</td>\n",
       "      <td>00:12:30.913333</td>\n",
       "      <td>36.165000</td>\n",
       "      <td>-86.77990</td>\n",
       "      <td>36.165900</td>\n",
       "      <td>-86.777800</td>\n",
       "      <td>[[36.164951,-86.779836],[36.16494,-86.779456],...</td>\n",
       "      <td>2019-06-02 05:30:20.347000</td>\n",
       "      <td>2019-06-01 00:07:21.430000</td>\n",
       "      <td>2019-06-01 00:12:30.913333</td>\n",
       "      <td>0 days 00:05:09.483333</td>\n",
       "    </tr>\n",
       "  </tbody>\n",
       "</table>\n",
       "</div>"
      ],
      "text/plain": [
       "                 pubTimeStamp companyName tripRecordNum        sumdID  \\\n",
       "0  2019-06-01 00:05:46.817000        Bird       BRD3572  PoweredSPI1T   \n",
       "1  2019-06-01 00:05:46.817000        Bird       BRD3571  Powered2I3MS   \n",
       "2         2019-06-01 00:09:54      Gotcha          GOT1    Powered327   \n",
       "3  2019-06-01 00:10:46.957000        Bird       BRD3610  Powered8U1A6   \n",
       "4  2019-06-01 00:10:46.957000        Bird       BRD3612  PoweredSPI1T   \n",
       "\n",
       "   tripDuration  tripDistance            startDate        startTime  \\\n",
       "0           4.0    328.084000  2019-06-01 00:00:00  00:02:18.203333   \n",
       "1           5.0   4921.260000  2019-06-01 00:00:00  00:02:44.803333   \n",
       "2          12.0     12.426575  2019-06-01 00:00:00         00:09:56   \n",
       "3           2.0      0.000000  2019-06-01 00:00:00  00:10:31.163333   \n",
       "4           5.0    656.168000  2019-06-01 00:00:00  00:07:21.430000   \n",
       "\n",
       "               endDate          endTime  startLatitude  startLongitude  \\\n",
       "0  2019-06-01 00:00:00  00:06:16.406666      36.164400       -86.78070   \n",
       "1  2019-06-01 00:00:00  00:07:28.286666      36.175300       -86.79430   \n",
       "2  2019-06-01 00:00:00         00:21:56      36.161501       -86.77601   \n",
       "3  2019-06-01 00:00:00  00:12:02.773333      36.164000       -86.78070   \n",
       "4  2019-06-01 00:00:00  00:12:30.913333      36.165000       -86.77990   \n",
       "\n",
       "   endLatitude  endLongitude  \\\n",
       "0    36.163600    -86.780200   \n",
       "1    36.175300    -86.794300   \n",
       "2    36.152529    -86.783742   \n",
       "3    36.163100    -86.779700   \n",
       "4    36.165900    -86.777800   \n",
       "\n",
       "                                           tripRoute  \\\n",
       "0  [[36.164679,-86.781089],[36.163693,-86.78011],...   \n",
       "1  [[36.175367,-86.794232],[36.175367,-86.794232]...   \n",
       "2                [[\"36.16149\",\"-86.77605000000001\"]]   \n",
       "3                           [[36.163168,-86.779639]]   \n",
       "4  [[36.164951,-86.779836],[36.16494,-86.779456],...   \n",
       "\n",
       "                    create_dt                   start_dt  \\\n",
       "0  2019-06-02 05:30:19.960000 2019-06-01 00:02:18.203333   \n",
       "1  2019-06-02 05:30:19.927000 2019-06-01 00:02:44.803333   \n",
       "2  2019-06-06 22:23:08.673000 2019-06-01 00:09:56.000000   \n",
       "3  2019-06-02 05:30:20.283000 2019-06-01 00:10:31.163333   \n",
       "4  2019-06-02 05:30:20.347000 2019-06-01 00:07:21.430000   \n",
       "\n",
       "                      end_dt              time_diff  \n",
       "0 2019-06-01 00:06:16.406666 0 days 00:03:58.203333  \n",
       "1 2019-06-01 00:07:28.286666 0 days 00:04:43.483333  \n",
       "2 2019-06-01 00:21:56.000000        0 days 00:12:00  \n",
       "3 2019-06-01 00:12:02.773333 0 days 00:01:31.610000  \n",
       "4 2019-06-01 00:12:30.913333 0 days 00:05:09.483333  "
      ]
     },
     "execution_count": 11,
     "metadata": {},
     "output_type": "execute_result"
    }
   ],
   "source": [
    "june_trip['start_dt'] = pd.to_datetime(pd.to_datetime(june_trip['startDate']).astype(str) + ' ' + june_trip['startTime'])\n",
    "june_trip['end_dt'] = pd.to_datetime(pd.to_datetime(june_trip['endDate']).astype(str) + ' ' + june_trip['endTime'])\n",
    "june_trip['time_diff'] = (june_trip.end_dt - june_trip.start_dt )\n",
    "june_trip.head()"
   ]
  },
  {
   "cell_type": "raw",
   "id": "69e891cd",
   "metadata": {},
   "source": [
    "bar_may = may_trip[['companyName', 'time_diff']]\n",
    "bar_may.info()"
   ]
  },
  {
   "cell_type": "raw",
   "id": "3fbc5583",
   "metadata": {},
   "source": [
    "The graph for total riding time of each companies."
   ]
  },
  {
   "cell_type": "raw",
   "id": "6dad9787",
   "metadata": {},
   "source": [
    "# how many scooters outside. \n",
    "# the hours for the month 744 - hours on the road = parked hours (get mean pakring hours)"
   ]
  },
  {
   "cell_type": "raw",
   "id": "e0086fc2",
   "metadata": {
    "scrolled": true
   },
   "source": [
    "plt.bar('companyName', 'time_diff', data = bar_may)\n",
    "plt.xticks(rotation = 70)\n",
    "plt.title('Number of Siblings');"
   ]
  },
  {
   "cell_type": "raw",
   "id": "44351cdc",
   "metadata": {
    "scrolled": false
   },
   "source": [
    "gotcha = gotcha[['pubdatetime', 'latitude', 'longitude', 'sumdid', 'chargelevel', 'companyname']]"
   ]
  },
  {
   "cell_type": "raw",
   "id": "af9051a6",
   "metadata": {},
   "source": [
    "# riding time for scooter company = 24 hours - time riding = time parked;\n",
    "# 3 rides for each scooter per day"
   ]
  },
  {
   "cell_type": "code",
   "execution_count": 12,
   "id": "7379f2a0",
   "metadata": {
    "scrolled": true
   },
   "outputs": [
    {
     "data": {
      "text/plain": [
       "Lime             84728\n",
       "Bird             55014\n",
       "Lyft             37821\n",
       "SPIN             14294\n",
       "Bolt Mobility    10219\n",
       "Gotcha            1803\n",
       "JUMP              1748\n",
       "Name: companyName, dtype: int64"
      ]
     },
     "execution_count": 12,
     "metadata": {},
     "output_type": "execute_result"
    }
   ],
   "source": [
    "june_trip.companyName.value_counts()"
   ]
  },
  {
   "cell_type": "code",
   "execution_count": 14,
   "id": "15a5fbd1",
   "metadata": {
    "scrolled": false
   },
   "outputs": [],
   "source": [
    "lime = june_trip.loc[(june_trip['companyName'] == 'Lime')]\n",
    "lyft = june_trip.loc[(june_trip['companyName'] == 'Lyft')]\n",
    "bird = june_trip.loc[(june_trip['companyName'] == 'Bird')]\n",
    "spin = june_trip.loc[(june_trip['companyName'] == 'SPIN')]\n",
    "bolt = june_trip.loc[(june_trip['companyName'] == 'Bolt Mobility')]\n",
    "gotcha = june_trip.loc[(june_trip['companyName'] == 'Gotcha')]\n",
    "jump = june_trip.loc[(june_trip['companyName'] == 'JUMP')]"
   ]
  },
  {
   "cell_type": "code",
   "execution_count": 15,
   "id": "c87eb6f0",
   "metadata": {},
   "outputs": [
    {
     "data": {
      "text/plain": [
       "(84728, 19)"
      ]
     },
     "execution_count": 15,
     "metadata": {},
     "output_type": "execute_result"
    }
   ],
   "source": [
    "lime.shape"
   ]
  },
  {
   "cell_type": "code",
   "execution_count": 16,
   "id": "8d3fd315",
   "metadata": {
    "scrolled": true
   },
   "outputs": [
    {
     "data": {
      "text/html": [
       "<div>\n",
       "<style scoped>\n",
       "    .dataframe tbody tr th:only-of-type {\n",
       "        vertical-align: middle;\n",
       "    }\n",
       "\n",
       "    .dataframe tbody tr th {\n",
       "        vertical-align: top;\n",
       "    }\n",
       "\n",
       "    .dataframe thead th {\n",
       "        text-align: right;\n",
       "    }\n",
       "</style>\n",
       "<table border=\"1\" class=\"dataframe\">\n",
       "  <thead>\n",
       "    <tr style=\"text-align: right;\">\n",
       "      <th></th>\n",
       "      <th>pubTimeStamp</th>\n",
       "      <th>companyName</th>\n",
       "      <th>tripRecordNum</th>\n",
       "      <th>sumdID</th>\n",
       "      <th>tripDuration</th>\n",
       "      <th>tripDistance</th>\n",
       "      <th>startDate</th>\n",
       "      <th>startTime</th>\n",
       "      <th>endDate</th>\n",
       "      <th>endTime</th>\n",
       "      <th>startLatitude</th>\n",
       "      <th>startLongitude</th>\n",
       "      <th>endLatitude</th>\n",
       "      <th>endLongitude</th>\n",
       "      <th>tripRoute</th>\n",
       "      <th>create_dt</th>\n",
       "      <th>start_dt</th>\n",
       "      <th>end_dt</th>\n",
       "      <th>time_diff</th>\n",
       "    </tr>\n",
       "  </thead>\n",
       "  <tbody>\n",
       "    <tr>\n",
       "      <th>275</th>\n",
       "      <td>2019-06-01 00:54:40.193000</td>\n",
       "      <td>Lyft</td>\n",
       "      <td>LFT114</td>\n",
       "      <td>Powered878687</td>\n",
       "      <td>2.072250</td>\n",
       "      <td>580.70868</td>\n",
       "      <td>2019-06-01 00:00:00</td>\n",
       "      <td>00:52:35.763333</td>\n",
       "      <td>2019-06-01 00:00:00</td>\n",
       "      <td>00:54:40.100000</td>\n",
       "      <td>36.16146</td>\n",
       "      <td>-86.77741</td>\n",
       "      <td>36.16273</td>\n",
       "      <td>-86.77763</td>\n",
       "      <td>[[36.16146,-86.77741],[36.16151,-86.77743],[36...</td>\n",
       "      <td>2019-06-02 08:34:39.950000</td>\n",
       "      <td>2019-06-01 00:52:35.763333</td>\n",
       "      <td>2019-06-01 00:54:40.100000</td>\n",
       "      <td>0 days 00:02:04.336667</td>\n",
       "    </tr>\n",
       "    <tr>\n",
       "      <th>276</th>\n",
       "      <td>2019-06-01 00:54:43.317000</td>\n",
       "      <td>Lyft</td>\n",
       "      <td>LFT115</td>\n",
       "      <td>Powered449699</td>\n",
       "      <td>7.980650</td>\n",
       "      <td>4012.46732</td>\n",
       "      <td>2019-06-01 00:00:00</td>\n",
       "      <td>00:46:44.376666</td>\n",
       "      <td>2019-06-01 00:00:00</td>\n",
       "      <td>00:54:43.216666</td>\n",
       "      <td>36.17856</td>\n",
       "      <td>-86.79096</td>\n",
       "      <td>36.17875</td>\n",
       "      <td>-86.79093</td>\n",
       "      <td>[[36.17856,-86.79096],[36.17862,-86.79099],[36...</td>\n",
       "      <td>2019-06-02 08:34:39.983000</td>\n",
       "      <td>2019-06-01 00:46:44.376666</td>\n",
       "      <td>2019-06-01 00:54:43.216666</td>\n",
       "      <td>0 days 00:07:58.840000</td>\n",
       "    </tr>\n",
       "    <tr>\n",
       "      <th>362</th>\n",
       "      <td>2019-06-01 01:11:17.377000</td>\n",
       "      <td>Lyft</td>\n",
       "      <td>LFT158</td>\n",
       "      <td>Powered033388</td>\n",
       "      <td>24.994950</td>\n",
       "      <td>16049.86928</td>\n",
       "      <td>2019-06-01 00:00:00</td>\n",
       "      <td>00:46:17.583333</td>\n",
       "      <td>2019-06-01 00:00:00</td>\n",
       "      <td>01:11:17.280000</td>\n",
       "      <td>36.17639</td>\n",
       "      <td>-86.75218</td>\n",
       "      <td>36.19534</td>\n",
       "      <td>-86.72350</td>\n",
       "      <td>[[36.17639,-86.75218],[36.17641,-86.75223],[36...</td>\n",
       "      <td>2019-06-02 08:34:40.060000</td>\n",
       "      <td>2019-06-01 00:46:17.583333</td>\n",
       "      <td>2019-06-01 01:11:17.280000</td>\n",
       "      <td>0 days 00:24:59.696667</td>\n",
       "    </tr>\n",
       "    <tr>\n",
       "      <th>373</th>\n",
       "      <td>2019-06-01 01:12:30.443000</td>\n",
       "      <td>Lyft</td>\n",
       "      <td>LFT159</td>\n",
       "      <td>Powered878385</td>\n",
       "      <td>1.521600</td>\n",
       "      <td>52.49344</td>\n",
       "      <td>2019-06-01 00:00:00</td>\n",
       "      <td>01:10:58.910000</td>\n",
       "      <td>2019-06-01 00:00:00</td>\n",
       "      <td>01:12:30.206666</td>\n",
       "      <td>36.15256</td>\n",
       "      <td>-86.79106</td>\n",
       "      <td>36.15261</td>\n",
       "      <td>-86.79112</td>\n",
       "      <td>[[36.15256,-86.79106],[36.1526,-86.79109],[36....</td>\n",
       "      <td>2019-06-02 08:34:40.090000</td>\n",
       "      <td>2019-06-01 01:10:58.910000</td>\n",
       "      <td>2019-06-01 01:12:30.206666</td>\n",
       "      <td>0 days 00:01:31.296666</td>\n",
       "    </tr>\n",
       "    <tr>\n",
       "      <th>431</th>\n",
       "      <td>2019-06-01 01:22:30.543000</td>\n",
       "      <td>Lyft</td>\n",
       "      <td>LFT184</td>\n",
       "      <td>Powered689177</td>\n",
       "      <td>2.386933</td>\n",
       "      <td>0.00000</td>\n",
       "      <td>2019-06-01 00:00:00</td>\n",
       "      <td>01:20:07.213333</td>\n",
       "      <td>2019-06-01 00:00:00</td>\n",
       "      <td>01:22:30.426666</td>\n",
       "      <td>36.14656</td>\n",
       "      <td>-86.80973</td>\n",
       "      <td>36.14656</td>\n",
       "      <td>-86.80975</td>\n",
       "      <td>[[36.14656,-86.80973],[36.14656,-86.80975]]</td>\n",
       "      <td>2019-06-02 08:34:40.127000</td>\n",
       "      <td>2019-06-01 01:20:07.213333</td>\n",
       "      <td>2019-06-01 01:22:30.426666</td>\n",
       "      <td>0 days 00:02:23.213333</td>\n",
       "    </tr>\n",
       "  </tbody>\n",
       "</table>\n",
       "</div>"
      ],
      "text/plain": [
       "                   pubTimeStamp companyName tripRecordNum         sumdID  \\\n",
       "275  2019-06-01 00:54:40.193000        Lyft        LFT114  Powered878687   \n",
       "276  2019-06-01 00:54:43.317000        Lyft        LFT115  Powered449699   \n",
       "362  2019-06-01 01:11:17.377000        Lyft        LFT158  Powered033388   \n",
       "373  2019-06-01 01:12:30.443000        Lyft        LFT159  Powered878385   \n",
       "431  2019-06-01 01:22:30.543000        Lyft        LFT184  Powered689177   \n",
       "\n",
       "     tripDuration  tripDistance            startDate        startTime  \\\n",
       "275      2.072250     580.70868  2019-06-01 00:00:00  00:52:35.763333   \n",
       "276      7.980650    4012.46732  2019-06-01 00:00:00  00:46:44.376666   \n",
       "362     24.994950   16049.86928  2019-06-01 00:00:00  00:46:17.583333   \n",
       "373      1.521600      52.49344  2019-06-01 00:00:00  01:10:58.910000   \n",
       "431      2.386933       0.00000  2019-06-01 00:00:00  01:20:07.213333   \n",
       "\n",
       "                 endDate          endTime  startLatitude  startLongitude  \\\n",
       "275  2019-06-01 00:00:00  00:54:40.100000       36.16146       -86.77741   \n",
       "276  2019-06-01 00:00:00  00:54:43.216666       36.17856       -86.79096   \n",
       "362  2019-06-01 00:00:00  01:11:17.280000       36.17639       -86.75218   \n",
       "373  2019-06-01 00:00:00  01:12:30.206666       36.15256       -86.79106   \n",
       "431  2019-06-01 00:00:00  01:22:30.426666       36.14656       -86.80973   \n",
       "\n",
       "     endLatitude  endLongitude  \\\n",
       "275     36.16273     -86.77763   \n",
       "276     36.17875     -86.79093   \n",
       "362     36.19534     -86.72350   \n",
       "373     36.15261     -86.79112   \n",
       "431     36.14656     -86.80975   \n",
       "\n",
       "                                             tripRoute  \\\n",
       "275  [[36.16146,-86.77741],[36.16151,-86.77743],[36...   \n",
       "276  [[36.17856,-86.79096],[36.17862,-86.79099],[36...   \n",
       "362  [[36.17639,-86.75218],[36.17641,-86.75223],[36...   \n",
       "373  [[36.15256,-86.79106],[36.1526,-86.79109],[36....   \n",
       "431        [[36.14656,-86.80973],[36.14656,-86.80975]]   \n",
       "\n",
       "                      create_dt                   start_dt  \\\n",
       "275  2019-06-02 08:34:39.950000 2019-06-01 00:52:35.763333   \n",
       "276  2019-06-02 08:34:39.983000 2019-06-01 00:46:44.376666   \n",
       "362  2019-06-02 08:34:40.060000 2019-06-01 00:46:17.583333   \n",
       "373  2019-06-02 08:34:40.090000 2019-06-01 01:10:58.910000   \n",
       "431  2019-06-02 08:34:40.127000 2019-06-01 01:20:07.213333   \n",
       "\n",
       "                        end_dt              time_diff  \n",
       "275 2019-06-01 00:54:40.100000 0 days 00:02:04.336667  \n",
       "276 2019-06-01 00:54:43.216666 0 days 00:07:58.840000  \n",
       "362 2019-06-01 01:11:17.280000 0 days 00:24:59.696667  \n",
       "373 2019-06-01 01:12:30.206666 0 days 00:01:31.296666  \n",
       "431 2019-06-01 01:22:30.426666 0 days 00:02:23.213333  "
      ]
     },
     "execution_count": 16,
     "metadata": {},
     "output_type": "execute_result"
    }
   ],
   "source": [
    "lyft.head()"
   ]
  },
  {
   "cell_type": "code",
   "execution_count": 17,
   "id": "b646dbb7",
   "metadata": {},
   "outputs": [
    {
     "data": {
      "text/html": [
       "<div>\n",
       "<style scoped>\n",
       "    .dataframe tbody tr th:only-of-type {\n",
       "        vertical-align: middle;\n",
       "    }\n",
       "\n",
       "    .dataframe tbody tr th {\n",
       "        vertical-align: top;\n",
       "    }\n",
       "\n",
       "    .dataframe thead th {\n",
       "        text-align: right;\n",
       "    }\n",
       "</style>\n",
       "<table border=\"1\" class=\"dataframe\">\n",
       "  <thead>\n",
       "    <tr style=\"text-align: right;\">\n",
       "      <th></th>\n",
       "      <th>pubTimeStamp</th>\n",
       "      <th>companyName</th>\n",
       "      <th>tripRecordNum</th>\n",
       "      <th>sumdID</th>\n",
       "      <th>tripDuration</th>\n",
       "      <th>tripDistance</th>\n",
       "      <th>startDate</th>\n",
       "      <th>startTime</th>\n",
       "      <th>endDate</th>\n",
       "      <th>endTime</th>\n",
       "      <th>startLatitude</th>\n",
       "      <th>startLongitude</th>\n",
       "      <th>endLatitude</th>\n",
       "      <th>endLongitude</th>\n",
       "      <th>tripRoute</th>\n",
       "      <th>create_dt</th>\n",
       "      <th>start_dt</th>\n",
       "      <th>end_dt</th>\n",
       "      <th>time_diff</th>\n",
       "    </tr>\n",
       "  </thead>\n",
       "  <tbody>\n",
       "    <tr>\n",
       "      <th>81384</th>\n",
       "      <td>2019-06-10 18:56:13</td>\n",
       "      <td>JUMP</td>\n",
       "      <td>JMP2</td>\n",
       "      <td>Poweredb671ffe4-2bca-5880-98ec-d36f65aa11a2</td>\n",
       "      <td>3.228833</td>\n",
       "      <td>528.0</td>\n",
       "      <td>2019-06-10 00:00:00</td>\n",
       "      <td>13:55:46</td>\n",
       "      <td>2019-06-10 00:00:00</td>\n",
       "      <td>13:59:00</td>\n",
       "      <td>36.154133</td>\n",
       "      <td>-86.78408</td>\n",
       "      <td>36.154457</td>\n",
       "      <td>-86.78590</td>\n",
       "      <td>[[\"36.154133\",\"-86.784078\"],[\"36.154133\",\"-86....</td>\n",
       "      <td>2019-06-11 07:12:12.610000</td>\n",
       "      <td>2019-06-10 13:55:46</td>\n",
       "      <td>2019-06-10 13:59:00</td>\n",
       "      <td>0 days 00:03:14</td>\n",
       "    </tr>\n",
       "    <tr>\n",
       "      <th>85029</th>\n",
       "      <td>2019-06-11 07:50:56</td>\n",
       "      <td>JUMP</td>\n",
       "      <td>JMP20</td>\n",
       "      <td>Poweredb671ffe4-2bca-5880-98ec-d36f65aa11a2</td>\n",
       "      <td>6.876867</td>\n",
       "      <td>1900.8</td>\n",
       "      <td>2019-06-11 00:00:00</td>\n",
       "      <td>01:50:35</td>\n",
       "      <td>2019-06-11 00:00:00</td>\n",
       "      <td>01:57:28</td>\n",
       "      <td>36.161880</td>\n",
       "      <td>-86.77778</td>\n",
       "      <td>36.163807</td>\n",
       "      <td>-86.77894</td>\n",
       "      <td>[[\"36.16188\",\"-86.777775\"],[\"36.16188\",\"-86.77...</td>\n",
       "      <td>2019-06-12 07:14:00.957000</td>\n",
       "      <td>2019-06-11 01:50:35</td>\n",
       "      <td>2019-06-11 01:57:28</td>\n",
       "      <td>0 days 00:06:53</td>\n",
       "    </tr>\n",
       "    <tr>\n",
       "      <th>85030</th>\n",
       "      <td>2019-06-11 07:50:56</td>\n",
       "      <td>JUMP</td>\n",
       "      <td>JMP21</td>\n",
       "      <td>Poweredb671ffe4-2bca-5880-98ec-d36f65aa11a2</td>\n",
       "      <td>9.020367</td>\n",
       "      <td>2904.0</td>\n",
       "      <td>2019-06-11 00:00:00</td>\n",
       "      <td>01:52:08</td>\n",
       "      <td>2019-06-11 00:00:00</td>\n",
       "      <td>02:01:10</td>\n",
       "      <td>36.162930</td>\n",
       "      <td>-86.77624</td>\n",
       "      <td>36.157124</td>\n",
       "      <td>-86.78098</td>\n",
       "      <td>[[\"36.162928\",\"-86.776241\"],[\"36.162928\",\"-86....</td>\n",
       "      <td>2019-06-12 07:14:00.993000</td>\n",
       "      <td>2019-06-11 01:52:08</td>\n",
       "      <td>2019-06-11 02:01:10</td>\n",
       "      <td>0 days 00:09:02</td>\n",
       "    </tr>\n",
       "    <tr>\n",
       "      <th>85031</th>\n",
       "      <td>2019-06-11 07:50:56</td>\n",
       "      <td>JUMP</td>\n",
       "      <td>JMP22</td>\n",
       "      <td>Poweredb671ffe4-2bca-5880-98ec-d36f65aa11a2</td>\n",
       "      <td>3.628050</td>\n",
       "      <td>686.4</td>\n",
       "      <td>2019-06-11 00:00:00</td>\n",
       "      <td>02:03:56</td>\n",
       "      <td>2019-06-11 00:00:00</td>\n",
       "      <td>02:07:34</td>\n",
       "      <td>36.175200</td>\n",
       "      <td>-86.78806</td>\n",
       "      <td>36.174450</td>\n",
       "      <td>-86.78642</td>\n",
       "      <td>[[\"36.1752\",\"-86.78806\"],[\"36.175201\",\"-86.788...</td>\n",
       "      <td>2019-06-12 07:14:01.027000</td>\n",
       "      <td>2019-06-11 02:03:56</td>\n",
       "      <td>2019-06-11 02:07:34</td>\n",
       "      <td>0 days 00:03:38</td>\n",
       "    </tr>\n",
       "    <tr>\n",
       "      <th>85032</th>\n",
       "      <td>2019-06-11 07:50:56</td>\n",
       "      <td>JUMP</td>\n",
       "      <td>JMP23</td>\n",
       "      <td>Poweredb671ffe4-2bca-5880-98ec-d36f65aa11a2</td>\n",
       "      <td>24.942583</td>\n",
       "      <td>5808.0</td>\n",
       "      <td>2019-06-11 00:00:00</td>\n",
       "      <td>02:01:26</td>\n",
       "      <td>2019-06-11 00:00:00</td>\n",
       "      <td>02:26:23</td>\n",
       "      <td>36.146250</td>\n",
       "      <td>-86.79947</td>\n",
       "      <td>36.147650</td>\n",
       "      <td>-86.80016</td>\n",
       "      <td>[[\"36.14623\",\"-86.799606\"],[\"36.146001\",\"-86.7...</td>\n",
       "      <td>2019-06-12 07:14:01.060000</td>\n",
       "      <td>2019-06-11 02:01:26</td>\n",
       "      <td>2019-06-11 02:26:23</td>\n",
       "      <td>0 days 00:24:57</td>\n",
       "    </tr>\n",
       "    <tr>\n",
       "      <th>85033</th>\n",
       "      <td>2019-06-11 07:50:56</td>\n",
       "      <td>JUMP</td>\n",
       "      <td>JMP27</td>\n",
       "      <td>Poweredb671ffe4-2bca-5880-98ec-d36f65aa11a2</td>\n",
       "      <td>13.601434</td>\n",
       "      <td>7867.2</td>\n",
       "      <td>2019-06-11 00:00:00</td>\n",
       "      <td>02:39:45</td>\n",
       "      <td>2019-06-11 00:00:00</td>\n",
       "      <td>02:53:21</td>\n",
       "      <td>36.164104</td>\n",
       "      <td>-86.77997</td>\n",
       "      <td>36.176693</td>\n",
       "      <td>-86.77633</td>\n",
       "      <td>[[\"36.164103\",\"-86.779968\"],[\"36.164103\",\"-86....</td>\n",
       "      <td>2019-06-12 07:14:01.200000</td>\n",
       "      <td>2019-06-11 02:39:45</td>\n",
       "      <td>2019-06-11 02:53:21</td>\n",
       "      <td>0 days 00:13:36</td>\n",
       "    </tr>\n",
       "    <tr>\n",
       "      <th>85034</th>\n",
       "      <td>2019-06-11 07:50:56</td>\n",
       "      <td>JUMP</td>\n",
       "      <td>JMP29</td>\n",
       "      <td>Poweredb671ffe4-2bca-5880-98ec-d36f65aa11a2</td>\n",
       "      <td>2.418783</td>\n",
       "      <td>422.4</td>\n",
       "      <td>2019-06-11 00:00:00</td>\n",
       "      <td>03:14:59</td>\n",
       "      <td>2019-06-11 00:00:00</td>\n",
       "      <td>03:17:24</td>\n",
       "      <td>36.161650</td>\n",
       "      <td>-86.77789</td>\n",
       "      <td>36.162710</td>\n",
       "      <td>-86.77732</td>\n",
       "      <td>[[\"36.161651\",\"-86.77789\"],[\"36.16271\",\"-86.77...</td>\n",
       "      <td>2019-06-12 07:14:01.267000</td>\n",
       "      <td>2019-06-11 03:14:59</td>\n",
       "      <td>2019-06-11 03:17:24</td>\n",
       "      <td>0 days 00:02:25</td>\n",
       "    </tr>\n",
       "    <tr>\n",
       "      <th>85035</th>\n",
       "      <td>2019-06-11 07:50:56</td>\n",
       "      <td>JUMP</td>\n",
       "      <td>JMP28</td>\n",
       "      <td>Poweredb671ffe4-2bca-5880-98ec-d36f65aa11a2</td>\n",
       "      <td>18.223516</td>\n",
       "      <td>6072.0</td>\n",
       "      <td>2019-06-11 00:00:00</td>\n",
       "      <td>02:49:02</td>\n",
       "      <td>2019-06-11 00:00:00</td>\n",
       "      <td>03:07:15</td>\n",
       "      <td>36.153767</td>\n",
       "      <td>-86.79795</td>\n",
       "      <td>36.158924</td>\n",
       "      <td>-86.78230</td>\n",
       "      <td>[[\"36.154358\",\"-86.798495\"],[\"36.154403\",\"-86....</td>\n",
       "      <td>2019-06-12 07:14:01.233000</td>\n",
       "      <td>2019-06-11 02:49:02</td>\n",
       "      <td>2019-06-11 03:07:15</td>\n",
       "      <td>0 days 00:18:13</td>\n",
       "    </tr>\n",
       "    <tr>\n",
       "      <th>85036</th>\n",
       "      <td>2019-06-11 07:50:56</td>\n",
       "      <td>JUMP</td>\n",
       "      <td>JMP24</td>\n",
       "      <td>Poweredb671ffe4-2bca-5880-98ec-d36f65aa11a2</td>\n",
       "      <td>4.759483</td>\n",
       "      <td>0.0</td>\n",
       "      <td>2019-06-11 00:00:00</td>\n",
       "      <td>02:34:38</td>\n",
       "      <td>2019-06-11 00:00:00</td>\n",
       "      <td>02:39:23</td>\n",
       "      <td>36.158356</td>\n",
       "      <td>-86.77517</td>\n",
       "      <td>36.158356</td>\n",
       "      <td>-86.77517</td>\n",
       "      <td>[[\"36.158355\",\"-86.77517\"],[\"36.158355\",\"-86.7...</td>\n",
       "      <td>2019-06-12 07:14:01.097000</td>\n",
       "      <td>2019-06-11 02:34:38</td>\n",
       "      <td>2019-06-11 02:39:23</td>\n",
       "      <td>0 days 00:04:45</td>\n",
       "    </tr>\n",
       "    <tr>\n",
       "      <th>85037</th>\n",
       "      <td>2019-06-11 07:50:56</td>\n",
       "      <td>JUMP</td>\n",
       "      <td>JMP26</td>\n",
       "      <td>Poweredb671ffe4-2bca-5880-98ec-d36f65aa11a2</td>\n",
       "      <td>5.008383</td>\n",
       "      <td>2745.6</td>\n",
       "      <td>2019-06-11 00:00:00</td>\n",
       "      <td>02:36:57</td>\n",
       "      <td>2019-06-11 00:00:00</td>\n",
       "      <td>02:41:57</td>\n",
       "      <td>36.177307</td>\n",
       "      <td>-86.79276</td>\n",
       "      <td>36.174625</td>\n",
       "      <td>-86.78579</td>\n",
       "      <td>[[\"36.17731\",\"-86.79268\"],[\"36.177341\",\"-86.79...</td>\n",
       "      <td>2019-06-12 07:14:01.130000</td>\n",
       "      <td>2019-06-11 02:36:57</td>\n",
       "      <td>2019-06-11 02:41:57</td>\n",
       "      <td>0 days 00:05:00</td>\n",
       "    </tr>\n",
       "  </tbody>\n",
       "</table>\n",
       "</div>"
      ],
      "text/plain": [
       "              pubTimeStamp companyName tripRecordNum  \\\n",
       "81384  2019-06-10 18:56:13        JUMP          JMP2   \n",
       "85029  2019-06-11 07:50:56        JUMP         JMP20   \n",
       "85030  2019-06-11 07:50:56        JUMP         JMP21   \n",
       "85031  2019-06-11 07:50:56        JUMP         JMP22   \n",
       "85032  2019-06-11 07:50:56        JUMP         JMP23   \n",
       "85033  2019-06-11 07:50:56        JUMP         JMP27   \n",
       "85034  2019-06-11 07:50:56        JUMP         JMP29   \n",
       "85035  2019-06-11 07:50:56        JUMP         JMP28   \n",
       "85036  2019-06-11 07:50:56        JUMP         JMP24   \n",
       "85037  2019-06-11 07:50:56        JUMP         JMP26   \n",
       "\n",
       "                                            sumdID  tripDuration  \\\n",
       "81384  Poweredb671ffe4-2bca-5880-98ec-d36f65aa11a2      3.228833   \n",
       "85029  Poweredb671ffe4-2bca-5880-98ec-d36f65aa11a2      6.876867   \n",
       "85030  Poweredb671ffe4-2bca-5880-98ec-d36f65aa11a2      9.020367   \n",
       "85031  Poweredb671ffe4-2bca-5880-98ec-d36f65aa11a2      3.628050   \n",
       "85032  Poweredb671ffe4-2bca-5880-98ec-d36f65aa11a2     24.942583   \n",
       "85033  Poweredb671ffe4-2bca-5880-98ec-d36f65aa11a2     13.601434   \n",
       "85034  Poweredb671ffe4-2bca-5880-98ec-d36f65aa11a2      2.418783   \n",
       "85035  Poweredb671ffe4-2bca-5880-98ec-d36f65aa11a2     18.223516   \n",
       "85036  Poweredb671ffe4-2bca-5880-98ec-d36f65aa11a2      4.759483   \n",
       "85037  Poweredb671ffe4-2bca-5880-98ec-d36f65aa11a2      5.008383   \n",
       "\n",
       "       tripDistance            startDate startTime              endDate  \\\n",
       "81384         528.0  2019-06-10 00:00:00  13:55:46  2019-06-10 00:00:00   \n",
       "85029        1900.8  2019-06-11 00:00:00  01:50:35  2019-06-11 00:00:00   \n",
       "85030        2904.0  2019-06-11 00:00:00  01:52:08  2019-06-11 00:00:00   \n",
       "85031         686.4  2019-06-11 00:00:00  02:03:56  2019-06-11 00:00:00   \n",
       "85032        5808.0  2019-06-11 00:00:00  02:01:26  2019-06-11 00:00:00   \n",
       "85033        7867.2  2019-06-11 00:00:00  02:39:45  2019-06-11 00:00:00   \n",
       "85034         422.4  2019-06-11 00:00:00  03:14:59  2019-06-11 00:00:00   \n",
       "85035        6072.0  2019-06-11 00:00:00  02:49:02  2019-06-11 00:00:00   \n",
       "85036           0.0  2019-06-11 00:00:00  02:34:38  2019-06-11 00:00:00   \n",
       "85037        2745.6  2019-06-11 00:00:00  02:36:57  2019-06-11 00:00:00   \n",
       "\n",
       "        endTime  startLatitude  startLongitude  endLatitude  endLongitude  \\\n",
       "81384  13:59:00      36.154133       -86.78408    36.154457     -86.78590   \n",
       "85029  01:57:28      36.161880       -86.77778    36.163807     -86.77894   \n",
       "85030  02:01:10      36.162930       -86.77624    36.157124     -86.78098   \n",
       "85031  02:07:34      36.175200       -86.78806    36.174450     -86.78642   \n",
       "85032  02:26:23      36.146250       -86.79947    36.147650     -86.80016   \n",
       "85033  02:53:21      36.164104       -86.77997    36.176693     -86.77633   \n",
       "85034  03:17:24      36.161650       -86.77789    36.162710     -86.77732   \n",
       "85035  03:07:15      36.153767       -86.79795    36.158924     -86.78230   \n",
       "85036  02:39:23      36.158356       -86.77517    36.158356     -86.77517   \n",
       "85037  02:41:57      36.177307       -86.79276    36.174625     -86.78579   \n",
       "\n",
       "                                               tripRoute  \\\n",
       "81384  [[\"36.154133\",\"-86.784078\"],[\"36.154133\",\"-86....   \n",
       "85029  [[\"36.16188\",\"-86.777775\"],[\"36.16188\",\"-86.77...   \n",
       "85030  [[\"36.162928\",\"-86.776241\"],[\"36.162928\",\"-86....   \n",
       "85031  [[\"36.1752\",\"-86.78806\"],[\"36.175201\",\"-86.788...   \n",
       "85032  [[\"36.14623\",\"-86.799606\"],[\"36.146001\",\"-86.7...   \n",
       "85033  [[\"36.164103\",\"-86.779968\"],[\"36.164103\",\"-86....   \n",
       "85034  [[\"36.161651\",\"-86.77789\"],[\"36.16271\",\"-86.77...   \n",
       "85035  [[\"36.154358\",\"-86.798495\"],[\"36.154403\",\"-86....   \n",
       "85036  [[\"36.158355\",\"-86.77517\"],[\"36.158355\",\"-86.7...   \n",
       "85037  [[\"36.17731\",\"-86.79268\"],[\"36.177341\",\"-86.79...   \n",
       "\n",
       "                        create_dt            start_dt              end_dt  \\\n",
       "81384  2019-06-11 07:12:12.610000 2019-06-10 13:55:46 2019-06-10 13:59:00   \n",
       "85029  2019-06-12 07:14:00.957000 2019-06-11 01:50:35 2019-06-11 01:57:28   \n",
       "85030  2019-06-12 07:14:00.993000 2019-06-11 01:52:08 2019-06-11 02:01:10   \n",
       "85031  2019-06-12 07:14:01.027000 2019-06-11 02:03:56 2019-06-11 02:07:34   \n",
       "85032  2019-06-12 07:14:01.060000 2019-06-11 02:01:26 2019-06-11 02:26:23   \n",
       "85033  2019-06-12 07:14:01.200000 2019-06-11 02:39:45 2019-06-11 02:53:21   \n",
       "85034  2019-06-12 07:14:01.267000 2019-06-11 03:14:59 2019-06-11 03:17:24   \n",
       "85035  2019-06-12 07:14:01.233000 2019-06-11 02:49:02 2019-06-11 03:07:15   \n",
       "85036  2019-06-12 07:14:01.097000 2019-06-11 02:34:38 2019-06-11 02:39:23   \n",
       "85037  2019-06-12 07:14:01.130000 2019-06-11 02:36:57 2019-06-11 02:41:57   \n",
       "\n",
       "            time_diff  \n",
       "81384 0 days 00:03:14  \n",
       "85029 0 days 00:06:53  \n",
       "85030 0 days 00:09:02  \n",
       "85031 0 days 00:03:38  \n",
       "85032 0 days 00:24:57  \n",
       "85033 0 days 00:13:36  \n",
       "85034 0 days 00:02:25  \n",
       "85035 0 days 00:18:13  \n",
       "85036 0 days 00:04:45  \n",
       "85037 0 days 00:05:00  "
      ]
     },
     "execution_count": 17,
     "metadata": {},
     "output_type": "execute_result"
    }
   ],
   "source": [
    "jump.head(10)"
   ]
  },
  {
   "cell_type": "raw",
   "id": "af2f86e0",
   "metadata": {},
   "source": [
    "#1 The total riding time (hours) for each of company"
   ]
  },
  {
   "cell_type": "code",
   "execution_count": 21,
   "id": "88d2205d",
   "metadata": {
    "scrolled": true
   },
   "outputs": [
    {
     "data": {
      "text/plain": [
       "20785.105277777777"
      ]
     },
     "execution_count": 21,
     "metadata": {},
     "output_type": "execute_result"
    }
   ],
   "source": [
    "lime_time_1 = lime.time_diff/pd.Timedelta(hours=1)\n",
    "lime_time_1.sum()"
   ]
  },
  {
   "cell_type": "code",
   "execution_count": 22,
   "id": "e0593295",
   "metadata": {},
   "outputs": [
    {
     "data": {
      "text/plain": [
       "14.719"
      ]
     },
     "execution_count": 22,
     "metadata": {},
     "output_type": "execute_result"
    }
   ],
   "source": [
    "lime_5 = lime.time_diff/pd.Timedelta(minutes=1)\n",
    "round(lime_5.mean(),3)"
   ]
  },
  {
   "cell_type": "code",
   "execution_count": 23,
   "id": "239ea5f4",
   "metadata": {},
   "outputs": [
    {
     "data": {
      "text/plain": [
       "15.869"
      ]
     },
     "execution_count": 23,
     "metadata": {},
     "output_type": "execute_result"
    }
   ],
   "source": [
    "lyft_5 = lyft.time_diff/pd.Timedelta(minutes=1)\n",
    "round(lyft_5.mean(),3)"
   ]
  },
  {
   "cell_type": "code",
   "execution_count": 24,
   "id": "504ff3df",
   "metadata": {},
   "outputs": [
    {
     "data": {
      "text/plain": [
       "13.4"
      ]
     },
     "execution_count": 24,
     "metadata": {},
     "output_type": "execute_result"
    }
   ],
   "source": [
    "bird_5 = bird.time_diff/pd.Timedelta(minutes=1)\n",
    "round(bird_5.mean(),3)"
   ]
  },
  {
   "cell_type": "code",
   "execution_count": 25,
   "id": "d3609465",
   "metadata": {},
   "outputs": [
    {
     "data": {
      "text/plain": [
       "24.718"
      ]
     },
     "execution_count": 25,
     "metadata": {},
     "output_type": "execute_result"
    }
   ],
   "source": [
    "spin_5 = spin.time_diff/pd.Timedelta(minutes=1)\n",
    "round(spin_5.mean(),3)"
   ]
  },
  {
   "cell_type": "code",
   "execution_count": 26,
   "id": "106bdc55",
   "metadata": {},
   "outputs": [
    {
     "data": {
      "text/plain": [
       "22.355"
      ]
     },
     "execution_count": 26,
     "metadata": {},
     "output_type": "execute_result"
    }
   ],
   "source": [
    "bolt_5 = bolt.time_diff/pd.Timedelta(minutes=1)\n",
    "round(bolt_5.mean(),3)"
   ]
  },
  {
   "cell_type": "code",
   "execution_count": 27,
   "id": "1ceebe82",
   "metadata": {},
   "outputs": [
    {
     "data": {
      "text/plain": [
       "10.452"
      ]
     },
     "execution_count": 27,
     "metadata": {},
     "output_type": "execute_result"
    }
   ],
   "source": [
    "gotcha_5 = gotcha.time_diff/pd.Timedelta(minutes=1)\n",
    "round(gotcha_5.mean(),3)"
   ]
  },
  {
   "cell_type": "code",
   "execution_count": 28,
   "id": "68c6364b",
   "metadata": {},
   "outputs": [
    {
     "data": {
      "text/plain": [
       "56.172"
      ]
     },
     "execution_count": 28,
     "metadata": {},
     "output_type": "execute_result"
    }
   ],
   "source": [
    "jump_5 = jump.time_diff/pd.Timedelta(minutes=1)\n",
    "round(jump_5.mean(),3)"
   ]
  },
  {
   "cell_type": "code",
   "execution_count": null,
   "id": "53eab17c",
   "metadata": {},
   "outputs": [],
   "source": []
  },
  {
   "cell_type": "code",
   "execution_count": null,
   "id": "5a66f963",
   "metadata": {},
   "outputs": [],
   "source": []
  },
  {
   "cell_type": "code",
   "execution_count": null,
   "id": "44012732",
   "metadata": {
    "scrolled": true
   },
   "outputs": [],
   "source": []
  }
 ],
 "metadata": {
  "kernelspec": {
   "display_name": "Python 3 (ipykernel)",
   "language": "python",
   "name": "python3"
  },
  "language_info": {
   "codemirror_mode": {
    "name": "ipython",
    "version": 3
   },
   "file_extension": ".py",
   "mimetype": "text/x-python",
   "name": "python",
   "nbconvert_exporter": "python",
   "pygments_lexer": "ipython3",
   "version": "3.8.5"
  }
 },
 "nbformat": 4,
 "nbformat_minor": 5
}
