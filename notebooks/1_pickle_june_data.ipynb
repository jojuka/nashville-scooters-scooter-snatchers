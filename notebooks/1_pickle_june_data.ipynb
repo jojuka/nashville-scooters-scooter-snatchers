{
 "cells": [
  {
   "cell_type": "markdown",
   "id": "9a371cfa",
   "metadata": {},
   "source": [
    "# This notebook is used to import .csv files to pickle files"
   ]
  },
  {
   "cell_type": "markdown",
   "id": "5efed563",
   "metadata": {},
   "source": [
    "#### Import modules needed to import .csv files to pickle files"
   ]
  },
  {
   "cell_type": "code",
   "execution_count": 1,
   "id": "6670997b",
   "metadata": {},
   "outputs": [],
   "source": [
    "import pandas as pd\n",
    "import pickle"
   ]
  },
  {
   "cell_type": "markdown",
   "id": "397724d9",
   "metadata": {},
   "source": [
    "#### Check timeframe to import .csv to DataFrame"
   ]
  },
  {
   "cell_type": "code",
   "execution_count": 3,
   "id": "c21d4ecb",
   "metadata": {},
   "outputs": [
    {
     "name": "stdout",
     "output_type": "stream",
     "text": [
      "Wall time: 57.7 s\n"
     ]
    },
    {
     "data": {
      "text/html": [
       "<div>\n",
       "<style scoped>\n",
       "    .dataframe tbody tr th:only-of-type {\n",
       "        vertical-align: middle;\n",
       "    }\n",
       "\n",
       "    .dataframe tbody tr th {\n",
       "        vertical-align: top;\n",
       "    }\n",
       "\n",
       "    .dataframe thead th {\n",
       "        text-align: right;\n",
       "    }\n",
       "</style>\n",
       "<table border=\"1\" class=\"dataframe\">\n",
       "  <thead>\n",
       "    <tr style=\"text-align: right;\">\n",
       "      <th></th>\n",
       "      <th>pubdatetime</th>\n",
       "      <th>latitude</th>\n",
       "      <th>longitude</th>\n",
       "      <th>sumdid</th>\n",
       "      <th>sumdtype</th>\n",
       "      <th>chargelevel</th>\n",
       "      <th>sumdgroup</th>\n",
       "      <th>costpermin</th>\n",
       "      <th>companyname</th>\n",
       "    </tr>\n",
       "  </thead>\n",
       "  <tbody>\n",
       "    <tr>\n",
       "      <th>0</th>\n",
       "      <td>2019-06-01 00:00:12</td>\n",
       "      <td>36.1202</td>\n",
       "      <td>-86.7534</td>\n",
       "      <td>Powered93627c35-0f62-5b81-a78d-75a4a92ecf47</td>\n",
       "      <td>Powered</td>\n",
       "      <td>90.0</td>\n",
       "      <td>scooter</td>\n",
       "      <td>0.06</td>\n",
       "      <td>Jump</td>\n",
       "    </tr>\n",
       "    <tr>\n",
       "      <th>1</th>\n",
       "      <td>2019-06-01 00:00:12</td>\n",
       "      <td>36.1630</td>\n",
       "      <td>-86.7765</td>\n",
       "      <td>Powered17715097-e8a0-5494-a5ab-9b625796607d</td>\n",
       "      <td>Powered</td>\n",
       "      <td>63.0</td>\n",
       "      <td>scooter</td>\n",
       "      <td>0.06</td>\n",
       "      <td>Jump</td>\n",
       "    </tr>\n",
       "    <tr>\n",
       "      <th>2</th>\n",
       "      <td>2019-06-01 00:00:12</td>\n",
       "      <td>36.1202</td>\n",
       "      <td>-86.7533</td>\n",
       "      <td>Powerede5cb95ae-b091-5a93-86fa-ededd946d0d7</td>\n",
       "      <td>Powered</td>\n",
       "      <td>77.0</td>\n",
       "      <td>scooter</td>\n",
       "      <td>0.06</td>\n",
       "      <td>Jump</td>\n",
       "    </tr>\n",
       "    <tr>\n",
       "      <th>3</th>\n",
       "      <td>2019-06-01 00:00:12</td>\n",
       "      <td>36.1201</td>\n",
       "      <td>-86.7530</td>\n",
       "      <td>Powered71fa5e4f-1e17-54c4-936d-330df38cc2fa</td>\n",
       "      <td>Powered</td>\n",
       "      <td>0.0</td>\n",
       "      <td>scooter</td>\n",
       "      <td>0.06</td>\n",
       "      <td>Jump</td>\n",
       "    </tr>\n",
       "    <tr>\n",
       "      <th>4</th>\n",
       "      <td>2019-06-01 00:00:12</td>\n",
       "      <td>36.1622</td>\n",
       "      <td>-86.7806</td>\n",
       "      <td>Poweredfa549dd6-40bb-5757-ac87-2c2528f2bc68</td>\n",
       "      <td>Powered</td>\n",
       "      <td>2.0</td>\n",
       "      <td>scooter</td>\n",
       "      <td>0.06</td>\n",
       "      <td>Jump</td>\n",
       "    </tr>\n",
       "  </tbody>\n",
       "</table>\n",
       "</div>"
      ],
      "text/plain": [
       "           pubdatetime  latitude  longitude  \\\n",
       "0  2019-06-01 00:00:12   36.1202   -86.7534   \n",
       "1  2019-06-01 00:00:12   36.1630   -86.7765   \n",
       "2  2019-06-01 00:00:12   36.1202   -86.7533   \n",
       "3  2019-06-01 00:00:12   36.1201   -86.7530   \n",
       "4  2019-06-01 00:00:12   36.1622   -86.7806   \n",
       "\n",
       "                                        sumdid sumdtype  chargelevel  \\\n",
       "0  Powered93627c35-0f62-5b81-a78d-75a4a92ecf47  Powered         90.0   \n",
       "1  Powered17715097-e8a0-5494-a5ab-9b625796607d  Powered         63.0   \n",
       "2  Powerede5cb95ae-b091-5a93-86fa-ededd946d0d7  Powered         77.0   \n",
       "3  Powered71fa5e4f-1e17-54c4-936d-330df38cc2fa  Powered          0.0   \n",
       "4  Poweredfa549dd6-40bb-5757-ac87-2c2528f2bc68  Powered          2.0   \n",
       "\n",
       "  sumdgroup  costpermin companyname  \n",
       "0   scooter        0.06        Jump  \n",
       "1   scooter        0.06        Jump  \n",
       "2   scooter        0.06        Jump  \n",
       "3   scooter        0.06        Jump  \n",
       "4   scooter        0.06        Jump  "
      ]
     },
     "execution_count": 3,
     "metadata": {},
     "output_type": "execute_result"
    }
   ],
   "source": [
    "%%time\n",
    "june = pd.read_csv('../data/june.csv')\n",
    "june.head()"
   ]
  },
  {
   "cell_type": "markdown",
   "id": "78053ca5",
   "metadata": {},
   "source": [
    "#### Next we want to remove unneeded columns, we only need data relevant to scooters."
   ]
  },
  {
   "cell_type": "code",
   "execution_count": 4,
   "id": "6ed6b137",
   "metadata": {},
   "outputs": [
    {
     "data": {
      "text/plain": [
       "array(['scooter', 'Scooter', 'bicycle'], dtype=object)"
      ]
     },
     "execution_count": 4,
     "metadata": {},
     "output_type": "execute_result"
    }
   ],
   "source": [
    "june.sumdgroup.unique()"
   ]
  },
  {
   "cell_type": "code",
   "execution_count": 6,
   "id": "8b76e4f0",
   "metadata": {},
   "outputs": [],
   "source": [
    "june = june.loc[june.sumdgroup.isin(['scooter', 'Scooter'])]"
   ]
  },
  {
   "cell_type": "code",
   "execution_count": 7,
   "id": "f9bf7ae4",
   "metadata": {},
   "outputs": [],
   "source": [
    "june = june[['pubdatetime', 'latitude', 'longitude', 'sumdid', 'chargelevel', 'companyname']]"
   ]
  },
  {
   "cell_type": "markdown",
   "id": "b266cde5",
   "metadata": {},
   "source": [
    "#### Convert DataFrame to pickle file"
   ]
  },
  {
   "cell_type": "code",
   "execution_count": 8,
   "id": "039a742d",
   "metadata": {},
   "outputs": [],
   "source": [
    "june.to_pickle('../data/june.pkl')"
   ]
  },
  {
   "cell_type": "markdown",
   "id": "223a984f",
   "metadata": {},
   "source": [
    "#### Compare .csv file read time to pickle file read time"
   ]
  },
  {
   "cell_type": "code",
   "execution_count": 9,
   "id": "23003698",
   "metadata": {},
   "outputs": [
    {
     "name": "stdout",
     "output_type": "stream",
     "text": [
      "Wall time: 7.01 s\n"
     ]
    }
   ],
   "source": [
    "%%time\n",
    "june = pd.read_pickle(\"../data/june.pkl\")"
   ]
  }
 ],
 "metadata": {
  "kernelspec": {
   "display_name": "Python 3",
   "language": "python",
   "name": "python3"
  },
  "language_info": {
   "codemirror_mode": {
    "name": "ipython",
    "version": 3
   },
   "file_extension": ".py",
   "mimetype": "text/x-python",
   "name": "python",
   "nbconvert_exporter": "python",
   "pygments_lexer": "ipython3",
   "version": "3.8.8"
  }
 },
 "nbformat": 4,
 "nbformat_minor": 5
}
