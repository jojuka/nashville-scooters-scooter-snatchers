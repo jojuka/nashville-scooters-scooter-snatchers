{
 "cells": [
  {
   "cell_type": "code",
   "execution_count": 1,
   "id": "62edcb25",
   "metadata": {},
   "outputs": [],
   "source": [
    "import pandas as pd\n",
    "import pickle\n",
    "import matplotlib.pyplot as plt\n",
    "import datetime as dt\n",
    "import math\n",
    "import numpy as np"
   ]
  },
  {
   "cell_type": "code",
   "execution_count": 2,
   "id": "9884c5b8",
   "metadata": {},
   "outputs": [],
   "source": [
    "june = pd.read_csv('../data/june.csv/june.csv')"
   ]
  },
  {
   "cell_type": "code",
   "execution_count": 6,
   "id": "67b7caea",
   "metadata": {
    "scrolled": true
   },
   "outputs": [],
   "source": [
    "july = pd.read_csv('../data/july.csv/july.csv')"
   ]
  },
  {
   "cell_type": "code",
   "execution_count": 8,
   "id": "ce02d14c",
   "metadata": {},
   "outputs": [],
   "source": [
    "may = pd.read_csv('../data/may.csv/may.csv')"
   ]
  },
  {
   "cell_type": "markdown",
   "id": "efae9557",
   "metadata": {},
   "source": [
    "import numpy as np\n",
    "import matplotlib.pyplot as plt\n",
    "N = 5\n",
    "menMeans = (20, 35, 30, 35, 27)\n",
    "womenMeans = (25, 32, 34, 20, 25)\n",
    "ind = np.arange(N) # the x locations for the groups\n",
    "width = 0.35\n",
    "fig = plt.figure()\n",
    "ax = fig.add_axes([0,0,1,1])\n",
    "ax.bar(ind, menMeans, width, color='r')\n",
    "ax.bar(ind, womenMeans, width,bottom=menMeans, color='b')\n",
    "ax.set_ylabel('Scores')\n",
    "ax.set_title('Scores by group and gender')\n",
    "ax.set_xticks(ind, ('G1', 'G2', 'G3', 'G4', 'G5'))\n",
    "ax.set_yticks(np.arange(0, 81, 10))\n",
    "ax.legend(labels=['Men', 'Women'])\n",
    "plt.show()"
   ]
  },
  {
   "cell_type": "markdown",
   "id": "b7291e21",
   "metadata": {},
   "source": [
    "labels = ['G1', 'G2', 'G3', 'G4', 'G5']\n",
    "men_means = [20, 35, 30, 35, 27]\n",
    "women_means = [25, 32, 34, 20, 25]\n",
    "men_std = [2, 3, 4, 1, 2]\n",
    "women_std = [3, 5, 2, 3, 3]\n",
    "width = 0.35       # the width of the bars: can also be len(x) sequence\n",
    "\n",
    "fig, ax = plt.subplots()\n",
    "\n",
    "ax.bar(labels, men_means, width, yerr=men_std, label='Men')\n",
    "ax.bar(labels, women_means, width, yerr=women_std, bottom=men_means,\n",
    "       label='Women')\n",
    "\n",
    "ax.set_ylabel('Scores')\n",
    "ax.set_title('Scores by group and gender')\n",
    "ax.legend()\n",
    "\n",
    "plt.show()\n"
   ]
  },
  {
   "cell_type": "code",
   "execution_count": 10,
   "id": "de3950e1",
   "metadata": {
    "scrolled": true
   },
   "outputs": [
    {
     "data": {
      "text/plain": [
       "Lime      7120576\n",
       "Bird      4334006\n",
       "Lyft      3112581\n",
       "Jump      2984630\n",
       "Spin      1301001\n",
       "Gotcha     915314\n",
       "Bolt       524395\n",
       "Name: companyname, dtype: int64"
      ]
     },
     "execution_count": 10,
     "metadata": {},
     "output_type": "execute_result"
    }
   ],
   "source": [
    "may_companyname = may['companyname'].value_counts()\n",
    "may_companyname"
   ]
  },
  {
   "cell_type": "code",
   "execution_count": 11,
   "id": "9b768d33",
   "metadata": {},
   "outputs": [
    {
     "data": {
      "text/plain": [
       "Jump      8482893\n",
       "Lime      6161191\n",
       "Bird      4215302\n",
       "Lyft      3084229\n",
       "Spin      2507991\n",
       "Gotcha    1830453\n",
       "Bolt      1764036\n",
       "Name: companyname, dtype: int64"
      ]
     },
     "execution_count": 11,
     "metadata": {},
     "output_type": "execute_result"
    }
   ],
   "source": [
    "june_companyname = june['companyname'].value_counts()\n",
    "june_companyname"
   ]
  },
  {
   "cell_type": "code",
   "execution_count": 12,
   "id": "4397673e",
   "metadata": {
    "scrolled": true
   },
   "outputs": [
    {
     "data": {
      "text/plain": [
       "Jump      10367575\n",
       "Bird       3702282\n",
       "Lime       3242494\n",
       "Lyft       2890233\n",
       "Gotcha     1933513\n",
       "Spin       1750581\n",
       "Bolt       1188767\n",
       "Name: companyname, dtype: int64"
      ]
     },
     "execution_count": 12,
     "metadata": {},
     "output_type": "execute_result"
    }
   ],
   "source": [
    "july_companyname = july['companyname'].value_counts()\n",
    "july_companyname"
   ]
  },
  {
   "cell_type": "code",
   "execution_count": 14,
   "id": "03ce0e99",
   "metadata": {},
   "outputs": [],
   "source": [
    "may_companyname.to_csv('may.csv')"
   ]
  },
  {
   "cell_type": "code",
   "execution_count": 15,
   "id": "6612f992",
   "metadata": {},
   "outputs": [],
   "source": [
    "june_companyname.to_csv('june.csv')"
   ]
  },
  {
   "cell_type": "code",
   "execution_count": 16,
   "id": "7b65caef",
   "metadata": {},
   "outputs": [],
   "source": [
    "july_companyname.to_csv('july.csv')"
   ]
  },
  {
   "cell_type": "code",
   "execution_count": null,
   "id": "0f6fe4a3",
   "metadata": {},
   "outputs": [],
   "source": []
  }
 ],
 "metadata": {
  "kernelspec": {
   "display_name": "Python 3 (ipykernel)",
   "language": "python",
   "name": "python3"
  },
  "language_info": {
   "codemirror_mode": {
    "name": "ipython",
    "version": 3
   },
   "file_extension": ".py",
   "mimetype": "text/x-python",
   "name": "python",
   "nbconvert_exporter": "python",
   "pygments_lexer": "ipython3",
   "version": "3.8.5"
  }
 },
 "nbformat": 4,
 "nbformat_minor": 5
}
