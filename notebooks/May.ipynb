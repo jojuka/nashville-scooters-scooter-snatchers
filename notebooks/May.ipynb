{
 "cells": [
  {
   "cell_type": "markdown",
   "id": "14516753",
   "metadata": {},
   "source": [
    "The purpose of this notebook is to inspect the may pickle file and find opportunities for data clean up. Ideally, we want:\n",
    "\n",
    "1. No null values in columns where we need data\n",
    "2. Eliminate time periods where the scooters' charge level was at 0%, as to elimiate the reason for non-use as the scooter was not charged.\n",
    "3. Condense time periods to a frame of days\n",
    "4. A way to find out which scooters were stationary for a long period of time.\n",
    "\n",
    "Then, we will use that data to plot these points on our promise zone map."
   ]
  },
  {
   "cell_type": "code",
   "execution_count": 2,
   "id": "a05b2232",
   "metadata": {},
   "outputs": [],
   "source": [
    "import pandas as pd\n",
    "import matplotlib.pyplot as plt"
   ]
  },
  {
   "cell_type": "code",
   "execution_count": 13,
   "id": "42733712",
   "metadata": {},
   "outputs": [
    {
     "data": {
      "text/html": [
       "<div>\n",
       "<style scoped>\n",
       "    .dataframe tbody tr th:only-of-type {\n",
       "        vertical-align: middle;\n",
       "    }\n",
       "\n",
       "    .dataframe tbody tr th {\n",
       "        vertical-align: top;\n",
       "    }\n",
       "\n",
       "    .dataframe thead th {\n",
       "        text-align: right;\n",
       "    }\n",
       "</style>\n",
       "<table border=\"1\" class=\"dataframe\">\n",
       "  <thead>\n",
       "    <tr style=\"text-align: right;\">\n",
       "      <th></th>\n",
       "      <th>pubdatetime</th>\n",
       "      <th>latitude</th>\n",
       "      <th>longitude</th>\n",
       "      <th>sumdid</th>\n",
       "      <th>chargelevel</th>\n",
       "      <th>companyname</th>\n",
       "    </tr>\n",
       "  </thead>\n",
       "  <tbody>\n",
       "    <tr>\n",
       "      <th>0</th>\n",
       "      <td>2019-05-01 00:01:41.247</td>\n",
       "      <td>36.136822</td>\n",
       "      <td>-86.799877</td>\n",
       "      <td>PoweredLIRL1</td>\n",
       "      <td>93.0</td>\n",
       "      <td>0</td>\n",
       "    </tr>\n",
       "    <tr>\n",
       "      <th>1</th>\n",
       "      <td>2019-05-01 00:01:41.247</td>\n",
       "      <td>36.191252</td>\n",
       "      <td>-86.772945</td>\n",
       "      <td>PoweredXWRWC</td>\n",
       "      <td>35.0</td>\n",
       "      <td>0</td>\n",
       "    </tr>\n",
       "    <tr>\n",
       "      <th>2</th>\n",
       "      <td>2019-05-01 00:01:41.247</td>\n",
       "      <td>36.144752</td>\n",
       "      <td>-86.806293</td>\n",
       "      <td>PoweredMEJEH</td>\n",
       "      <td>90.0</td>\n",
       "      <td>0</td>\n",
       "    </tr>\n",
       "    <tr>\n",
       "      <th>3</th>\n",
       "      <td>2019-05-01 00:01:41.247</td>\n",
       "      <td>36.162056</td>\n",
       "      <td>-86.774688</td>\n",
       "      <td>Powered1A7TC</td>\n",
       "      <td>88.0</td>\n",
       "      <td>0</td>\n",
       "    </tr>\n",
       "    <tr>\n",
       "      <th>4</th>\n",
       "      <td>2019-05-01 00:01:41.247</td>\n",
       "      <td>36.150973</td>\n",
       "      <td>-86.783109</td>\n",
       "      <td>Powered2TYEF</td>\n",
       "      <td>98.0</td>\n",
       "      <td>0</td>\n",
       "    </tr>\n",
       "  </tbody>\n",
       "</table>\n",
       "</div>"
      ],
      "text/plain": [
       "              pubdatetime   latitude  longitude        sumdid  chargelevel  \\\n",
       "0 2019-05-01 00:01:41.247  36.136822 -86.799877  PoweredLIRL1         93.0   \n",
       "1 2019-05-01 00:01:41.247  36.191252 -86.772945  PoweredXWRWC         35.0   \n",
       "2 2019-05-01 00:01:41.247  36.144752 -86.806293  PoweredMEJEH         90.0   \n",
       "3 2019-05-01 00:01:41.247  36.162056 -86.774688  Powered1A7TC         88.0   \n",
       "4 2019-05-01 00:01:41.247  36.150973 -86.783109  Powered2TYEF         98.0   \n",
       "\n",
       "   companyname  \n",
       "0            0  \n",
       "1            0  \n",
       "2            0  \n",
       "3            0  \n",
       "4            0  "
      ]
     },
     "execution_count": 13,
     "metadata": {},
     "output_type": "execute_result"
    }
   ],
   "source": [
    "may = pd.read_pickle('../data/may.pkl')\n",
    "may.head()"
   ]
  },
  {
   "cell_type": "code",
   "execution_count": 14,
   "id": "c777966c",
   "metadata": {},
   "outputs": [
    {
     "name": "stdout",
     "output_type": "stream",
     "text": [
      "<class 'pandas.core.frame.DataFrame'>\n",
      "Int64Index: 20283582 entries, 0 to 20292502\n",
      "Data columns (total 6 columns):\n",
      " #   Column       Dtype         \n",
      "---  ------       -----         \n",
      " 0   pubdatetime  datetime64[ns]\n",
      " 1   latitude     float64       \n",
      " 2   longitude    float64       \n",
      " 3   sumdid       object        \n",
      " 4   chargelevel  float64       \n",
      " 5   companyname  int64         \n",
      "dtypes: datetime64[ns](1), float64(3), int64(1), object(1)\n",
      "memory usage: 1.1+ GB\n"
     ]
    }
   ],
   "source": [
    "may.info()"
   ]
  },
  {
   "cell_type": "markdown",
   "id": "1f9f3685",
   "metadata": {},
   "source": [
    "Find null values."
   ]
  },
  {
   "cell_type": "code",
   "execution_count": 9,
   "id": "f6f27b3e",
   "metadata": {},
   "outputs": [
    {
     "data": {
      "text/plain": [
       "pubdatetime      0\n",
       "latitude         0\n",
       "longitude        0\n",
       "sumdid           0\n",
       "chargelevel    283\n",
       "companyname      0\n",
       "dtype: int64"
      ]
     },
     "execution_count": 9,
     "metadata": {},
     "output_type": "execute_result"
    }
   ],
   "source": [
    "may.isnull().sum()"
   ]
  },
  {
   "cell_type": "markdown",
   "id": "eaa58c60",
   "metadata": {},
   "source": [
    "Remove the null chargelevel rows."
   ]
  },
  {
   "cell_type": "code",
   "execution_count": 15,
   "id": "8511f135",
   "metadata": {},
   "outputs": [
    {
     "name": "stdout",
     "output_type": "stream",
     "text": [
      "<class 'pandas.core.frame.DataFrame'>\n",
      "Int64Index: 20283299 entries, 0 to 20292502\n",
      "Data columns (total 6 columns):\n",
      " #   Column       Dtype         \n",
      "---  ------       -----         \n",
      " 0   pubdatetime  datetime64[ns]\n",
      " 1   latitude     float64       \n",
      " 2   longitude    float64       \n",
      " 3   sumdid       object        \n",
      " 4   chargelevel  float64       \n",
      " 5   companyname  int64         \n",
      "dtypes: datetime64[ns](1), float64(3), int64(1), object(1)\n",
      "memory usage: 1.1+ GB\n"
     ]
    }
   ],
   "source": [
    "may = may.dropna()\n",
    "may.info()"
   ]
  },
  {
   "cell_type": "markdown",
   "id": "bc1ad39b",
   "metadata": {},
   "source": [
    "Find out how many chargelevels are at 0% and take them out."
   ]
  },
  {
   "cell_type": "code",
   "execution_count": 17,
   "id": "3cd7ae1a",
   "metadata": {},
   "outputs": [
    {
     "data": {
      "text/plain": [
       "1025190"
      ]
     },
     "execution_count": 17,
     "metadata": {},
     "output_type": "execute_result"
    }
   ],
   "source": [
    "(may['chargelevel'] == 0). sum()"
   ]
  },
  {
   "cell_type": "code",
   "execution_count": 19,
   "id": "fd2b3f7b",
   "metadata": {},
   "outputs": [
    {
     "data": {
      "text/plain": [
       "0"
      ]
     },
     "execution_count": 19,
     "metadata": {},
     "output_type": "execute_result"
    }
   ],
   "source": [
    "may = may[may['chargelevel'] > 0]\n",
    "(may['chargelevel'] == 0). sum()"
   ]
  },
  {
   "cell_type": "markdown",
   "id": "23991cc3",
   "metadata": {},
   "source": [
    "Condense time periods to a frame of days."
   ]
  },
  {
   "cell_type": "code",
   "execution_count": null,
   "id": "5c21b578",
   "metadata": {},
   "outputs": [],
   "source": [
    "may['day'] = pd.to_datetime(may['pubdatetime']).dt.day\n",
    "\n",
    "may_by_day = may.loc[may.groupby('day')['sumdid'].transform('sum') >= 1].sort_values('day').drop_duplicates(subset=['pubdatetime'])\n",
    "\n",
    "print(may_by_day.head(50))"
   ]
  },
  {
   "cell_type": "code",
   "execution_count": 32,
   "id": "cfeb6c42",
   "metadata": {},
   "outputs": [
    {
     "name": "stdout",
     "output_type": "stream",
     "text": [
      "                     pubdatetime   latitude  longitude        sumdid  \\\n",
      "0        2019-05-01 00:01:41.247  36.136822 -86.799877  PoweredLIRL1   \n",
      "379776   2019-05-01 17:05:36.127  36.150405 -86.784339  PoweredLIRL1   \n",
      "379706   2019-05-01 17:05:36.123  36.151842 -86.790645  PoweredLIRL1   \n",
      "379913   2019-05-01 17:05:36.130  36.143596 -86.814203  PoweredLIRL1   \n",
      "379947   2019-05-01 17:05:36.133  36.138810 -86.806151  PoweredLIRL1   \n",
      "...                          ...        ...        ...           ...   \n",
      "19627905 2019-05-31 08:41:15.153  36.157046 -86.770016  PoweredLIRL1   \n",
      "19627884 2019-05-31 08:41:12.897  36.151746 -86.796175  PoweredLIRL1   \n",
      "19628285 2019-05-31 08:41:38.920  36.127278 -86.789125  PoweredLIRL1   \n",
      "19628309 2019-05-31 08:41:38.923  36.121319 -86.770356  PoweredLIRL1   \n",
      "19628356 2019-05-31 08:42:26.423  36.011010 -86.684170  PoweredLIRL1   \n",
      "\n",
      "          chargelevel  companyname  day  \n",
      "0                93.0            0    1  \n",
      "379776           38.0            3    1  \n",
      "379706           46.0            3    1  \n",
      "379913           84.0            3    1  \n",
      "379947          100.0            3    1  \n",
      "...               ...          ...  ...  \n",
      "19627905         76.0            1   31  \n",
      "19627884         37.0            1   31  \n",
      "19628285         90.0            2   31  \n",
      "19628309         97.0            2   31  \n",
      "19628356         72.0            4   31  \n",
      "\n",
      "[3075738 rows x 7 columns]\n"
     ]
    }
   ],
   "source": [
    "may_test = may_by_day[may_by_day.sumdid == 'PoweredLIRL1']\n",
    "print(may_test)"
   ]
  },
  {
   "cell_type": "code",
   "execution_count": null,
   "id": "711a72ef",
   "metadata": {},
   "outputs": [],
   "source": [
    "may[may.sumdid == 'PoweredLIRL1']"
   ]
  }
 ],
 "metadata": {
  "kernelspec": {
   "display_name": "Python 3 (ipykernel)",
   "language": "python",
   "name": "python3"
  },
  "language_info": {
   "codemirror_mode": {
    "name": "ipython",
    "version": 3
   },
   "file_extension": ".py",
   "mimetype": "text/x-python",
   "name": "python",
   "nbconvert_exporter": "python",
   "pygments_lexer": "ipython3",
   "version": "3.8.5"
  }
 },
 "nbformat": 4,
 "nbformat_minor": 5
}
