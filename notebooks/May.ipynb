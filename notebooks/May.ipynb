{
 "cells": [
  {
   "cell_type": "markdown",
   "id": "14516753",
   "metadata": {},
   "source": [
    "The purpose of this notebook is to inspect the may pickle file and find opportunities for data clean up. Ideally, we want:\n",
    "\n",
    "1. No null values in columns where we need data\n",
    "2. Eliminate time periods where the scooters' charge level was at 0%, as to elimiate the reason for non-use as the scooter was not charged.\n",
    "3. Condense time periods to a frame of weekday rush hours\n",
    "4. Save this dataframe in a new pkl file.\n",
    "\n",
    "Then, we will use that data to plot these points on our promise zone map in a separate notebook."
   ]
  },
  {
   "cell_type": "code",
   "execution_count": 1,
   "id": "a05b2232",
   "metadata": {},
   "outputs": [],
   "source": [
    "import pandas as pd\n",
    "import pickle\n",
    "import matplotlib.pyplot as plt"
   ]
  },
  {
   "cell_type": "code",
   "execution_count": 2,
   "id": "42733712",
   "metadata": {},
   "outputs": [
    {
     "data": {
      "text/html": [
       "<div>\n",
       "<style scoped>\n",
       "    .dataframe tbody tr th:only-of-type {\n",
       "        vertical-align: middle;\n",
       "    }\n",
       "\n",
       "    .dataframe tbody tr th {\n",
       "        vertical-align: top;\n",
       "    }\n",
       "\n",
       "    .dataframe thead th {\n",
       "        text-align: right;\n",
       "    }\n",
       "</style>\n",
       "<table border=\"1\" class=\"dataframe\">\n",
       "  <thead>\n",
       "    <tr style=\"text-align: right;\">\n",
       "      <th></th>\n",
       "      <th>pubdatetime</th>\n",
       "      <th>latitude</th>\n",
       "      <th>longitude</th>\n",
       "      <th>sumdid</th>\n",
       "      <th>chargelevel</th>\n",
       "      <th>companyname</th>\n",
       "    </tr>\n",
       "  </thead>\n",
       "  <tbody>\n",
       "    <tr>\n",
       "      <th>0</th>\n",
       "      <td>2019-05-01 00:01:41.247</td>\n",
       "      <td>36.136822</td>\n",
       "      <td>-86.799877</td>\n",
       "      <td>PoweredLIRL1</td>\n",
       "      <td>93.0</td>\n",
       "      <td>0</td>\n",
       "    </tr>\n",
       "    <tr>\n",
       "      <th>1</th>\n",
       "      <td>2019-05-01 00:01:41.247</td>\n",
       "      <td>36.191252</td>\n",
       "      <td>-86.772945</td>\n",
       "      <td>PoweredXWRWC</td>\n",
       "      <td>35.0</td>\n",
       "      <td>0</td>\n",
       "    </tr>\n",
       "    <tr>\n",
       "      <th>2</th>\n",
       "      <td>2019-05-01 00:01:41.247</td>\n",
       "      <td>36.144752</td>\n",
       "      <td>-86.806293</td>\n",
       "      <td>PoweredMEJEH</td>\n",
       "      <td>90.0</td>\n",
       "      <td>0</td>\n",
       "    </tr>\n",
       "    <tr>\n",
       "      <th>3</th>\n",
       "      <td>2019-05-01 00:01:41.247</td>\n",
       "      <td>36.162056</td>\n",
       "      <td>-86.774688</td>\n",
       "      <td>Powered1A7TC</td>\n",
       "      <td>88.0</td>\n",
       "      <td>0</td>\n",
       "    </tr>\n",
       "    <tr>\n",
       "      <th>4</th>\n",
       "      <td>2019-05-01 00:01:41.247</td>\n",
       "      <td>36.150973</td>\n",
       "      <td>-86.783109</td>\n",
       "      <td>Powered2TYEF</td>\n",
       "      <td>98.0</td>\n",
       "      <td>0</td>\n",
       "    </tr>\n",
       "  </tbody>\n",
       "</table>\n",
       "</div>"
      ],
      "text/plain": [
       "              pubdatetime   latitude  longitude        sumdid  chargelevel  \\\n",
       "0 2019-05-01 00:01:41.247  36.136822 -86.799877  PoweredLIRL1         93.0   \n",
       "1 2019-05-01 00:01:41.247  36.191252 -86.772945  PoweredXWRWC         35.0   \n",
       "2 2019-05-01 00:01:41.247  36.144752 -86.806293  PoweredMEJEH         90.0   \n",
       "3 2019-05-01 00:01:41.247  36.162056 -86.774688  Powered1A7TC         88.0   \n",
       "4 2019-05-01 00:01:41.247  36.150973 -86.783109  Powered2TYEF         98.0   \n",
       "\n",
       "   companyname  \n",
       "0            0  \n",
       "1            0  \n",
       "2            0  \n",
       "3            0  \n",
       "4            0  "
      ]
     },
     "execution_count": 2,
     "metadata": {},
     "output_type": "execute_result"
    }
   ],
   "source": [
    "may = pd.read_pickle('../data/may.pkl')\n",
    "may.head()"
   ]
  },
  {
   "cell_type": "code",
   "execution_count": 3,
   "id": "c777966c",
   "metadata": {},
   "outputs": [
    {
     "name": "stdout",
     "output_type": "stream",
     "text": [
      "<class 'pandas.core.frame.DataFrame'>\n",
      "Int64Index: 20283582 entries, 0 to 20292502\n",
      "Data columns (total 6 columns):\n",
      " #   Column       Dtype         \n",
      "---  ------       -----         \n",
      " 0   pubdatetime  datetime64[ns]\n",
      " 1   latitude     float64       \n",
      " 2   longitude    float64       \n",
      " 3   sumdid       object        \n",
      " 4   chargelevel  float64       \n",
      " 5   companyname  int64         \n",
      "dtypes: datetime64[ns](1), float64(3), int64(1), object(1)\n",
      "memory usage: 1.1+ GB\n"
     ]
    }
   ],
   "source": [
    "may.info()"
   ]
  },
  {
   "cell_type": "markdown",
   "id": "1f9f3685",
   "metadata": {},
   "source": [
    "Find null values."
   ]
  },
  {
   "cell_type": "code",
   "execution_count": 4,
   "id": "f6f27b3e",
   "metadata": {},
   "outputs": [
    {
     "data": {
      "text/plain": [
       "pubdatetime      0\n",
       "latitude         0\n",
       "longitude        0\n",
       "sumdid           0\n",
       "chargelevel    283\n",
       "companyname      0\n",
       "dtype: int64"
      ]
     },
     "execution_count": 4,
     "metadata": {},
     "output_type": "execute_result"
    }
   ],
   "source": [
    "may.isnull().sum()"
   ]
  },
  {
   "cell_type": "markdown",
   "id": "eaa58c60",
   "metadata": {},
   "source": [
    "Remove the null chargelevel rows."
   ]
  },
  {
   "cell_type": "code",
   "execution_count": 5,
   "id": "8511f135",
   "metadata": {},
   "outputs": [
    {
     "name": "stdout",
     "output_type": "stream",
     "text": [
      "<class 'pandas.core.frame.DataFrame'>\n",
      "Int64Index: 20283299 entries, 0 to 20292502\n",
      "Data columns (total 6 columns):\n",
      " #   Column       Dtype         \n",
      "---  ------       -----         \n",
      " 0   pubdatetime  datetime64[ns]\n",
      " 1   latitude     float64       \n",
      " 2   longitude    float64       \n",
      " 3   sumdid       object        \n",
      " 4   chargelevel  float64       \n",
      " 5   companyname  int64         \n",
      "dtypes: datetime64[ns](1), float64(3), int64(1), object(1)\n",
      "memory usage: 1.1+ GB\n"
     ]
    }
   ],
   "source": [
    "may = may.dropna()\n",
    "may.info()"
   ]
  },
  {
   "cell_type": "markdown",
   "id": "bc1ad39b",
   "metadata": {},
   "source": [
    "Find out how many chargelevels are at 0% and take them out."
   ]
  },
  {
   "cell_type": "code",
   "execution_count": 6,
   "id": "3cd7ae1a",
   "metadata": {},
   "outputs": [
    {
     "data": {
      "text/plain": [
       "1025190"
      ]
     },
     "execution_count": 6,
     "metadata": {},
     "output_type": "execute_result"
    }
   ],
   "source": [
    "(may['chargelevel'] == 0). sum()"
   ]
  },
  {
   "cell_type": "code",
   "execution_count": 7,
   "id": "fd2b3f7b",
   "metadata": {},
   "outputs": [
    {
     "data": {
      "text/plain": [
       "0"
      ]
     },
     "execution_count": 7,
     "metadata": {},
     "output_type": "execute_result"
    }
   ],
   "source": [
    "may = may[may['chargelevel'] > 0]\n",
    "(may['chargelevel'] == 0). sum()"
   ]
  },
  {
   "cell_type": "markdown",
   "id": "23991cc3",
   "metadata": {},
   "source": [
    "Condense time periods to a frame of rush hours between 7 - 9am and 4 - 6pm."
   ]
  },
  {
   "cell_type": "code",
   "execution_count": 18,
   "id": "5c21b578",
   "metadata": {},
   "outputs": [
    {
     "name": "stdout",
     "output_type": "stream",
     "text": [
      "                   pubdatetime   latitude  longitude      sumdid  chargelevel  \\\n",
      "154603 2019-05-01 07:00:03.897  36.121480 -86.770450  Powered447         66.0   \n",
      "154604 2019-05-01 07:00:03.897  36.121393 -86.770228  Powered695         96.0   \n",
      "154605 2019-05-01 07:00:03.897  36.144292 -86.811540  Powered341         90.0   \n",
      "154606 2019-05-01 07:00:03.897  36.121616 -86.770332  Powered351         61.0   \n",
      "154607 2019-05-01 07:00:03.897  36.121575 -86.770093  Powered759         41.0   \n",
      "154608 2019-05-01 07:00:03.897  36.121421 -86.770544  Powered658         98.0   \n",
      "154609 2019-05-01 07:00:03.897  36.160729 -86.777545  Powered373         56.0   \n",
      "154610 2019-05-01 07:00:03.897  36.127284 -86.789176  Powered384         95.0   \n",
      "154611 2019-05-01 07:00:03.897  36.141765 -86.813116  Powered704         58.0   \n",
      "154612 2019-05-01 07:00:03.897  36.121581 -86.770304  Powered515          3.0   \n",
      "154614 2019-05-01 07:00:03.897  36.158274 -86.793622  Powered566         98.0   \n",
      "154615 2019-05-01 07:00:03.897  36.121324 -86.770529  Powered653         82.0   \n",
      "154617 2019-05-01 07:00:03.897  36.121232 -86.770203  Powered551         38.0   \n",
      "154618 2019-05-01 07:00:03.897  36.121572 -86.770297  Powered489         98.0   \n",
      "154619 2019-05-01 07:00:03.897  36.121467 -86.770185  Powered816          2.0   \n",
      "154620 2019-05-01 07:00:03.897  36.163845 -86.783110  Powered698         91.0   \n",
      "154622 2019-05-01 07:00:03.897  36.155912 -86.765095  Powered354         49.0   \n",
      "154623 2019-05-01 07:00:03.897  36.139994 -86.792442  Powered767         51.0   \n",
      "154624 2019-05-01 07:00:03.897  36.151331 -86.811903  Powered747         61.0   \n",
      "154626 2019-05-01 07:00:03.897  36.121317 -86.770297  Powered688         98.0   \n",
      "\n",
      "        companyname  hour  \n",
      "154603            2     7  \n",
      "154604            2     7  \n",
      "154605            2     7  \n",
      "154606            2     7  \n",
      "154607            2     7  \n",
      "154608            2     7  \n",
      "154609            2     7  \n",
      "154610            2     7  \n",
      "154611            2     7  \n",
      "154612            2     7  \n",
      "154614            2     7  \n",
      "154615            2     7  \n",
      "154617            2     7  \n",
      "154618            2     7  \n",
      "154619            2     7  \n",
      "154620            2     7  \n",
      "154622            2     7  \n",
      "154623            2     7  \n",
      "154624            2     7  \n",
      "154626            2     7  \n",
      "                 pubdatetime  latitude  longitude  \\\n",
      "20070121 2019-05-31 18:59:42   36.1651   -86.7826   \n",
      "20070122 2019-05-31 18:59:42   36.1581   -86.7844   \n",
      "20070123 2019-05-31 18:59:42   36.1601   -86.7789   \n",
      "20070127 2019-05-31 18:59:42   36.1582   -86.7738   \n",
      "20070131 2019-05-31 18:59:42   36.1514   -86.7980   \n",
      "20070132 2019-05-31 18:59:42   36.1439   -86.8049   \n",
      "20070133 2019-05-31 18:59:42   36.1784   -86.7876   \n",
      "20070134 2019-05-31 18:59:42   36.1198   -86.7532   \n",
      "20070136 2019-05-31 18:59:42   36.1200   -86.7529   \n",
      "20070137 2019-05-31 18:59:42   36.1204   -86.7531   \n",
      "20070139 2019-05-31 18:59:42   36.1201   -86.7532   \n",
      "20070141 2019-05-31 18:59:42   36.1795   -86.7923   \n",
      "20070142 2019-05-31 18:59:42   36.1198   -86.7535   \n",
      "20070145 2019-05-31 18:59:42   36.1490   -86.7982   \n",
      "20070146 2019-05-31 18:59:42   36.1511   -86.7846   \n",
      "20070147 2019-05-31 18:59:42   36.1201   -86.7530   \n",
      "20070148 2019-05-31 18:59:42   36.1586   -86.7765   \n",
      "20070150 2019-05-31 18:59:42   36.1623   -86.7745   \n",
      "20070151 2019-05-31 18:59:42   36.1640   -86.7766   \n",
      "20070153 2019-05-31 18:59:42   36.1637   -86.7799   \n",
      "\n",
      "                                               sumdid  chargelevel  \\\n",
      "20070121  Powered13f54709-8d66-5220-a9a8-cbc74248c70a         13.0   \n",
      "20070122  Powered364730a5-065d-5189-abda-3402d29dc325         47.0   \n",
      "20070123  Powered48eafb37-d8b6-5952-919a-38f832c4da44         68.0   \n",
      "20070127  Powered2057a064-f102-5ff0-a8b1-f9001fcf3e8b         90.0   \n",
      "20070131  Powered93d2cde0-7b0d-5ffc-975a-434c23bec835         59.0   \n",
      "20070132  Powered1017aede-1eba-5de8-81bc-8f5b7bc33798         79.0   \n",
      "20070133  Powered967cd64a-ef98-5f0a-a8d6-98f9037d877f         49.0   \n",
      "20070134  Powered137861d3-fa6b-5d5d-ab9b-c1930cf5bf37          1.0   \n",
      "20070136  Powerede23972fb-e3fb-56b8-be8e-1c8f7981c408          3.0   \n",
      "20070137  Powered9c5bb89c-c9d2-5f2b-8465-6380129c22c5         83.0   \n",
      "20070139  Poweredc2da1bdb-d2f8-54e6-9c87-e47406a577ae         77.0   \n",
      "20070141  Powered0d165457-dd72-5eb1-9e0f-985a54921e1a         75.0   \n",
      "20070142  Powered97dc7762-4b06-57d1-999d-90ffdb42ae8c         50.0   \n",
      "20070145  Powered83a23d78-aa9f-57a7-b988-f924688c18a6         75.0   \n",
      "20070146  Poweredb8a3a269-d1ca-571f-9b2f-89b7399b5537         93.0   \n",
      "20070147  Powered2ccc9ec1-c85b-5197-89d1-6b1db8376138         64.0   \n",
      "20070148  Powered5f76db48-1161-5629-ab03-bc03b1a1b7c8         77.0   \n",
      "20070150  Poweredbc94a5c0-2abc-5d5a-848b-2a6d7ff56710         49.0   \n",
      "20070151  Powered6fed0b8e-89da-553d-90ec-c96e4996d093         91.0   \n",
      "20070153  Powered1cb0e0b0-93da-5d41-91cd-f547b3edb7bc         86.0   \n",
      "\n",
      "          companyname  hour  \n",
      "20070121            5    18  \n",
      "20070122            5    18  \n",
      "20070123            5    18  \n",
      "20070127            5    18  \n",
      "20070131            5    18  \n",
      "20070132            5    18  \n",
      "20070133            5    18  \n",
      "20070134            5    18  \n",
      "20070136            5    18  \n",
      "20070137            5    18  \n",
      "20070139            5    18  \n",
      "20070141            5    18  \n",
      "20070142            5    18  \n",
      "20070145            5    18  \n",
      "20070146            5    18  \n",
      "20070147            5    18  \n",
      "20070148            5    18  \n",
      "20070150            5    18  \n",
      "20070151            5    18  \n",
      "20070153            5    18  \n"
     ]
    }
   ],
   "source": [
    "may['hour'] = pd.to_datetime(may['pubdatetime']).dt.hour\n",
    "\n",
    "may_by_hour = may.loc[((may['hour'] >= 7) & (may['hour'] <=9)) | ((may['hour'] >= 16) & (may['hour'] <= 18))] \n",
    "print(may_by_hour.head(20))\n",
    "print(may_by_hour.tail(20))"
   ]
  },
  {
   "cell_type": "markdown",
   "id": "8fc47500",
   "metadata": {},
   "source": [
    "Make a new column for day of the week and take out Saturdays and Sundays."
   ]
  },
  {
   "cell_type": "code",
   "execution_count": 21,
   "id": "3aabbfac",
   "metadata": {},
   "outputs": [
    {
     "name": "stderr",
     "output_type": "stream",
     "text": [
      "C:\\Users\\16159\\AppData\\Local\\Temp/ipykernel_1660/711287321.py:1: SettingWithCopyWarning: \n",
      "A value is trying to be set on a copy of a slice from a DataFrame.\n",
      "Try using .loc[row_indexer,col_indexer] = value instead\n",
      "\n",
      "See the caveats in the documentation: https://pandas.pydata.org/pandas-docs/stable/user_guide/indexing.html#returning-a-view-versus-a-copy\n",
      "  may_by_hour['DOW'] = pd.to_datetime(may['pubdatetime']).dt.dayofweek\n"
     ]
    },
    {
     "name": "stdout",
     "output_type": "stream",
     "text": [
      "                   pubdatetime   latitude  longitude      sumdid  chargelevel  \\\n",
      "154603 2019-05-01 07:00:03.897  36.121480 -86.770450  Powered447         66.0   \n",
      "154604 2019-05-01 07:00:03.897  36.121393 -86.770228  Powered695         96.0   \n",
      "154605 2019-05-01 07:00:03.897  36.144292 -86.811540  Powered341         90.0   \n",
      "154606 2019-05-01 07:00:03.897  36.121616 -86.770332  Powered351         61.0   \n",
      "154607 2019-05-01 07:00:03.897  36.121575 -86.770093  Powered759         41.0   \n",
      "\n",
      "        companyname  hour  DOW  \n",
      "154603            2     7    2  \n",
      "154604            2     7    2  \n",
      "154605            2     7    2  \n",
      "154606            2     7    2  \n",
      "154607            2     7    2  \n"
     ]
    }
   ],
   "source": [
    "may_by_hour['DOW'] = pd.to_datetime(may['pubdatetime']).dt.dayofweek\n",
    "may_rush_hour = may_by_hour.loc[(may_by_hour['DOW'] != 5) & (may_by_hour['DOW'] != 6)]\n",
    "print(may_rush_hour.head())b"
   ]
  },
  {
   "cell_type": "markdown",
   "id": "1917f4cb",
   "metadata": {},
   "source": [
    "Save to pkl file."
   ]
  },
  {
   "cell_type": "code",
   "execution_count": 22,
   "id": "0706514d",
   "metadata": {},
   "outputs": [],
   "source": [
    "may_rush_hour.to_pickle('../data/may_rush_hour.pkl')"
   ]
  }
 ],
 "metadata": {
  "kernelspec": {
   "display_name": "Python 3 (ipykernel)",
   "language": "python",
   "name": "python3"
  },
  "language_info": {
   "codemirror_mode": {
    "name": "ipython",
    "version": 3
   },
   "file_extension": ".py",
   "mimetype": "text/x-python",
   "name": "python",
   "nbconvert_exporter": "python",
   "pygments_lexer": "ipython3",
   "version": "3.8.5"
  }
 },
 "nbformat": 4,
 "nbformat_minor": 5
}
