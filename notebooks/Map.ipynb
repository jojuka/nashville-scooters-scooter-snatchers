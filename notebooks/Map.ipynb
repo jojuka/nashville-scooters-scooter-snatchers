{
 "cells": [
  {
   "cell_type": "code",
   "execution_count": 1,
   "id": "162a815c",
   "metadata": {},
   "outputs": [],
   "source": [
    "from shapely.geometry import Point\n",
    "import pandas as pd\n",
    "import geopandas as gpd\n",
    "import matplotlib.pyplot as plt\n",
    "import folium\n",
    "from folium.plugins import MarkerCluster\n",
    "from folium.plugins import FastMarkerCluster"
   ]
  },
  {
   "cell_type": "markdown",
   "id": "0fcfb612",
   "metadata": {},
   "source": [
    "Inspect json file"
   ]
  },
  {
   "cell_type": "code",
   "execution_count": 2,
   "id": "8fc995b7",
   "metadata": {},
   "outputs": [
    {
     "name": "stdout",
     "output_type": "stream",
     "text": [
      "epsg:4326\n"
     ]
    },
    {
     "data": {
      "text/html": [
       "<div>\n",
       "<style scoped>\n",
       "    .dataframe tbody tr th:only-of-type {\n",
       "        vertical-align: middle;\n",
       "    }\n",
       "\n",
       "    .dataframe tbody tr th {\n",
       "        vertical-align: top;\n",
       "    }\n",
       "\n",
       "    .dataframe thead th {\n",
       "        text-align: right;\n",
       "    }\n",
       "</style>\n",
       "<table border=\"1\" class=\"dataframe\">\n",
       "  <thead>\n",
       "    <tr style=\"text-align: right;\">\n",
       "      <th></th>\n",
       "      <th>OBJECTID</th>\n",
       "      <th>ZONE_ID</th>\n",
       "      <th>SHAPE_STAr</th>\n",
       "      <th>SHAPE_STLe</th>\n",
       "      <th>geometry</th>\n",
       "    </tr>\n",
       "  </thead>\n",
       "  <tbody>\n",
       "    <tr>\n",
       "      <th>0</th>\n",
       "      <td>1</td>\n",
       "      <td>1</td>\n",
       "      <td>1.053728e+08</td>\n",
       "      <td>49364.601403</td>\n",
       "      <td>POLYGON ((-78.56795 41.19167, -78.56795 41.191...</td>\n",
       "    </tr>\n",
       "    <tr>\n",
       "      <th>1</th>\n",
       "      <td>2</td>\n",
       "      <td>2</td>\n",
       "      <td>7.670585e+07</td>\n",
       "      <td>45226.018917</td>\n",
       "      <td>POLYGON ((-78.58438 41.14694, -78.58423 41.146...</td>\n",
       "    </tr>\n",
       "    <tr>\n",
       "      <th>2</th>\n",
       "      <td>3</td>\n",
       "      <td>3</td>\n",
       "      <td>2.985488e+08</td>\n",
       "      <td>75207.067487</td>\n",
       "      <td>POLYGON ((-78.50866 41.16535, -78.50852 41.165...</td>\n",
       "    </tr>\n",
       "    <tr>\n",
       "      <th>3</th>\n",
       "      <td>4</td>\n",
       "      <td>4</td>\n",
       "      <td>2.713638e+08</td>\n",
       "      <td>74348.596054</td>\n",
       "      <td>POLYGON ((-78.55109 41.12847, -78.55101 41.128...</td>\n",
       "    </tr>\n",
       "    <tr>\n",
       "      <th>4</th>\n",
       "      <td>5</td>\n",
       "      <td>5</td>\n",
       "      <td>3.928178e+08</td>\n",
       "      <td>106661.712102</td>\n",
       "      <td>POLYGON ((-78.59154 41.23154, -78.59113 41.230...</td>\n",
       "    </tr>\n",
       "  </tbody>\n",
       "</table>\n",
       "</div>"
      ],
      "text/plain": [
       "   OBJECTID  ZONE_ID    SHAPE_STAr     SHAPE_STLe  \\\n",
       "0         1        1  1.053728e+08   49364.601403   \n",
       "1         2        2  7.670585e+07   45226.018917   \n",
       "2         3        3  2.985488e+08   75207.067487   \n",
       "3         4        4  2.713638e+08   74348.596054   \n",
       "4         5        5  3.928178e+08  106661.712102   \n",
       "\n",
       "                                            geometry  \n",
       "0  POLYGON ((-78.56795 41.19167, -78.56795 41.191...  \n",
       "1  POLYGON ((-78.58438 41.14694, -78.58423 41.146...  \n",
       "2  POLYGON ((-78.50866 41.16535, -78.50852 41.165...  \n",
       "3  POLYGON ((-78.55109 41.12847, -78.55101 41.128...  \n",
       "4  POLYGON ((-78.59154 41.23154, -78.59113 41.230...  "
      ]
     },
     "execution_count": 2,
     "metadata": {},
     "output_type": "execute_result"
    }
   ],
   "source": [
    "zone = gpd.read_file('../data/MDHA_Promise_Zones/files/Export_Output_5.geojson')\n",
    "print(zone.crs)\n",
    "zone.head( )"
   ]
  },
  {
   "cell_type": "markdown",
   "id": "f95db293",
   "metadata": {},
   "source": [
    "Plot the Promise Zone"
   ]
  },
  {
   "cell_type": "code",
   "execution_count": 3,
   "id": "b64808a9",
   "metadata": {},
   "outputs": [
    {
     "data": {
      "image/png": "[encoded data removed]",
      "text/plain": [
       "<Figure size 432x288 with 1 Axes>"
      ]
     },
     "metadata": {
      "needs_background": "light"
     },
     "output_type": "display_data"
    }
   ],
   "source": [
    "zone.plot();"
   ]
  },
  {
   "cell_type": "markdown",
   "id": "82a09db2",
   "metadata": {},
   "source": [
    "Read in the pkl file"
   ]
  },
  {
   "cell_type": "code",
   "execution_count": 4,
   "id": "4549a81d",
   "metadata": {},
   "outputs": [],
   "source": [
    "may = pd.read_pickle('../data/may.pkl')"
   ]
  },
  {
   "cell_type": "code",
   "execution_count": 5,
   "id": "31b1dad1",
   "metadata": {},
   "outputs": [
    {
     "data": {
      "text/html": [
       "<div>\n",
       "<style scoped>\n",
       "    .dataframe tbody tr th:only-of-type {\n",
       "        vertical-align: middle;\n",
       "    }\n",
       "\n",
       "    .dataframe tbody tr th {\n",
       "        vertical-align: top;\n",
       "    }\n",
       "\n",
       "    .dataframe thead th {\n",
       "        text-align: right;\n",
       "    }\n",
       "</style>\n",
       "<table border=\"1\" class=\"dataframe\">\n",
       "  <thead>\n",
       "    <tr style=\"text-align: right;\">\n",
       "      <th></th>\n",
       "      <th>pubdatetime</th>\n",
       "      <th>latitude</th>\n",
       "      <th>longitude</th>\n",
       "      <th>sumdid</th>\n",
       "      <th>chargelevel</th>\n",
       "      <th>companyname</th>\n",
       "    </tr>\n",
       "  </thead>\n",
       "  <tbody>\n",
       "    <tr>\n",
       "      <th>0</th>\n",
       "      <td>2019-05-01 00:01:41.247</td>\n",
       "      <td>36.136822</td>\n",
       "      <td>-86.799877</td>\n",
       "      <td>PoweredLIRL1</td>\n",
       "      <td>93.0</td>\n",
       "      <td>0</td>\n",
       "    </tr>\n",
       "    <tr>\n",
       "      <th>1</th>\n",
       "      <td>2019-05-01 00:01:41.247</td>\n",
       "      <td>36.191252</td>\n",
       "      <td>-86.772945</td>\n",
       "      <td>PoweredXWRWC</td>\n",
       "      <td>35.0</td>\n",
       "      <td>0</td>\n",
       "    </tr>\n",
       "    <tr>\n",
       "      <th>2</th>\n",
       "      <td>2019-05-01 00:01:41.247</td>\n",
       "      <td>36.144752</td>\n",
       "      <td>-86.806293</td>\n",
       "      <td>PoweredMEJEH</td>\n",
       "      <td>90.0</td>\n",
       "      <td>0</td>\n",
       "    </tr>\n",
       "    <tr>\n",
       "      <th>3</th>\n",
       "      <td>2019-05-01 00:01:41.247</td>\n",
       "      <td>36.162056</td>\n",
       "      <td>-86.774688</td>\n",
       "      <td>Powered1A7TC</td>\n",
       "      <td>88.0</td>\n",
       "      <td>0</td>\n",
       "    </tr>\n",
       "    <tr>\n",
       "      <th>4</th>\n",
       "      <td>2019-05-01 00:01:41.247</td>\n",
       "      <td>36.150973</td>\n",
       "      <td>-86.783109</td>\n",
       "      <td>Powered2TYEF</td>\n",
       "      <td>98.0</td>\n",
       "      <td>0</td>\n",
       "    </tr>\n",
       "  </tbody>\n",
       "</table>\n",
       "</div>"
      ],
      "text/plain": [
       "              pubdatetime   latitude  longitude        sumdid  chargelevel  \\\n",
       "0 2019-05-01 00:01:41.247  36.136822 -86.799877  PoweredLIRL1         93.0   \n",
       "1 2019-05-01 00:01:41.247  36.191252 -86.772945  PoweredXWRWC         35.0   \n",
       "2 2019-05-01 00:01:41.247  36.144752 -86.806293  PoweredMEJEH         90.0   \n",
       "3 2019-05-01 00:01:41.247  36.162056 -86.774688  Powered1A7TC         88.0   \n",
       "4 2019-05-01 00:01:41.247  36.150973 -86.783109  Powered2TYEF         98.0   \n",
       "\n",
       "   companyname  \n",
       "0            0  \n",
       "1            0  \n",
       "2            0  \n",
       "3            0  \n",
       "4            0  "
      ]
     },
     "execution_count": 5,
     "metadata": {},
     "output_type": "execute_result"
    }
   ],
   "source": [
    "may.head()"
   ]
  },
  {
   "cell_type": "markdown",
   "id": "25388ef9",
   "metadata": {},
   "source": [
    "Create geometry column for may."
   ]
  },
  {
   "cell_type": "code",
   "execution_count": 6,
   "id": "256faf48",
   "metadata": {},
   "outputs": [],
   "source": [
    "may['geometry'] = may.apply(lambda x: Point((x.longitude, \n",
    "                                            x.latitude)), \n",
    "                                        axis=1);"
   ]
  },
  {
   "cell_type": "markdown",
   "id": "709de23c",
   "metadata": {},
   "source": [
    "Match the crs"
   ]
  },
  {
   "cell_type": "code",
   "execution_count": 7,
   "id": "a9342d3d",
   "metadata": {},
   "outputs": [
    {
     "data": {
      "text/plain": [
       "<Geographic 2D CRS: EPSG:4326>\n",
       "Name: WGS 84\n",
       "Axis Info [ellipsoidal]:\n",
       "- Lat[north]: Geodetic latitude (degree)\n",
       "- Lon[east]: Geodetic longitude (degree)\n",
       "Area of Use:\n",
       "- name: World\n",
       "- bounds: (-180.0, -90.0, 180.0, 90.0)\n",
       "Datum: World Geodetic System 1984\n",
       "- Ellipsoid: WGS 84\n",
       "- Prime Meridian: Greenwich"
      ]
     },
     "execution_count": 7,
     "metadata": {},
     "output_type": "execute_result"
    }
   ],
   "source": [
    "zone.crs"
   ]
  },
  {
   "cell_type": "code",
   "execution_count": 8,
   "id": "e5d45580",
   "metadata": {},
   "outputs": [
    {
     "data": {
      "text/html": [
       "<div>\n",
       "<style scoped>\n",
       "    .dataframe tbody tr th:only-of-type {\n",
       "        vertical-align: middle;\n",
       "    }\n",
       "\n",
       "    .dataframe tbody tr th {\n",
       "        vertical-align: top;\n",
       "    }\n",
       "\n",
       "    .dataframe thead th {\n",
       "        text-align: right;\n",
       "    }\n",
       "</style>\n",
       "<table border=\"1\" class=\"dataframe\">\n",
       "  <thead>\n",
       "    <tr style=\"text-align: right;\">\n",
       "      <th></th>\n",
       "      <th>pubdatetime</th>\n",
       "      <th>latitude</th>\n",
       "      <th>longitude</th>\n",
       "      <th>sumdid</th>\n",
       "      <th>chargelevel</th>\n",
       "      <th>companyname</th>\n",
       "      <th>geometry</th>\n",
       "    </tr>\n",
       "  </thead>\n",
       "  <tbody>\n",
       "    <tr>\n",
       "      <th>0</th>\n",
       "      <td>2019-05-01 00:01:41.247</td>\n",
       "      <td>36.136822</td>\n",
       "      <td>-86.799877</td>\n",
       "      <td>PoweredLIRL1</td>\n",
       "      <td>93.0</td>\n",
       "      <td>0</td>\n",
       "      <td>POLYGON ((-78.56795 41.19167, -78.56795 41.191...</td>\n",
       "    </tr>\n",
       "    <tr>\n",
       "      <th>1</th>\n",
       "      <td>2019-05-01 00:01:41.247</td>\n",
       "      <td>36.191252</td>\n",
       "      <td>-86.772945</td>\n",
       "      <td>PoweredXWRWC</td>\n",
       "      <td>35.0</td>\n",
       "      <td>0</td>\n",
       "      <td>POLYGON ((-78.58438 41.14694, -78.58423 41.146...</td>\n",
       "    </tr>\n",
       "  </tbody>\n",
       "</table>\n",
       "</div>"
      ],
      "text/plain": [
       "              pubdatetime   latitude  longitude        sumdid  chargelevel  \\\n",
       "0 2019-05-01 00:01:41.247  36.136822 -86.799877  PoweredLIRL1         93.0   \n",
       "1 2019-05-01 00:01:41.247  36.191252 -86.772945  PoweredXWRWC         35.0   \n",
       "\n",
       "   companyname                                           geometry  \n",
       "0            0  POLYGON ((-78.56795 41.19167, -78.56795 41.191...  \n",
       "1            0  POLYGON ((-78.58438 41.14694, -78.58423 41.146...  "
      ]
     },
     "execution_count": 8,
     "metadata": {},
     "output_type": "execute_result"
    }
   ],
   "source": [
    "may_geo = gpd.GeoDataFrame(may, \n",
    "                           crs = zone.crs, \n",
    "                           geometry = zone['geometry'])\n",
    "type(may_geo)\n",
    "may_geo.head(2)"
   ]
  },
  {
   "cell_type": "code",
   "execution_count": 9,
   "id": "7965d539",
   "metadata": {},
   "outputs": [
    {
     "data": {
      "text/plain": [
       "<Geographic 2D CRS: EPSG:4326>\n",
       "Name: WGS 84\n",
       "Axis Info [ellipsoidal]:\n",
       "- Lat[north]: Geodetic latitude (degree)\n",
       "- Lon[east]: Geodetic longitude (degree)\n",
       "Area of Use:\n",
       "- name: World\n",
       "- bounds: (-180.0, -90.0, 180.0, 90.0)\n",
       "Datum: World Geodetic System 1984\n",
       "- Ellipsoid: WGS 84\n",
       "- Prime Meridian: Greenwich"
      ]
     },
     "execution_count": 9,
     "metadata": {},
     "output_type": "execute_result"
    }
   ],
   "source": [
    "may_geo.crs"
   ]
  },
  {
   "cell_type": "markdown",
   "id": "682d704c",
   "metadata": {},
   "source": [
    "Join the geodataframes with a spatial join. Only keep the zone_id and geometry from promise_zone."
   ]
  },
  {
   "cell_type": "code",
   "execution_count": 10,
   "id": "e928eef7",
   "metadata": {},
   "outputs": [
    {
     "data": {
      "text/html": [
       "<div>\n",
       "<style scoped>\n",
       "    .dataframe tbody tr th:only-of-type {\n",
       "        vertical-align: middle;\n",
       "    }\n",
       "\n",
       "    .dataframe tbody tr th {\n",
       "        vertical-align: top;\n",
       "    }\n",
       "\n",
       "    .dataframe thead th {\n",
       "        text-align: right;\n",
       "    }\n",
       "</style>\n",
       "<table border=\"1\" class=\"dataframe\">\n",
       "  <thead>\n",
       "    <tr style=\"text-align: right;\">\n",
       "      <th></th>\n",
       "      <th>ZONE_ID</th>\n",
       "      <th>geometry</th>\n",
       "    </tr>\n",
       "  </thead>\n",
       "  <tbody>\n",
       "    <tr>\n",
       "      <th>0</th>\n",
       "      <td>1</td>\n",
       "      <td>POLYGON ((-78.56795 41.19167, -78.56795 41.191...</td>\n",
       "    </tr>\n",
       "    <tr>\n",
       "      <th>1</th>\n",
       "      <td>2</td>\n",
       "      <td>POLYGON ((-78.58438 41.14694, -78.58423 41.146...</td>\n",
       "    </tr>\n",
       "  </tbody>\n",
       "</table>\n",
       "</div>"
      ],
      "text/plain": [
       "   ZONE_ID                                           geometry\n",
       "0        1  POLYGON ((-78.56795 41.19167, -78.56795 41.191...\n",
       "1        2  POLYGON ((-78.58438 41.14694, -78.58423 41.146..."
      ]
     },
     "execution_count": 10,
     "metadata": {},
     "output_type": "execute_result"
    }
   ],
   "source": [
    "zone = zone[['ZONE_ID', 'geometry']]\n",
    "zone.head(2)"
   ]
  },
  {
   "cell_type": "code",
   "execution_count": 11,
   "id": "c1b5135c",
   "metadata": {},
   "outputs": [],
   "source": [
    "may_zone = gpd.sjoin(may_geo, zone, op = 'within')"
   ]
  },
  {
   "cell_type": "code",
   "execution_count": 12,
   "id": "8b3b4037",
   "metadata": {},
   "outputs": [
    {
     "data": {
      "text/html": [
       "<div>\n",
       "<style scoped>\n",
       "    .dataframe tbody tr th:only-of-type {\n",
       "        vertical-align: middle;\n",
       "    }\n",
       "\n",
       "    .dataframe tbody tr th {\n",
       "        vertical-align: top;\n",
       "    }\n",
       "\n",
       "    .dataframe thead th {\n",
       "        text-align: right;\n",
       "    }\n",
       "</style>\n",
       "<table border=\"1\" class=\"dataframe\">\n",
       "  <thead>\n",
       "    <tr style=\"text-align: right;\">\n",
       "      <th></th>\n",
       "      <th>pubdatetime</th>\n",
       "      <th>latitude</th>\n",
       "      <th>longitude</th>\n",
       "      <th>sumdid</th>\n",
       "      <th>chargelevel</th>\n",
       "      <th>companyname</th>\n",
       "      <th>geometry</th>\n",
       "      <th>index_right</th>\n",
       "      <th>ZONE_ID</th>\n",
       "    </tr>\n",
       "  </thead>\n",
       "  <tbody>\n",
       "    <tr>\n",
       "      <th>0</th>\n",
       "      <td>2019-05-01 00:01:41.247</td>\n",
       "      <td>36.136822</td>\n",
       "      <td>-86.799877</td>\n",
       "      <td>PoweredLIRL1</td>\n",
       "      <td>93.0</td>\n",
       "      <td>0</td>\n",
       "      <td>POLYGON ((-78.56795 41.19167, -78.56795 41.191...</td>\n",
       "      <td>0</td>\n",
       "      <td>1</td>\n",
       "    </tr>\n",
       "    <tr>\n",
       "      <th>1</th>\n",
       "      <td>2019-05-01 00:01:41.247</td>\n",
       "      <td>36.191252</td>\n",
       "      <td>-86.772945</td>\n",
       "      <td>PoweredXWRWC</td>\n",
       "      <td>35.0</td>\n",
       "      <td>0</td>\n",
       "      <td>POLYGON ((-78.58438 41.14694, -78.58423 41.146...</td>\n",
       "      <td>1</td>\n",
       "      <td>2</td>\n",
       "    </tr>\n",
       "    <tr>\n",
       "      <th>2</th>\n",
       "      <td>2019-05-01 00:01:41.247</td>\n",
       "      <td>36.144752</td>\n",
       "      <td>-86.806293</td>\n",
       "      <td>PoweredMEJEH</td>\n",
       "      <td>90.0</td>\n",
       "      <td>0</td>\n",
       "      <td>POLYGON ((-78.50866 41.16535, -78.50852 41.165...</td>\n",
       "      <td>2</td>\n",
       "      <td>3</td>\n",
       "    </tr>\n",
       "    <tr>\n",
       "      <th>3</th>\n",
       "      <td>2019-05-01 00:01:41.247</td>\n",
       "      <td>36.162056</td>\n",
       "      <td>-86.774688</td>\n",
       "      <td>Powered1A7TC</td>\n",
       "      <td>88.0</td>\n",
       "      <td>0</td>\n",
       "      <td>POLYGON ((-78.55109 41.12847, -78.55101 41.128...</td>\n",
       "      <td>3</td>\n",
       "      <td>4</td>\n",
       "    </tr>\n",
       "    <tr>\n",
       "      <th>4</th>\n",
       "      <td>2019-05-01 00:01:41.247</td>\n",
       "      <td>36.150973</td>\n",
       "      <td>-86.783109</td>\n",
       "      <td>Powered2TYEF</td>\n",
       "      <td>98.0</td>\n",
       "      <td>0</td>\n",
       "      <td>POLYGON ((-78.59154 41.23154, -78.59113 41.230...</td>\n",
       "      <td>4</td>\n",
       "      <td>5</td>\n",
       "    </tr>\n",
       "  </tbody>\n",
       "</table>\n",
       "</div>"
      ],
      "text/plain": [
       "              pubdatetime   latitude  longitude        sumdid  chargelevel  \\\n",
       "0 2019-05-01 00:01:41.247  36.136822 -86.799877  PoweredLIRL1         93.0   \n",
       "1 2019-05-01 00:01:41.247  36.191252 -86.772945  PoweredXWRWC         35.0   \n",
       "2 2019-05-01 00:01:41.247  36.144752 -86.806293  PoweredMEJEH         90.0   \n",
       "3 2019-05-01 00:01:41.247  36.162056 -86.774688  Powered1A7TC         88.0   \n",
       "4 2019-05-01 00:01:41.247  36.150973 -86.783109  Powered2TYEF         98.0   \n",
       "\n",
       "   companyname                                           geometry  \\\n",
       "0            0  POLYGON ((-78.56795 41.19167, -78.56795 41.191...   \n",
       "1            0  POLYGON ((-78.58438 41.14694, -78.58423 41.146...   \n",
       "2            0  POLYGON ((-78.50866 41.16535, -78.50852 41.165...   \n",
       "3            0  POLYGON ((-78.55109 41.12847, -78.55101 41.128...   \n",
       "4            0  POLYGON ((-78.59154 41.23154, -78.59113 41.230...   \n",
       "\n",
       "   index_right  ZONE_ID  \n",
       "0            0        1  \n",
       "1            1        2  \n",
       "2            2        3  \n",
       "3            3        4  \n",
       "4            4        5  "
      ]
     },
     "execution_count": 12,
     "metadata": {},
     "output_type": "execute_result"
    }
   ],
   "source": [
    "may_zone.head()"
   ]
  },
  {
   "cell_type": "markdown",
   "id": "e96585ae",
   "metadata": {},
   "source": [
    "Inspect the zones"
   ]
  },
  {
   "cell_type": "code",
   "execution_count": 13,
   "id": "8aea45b8",
   "metadata": {},
   "outputs": [
    {
     "data": {
      "text/plain": [
       "1    1\n",
       "2    1\n",
       "3    1\n",
       "4    1\n",
       "5    1\n",
       "6    1\n",
       "Name: ZONE_ID, dtype: int64"
      ]
     },
     "execution_count": 13,
     "metadata": {},
     "output_type": "execute_result"
    }
   ],
   "source": [
    "may_zone['ZONE_ID'].value_counts()"
   ]
  },
  {
   "cell_type": "markdown",
   "id": "5a9abe92",
   "metadata": {},
   "source": [
    "Let's focus on zone 6 for now"
   ]
  },
  {
   "cell_type": "code",
   "execution_count": 14,
   "id": "81c1313b",
   "metadata": {},
   "outputs": [
    {
     "data": {
      "text/plain": [
       "(1, 9)"
      ]
     },
     "execution_count": 14,
     "metadata": {},
     "output_type": "execute_result"
    }
   ],
   "source": [
    "may_zone6 = may_zone.loc[may_zone['ZONE_ID'] == 6]\n",
    "may_zone6.shape"
   ]
  },
  {
   "cell_type": "code",
   "execution_count": 15,
   "id": "a9e19287",
   "metadata": {},
   "outputs": [
    {
     "data": {
      "text/plain": [
       "(1, 2)"
      ]
     },
     "execution_count": 15,
     "metadata": {},
     "output_type": "execute_result"
    }
   ],
   "source": [
    "polygon_zone6 = zone.loc[zone['ZONE_ID'] == 6]\n",
    "polygon_zone6.shape"
   ]
  },
  {
   "cell_type": "code",
   "execution_count": 16,
   "id": "b442c69f",
   "metadata": {},
   "outputs": [
    {
     "data": {
      "image/png": "[encoded data removed]",
      "text/plain": [
       "<Figure size 576x720 with 1 Axes>"
      ]
     },
     "metadata": {
      "needs_background": "light"
     },
     "output_type": "display_data"
    }
   ],
   "source": [
    "ax = polygon_zone6.plot(figsize = (8, 10), color = 'lightgreen')\n",
    "may_zone6.plot( ax = ax, column = 'sumdid');\n",
    "plt.show();"
   ]
  },
  {
   "cell_type": "markdown",
   "id": "e0ecfff7",
   "metadata": {},
   "source": [
    "Put it on a map"
   ]
  },
  {
   "cell_type": "code",
   "execution_count": 17,
   "id": "4d8a29c7",
   "metadata": {},
   "outputs": [
    {
     "name": "stderr",
     "output_type": "stream",
     "text": [
      "C:\\Users\\jojuk\\AppData\\Local\\Temp/ipykernel_16996/1119009884.py:1: UserWarning: Geometry is in a geographic CRS. Results from 'centroid' are likely incorrect. Use 'GeoSeries.to_crs()' to re-project geometries to a projected CRS before this operation.\n",
      "\n",
      "  polygon_zone6.geometry.centroid\n"
     ]
    },
    {
     "data": {
      "text/plain": [
       "5    POINT (-78.67593 41.15125)\n",
       "dtype: geometry"
      ]
     },
     "execution_count": 17,
     "metadata": {},
     "output_type": "execute_result"
    }
   ],
   "source": [
    "polygon_zone6.geometry.centroid"
   ]
  },
  {
   "cell_type": "code",
   "execution_count": 18,
   "id": "2e18b85d",
   "metadata": {},
   "outputs": [
    {
     "name": "stdout",
     "output_type": "stream",
     "text": [
      "POINT (-78.67592558418018 41.15125178828045)\n"
     ]
    },
    {
     "name": "stderr",
     "output_type": "stream",
     "text": [
      "C:\\Users\\jojuk\\AppData\\Local\\Temp/ipykernel_16996/3696582550.py:1: UserWarning: Geometry is in a geographic CRS. Results from 'centroid' are likely incorrect. Use 'GeoSeries.to_crs()' to re-project geometries to a projected CRS before this operation.\n",
      "\n",
      "  center = polygon_zone6.geometry.centroid[5]\n"
     ]
    }
   ],
   "source": [
    "center = polygon_zone6.geometry.centroid[5]\n",
    "print(center)"
   ]
  },
  {
   "cell_type": "code",
   "execution_count": 19,
   "id": "327dc1cd",
   "metadata": {},
   "outputs": [
    {
     "name": "stdout",
     "output_type": "stream",
     "text": [
      "[41.151251788280454, -78.67592558418018]\n"
     ]
    }
   ],
   "source": [
    "area_center = [center.y, center.x]\n",
    "print(area_center)"
   ]
  },
  {
   "cell_type": "code",
   "execution_count": 20,
   "id": "78bb286c",
   "metadata": {},
   "outputs": [
    {
     "data": {
      "text/html": [
       "<div style=\"width:100%;\"><div style=\"position:relative;width:100%;height:0;padding-bottom:60%;\"><span style=\"color:#565656\">Make this Notebook Trusted to load map: File -> Trust Notebook</span><iframe src=\"about:blank\" style=\"position:absolute;width:100%;height:100%;left:0;top:0;border:none !important;\" data-html=%3C%21DOCTYPE%20html%3E%0A%3Chead%3E%20%20%20%20%0A%20%20%20%20%3Cmeta%20http-equiv%3D%22content-type%22%20content%3D%22text/html%3B%20charset%3DUTF-8%22%20/%3E%0A%20%20%20%20%0A%20%20%20%20%20%20%20%20%3Cscript%3E%0A%20%20%20%20%20%20%20%20%20%20%20%20L_NO_TOUCH%20%3D%20false%3B%0A%20%20%20%20%20%20%20%20%20%20%20%20L_DISABLE_3D%20%3D%20false%3B%0A%20%20%20%20%20%20%20%20%3C/script%3E%0A%20%20%20%20%0A%20%20%20%20%3Cscript%20src%3D%22https%3A//cdn.jsdelivr.net/npm/leaflet%401.6.0/dist/leaflet.js%22%3E%3C/script%3E%0A%20%20%20%20%3Cscript%20src%3D%22https%3A//code.jquery.com/jquery-1.12.4.min.js%22%3E%3C/script%3E%0A%20%20%20%20%3Cscript%20src%3D%22https%3A//maxcdn.bootstrapcdn.com/bootstrap/3.2.0/js/bootstrap.min.js%22%3E%3C/script%3E%0A%20%20%20%20%3Cscript%20src%3D%22https%3A//cdnjs.cloudflare.com/ajax/libs/Leaflet.awesome-markers/2.0.2/leaflet.awesome-markers.js%22%3E%3C/script%3E%0A%20%20%20%20%3Clink%20rel%3D%22stylesheet%22%20href%3D%22https%3A//cdn.jsdelivr.net/npm/leaflet%401.6.0/dist/leaflet.css%22/%3E%0A%20%20%20%20%3Clink%20rel%3D%22stylesheet%22%20href%3D%22https%3A//maxcdn.bootstrapcdn.com/bootstrap/3.2.0/css/bootstrap.min.css%22/%3E%0A%20%20%20%20%3Clink%20rel%3D%22stylesheet%22%20href%3D%22https%3A//maxcdn.bootstrapcdn.com/bootstrap/3.2.0/css/bootstrap-theme.min.css%22/%3E%0A%20%20%20%20%3Clink%20rel%3D%22stylesheet%22%20href%3D%22https%3A//maxcdn.bootstrapcdn.com/font-awesome/4.6.3/css/font-awesome.min.css%22/%3E%0A%20%20%20%20%3Clink%20rel%3D%22stylesheet%22%20href%3D%22https%3A//cdnjs.cloudflare.com/ajax/libs/Leaflet.awesome-markers/2.0.2/leaflet.awesome-markers.css%22/%3E%0A%20%20%20%20%3Clink%20rel%3D%22stylesheet%22%20href%3D%22https%3A//rawcdn.githack.com/python-visualization/folium/master/folium/templates/leaflet.awesome.rotate.css%22/%3E%0A%20%20%20%20%3Cstyle%3Ehtml%2C%20body%20%7Bwidth%3A%20100%25%3Bheight%3A%20100%25%3Bmargin%3A%200%3Bpadding%3A%200%3B%7D%3C/style%3E%0A%20%20%20%20%3Cstyle%3E%23map%20%7Bposition%3Aabsolute%3Btop%3A0%3Bbottom%3A0%3Bright%3A0%3Bleft%3A0%3B%7D%3C/style%3E%0A%20%20%20%20%0A%20%20%20%20%20%20%20%20%20%20%20%20%3Cmeta%20name%3D%22viewport%22%20content%3D%22width%3Ddevice-width%2C%0A%20%20%20%20%20%20%20%20%20%20%20%20%20%20%20%20initial-scale%3D1.0%2C%20maximum-scale%3D1.0%2C%20user-scalable%3Dno%22%20/%3E%0A%20%20%20%20%20%20%20%20%20%20%20%20%3Cstyle%3E%0A%20%20%20%20%20%20%20%20%20%20%20%20%20%20%20%20%23map_1ba23ee56d3d429ea4f18f96eb36a27e%20%7B%0A%20%20%20%20%20%20%20%20%20%20%20%20%20%20%20%20%20%20%20%20position%3A%20relative%3B%0A%20%20%20%20%20%20%20%20%20%20%20%20%20%20%20%20%20%20%20%20width%3A%20100.0%25%3B%0A%20%20%20%20%20%20%20%20%20%20%20%20%20%20%20%20%20%20%20%20height%3A%20100.0%25%3B%0A%20%20%20%20%20%20%20%20%20%20%20%20%20%20%20%20%20%20%20%20left%3A%200.0%25%3B%0A%20%20%20%20%20%20%20%20%20%20%20%20%20%20%20%20%20%20%20%20top%3A%200.0%25%3B%0A%20%20%20%20%20%20%20%20%20%20%20%20%20%20%20%20%7D%0A%20%20%20%20%20%20%20%20%20%20%20%20%3C/style%3E%0A%20%20%20%20%20%20%20%20%0A%3C/head%3E%0A%3Cbody%3E%20%20%20%20%0A%20%20%20%20%0A%20%20%20%20%20%20%20%20%20%20%20%20%3Cdiv%20class%3D%22folium-map%22%20id%3D%22map_1ba23ee56d3d429ea4f18f96eb36a27e%22%20%3E%3C/div%3E%0A%20%20%20%20%20%20%20%20%0A%3C/body%3E%0A%3Cscript%3E%20%20%20%20%0A%20%20%20%20%0A%20%20%20%20%20%20%20%20%20%20%20%20var%20map_1ba23ee56d3d429ea4f18f96eb36a27e%20%3D%20L.map%28%0A%20%20%20%20%20%20%20%20%20%20%20%20%20%20%20%20%22map_1ba23ee56d3d429ea4f18f96eb36a27e%22%2C%0A%20%20%20%20%20%20%20%20%20%20%20%20%20%20%20%20%7B%0A%20%20%20%20%20%20%20%20%20%20%20%20%20%20%20%20%20%20%20%20center%3A%20%5B41.151251788280454%2C%20-78.67592558418018%5D%2C%0A%20%20%20%20%20%20%20%20%20%20%20%20%20%20%20%20%20%20%20%20crs%3A%20L.CRS.EPSG3857%2C%0A%20%20%20%20%20%20%20%20%20%20%20%20%20%20%20%20%20%20%20%20zoom%3A%2012%2C%0A%20%20%20%20%20%20%20%20%20%20%20%20%20%20%20%20%20%20%20%20zoomControl%3A%20true%2C%0A%20%20%20%20%20%20%20%20%20%20%20%20%20%20%20%20%20%20%20%20preferCanvas%3A%20false%2C%0A%20%20%20%20%20%20%20%20%20%20%20%20%20%20%20%20%7D%0A%20%20%20%20%20%20%20%20%20%20%20%20%29%3B%0A%0A%20%20%20%20%20%20%20%20%20%20%20%20%0A%0A%20%20%20%20%20%20%20%20%0A%20%20%20%20%0A%20%20%20%20%20%20%20%20%20%20%20%20var%20tile_layer_3751d006736140389ce959376bfbef3b%20%3D%20L.tileLayer%28%0A%20%20%20%20%20%20%20%20%20%20%20%20%20%20%20%20%22https%3A//%7Bs%7D.tile.openstreetmap.org/%7Bz%7D/%7Bx%7D/%7By%7D.png%22%2C%0A%20%20%20%20%20%20%20%20%20%20%20%20%20%20%20%20%7B%22attribution%22%3A%20%22Data%20by%20%5Cu0026copy%3B%20%5Cu003ca%20href%3D%5C%22http%3A//openstreetmap.org%5C%22%5Cu003eOpenStreetMap%5Cu003c/a%5Cu003e%2C%20under%20%5Cu003ca%20href%3D%5C%22http%3A//www.openstreetmap.org/copyright%5C%22%5Cu003eODbL%5Cu003c/a%5Cu003e.%22%2C%20%22detectRetina%22%3A%20false%2C%20%22maxNativeZoom%22%3A%2018%2C%20%22maxZoom%22%3A%2018%2C%20%22minZoom%22%3A%200%2C%20%22noWrap%22%3A%20false%2C%20%22opacity%22%3A%201%2C%20%22subdomains%22%3A%20%22abc%22%2C%20%22tms%22%3A%20false%7D%0A%20%20%20%20%20%20%20%20%20%20%20%20%29.addTo%28map_1ba23ee56d3d429ea4f18f96eb36a27e%29%3B%0A%20%20%20%20%20%20%20%20%0A%3C/script%3E onload=\"this.contentDocument.open();this.contentDocument.write(    decodeURIComponent(this.getAttribute('data-html')));this.contentDocument.close();\" allowfullscreen webkitallowfullscreen mozallowfullscreen></iframe></div></div>"
      ],
      "text/plain": [
       "<folium.folium.Map at 0x18da0052940>"
      ]
     },
     "execution_count": 20,
     "metadata": {},
     "output_type": "execute_result"
    }
   ],
   "source": [
    "map_zone6 = folium.Map(location =  area_center, zoom_start = 12)\n",
    "map_zone6"
   ]
  },
  {
   "cell_type": "code",
   "execution_count": 21,
   "id": "e0404faf",
   "metadata": {},
   "outputs": [
    {
     "name": "stdout",
     "output_type": "stream",
     "text": [
      "index is 5\n",
      "values are:\n",
      " \n",
      "pubdatetime                           2019-05-01 00:01:41.247000\n",
      "latitude                                               36.157188\n",
      "longitude                                             -86.769978\n",
      "sumdid                                              Powered3F3VK\n",
      "chargelevel                                                 82.0\n",
      "companyname                                                    0\n",
      "geometry       POLYGON ((-78.6635793624513 41.16211373242018,...\n",
      "index_right                                                    5\n",
      "ZONE_ID                                                        6\n",
      "Name: 5, dtype: object\n",
      "------------------------- \n"
     ]
    }
   ],
   "source": [
    "i = 0\n",
    "for row_index, row_values in may_zone6.iterrows():\n",
    "    if i <3: \n",
    "        print('index is', row_index)\n",
    "        print('values are:')\n",
    "        print(' ')\n",
    "        print(row_values)\n",
    "        print('------------------------- ')\n",
    "        i+=1"
   ]
  },
  {
   "cell_type": "code",
   "execution_count": 23,
   "id": "49266c80",
   "metadata": {},
   "outputs": [
    {
     "data": {
      "text/html": [
       "<div style=\"width:100%;\"><div style=\"position:relative;width:100%;height:0;padding-bottom:60%;\"><span style=\"color:#565656\">Make this Notebook Trusted to load map: File -> Trust Notebook</span><iframe src=\"about:blank\" style=\"position:absolute;width:100%;height:100%;left:0;top:0;border:none !important;\" data-html=%3C%21DOCTYPE%20html%3E%0A%3Chead%3E%20%20%20%20%0A%20%20%20%20%3Cmeta%20http-equiv%3D%22content-type%22%20content%3D%22text/html%3B%20charset%3DUTF-8%22%20/%3E%0A%20%20%20%20%0A%20%20%20%20%20%20%20%20%3Cscript%3E%0A%20%20%20%20%20%20%20%20%20%20%20%20L_NO_TOUCH%20%3D%20false%3B%0A%20%20%20%20%20%20%20%20%20%20%20%20L_DISABLE_3D%20%3D%20false%3B%0A%20%20%20%20%20%20%20%20%3C/script%3E%0A%20%20%20%20%0A%20%20%20%20%3Cscript%20src%3D%22https%3A//cdn.jsdelivr.net/npm/leaflet%401.6.0/dist/leaflet.js%22%3E%3C/script%3E%0A%20%20%20%20%3Cscript%20src%3D%22https%3A//code.jquery.com/jquery-1.12.4.min.js%22%3E%3C/script%3E%0A%20%20%20%20%3Cscript%20src%3D%22https%3A//maxcdn.bootstrapcdn.com/bootstrap/3.2.0/js/bootstrap.min.js%22%3E%3C/script%3E%0A%20%20%20%20%3Cscript%20src%3D%22https%3A//cdnjs.cloudflare.com/ajax/libs/Leaflet.awesome-markers/2.0.2/leaflet.awesome-markers.js%22%3E%3C/script%3E%0A%20%20%20%20%3Clink%20rel%3D%22stylesheet%22%20href%3D%22https%3A//cdn.jsdelivr.net/npm/leaflet%401.6.0/dist/leaflet.css%22/%3E%0A%20%20%20%20%3Clink%20rel%3D%22stylesheet%22%20href%3D%22https%3A//maxcdn.bootstrapcdn.com/bootstrap/3.2.0/css/bootstrap.min.css%22/%3E%0A%20%20%20%20%3Clink%20rel%3D%22stylesheet%22%20href%3D%22https%3A//maxcdn.bootstrapcdn.com/bootstrap/3.2.0/css/bootstrap-theme.min.css%22/%3E%0A%20%20%20%20%3Clink%20rel%3D%22stylesheet%22%20href%3D%22https%3A//maxcdn.bootstrapcdn.com/font-awesome/4.6.3/css/font-awesome.min.css%22/%3E%0A%20%20%20%20%3Clink%20rel%3D%22stylesheet%22%20href%3D%22https%3A//cdnjs.cloudflare.com/ajax/libs/Leaflet.awesome-markers/2.0.2/leaflet.awesome-markers.css%22/%3E%0A%20%20%20%20%3Clink%20rel%3D%22stylesheet%22%20href%3D%22https%3A//rawcdn.githack.com/python-visualization/folium/master/folium/templates/leaflet.awesome.rotate.css%22/%3E%0A%20%20%20%20%3Cstyle%3Ehtml%2C%20body%20%7Bwidth%3A%20100%25%3Bheight%3A%20100%25%3Bmargin%3A%200%3Bpadding%3A%200%3B%7D%3C/style%3E%0A%20%20%20%20%3Cstyle%3E%23map%20%7Bposition%3Aabsolute%3Btop%3A0%3Bbottom%3A0%3Bright%3A0%3Bleft%3A0%3B%7D%3C/style%3E%0A%20%20%20%20%0A%20%20%20%20%20%20%20%20%20%20%20%20%3Cmeta%20name%3D%22viewport%22%20content%3D%22width%3Ddevice-width%2C%0A%20%20%20%20%20%20%20%20%20%20%20%20%20%20%20%20initial-scale%3D1.0%2C%20maximum-scale%3D1.0%2C%20user-scalable%3Dno%22%20/%3E%0A%20%20%20%20%20%20%20%20%20%20%20%20%3Cstyle%3E%0A%20%20%20%20%20%20%20%20%20%20%20%20%20%20%20%20%23map_dcc956caaa4e457f9d87d1e3a0e76d24%20%7B%0A%20%20%20%20%20%20%20%20%20%20%20%20%20%20%20%20%20%20%20%20position%3A%20relative%3B%0A%20%20%20%20%20%20%20%20%20%20%20%20%20%20%20%20%20%20%20%20width%3A%20100.0%25%3B%0A%20%20%20%20%20%20%20%20%20%20%20%20%20%20%20%20%20%20%20%20height%3A%20100.0%25%3B%0A%20%20%20%20%20%20%20%20%20%20%20%20%20%20%20%20%20%20%20%20left%3A%200.0%25%3B%0A%20%20%20%20%20%20%20%20%20%20%20%20%20%20%20%20%20%20%20%20top%3A%200.0%25%3B%0A%20%20%20%20%20%20%20%20%20%20%20%20%20%20%20%20%7D%0A%20%20%20%20%20%20%20%20%20%20%20%20%3C/style%3E%0A%20%20%20%20%20%20%20%20%0A%20%20%20%20%3Cscript%20src%3D%22https%3A//cdnjs.cloudflare.com/ajax/libs/leaflet.markercluster/1.1.0/leaflet.markercluster.js%22%3E%3C/script%3E%0A%20%20%20%20%3Clink%20rel%3D%22stylesheet%22%20href%3D%22https%3A//cdnjs.cloudflare.com/ajax/libs/leaflet.markercluster/1.1.0/MarkerCluster.css%22/%3E%0A%20%20%20%20%3Clink%20rel%3D%22stylesheet%22%20href%3D%22https%3A//cdnjs.cloudflare.com/ajax/libs/leaflet.markercluster/1.1.0/MarkerCluster.Default.css%22/%3E%0A%3C/head%3E%0A%3Cbody%3E%20%20%20%20%0A%20%20%20%20%0A%20%20%20%20%20%20%20%20%20%20%20%20%3Cdiv%20class%3D%22folium-map%22%20id%3D%22map_dcc956caaa4e457f9d87d1e3a0e76d24%22%20%3E%3C/div%3E%0A%20%20%20%20%20%20%20%20%0A%3C/body%3E%0A%3Cscript%3E%20%20%20%20%0A%20%20%20%20%0A%20%20%20%20%20%20%20%20%20%20%20%20var%20map_dcc956caaa4e457f9d87d1e3a0e76d24%20%3D%20L.map%28%0A%20%20%20%20%20%20%20%20%20%20%20%20%20%20%20%20%22map_dcc956caaa4e457f9d87d1e3a0e76d24%22%2C%0A%20%20%20%20%20%20%20%20%20%20%20%20%20%20%20%20%7B%0A%20%20%20%20%20%20%20%20%20%20%20%20%20%20%20%20%20%20%20%20center%3A%20%5B41.151251788280454%2C%20-78.67592558418018%5D%2C%0A%20%20%20%20%20%20%20%20%20%20%20%20%20%20%20%20%20%20%20%20crs%3A%20L.CRS.EPSG3857%2C%0A%20%20%20%20%20%20%20%20%20%20%20%20%20%20%20%20%20%20%20%20zoom%3A%2013%2C%0A%20%20%20%20%20%20%20%20%20%20%20%20%20%20%20%20%20%20%20%20zoomControl%3A%20true%2C%0A%20%20%20%20%20%20%20%20%20%20%20%20%20%20%20%20%20%20%20%20preferCanvas%3A%20false%2C%0A%20%20%20%20%20%20%20%20%20%20%20%20%20%20%20%20%7D%0A%20%20%20%20%20%20%20%20%20%20%20%20%29%3B%0A%0A%20%20%20%20%20%20%20%20%20%20%20%20%0A%0A%20%20%20%20%20%20%20%20%0A%20%20%20%20%0A%20%20%20%20%20%20%20%20%20%20%20%20var%20tile_layer_956441056b834eb68641dcc1fcada378%20%3D%20L.tileLayer%28%0A%20%20%20%20%20%20%20%20%20%20%20%20%20%20%20%20%22https%3A//%7Bs%7D.tile.openstreetmap.org/%7Bz%7D/%7Bx%7D/%7By%7D.png%22%2C%0A%20%20%20%20%20%20%20%20%20%20%20%20%20%20%20%20%7B%22attribution%22%3A%20%22Data%20by%20%5Cu0026copy%3B%20%5Cu003ca%20href%3D%5C%22http%3A//openstreetmap.org%5C%22%5Cu003eOpenStreetMap%5Cu003c/a%5Cu003e%2C%20under%20%5Cu003ca%20href%3D%5C%22http%3A//www.openstreetmap.org/copyright%5C%22%5Cu003eODbL%5Cu003c/a%5Cu003e.%22%2C%20%22detectRetina%22%3A%20false%2C%20%22maxNativeZoom%22%3A%2018%2C%20%22maxZoom%22%3A%2018%2C%20%22minZoom%22%3A%200%2C%20%22noWrap%22%3A%20false%2C%20%22opacity%22%3A%201%2C%20%22subdomains%22%3A%20%22abc%22%2C%20%22tms%22%3A%20false%7D%0A%20%20%20%20%20%20%20%20%20%20%20%20%29.addTo%28map_dcc956caaa4e457f9d87d1e3a0e76d24%29%3B%0A%20%20%20%20%20%20%20%20%0A%20%20%20%20%0A%20%20%20%20%20%20%20%20%20%20%20%20var%20marker_cluster_12ccc109c55e404cafaeef1a4c9c5df8%20%3D%20L.markerClusterGroup%28%0A%20%20%20%20%20%20%20%20%20%20%20%20%20%20%20%20%7B%7D%0A%20%20%20%20%20%20%20%20%20%20%20%20%29%3B%0A%20%20%20%20%20%20%20%20%20%20%20%20map_dcc956caaa4e457f9d87d1e3a0e76d24.addLayer%28marker_cluster_12ccc109c55e404cafaeef1a4c9c5df8%29%3B%0A%20%20%20%20%20%20%20%20%0A%20%20%20%20%0A%20%20%20%20%20%20%20%20%20%20%20%20var%20marker_acd2ce93c57e48bfbd7fb7980972f125%20%3D%20L.marker%28%0A%20%20%20%20%20%20%20%20%20%20%20%20%20%20%20%20%5B36.157188%2C%20-86.769978%5D%2C%0A%20%20%20%20%20%20%20%20%20%20%20%20%20%20%20%20%7B%7D%0A%20%20%20%20%20%20%20%20%20%20%20%20%29.addTo%28marker_cluster_12ccc109c55e404cafaeef1a4c9c5df8%29%3B%0A%20%20%20%20%20%20%20%20%0A%20%20%20%20%0A%20%20%20%20%20%20%20%20%20%20%20%20var%20icon_be396c56bd9049389f86f292e64570d0%20%3D%20L.AwesomeMarkers.icon%28%0A%20%20%20%20%20%20%20%20%20%20%20%20%20%20%20%20%7B%22extraClasses%22%3A%20%22fa-rotate-0%22%2C%20%22icon%22%3A%20%22map-pin%22%2C%20%22iconColor%22%3A%20%22white%22%2C%20%22markerColor%22%3A%20%22blue%22%2C%20%22prefix%22%3A%20%22fa%22%7D%0A%20%20%20%20%20%20%20%20%20%20%20%20%29%3B%0A%20%20%20%20%20%20%20%20%20%20%20%20marker_acd2ce93c57e48bfbd7fb7980972f125.setIcon%28icon_be396c56bd9049389f86f292e64570d0%29%3B%0A%20%20%20%20%20%20%20%20%0A%20%20%20%20%0A%20%20%20%20%20%20%20%20%20%20%20%20marker_acd2ce93c57e48bfbd7fb7980972f125.bindTooltip%28%0A%20%20%20%20%20%20%20%20%20%20%20%20%20%20%20%20%60%3Cdiv%3E%0A%20%20%20%20%20%20%20%20%20%20%20%20%20%20%20%20%20%20%20%20%20%5B%27Powered3F3VK%27%2C%20%272019-05-01%2000%3A01%3A41.247000%27%5D%0A%20%20%20%20%20%20%20%20%20%20%20%20%20%20%20%20%20%3C/div%3E%60%2C%0A%20%20%20%20%20%20%20%20%20%20%20%20%20%20%20%20%7B%22sticky%22%3A%20true%7D%0A%20%20%20%20%20%20%20%20%20%20%20%20%29%3B%0A%20%20%20%20%20%20%20%20%0A%20%20%20%20%0A%20%20%20%20%20%20%20%20function%20geo_json_365988e19513421b9e463ccce8fabab3_onEachFeature%28feature%2C%20layer%29%20%7B%0A%20%20%20%20%20%20%20%20%20%20%20%20layer.on%28%7B%0A%20%20%20%20%20%20%20%20%20%20%20%20%20%20%20%20click%3A%20function%28e%29%20%7B%0A%20%20%20%20%20%20%20%20%20%20%20%20%20%20%20%20%20%20%20%20map_dcc956caaa4e457f9d87d1e3a0e76d24.fitBounds%28e.target.getBounds%28%29%29%3B%0A%20%20%20%20%20%20%20%20%20%20%20%20%20%20%20%20%7D%0A%20%20%20%20%20%20%20%20%20%20%20%20%7D%29%3B%0A%20%20%20%20%20%20%20%20%7D%3B%0A%20%20%20%20%20%20%20%20var%20geo_json_365988e19513421b9e463ccce8fabab3%20%3D%20L.geoJson%28null%2C%20%7B%0A%20%20%20%20%20%20%20%20%20%20%20%20%20%20%20%20onEachFeature%3A%20geo_json_365988e19513421b9e463ccce8fabab3_onEachFeature%2C%0A%20%20%20%20%20%20%20%20%20%20%20%20%0A%20%20%20%20%20%20%20%20%7D%29.addTo%28map_dcc956caaa4e457f9d87d1e3a0e76d24%29%3B%0A%0A%20%20%20%20%20%20%20%20function%20geo_json_365988e19513421b9e463ccce8fabab3_add%20%28data%29%20%7B%0A%20%20%20%20%20%20%20%20%20%20%20%20geo_json_365988e19513421b9e463ccce8fabab3.addData%28data%29%3B%0A%20%20%20%20%20%20%20%20%7D%0A%20%20%20%20%20%20%20%20%20%20%20%20geo_json_365988e19513421b9e463ccce8fabab3_add%28%7B%22bbox%22%3A%20%5B-78.7032913070808%2C%2041.1348173219258%2C%20-78.64677799664868%2C%2041.16720787442695%5D%2C%20%22features%22%3A%20%5B%7B%22bbox%22%3A%20%5B-78.7032913070808%2C%2041.1348173219258%2C%20-78.64677799664868%2C%2041.16720787442695%5D%2C%20%22geometry%22%3A%20%7B%22coordinates%22%3A%20%5B%5B%5B-78.6635793624513%2C%2041.16211373242018%5D%2C%20%5B-78.66337109882673%2C%2041.161976117847125%5D%2C%20%5B-78.6632379827476%2C%2041.161888364001214%5D%2C%20%5B-78.6631639104773%2C%2041.16183950084801%5D%2C%20%5B-78.66248239316478%2C%2041.161465690255305%5D%2C%20%5B-78.6621604173842%2C%2041.161289251828514%5D%2C%20%5B-78.66180087903108%2C%2041.16109287858628%5D%2C%20%5B-78.66149606858555%2C%2041.16092241280991%5D%2C%20%5B-78.66108500740089%2C%2041.1606941326024%5D%2C%20%5B-78.66057202928208%2C%2041.1604290106086%5D%2C%20%5B-78.6602618822119%2C%2041.1602695415447%5D%2C%20%5B-78.66025641783416%2C%2041.16022059320863%5D%2C%20%5B-78.66024002554758%2C%2041.1600757483059%5D%2C%20%5B-78.66023563403199%2C%2041.160027797957056%5D%2C%20%5B-78.66009414824873%2C%2041.160034965570546%5D%2C%20%5B-78.6599569499374%2C%2041.16004212821331%5D%2C%20%5B-78.65967181142011%2C%2041.16004547652183%5D%2C%20%5B-78.65965359013347%2C%2041.16004649835784%5D%2C%20%5B-78.65953247799317%2C%2041.1600566383716%5D%2C%20%5B-78.65944568920271%2C%2041.16007572722076%5D%2C%20%5B-78.65918747422886%2C%2041.16013698945527%5D%2C%20%5B-78.65910175956364%2C%2041.16015707603815%5D%2C%20%5B-78.65878140102147%2C%2041.16023240140332%5D%2C%20%5B-78.65877925688591%2C%2041.160232403784406%5D%2C%20%5B-78.6582660215537%2C%2041.16034493130299%5D%2C%20%5B-78.65781172814242%2C%2041.160449393272515%5D%2C%20%5B-78.65749029698871%2C%2041.160524719969736%5D%2C%20%5B-78.6570167299129%2C%2041.16064019535526%5D%2C%20%5B-78.65693637063083%2C%2041.160658276957825%5D%2C%20%5B-78.65527027071674%2C%2041.16104396633461%5D%2C%20%5B-78.6549145524871%2C%2041.16112732554989%5D%2C%20%5B-78.65471633966004%2C%2041.16117552348763%5D%2C%20%5B-78.65469276636914%2C%2041.161180547908344%5D%2C%20%5B-78.65462526641758%2C%2041.16119661571311%5D%2C%20%5B-78.6546027673826%2C%2041.16120263757517%5D%2C%20%5B-78.65452982959049%2C%2041.16118274589164%5D%2C%20%5B-78.65443329670491%2C%2041.16115688834974%5D%2C%20%5B-78.65431956396557%2C%2041.16110907164259%5D%2C%20%5B-78.65425196781334%2C%2041.1610801808052%5D%2C%20%5B-78.65409215866511%2C%2041.161041412764455%5D%2C%20%5B-78.65381003309666%2C%2041.160949843097086%5D%2C%20%5B-78.65361476483697%2C%2041.160872154842636%5D%2C%20%5B-78.65340125956115%2C%2041.16078749478092%5D%2C%20%5B-78.65300853362837%2C%2041.16060914016653%5D%2C%20%5B-78.6525041357038%2C%2041.16034400360433%5D%2C%20%5B-78.65210374503104%2C%2041.1600897287271%5D%2C%20%5B-78.65187183331872%2C%2041.159919170353156%5D%2C%20%5B-78.65181063575953%2C%2041.159875285593%5D%2C%20%5B-78.65135320647177%2C%2041.159516177443614%5D%2C%20%5B-78.65130808108668%2C%2041.15946827627148%5D%2C%20%5B-78.65125973319931%2C%2041.15941738317924%5D%2C%20%5B-78.651085684799%2C%2041.15923576336662%5D%2C%20%5B-78.65098146265876%2C%2041.159122995479834%5D%2C%20%5B-78.65089120662118%2C%2041.15902419669085%5D%2C%20%5B-78.65087509677412%2C%2041.159010229731166%5D%2C%20%5B-78.65084395201967%2C%2041.158983292150815%5D%2C%20%5B-78.65082891424386%2C%2041.158969324352704%5D%2C%20%5B-78.65081495063639%2C%2041.15895635290459%5D%2C%20%5B-78.6507493917537%2C%2041.15887750600941%5D%2C%20%5B-78.65055272166843%2C%2041.15864396179123%5D%2C%20%5B-78.65048716553908%2C%2041.158566114210004%5D%2C%20%5B-78.65024106105668%2C%2041.15827468454241%5D%2C%20%5B-78.64990146386742%2C%2041.157874469956%5D%2C%20%5B-78.6495704177206%2C%2041.15746225470631%5D%2C%20%5B-78.64952309503059%2C%2041.157389379697605%5D%2C%20%5B-78.64931981854595%2C%2041.157072920436086%5D%2C%20%5B-78.64931228063216%2C%2041.157056944911545%5D%2C%20%5B-78.6492907381529%2C%2041.157009015807375%5D%2C%20%5B-78.64928427301413%2C%2041.156993038313686%5D%2C%20%5B-78.64918947335786%2C%2041.15677435634663%5D%2C%20%5B-78.64917438845471%2C%2041.156738408539994%5D%2C%20%5B-78.64907833164786%2C%2041.15643280757647%5D%2C%20%5B-78.64906199899953%2C%2041.15631393816374%5D%2C%20%5B-78.64903686029702%2C%2041.15608717865472%5D%2C%20%5B-78.64901277899587%2C%2041.15585342428975%5D%2C%20%5B-78.64899176048908%2C%2041.15554773293385%5D%2C%20%5B-78.64897437307458%2C%2041.15543685605611%5D%2C%20%5B-78.64895041315775%2C%2041.1552600492204%5D%2C%20%5B-78.64891037784982%2C%2041.15508526038551%5D%2C%20%5B-78.64885533848793%2C%2041.15491248758413%5D%2C%20%5B-78.64878744350824%2C%2041.15474272690901%5D%2C%20%5B-78.64870454965777%2C%2041.15457698116192%5D%2C%20%5B-78.64857116195174%2C%2041.154359344952724%5D%2C%20%5B-78.64814215261235%2C%2041.15375043103766%5D%2C%20%5B-78.64803683408658%2C%2041.153625674950256%5D%2C%20%5B-78.64771223970793%2C%2041.15322044486487%5D%2C%20%5B-78.64765848657753%2C%2041.153147577830524%5D%2C%20%5B-78.64749723205858%2C%2041.15293097436915%5D%2C%20%5B-78.64744348072287%2C%2041.15285910613474%5D%2C%20%5B-78.64733167054246%2C%2041.152705384337416%5D%2C%20%5B-78.64701020568808%2C%2041.15225918858469%5D%2C%20%5B-78.64699945645232%2C%2041.152245214223264%5D%2C%20%5B-78.64688658036027%2C%2041.152094491197175%5D%2C%20%5B-78.64686400667237%2C%2041.15206454600697%5D%2C%20%5B-78.64679949700147%2C%2041.15197470748692%5D%2C%20%5B-78.64677799664868%2C%2041.15194576039133%5D%2C%20%5B-78.6473696685681%2C%2041.15192306193558%5D%2C%20%5B-78.64747898624888%2C%2041.15191293865827%5D%2C%20%5B-78.64789589715565%2C%2041.15187446674671%5D%2C%20%5B-78.64878669198636%2C%2041.15187438165975%5D%2C%20%5B-78.64932477749808%2C%2041.15185674217435%5D%2C%20%5B-78.65006008611931%2C%2041.15183186882742%5D%2C%20%5B-78.6529048985786%2C%2041.151756462846144%5D%2C%20%5B-78.65298957893414%2C%2041.15175436119263%5D%2C%20%5B-78.65411932939965%2C%2041.15171201648088%5D%2C%20%5B-78.65721492520835%2C%2041.151612308692236%5D%2C%20%5B-78.65971882538807%2C%2041.151524306946484%5D%2C%20%5B-78.6604980639679%2C%2041.151490376864906%5D%2C%20%5B-78.6611304610876%2C%2041.1514646204303%5D%2C%20%5B-78.66163848148763%2C%2041.1514240302557%5D%2C%20%5B-78.66283022311259%2C%2041.15129767311348%5D%2C%20%5B-78.6636061423926%2C%2041.151216788109416%5D%2C%20%5B-78.66377223873867%2C%2041.151190605929344%5D%2C%20%5B-78.66427374823614%2C%2041.15111405576146%5D%2C%20%5B-78.66444091835046%2C%2041.15108887229142%5D%2C%20%5B-78.66465845356358%2C%2041.15105563228509%5D%2C%20%5B-78.66486741642419%2C%2041.15102440309023%5D%2C%20%5B-78.66529391285219%2C%2041.150958934560606%5D%2C%20%5B-78.66531105723287%2C%2041.15095591612841%5D%2C%20%5B-78.66537964095608%2C%2041.15094584016602%5D%2C%20%5B-78.66546536902634%2C%2041.150932745708445%5D%2C%20%5B-78.66552966428135%2C%2041.15092267524296%5D%2C%20%5B-78.66559425468854%2C%2041.1509124497605%5D%2C%20%5B-78.66575027150766%2C%2041.15058094805765%5D%2C%20%5B-78.66581714594832%2C%2041.150448254759155%5D%2C%20%5B-78.66595906970268%2C%2041.14941338636324%5D%2C%20%5B-78.66593707856165%2C%2041.14898096546003%5D%2C%20%5B-78.66595630522714%2C%2041.14894897104435%5D%2C%20%5B-78.66609409564073%2C%2041.14872020872883%5D%2C%20%5B-78.66686861323336%2C%2041.147888661394816%5D%2C%20%5B-78.66718391555787%2C%2041.14765724929905%5D%2C%20%5B-78.66742360567045%2C%2041.147376867133886%5D%2C%20%5B-78.66739974992343%2C%2041.1470041467468%5D%2C%20%5B-78.66726103824821%2C%2041.14645295505724%5D%2C%20%5B-78.66672927700203%2C%2041.14547293629743%5D%2C%20%5B-78.66644852198512%2C%2041.1450361461704%5D%2C%20%5B-78.66586243541244%2C%2041.14419107907213%5D%2C%20%5B-78.66558683363216%2C%2041.14367400087363%5D%2C%20%5B-78.66532819052621%2C%2041.14348249286496%5D%2C%20%5B-78.66480686225107%2C%2041.14326000002117%5D%2C%20%5B-78.6644819345744%2C%2041.14324366232838%5D%2C%20%5B-78.66424358044675%2C%2041.14312847674328%5D%2C%20%5B-78.66415383852411%2C%2041.142996051837756%5D%2C%20%5B-78.66405824646715%2C%2041.14285518893654%5D%2C%20%5B-78.66408675027604%2C%2041.142656710834416%5D%2C%20%5B-78.66418888384392%2C%2041.14236325055515%5D%2C%20%5B-78.66425542918496%2C%2041.14220695719949%5D%2C%20%5B-78.66427633142152%2C%2041.14190941120833%5D%2C%20%5B-78.66420052835272%2C%2041.141562976624186%5D%2C%20%5B-78.66414691096853%2C%2041.14112212471822%5D%2C%20%5B-78.66348825262905%2C%2041.14038574649498%5D%2C%20%5B-78.66323137277527%2C%2041.14001660532829%5D%2C%20%5B-78.66289196828944%2C%2041.139704313594%5D%2C%20%5B-78.66227356906985%2C%2041.13928638889657%5D%2C%20%5B-78.66161491171353%2C%2041.13902651937029%5D%2C%20%5B-78.66134955903739%2C%2041.13883572723278%5D%2C%20%5B-78.66120300227246%2C%2041.13861973405236%5D%2C%20%5B-78.6611007917898%2C%2041.13845059811258%5D%2C%20%5B-78.66100920063332%2C%2041.13814448943913%5D%2C%20%5B-78.66092630545783%2C%2041.13783347146747%5D%2C%20%5B-78.66094238255589%2C%2041.137832452947144%5D%2C%20%5B-78.66097025374113%2C%2041.137833416914695%5D%2C%20%5B-78.66114177228306%2C%2041.137838201345446%5D%2C%20%5B-78.66145693903013%2C%2041.137848802306266%5D%2C%20%5B-78.66174315835595%2C%2041.1378564411871%5D%2C%20%5B-78.66194362300774%2C%2041.137863187329124%5D%2C%20%5B-78.66234886856323%2C%2041.13789066126434%5D%2C%20%5B-78.66312077011628%2C%2041.13794565443272%5D%2C%20%5B-78.66356772611823%2C%2041.137929116415876%5D%2C%20%5B-78.66356987030144%2C%2041.13792911451276%5D%2C%20%5B-78.66396630496848%2C%2041.13784769803637%5D%2C%20%5B-78.66412778541942%2C%2041.137672659785665%5D%2C%20%5B-78.66444326687775%2C%2041.137333582403414%5D%2C%20%5B-78.6645619382276%2C%2041.13718956799094%5D%2C%20%5B-78.66461975304591%2C%2041.13715752593829%5D%2C%20%5B-78.66483603256306%2C%2041.13704336307777%5D%2C%20%5B-78.66493881479818%2C%2041.1369872877903%5D%2C%20%5B-78.66524716346893%2C%2041.13681905963893%5D%2C%20%5B-78.66535101982288%2C%2041.13676398249277%5D%2C%20%5B-78.66609292005333%2C%2041.136331460313286%5D%2C%20%5B-78.66680805845375%2C%2041.13591595582345%5D%2C%20%5B-78.6670811072461%2C%2041.13578273916529%5D%2C%20%5B-78.66740888291902%2C%2041.135676430128534%5D%2C%20%5B-78.66784082613576%2C%2041.135658909408725%5D%2C%20%5B-78.6685323602897%2C%2041.13572698562559%5D%2C%20%5B-78.66940294226801%2C%2041.13581282142735%5D%2C%20%5B-78.66978784503888%2C%2041.13585130631504%5D%2C%20%5B-78.67094469584072%2C%2041.13596775600458%5D%2C%20%5B-78.67133067153839%2C%2041.1360072371514%5D%2C%20%5B-78.67316823923034%2C%2041.13614581177887%5D%2C%20%5B-78.67510779190592%2C%2041.136353191136756%5D%2C%20%5B-78.6754647993518%2C%2041.136380717412166%5D%2C%20%5B-78.67606815768345%2C%2041.136321016126985%5D%2C%20%5B-78.67738532625377%2C%2041.13622145316852%5D%2C%20%5B-78.67759538527828%2C%2041.136205203837754%5D%2C%20%5B-78.6783252158262%2C%2041.13613934655766%5D%2C%20%5B-78.67900363734827%2C%2041.136093534782745%5D%2C%20%5B-78.67918474594055%2C%2041.13607232607831%5D%2C%20%5B-78.67942048932426%2C%2041.13603706219631%5D%2C%20%5B-78.67973443679192%2C%2041.13598071880876%5D%2C%20%5B-78.67999907779566%2C%2041.13592543616104%5D%2C%20%5B-78.68036437749936%2C%2041.13582406952376%5D%2C%20%5B-78.68080791474833%2C%2041.135716608486256%5D%2C%20%5B-78.6811828653659%2C%2041.13561722711002%5D%2C%20%5B-78.6814132422613%2C%2041.135578972013505%5D%2C%20%5B-78.68163937581747%2C%2041.1355607031325%5D%2C%20%5B-78.68186119774934%2C%2041.135531449698234%5D%2C%20%5B-78.68241550971379%2C%2041.13559069445998%5D%2C%20%5B-78.68271360881353%2C%2041.1356392734907%5D%2C%20%5B-78.6829044671743%2C%2041.1356650085225%5D%2C%20%5B-78.68321113104223%2C%2041.13570858042097%5D%2C%20%5B-78.683419132502%2C%2041.135731295794905%5D%2C%20%5B-78.68363674175426%2C%2041.13573601676739%5D%2C%20%5B-78.68400435532415%2C%2041.13571157368193%5D%2C%20%5B-78.6843483085816%2C%2041.135652192684134%5D%2C%20%5B-78.68477678559812%2C%2041.13552177014085%5D%2C%20%5B-78.68570974051221%2C%2041.13521387243806%5D%2C%20%5B-78.68595823092592%2C%2041.13512663695228%5D%2C%20%5B-78.68638880658975%2C%2041.13497622903706%5D%2C%20%5B-78.68678621749885%2C%2041.13485483715648%5D%2C%20%5B-78.6869598103318%2C%2041.134829639161744%5D%2C%20%5B-78.68698981520244%2C%2041.13482560516803%5D%2C%20%5B-78.6872191866%2C%2041.1348173219258%5D%2C%20%5B-78.68727492771713%2C%2041.13481824982022%5D%2C%20%5B-78.68744751510776%2C%2041.13482202696027%5D%2C%20%5B-78.68765234963162%2C%2041.13486672521035%5D%2C%20%5B-78.6878475707455%2C%2041.13492642189959%5D%2C%20%5B-78.6879892224595%2C%2041.13499817652424%5D%2C%20%5B-78.68815880561048%2C%2041.135097868196986%5D%2C%20%5B-78.68816846677119%2C%2041.13510385107205%5D%2C%20%5B-78.68827796432787%2C%2041.13517664353669%5D%2C%20%5B-78.68840147775919%2C%2041.135286385442015%5D%2C%20%5B-78.68861833448733%2C%2041.135434972936366%5D%2C%20%5B-78.6888061869176%2C%2041.1355546235166%5D%2C%20%5B-78.68895754160785%2C%2041.135651341387394%5D%2C%20%5B-78.68932995022742%2C%2041.13585567828325%5D%2C%20%5B-78.69009618217073%2C%2041.13625233654775%5D%2C%20%5B-78.69037198400466%2C%2041.1363958519741%5D%2C%20%5B-78.69051585460366%2C%2041.136500572050075%5D%2C%20%5B-78.69096980679464%2C%2041.13673877390713%5D%2C%20%5B-78.69113722111605%2C%2041.13682647958196%5D%2C%20%5B-78.69138851451511%2C%2041.137034966049754%5D%2C%20%5B-78.69180443654199%2C%2041.1375229842668%5D%2C%20%5B-78.6920793602266%2C%2041.1377524220167%5D%2C%20%5B-78.69246919077246%2C%2041.13807662388294%5D%2C%20%5B-78.69275383983262%2C%2041.13786046012772%5D%2C%20%5B-78.69284373193581%2C%2041.13779340733506%5D%2C%20%5B-78.69321827067779%2C%2041.137510189549374%5D%2C%20%5B-78.69355642449449%2C%2041.137253993630466%5D%2C%20%5B-78.69360992821245%2C%2041.137212963288704%5D%2C%20%5B-78.69389564969076%2C%2041.136997796034095%5D%2C%20%5B-78.69461086102137%2C%2041.13758433966394%5D%2C%20%5B-78.69473650419152%2C%2041.13768708460677%5D%2C%20%5B-78.69601813870186%2C%2041.13847271669624%5D%2C%20%5B-78.69680376891525%2C%2041.13891130341617%5D%2C%20%5B-78.69701732989824%2C%2041.13902192678074%5D%2C%20%5B-78.69770630702459%2C%2041.13937871215512%5D%2C%20%5B-78.69785758914763%2C%2041.13944146012516%5D%2C%20%5B-78.69801630736211%2C%2041.13947422601495%5D%2C%20%5B-78.69849568596622%2C%2041.13957551701794%5D%2C%20%5B-78.69865547788898%2C%2041.139609279686105%5D%2C%20%5B-78.69772009638149%2C%2041.140268872882984%5D%2C%20%5B-78.69724382575127%2C%2041.14059718170098%5D%2C%20%5B-78.69695380181886%2C%2041.140805361455676%5D%2C%20%5B-78.69656315117776%2C%2041.14107461347462%5D%2C%20%5B-78.69397095366601%2C%2041.1428692773738%5D%2C%20%5B-78.69249502540839%2C%2041.14388422691835%5D%2C%20%5B-78.69051393013277%2C%2041.145256486243994%5D%2C%20%5B-78.6902473830227%2C%2041.14542067446181%5D%2C%20%5B-78.68981919813332%2C%2041.14568597553901%5D%2C%20%5B-78.68938882008729%2C%2041.145929297983855%5D%2C%20%5B-78.68894554649751%2C%2041.14615865058289%5D%2C%20%5B-78.68848937554425%2C%2041.14637303256894%5D%2C%20%5B-78.68796141175694%2C%2041.14659949481023%5D%2C%20%5B-78.68788323627831%2C%2041.14663356268052%5D%2C%20%5B-78.68783289949876%2C%2041.146653607910935%5D%2C%20%5B-78.68762191584057%2C%2041.14673879767843%5D%2C%20%5B-78.6874419718805%2C%2041.146802966995956%5D%2C%20%5B-78.68731129936452%2C%2041.14685008951046%5D%2C%20%5B-78.68727166848358%2C%2041.146864126527035%5D%2C%20%5B-78.68710027527885%2C%2041.146917295149166%5D%2C%20%5B-78.68691496339868%2C%2041.146977475553086%5D%2C%20%5B-78.6867339183242%2C%2041.14702865800399%5D%2C%20%5B-78.68646611028565%2C%2041.14710892354836%5D%2C%20%5B-78.68625508033706%2C%2041.14717313205891%5D%2C%20%5B-78.68628409682127%2C%2041.147207064199435%5D%2C%20%5B-78.68637329660164%2C%2041.14730985541658%5D%2C%20%5B-78.68640338924843%2C%2041.1473447852583%5D%2C%20%5B-78.6864528426564%2C%2041.14740966256225%5D%2C%20%5B-78.68660442287988%2C%2041.147606288104264%5D%2C%20%5B-78.68665495120838%2C%2041.14767216248683%5D%2C%20%5B-78.68681823053069%2C%2041.14782681233302%5D%2C%20%5B-78.68688915619353%2C%2041.147906648640095%5D%2C%20%5B-78.68755432926697%2C%2041.148644122246196%5D%2C%20%5B-78.68777677024656%2C%2041.14889061088105%5D%2C%20%5B-78.6878713348827%2C%2041.148995394017454%5D%2C%20%5B-78.68815503292379%2C%2041.14931174019804%5D%2C%20%5B-78.68825067183695%2C%2041.14941752132175%5D%2C%20%5B-78.68853444834079%2C%2041.149768835675644%5D%2C%20%5B-78.68911044892113%2C%2041.1504135065493%5D%2C%20%5B-78.689282125079%2C%2041.15048721951133%5D%2C%20%5B-78.68956768262497%2C%2041.15067468273492%5D%2C%20%5B-78.68974369805369%2C%2041.150771368517375%5D%2C%20%5B-78.6901342956728%2C%2041.15095370268003%5D%2C%20%5B-78.6907416207819%2C%2041.15122267902257%5D%2C%20%5B-78.69086399719235%2C%2041.15130045181775%5D%2C%20%5B-78.69106050512578%2C%2041.15145306008492%5D%2C%20%5B-78.69115078602499%2C%2041.15155884651475%5D%2C%20%5B-78.69121853700868%2C%2041.151656669754765%5D%2C%20%5B-78.69130903298826%2C%2041.15185936699109%5D%2C%20%5B-78.69133928093044%2C%2041.15196323196414%5D%2C%20%5B-78.69135237097335%2C%2041.15206512125222%5D%2C%20%5B-78.69134722266496%2C%2041.15216003980406%5D%2C%20%5B-78.69138283099028%2C%2041.152264897655066%5D%2C%20%5B-78.6913039307649%2C%2041.152454822616406%5D%2C%20%5B-78.69128608010404%2C%2041.15262169043222%5D%2C%20%5B-78.69093685015994%2C%2041.153685151927235%5D%2C%20%5B-78.69039131909535%2C%2041.15517147266215%5D%2C%20%5B-78.690225202252%2C%2041.15566922367467%5D%2C%20%5B-78.6901569992596%2C%2041.15585014322528%5D%2C%20%5B-78.69013048919805%2C%2041.15598005674395%5D%2C%20%5B-78.69042017187546%2C%2041.15609258314957%5D%2C%20%5B-78.6905156611406%2C%2041.15613042653076%5D%2C%20%5B-78.69090083256538%2C%2041.15628079620078%5D%2C%20%5B-78.6912409431264%2C%2041.156414238330434%5D%2C%20%5B-78.69129029622745%2C%2041.15643315817457%5D%2C%20%5B-78.6915810530841%2C%2041.15654668227341%5D%2C%20%5B-78.6918331998127%2C%2041.156651262999176%5D%2C%20%5B-78.6918911393209%2C%2041.15667516687695%5D%2C%20%5B-78.69220122250958%2C%2041.156802653479794%5D%2C%20%5B-78.6925241830935%2C%2041.15693611696835%5D%2C%20%5B-78.6925928512927%2C%2041.1569640039716%5D%2C%20%5B-78.69284607222443%2C%2041.15706958306757%5D%2C%20%5B-78.69290080041895%2C%2041.1570954884736%5D%2C%20%5B-78.69333965148263%2C%2041.15728075655484%5D%2C%20%5B-78.69482573209702%2C%2041.1579072746483%5D%2C%20%5B-78.69532145178616%2C%2041.15811644580264%5D%2C%20%5B-78.6959684677234%2C%2041.15839136179962%5D%2C%20%5B-78.6979127429531%2C%2041.159219099554%5D%2C%20%5B-78.69856083567078%2C%2041.15949501144964%5D%2C%20%5B-78.69915207798573%2C%2041.159754011675865%5D%2C%20%5B-78.70092902741177%2C%2041.16053300153941%5D%2C%20%5B-78.70152134582378%2C%2041.16079299713924%5D%2C%20%5B-78.70175306113067%2C%2041.160867628933936%5D%2C%20%5B-78.70184317487285%2C%2041.160897485781796%5D%2C%20%5B-78.70247322428656%2C%2041.160775784536625%5D%2C%20%5B-78.70271538900167%2C%2041.16073051366413%5D%2C%20%5B-78.70283057015759%2C%2041.16094316855155%5D%2C%20%5B-78.70317612234365%2C%2041.161583129660414%5D%2C%20%5B-78.7032913070808%2C%2041.16179678236615%5D%2C%20%5B-78.70307704947227%2C%2041.161858002759566%5D%2C%20%5B-78.70250391289274%2C%2041.16202358968184%5D%2C%20%5B-78.7024342420126%2C%2041.162026676318945%5D%2C%20%5B-78.70221236696392%2C%2041.162037952867465%5D%2C%20%5B-78.7020794547146%2C%2041.16204411796572%5D%2C%20%5B-78.70182410757292%2C%2041.16194853617164%5D%2C%20%5B-78.7009804667956%2C%2041.16147706071528%5D%2C%20%5B-78.69976957448192%2C%2041.16072331904083%5D%2C%20%5B-78.69939189312015%2C%2041.160569947181614%5D%2C%20%5B-78.6989704514655%2C%2041.16050155298665%5D%2C%20%5B-78.69829937988779%2C%2041.160495421138556%5D%2C%20%5B-78.69758881081054%2C%2041.16056327139566%5D%2C%20%5B-78.69679261313345%2C%2041.16068917674172%5D%2C%20%5B-78.69641230387128%2C%2041.160797563938615%5D%2C%20%5B-78.6962141170285%2C%2041.16085476597917%5D%2C%20%5B-78.69552876836005%2C%2041.16117534796544%5D%2C%20%5B-78.69520990323971%2C%2041.16143651352587%5D%2C%20%5B-78.69506684705226%2C%2041.16169945328095%5D%2C%20%5B-78.69439325252921%2C%2041.16391826105564%5D%2C%20%5B-78.69406921891273%2C%2041.16426635244633%5D%2C%20%5B-78.69334761536474%2C%2041.1646758961633%5D%2C%20%5B-78.69313158980435%2C%2041.164906958732836%5D%2C%20%5B-78.69309387065992%2C%2041.16529664555618%5D%2C%20%5B-78.69323209254333%2C%2041.16574705162077%5D%2C%20%5B-78.69307401013698%2C%2041.16600301658116%5D%2C%20%5B-78.69313506532455%2C%2041.16622561978441%5D%2C%20%5B-78.69319267752259%2C%2041.16642184203043%5D%2C%20%5B-78.6930774692438%2C%2041.166591466496804%5D%2C%20%5B-78.69283125599641%2C%2041.16681437287114%5D%2C%20%5B-78.69252030332574%2C%2041.16689775005807%5D%2C%20%5B-78.69211865642409%2C%2041.16687403175439%5D%2C%20%5B-78.6919027459236%2C%2041.166740990454464%5D%2C%20%5B-78.69189021554577%2C%2041.166485006728855%5D%2C%20%5B-78.69190148624944%2C%2041.16601991905172%5D%2C%20%5B-78.69188974418296%2C%2041.165650855676034%5D%2C%20%5B-78.69182628546255%2C%2041.165556024557%5D%2C%20%5B-78.69166531501348%2C%2041.16547930102542%5D%2C%20%5B-78.69143689855503%2C%2041.165442626213164%5D%2C%20%5B-78.69124934164134%2C%2041.16546084878201%5D%2C%20%5B-78.69110910279672%2C%2041.16548043623196%5D%2C%20%5B-78.69089699906824%2C%2041.16561692658114%5D%2C%20%5B-78.69117419812815%2C%2041.166302080945734%5D%2C%20%5B-78.6911492520904%2C%2041.166430324503374%5D%2C%20%5B-78.69111450858875%2C%2041.16652803160232%5D%2C%20%5B-78.69093236099604%2C%2041.166569225754294%5D%2C%20%5B-78.69054441960051%2C%2041.166543019918244%5D%2C%20%5B-78.69008927430016%2C%2041.1665197252284%5D%2C%20%5B-78.68978628763406%2C%2041.16653564047065%5D%2C%20%5B-78.68936851877615%2C%2041.16663334702704%5D%2C%20%5B-78.6888073178522%2C%2041.16667829095602%5D%2C%20%5B-78.68834249798648%2C%2041.166601155416046%5D%2C%20%5B-78.68812650116877%2C%2041.16646136877182%5D%2C%20%5B-78.68810639451632%2C%2041.16629979201129%5D%2C%20%5B-78.68818456237238%2C%2041.16615090509972%5D%2C%20%5B-78.68831021915894%2C%2041.16606703071655%5D%2C%20%5B-78.68883322158807%2C%2041.16598395743796%5D%2C%20%5B-78.68964323577254%2C%2041.16587636029767%5D%2C%20%5B-78.68991766549685%2C%2041.165732632434384%5D%2C%20%5B-78.68978030612912%2C%2041.16547765240866%5D%2C%20%5B-78.6894360607607%2C%2041.165096292324684%5D%2C%20%5B-78.68895920564606%2C%2041.16479686510283%5D%2C%20%5B-78.68860708698149%2C%2041.16458902351667%5D%2C%20%5B-78.68828751312317%2C%2041.16459334819883%5D%2C%20%5B-78.68779718918701%2C%2041.16460402444517%5D%2C%20%5B-78.68744137276437%2C%2041.16466753032808%5D%2C%20%5B-78.68708943437494%2C%2041.16500730783786%5D%2C%20%5B-78.68690388517848%2C%2041.16513009973152%5D%2C%20%5B-78.68671738943992%2C%2041.16518550660065%5D%2C%20%5B-78.68649282546878%2C%2041.165247093393866%5D%2C%20%5B-78.68600385820345%2C%2041.16517774578658%5D%2C%20%5B-78.68553671890851%2C%2041.164985555304426%5D%2C%20%5B-78.68483113414217%2C%2041.16485691882274%5D%2C%20%5B-78.68427072022459%2C%2041.16443582488839%5D%2C%20%5B-78.68405646570052%2C%2041.16430376912578%5D%2C%20%5B-78.68370279862032%2C%2041.16408374096936%5D%2C%20%5B-78.68362948770098%2C%2041.16394393683513%5D%2C%20%5B-78.68325204552302%2C%2041.16353520069866%5D%2C%20%5B-78.68317958197522%2C%2041.16345491055924%5D%2C%20%5B-78.68313405679163%2C%2041.16338788292621%5D%2C%20%5B-78.6829423221968%2C%2041.162964713300816%5D%2C%20%5B-78.68293373000589%2C%2041.16295773058282%5D%2C%20%5B-78.68260044710634%2C%2041.162853016207855%5D%2C%20%5B-78.68227579474876%2C%2041.162591901157334%5D%2C%20%5B-78.68205766230275%2C%2041.16245104363922%5D%2C%20%5B-78.68156316306377%2C%2041.16232890200638%5D%2C%20%5B-78.6813670959994%2C%2041.16233720403579%5D%2C%20%5B-78.68121616234306%2C%2041.16234149118573%5D%2C%20%5B-78.68120749575398%2C%2041.162331543630074%5D%2C%20%5B-78.68098243725854%2C%2041.16234476358156%5D%2C%20%5B-78.68082729572018%2C%2041.16232846843048%5D%2C%20%5B-78.68070445401787%2C%2041.16230452085448%5D%2C%20%5B-78.68060488635894%2C%2041.162248329238686%5D%2C%20%5B-78.68036775057881%2C%2041.1621447239623%5D%2C%20%5B-78.68018205286862%2C%2041.16203406054762%5D%2C%20%5B-78.68012937860426%2C%2041.16196718871089%5D%2C%20%5B-78.68003938691363%2C%2041.16199227927541%5D%2C%20%5B-78.6796140663691%2C%2041.1621087077465%5D%2C%20%5B-78.67891143030582%2C%2041.162374346142535%5D%2C%20%5B-78.67880215737955%2C%2041.1624054555814%5D%2C%20%5B-78.67868225362488%2C%2041.162477539252684%5D%2C%20%5B-78.67862765602882%2C%2041.16251057718997%5D%2C%20%5B-78.67849813233244%2C%2041.16259566128417%5D%2C%20%5B-78.67842535010402%2C%2041.16264670576151%5D%2C%20%5B-78.67835150688698%2C%2041.16270274691621%5D%2C%20%5B-78.67827554356676%2C%2041.162769780371384%5D%2C%20%5B-78.67819957755003%2C%2041.16283581487866%5D%2C%20%5B-78.67811719143457%2C%2041.162906852026325%5D%2C%20%5B-78.67808509765223%2C%2041.16293686516101%5D%2C%20%5B-78.67805088532329%2C%2041.162977870046184%5D%2C%20%5B-78.67769154109382%2C%2041.16336096704212%5D%2C%20%5B-78.67752479674304%2C%2041.163581972290544%5D%2C%20%5B-78.67735698142079%2C%2041.163802977767276%5D%2C%20%5B-78.67718366355743%2C%2041.16396005081599%5D%2C%20%5B-78.67713980327198%2C%2041.164001067919905%5D%2C%20%5B-78.67692369923455%2C%2041.16420015432922%5D%2C%20%5B-78.67685953812126%2C%2041.16427216838506%5D%2C%20%5B-78.6766809053932%2C%2041.164449228526344%5D%2C%20%5B-78.67660175328962%2C%2041.16452925371773%5D%2C%20%5B-78.67652047614666%2C%2041.16461727502113%5D%2C%20%5B-78.67636969534556%2C%2041.164785308260164%5D%2C%20%5B-78.67632264906918%2C%2041.164840316246476%5D%2C%20%5B-78.67612374777968%2C%2041.165063359330716%5D%2C%20%5B-78.67596868469298%2C%2041.1652343958182%5D%2C%20%5B-78.67591950100969%2C%2041.16529240358818%5D%2C%20%5B-78.67577516188452%2C%2041.16546542412871%5D%2C%20%5B-78.67561151599502%2C%2041.165633473597886%5D%2C%20%5B-78.67556231893374%2C%2041.16568548667297%5D%2C%20%5B-78.675349477853%2C%2041.165906548843694%5D%2C%20%5B-78.67515804163195%2C%2041.16611159972621%5D%2C%20%5B-78.6751259549777%2C%2041.16614560816423%5D%2C%20%5B-78.67496660672226%2C%2041.16631764860235%5D%2C%20%5B-78.67479547128049%2C%2041.16649270049636%5D%2C%20%5B-78.67475589903795%2C%2041.166534710781924%5D%2C%20%5B-78.67454519227641%2C%2041.16675177426031%5D%2C%20%5B-78.6742831412909%2C%2041.167019853596905%5D%2C%20%5B-78.67421361904466%2C%2041.167091874171504%5D%2C%20%5B-78.67412811350295%2C%2041.16720787442695%5D%2C%20%5B-78.67384475129099%2C%2041.167045379723646%5D%2C%20%5B-78.67252677778555%2C%2041.16633069092878%5D%2C%20%5B-78.6713569657771%2C%2041.165717720621%5D%2C%20%5B-78.66996382385658%2C%2041.16494018078995%5D%2C%20%5B-78.6694263838007%2C%2041.16476900863335%5D%2C%20%5B-78.66816940550605%2C%2041.164489832489075%5D%2C%20%5B-78.66784439926256%2C%2041.16440131917286%5D%2C%20%5B-78.66758684674976%2C%2041.164274757384725%5D%2C%20%5B-78.6674365969371%2C%2041.164196016450504%5D%2C%20%5B-78.6669740052496%2C%2041.16393583254756%5D%2C%20%5B-78.66682161592905%2C%2041.16385909286378%5D%2C%20%5B-78.66661876135548%2C%2041.163744451568455%5D%2C%20%5B-78.66650929696588%2C%2041.1636886390217%5D%2C%20%5B-78.66565927927056%2C%2041.16322612363954%5D%2C%20%5B-78.66516774290099%2C%2041.16296497522514%5D%2C%20%5B-78.66463438096409%2C%2041.1626948874345%5D%2C%20%5B-78.66443256301042%2C%2041.16256325896274%5D%2C%20%5B-78.66432735966751%2C%2041.16249445314788%5D%2C%20%5B-78.6637939950375%2C%2041.16222336549234%5D%2C%20%5B-78.6635793624513%2C%2041.16211373242018%5D%5D%5D%2C%20%22type%22%3A%20%22Polygon%22%7D%2C%20%22id%22%3A%20%225%22%2C%20%22properties%22%3A%20%7B%22ZONE_ID%22%3A%206%7D%2C%20%22type%22%3A%20%22Feature%22%7D%5D%2C%20%22type%22%3A%20%22FeatureCollection%22%7D%29%3B%0A%20%20%20%20%20%20%20%20%0A%3C/script%3E onload=\"this.contentDocument.open();this.contentDocument.write(    decodeURIComponent(this.getAttribute('data-html')));this.contentDocument.close();\" allowfullscreen webkitallowfullscreen mozallowfullscreen></iframe></div></div>"
      ],
      "text/plain": [
       "<folium.folium.Map at 0x190bf969eb0>"
      ]
     },
     "execution_count": 23,
     "metadata": {},
     "output_type": "execute_result"
    }
   ],
   "source": [
    "map_zone6 = folium.Map(location =  area_center, zoom_start = 13)\n",
    "\n",
    "marker_cluster = MarkerCluster().add_to(map_zone6)\n",
    "\n",
    "folium.GeoJson(polygon_zone6).add_to(map_zone6)\n",
    "\n",
    "for row_index, row_values in may_zone6.iterrows():\n",
    "    loc = [row_values['latitude'], row_values['longitude']]\n",
    "    tool = [str(row_values['sumdid']), str(row_values['pubdatetime'])]\n",
    "    icon=folium.Icon(color=\"blue\",icon=\"map-pin\", prefix='fa')\n",
    "    \n",
    "    marker = folium.Marker(\n",
    "        location = loc, \n",
    "        tooltip = tool, icon = icon) \n",
    "\n",
    "    marker.add_to(marker_cluster)\n",
    "map_zone6.save('../data/map_zone6.html')\n",
    "\n",
    "#display our map\n",
    "map_zone6"
   ]
  }
 ],
 "metadata": {
  "kernelspec": {
   "display_name": "Python 3 (ipykernel)",
   "language": "python",
   "name": "python3"
  },
  "language_info": {
   "codemirror_mode": {
    "name": "ipython",
    "version": 3
   },
   "file_extension": ".py",
   "mimetype": "text/x-python",
   "name": "python",
   "nbconvert_exporter": "python",
   "pygments_lexer": "ipython3",
   "version": "3.8.5"
  }
 },
 "nbformat": 4,
 "nbformat_minor": 5
}
