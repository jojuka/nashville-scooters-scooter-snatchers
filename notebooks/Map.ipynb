{
 "cells": [
  {
   "cell_type": "code",
   "execution_count": 1,
   "id": "162a815c",
   "metadata": {},
   "outputs": [],
   "source": [
    "from shapely.geometry import Point\n",
    "import pandas as pd\n",
    "import geopandas as gpd\n",
    "import matplotlib.pyplot as plt\n",
    "import folium\n",
    "from folium.plugins import MarkerCluster\n",
    "from folium.plugins import FastMarkerCluster"
   ]
  },
  {
   "cell_type": "markdown",
   "id": "0fcfb612",
   "metadata": {},
   "source": [
    "Inspect json file"
   ]
  },
  {
   "cell_type": "code",
   "execution_count": 2,
   "id": "8fc995b7",
   "metadata": {},
   "outputs": [
    {
     "name": "stdout",
     "output_type": "stream",
     "text": [
      "epsg:4326\n"
     ]
    },
    {
     "data": {
      "text/html": [
       "<div>\n",
       "<style scoped>\n",
       "    .dataframe tbody tr th:only-of-type {\n",
       "        vertical-align: middle;\n",
       "    }\n",
       "\n",
       "    .dataframe tbody tr th {\n",
       "        vertical-align: top;\n",
       "    }\n",
       "\n",
       "    .dataframe thead th {\n",
       "        text-align: right;\n",
       "    }\n",
       "</style>\n",
       "<table border=\"1\" class=\"dataframe\">\n",
       "  <thead>\n",
       "    <tr style=\"text-align: right;\">\n",
       "      <th></th>\n",
       "      <th>OBJECTID</th>\n",
       "      <th>ZONE_ID</th>\n",
       "      <th>SHAPE_STAr</th>\n",
       "      <th>SHAPE_STLe</th>\n",
       "      <th>geometry</th>\n",
       "    </tr>\n",
       "  </thead>\n",
       "  <tbody>\n",
       "    <tr>\n",
       "      <th>0</th>\n",
       "      <td>1</td>\n",
       "      <td>1</td>\n",
       "      <td>1.053728e+08</td>\n",
       "      <td>49364.601403</td>\n",
       "      <td>POLYGON ((-78.56795 41.19167, -78.56795 41.191...</td>\n",
       "    </tr>\n",
       "    <tr>\n",
       "      <th>1</th>\n",
       "      <td>2</td>\n",
       "      <td>2</td>\n",
       "      <td>7.670585e+07</td>\n",
       "      <td>45226.018917</td>\n",
       "      <td>POLYGON ((-78.58438 41.14694, -78.58423 41.146...</td>\n",
       "    </tr>\n",
       "    <tr>\n",
       "      <th>2</th>\n",
       "      <td>3</td>\n",
       "      <td>3</td>\n",
       "      <td>2.985488e+08</td>\n",
       "      <td>75207.067487</td>\n",
       "      <td>POLYGON ((-78.50866 41.16535, -78.50852 41.165...</td>\n",
       "    </tr>\n",
       "    <tr>\n",
       "      <th>3</th>\n",
       "      <td>4</td>\n",
       "      <td>4</td>\n",
       "      <td>2.713638e+08</td>\n",
       "      <td>74348.596054</td>\n",
       "      <td>POLYGON ((-78.55109 41.12847, -78.55101 41.128...</td>\n",
       "    </tr>\n",
       "    <tr>\n",
       "      <th>4</th>\n",
       "      <td>5</td>\n",
       "      <td>5</td>\n",
       "      <td>3.928178e+08</td>\n",
       "      <td>106661.712102</td>\n",
       "      <td>POLYGON ((-78.59154 41.23154, -78.59113 41.230...</td>\n",
       "    </tr>\n",
       "  </tbody>\n",
       "</table>\n",
       "</div>"
      ],
      "text/plain": [
       "   OBJECTID  ZONE_ID    SHAPE_STAr     SHAPE_STLe  \\\n",
       "0         1        1  1.053728e+08   49364.601403   \n",
       "1         2        2  7.670585e+07   45226.018917   \n",
       "2         3        3  2.985488e+08   75207.067487   \n",
       "3         4        4  2.713638e+08   74348.596054   \n",
       "4         5        5  3.928178e+08  106661.712102   \n",
       "\n",
       "                                            geometry  \n",
       "0  POLYGON ((-78.56795 41.19167, -78.56795 41.191...  \n",
       "1  POLYGON ((-78.58438 41.14694, -78.58423 41.146...  \n",
       "2  POLYGON ((-78.50866 41.16535, -78.50852 41.165...  \n",
       "3  POLYGON ((-78.55109 41.12847, -78.55101 41.128...  \n",
       "4  POLYGON ((-78.59154 41.23154, -78.59113 41.230...  "
      ]
     },
     "execution_count": 2,
     "metadata": {},
     "output_type": "execute_result"
    }
   ],
   "source": [
    "zone = gpd.read_file('../data/MDHA_Promise_Zones/files/Export_Output_5.geojson')\n",
    "print(zone.crs)\n",
    "zone.head( )"
   ]
  },
  {
   "cell_type": "markdown",
   "id": "f95db293",
   "metadata": {},
   "source": [
    "Plot the Promise Zone"
   ]
  },
  {
   "cell_type": "code",
   "execution_count": 3,
   "id": "b64808a9",
   "metadata": {},
   "outputs": [
    {
     "data": {
      "image/png": "[encoded data removed]",
      "text/plain": [
       "<Figure size 432x288 with 1 Axes>"
      ]
     },
     "metadata": {
      "needs_background": "light"
     },
     "output_type": "display_data"
    }
   ],
   "source": [
    "zone.plot();"
   ]
  },
  {
   "cell_type": "markdown",
   "id": "82a09db2",
   "metadata": {},
   "source": [
    "Read in the pkl file"
   ]
  },
  {
   "cell_type": "code",
   "execution_count": 4,
   "id": "4549a81d",
   "metadata": {},
   "outputs": [],
   "source": [
    "may = pd.read_pickle('../data/may.pkl')"
   ]
  },
  {
   "cell_type": "code",
   "execution_count": 5,
   "id": "31b1dad1",
   "metadata": {},
   "outputs": [
    {
     "data": {
      "text/html": [
       "<div>\n",
       "<style scoped>\n",
       "    .dataframe tbody tr th:only-of-type {\n",
       "        vertical-align: middle;\n",
       "    }\n",
       "\n",
       "    .dataframe tbody tr th {\n",
       "        vertical-align: top;\n",
       "    }\n",
       "\n",
       "    .dataframe thead th {\n",
       "        text-align: right;\n",
       "    }\n",
       "</style>\n",
       "<table border=\"1\" class=\"dataframe\">\n",
       "  <thead>\n",
       "    <tr style=\"text-align: right;\">\n",
       "      <th></th>\n",
       "      <th>pubdatetime</th>\n",
       "      <th>latitude</th>\n",
       "      <th>longitude</th>\n",
       "      <th>sumdid</th>\n",
       "      <th>chargelevel</th>\n",
       "      <th>companyname</th>\n",
       "    </tr>\n",
       "  </thead>\n",
       "  <tbody>\n",
       "    <tr>\n",
       "      <th>0</th>\n",
       "      <td>2019-05-01 00:01:41.247</td>\n",
       "      <td>36.136822</td>\n",
       "      <td>-86.799877</td>\n",
       "      <td>PoweredLIRL1</td>\n",
       "      <td>93.0</td>\n",
       "      <td>0</td>\n",
       "    </tr>\n",
       "    <tr>\n",
       "      <th>1</th>\n",
       "      <td>2019-05-01 00:01:41.247</td>\n",
       "      <td>36.191252</td>\n",
       "      <td>-86.772945</td>\n",
       "      <td>PoweredXWRWC</td>\n",
       "      <td>35.0</td>\n",
       "      <td>0</td>\n",
       "    </tr>\n",
       "    <tr>\n",
       "      <th>2</th>\n",
       "      <td>2019-05-01 00:01:41.247</td>\n",
       "      <td>36.144752</td>\n",
       "      <td>-86.806293</td>\n",
       "      <td>PoweredMEJEH</td>\n",
       "      <td>90.0</td>\n",
       "      <td>0</td>\n",
       "    </tr>\n",
       "    <tr>\n",
       "      <th>3</th>\n",
       "      <td>2019-05-01 00:01:41.247</td>\n",
       "      <td>36.162056</td>\n",
       "      <td>-86.774688</td>\n",
       "      <td>Powered1A7TC</td>\n",
       "      <td>88.0</td>\n",
       "      <td>0</td>\n",
       "    </tr>\n",
       "    <tr>\n",
       "      <th>4</th>\n",
       "      <td>2019-05-01 00:01:41.247</td>\n",
       "      <td>36.150973</td>\n",
       "      <td>-86.783109</td>\n",
       "      <td>Powered2TYEF</td>\n",
       "      <td>98.0</td>\n",
       "      <td>0</td>\n",
       "    </tr>\n",
       "  </tbody>\n",
       "</table>\n",
       "</div>"
      ],
      "text/plain": [
       "              pubdatetime   latitude  longitude        sumdid  chargelevel  \\\n",
       "0 2019-05-01 00:01:41.247  36.136822 -86.799877  PoweredLIRL1         93.0   \n",
       "1 2019-05-01 00:01:41.247  36.191252 -86.772945  PoweredXWRWC         35.0   \n",
       "2 2019-05-01 00:01:41.247  36.144752 -86.806293  PoweredMEJEH         90.0   \n",
       "3 2019-05-01 00:01:41.247  36.162056 -86.774688  Powered1A7TC         88.0   \n",
       "4 2019-05-01 00:01:41.247  36.150973 -86.783109  Powered2TYEF         98.0   \n",
       "\n",
       "   companyname  \n",
       "0            0  \n",
       "1            0  \n",
       "2            0  \n",
       "3            0  \n",
       "4            0  "
      ]
     },
     "execution_count": 5,
     "metadata": {},
     "output_type": "execute_result"
    }
   ],
   "source": [
    "may.head()"
   ]
  },
  {
   "cell_type": "markdown",
   "id": "25388ef9",
   "metadata": {},
   "source": [
    "Create geometry column for may."
   ]
  },
  {
   "cell_type": "code",
   "execution_count": null,
   "id": "256faf48",
   "metadata": {},
   "outputs": [],
   "source": [
    "may['geometry'] = may.apply(lambda x: Point((x.longitude, \n",
    "                                            x.latitude)), \n",
    "                                        axis=1);"
   ]
  },
  {
   "cell_type": "markdown",
   "id": "709de23c",
   "metadata": {},
   "source": [
    "Match the crs"
   ]
  },
  {
   "cell_type": "code",
   "execution_count": null,
   "id": "a9342d3d",
   "metadata": {},
   "outputs": [],
   "source": [
    "zone.crs"
   ]
  },
  {
   "cell_type": "code",
   "execution_count": null,
   "id": "e5d45580",
   "metadata": {},
   "outputs": [],
   "source": [
    "may_geo = gpd.GeoDataFrame(may, \n",
    "                           crs = zone.crs, \n",
    "                           geometry = may['geometry'])\n",
    "type(may_geo)\n",
    "may_geo.head(2)"
   ]
  },
  {
   "cell_type": "code",
   "execution_count": null,
   "id": "7965d539",
   "metadata": {},
   "outputs": [],
   "source": [
    "may_geo.crs"
   ]
  },
  {
   "cell_type": "markdown",
   "id": "682d704c",
   "metadata": {},
   "source": [
    "Join the geodataframes with a spatial join. Only keep the zone_id and geometry from promise_zone."
   ]
  },
  {
   "cell_type": "code",
   "execution_count": null,
   "id": "e928eef7",
   "metadata": {},
   "outputs": [],
   "source": [
    "zone = zone[['ZONE_ID', 'geometry']]\n",
    "zone.head(2)"
   ]
  },
  {
   "cell_type": "code",
   "execution_count": null,
   "id": "c1b5135c",
   "metadata": {},
   "outputs": [],
   "source": [
    "##may_zone = gpd.sjoin(may_geo, zone, op = 'within')"
   ]
  },
  {
   "cell_type": "code",
   "execution_count": null,
   "id": "8b3b4037",
   "metadata": {},
   "outputs": [],
   "source": [
    "may_zone.head()"
   ]
  },
  {
   "cell_type": "markdown",
   "id": "e96585ae",
   "metadata": {},
   "source": [
    "Inspect the zones"
   ]
  },
  {
   "cell_type": "code",
   "execution_count": null,
   "id": "8aea45b8",
   "metadata": {},
   "outputs": [],
   "source": [
    "may_zone['ZONE_ID'].value_counts()"
   ]
  },
  {
   "cell_type": "markdown",
   "id": "5a9abe92",
   "metadata": {},
   "source": [
    "Let's focus on zone 6 for now"
   ]
  },
  {
   "cell_type": "code",
   "execution_count": null,
   "id": "81c1313b",
   "metadata": {},
   "outputs": [],
   "source": [
    "may_zone6 = may_zone.loc[may_zone['ZONE_ID'] == 6]\n",
    "may_zone6.shape"
   ]
  },
  {
   "cell_type": "code",
   "execution_count": null,
   "id": "a9e19287",
   "metadata": {},
   "outputs": [],
   "source": [
    "polygon_zone6 = zone.loc[zone['ZONE_ID'] == 6]\n",
    "polygon_zone6.shape"
   ]
  },
  {
   "cell_type": "code",
   "execution_count": null,
   "id": "b442c69f",
   "metadata": {},
   "outputs": [],
   "source": [
    "ax = polygon_zone6.plot(figsize = (8, 10), color = 'lightgreen')\n",
    "may_zone6.plot( ax = ax, column = 'sumdid');\n",
    "plt.show();"
   ]
  },
  {
   "cell_type": "markdown",
   "id": "e0ecfff7",
   "metadata": {},
   "source": [
    "Put it on a map"
   ]
  },
  {
   "cell_type": "code",
   "execution_count": null,
   "id": "4d8a29c7",
   "metadata": {},
   "outputs": [],
   "source": [
    "polygon_zone6.geometry.centroid"
   ]
  },
  {
   "cell_type": "code",
   "execution_count": null,
   "id": "2e18b85d",
   "metadata": {},
   "outputs": [],
   "source": [
    "center = polygon_zone6.geometry.centroid[5]\n",
    "print(center)"
   ]
  },
  {
   "cell_type": "code",
   "execution_count": null,
   "id": "327dc1cd",
   "metadata": {},
   "outputs": [],
   "source": [
    "area_center = [center.y, center.x]\n",
    "print(area_center)"
   ]
  },
  {
   "cell_type": "code",
   "execution_count": null,
   "id": "78bb286c",
   "metadata": {},
   "outputs": [],
   "source": [
    "map_zone6 = folium.Map(location =  area_center, zoom_start = 12)\n",
    "map_zone6"
   ]
  },
  {
   "cell_type": "code",
   "execution_count": null,
   "id": "e0404faf",
   "metadata": {},
   "outputs": [],
   "source": [
    "i = 0\n",
    "for row_index, row_values in may_zone6.iterrows():\n",
    "    if i <3: \n",
    "        print('index is', row_index)\n",
    "        print('values are:')\n",
    "        print(' ')\n",
    "        print(row_values)\n",
    "        print('------------------------- ')\n",
    "        i+=1"
   ]
  },
  {
   "cell_type": "code",
   "execution_count": null,
   "id": "49266c80",
   "metadata": {},
   "outputs": [],
   "source": [
    "map_zone6 = folium.Map(location =  area_center, zoom_start = 13)\n",
    "\n",
    "marker_cluster = MarkerCluster().add_to(map_zone6)\n",
    "\n",
    "folium.GeoJson(polygon_zone6).add_to(map_zone6)\n",
    "\n",
    "for row_index, row_values in map_zone6.iterrows():\n",
    "    loc = [row_values['latitude'], row_values['longitude']]\n",
    "    tool = [str(row_values['sumdid']), str(row_values['pubdatetime'])]\n",
    "    icon=folium.Icon(color=\"blue\",icon=\"map-pin\", prefix='fa')\n",
    "    \n",
    "    marker = folium.Marker(\n",
    "        location = loc, \n",
    "        tooltip = tool, icon = icon) \n",
    "\n",
    "    marker.add_to(marker_cluster)\n",
    "map_zone6.save('../data/map_zone6.html')\n",
    "\n",
    "#display our map\n",
    "map_zone6"
   ]
  }
 ],
 "metadata": {
  "kernelspec": {
   "display_name": "Python 3 (ipykernel)",
   "language": "python",
   "name": "python3"
  },
  "language_info": {
   "codemirror_mode": {
    "name": "ipython",
    "version": 3
   },
   "file_extension": ".py",
   "mimetype": "text/x-python",
   "name": "python",
   "nbconvert_exporter": "python",
   "pygments_lexer": "ipython3",
   "version": "3.8.5"
  }
 },
 "nbformat": 4,
 "nbformat_minor": 5
}
