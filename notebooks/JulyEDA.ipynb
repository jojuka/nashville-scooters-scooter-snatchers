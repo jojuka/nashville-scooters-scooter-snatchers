{
 "cells": [
  {
   "cell_type": "code",
   "execution_count": 1,
   "id": "e828045e",
   "metadata": {},
   "outputs": [],
   "source": [
    "import pandas as pd\n",
    "import pickle"
   ]
  },
  {
   "cell_type": "code",
   "execution_count": 2,
   "id": "f6c8349c",
   "metadata": {},
   "outputs": [
    {
     "name": "stdout",
     "output_type": "stream",
     "text": [
      "Wall time: 22.3 s\n"
     ]
    },
    {
     "data": {
      "text/html": [
       "<div>\n",
       "<style scoped>\n",
       "    .dataframe tbody tr th:only-of-type {\n",
       "        vertical-align: middle;\n",
       "    }\n",
       "\n",
       "    .dataframe tbody tr th {\n",
       "        vertical-align: top;\n",
       "    }\n",
       "\n",
       "    .dataframe thead th {\n",
       "        text-align: right;\n",
       "    }\n",
       "</style>\n",
       "<table border=\"1\" class=\"dataframe\">\n",
       "  <thead>\n",
       "    <tr style=\"text-align: right;\">\n",
       "      <th></th>\n",
       "      <th>pubdatetime</th>\n",
       "      <th>latitude</th>\n",
       "      <th>longitude</th>\n",
       "      <th>sumdid</th>\n",
       "      <th>sumdtype</th>\n",
       "      <th>chargelevel</th>\n",
       "      <th>sumdgroup</th>\n",
       "      <th>costpermin</th>\n",
       "      <th>companyname</th>\n",
       "    </tr>\n",
       "  </thead>\n",
       "  <tbody>\n",
       "    <tr>\n",
       "      <th>0</th>\n",
       "      <td>2019-07-01 00:00:33.550000</td>\n",
       "      <td>36.156678</td>\n",
       "      <td>-86.809004</td>\n",
       "      <td>Powered635135</td>\n",
       "      <td>Powered</td>\n",
       "      <td>22.0</td>\n",
       "      <td>scooter</td>\n",
       "      <td>0.15</td>\n",
       "      <td>Lyft</td>\n",
       "    </tr>\n",
       "    <tr>\n",
       "      <th>1</th>\n",
       "      <td>2019-07-01 00:00:34.973000</td>\n",
       "      <td>36.145674</td>\n",
       "      <td>-86.794138</td>\n",
       "      <td>Powered790946</td>\n",
       "      <td>Powered</td>\n",
       "      <td>33.0</td>\n",
       "      <td>scooter</td>\n",
       "      <td>0.15</td>\n",
       "      <td>Lyft</td>\n",
       "    </tr>\n",
       "    <tr>\n",
       "      <th>2</th>\n",
       "      <td>2019-07-01 00:00:41.183000</td>\n",
       "      <td>36.179319</td>\n",
       "      <td>-86.751538</td>\n",
       "      <td>Powered570380</td>\n",
       "      <td>Powered</td>\n",
       "      <td>76.0</td>\n",
       "      <td>scooter</td>\n",
       "      <td>0.15</td>\n",
       "      <td>Lyft</td>\n",
       "    </tr>\n",
       "    <tr>\n",
       "      <th>3</th>\n",
       "      <td>2019-07-01 00:00:41.620000</td>\n",
       "      <td>36.152111</td>\n",
       "      <td>-86.803821</td>\n",
       "      <td>Powered240631</td>\n",
       "      <td>Powered</td>\n",
       "      <td>43.0</td>\n",
       "      <td>scooter</td>\n",
       "      <td>0.15</td>\n",
       "      <td>Lyft</td>\n",
       "    </tr>\n",
       "    <tr>\n",
       "      <th>4</th>\n",
       "      <td>2019-07-01 00:00:45.087000</td>\n",
       "      <td>36.149355</td>\n",
       "      <td>-86.797550</td>\n",
       "      <td>Powered970404</td>\n",
       "      <td>Powered</td>\n",
       "      <td>52.0</td>\n",
       "      <td>scooter</td>\n",
       "      <td>0.15</td>\n",
       "      <td>Lyft</td>\n",
       "    </tr>\n",
       "  </tbody>\n",
       "</table>\n",
       "</div>"
      ],
      "text/plain": [
       "                  pubdatetime   latitude  longitude         sumdid sumdtype  \\\n",
       "0  2019-07-01 00:00:33.550000  36.156678 -86.809004  Powered635135  Powered   \n",
       "1  2019-07-01 00:00:34.973000  36.145674 -86.794138  Powered790946  Powered   \n",
       "2  2019-07-01 00:00:41.183000  36.179319 -86.751538  Powered570380  Powered   \n",
       "3  2019-07-01 00:00:41.620000  36.152111 -86.803821  Powered240631  Powered   \n",
       "4  2019-07-01 00:00:45.087000  36.149355 -86.797550  Powered970404  Powered   \n",
       "\n",
       "   chargelevel sumdgroup  costpermin companyname  \n",
       "0         22.0   scooter        0.15        Lyft  \n",
       "1         33.0   scooter        0.15        Lyft  \n",
       "2         76.0   scooter        0.15        Lyft  \n",
       "3         43.0   scooter        0.15        Lyft  \n",
       "4         52.0   scooter        0.15        Lyft  "
      ]
     },
     "execution_count": 2,
     "metadata": {},
     "output_type": "execute_result"
    }
   ],
   "source": [
    "%%time\n",
    "july = pd.read_csv('../data/july.csv')\n",
    "july.head()"
   ]
  },
  {
   "cell_type": "code",
   "execution_count": 3,
   "id": "bd9ddc50",
   "metadata": {},
   "outputs": [
    {
     "name": "stdout",
     "output_type": "stream",
     "text": [
      "<class 'pandas.core.frame.DataFrame'>\n",
      "RangeIndex: 25075445 entries, 0 to 25075444\n",
      "Data columns (total 9 columns):\n",
      " #   Column       Dtype  \n",
      "---  ------       -----  \n",
      " 0   pubdatetime  object \n",
      " 1   latitude     float64\n",
      " 2   longitude    float64\n",
      " 3   sumdid       object \n",
      " 4   sumdtype     object \n",
      " 5   chargelevel  float64\n",
      " 6   sumdgroup    object \n",
      " 7   costpermin   float64\n",
      " 8   companyname  object \n",
      "dtypes: float64(4), object(5)\n",
      "memory usage: 1.7+ GB\n"
     ]
    }
   ],
   "source": [
    "july.info()"
   ]
  },
  {
   "cell_type": "code",
   "execution_count": 4,
   "id": "c5c4eae4",
   "metadata": {},
   "outputs": [
    {
     "data": {
      "text/plain": [
       "pubdatetime      0\n",
       "latitude         0\n",
       "longitude        0\n",
       "sumdid           0\n",
       "sumdtype         0\n",
       "chargelevel    202\n",
       "sumdgroup        0\n",
       "costpermin       0\n",
       "companyname      0\n",
       "dtype: int64"
      ]
     },
     "execution_count": 4,
     "metadata": {},
     "output_type": "execute_result"
    }
   ],
   "source": [
    "july.isnull().sum()##CHARGE LEVEL COLUMN HAS 202 NULLS"
   ]
  },
  {
   "cell_type": "code",
   "execution_count": 5,
   "id": "9f327e96",
   "metadata": {},
   "outputs": [
    {
     "data": {
      "text/plain": [
       "array(['Lyft', 'Bird', 'Spin', 'Bolt', 'Jump', 'Lime', 'Gotcha'],\n",
       "      dtype=object)"
      ]
     },
     "execution_count": 5,
     "metadata": {},
     "output_type": "execute_result"
    }
   ],
   "source": [
    "july.companyname.unique()"
   ]
  },
  {
   "cell_type": "code",
   "execution_count": 6,
   "id": "f57a42bf",
   "metadata": {},
   "outputs": [
    {
     "data": {
      "text/html": [
       "<div>\n",
       "<style scoped>\n",
       "    .dataframe tbody tr th:only-of-type {\n",
       "        vertical-align: middle;\n",
       "    }\n",
       "\n",
       "    .dataframe tbody tr th {\n",
       "        vertical-align: top;\n",
       "    }\n",
       "\n",
       "    .dataframe thead th {\n",
       "        text-align: right;\n",
       "    }\n",
       "</style>\n",
       "<table border=\"1\" class=\"dataframe\">\n",
       "  <thead>\n",
       "    <tr style=\"text-align: right;\">\n",
       "      <th></th>\n",
       "      <th>pubdatetime</th>\n",
       "      <th>latitude</th>\n",
       "      <th>longitude</th>\n",
       "      <th>sumdid</th>\n",
       "      <th>sumdtype</th>\n",
       "      <th>chargelevel</th>\n",
       "      <th>sumdgroup</th>\n",
       "      <th>costpermin</th>\n",
       "      <th>companyname</th>\n",
       "    </tr>\n",
       "  </thead>\n",
       "  <tbody>\n",
       "    <tr>\n",
       "      <th>0</th>\n",
       "      <td>2019-07-01 00:00:33.550</td>\n",
       "      <td>36.156678</td>\n",
       "      <td>-86.809004</td>\n",
       "      <td>Powered635135</td>\n",
       "      <td>Powered</td>\n",
       "      <td>22.0</td>\n",
       "      <td>scooter</td>\n",
       "      <td>0.15</td>\n",
       "      <td>Lyft</td>\n",
       "    </tr>\n",
       "    <tr>\n",
       "      <th>1</th>\n",
       "      <td>2019-07-01 00:00:34.973</td>\n",
       "      <td>36.145674</td>\n",
       "      <td>-86.794138</td>\n",
       "      <td>Powered790946</td>\n",
       "      <td>Powered</td>\n",
       "      <td>33.0</td>\n",
       "      <td>scooter</td>\n",
       "      <td>0.15</td>\n",
       "      <td>Lyft</td>\n",
       "    </tr>\n",
       "  </tbody>\n",
       "</table>\n",
       "</div>"
      ],
      "text/plain": [
       "              pubdatetime   latitude  longitude         sumdid sumdtype  \\\n",
       "0 2019-07-01 00:00:33.550  36.156678 -86.809004  Powered635135  Powered   \n",
       "1 2019-07-01 00:00:34.973  36.145674 -86.794138  Powered790946  Powered   \n",
       "\n",
       "   chargelevel sumdgroup  costpermin companyname  \n",
       "0         22.0   scooter        0.15        Lyft  \n",
       "1         33.0   scooter        0.15        Lyft  "
      ]
     },
     "execution_count": 6,
     "metadata": {},
     "output_type": "execute_result"
    }
   ],
   "source": [
    "july.pubdatetime = pd.to_datetime(july.pubdatetime)\n",
    "july.head(2)\n"
   ]
  },
  {
   "cell_type": "code",
   "execution_count": 7,
   "id": "6ecd01a5",
   "metadata": {},
   "outputs": [
    {
     "data": {
      "text/plain": [
       "array(['scooter', 'Scooter', 'bicycle'], dtype=object)"
      ]
     },
     "execution_count": 7,
     "metadata": {},
     "output_type": "execute_result"
    }
   ],
   "source": [
    "july.sumdgroup.unique() ##produces all the unique values in the sumdgroup column\n"
   ]
  },
  {
   "cell_type": "code",
   "execution_count": 8,
   "id": "28c613c1",
   "metadata": {},
   "outputs": [],
   "source": [
    "july_scooters = july.loc[july.sumdgroup.isin(['scooter', 'Scooter'])]"
   ]
  },
  {
   "cell_type": "code",
   "execution_count": 9,
   "id": "c73afedf",
   "metadata": {},
   "outputs": [],
   "source": [
    "july_scooters = july_scooters[['pubdatetime', 'latitude', 'longitude', 'sumdid', 'chargelevel', 'companyname']]"
   ]
  },
  {
   "cell_type": "code",
   "execution_count": 17,
   "id": "1a5df558",
   "metadata": {},
   "outputs": [],
   "source": [
    "july_scooters = july.drop(columns=['costpermin']) ##drops columns chargelevel and cosstpermin from dataframe"
   ]
  },
  {
   "cell_type": "code",
   "execution_count": 18,
   "id": "a1429ab4",
   "metadata": {},
   "outputs": [
    {
     "name": "stdout",
     "output_type": "stream",
     "text": [
      "<class 'pandas.core.frame.DataFrame'>\n",
      "RangeIndex: 25075445 entries, 0 to 25075444\n",
      "Data columns (total 8 columns):\n",
      " #   Column       Dtype         \n",
      "---  ------       -----         \n",
      " 0   pubdatetime  datetime64[ns]\n",
      " 1   latitude     float64       \n",
      " 2   longitude    float64       \n",
      " 3   sumdid       object        \n",
      " 4   sumdtype     object        \n",
      " 5   chargelevel  float64       \n",
      " 6   sumdgroup    object        \n",
      " 7   companyname  object        \n",
      "dtypes: datetime64[ns](1), float64(3), object(4)\n",
      "memory usage: 1.5+ GB\n"
     ]
    }
   ],
   "source": [
    "july_scooters.info()"
   ]
  },
  {
   "cell_type": "code",
   "execution_count": 19,
   "id": "d9cc924e",
   "metadata": {},
   "outputs": [
    {
     "data": {
      "text/plain": [
       "6788"
      ]
     },
     "execution_count": 19,
     "metadata": {},
     "output_type": "execute_result"
    }
   ],
   "source": [
    "july_scooters.sumdid.nunique() ##count the number of unique sumdid"
   ]
  },
  {
   "cell_type": "code",
   "execution_count": 20,
   "id": "90294d4f",
   "metadata": {},
   "outputs": [
    {
     "data": {
      "text/plain": [
       "companyname\n",
       "Bird      2583\n",
       "Bolt       276\n",
       "Gotcha     224\n",
       "Jump      1206\n",
       "Lime       903\n",
       "Lyft      1026\n",
       "Spin       570\n",
       "Name: sumdid, dtype: int64"
      ]
     },
     "execution_count": 20,
     "metadata": {},
     "output_type": "execute_result"
    }
   ],
   "source": [
    "july_group=july_scooters.groupby(['companyname'])['sumdid'].nunique()\n",
    "july_group"
   ]
  },
  {
   "cell_type": "code",
   "execution_count": 14,
   "id": "aad4f94f",
   "metadata": {},
   "outputs": [
    {
     "data": {
      "text/plain": [
       "companyname\n",
       "Gotcha     224\n",
       "Bolt       276\n",
       "Spin       570\n",
       "Lime       903\n",
       "Lyft      1026\n",
       "Jump      1206\n",
       "Bird      2583\n",
       "Name: sumdid, dtype: int64"
      ]
     },
     "execution_count": 14,
     "metadata": {},
     "output_type": "execute_result"
    }
   ],
   "source": [
    "july_group=july_group.sort_values()\n",
    "july_group"
   ]
  },
  {
   "cell_type": "code",
   "execution_count": 21,
   "id": "1d9074a2",
   "metadata": {},
   "outputs": [
    {
     "data": {
      "text/plain": [
       "<AxesSubplot:title={'center':'Scooters by Company, July 2019'}, xlabel='companyname'>"
      ]
     },
     "execution_count": 21,
     "metadata": {},
     "output_type": "execute_result"
    },
    {
     "data": {
      "image/png": "[encoded data removed]",
      "text/plain": [
       "<Figure size 432x288 with 1 Axes>"
      ]
     },
     "metadata": {
      "needs_background": "light"
     },
     "output_type": "display_data"
    }
   ],
   "source": [
    "import matplotlib.pyplot as plt\n",
    "july_group.plot.bar(x='companyname', y='sumdid', rot=0, title = 'Scooters by Company, July 2019')\n",
    "##plt.show()"
   ]
  },
  {
   "cell_type": "code",
   "execution_count": 22,
   "id": "494b4d93",
   "metadata": {},
   "outputs": [
    {
     "data": {
      "text/html": [
       "<div>\n",
       "<style scoped>\n",
       "    .dataframe tbody tr th:only-of-type {\n",
       "        vertical-align: middle;\n",
       "    }\n",
       "\n",
       "    .dataframe tbody tr th {\n",
       "        vertical-align: top;\n",
       "    }\n",
       "\n",
       "    .dataframe thead th {\n",
       "        text-align: right;\n",
       "    }\n",
       "</style>\n",
       "<table border=\"1\" class=\"dataframe\">\n",
       "  <thead>\n",
       "    <tr style=\"text-align: right;\">\n",
       "      <th></th>\n",
       "      <th>pubdatetime</th>\n",
       "      <th>latitude</th>\n",
       "      <th>longitude</th>\n",
       "      <th>sumdid</th>\n",
       "      <th>sumdtype</th>\n",
       "      <th>chargelevel</th>\n",
       "      <th>sumdgroup</th>\n",
       "      <th>companyname</th>\n",
       "    </tr>\n",
       "  </thead>\n",
       "  <tbody>\n",
       "    <tr>\n",
       "      <th>1301</th>\n",
       "      <td>2019-07-01 00:04:23.687</td>\n",
       "      <td>36.160017</td>\n",
       "      <td>-86.778196</td>\n",
       "      <td>Powered1676330</td>\n",
       "      <td>Powered</td>\n",
       "      <td>0.0</td>\n",
       "      <td>Scooter</td>\n",
       "      <td>Spin</td>\n",
       "    </tr>\n",
       "    <tr>\n",
       "      <th>1351</th>\n",
       "      <td>2019-07-01 00:04:23.687</td>\n",
       "      <td>36.011020</td>\n",
       "      <td>-86.684150</td>\n",
       "      <td>Powered4102727</td>\n",
       "      <td>Powered</td>\n",
       "      <td>0.0</td>\n",
       "      <td>Scooter</td>\n",
       "      <td>Spin</td>\n",
       "    </tr>\n",
       "    <tr>\n",
       "      <th>1364</th>\n",
       "      <td>2019-07-01 00:04:23.687</td>\n",
       "      <td>36.011000</td>\n",
       "      <td>-86.683970</td>\n",
       "      <td>Powered8566138</td>\n",
       "      <td>Powered</td>\n",
       "      <td>0.0</td>\n",
       "      <td>Scooter</td>\n",
       "      <td>Spin</td>\n",
       "    </tr>\n",
       "    <tr>\n",
       "      <th>1397</th>\n",
       "      <td>2019-07-01 00:04:23.687</td>\n",
       "      <td>36.147720</td>\n",
       "      <td>-86.740120</td>\n",
       "      <td>Powered1573562</td>\n",
       "      <td>Powered</td>\n",
       "      <td>0.0</td>\n",
       "      <td>Scooter</td>\n",
       "      <td>Spin</td>\n",
       "    </tr>\n",
       "    <tr>\n",
       "      <th>1424</th>\n",
       "      <td>2019-07-01 00:04:23.687</td>\n",
       "      <td>36.011120</td>\n",
       "      <td>-86.684000</td>\n",
       "      <td>Powered8106751</td>\n",
       "      <td>Powered</td>\n",
       "      <td>0.0</td>\n",
       "      <td>Scooter</td>\n",
       "      <td>Spin</td>\n",
       "    </tr>\n",
       "    <tr>\n",
       "      <th>...</th>\n",
       "      <td>...</td>\n",
       "      <td>...</td>\n",
       "      <td>...</td>\n",
       "      <td>...</td>\n",
       "      <td>...</td>\n",
       "      <td>...</td>\n",
       "      <td>...</td>\n",
       "      <td>...</td>\n",
       "    </tr>\n",
       "    <tr>\n",
       "      <th>25075287</th>\n",
       "      <td>2019-07-31 23:59:43.000</td>\n",
       "      <td>36.118800</td>\n",
       "      <td>-86.753500</td>\n",
       "      <td>Powereda72e8013-eaa2-54d5-a32d-0ea9066c7efe</td>\n",
       "      <td>Powered</td>\n",
       "      <td>0.0</td>\n",
       "      <td>scooter</td>\n",
       "      <td>Jump</td>\n",
       "    </tr>\n",
       "    <tr>\n",
       "      <th>25075290</th>\n",
       "      <td>2019-07-31 23:59:43.000</td>\n",
       "      <td>36.120000</td>\n",
       "      <td>-86.753100</td>\n",
       "      <td>Powereda52c64e6-2cad-5e1a-8f91-5882e2475466</td>\n",
       "      <td>Powered</td>\n",
       "      <td>0.0</td>\n",
       "      <td>scooter</td>\n",
       "      <td>Jump</td>\n",
       "    </tr>\n",
       "    <tr>\n",
       "      <th>25075291</th>\n",
       "      <td>2019-07-31 23:59:43.000</td>\n",
       "      <td>36.170700</td>\n",
       "      <td>-86.764300</td>\n",
       "      <td>Powered03eccca0-c690-5617-b967-1800fa512536</td>\n",
       "      <td>Powered</td>\n",
       "      <td>0.0</td>\n",
       "      <td>scooter</td>\n",
       "      <td>Jump</td>\n",
       "    </tr>\n",
       "    <tr>\n",
       "      <th>25075293</th>\n",
       "      <td>2019-07-31 23:59:43.000</td>\n",
       "      <td>36.213500</td>\n",
       "      <td>-86.763100</td>\n",
       "      <td>Powered96ff8edf-3972-5340-859c-cd0969a747de</td>\n",
       "      <td>Powered</td>\n",
       "      <td>0.0</td>\n",
       "      <td>scooter</td>\n",
       "      <td>Jump</td>\n",
       "    </tr>\n",
       "    <tr>\n",
       "      <th>25075443</th>\n",
       "      <td>2019-07-31 23:59:57.000</td>\n",
       "      <td>36.149792</td>\n",
       "      <td>-86.806818</td>\n",
       "      <td>Powered-55a7ac02-7e17-bb3b-130d-b160d9776405</td>\n",
       "      <td>Powered</td>\n",
       "      <td>0.0</td>\n",
       "      <td>Scooter</td>\n",
       "      <td>Bolt</td>\n",
       "    </tr>\n",
       "  </tbody>\n",
       "</table>\n",
       "<p>3883305 rows × 8 columns</p>\n",
       "</div>"
      ],
      "text/plain": [
       "                     pubdatetime   latitude  longitude  \\\n",
       "1301     2019-07-01 00:04:23.687  36.160017 -86.778196   \n",
       "1351     2019-07-01 00:04:23.687  36.011020 -86.684150   \n",
       "1364     2019-07-01 00:04:23.687  36.011000 -86.683970   \n",
       "1397     2019-07-01 00:04:23.687  36.147720 -86.740120   \n",
       "1424     2019-07-01 00:04:23.687  36.011120 -86.684000   \n",
       "...                          ...        ...        ...   \n",
       "25075287 2019-07-31 23:59:43.000  36.118800 -86.753500   \n",
       "25075290 2019-07-31 23:59:43.000  36.120000 -86.753100   \n",
       "25075291 2019-07-31 23:59:43.000  36.170700 -86.764300   \n",
       "25075293 2019-07-31 23:59:43.000  36.213500 -86.763100   \n",
       "25075443 2019-07-31 23:59:57.000  36.149792 -86.806818   \n",
       "\n",
       "                                                sumdid sumdtype  chargelevel  \\\n",
       "1301                                    Powered1676330  Powered          0.0   \n",
       "1351                                    Powered4102727  Powered          0.0   \n",
       "1364                                    Powered8566138  Powered          0.0   \n",
       "1397                                    Powered1573562  Powered          0.0   \n",
       "1424                                    Powered8106751  Powered          0.0   \n",
       "...                                                ...      ...          ...   \n",
       "25075287   Powereda72e8013-eaa2-54d5-a32d-0ea9066c7efe  Powered          0.0   \n",
       "25075290   Powereda52c64e6-2cad-5e1a-8f91-5882e2475466  Powered          0.0   \n",
       "25075291   Powered03eccca0-c690-5617-b967-1800fa512536  Powered          0.0   \n",
       "25075293   Powered96ff8edf-3972-5340-859c-cd0969a747de  Powered          0.0   \n",
       "25075443  Powered-55a7ac02-7e17-bb3b-130d-b160d9776405  Powered          0.0   \n",
       "\n",
       "         sumdgroup companyname  \n",
       "1301       Scooter        Spin  \n",
       "1351       Scooter        Spin  \n",
       "1364       Scooter        Spin  \n",
       "1397       Scooter        Spin  \n",
       "1424       Scooter        Spin  \n",
       "...            ...         ...  \n",
       "25075287   scooter        Jump  \n",
       "25075290   scooter        Jump  \n",
       "25075291   scooter        Jump  \n",
       "25075293   scooter        Jump  \n",
       "25075443   Scooter        Bolt  \n",
       "\n",
       "[3883305 rows x 8 columns]"
      ]
     },
     "execution_count": 22,
     "metadata": {},
     "output_type": "execute_result"
    }
   ],
   "source": [
    "july_dead=july_scooters.loc[(july_scooters['chargelevel'] == 0.00)]\n",
    "july_dead"
   ]
  },
  {
   "cell_type": "code",
   "execution_count": 23,
   "id": "3926d0a4",
   "metadata": {},
   "outputs": [
    {
     "data": {
      "text/plain": [
       "companyname\n",
       "Jump           3203358\n",
       "Gotcha          581269\n",
       "Spin             60360\n",
       "Lime             34222\n",
       "Bolt              4096\n",
       "dtype: int64"
      ]
     },
     "execution_count": 23,
     "metadata": {},
     "output_type": "execute_result"
    }
   ],
   "source": [
    "july_dead_company =july_dead.value_counts(['companyname'])##NUMBER OF DEAD SCOOTERS BY COMPANY\n",
    "july_dead_company "
   ]
  },
  {
   "cell_type": "code",
   "execution_count": 24,
   "id": "4b44a7fa",
   "metadata": {},
   "outputs": [
    {
     "data": {
      "text/plain": [
       "5"
      ]
     },
     "execution_count": 24,
     "metadata": {},
     "output_type": "execute_result"
    }
   ],
   "source": [
    "july_dead=july_dead.value_counts(['companyname']).nunique() ##THE NUMBER OF COMPANIES WITH DEAD SCOOTERS\n",
    "july_dead"
   ]
  },
  {
   "cell_type": "code",
   "execution_count": 25,
   "id": "d4980fda",
   "metadata": {},
   "outputs": [
    {
     "data": {
      "image/png": "[encoded data removed]",
      "text/plain": [
       "<Figure size 432x288 with 1 Axes>"
      ]
     },
     "metadata": {
      "needs_background": "light"
     },
     "output_type": "display_data"
    }
   ],
   "source": [
    "import matplotlib.pyplot as plt\n",
    "july_dead_company.plot.bar(x='companyname', y='sumdid', rot=0, title = 'Zero Charge Scooters by Company, July 2019')\n",
    "plt.show()\n"
   ]
  }
 ],
 "metadata": {
  "kernelspec": {
   "display_name": "Python 3 (ipykernel)",
   "language": "python",
   "name": "python3"
  },
  "language_info": {
   "codemirror_mode": {
    "name": "ipython",
    "version": 3
   },
   "file_extension": ".py",
   "mimetype": "text/x-python",
   "name": "python",
   "nbconvert_exporter": "python",
   "pygments_lexer": "ipython3",
   "version": "3.8.5"
  }
 },
 "nbformat": 4,
 "nbformat_minor": 5
}
