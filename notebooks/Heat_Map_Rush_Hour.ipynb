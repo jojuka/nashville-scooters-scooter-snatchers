{
 "cells": [
  {
   "cell_type": "markdown",
   "id": "86f0c0b0",
   "metadata": {},
   "source": [
    "The purpose of this notebook is to see the placement of scooters during Nashville rush hours (7am - 9am and 4pm - 6pm) and their relative location to bus stops in the Promise Zone. With this notebook, I aim to answer the following questions: \n",
    "    1. Where is there an accumulation of scooters during these time periods and where may scooters be lacking? \n",
    "    2. Where are the optimal areas to keep/move scooters in order to aid with the \"last mile\"?\n",
    "    3. What is the optimal number of scooters to have in these areas? "
   ]
  },
  {
   "cell_type": "markdown",
   "id": "1ee8e09b",
   "metadata": {},
   "source": [
    "First, we will import the needed packages. "
   ]
  },
  {
   "cell_type": "code",
   "execution_count": null,
   "id": "4eef1fed",
   "metadata": {},
   "outputs": [],
   "source": [
    "from shapely.geometry import Point\n",
    "import pandas as pd\n",
    "import geopandas as gpd\n",
    "import matplotlib.pyplot as plt\n",
    "import folium\n",
    "from folium.plugins import MarkerCluster\n",
    "from folium.plugins import FastMarkerCluster\n",
    "from folium.plugins import HeatMapWithTime\n",
    "import datetime as dt"
   ]
  },
  {
   "cell_type": "markdown",
   "id": "3be59a10",
   "metadata": {},
   "source": [
    "Import and inspect the promise zone json file and the May, June and July datasets. These datasets are subsets of the stationary scooter files that include data from only the above-mentioned timeframes. I'll start with May and then repeat the steps for the other datasets. "
   ]
  },
  {
   "cell_type": "code",
   "execution_count": null,
   "id": "7cad15e6",
   "metadata": {},
   "outputs": [],
   "source": [
    "promise_zone = gpd.read_file('../data/MDHA_Promise_Zones/promise_zone.json')\n",
    "print(promise_zone.crs)\n",
    "promise_zone"
   ]
  },
  {
   "cell_type": "code",
   "execution_count": null,
   "id": "0734101f",
   "metadata": {},
   "outputs": [],
   "source": [
    "may_rush_hour = pd.read_pickle('../data/may_rush_hour.pkl')\n",
    "may_rush_hour.head()"
   ]
  },
  {
   "cell_type": "markdown",
   "id": "61514d26",
   "metadata": {},
   "source": [
    "Create a geometry column for may_rush_hour to be able to create a geodataframe to use with our map."
   ]
  },
  {
   "cell_type": "code",
   "execution_count": null,
   "id": "6300892b",
   "metadata": {},
   "outputs": [],
   "source": [
    "may_rush_hour['geometry'] = may_rush_hour.apply(lambda x: Point((x.longitude, \n",
    "                                                                x.latitude)), \n",
    "                                                                    axis=1)\n",
    "may_rush_hour.head(3)"
   ]
  },
  {
   "cell_type": "markdown",
   "id": "d77895c4",
   "metadata": {},
   "source": [
    "Now, I'll create a geodataframe for the May data that matched the CRS on of the Promise Zone dataframe."
   ]
  },
  {
   "cell_type": "code",
   "execution_count": null,
   "id": "ad6125df",
   "metadata": {},
   "outputs": [],
   "source": [
    "may_geo = gpd.GeoDataFrame(may_rush_hour, \n",
    "                           crs = promise_zone.crs, \n",
    "                           geometry = may_rush_hour['geometry'])\n",
    "may_geo.head()"
   ]
  },
  {
   "cell_type": "markdown",
   "id": "aaef1d34",
   "metadata": {},
   "source": [
    "I want to subset the may_geo dataframe into 2 new dataframes containing the morning scooters and the evening scooters. The reasoning behind this is because theoretically we would want scooters available near neighborhoods in the morning to facilitate rides to bus stops, and near bus stops in the evenings to facilitate rides home. "
   ]
  },
  {
   "cell_type": "code",
   "execution_count": null,
   "id": "8cb23f25",
   "metadata": {
    "scrolled": true
   },
   "outputs": [],
   "source": [
    "may_geo_morning = may_geo[may_geo.hour <= 9]\n",
    "may_geo_morning.head()"
   ]
  },
  {
   "cell_type": "code",
   "execution_count": null,
   "id": "648b06cd",
   "metadata": {},
   "outputs": [],
   "source": [
    "may_geo_evening = may_geo[may_geo.hour >= 16]\n",
    "may_geo_evening.head()"
   ]
  },
  {
   "cell_type": "markdown",
   "id": "291f4307",
   "metadata": {},
   "source": [
    "Now that the May data frame is done, I will read in the bus stops data, create a geodataframe for it, and use a spatial join to merge it with the Promise Zone dataframe, as we only want to show bus stops in this area. "
   ]
  },
  {
   "cell_type": "code",
   "execution_count": null,
   "id": "85c03371",
   "metadata": {},
   "outputs": [],
   "source": [
    "bus_stops = pd.read_csv('../data/busstops_cleaned.csv')\n",
    "bus_stops.head()"
   ]
  },
  {
   "cell_type": "markdown",
   "id": "ae330c9c",
   "metadata": {},
   "source": [
    "Create the geometry for the bus stops dataframe."
   ]
  },
  {
   "cell_type": "code",
   "execution_count": null,
   "id": "dd34e5b5",
   "metadata": {},
   "outputs": [],
   "source": [
    "bus_stops['geometry'] = bus_stops.apply(lambda x: Point((x.lng, \n",
    "                                                         x.lat)), \n",
    "                                        axis=1)\n",
    "bus_stops.head(3)"
   ]
  },
  {
   "cell_type": "markdown",
   "id": "1ace7dc6",
   "metadata": {},
   "source": [
    "Create a geodatafram of the bus stops data and match the CRS to the Promise Zone geodataframe."
   ]
  },
  {
   "cell_type": "code",
   "execution_count": null,
   "id": "1d2462e0",
   "metadata": {},
   "outputs": [],
   "source": [
    "bus_geo = gpd.GeoDataFrame(bus_stops, \n",
    "                           crs = promise_zone.crs, \n",
    "                           geometry = bus_stops['geometry'])\n",
    "bus_geo.head()"
   ]
  },
  {
   "cell_type": "markdown",
   "id": "d5dde0f3",
   "metadata": {},
   "source": [
    "Perform a spatial join on the bus_geo and the promise_zone dataframes."
   ]
  },
  {
   "cell_type": "code",
   "execution_count": null,
   "id": "7c24cc9c",
   "metadata": {},
   "outputs": [],
   "source": [
    "stops_in_promise = gpd.sjoin(bus_geo, promise_zone, op = 'within')\n",
    "stops_in_promise.head()"
   ]
  },
  {
   "cell_type": "markdown",
   "id": "aa221f6d",
   "metadata": {},
   "source": [
    "Now that the dataframes are done, I will start to plot the heatmap. First, I need to find a focal point for the map to start. Because the Promise Zone has 6 separate zones, I'll try to find the centermost point of the centermost zone."
   ]
  },
  {
   "cell_type": "code",
   "execution_count": null,
   "id": "c1fab472",
   "metadata": {},
   "outputs": [],
   "source": [
    "promise_zone.plot();"
   ]
  },
  {
   "cell_type": "code",
   "execution_count": null,
   "id": "75b23b9f",
   "metadata": {},
   "outputs": [],
   "source": [
    "promise_zone.geometry[0]"
   ]
  },
  {
   "cell_type": "code",
   "execution_count": null,
   "id": "b5d23b11",
   "metadata": {
    "scrolled": true
   },
   "outputs": [],
   "source": [
    "center = promise_zone.geometry.centroid[0]\n",
    "area_center = [center.y, center.x]"
   ]
  },
  {
   "cell_type": "markdown",
   "id": "5ac3f272",
   "metadata": {},
   "source": [
    "Using the area_center as the center point of the map, I'll use it to build the maps. First is the map showing the locations of scooters in the morning over time. "
   ]
  },
  {
   "cell_type": "code",
   "execution_count": null,
   "id": "c329df55",
   "metadata": {},
   "outputs": [],
   "source": [
    "import folium.plugins as plugins\n",
    "\n",
    "# Create time index\n",
    "ind = [1,2,3,6,7,8,9,10,13,14,15,16,17,20,21,22,23,24,27,28,29,30,31]\n",
    "\n",
    "# Create map\n",
    "map_morning_scooters = folium.Map(location = area_center, zoom_start = 12) \n",
    "\n",
    "# Add bus markers\n",
    "\n",
    "for row_index, row_values in stops_in_promise.iterrows():\n",
    "    loc = [row_values['lat'], row_values['lng']]\n",
    "    tool = str(row_values['route'])\n",
    "    icon=folium.Icon(color=\"blue\",icon=\"bus\", prefix='fa')\n",
    "    \n",
    "    marker = folium.Marker(location = loc, tooltip = tool, icon = icon) \n",
    "\n",
    "    marker.add_to(map_morning_scooters)\n",
    "\n",
    "#Create for loop to add heat data to map\n",
    "\n",
    "heat_data = [[[row['latitude'],row['longitude']] for index, row in may_geo_morning[may_geo_morning['pubdatetime'].apply(lambda x: x.day==i)].iterrows()] for i in ind]\n",
    "\n",
    "hmwt = plugins.HeatMapWithTime(heat_data, index=ind, auto_play=True)\n",
    "\n",
    "hmwt.add_to(map_morning_scooters)\n",
    "\n",
    "# Add promise zone polygon\n",
    "\n",
    "folium.GeoJson(promise_zone).add_to(map_morning_scooters)\n",
    "\n",
    "# Save map\n",
    "\n",
    "map_morning_scooters.save('map_morning_scooters.html')\n",
    "\n",
    "# Show map\n",
    "\n",
    "map_morning_scooters"
   ]
  },
  {
   "cell_type": "markdown",
   "id": "9c1be17d",
   "metadata": {},
   "source": [
    "The second map is showing the locations of the scooters in the evening over time. "
   ]
  },
  {
   "cell_type": "code",
   "execution_count": null,
   "id": "95535d07",
   "metadata": {},
   "outputs": [],
   "source": [
    "# Create time index (defined above)\n",
    "\n",
    "# Create map\n",
    "map_evening_scooters = folium.Map(location = area_center, zoom_start = 12) \n",
    "\n",
    "# Add bus markers\n",
    "\n",
    "for row_index, row_values in stops_in_promise.iterrows():\n",
    "    loc = [row_values['lat'], row_values['lng']]\n",
    "    tool = str(row_values['route'])\n",
    "    icon=folium.Icon(color=\"blue\",icon=\"bus\", prefix='fa')\n",
    "    \n",
    "    marker = folium.Marker(location = loc, tooltip = tool, icon = icon) \n",
    "\n",
    "    marker.add_to(map_evening_scooters)\n",
    "\n",
    "#Create for loop to add heat data to map\n",
    "\n",
    "heat_data2 = [[[row['latitude'],row['longitude']] for index, row in may_geo_evening[may_geo_evening['pubdatetime'].apply(lambda x: x.day==i)].iterrows()] for i in ind]\n",
    "\n",
    "hmwt2 = plugins.HeatMapWithTime(heat_data2, index=ind, auto_play=True)\n",
    "\n",
    "hmwt2.add_to(map_evening_scooters)\n",
    "\n",
    "# Add promise zone polygon\n",
    "\n",
    "folium.GeoJson(promise_zone).add_to(map_evening_scooters)\n",
    "\n",
    "# Save map\n",
    "\n",
    "\n",
    "\n",
    "# Show map\n",
    "\n",
    "map_evening_scooters"
   ]
  }
 ],
 "metadata": {
  "kernelspec": {
   "display_name": "Python 3 (ipykernel)",
   "language": "python",
   "name": "python3"
  },
  "language_info": {
   "codemirror_mode": {
    "name": "ipython",
    "version": 3
   },
   "file_extension": ".py",
   "mimetype": "text/x-python",
   "name": "python",
   "nbconvert_exporter": "python",
   "pygments_lexer": "ipython3",
   "version": "3.8.5"
  }
 },
 "nbformat": 4,
 "nbformat_minor": 5
}
