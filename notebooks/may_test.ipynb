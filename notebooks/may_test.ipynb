{
 "cells": [
  {
   "cell_type": "code",
   "execution_count": 21,
   "id": "04925356",
   "metadata": {},
   "outputs": [],
   "source": [
    "import pandas as pd\n",
    "import pickle"
   ]
  },
  {
   "cell_type": "code",
   "execution_count": 22,
   "id": "9dc5aa1b",
   "metadata": {},
   "outputs": [],
   "source": [
    "may = pd.read_csv('../data/may.csv')"
   ]
  },
  {
   "cell_type": "code",
   "execution_count": 23,
   "id": "02f96527",
   "metadata": {},
   "outputs": [
    {
     "data": {
      "text/html": [
       "<div>\n",
       "<style scoped>\n",
       "    .dataframe tbody tr th:only-of-type {\n",
       "        vertical-align: middle;\n",
       "    }\n",
       "\n",
       "    .dataframe tbody tr th {\n",
       "        vertical-align: top;\n",
       "    }\n",
       "\n",
       "    .dataframe thead th {\n",
       "        text-align: right;\n",
       "    }\n",
       "</style>\n",
       "<table border=\"1\" class=\"dataframe\">\n",
       "  <thead>\n",
       "    <tr style=\"text-align: right;\">\n",
       "      <th></th>\n",
       "      <th>pubdatetime</th>\n",
       "      <th>latitude</th>\n",
       "      <th>longitude</th>\n",
       "      <th>sumdid</th>\n",
       "      <th>sumdtype</th>\n",
       "      <th>chargelevel</th>\n",
       "      <th>sumdgroup</th>\n",
       "      <th>costpermin</th>\n",
       "      <th>companyname</th>\n",
       "    </tr>\n",
       "  </thead>\n",
       "  <tbody>\n",
       "    <tr>\n",
       "      <th>0</th>\n",
       "      <td>2019-05-01 00:01:41.247000</td>\n",
       "      <td>36.136822</td>\n",
       "      <td>-86.799877</td>\n",
       "      <td>PoweredLIRL1</td>\n",
       "      <td>Powered</td>\n",
       "      <td>93.0</td>\n",
       "      <td>scooter</td>\n",
       "      <td>0.0</td>\n",
       "      <td>Bird</td>\n",
       "    </tr>\n",
       "    <tr>\n",
       "      <th>1</th>\n",
       "      <td>2019-05-01 00:01:41.247000</td>\n",
       "      <td>36.191252</td>\n",
       "      <td>-86.772945</td>\n",
       "      <td>PoweredXWRWC</td>\n",
       "      <td>Powered</td>\n",
       "      <td>35.0</td>\n",
       "      <td>scooter</td>\n",
       "      <td>0.0</td>\n",
       "      <td>Bird</td>\n",
       "    </tr>\n",
       "    <tr>\n",
       "      <th>2</th>\n",
       "      <td>2019-05-01 00:01:41.247000</td>\n",
       "      <td>36.144752</td>\n",
       "      <td>-86.806293</td>\n",
       "      <td>PoweredMEJEH</td>\n",
       "      <td>Powered</td>\n",
       "      <td>90.0</td>\n",
       "      <td>scooter</td>\n",
       "      <td>0.0</td>\n",
       "      <td>Bird</td>\n",
       "    </tr>\n",
       "    <tr>\n",
       "      <th>3</th>\n",
       "      <td>2019-05-01 00:01:41.247000</td>\n",
       "      <td>36.162056</td>\n",
       "      <td>-86.774688</td>\n",
       "      <td>Powered1A7TC</td>\n",
       "      <td>Powered</td>\n",
       "      <td>88.0</td>\n",
       "      <td>scooter</td>\n",
       "      <td>0.0</td>\n",
       "      <td>Bird</td>\n",
       "    </tr>\n",
       "    <tr>\n",
       "      <th>4</th>\n",
       "      <td>2019-05-01 00:01:41.247000</td>\n",
       "      <td>36.150973</td>\n",
       "      <td>-86.783109</td>\n",
       "      <td>Powered2TYEF</td>\n",
       "      <td>Powered</td>\n",
       "      <td>98.0</td>\n",
       "      <td>scooter</td>\n",
       "      <td>0.0</td>\n",
       "      <td>Bird</td>\n",
       "    </tr>\n",
       "  </tbody>\n",
       "</table>\n",
       "</div>"
      ],
      "text/plain": [
       "                  pubdatetime   latitude  longitude        sumdid sumdtype  \\\n",
       "0  2019-05-01 00:01:41.247000  36.136822 -86.799877  PoweredLIRL1  Powered   \n",
       "1  2019-05-01 00:01:41.247000  36.191252 -86.772945  PoweredXWRWC  Powered   \n",
       "2  2019-05-01 00:01:41.247000  36.144752 -86.806293  PoweredMEJEH  Powered   \n",
       "3  2019-05-01 00:01:41.247000  36.162056 -86.774688  Powered1A7TC  Powered   \n",
       "4  2019-05-01 00:01:41.247000  36.150973 -86.783109  Powered2TYEF  Powered   \n",
       "\n",
       "   chargelevel sumdgroup  costpermin companyname  \n",
       "0         93.0   scooter         0.0        Bird  \n",
       "1         35.0   scooter         0.0        Bird  \n",
       "2         90.0   scooter         0.0        Bird  \n",
       "3         88.0   scooter         0.0        Bird  \n",
       "4         98.0   scooter         0.0        Bird  "
      ]
     },
     "execution_count": 23,
     "metadata": {},
     "output_type": "execute_result"
    }
   ],
   "source": [
    "may.head()"
   ]
  },
  {
   "cell_type": "code",
   "execution_count": 24,
   "id": "ee790ce3",
   "metadata": {},
   "outputs": [],
   "source": [
    "company_dict = {'Bird':0, 'Lyft': 1, 'Gotcha': 2, 'Lime': 3, 'Spin': 4, 'Jump': 5, 'Bolt': 6}"
   ]
  },
  {
   "cell_type": "code",
   "execution_count": 25,
   "id": "ba691bc2",
   "metadata": {},
   "outputs": [],
   "source": [
    "may.companyname = may.companyname.replace(company_dict)"
   ]
  },
  {
   "cell_type": "code",
   "execution_count": 6,
   "id": "43b03d7c",
   "metadata": {},
   "outputs": [
    {
     "data": {
      "text/html": [
       "<div>\n",
       "<style scoped>\n",
       "    .dataframe tbody tr th:only-of-type {\n",
       "        vertical-align: middle;\n",
       "    }\n",
       "\n",
       "    .dataframe tbody tr th {\n",
       "        vertical-align: top;\n",
       "    }\n",
       "\n",
       "    .dataframe thead th {\n",
       "        text-align: right;\n",
       "    }\n",
       "</style>\n",
       "<table border=\"1\" class=\"dataframe\">\n",
       "  <thead>\n",
       "    <tr style=\"text-align: right;\">\n",
       "      <th></th>\n",
       "      <th>pubdatetime</th>\n",
       "      <th>latitude</th>\n",
       "      <th>longitude</th>\n",
       "      <th>sumdid</th>\n",
       "      <th>sumdtype</th>\n",
       "      <th>chargelevel</th>\n",
       "      <th>sumdgroup</th>\n",
       "      <th>costpermin</th>\n",
       "      <th>companyname</th>\n",
       "    </tr>\n",
       "  </thead>\n",
       "  <tbody>\n",
       "    <tr>\n",
       "      <th>0</th>\n",
       "      <td>2019-05-01 00:01:41.247</td>\n",
       "      <td>36.136822</td>\n",
       "      <td>-86.799877</td>\n",
       "      <td>PoweredLIRL1</td>\n",
       "      <td>Powered</td>\n",
       "      <td>93.0</td>\n",
       "      <td>scooter</td>\n",
       "      <td>0.0</td>\n",
       "      <td>0</td>\n",
       "    </tr>\n",
       "    <tr>\n",
       "      <th>1</th>\n",
       "      <td>2019-05-01 00:01:41.247</td>\n",
       "      <td>36.191252</td>\n",
       "      <td>-86.772945</td>\n",
       "      <td>PoweredXWRWC</td>\n",
       "      <td>Powered</td>\n",
       "      <td>35.0</td>\n",
       "      <td>scooter</td>\n",
       "      <td>0.0</td>\n",
       "      <td>0</td>\n",
       "    </tr>\n",
       "  </tbody>\n",
       "</table>\n",
       "</div>"
      ],
      "text/plain": [
       "              pubdatetime   latitude  longitude        sumdid sumdtype  \\\n",
       "0 2019-05-01 00:01:41.247  36.136822 -86.799877  PoweredLIRL1  Powered   \n",
       "1 2019-05-01 00:01:41.247  36.191252 -86.772945  PoweredXWRWC  Powered   \n",
       "\n",
       "   chargelevel sumdgroup  costpermin  companyname  \n",
       "0         93.0   scooter         0.0            0  \n",
       "1         35.0   scooter         0.0            0  "
      ]
     },
     "execution_count": 6,
     "metadata": {},
     "output_type": "execute_result"
    }
   ],
   "source": [
    "may.pubdatetime = pd.to_datetime(may.pubdatetime)\n",
    "may.head(2)"
   ]
  },
  {
   "cell_type": "code",
   "execution_count": 28,
   "id": "53015941",
   "metadata": {},
   "outputs": [],
   "source": [
    "may = may.loc[may.sumdgroup.isin(['scooter', 'Scooter'])]"
   ]
  },
  {
   "cell_type": "code",
   "execution_count": 29,
   "id": "92e8ff37",
   "metadata": {},
   "outputs": [],
   "source": [
    "may = may[['pubdatetime', 'latitude', 'longitude', 'sumdid', 'chargelevel', 'companyname']]"
   ]
  },
  {
   "cell_type": "code",
   "execution_count": 30,
   "id": "774f99ea",
   "metadata": {},
   "outputs": [
    {
     "name": "stdout",
     "output_type": "stream",
     "text": [
      "<class 'pandas.core.frame.DataFrame'>\n",
      "Int64Index: 20283582 entries, 0 to 20292502\n",
      "Data columns (total 6 columns):\n",
      " #   Column       Dtype  \n",
      "---  ------       -----  \n",
      " 0   pubdatetime  object \n",
      " 1   latitude     float64\n",
      " 2   longitude    float64\n",
      " 3   sumdid       object \n",
      " 4   chargelevel  float64\n",
      " 5   companyname  int64  \n",
      "dtypes: float64(3), int64(1), object(2)\n",
      "memory usage: 1.1+ GB\n"
     ]
    }
   ],
   "source": [
    "may.info()"
   ]
  },
  {
   "cell_type": "code",
   "execution_count": 31,
   "id": "ebf328ce",
   "metadata": {},
   "outputs": [
    {
     "data": {
      "text/html": [
       "<div>\n",
       "<style scoped>\n",
       "    .dataframe tbody tr th:only-of-type {\n",
       "        vertical-align: middle;\n",
       "    }\n",
       "\n",
       "    .dataframe tbody tr th {\n",
       "        vertical-align: top;\n",
       "    }\n",
       "\n",
       "    .dataframe thead th {\n",
       "        text-align: right;\n",
       "    }\n",
       "</style>\n",
       "<table border=\"1\" class=\"dataframe\">\n",
       "  <thead>\n",
       "    <tr style=\"text-align: right;\">\n",
       "      <th></th>\n",
       "      <th>pubdatetime</th>\n",
       "      <th>latitude</th>\n",
       "      <th>longitude</th>\n",
       "      <th>sumdid</th>\n",
       "      <th>chargelevel</th>\n",
       "      <th>companyname</th>\n",
       "    </tr>\n",
       "  </thead>\n",
       "  <tbody>\n",
       "    <tr>\n",
       "      <th>0</th>\n",
       "      <td>2019-05-01 00:01:41.247000</td>\n",
       "      <td>36.136822</td>\n",
       "      <td>-86.799877</td>\n",
       "      <td>PoweredLIRL1</td>\n",
       "      <td>93.0</td>\n",
       "      <td>0</td>\n",
       "    </tr>\n",
       "    <tr>\n",
       "      <th>1</th>\n",
       "      <td>2019-05-01 00:01:41.247000</td>\n",
       "      <td>36.191252</td>\n",
       "      <td>-86.772945</td>\n",
       "      <td>PoweredXWRWC</td>\n",
       "      <td>35.0</td>\n",
       "      <td>0</td>\n",
       "    </tr>\n",
       "    <tr>\n",
       "      <th>2</th>\n",
       "      <td>2019-05-01 00:01:41.247000</td>\n",
       "      <td>36.144752</td>\n",
       "      <td>-86.806293</td>\n",
       "      <td>PoweredMEJEH</td>\n",
       "      <td>90.0</td>\n",
       "      <td>0</td>\n",
       "    </tr>\n",
       "    <tr>\n",
       "      <th>3</th>\n",
       "      <td>2019-05-01 00:01:41.247000</td>\n",
       "      <td>36.162056</td>\n",
       "      <td>-86.774688</td>\n",
       "      <td>Powered1A7TC</td>\n",
       "      <td>88.0</td>\n",
       "      <td>0</td>\n",
       "    </tr>\n",
       "    <tr>\n",
       "      <th>4</th>\n",
       "      <td>2019-05-01 00:01:41.247000</td>\n",
       "      <td>36.150973</td>\n",
       "      <td>-86.783109</td>\n",
       "      <td>Powered2TYEF</td>\n",
       "      <td>98.0</td>\n",
       "      <td>0</td>\n",
       "    </tr>\n",
       "  </tbody>\n",
       "</table>\n",
       "</div>"
      ],
      "text/plain": [
       "                  pubdatetime   latitude  longitude        sumdid  \\\n",
       "0  2019-05-01 00:01:41.247000  36.136822 -86.799877  PoweredLIRL1   \n",
       "1  2019-05-01 00:01:41.247000  36.191252 -86.772945  PoweredXWRWC   \n",
       "2  2019-05-01 00:01:41.247000  36.144752 -86.806293  PoweredMEJEH   \n",
       "3  2019-05-01 00:01:41.247000  36.162056 -86.774688  Powered1A7TC   \n",
       "4  2019-05-01 00:01:41.247000  36.150973 -86.783109  Powered2TYEF   \n",
       "\n",
       "   chargelevel  companyname  \n",
       "0         93.0            0  \n",
       "1         35.0            0  \n",
       "2         90.0            0  \n",
       "3         88.0            0  \n",
       "4         98.0            0  "
      ]
     },
     "execution_count": 31,
     "metadata": {},
     "output_type": "execute_result"
    }
   ],
   "source": [
    "may = may.dropna()\n",
    "may.head()"
   ]
  },
  {
   "cell_type": "code",
   "execution_count": null,
   "id": "66fafe49",
   "metadata": {},
   "outputs": [],
   "source": [
    "may['hour'] = pd.to_datetime(may['pubdatetime']).dt.hour\n",
    "\n",
    "may_by_hour = may.loc[may.groupby('hour')['sumdid'].transform('sum') >= 1].sort_values('hour')\n",
    "\n",
    "print(may_by_day.hour(50))"
   ]
  }
 ],
 "metadata": {
  "kernelspec": {
   "display_name": "Python 3",
   "language": "python",
   "name": "python3"
  },
  "language_info": {
   "codemirror_mode": {
    "name": "ipython",
    "version": 3
   },
   "file_extension": ".py",
   "mimetype": "text/x-python",
   "name": "python",
   "nbconvert_exporter": "python",
   "pygments_lexer": "ipython3",
   "version": "3.8.8"
  }
 },
 "nbformat": 4,
 "nbformat_minor": 5
}
