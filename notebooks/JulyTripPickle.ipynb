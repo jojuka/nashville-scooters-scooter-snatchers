{
 "cells": [
  {
   "cell_type": "code",
   "execution_count": 1,
   "id": "af5f336d",
   "metadata": {},
   "outputs": [],
   "source": [
    "import pandas as pd\n",
    "import pickle"
   ]
  },
  {
   "cell_type": "code",
   "execution_count": 2,
   "id": "0da54472",
   "metadata": {},
   "outputs": [
    {
     "name": "stdout",
     "output_type": "stream",
     "text": [
      "Wall time: 5.23 s\n"
     ]
    },
    {
     "data": {
      "text/html": [
       "<div>\n",
       "<style scoped>\n",
       "    .dataframe tbody tr th:only-of-type {\n",
       "        vertical-align: middle;\n",
       "    }\n",
       "\n",
       "    .dataframe tbody tr th {\n",
       "        vertical-align: top;\n",
       "    }\n",
       "\n",
       "    .dataframe thead th {\n",
       "        text-align: right;\n",
       "    }\n",
       "</style>\n",
       "<table border=\"1\" class=\"dataframe\">\n",
       "  <thead>\n",
       "    <tr style=\"text-align: right;\">\n",
       "      <th></th>\n",
       "      <th>pubTimeStamp</th>\n",
       "      <th>companyName</th>\n",
       "      <th>tripRecordNum</th>\n",
       "      <th>sumdID</th>\n",
       "      <th>tripDuration</th>\n",
       "      <th>tripDistance</th>\n",
       "      <th>startDate</th>\n",
       "      <th>startTime</th>\n",
       "      <th>endDate</th>\n",
       "      <th>endTime</th>\n",
       "      <th>startLatitude</th>\n",
       "      <th>startLongitude</th>\n",
       "      <th>endLatitude</th>\n",
       "      <th>endLongitude</th>\n",
       "      <th>tripRoute</th>\n",
       "      <th>create_dt</th>\n",
       "    </tr>\n",
       "  </thead>\n",
       "  <tbody>\n",
       "    <tr>\n",
       "      <th>0</th>\n",
       "      <td>2019-07-01 00:02:52.213000</td>\n",
       "      <td>Bird</td>\n",
       "      <td>BRD5179</td>\n",
       "      <td>PoweredZSHKJ</td>\n",
       "      <td>2.0</td>\n",
       "      <td>0.0</td>\n",
       "      <td>2019-07-01 00:00:00</td>\n",
       "      <td>00:01:32.290000</td>\n",
       "      <td>2019-07-01 00:00:00</td>\n",
       "      <td>00:03:55.966666</td>\n",
       "      <td>36.1775</td>\n",
       "      <td>-86.7516</td>\n",
       "      <td>36.1778</td>\n",
       "      <td>-86.7514</td>\n",
       "      <td>[[36.177438,-86.751861],[36.177425,-86.751987]...</td>\n",
       "      <td>2019-07-02 05:30:18.333000</td>\n",
       "    </tr>\n",
       "    <tr>\n",
       "      <th>1</th>\n",
       "      <td>2019-07-01 00:02:52.213000</td>\n",
       "      <td>Bird</td>\n",
       "      <td>BRD5177</td>\n",
       "      <td>Powered22JF6</td>\n",
       "      <td>0.0</td>\n",
       "      <td>0.0</td>\n",
       "      <td>2019-07-01 00:00:00</td>\n",
       "      <td>00:02:38.640000</td>\n",
       "      <td>2019-07-01 00:00:00</td>\n",
       "      <td>00:02:54.406666</td>\n",
       "      <td>36.1627</td>\n",
       "      <td>-86.7711</td>\n",
       "      <td>36.1627</td>\n",
       "      <td>-86.7711</td>\n",
       "      <td>[[36.162718,-86.771102],[36.162718,-86.771102]]</td>\n",
       "      <td>2019-07-02 05:30:18.273000</td>\n",
       "    </tr>\n",
       "    <tr>\n",
       "      <th>2</th>\n",
       "      <td>2019-07-01 00:02:52.213000</td>\n",
       "      <td>Bird</td>\n",
       "      <td>BRD5176</td>\n",
       "      <td>Powered22JF6</td>\n",
       "      <td>1.0</td>\n",
       "      <td>0.0</td>\n",
       "      <td>2019-07-01 00:00:00</td>\n",
       "      <td>00:03:04.333333</td>\n",
       "      <td>2019-07-01 00:00:00</td>\n",
       "      <td>00:03:37.680000</td>\n",
       "      <td>36.1627</td>\n",
       "      <td>-86.7713</td>\n",
       "      <td>36.1627</td>\n",
       "      <td>-86.7713</td>\n",
       "      <td>[[36.162734,-86.77122],[36.162706,-86.771325],...</td>\n",
       "      <td>2019-07-02 05:30:18.243000</td>\n",
       "    </tr>\n",
       "    <tr>\n",
       "      <th>3</th>\n",
       "      <td>2019-07-01 00:02:52.213000</td>\n",
       "      <td>Bird</td>\n",
       "      <td>BRD5178</td>\n",
       "      <td>PoweredIB2CC</td>\n",
       "      <td>1.0</td>\n",
       "      <td>0.0</td>\n",
       "      <td>2019-07-01 00:00:00</td>\n",
       "      <td>00:02:06.963333</td>\n",
       "      <td>2019-07-01 00:00:00</td>\n",
       "      <td>00:03:25.766666</td>\n",
       "      <td>36.1525</td>\n",
       "      <td>-86.7988</td>\n",
       "      <td>36.1525</td>\n",
       "      <td>-86.7988</td>\n",
       "      <td>[[36.152499,-86.798708]]</td>\n",
       "      <td>2019-07-02 05:30:18.303000</td>\n",
       "    </tr>\n",
       "    <tr>\n",
       "      <th>4</th>\n",
       "      <td>2019-07-01 00:02:52.213000</td>\n",
       "      <td>Bird</td>\n",
       "      <td>BRD5180</td>\n",
       "      <td>PoweredW4G7R</td>\n",
       "      <td>2.0</td>\n",
       "      <td>0.0</td>\n",
       "      <td>2019-07-01 00:00:00</td>\n",
       "      <td>00:01:19.843333</td>\n",
       "      <td>2019-07-01 00:00:00</td>\n",
       "      <td>00:02:53.976666</td>\n",
       "      <td>36.1578</td>\n",
       "      <td>-86.7760</td>\n",
       "      <td>36.1575</td>\n",
       "      <td>-86.7758</td>\n",
       "      <td>[[36.157523,-86.775794]]</td>\n",
       "      <td>2019-07-02 05:30:18.363000</td>\n",
       "    </tr>\n",
       "  </tbody>\n",
       "</table>\n",
       "</div>"
      ],
      "text/plain": [
       "                 pubTimeStamp companyName tripRecordNum        sumdID  \\\n",
       "0  2019-07-01 00:02:52.213000        Bird       BRD5179  PoweredZSHKJ   \n",
       "1  2019-07-01 00:02:52.213000        Bird       BRD5177  Powered22JF6   \n",
       "2  2019-07-01 00:02:52.213000        Bird       BRD5176  Powered22JF6   \n",
       "3  2019-07-01 00:02:52.213000        Bird       BRD5178  PoweredIB2CC   \n",
       "4  2019-07-01 00:02:52.213000        Bird       BRD5180  PoweredW4G7R   \n",
       "\n",
       "   tripDuration  tripDistance            startDate        startTime  \\\n",
       "0           2.0           0.0  2019-07-01 00:00:00  00:01:32.290000   \n",
       "1           0.0           0.0  2019-07-01 00:00:00  00:02:38.640000   \n",
       "2           1.0           0.0  2019-07-01 00:00:00  00:03:04.333333   \n",
       "3           1.0           0.0  2019-07-01 00:00:00  00:02:06.963333   \n",
       "4           2.0           0.0  2019-07-01 00:00:00  00:01:19.843333   \n",
       "\n",
       "               endDate          endTime  startLatitude  startLongitude  \\\n",
       "0  2019-07-01 00:00:00  00:03:55.966666        36.1775        -86.7516   \n",
       "1  2019-07-01 00:00:00  00:02:54.406666        36.1627        -86.7711   \n",
       "2  2019-07-01 00:00:00  00:03:37.680000        36.1627        -86.7713   \n",
       "3  2019-07-01 00:00:00  00:03:25.766666        36.1525        -86.7988   \n",
       "4  2019-07-01 00:00:00  00:02:53.976666        36.1578        -86.7760   \n",
       "\n",
       "   endLatitude  endLongitude  \\\n",
       "0      36.1778      -86.7514   \n",
       "1      36.1627      -86.7711   \n",
       "2      36.1627      -86.7713   \n",
       "3      36.1525      -86.7988   \n",
       "4      36.1575      -86.7758   \n",
       "\n",
       "                                           tripRoute  \\\n",
       "0  [[36.177438,-86.751861],[36.177425,-86.751987]...   \n",
       "1    [[36.162718,-86.771102],[36.162718,-86.771102]]   \n",
       "2  [[36.162734,-86.77122],[36.162706,-86.771325],...   \n",
       "3                           [[36.152499,-86.798708]]   \n",
       "4                           [[36.157523,-86.775794]]   \n",
       "\n",
       "                    create_dt  \n",
       "0  2019-07-02 05:30:18.333000  \n",
       "1  2019-07-02 05:30:18.273000  \n",
       "2  2019-07-02 05:30:18.243000  \n",
       "3  2019-07-02 05:30:18.303000  \n",
       "4  2019-07-02 05:30:18.363000  "
      ]
     },
     "execution_count": 2,
     "metadata": {},
     "output_type": "execute_result"
    }
   ],
   "source": [
    "%%time\n",
    "july_trip = pd.read_csv('../data/july_trip.csv')\n",
    "july_trip.head()"
   ]
  },
  {
   "cell_type": "code",
   "execution_count": 3,
   "id": "fb348fc2",
   "metadata": {},
   "outputs": [
    {
     "name": "stdout",
     "output_type": "stream",
     "text": [
      "<class 'pandas.core.frame.DataFrame'>\n",
      "RangeIndex: 134926 entries, 0 to 134925\n",
      "Data columns (total 16 columns):\n",
      " #   Column          Non-Null Count   Dtype  \n",
      "---  ------          --------------   -----  \n",
      " 0   pubTimeStamp    134926 non-null  object \n",
      " 1   companyName     134926 non-null  object \n",
      " 2   tripRecordNum   134926 non-null  object \n",
      " 3   sumdID          134926 non-null  object \n",
      " 4   tripDuration    134926 non-null  float64\n",
      " 5   tripDistance    134926 non-null  float64\n",
      " 6   startDate       134926 non-null  object \n",
      " 7   startTime       134926 non-null  object \n",
      " 8   endDate         134926 non-null  object \n",
      " 9   endTime         134926 non-null  object \n",
      " 10  startLatitude   134926 non-null  float64\n",
      " 11  startLongitude  134926 non-null  float64\n",
      " 12  endLatitude     134926 non-null  float64\n",
      " 13  endLongitude    134926 non-null  float64\n",
      " 14  tripRoute       134926 non-null  object \n",
      " 15  create_dt       134926 non-null  object \n",
      "dtypes: float64(6), object(10)\n",
      "memory usage: 16.5+ MB\n"
     ]
    }
   ],
   "source": [
    "july_trip.info()"
   ]
  },
  {
   "cell_type": "code",
   "execution_count": 4,
   "id": "4eddffca",
   "metadata": {},
   "outputs": [
    {
     "data": {
      "text/plain": [
       "array(['Bird', 'Lyft', 'Bolt Mobility', 'SPIN', 'Lime', 'Gotcha', 'JUMP'],\n",
       "      dtype=object)"
      ]
     },
     "execution_count": 4,
     "metadata": {},
     "output_type": "execute_result"
    }
   ],
   "source": [
    "july_trip.companyName.unique()"
   ]
  },
  {
   "cell_type": "code",
   "execution_count": 5,
   "id": "a304f8b4",
   "metadata": {},
   "outputs": [],
   "source": [
    "company_dict = {'Bird':0, 'Lyft': 1, 'Gotcha': 2, 'Lime': 3, 'Spin': 4, 'Jump': 5, 'Bolt': 6}"
   ]
  },
  {
   "cell_type": "code",
   "execution_count": 6,
   "id": "3032d166",
   "metadata": {},
   "outputs": [],
   "source": [
    "july_trip.companyName = july_trip.companyName.replace(company_dict)"
   ]
  },
  {
   "cell_type": "code",
   "execution_count": 7,
   "id": "67833aa0",
   "metadata": {},
   "outputs": [
    {
     "data": {
      "text/html": [
       "<div>\n",
       "<style scoped>\n",
       "    .dataframe tbody tr th:only-of-type {\n",
       "        vertical-align: middle;\n",
       "    }\n",
       "\n",
       "    .dataframe tbody tr th {\n",
       "        vertical-align: top;\n",
       "    }\n",
       "\n",
       "    .dataframe thead th {\n",
       "        text-align: right;\n",
       "    }\n",
       "</style>\n",
       "<table border=\"1\" class=\"dataframe\">\n",
       "  <thead>\n",
       "    <tr style=\"text-align: right;\">\n",
       "      <th></th>\n",
       "      <th>pubTimeStamp</th>\n",
       "      <th>companyName</th>\n",
       "      <th>tripRecordNum</th>\n",
       "      <th>sumdID</th>\n",
       "      <th>tripDuration</th>\n",
       "      <th>tripDistance</th>\n",
       "      <th>startDate</th>\n",
       "      <th>startTime</th>\n",
       "      <th>endDate</th>\n",
       "      <th>endTime</th>\n",
       "      <th>startLatitude</th>\n",
       "      <th>startLongitude</th>\n",
       "      <th>endLatitude</th>\n",
       "      <th>endLongitude</th>\n",
       "      <th>tripRoute</th>\n",
       "      <th>create_dt</th>\n",
       "    </tr>\n",
       "  </thead>\n",
       "  <tbody>\n",
       "    <tr>\n",
       "      <th>0</th>\n",
       "      <td>2019-07-01 00:02:52.213</td>\n",
       "      <td>0</td>\n",
       "      <td>BRD5179</td>\n",
       "      <td>PoweredZSHKJ</td>\n",
       "      <td>2.0</td>\n",
       "      <td>0.0</td>\n",
       "      <td>2019-07-01 00:00:00</td>\n",
       "      <td>00:01:32.290000</td>\n",
       "      <td>2019-07-01 00:00:00</td>\n",
       "      <td>00:03:55.966666</td>\n",
       "      <td>36.1775</td>\n",
       "      <td>-86.7516</td>\n",
       "      <td>36.1778</td>\n",
       "      <td>-86.7514</td>\n",
       "      <td>[[36.177438,-86.751861],[36.177425,-86.751987]...</td>\n",
       "      <td>2019-07-02 05:30:18.333000</td>\n",
       "    </tr>\n",
       "    <tr>\n",
       "      <th>1</th>\n",
       "      <td>2019-07-01 00:02:52.213</td>\n",
       "      <td>0</td>\n",
       "      <td>BRD5177</td>\n",
       "      <td>Powered22JF6</td>\n",
       "      <td>0.0</td>\n",
       "      <td>0.0</td>\n",
       "      <td>2019-07-01 00:00:00</td>\n",
       "      <td>00:02:38.640000</td>\n",
       "      <td>2019-07-01 00:00:00</td>\n",
       "      <td>00:02:54.406666</td>\n",
       "      <td>36.1627</td>\n",
       "      <td>-86.7711</td>\n",
       "      <td>36.1627</td>\n",
       "      <td>-86.7711</td>\n",
       "      <td>[[36.162718,-86.771102],[36.162718,-86.771102]]</td>\n",
       "      <td>2019-07-02 05:30:18.273000</td>\n",
       "    </tr>\n",
       "  </tbody>\n",
       "</table>\n",
       "</div>"
      ],
      "text/plain": [
       "             pubTimeStamp companyName tripRecordNum        sumdID  \\\n",
       "0 2019-07-01 00:02:52.213           0       BRD5179  PoweredZSHKJ   \n",
       "1 2019-07-01 00:02:52.213           0       BRD5177  Powered22JF6   \n",
       "\n",
       "   tripDuration  tripDistance            startDate        startTime  \\\n",
       "0           2.0           0.0  2019-07-01 00:00:00  00:01:32.290000   \n",
       "1           0.0           0.0  2019-07-01 00:00:00  00:02:38.640000   \n",
       "\n",
       "               endDate          endTime  startLatitude  startLongitude  \\\n",
       "0  2019-07-01 00:00:00  00:03:55.966666        36.1775        -86.7516   \n",
       "1  2019-07-01 00:00:00  00:02:54.406666        36.1627        -86.7711   \n",
       "\n",
       "   endLatitude  endLongitude  \\\n",
       "0      36.1778      -86.7514   \n",
       "1      36.1627      -86.7711   \n",
       "\n",
       "                                           tripRoute  \\\n",
       "0  [[36.177438,-86.751861],[36.177425,-86.751987]...   \n",
       "1    [[36.162718,-86.771102],[36.162718,-86.771102]]   \n",
       "\n",
       "                    create_dt  \n",
       "0  2019-07-02 05:30:18.333000  \n",
       "1  2019-07-02 05:30:18.273000  "
      ]
     },
     "execution_count": 7,
     "metadata": {},
     "output_type": "execute_result"
    }
   ],
   "source": [
    "july_trip.pubTimeStamp = pd.to_datetime(july_trip.pubTimeStamp)\n",
    "july_trip.head(2)\n"
   ]
  },
  {
   "cell_type": "code",
   "execution_count": 8,
   "id": "afecf03b",
   "metadata": {},
   "outputs": [
    {
     "data": {
      "text/plain": [
       "array(['PoweredZSHKJ', 'Powered22JF6', 'PoweredIB2CC', ...,\n",
       "       'Powered216IW', 'PoweredQR6KS', 'PoweredVNWRA'], dtype=object)"
      ]
     },
     "execution_count": 8,
     "metadata": {},
     "output_type": "execute_result"
    }
   ],
   "source": [
    "july_trip.sumdID.unique()\n"
   ]
  },
  {
   "cell_type": "code",
   "execution_count": 24,
   "id": "63d5c58f",
   "metadata": {},
   "outputs": [],
   "source": [
    "july_trip_scooters = july_trip.loc[july_trip.sumdID.isin(['scooter', 'Scooter'])]"
   ]
  },
  {
   "cell_type": "code",
   "execution_count": 25,
   "id": "6e237de3",
   "metadata": {},
   "outputs": [
    {
     "ename": "KeyError",
     "evalue": "\"['chargelevel'] not in index\"",
     "output_type": "error",
     "traceback": [
      "\u001b[1;31m---------------------------------------------------------------------------\u001b[0m",
      "\u001b[1;31mKeyError\u001b[0m                                  Traceback (most recent call last)",
      "\u001b[1;32m<ipython-input-25-f1055686a96c>\u001b[0m in \u001b[0;36m<module>\u001b[1;34m\u001b[0m\n\u001b[1;32m----> 1\u001b[1;33m \u001b[0mjuly_trip_scooters\u001b[0m \u001b[1;33m=\u001b[0m \u001b[0mjuly_trip_scooters\u001b[0m\u001b[1;33m[\u001b[0m\u001b[1;33m[\u001b[0m\u001b[1;34m'pubTimeStamp'\u001b[0m\u001b[1;33m,\u001b[0m \u001b[1;34m'startLatitude'\u001b[0m\u001b[1;33m,\u001b[0m \u001b[1;34m'startLongitude'\u001b[0m\u001b[1;33m,\u001b[0m \u001b[1;34m'sumdID'\u001b[0m\u001b[1;33m,\u001b[0m \u001b[1;34m'chargelevel'\u001b[0m\u001b[1;33m,\u001b[0m \u001b[1;34m'companyName'\u001b[0m\u001b[1;33m]\u001b[0m\u001b[1;33m]\u001b[0m\u001b[1;33m\u001b[0m\u001b[1;33m\u001b[0m\u001b[0m\n\u001b[0m",
      "\u001b[1;32m~\\Anaconda3\\lib\\site-packages\\pandas\\core\\frame.py\u001b[0m in \u001b[0;36m__getitem__\u001b[1;34m(self, key)\u001b[0m\n\u001b[0;32m   3028\u001b[0m             \u001b[1;32mif\u001b[0m \u001b[0mis_iterator\u001b[0m\u001b[1;33m(\u001b[0m\u001b[0mkey\u001b[0m\u001b[1;33m)\u001b[0m\u001b[1;33m:\u001b[0m\u001b[1;33m\u001b[0m\u001b[1;33m\u001b[0m\u001b[0m\n\u001b[0;32m   3029\u001b[0m                 \u001b[0mkey\u001b[0m \u001b[1;33m=\u001b[0m \u001b[0mlist\u001b[0m\u001b[1;33m(\u001b[0m\u001b[0mkey\u001b[0m\u001b[1;33m)\u001b[0m\u001b[1;33m\u001b[0m\u001b[1;33m\u001b[0m\u001b[0m\n\u001b[1;32m-> 3030\u001b[1;33m             \u001b[0mindexer\u001b[0m \u001b[1;33m=\u001b[0m \u001b[0mself\u001b[0m\u001b[1;33m.\u001b[0m\u001b[0mloc\u001b[0m\u001b[1;33m.\u001b[0m\u001b[0m_get_listlike_indexer\u001b[0m\u001b[1;33m(\u001b[0m\u001b[0mkey\u001b[0m\u001b[1;33m,\u001b[0m \u001b[0maxis\u001b[0m\u001b[1;33m=\u001b[0m\u001b[1;36m1\u001b[0m\u001b[1;33m,\u001b[0m \u001b[0mraise_missing\u001b[0m\u001b[1;33m=\u001b[0m\u001b[1;32mTrue\u001b[0m\u001b[1;33m)\u001b[0m\u001b[1;33m[\u001b[0m\u001b[1;36m1\u001b[0m\u001b[1;33m]\u001b[0m\u001b[1;33m\u001b[0m\u001b[1;33m\u001b[0m\u001b[0m\n\u001b[0m\u001b[0;32m   3031\u001b[0m \u001b[1;33m\u001b[0m\u001b[0m\n\u001b[0;32m   3032\u001b[0m         \u001b[1;31m# take() does not accept boolean indexers\u001b[0m\u001b[1;33m\u001b[0m\u001b[1;33m\u001b[0m\u001b[1;33m\u001b[0m\u001b[0m\n",
      "\u001b[1;32m~\\Anaconda3\\lib\\site-packages\\pandas\\core\\indexing.py\u001b[0m in \u001b[0;36m_get_listlike_indexer\u001b[1;34m(self, key, axis, raise_missing)\u001b[0m\n\u001b[0;32m   1264\u001b[0m             \u001b[0mkeyarr\u001b[0m\u001b[1;33m,\u001b[0m \u001b[0mindexer\u001b[0m\u001b[1;33m,\u001b[0m \u001b[0mnew_indexer\u001b[0m \u001b[1;33m=\u001b[0m \u001b[0max\u001b[0m\u001b[1;33m.\u001b[0m\u001b[0m_reindex_non_unique\u001b[0m\u001b[1;33m(\u001b[0m\u001b[0mkeyarr\u001b[0m\u001b[1;33m)\u001b[0m\u001b[1;33m\u001b[0m\u001b[1;33m\u001b[0m\u001b[0m\n\u001b[0;32m   1265\u001b[0m \u001b[1;33m\u001b[0m\u001b[0m\n\u001b[1;32m-> 1266\u001b[1;33m         \u001b[0mself\u001b[0m\u001b[1;33m.\u001b[0m\u001b[0m_validate_read_indexer\u001b[0m\u001b[1;33m(\u001b[0m\u001b[0mkeyarr\u001b[0m\u001b[1;33m,\u001b[0m \u001b[0mindexer\u001b[0m\u001b[1;33m,\u001b[0m \u001b[0maxis\u001b[0m\u001b[1;33m,\u001b[0m \u001b[0mraise_missing\u001b[0m\u001b[1;33m=\u001b[0m\u001b[0mraise_missing\u001b[0m\u001b[1;33m)\u001b[0m\u001b[1;33m\u001b[0m\u001b[1;33m\u001b[0m\u001b[0m\n\u001b[0m\u001b[0;32m   1267\u001b[0m         \u001b[1;32mreturn\u001b[0m \u001b[0mkeyarr\u001b[0m\u001b[1;33m,\u001b[0m \u001b[0mindexer\u001b[0m\u001b[1;33m\u001b[0m\u001b[1;33m\u001b[0m\u001b[0m\n\u001b[0;32m   1268\u001b[0m \u001b[1;33m\u001b[0m\u001b[0m\n",
      "\u001b[1;32m~\\Anaconda3\\lib\\site-packages\\pandas\\core\\indexing.py\u001b[0m in \u001b[0;36m_validate_read_indexer\u001b[1;34m(self, key, indexer, axis, raise_missing)\u001b[0m\n\u001b[0;32m   1314\u001b[0m             \u001b[1;32mif\u001b[0m \u001b[0mraise_missing\u001b[0m\u001b[1;33m:\u001b[0m\u001b[1;33m\u001b[0m\u001b[1;33m\u001b[0m\u001b[0m\n\u001b[0;32m   1315\u001b[0m                 \u001b[0mnot_found\u001b[0m \u001b[1;33m=\u001b[0m \u001b[0mlist\u001b[0m\u001b[1;33m(\u001b[0m\u001b[0mset\u001b[0m\u001b[1;33m(\u001b[0m\u001b[0mkey\u001b[0m\u001b[1;33m)\u001b[0m \u001b[1;33m-\u001b[0m \u001b[0mset\u001b[0m\u001b[1;33m(\u001b[0m\u001b[0max\u001b[0m\u001b[1;33m)\u001b[0m\u001b[1;33m)\u001b[0m\u001b[1;33m\u001b[0m\u001b[1;33m\u001b[0m\u001b[0m\n\u001b[1;32m-> 1316\u001b[1;33m                 \u001b[1;32mraise\u001b[0m \u001b[0mKeyError\u001b[0m\u001b[1;33m(\u001b[0m\u001b[1;34mf\"{not_found} not in index\"\u001b[0m\u001b[1;33m)\u001b[0m\u001b[1;33m\u001b[0m\u001b[1;33m\u001b[0m\u001b[0m\n\u001b[0m\u001b[0;32m   1317\u001b[0m \u001b[1;33m\u001b[0m\u001b[0m\n\u001b[0;32m   1318\u001b[0m             \u001b[0mnot_found\u001b[0m \u001b[1;33m=\u001b[0m \u001b[0mkey\u001b[0m\u001b[1;33m[\u001b[0m\u001b[0mmissing_mask\u001b[0m\u001b[1;33m]\u001b[0m\u001b[1;33m\u001b[0m\u001b[1;33m\u001b[0m\u001b[0m\n",
      "\u001b[1;31mKeyError\u001b[0m: \"['chargelevel'] not in index\""
     ]
    }
   ],
   "source": [
    "july_trip_scooters = july_trip_scooters[['pubTimeStamp', 'startLatitude', 'startLongitude', 'sumdID', 'chargelevel', 'companyName']]"
   ]
  },
  {
   "cell_type": "code",
   "execution_count": 19,
   "id": "fc134dd7",
   "metadata": {},
   "outputs": [
    {
     "name": "stdout",
     "output_type": "stream",
     "text": [
      "<class 'pandas.core.frame.DataFrame'>\n",
      "Int64Index: 0 entries\n",
      "Data columns (total 16 columns):\n",
      " #   Column          Non-Null Count  Dtype         \n",
      "---  ------          --------------  -----         \n",
      " 0   pubTimeStamp    0 non-null      datetime64[ns]\n",
      " 1   companyName     0 non-null      object        \n",
      " 2   tripRecordNum   0 non-null      object        \n",
      " 3   sumdID          0 non-null      object        \n",
      " 4   tripDuration    0 non-null      float64       \n",
      " 5   tripDistance    0 non-null      float64       \n",
      " 6   startDate       0 non-null      object        \n",
      " 7   startTime       0 non-null      object        \n",
      " 8   endDate         0 non-null      object        \n",
      " 9   endTime         0 non-null      object        \n",
      " 10  startLatitude   0 non-null      float64       \n",
      " 11  startLongitude  0 non-null      float64       \n",
      " 12  endLatitude     0 non-null      float64       \n",
      " 13  endLongitude    0 non-null      float64       \n",
      " 14  tripRoute       0 non-null      object        \n",
      " 15  create_dt       0 non-null      object        \n",
      "dtypes: datetime64[ns](1), float64(6), object(9)\n",
      "memory usage: 0.0+ bytes\n"
     ]
    }
   ],
   "source": [
    "july_trip_scooters.info()"
   ]
  },
  {
   "cell_type": "code",
   "execution_count": null,
   "id": "92e20b6c",
   "metadata": {},
   "outputs": [],
   "source": [
    "july_trip_scooters.to_pickle(\"../data/july_trip.pkl\")"
   ]
  },
  {
   "cell_type": "code",
   "execution_count": null,
   "id": "888ee5b5",
   "metadata": {},
   "outputs": [],
   "source": [
    "%%time\n",
    "july_trip_test = pd.read_pickle(\"../data/july_trip.pkl\")"
   ]
  },
  {
   "cell_type": "code",
   "execution_count": null,
   "id": "45f605e4",
   "metadata": {},
   "outputs": [],
   "source": []
  },
  {
   "cell_type": "code",
   "execution_count": null,
   "id": "7ce48c61",
   "metadata": {},
   "outputs": [],
   "source": []
  },
  {
   "cell_type": "code",
   "execution_count": null,
   "id": "8798f5c9",
   "metadata": {},
   "outputs": [],
   "source": []
  },
  {
   "cell_type": "code",
   "execution_count": null,
   "id": "bd5f9e34",
   "metadata": {},
   "outputs": [],
   "source": []
  }
 ],
 "metadata": {
  "kernelspec": {
   "display_name": "Python 3",
   "language": "python",
   "name": "python3"
  },
  "language_info": {
   "codemirror_mode": {
    "name": "ipython",
    "version": 3
   },
   "file_extension": ".py",
   "mimetype": "text/x-python",
   "name": "python",
   "nbconvert_exporter": "python",
   "pygments_lexer": "ipython3",
   "version": "3.8.8"
  }
 },
 "nbformat": 4,
 "nbformat_minor": 5
}
