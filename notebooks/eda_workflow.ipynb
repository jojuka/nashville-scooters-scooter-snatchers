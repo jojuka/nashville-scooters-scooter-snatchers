{
 "cells": [
  {
   "cell_type": "code",
   "execution_count": 1,
   "metadata": {},
   "outputs": [],
   "source": [
    "import pandas as pd\n",
    "import matplotlib.pyplot as plt\n",
    "import seaborn as sns\n",
    "\n",
    "#this is a python magic function to automatically show matplotlib plots\n",
    "%matplotlib inline      "
   ]
  },
  {
   "cell_type": "markdown",
   "metadata": {},
   "source": [
    "When you are looking at a dataset for the very first time, some good steps are;\n",
    " 1. Look at the top and bottom of the data (sometimes extra headers or footers may have snuck in)\n",
    " 2. Examine the shape of the data, the datatype of each variable (column), and the amount of missing data (NAs)\n",
    " 3. Get `value_counts()` for categorical values\n",
    " 4. Understanding the statistical dimensions (minimum, maximum, mean, median, standard deviation) of numerical values\n",
    " "
   ]
  },
  {
   "cell_type": "code",
   "execution_count": 2,
   "metadata": {},
   "outputs": [
    {
     "data": {
      "text/html": [
       "<div>\n",
       "<style scoped>\n",
       "    .dataframe tbody tr th:only-of-type {\n",
       "        vertical-align: middle;\n",
       "    }\n",
       "\n",
       "    .dataframe tbody tr th {\n",
       "        vertical-align: top;\n",
       "    }\n",
       "\n",
       "    .dataframe thead th {\n",
       "        text-align: right;\n",
       "    }\n",
       "</style>\n",
       "<table border=\"1\" class=\"dataframe\">\n",
       "  <thead>\n",
       "    <tr style=\"text-align: right;\">\n",
       "      <th></th>\n",
       "      <th>name</th>\n",
       "      <th>age</th>\n",
       "      <th>sex</th>\n",
       "      <th>height</th>\n",
       "      <th>weight</th>\n",
       "      <th>bmi</th>\n",
       "      <th>sibling_count</th>\n",
       "      <th>birth_order</th>\n",
       "      <th>years_played_sports</th>\n",
       "    </tr>\n",
       "  </thead>\n",
       "  <tbody>\n",
       "    <tr>\n",
       "      <th>0</th>\n",
       "      <td>Jin</td>\n",
       "      <td>15</td>\n",
       "      <td>M</td>\n",
       "      <td>66</td>\n",
       "      <td>165</td>\n",
       "      <td>26.63</td>\n",
       "      <td>4</td>\n",
       "      <td>5</td>\n",
       "      <td>5</td>\n",
       "    </tr>\n",
       "    <tr>\n",
       "      <th>1</th>\n",
       "      <td>Sue</td>\n",
       "      <td>24</td>\n",
       "      <td>F</td>\n",
       "      <td>62</td>\n",
       "      <td>136</td>\n",
       "      <td>24.87</td>\n",
       "      <td>2</td>\n",
       "      <td>1</td>\n",
       "      <td>10</td>\n",
       "    </tr>\n",
       "    <tr>\n",
       "      <th>2</th>\n",
       "      <td>Ellen</td>\n",
       "      <td>23</td>\n",
       "      <td>F</td>\n",
       "      <td>69</td>\n",
       "      <td>167</td>\n",
       "      <td>24.66</td>\n",
       "      <td>3</td>\n",
       "      <td>2</td>\n",
       "      <td>8</td>\n",
       "    </tr>\n",
       "    <tr>\n",
       "      <th>3</th>\n",
       "      <td>Tina</td>\n",
       "      <td>18</td>\n",
       "      <td>F</td>\n",
       "      <td>67</td>\n",
       "      <td>140</td>\n",
       "      <td>18.79</td>\n",
       "      <td>1</td>\n",
       "      <td>2</td>\n",
       "      <td>0</td>\n",
       "    </tr>\n",
       "    <tr>\n",
       "      <th>4</th>\n",
       "      <td>Jerry</td>\n",
       "      <td>47</td>\n",
       "      <td>M</td>\n",
       "      <td>66</td>\n",
       "      <td>182</td>\n",
       "      <td>29.37</td>\n",
       "      <td>1</td>\n",
       "      <td>1</td>\n",
       "      <td>5</td>\n",
       "    </tr>\n",
       "  </tbody>\n",
       "</table>\n",
       "</div>"
      ],
      "text/plain": [
       "    name  age sex  height  weight    bmi  sibling_count  birth_order  \\\n",
       "0    Jin   15   M      66     165  26.63              4            5   \n",
       "1    Sue   24   F      62     136  24.87              2            1   \n",
       "2  Ellen   23   F      69     167  24.66              3            2   \n",
       "3   Tina   18   F      67     140  18.79              1            2   \n",
       "4  Jerry   47   M      66     182  29.37              1            1   \n",
       "\n",
       "   years_played_sports  \n",
       "0                    5  \n",
       "1                   10  \n",
       "2                    8  \n",
       "3                    0  \n",
       "4                    5  "
      ]
     },
     "execution_count": 2,
     "metadata": {},
     "output_type": "execute_result"
    }
   ],
   "source": [
    "people_df = pd.read_csv('../data/people.csv')\n",
    "people_df.head()"
   ]
  },
  {
   "cell_type": "code",
   "execution_count": 3,
   "metadata": {},
   "outputs": [
    {
     "data": {
      "text/html": [
       "<div>\n",
       "<style scoped>\n",
       "    .dataframe tbody tr th:only-of-type {\n",
       "        vertical-align: middle;\n",
       "    }\n",
       "\n",
       "    .dataframe tbody tr th {\n",
       "        vertical-align: top;\n",
       "    }\n",
       "\n",
       "    .dataframe thead th {\n",
       "        text-align: right;\n",
       "    }\n",
       "</style>\n",
       "<table border=\"1\" class=\"dataframe\">\n",
       "  <thead>\n",
       "    <tr style=\"text-align: right;\">\n",
       "      <th></th>\n",
       "      <th>name</th>\n",
       "      <th>age</th>\n",
       "      <th>sex</th>\n",
       "      <th>height</th>\n",
       "      <th>weight</th>\n",
       "      <th>bmi</th>\n",
       "      <th>sibling_count</th>\n",
       "      <th>birth_order</th>\n",
       "      <th>years_played_sports</th>\n",
       "    </tr>\n",
       "  </thead>\n",
       "  <tbody>\n",
       "    <tr>\n",
       "      <th>15</th>\n",
       "      <td>Stan</td>\n",
       "      <td>44</td>\n",
       "      <td>M</td>\n",
       "      <td>68</td>\n",
       "      <td>162</td>\n",
       "      <td>24.63</td>\n",
       "      <td>6</td>\n",
       "      <td>4</td>\n",
       "      <td>30</td>\n",
       "    </tr>\n",
       "    <tr>\n",
       "      <th>16</th>\n",
       "      <td>Jen</td>\n",
       "      <td>38</td>\n",
       "      <td>NaN</td>\n",
       "      <td>57</td>\n",
       "      <td>153</td>\n",
       "      <td>33.11</td>\n",
       "      <td>0</td>\n",
       "      <td>1</td>\n",
       "      <td>1</td>\n",
       "    </tr>\n",
       "    <tr>\n",
       "      <th>17</th>\n",
       "      <td>Maria</td>\n",
       "      <td>17</td>\n",
       "      <td>F</td>\n",
       "      <td>68</td>\n",
       "      <td>111</td>\n",
       "      <td>16.88</td>\n",
       "      <td>1</td>\n",
       "      <td>2</td>\n",
       "      <td>1</td>\n",
       "    </tr>\n",
       "    <tr>\n",
       "      <th>18</th>\n",
       "      <td>Linda</td>\n",
       "      <td>66</td>\n",
       "      <td>F</td>\n",
       "      <td>65</td>\n",
       "      <td>160</td>\n",
       "      <td>26.62</td>\n",
       "      <td>3</td>\n",
       "      <td>2</td>\n",
       "      <td>45</td>\n",
       "    </tr>\n",
       "    <tr>\n",
       "      <th>19</th>\n",
       "      <td>Barb</td>\n",
       "      <td>74</td>\n",
       "      <td>NaN</td>\n",
       "      <td>64</td>\n",
       "      <td>144</td>\n",
       "      <td>24.71</td>\n",
       "      <td>4</td>\n",
       "      <td>3</td>\n",
       "      <td>39</td>\n",
       "    </tr>\n",
       "  </tbody>\n",
       "</table>\n",
       "</div>"
      ],
      "text/plain": [
       "     name  age  sex  height  weight    bmi  sibling_count  birth_order  \\\n",
       "15   Stan   44    M      68     162  24.63              6            4   \n",
       "16    Jen   38  NaN      57     153  33.11              0            1   \n",
       "17  Maria   17    F      68     111  16.88              1            2   \n",
       "18  Linda   66    F      65     160  26.62              3            2   \n",
       "19   Barb   74  NaN      64     144  24.71              4            3   \n",
       "\n",
       "    years_played_sports  \n",
       "15                   30  \n",
       "16                    1  \n",
       "17                    1  \n",
       "18                   45  \n",
       "19                   39  "
      ]
     },
     "execution_count": 3,
     "metadata": {},
     "output_type": "execute_result"
    }
   ],
   "source": [
    "people_df.tail()"
   ]
  },
  {
   "cell_type": "markdown",
   "metadata": {},
   "source": [
    "The `.info()` method gives us datatypes, shape, missingness (and memory usage) all at once!"
   ]
  },
  {
   "cell_type": "code",
   "execution_count": 4,
   "metadata": {},
   "outputs": [
    {
     "name": "stdout",
     "output_type": "stream",
     "text": [
      "<class 'pandas.core.frame.DataFrame'>\n",
      "RangeIndex: 20 entries, 0 to 19\n",
      "Data columns (total 9 columns):\n",
      " #   Column               Non-Null Count  Dtype  \n",
      "---  ------               --------------  -----  \n",
      " 0   name                 20 non-null     object \n",
      " 1   age                  20 non-null     int64  \n",
      " 2   sex                  17 non-null     object \n",
      " 3   height               20 non-null     int64  \n",
      " 4   weight               20 non-null     int64  \n",
      " 5   bmi                  20 non-null     float64\n",
      " 6   sibling_count        20 non-null     int64  \n",
      " 7   birth_order          20 non-null     int64  \n",
      " 8   years_played_sports  20 non-null     int64  \n",
      "dtypes: float64(1), int64(6), object(2)\n",
      "memory usage: 1.5+ KB\n"
     ]
    }
   ],
   "source": [
    "people_df.info()"
   ]
  },
  {
   "cell_type": "markdown",
   "metadata": {},
   "source": [
    "Another way you can get a quick sense of missing values is by chaining the `.isnull()` and `.sum()` methods.   \n",
    " - Why does this work?"
   ]
  },
  {
   "cell_type": "code",
   "execution_count": 5,
   "metadata": {},
   "outputs": [
    {
     "data": {
      "text/plain": [
       "name                   0\n",
       "age                    0\n",
       "sex                    3\n",
       "height                 0\n",
       "weight                 0\n",
       "bmi                    0\n",
       "sibling_count          0\n",
       "birth_order            0\n",
       "years_played_sports    0\n",
       "dtype: int64"
      ]
     },
     "execution_count": 5,
     "metadata": {},
     "output_type": "execute_result"
    }
   ],
   "source": [
    "people_df.isnull().sum()"
   ]
  },
  {
   "cell_type": "markdown",
   "metadata": {},
   "source": [
    "We can quickly understand the distribution of males and females in the dataset with `value_counts()`"
   ]
  },
  {
   "cell_type": "code",
   "execution_count": 6,
   "metadata": {},
   "outputs": [
    {
     "data": {
      "text/plain": [
       "M    9\n",
       "F    8\n",
       "Name: sex, dtype: int64"
      ]
     },
     "execution_count": 6,
     "metadata": {},
     "output_type": "execute_result"
    }
   ],
   "source": [
    "people_df.sex.value_counts()"
   ]
  },
  {
   "cell_type": "markdown",
   "metadata": {},
   "source": [
    "And count the number of unique names with `.nunique()`"
   ]
  },
  {
   "cell_type": "code",
   "execution_count": 8,
   "metadata": {},
   "outputs": [
    {
     "data": {
      "text/plain": [
       "20"
      ]
     },
     "execution_count": 8,
     "metadata": {},
     "output_type": "execute_result"
    }
   ],
   "source": [
    "people_df.name.nunique()"
   ]
  },
  {
   "cell_type": "markdown",
   "metadata": {},
   "source": [
    "To get a lot of statistical detail about the numeric variables in the dataset, use the `.describe()` method"
   ]
  },
  {
   "cell_type": "code",
   "execution_count": 9,
   "metadata": {},
   "outputs": [
    {
     "data": {
      "text/html": [
       "<div>\n",
       "<style scoped>\n",
       "    .dataframe tbody tr th:only-of-type {\n",
       "        vertical-align: middle;\n",
       "    }\n",
       "\n",
       "    .dataframe tbody tr th {\n",
       "        vertical-align: top;\n",
       "    }\n",
       "\n",
       "    .dataframe thead th {\n",
       "        text-align: right;\n",
       "    }\n",
       "</style>\n",
       "<table border=\"1\" class=\"dataframe\">\n",
       "  <thead>\n",
       "    <tr style=\"text-align: right;\">\n",
       "      <th></th>\n",
       "      <th>age</th>\n",
       "      <th>height</th>\n",
       "      <th>weight</th>\n",
       "      <th>bmi</th>\n",
       "      <th>sibling_count</th>\n",
       "      <th>birth_order</th>\n",
       "      <th>years_played_sports</th>\n",
       "    </tr>\n",
       "  </thead>\n",
       "  <tbody>\n",
       "    <tr>\n",
       "      <th>count</th>\n",
       "      <td>20.000000</td>\n",
       "      <td>20.000000</td>\n",
       "      <td>20.000000</td>\n",
       "      <td>20.00000</td>\n",
       "      <td>20.000000</td>\n",
       "      <td>20.000000</td>\n",
       "      <td>20.000000</td>\n",
       "    </tr>\n",
       "    <tr>\n",
       "      <th>mean</th>\n",
       "      <td>39.000000</td>\n",
       "      <td>67.500000</td>\n",
       "      <td>169.950000</td>\n",
       "      <td>25.76000</td>\n",
       "      <td>1.850000</td>\n",
       "      <td>2.000000</td>\n",
       "      <td>9.900000</td>\n",
       "    </tr>\n",
       "    <tr>\n",
       "      <th>std</th>\n",
       "      <td>18.948684</td>\n",
       "      <td>4.223992</td>\n",
       "      <td>29.653215</td>\n",
       "      <td>3.78468</td>\n",
       "      <td>1.598519</td>\n",
       "      <td>1.169795</td>\n",
       "      <td>13.863621</td>\n",
       "    </tr>\n",
       "    <tr>\n",
       "      <th>min</th>\n",
       "      <td>15.000000</td>\n",
       "      <td>57.000000</td>\n",
       "      <td>111.000000</td>\n",
       "      <td>16.88000</td>\n",
       "      <td>0.000000</td>\n",
       "      <td>1.000000</td>\n",
       "      <td>0.000000</td>\n",
       "    </tr>\n",
       "    <tr>\n",
       "      <th>25%</th>\n",
       "      <td>22.750000</td>\n",
       "      <td>66.000000</td>\n",
       "      <td>150.750000</td>\n",
       "      <td>24.65250</td>\n",
       "      <td>1.000000</td>\n",
       "      <td>1.000000</td>\n",
       "      <td>1.000000</td>\n",
       "    </tr>\n",
       "    <tr>\n",
       "      <th>50%</th>\n",
       "      <td>35.000000</td>\n",
       "      <td>67.500000</td>\n",
       "      <td>166.000000</td>\n",
       "      <td>26.62500</td>\n",
       "      <td>1.500000</td>\n",
       "      <td>2.000000</td>\n",
       "      <td>4.500000</td>\n",
       "    </tr>\n",
       "    <tr>\n",
       "      <th>75%</th>\n",
       "      <td>54.000000</td>\n",
       "      <td>69.250000</td>\n",
       "      <td>187.750000</td>\n",
       "      <td>27.73750</td>\n",
       "      <td>3.000000</td>\n",
       "      <td>3.000000</td>\n",
       "      <td>10.000000</td>\n",
       "    </tr>\n",
       "    <tr>\n",
       "      <th>max</th>\n",
       "      <td>74.000000</td>\n",
       "      <td>78.000000</td>\n",
       "      <td>234.000000</td>\n",
       "      <td>33.11000</td>\n",
       "      <td>6.000000</td>\n",
       "      <td>5.000000</td>\n",
       "      <td>45.000000</td>\n",
       "    </tr>\n",
       "  </tbody>\n",
       "</table>\n",
       "</div>"
      ],
      "text/plain": [
       "             age     height      weight       bmi  sibling_count  birth_order  \\\n",
       "count  20.000000  20.000000   20.000000  20.00000      20.000000    20.000000   \n",
       "mean   39.000000  67.500000  169.950000  25.76000       1.850000     2.000000   \n",
       "std    18.948684   4.223992   29.653215   3.78468       1.598519     1.169795   \n",
       "min    15.000000  57.000000  111.000000  16.88000       0.000000     1.000000   \n",
       "25%    22.750000  66.000000  150.750000  24.65250       1.000000     1.000000   \n",
       "50%    35.000000  67.500000  166.000000  26.62500       1.500000     2.000000   \n",
       "75%    54.000000  69.250000  187.750000  27.73750       3.000000     3.000000   \n",
       "max    74.000000  78.000000  234.000000  33.11000       6.000000     5.000000   \n",
       "\n",
       "       years_played_sports  \n",
       "count            20.000000  \n",
       "mean              9.900000  \n",
       "std              13.863621  \n",
       "min               0.000000  \n",
       "25%               1.000000  \n",
       "50%               4.500000  \n",
       "75%              10.000000  \n",
       "max              45.000000  "
      ]
     },
     "execution_count": 9,
     "metadata": {},
     "output_type": "execute_result"
    }
   ],
   "source": [
    "people_df.describe()"
   ]
  },
  {
   "cell_type": "markdown",
   "metadata": {},
   "source": [
    "`pandas` has a `df.plot()` method that will plot *all* numerical values with a single call, but it is generally not useful to do that!"
   ]
  },
  {
   "cell_type": "code",
   "execution_count": 10,
   "metadata": {},
   "outputs": [
    {
     "data": {
      "image/png": "[encoded data removed]",
      "text/plain": [
       "<Figure size 432x288 with 1 Axes>"
      ]
     },
     "metadata": {
      "needs_background": "light"
     },
     "output_type": "display_data"
    }
   ],
   "source": [
    "people_df.plot();"
   ]
  },
  {
   "cell_type": "markdown",
   "metadata": {},
   "source": [
    "You can use [matplotlib](https://matplotlib.org/3.2.1/api/_as_gen/matplotlib.pyplot.html) and his fancy cousin [seaborn](https://seaborn.pydata.org/) to create more useful plots. Plots are another way you do exploratory data analysis. Plots can show you interesting things in the data."
   ]
  },
  {
   "cell_type": "code",
   "execution_count": 11,
   "metadata": {},
   "outputs": [
    {
     "data": {
      "image/png": "[encoded data removed]",
      "text/plain": [
       "<Figure size 1260x1260 with 56 Axes>"
      ]
     },
     "metadata": {},
     "output_type": "display_data"
    }
   ],
   "source": [
    "#set the seaborn theme, style, color palette\n",
    "sns.set(style=\"ticks\", color_codes=True)\n",
    "\n",
    "#make a correlation plot that looks at each variables relationship with every other variable\n",
    "#and plots the distribution of each variable along the diagonal\n",
    "sns.pairplot(people_df);"
   ]
  },
  {
   "cell_type": "markdown",
   "metadata": {},
   "source": [
    "Barplots are a good way to look at discrete numerical and categorical data "
   ]
  },
  {
   "cell_type": "code",
   "execution_count": null,
   "metadata": {},
   "outputs": [],
   "source": [
    "plt.bar('name', 'sibling_count', data = people_df)\n",
    "plt.xticks(rotation = 70)\n",
    "plt.title('Number of Siblings');"
   ]
  },
  {
   "cell_type": "markdown",
   "metadata": {},
   "source": [
    "You make make barplots more readable by sorting the measured values first"
   ]
  },
  {
   "cell_type": "code",
   "execution_count": null,
   "metadata": {},
   "outputs": [],
   "source": [
    "data = people_df.sort_values('sibling_count')\n",
    "plt.bar('name', 'sibling_count', data = data)\n",
    "plt.xticks(rotation = 70)\n",
    "plt.title('Number of Siblings');"
   ]
  },
  {
   "cell_type": "markdown",
   "metadata": {},
   "source": [
    "If you plot a numerical value without realizing it is discrete and not continuous, that fact might not be obvious at first."
   ]
  },
  {
   "cell_type": "code",
   "execution_count": null,
   "metadata": {},
   "outputs": [],
   "source": [
    "plt.plot('name', 'birth_order', marker = 'o', linestyle = 'none', data = people_df)\n",
    "plt.xticks(rotation = 70);"
   ]
  },
  {
   "cell_type": "markdown",
   "metadata": {},
   "source": [
    "Sorting the dataset according to the numerical data *before* plotting will make it obvious that you have discrete values!"
   ]
  },
  {
   "cell_type": "code",
   "execution_count": null,
   "metadata": {
    "scrolled": true
   },
   "outputs": [],
   "source": [
    "data = people_df.sort_values('birth_order')\n",
    "plt.plot('name', 'birth_order', marker = 'o', linestyle = 'none', data = data)\n",
    "plt.xticks(rotation = 70)\n",
    "plt.yticks([0, 1, 2, 3, 4, 5])\n",
    "plt.title('Birth Order');"
   ]
  },
  {
   "cell_type": "markdown",
   "metadata": {},
   "source": [
    "A histogram is often the first choice for visualizing the distribution of a continuous variable. Here's a histogram of the BMI values. You can adjust the number of bins with the `bins` argument."
   ]
  },
  {
   "cell_type": "code",
   "execution_count": null,
   "metadata": {},
   "outputs": [],
   "source": [
    "plt.hist('bmi', bins = 6, data = people_df);"
   ]
  },
  {
   "cell_type": "markdown",
   "metadata": {},
   "source": [
    "Scatterplots are useful for plotting two continuous numerical variables to examine their relationship. In the plot below you can clearly see that height and weight are related in our people data."
   ]
  },
  {
   "cell_type": "code",
   "execution_count": null,
   "metadata": {},
   "outputs": [],
   "source": [
    "plt.scatter('height', 'weight', data = people_df)\n",
    "plt.xlabel('height in inches')\n",
    "plt.ylabel('weight in pounds');"
   ]
  },
  {
   "cell_type": "markdown",
   "metadata": {},
   "source": [
    "The relationship between weight and BMI is a little less clear in the next plot."
   ]
  },
  {
   "cell_type": "code",
   "execution_count": null,
   "metadata": {},
   "outputs": [],
   "source": [
    "plt.scatter('weight', 'bmi', data = people_df)\n",
    "plt.xlabel('weight in pounds')\n",
    "plt.ylabel('BMI');"
   ]
  },
  {
   "cell_type": "markdown",
   "metadata": {},
   "source": [
    "But there are ways you can make this plot more useful. \n",
    " - add a line to show where BMI is considered to indicate `overweight` and `obese`\n",
    " - add annotation to make it clear what theses lines show"
   ]
  },
  {
   "cell_type": "code",
   "execution_count": null,
   "metadata": {},
   "outputs": [],
   "source": [
    "plt.figure(figsize=(10, 6))\n",
    "plt.scatter('weight', 'bmi', data = people_df)\n",
    "plt.hlines(y=25, xmin = 0, xmax = 250, color = 'orange')\n",
    "plt.hlines(y=30, xmin = 0, xmax = 250, color = 'red')\n",
    "plt.xlim(0, 250)\n",
    "plt.ylim(0, 34)\n",
    "plt.annotate(s = 'overweight', xy = (1, 25.5))\n",
    "plt.annotate(s = 'obese', xy = (1, 30.5))\n",
    "\n",
    "plt.xlabel('weight in pounds')\n",
    "\n",
    "plt.ylabel('BMI');"
   ]
  },
  {
   "cell_type": "markdown",
   "metadata": {},
   "source": [
    "Boxplots also give you a lot of information about a continuous variable in your dataset. The middle line through the box indicates the median value. The top and botton sides of the box are the 75th and 25th percentiles (3rd and 4th quartiles). The bars above and below the box (called whiskers) indicated the bounds for the upper and lower extremes of the distribution. Any points (values) beyond the whiskers are considered outliers."
   ]
  },
  {
   "cell_type": "markdown",
   "metadata": {},
   "source": [
    "With seaborn, creating a boxplot is as easy as passing the variable to examine to the `y` argument."
   ]
  },
  {
   "cell_type": "code",
   "execution_count": null,
   "metadata": {},
   "outputs": [],
   "source": [
    "sns.boxplot(y=people_df.weight);"
   ]
  },
  {
   "cell_type": "markdown",
   "metadata": {},
   "source": [
    "You can easily compare distributions between categories by specifying that category variable as `x` in a seaborn boxplot. Look next at how the distribution of weight varies by sex."
   ]
  },
  {
   "cell_type": "code",
   "execution_count": null,
   "metadata": {},
   "outputs": [],
   "source": [
    "sns.boxplot(y=people_df.weight, x = people_df.sex, )\n",
    "plt.title('distribution of weights by sex');\n",
    "#plt.xlabel('')"
   ]
  },
  {
   "cell_type": "markdown",
   "metadata": {},
   "source": [
    "Finally, take a look at a few more kinds of seaborn plots that might help you understand the data."
   ]
  },
  {
   "cell_type": "markdown",
   "metadata": {},
   "source": [
    "Violin plots combine aspects of a boxplot and histogram."
   ]
  },
  {
   "cell_type": "code",
   "execution_count": null,
   "metadata": {},
   "outputs": [],
   "source": [
    "sns.violinplot(y=people_df.weight, x = people_df.sex)\n",
    "plt.title('distribution of weights by sex')\n",
    "plt.xlabel('');"
   ]
  },
  {
   "cell_type": "markdown",
   "metadata": {},
   "source": [
    "Remember the plot of birth orders above? A better plot choice for exploring those values would have been a strip plot. The `jitter` argument tells seaborn whether you want the points randomly moved off center. Below is a stripplot of heights by sex without jitter."
   ]
  },
  {
   "cell_type": "code",
   "execution_count": null,
   "metadata": {},
   "outputs": [],
   "source": [
    "sns.stripplot(x=people_df.sex, y=people_df.height, jitter = False) \n",
    "plt.title('People Heights by Sex');"
   ]
  },
  {
   "cell_type": "markdown",
   "metadata": {},
   "source": [
    "A swarm plot is just a strip plot with jitter automatically added!"
   ]
  },
  {
   "cell_type": "code",
   "execution_count": null,
   "metadata": {},
   "outputs": [],
   "source": [
    "sns.swarmplot(x=people_df.sex, y=people_df.height);\n",
    "plt.title('People Heights by Sex');"
   ]
  },
  {
   "cell_type": "code",
   "execution_count": null,
   "metadata": {},
   "outputs": [],
   "source": []
  }
 ],
 "metadata": {
  "kernelspec": {
   "display_name": "Python 3",
   "language": "python",
   "name": "python3"
  },
  "language_info": {
   "codemirror_mode": {
    "name": "ipython",
    "version": 3
   },
   "file_extension": ".py",
   "mimetype": "text/x-python",
   "name": "python",
   "nbconvert_exporter": "python",
   "pygments_lexer": "ipython3",
   "version": "3.8.8"
  }
 },
 "nbformat": 4,
 "nbformat_minor": 2
}
