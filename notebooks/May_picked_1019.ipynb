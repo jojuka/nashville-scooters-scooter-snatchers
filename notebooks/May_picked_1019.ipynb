{
 "cells": [
  {
   "cell_type": "code",
   "execution_count": 1,
   "id": "cdc80dba",
   "metadata": {},
   "outputs": [],
   "source": [
    "import pandas as pd\n",
    "import matplotlib.pyplot as plt\n",
    "import pickle\n",
    "import seaborn as sns\n",
    "import sqlite3 as sql\n",
    "\n",
    "%matplotlib inline"
   ]
  },
  {
   "cell_type": "code",
   "execution_count": 2,
   "id": "8755df87",
   "metadata": {},
   "outputs": [
    {
     "data": {
      "text/html": [
       "<div>\n",
       "<style scoped>\n",
       "    .dataframe tbody tr th:only-of-type {\n",
       "        vertical-align: middle;\n",
       "    }\n",
       "\n",
       "    .dataframe tbody tr th {\n",
       "        vertical-align: top;\n",
       "    }\n",
       "\n",
       "    .dataframe thead th {\n",
       "        text-align: right;\n",
       "    }\n",
       "</style>\n",
       "<table border=\"1\" class=\"dataframe\">\n",
       "  <thead>\n",
       "    <tr style=\"text-align: right;\">\n",
       "      <th></th>\n",
       "      <th>pubdatetime</th>\n",
       "      <th>latitude</th>\n",
       "      <th>longitude</th>\n",
       "      <th>sumdid</th>\n",
       "      <th>chargelevel</th>\n",
       "      <th>companyname</th>\n",
       "    </tr>\n",
       "  </thead>\n",
       "  <tbody>\n",
       "    <tr>\n",
       "      <th>0</th>\n",
       "      <td>2019-05-01 00:01:41.247</td>\n",
       "      <td>36.136822</td>\n",
       "      <td>-86.799877</td>\n",
       "      <td>PoweredLIRL1</td>\n",
       "      <td>93.0</td>\n",
       "      <td>Bird</td>\n",
       "    </tr>\n",
       "    <tr>\n",
       "      <th>1</th>\n",
       "      <td>2019-05-01 00:01:41.247</td>\n",
       "      <td>36.191252</td>\n",
       "      <td>-86.772945</td>\n",
       "      <td>PoweredXWRWC</td>\n",
       "      <td>35.0</td>\n",
       "      <td>Bird</td>\n",
       "    </tr>\n",
       "    <tr>\n",
       "      <th>2</th>\n",
       "      <td>2019-05-01 00:01:41.247</td>\n",
       "      <td>36.144752</td>\n",
       "      <td>-86.806293</td>\n",
       "      <td>PoweredMEJEH</td>\n",
       "      <td>90.0</td>\n",
       "      <td>Bird</td>\n",
       "    </tr>\n",
       "    <tr>\n",
       "      <th>3</th>\n",
       "      <td>2019-05-01 00:01:41.247</td>\n",
       "      <td>36.162056</td>\n",
       "      <td>-86.774688</td>\n",
       "      <td>Powered1A7TC</td>\n",
       "      <td>88.0</td>\n",
       "      <td>Bird</td>\n",
       "    </tr>\n",
       "    <tr>\n",
       "      <th>4</th>\n",
       "      <td>2019-05-01 00:01:41.247</td>\n",
       "      <td>36.150973</td>\n",
       "      <td>-86.783109</td>\n",
       "      <td>Powered2TYEF</td>\n",
       "      <td>98.0</td>\n",
       "      <td>Bird</td>\n",
       "    </tr>\n",
       "  </tbody>\n",
       "</table>\n",
       "</div>"
      ],
      "text/plain": [
       "              pubdatetime   latitude  longitude        sumdid  chargelevel  \\\n",
       "0 2019-05-01 00:01:41.247  36.136822 -86.799877  PoweredLIRL1         93.0   \n",
       "1 2019-05-01 00:01:41.247  36.191252 -86.772945  PoweredXWRWC         35.0   \n",
       "2 2019-05-01 00:01:41.247  36.144752 -86.806293  PoweredMEJEH         90.0   \n",
       "3 2019-05-01 00:01:41.247  36.162056 -86.774688  Powered1A7TC         88.0   \n",
       "4 2019-05-01 00:01:41.247  36.150973 -86.783109  Powered2TYEF         98.0   \n",
       "\n",
       "  companyname  \n",
       "0        Bird  \n",
       "1        Bird  \n",
       "2        Bird  \n",
       "3        Bird  \n",
       "4        Bird  "
      ]
     },
     "execution_count": 2,
     "metadata": {},
     "output_type": "execute_result"
    }
   ],
   "source": [
    "may = pd.read_pickle(\"C:/Users/6106057/nss-data-analytics/projects/nashville-scooters-scooter-snatchers/data/may.pkl\")\n",
    "may.head()"
   ]
  },
  {
   "cell_type": "code",
   "execution_count": 3,
   "id": "beee5c24",
   "metadata": {},
   "outputs": [
    {
     "name": "stdout",
     "output_type": "stream",
     "text": [
      "<class 'pandas.core.frame.DataFrame'>\n",
      "Int64Index: 20283582 entries, 0 to 20292502\n",
      "Data columns (total 6 columns):\n",
      " #   Column       Dtype         \n",
      "---  ------       -----         \n",
      " 0   pubdatetime  datetime64[ns]\n",
      " 1   latitude     float64       \n",
      " 2   longitude    float64       \n",
      " 3   sumdid       object        \n",
      " 4   chargelevel  float64       \n",
      " 5   companyname  object        \n",
      "dtypes: datetime64[ns](1), float64(3), object(2)\n",
      "memory usage: 1.1+ GB\n"
     ]
    }
   ],
   "source": [
    "may.info()"
   ]
  },
  {
   "cell_type": "code",
   "execution_count": 4,
   "id": "788dfba1",
   "metadata": {},
   "outputs": [
    {
     "data": {
      "text/plain": [
       "(20283582, 6)"
      ]
     },
     "execution_count": 4,
     "metadata": {},
     "output_type": "execute_result"
    }
   ],
   "source": [
    "may.shape"
   ]
  },
  {
   "cell_type": "code",
   "execution_count": 5,
   "id": "62f968b9",
   "metadata": {},
   "outputs": [
    {
     "data": {
      "text/html": [
       "<div>\n",
       "<style scoped>\n",
       "    .dataframe tbody tr th:only-of-type {\n",
       "        vertical-align: middle;\n",
       "    }\n",
       "\n",
       "    .dataframe tbody tr th {\n",
       "        vertical-align: top;\n",
       "    }\n",
       "\n",
       "    .dataframe thead th {\n",
       "        text-align: right;\n",
       "    }\n",
       "</style>\n",
       "<table border=\"1\" class=\"dataframe\">\n",
       "  <thead>\n",
       "    <tr style=\"text-align: right;\">\n",
       "      <th></th>\n",
       "      <th>pubdatetime</th>\n",
       "      <th>latitude</th>\n",
       "      <th>longitude</th>\n",
       "      <th>sumdid</th>\n",
       "      <th>chargelevel</th>\n",
       "      <th>companyname</th>\n",
       "    </tr>\n",
       "  </thead>\n",
       "  <tbody>\n",
       "    <tr>\n",
       "      <th>1150</th>\n",
       "      <td>2019-05-01 00:04:48.030</td>\n",
       "      <td>36.121581</td>\n",
       "      <td>-86.770304</td>\n",
       "      <td>Powered515</td>\n",
       "      <td>3.0</td>\n",
       "      <td>Gotcha</td>\n",
       "    </tr>\n",
       "    <tr>\n",
       "      <th>3318</th>\n",
       "      <td>2019-05-01 00:09:48.257</td>\n",
       "      <td>36.121581</td>\n",
       "      <td>-86.770304</td>\n",
       "      <td>Powered515</td>\n",
       "      <td>3.0</td>\n",
       "      <td>Gotcha</td>\n",
       "    </tr>\n",
       "    <tr>\n",
       "      <th>5542</th>\n",
       "      <td>2019-05-01 00:14:48.537</td>\n",
       "      <td>36.121581</td>\n",
       "      <td>-86.770304</td>\n",
       "      <td>Powered515</td>\n",
       "      <td>3.0</td>\n",
       "      <td>Gotcha</td>\n",
       "    </tr>\n",
       "    <tr>\n",
       "      <th>7716</th>\n",
       "      <td>2019-05-01 00:19:48.763</td>\n",
       "      <td>36.121581</td>\n",
       "      <td>-86.770304</td>\n",
       "      <td>Powered515</td>\n",
       "      <td>3.0</td>\n",
       "      <td>Gotcha</td>\n",
       "    </tr>\n",
       "    <tr>\n",
       "      <th>9911</th>\n",
       "      <td>2019-05-01 00:24:49.147</td>\n",
       "      <td>36.121581</td>\n",
       "      <td>-86.770304</td>\n",
       "      <td>Powered515</td>\n",
       "      <td>3.0</td>\n",
       "      <td>Gotcha</td>\n",
       "    </tr>\n",
       "    <tr>\n",
       "      <th>...</th>\n",
       "      <td>...</td>\n",
       "      <td>...</td>\n",
       "      <td>...</td>\n",
       "      <td>...</td>\n",
       "      <td>...</td>\n",
       "      <td>...</td>\n",
       "    </tr>\n",
       "    <tr>\n",
       "      <th>20277223</th>\n",
       "      <td>2019-05-31 23:37:12.950</td>\n",
       "      <td>36.121581</td>\n",
       "      <td>-86.770304</td>\n",
       "      <td>Powered515</td>\n",
       "      <td>3.0</td>\n",
       "      <td>Gotcha</td>\n",
       "    </tr>\n",
       "    <tr>\n",
       "      <th>20280669</th>\n",
       "      <td>2019-05-31 23:42:13.147</td>\n",
       "      <td>36.121581</td>\n",
       "      <td>-86.770304</td>\n",
       "      <td>Powered515</td>\n",
       "      <td>3.0</td>\n",
       "      <td>Gotcha</td>\n",
       "    </tr>\n",
       "    <tr>\n",
       "      <th>20284093</th>\n",
       "      <td>2019-05-31 23:47:13.240</td>\n",
       "      <td>36.121581</td>\n",
       "      <td>-86.770304</td>\n",
       "      <td>Powered515</td>\n",
       "      <td>3.0</td>\n",
       "      <td>Gotcha</td>\n",
       "    </tr>\n",
       "    <tr>\n",
       "      <th>20287541</th>\n",
       "      <td>2019-05-31 23:52:13.357</td>\n",
       "      <td>36.121581</td>\n",
       "      <td>-86.770304</td>\n",
       "      <td>Powered515</td>\n",
       "      <td>3.0</td>\n",
       "      <td>Gotcha</td>\n",
       "    </tr>\n",
       "    <tr>\n",
       "      <th>20290977</th>\n",
       "      <td>2019-05-31 23:57:13.567</td>\n",
       "      <td>36.121581</td>\n",
       "      <td>-86.770304</td>\n",
       "      <td>Powered515</td>\n",
       "      <td>3.0</td>\n",
       "      <td>Gotcha</td>\n",
       "    </tr>\n",
       "  </tbody>\n",
       "</table>\n",
       "<p>5769 rows × 6 columns</p>\n",
       "</div>"
      ],
      "text/plain": [
       "                     pubdatetime   latitude  longitude      sumdid  \\\n",
       "1150     2019-05-01 00:04:48.030  36.121581 -86.770304  Powered515   \n",
       "3318     2019-05-01 00:09:48.257  36.121581 -86.770304  Powered515   \n",
       "5542     2019-05-01 00:14:48.537  36.121581 -86.770304  Powered515   \n",
       "7716     2019-05-01 00:19:48.763  36.121581 -86.770304  Powered515   \n",
       "9911     2019-05-01 00:24:49.147  36.121581 -86.770304  Powered515   \n",
       "...                          ...        ...        ...         ...   \n",
       "20277223 2019-05-31 23:37:12.950  36.121581 -86.770304  Powered515   \n",
       "20280669 2019-05-31 23:42:13.147  36.121581 -86.770304  Powered515   \n",
       "20284093 2019-05-31 23:47:13.240  36.121581 -86.770304  Powered515   \n",
       "20287541 2019-05-31 23:52:13.357  36.121581 -86.770304  Powered515   \n",
       "20290977 2019-05-31 23:57:13.567  36.121581 -86.770304  Powered515   \n",
       "\n",
       "          chargelevel companyname  \n",
       "1150              3.0      Gotcha  \n",
       "3318              3.0      Gotcha  \n",
       "5542              3.0      Gotcha  \n",
       "7716              3.0      Gotcha  \n",
       "9911              3.0      Gotcha  \n",
       "...               ...         ...  \n",
       "20277223          3.0      Gotcha  \n",
       "20280669          3.0      Gotcha  \n",
       "20284093          3.0      Gotcha  \n",
       "20287541          3.0      Gotcha  \n",
       "20290977          3.0      Gotcha  \n",
       "\n",
       "[5769 rows x 6 columns]"
      ]
     },
     "execution_count": 5,
     "metadata": {},
     "output_type": "execute_result"
    }
   ],
   "source": [
    "may.loc[(may['sumdid'] == 'Powered515')] ##lot of duplicated "
   ]
  },
  {
   "cell_type": "code",
   "execution_count": 6,
   "id": "e3ce2157",
   "metadata": {
    "scrolled": true
   },
   "outputs": [
    {
     "data": {
      "text/plain": [
       "Lime      7111655\n",
       "Bird      4334006\n",
       "Lyft      3112581\n",
       "Jump      2984630\n",
       "Spin      1301001\n",
       "Gotcha     915314\n",
       "Bolt       524395\n",
       "Name: companyname, dtype: int64"
      ]
     },
     "execution_count": 6,
     "metadata": {},
     "output_type": "execute_result"
    }
   ],
   "source": [
    "may.companyname.value_counts()"
   ]
  },
  {
   "cell_type": "code",
   "execution_count": 12,
   "id": "9415f9f3",
   "metadata": {},
   "outputs": [
    {
     "data": {
      "text/plain": [
       "(8303, 2)"
      ]
     },
     "execution_count": 12,
     "metadata": {},
     "output_type": "execute_result"
    }
   ],
   "source": [
    "may_1 = may[['sumdid','companyname']]\n",
    "may_2 = may_1.drop_duplicates()\n",
    "may_2.shape"
   ]
  },
  {
   "cell_type": "code",
   "execution_count": 13,
   "id": "ebfba0d0",
   "metadata": {
    "scrolled": true
   },
   "outputs": [
    {
     "data": {
      "text/html": [
       "<div>\n",
       "<style scoped>\n",
       "    .dataframe tbody tr th:only-of-type {\n",
       "        vertical-align: middle;\n",
       "    }\n",
       "\n",
       "    .dataframe tbody tr th {\n",
       "        vertical-align: top;\n",
       "    }\n",
       "\n",
       "    .dataframe thead th {\n",
       "        text-align: right;\n",
       "    }\n",
       "</style>\n",
       "<table border=\"1\" class=\"dataframe\">\n",
       "  <thead>\n",
       "    <tr style=\"text-align: right;\">\n",
       "      <th></th>\n",
       "      <th>company_name</th>\n",
       "      <th>num</th>\n",
       "    </tr>\n",
       "  </thead>\n",
       "  <tbody>\n",
       "    <tr>\n",
       "      <th>0</th>\n",
       "      <td>Bird</td>\n",
       "      <td>3064</td>\n",
       "    </tr>\n",
       "    <tr>\n",
       "      <th>1</th>\n",
       "      <td>Lime</td>\n",
       "      <td>1631</td>\n",
       "    </tr>\n",
       "    <tr>\n",
       "      <th>2</th>\n",
       "      <td>Lyft</td>\n",
       "      <td>1376</td>\n",
       "    </tr>\n",
       "    <tr>\n",
       "      <th>3</th>\n",
       "      <td>Jump</td>\n",
       "      <td>976</td>\n",
       "    </tr>\n",
       "    <tr>\n",
       "      <th>4</th>\n",
       "      <td>Spin</td>\n",
       "      <td>687</td>\n",
       "    </tr>\n",
       "    <tr>\n",
       "      <th>5</th>\n",
       "      <td>Bolt</td>\n",
       "      <td>346</td>\n",
       "    </tr>\n",
       "    <tr>\n",
       "      <th>6</th>\n",
       "      <td>Gotcha</td>\n",
       "      <td>223</td>\n",
       "    </tr>\n",
       "  </tbody>\n",
       "</table>\n",
       "</div>"
      ],
      "text/plain": [
       "  company_name   num\n",
       "0         Bird  3064\n",
       "1         Lime  1631\n",
       "2         Lyft  1376\n",
       "3         Jump   976\n",
       "4         Spin   687\n",
       "5         Bolt   346\n",
       "6       Gotcha   223"
      ]
     },
     "execution_count": 13,
     "metadata": {},
     "output_type": "execute_result"
    }
   ],
   "source": [
    "co_name = may_2.companyname.value_counts()\n",
    "co_name = co_name.reset_index()\n",
    "co_name = co_name.rename(columns = {'index':'company_name', 'companyname':'num'})\n",
    "co_name.head(10)"
   ]
  },
  {
   "cell_type": "code",
   "execution_count": 14,
   "id": "1aaf7cf2",
   "metadata": {},
   "outputs": [
    {
     "data": {
      "image/png": "[encoded data removed]",
      "text/plain": [
       "<Figure size 432x288 with 1 Axes>"
      ]
     },
     "metadata": {
      "needs_background": "light"
     },
     "output_type": "display_data"
    }
   ],
   "source": [
    "plt.bar('company_name', 'num', data = co_name)\n",
    "plt.xticks(rotation = 100)\n",
    "plt.title('Company Brand scooter #');"
   ]
  },
  {
   "cell_type": "code",
   "execution_count": 10,
   "id": "2bc913a9",
   "metadata": {},
   "outputs": [
    {
     "data": {
      "text/plain": [
       "(7, 1)"
      ]
     },
     "execution_count": 10,
     "metadata": {},
     "output_type": "execute_result"
    }
   ],
   "source": [
    "may_2 = may_1.groupby([\"companyname\"]).count()\n",
    "may_2.shape"
   ]
  },
  {
   "cell_type": "code",
   "execution_count": 15,
   "id": "ec086f04",
   "metadata": {
    "scrolled": true
   },
   "outputs": [
    {
     "name": "stdout",
     "output_type": "stream",
     "text": [
      "<class 'pandas.core.frame.DataFrame'>\n",
      "Int64Index: 1025190 entries, 1077 to 20292041\n",
      "Data columns (total 6 columns):\n",
      " #   Column       Non-Null Count    Dtype         \n",
      "---  ------       --------------    -----         \n",
      " 0   pubdatetime  1025190 non-null  datetime64[ns]\n",
      " 1   latitude     1025190 non-null  float64       \n",
      " 2   longitude    1025190 non-null  float64       \n",
      " 3   sumdid       1025190 non-null  object        \n",
      " 4   chargelevel  1025190 non-null  float64       \n",
      " 5   companyname  1025190 non-null  object        \n",
      "dtypes: datetime64[ns](1), float64(3), object(2)\n",
      "memory usage: 54.8+ MB\n"
     ]
    }
   ],
   "source": [
    "may_dead = may.loc[may['chargelevel'] == 0.00]\n",
    "may_dead.info() #- in this one doesn't have duplicated but the time zone is different"
   ]
  },
  {
   "cell_type": "raw",
   "id": "9890c82b",
   "metadata": {},
   "source": [
    "Didn't see bird and lyft in the dead scooters. "
   ]
  },
  {
   "cell_type": "code",
   "execution_count": 16,
   "id": "fbf7fd0e",
   "metadata": {},
   "outputs": [
    {
     "data": {
      "text/plain": [
       "array(['Gotcha', 'Lime', 'Spin', 'Jump', 'Bolt'], dtype=object)"
      ]
     },
     "execution_count": 16,
     "metadata": {},
     "output_type": "execute_result"
    }
   ],
   "source": [
    "may_dead.companyname.unique() "
   ]
  },
  {
   "cell_type": "code",
   "execution_count": 17,
   "id": "408f0212",
   "metadata": {
    "scrolled": true
   },
   "outputs": [
    {
     "name": "stderr",
     "output_type": "stream",
     "text": [
      "<ipython-input-17-d4eb1ee679e3>:1: SettingWithCopyWarning: \n",
      "A value is trying to be set on a copy of a slice from a DataFrame.\n",
      "Try using .loc[row_indexer,col_indexer] = value instead\n",
      "\n",
      "See the caveats in the documentation: https://pandas.pydata.org/pandas-docs/stable/user_guide/indexing.html#returning-a-view-versus-a-copy\n",
      "  may_dead['date'] = may_dead['pubdatetime'].dt.date\n"
     ]
    },
    {
     "data": {
      "text/html": [
       "<div>\n",
       "<style scoped>\n",
       "    .dataframe tbody tr th:only-of-type {\n",
       "        vertical-align: middle;\n",
       "    }\n",
       "\n",
       "    .dataframe tbody tr th {\n",
       "        vertical-align: top;\n",
       "    }\n",
       "\n",
       "    .dataframe thead th {\n",
       "        text-align: right;\n",
       "    }\n",
       "</style>\n",
       "<table border=\"1\" class=\"dataframe\">\n",
       "  <thead>\n",
       "    <tr style=\"text-align: right;\">\n",
       "      <th></th>\n",
       "      <th>pubdatetime</th>\n",
       "      <th>latitude</th>\n",
       "      <th>longitude</th>\n",
       "      <th>sumdid</th>\n",
       "      <th>chargelevel</th>\n",
       "      <th>companyname</th>\n",
       "      <th>date</th>\n",
       "    </tr>\n",
       "  </thead>\n",
       "  <tbody>\n",
       "    <tr>\n",
       "      <th>1077</th>\n",
       "      <td>2019-05-01 00:04:48.030</td>\n",
       "      <td>36.162910</td>\n",
       "      <td>-86.776332</td>\n",
       "      <td>Powered406</td>\n",
       "      <td>0.0</td>\n",
       "      <td>Gotcha</td>\n",
       "      <td>2019-05-01</td>\n",
       "    </tr>\n",
       "    <tr>\n",
       "      <th>1084</th>\n",
       "      <td>2019-05-01 00:04:48.030</td>\n",
       "      <td>36.152102</td>\n",
       "      <td>-86.762997</td>\n",
       "      <td>Powered785</td>\n",
       "      <td>0.0</td>\n",
       "      <td>Gotcha</td>\n",
       "      <td>2019-05-01</td>\n",
       "    </tr>\n",
       "    <tr>\n",
       "      <th>1093</th>\n",
       "      <td>2019-05-01 00:04:48.030</td>\n",
       "      <td>36.156370</td>\n",
       "      <td>-86.786350</td>\n",
       "      <td>Powered412</td>\n",
       "      <td>0.0</td>\n",
       "      <td>Gotcha</td>\n",
       "      <td>2019-05-01</td>\n",
       "    </tr>\n",
       "    <tr>\n",
       "      <th>1095</th>\n",
       "      <td>2019-05-01 00:04:48.030</td>\n",
       "      <td>36.121324</td>\n",
       "      <td>-86.770482</td>\n",
       "      <td>Powered826</td>\n",
       "      <td>0.0</td>\n",
       "      <td>Gotcha</td>\n",
       "      <td>2019-05-01</td>\n",
       "    </tr>\n",
       "    <tr>\n",
       "      <th>1096</th>\n",
       "      <td>2019-05-01 00:04:48.030</td>\n",
       "      <td>36.121522</td>\n",
       "      <td>-86.770209</td>\n",
       "      <td>Powered769</td>\n",
       "      <td>0.0</td>\n",
       "      <td>Gotcha</td>\n",
       "      <td>2019-05-01</td>\n",
       "    </tr>\n",
       "  </tbody>\n",
       "</table>\n",
       "</div>"
      ],
      "text/plain": [
       "                 pubdatetime   latitude  longitude      sumdid  chargelevel  \\\n",
       "1077 2019-05-01 00:04:48.030  36.162910 -86.776332  Powered406          0.0   \n",
       "1084 2019-05-01 00:04:48.030  36.152102 -86.762997  Powered785          0.0   \n",
       "1093 2019-05-01 00:04:48.030  36.156370 -86.786350  Powered412          0.0   \n",
       "1095 2019-05-01 00:04:48.030  36.121324 -86.770482  Powered826          0.0   \n",
       "1096 2019-05-01 00:04:48.030  36.121522 -86.770209  Powered769          0.0   \n",
       "\n",
       "     companyname        date  \n",
       "1077      Gotcha  2019-05-01  \n",
       "1084      Gotcha  2019-05-01  \n",
       "1093      Gotcha  2019-05-01  \n",
       "1095      Gotcha  2019-05-01  \n",
       "1096      Gotcha  2019-05-01  "
      ]
     },
     "execution_count": 17,
     "metadata": {},
     "output_type": "execute_result"
    }
   ],
   "source": [
    "may_dead['date'] = may_dead['pubdatetime'].dt.date\n",
    "may_dead.head()"
   ]
  },
  {
   "cell_type": "code",
   "execution_count": 18,
   "id": "6e8f6a2f",
   "metadata": {},
   "outputs": [
    {
     "data": {
      "text/html": [
       "<div>\n",
       "<style scoped>\n",
       "    .dataframe tbody tr th:only-of-type {\n",
       "        vertical-align: middle;\n",
       "    }\n",
       "\n",
       "    .dataframe tbody tr th {\n",
       "        vertical-align: top;\n",
       "    }\n",
       "\n",
       "    .dataframe thead th {\n",
       "        text-align: right;\n",
       "    }\n",
       "</style>\n",
       "<table border=\"1\" class=\"dataframe\">\n",
       "  <thead>\n",
       "    <tr style=\"text-align: right;\">\n",
       "      <th></th>\n",
       "      <th>pubdatetime</th>\n",
       "      <th>latitude</th>\n",
       "      <th>longitude</th>\n",
       "      <th>sumdid</th>\n",
       "      <th>chargelevel</th>\n",
       "      <th>companyname</th>\n",
       "      <th>date</th>\n",
       "    </tr>\n",
       "  </thead>\n",
       "  <tbody>\n",
       "    <tr>\n",
       "      <th>1077</th>\n",
       "      <td>2019-05-01 00:04:48.030</td>\n",
       "      <td>36.162910</td>\n",
       "      <td>-86.776332</td>\n",
       "      <td>Powered406</td>\n",
       "      <td>0.0</td>\n",
       "      <td>Gotcha</td>\n",
       "      <td>2019-05-01</td>\n",
       "    </tr>\n",
       "    <tr>\n",
       "      <th>3427</th>\n",
       "      <td>2019-05-01 00:09:48.257</td>\n",
       "      <td>36.162910</td>\n",
       "      <td>-86.776332</td>\n",
       "      <td>Powered406</td>\n",
       "      <td>0.0</td>\n",
       "      <td>Gotcha</td>\n",
       "      <td>2019-05-01</td>\n",
       "    </tr>\n",
       "    <tr>\n",
       "      <th>5498</th>\n",
       "      <td>2019-05-01 00:14:48.537</td>\n",
       "      <td>36.162910</td>\n",
       "      <td>-86.776332</td>\n",
       "      <td>Powered406</td>\n",
       "      <td>0.0</td>\n",
       "      <td>Gotcha</td>\n",
       "      <td>2019-05-01</td>\n",
       "    </tr>\n",
       "    <tr>\n",
       "      <th>7752</th>\n",
       "      <td>2019-05-01 00:19:48.763</td>\n",
       "      <td>36.162910</td>\n",
       "      <td>-86.776332</td>\n",
       "      <td>Powered406</td>\n",
       "      <td>0.0</td>\n",
       "      <td>Gotcha</td>\n",
       "      <td>2019-05-01</td>\n",
       "    </tr>\n",
       "    <tr>\n",
       "      <th>9931</th>\n",
       "      <td>2019-05-01 00:24:49.147</td>\n",
       "      <td>36.162910</td>\n",
       "      <td>-86.776332</td>\n",
       "      <td>Powered406</td>\n",
       "      <td>0.0</td>\n",
       "      <td>Gotcha</td>\n",
       "      <td>2019-05-01</td>\n",
       "    </tr>\n",
       "    <tr>\n",
       "      <th>...</th>\n",
       "      <td>...</td>\n",
       "      <td>...</td>\n",
       "      <td>...</td>\n",
       "      <td>...</td>\n",
       "      <td>...</td>\n",
       "      <td>...</td>\n",
       "      <td>...</td>\n",
       "    </tr>\n",
       "    <tr>\n",
       "      <th>18824347</th>\n",
       "      <td>2019-05-30 13:55:56.267</td>\n",
       "      <td>36.162352</td>\n",
       "      <td>-86.774037</td>\n",
       "      <td>Powered406</td>\n",
       "      <td>0.0</td>\n",
       "      <td>Gotcha</td>\n",
       "      <td>2019-05-30</td>\n",
       "    </tr>\n",
       "    <tr>\n",
       "      <th>18828158</th>\n",
       "      <td>2019-05-30 14:00:56.367</td>\n",
       "      <td>36.162352</td>\n",
       "      <td>-86.774037</td>\n",
       "      <td>Powered406</td>\n",
       "      <td>0.0</td>\n",
       "      <td>Gotcha</td>\n",
       "      <td>2019-05-30</td>\n",
       "    </tr>\n",
       "    <tr>\n",
       "      <th>18831987</th>\n",
       "      <td>2019-05-30 14:05:56.797</td>\n",
       "      <td>36.162352</td>\n",
       "      <td>-86.774037</td>\n",
       "      <td>Powered406</td>\n",
       "      <td>0.0</td>\n",
       "      <td>Gotcha</td>\n",
       "      <td>2019-05-30</td>\n",
       "    </tr>\n",
       "    <tr>\n",
       "      <th>18835706</th>\n",
       "      <td>2019-05-30 14:10:56.923</td>\n",
       "      <td>36.162352</td>\n",
       "      <td>-86.774037</td>\n",
       "      <td>Powered406</td>\n",
       "      <td>0.0</td>\n",
       "      <td>Gotcha</td>\n",
       "      <td>2019-05-30</td>\n",
       "    </tr>\n",
       "    <tr>\n",
       "      <th>18839656</th>\n",
       "      <td>2019-05-30 14:15:57.053</td>\n",
       "      <td>36.162352</td>\n",
       "      <td>-86.774037</td>\n",
       "      <td>Powered406</td>\n",
       "      <td>0.0</td>\n",
       "      <td>Gotcha</td>\n",
       "      <td>2019-05-30</td>\n",
       "    </tr>\n",
       "  </tbody>\n",
       "</table>\n",
       "<p>868 rows × 7 columns</p>\n",
       "</div>"
      ],
      "text/plain": [
       "                     pubdatetime   latitude  longitude      sumdid  \\\n",
       "1077     2019-05-01 00:04:48.030  36.162910 -86.776332  Powered406   \n",
       "3427     2019-05-01 00:09:48.257  36.162910 -86.776332  Powered406   \n",
       "5498     2019-05-01 00:14:48.537  36.162910 -86.776332  Powered406   \n",
       "7752     2019-05-01 00:19:48.763  36.162910 -86.776332  Powered406   \n",
       "9931     2019-05-01 00:24:49.147  36.162910 -86.776332  Powered406   \n",
       "...                          ...        ...        ...         ...   \n",
       "18824347 2019-05-30 13:55:56.267  36.162352 -86.774037  Powered406   \n",
       "18828158 2019-05-30 14:00:56.367  36.162352 -86.774037  Powered406   \n",
       "18831987 2019-05-30 14:05:56.797  36.162352 -86.774037  Powered406   \n",
       "18835706 2019-05-30 14:10:56.923  36.162352 -86.774037  Powered406   \n",
       "18839656 2019-05-30 14:15:57.053  36.162352 -86.774037  Powered406   \n",
       "\n",
       "          chargelevel companyname        date  \n",
       "1077              0.0      Gotcha  2019-05-01  \n",
       "3427              0.0      Gotcha  2019-05-01  \n",
       "5498              0.0      Gotcha  2019-05-01  \n",
       "7752              0.0      Gotcha  2019-05-01  \n",
       "9931              0.0      Gotcha  2019-05-01  \n",
       "...               ...         ...         ...  \n",
       "18824347          0.0      Gotcha  2019-05-30  \n",
       "18828158          0.0      Gotcha  2019-05-30  \n",
       "18831987          0.0      Gotcha  2019-05-30  \n",
       "18835706          0.0      Gotcha  2019-05-30  \n",
       "18839656          0.0      Gotcha  2019-05-30  \n",
       "\n",
       "[868 rows x 7 columns]"
      ]
     },
     "execution_count": 18,
     "metadata": {},
     "output_type": "execute_result"
    }
   ],
   "source": [
    "may_dead.loc[(may['sumdid'] == 'Powered406')]"
   ]
  },
  {
   "cell_type": "code",
   "execution_count": 19,
   "id": "9af573e7",
   "metadata": {},
   "outputs": [
    {
     "data": {
      "text/plain": [
       "(1025190, 4)"
      ]
     },
     "execution_count": 19,
     "metadata": {},
     "output_type": "execute_result"
    }
   ],
   "source": [
    "may_dead_1 = may_dead[['sumdid','latitude','longitude','date']]\n",
    "may_dead_1.shape"
   ]
  },
  {
   "cell_type": "code",
   "execution_count": 20,
   "id": "854c72b7",
   "metadata": {},
   "outputs": [
    {
     "data": {
      "text/html": [
       "<div>\n",
       "<style scoped>\n",
       "    .dataframe tbody tr th:only-of-type {\n",
       "        vertical-align: middle;\n",
       "    }\n",
       "\n",
       "    .dataframe tbody tr th {\n",
       "        vertical-align: top;\n",
       "    }\n",
       "\n",
       "    .dataframe thead th {\n",
       "        text-align: right;\n",
       "    }\n",
       "</style>\n",
       "<table border=\"1\" class=\"dataframe\">\n",
       "  <thead>\n",
       "    <tr style=\"text-align: right;\">\n",
       "      <th></th>\n",
       "      <th>sumdid</th>\n",
       "      <th>latitude</th>\n",
       "      <th>longitude</th>\n",
       "      <th>date</th>\n",
       "    </tr>\n",
       "  </thead>\n",
       "  <tbody>\n",
       "    <tr>\n",
       "      <th>1077</th>\n",
       "      <td>Powered406</td>\n",
       "      <td>36.162910</td>\n",
       "      <td>-86.776332</td>\n",
       "      <td>2019-05-01</td>\n",
       "    </tr>\n",
       "    <tr>\n",
       "      <th>1084</th>\n",
       "      <td>Powered785</td>\n",
       "      <td>36.152102</td>\n",
       "      <td>-86.762997</td>\n",
       "      <td>2019-05-01</td>\n",
       "    </tr>\n",
       "    <tr>\n",
       "      <th>1093</th>\n",
       "      <td>Powered412</td>\n",
       "      <td>36.156370</td>\n",
       "      <td>-86.786350</td>\n",
       "      <td>2019-05-01</td>\n",
       "    </tr>\n",
       "    <tr>\n",
       "      <th>1095</th>\n",
       "      <td>Powered826</td>\n",
       "      <td>36.121324</td>\n",
       "      <td>-86.770482</td>\n",
       "      <td>2019-05-01</td>\n",
       "    </tr>\n",
       "    <tr>\n",
       "      <th>1096</th>\n",
       "      <td>Powered769</td>\n",
       "      <td>36.121522</td>\n",
       "      <td>-86.770209</td>\n",
       "      <td>2019-05-01</td>\n",
       "    </tr>\n",
       "  </tbody>\n",
       "</table>\n",
       "</div>"
      ],
      "text/plain": [
       "          sumdid   latitude  longitude        date\n",
       "1077  Powered406  36.162910 -86.776332  2019-05-01\n",
       "1084  Powered785  36.152102 -86.762997  2019-05-01\n",
       "1093  Powered412  36.156370 -86.786350  2019-05-01\n",
       "1095  Powered826  36.121324 -86.770482  2019-05-01\n",
       "1096  Powered769  36.121522 -86.770209  2019-05-01"
      ]
     },
     "execution_count": 20,
     "metadata": {},
     "output_type": "execute_result"
    }
   ],
   "source": [
    "may_dead_1 = may_dead_1.drop_duplicates()\n",
    "may_dead_1.head()"
   ]
  },
  {
   "cell_type": "code",
   "execution_count": 21,
   "id": "735adeda",
   "metadata": {
    "scrolled": true
   },
   "outputs": [
    {
     "name": "stdout",
     "output_type": "stream",
     "text": [
      "              sumdid   latitude  longitude        date\n",
      "1077      Powered406  36.162910 -86.776332  2019-05-01\n",
      "232158    Powered406  36.162673 -86.776055  2019-05-01\n",
      "235446    Powered406  36.161981 -86.776383  2019-05-01\n",
      "238791    Powered406  36.162374 -86.776544  2019-05-01\n",
      "569202    Powered406  36.162374 -86.776544  2019-05-02\n",
      "...              ...        ...        ...         ...\n",
      "15938375  Powered406  36.121202 -86.770352  2019-05-27\n",
      "15945397  Powered406  36.121248 -86.770175  2019-05-27\n",
      "15952367  Powered406  36.121240 -86.770317  2019-05-27\n",
      "18742422  Powered406  36.162286 -86.774082  2019-05-30\n",
      "18782753  Powered406  36.162352 -86.774037  2019-05-30\n",
      "\n",
      "[207 rows x 4 columns]\n"
     ]
    }
   ],
   "source": [
    "p406 = may_dead_1.loc[(may_dead_1['sumdid'] == 'Powered406')]\n",
    "print(p406) ##duplicated location will be found becasue it will be pushed round from A -> B by pepople before it picked up. "
   ]
  },
  {
   "cell_type": "code",
   "execution_count": 22,
   "id": "82dfeab1",
   "metadata": {},
   "outputs": [],
   "source": [
    "may_dead_1 = may_dead_1.round({'latitude': 3})\n",
    "may_dead_1 = may_dead_1.round({'longitude': 3})"
   ]
  },
  {
   "cell_type": "code",
   "execution_count": 23,
   "id": "cb23aa7d",
   "metadata": {
    "scrolled": false
   },
   "outputs": [
    {
     "data": {
      "text/html": [
       "<div>\n",
       "<style scoped>\n",
       "    .dataframe tbody tr th:only-of-type {\n",
       "        vertical-align: middle;\n",
       "    }\n",
       "\n",
       "    .dataframe tbody tr th {\n",
       "        vertical-align: top;\n",
       "    }\n",
       "\n",
       "    .dataframe thead th {\n",
       "        text-align: right;\n",
       "    }\n",
       "</style>\n",
       "<table border=\"1\" class=\"dataframe\">\n",
       "  <thead>\n",
       "    <tr style=\"text-align: right;\">\n",
       "      <th></th>\n",
       "      <th></th>\n",
       "      <th>sumdid</th>\n",
       "      <th>date</th>\n",
       "    </tr>\n",
       "    <tr>\n",
       "      <th>latitude</th>\n",
       "      <th>longitude</th>\n",
       "      <th></th>\n",
       "      <th></th>\n",
       "    </tr>\n",
       "  </thead>\n",
       "  <tbody>\n",
       "    <tr>\n",
       "      <th>0.000</th>\n",
       "      <th>0.000</th>\n",
       "      <td>3</td>\n",
       "      <td>3</td>\n",
       "    </tr>\n",
       "    <tr>\n",
       "      <th>34.414</th>\n",
       "      <th>-81.706</th>\n",
       "      <td>1</td>\n",
       "      <td>1</td>\n",
       "    </tr>\n",
       "    <tr>\n",
       "      <th>35.219</th>\n",
       "      <th>-82.193</th>\n",
       "      <td>1</td>\n",
       "      <td>1</td>\n",
       "    </tr>\n",
       "    <tr>\n",
       "      <th>35.541</th>\n",
       "      <th>-82.780</th>\n",
       "      <td>1</td>\n",
       "      <td>1</td>\n",
       "    </tr>\n",
       "    <tr>\n",
       "      <th>35.552</th>\n",
       "      <th>-82.818</th>\n",
       "      <td>1</td>\n",
       "      <td>1</td>\n",
       "    </tr>\n",
       "  </tbody>\n",
       "</table>\n",
       "</div>"
      ],
      "text/plain": [
       "                    sumdid  date\n",
       "latitude longitude              \n",
       "0.000     0.000          3     3\n",
       "34.414   -81.706         1     1\n",
       "35.219   -82.193         1     1\n",
       "35.541   -82.780         1     1\n",
       "35.552   -82.818         1     1"
      ]
     },
     "execution_count": 23,
     "metadata": {},
     "output_type": "execute_result"
    }
   ],
   "source": [
    "dead_group = may_dead_1.groupby([\"latitude\", \"longitude\"]).count()\n",
    "dead_group.head()"
   ]
  },
  {
   "cell_type": "code",
   "execution_count": 24,
   "id": "d8a39108",
   "metadata": {
    "scrolled": false
   },
   "outputs": [
    {
     "data": {
      "text/plain": [
       "1       999\n",
       "2       332\n",
       "3       194\n",
       "4       140\n",
       "5        96\n",
       "       ... \n",
       "54        1\n",
       "50        1\n",
       "40        1\n",
       "2085      1\n",
       "711       1\n",
       "Name: sumdid, Length: 102, dtype: int64"
      ]
     },
     "execution_count": 24,
     "metadata": {},
     "output_type": "execute_result"
    }
   ],
   "source": [
    "dead_group.sumdid.value_counts()"
   ]
  },
  {
   "cell_type": "code",
   "execution_count": 25,
   "id": "7e6e0e6d",
   "metadata": {
    "scrolled": false
   },
   "outputs": [
    {
     "name": "stdout",
     "output_type": "stream",
     "text": [
      "   latitude  longitude  sumdid  date\n",
      "0    36.120    -86.753    5070  5070\n",
      "1    36.134    -86.792    2085  2085\n",
      "2    36.120    -86.754    1960  1960\n",
      "3    36.121    -86.770    1002  1002\n",
      "4    36.176    -86.754     711   711\n",
      "5    36.156    -86.776     349   349\n",
      "6    36.158    -86.767     326   326\n",
      "7    36.174    -86.786     321   321\n",
      "8    36.160    -86.776     259   259\n",
      "9    36.121    -86.771     198   198\n"
     ]
    }
   ],
   "source": [
    "dead_10 = dead_group.sort_values('sumdid',ascending = False).head(10).reset_index()\n",
    "print(dead_10)"
   ]
  },
  {
   "cell_type": "markdown",
   "id": "5b2cf587",
   "metadata": {},
   "source": [
    "Make the graph for the loctions of the dead scooter reported "
   ]
  },
  {
   "cell_type": "code",
   "execution_count": 27,
   "id": "fd4bb634",
   "metadata": {},
   "outputs": [],
   "source": [
    "import folium"
   ]
  },
  {
   "cell_type": "code",
   "execution_count": 28,
   "id": "576126b8",
   "metadata": {
    "scrolled": true
   },
   "outputs": [],
   "source": [
    "nash_map = folium.Map(location = [36.1612, -86.7775], zoom_start=12)"
   ]
  },
  {
   "cell_type": "code",
   "execution_count": 32,
   "id": "862cb0d7",
   "metadata": {
    "scrolled": false
   },
   "outputs": [
    {
     "data": {
      "text/html": [
       "<div style=\"width:100%;\"><div style=\"position:relative;width:100%;height:0;padding-bottom:60%;\"><span style=\"color:#565656\">Make this Notebook Trusted to load map: File -> Trust Notebook</span><iframe src=\"about:blank\" style=\"position:absolute;width:100%;height:100%;left:0;top:0;border:none !important;\" data-html=%3C%21DOCTYPE%20html%3E%0A%3Chead%3E%20%20%20%20%0A%20%20%20%20%3Cmeta%20http-equiv%3D%22content-type%22%20content%3D%22text/html%3B%20charset%3DUTF-8%22%20/%3E%0A%20%20%20%20%0A%20%20%20%20%20%20%20%20%3Cscript%3E%0A%20%20%20%20%20%20%20%20%20%20%20%20L_NO_TOUCH%20%3D%20false%3B%0A%20%20%20%20%20%20%20%20%20%20%20%20L_DISABLE_3D%20%3D%20false%3B%0A%20%20%20%20%20%20%20%20%3C/script%3E%0A%20%20%20%20%0A%20%20%20%20%3Cstyle%3Ehtml%2C%20body%20%7Bwidth%3A%20100%25%3Bheight%3A%20100%25%3Bmargin%3A%200%3Bpadding%3A%200%3B%7D%3C/style%3E%0A%20%20%20%20%3Cstyle%3E%23map%20%7Bposition%3Aabsolute%3Btop%3A0%3Bbottom%3A0%3Bright%3A0%3Bleft%3A0%3B%7D%3C/style%3E%0A%20%20%20%20%3Cscript%20src%3D%22https%3A//cdn.jsdelivr.net/npm/leaflet%401.6.0/dist/leaflet.js%22%3E%3C/script%3E%0A%20%20%20%20%3Cscript%20src%3D%22https%3A//code.jquery.com/jquery-1.12.4.min.js%22%3E%3C/script%3E%0A%20%20%20%20%3Cscript%20src%3D%22https%3A//maxcdn.bootstrapcdn.com/bootstrap/3.2.0/js/bootstrap.min.js%22%3E%3C/script%3E%0A%20%20%20%20%3Cscript%20src%3D%22https%3A//cdnjs.cloudflare.com/ajax/libs/Leaflet.awesome-markers/2.0.2/leaflet.awesome-markers.js%22%3E%3C/script%3E%0A%20%20%20%20%3Clink%20rel%3D%22stylesheet%22%20href%3D%22https%3A//cdn.jsdelivr.net/npm/leaflet%401.6.0/dist/leaflet.css%22/%3E%0A%20%20%20%20%3Clink%20rel%3D%22stylesheet%22%20href%3D%22https%3A//maxcdn.bootstrapcdn.com/bootstrap/3.2.0/css/bootstrap.min.css%22/%3E%0A%20%20%20%20%3Clink%20rel%3D%22stylesheet%22%20href%3D%22https%3A//maxcdn.bootstrapcdn.com/bootstrap/3.2.0/css/bootstrap-theme.min.css%22/%3E%0A%20%20%20%20%3Clink%20rel%3D%22stylesheet%22%20href%3D%22https%3A//maxcdn.bootstrapcdn.com/font-awesome/4.6.3/css/font-awesome.min.css%22/%3E%0A%20%20%20%20%3Clink%20rel%3D%22stylesheet%22%20href%3D%22https%3A//cdnjs.cloudflare.com/ajax/libs/Leaflet.awesome-markers/2.0.2/leaflet.awesome-markers.css%22/%3E%0A%20%20%20%20%3Clink%20rel%3D%22stylesheet%22%20href%3D%22https%3A//cdn.jsdelivr.net/gh/python-visualization/folium/folium/templates/leaflet.awesome.rotate.min.css%22/%3E%0A%20%20%20%20%0A%20%20%20%20%20%20%20%20%20%20%20%20%3Cmeta%20name%3D%22viewport%22%20content%3D%22width%3Ddevice-width%2C%0A%20%20%20%20%20%20%20%20%20%20%20%20%20%20%20%20initial-scale%3D1.0%2C%20maximum-scale%3D1.0%2C%20user-scalable%3Dno%22%20/%3E%0A%20%20%20%20%20%20%20%20%20%20%20%20%3Cstyle%3E%0A%20%20%20%20%20%20%20%20%20%20%20%20%20%20%20%20%23map_517f083d22834064b1dcb149134b1625%20%7B%0A%20%20%20%20%20%20%20%20%20%20%20%20%20%20%20%20%20%20%20%20position%3A%20relative%3B%0A%20%20%20%20%20%20%20%20%20%20%20%20%20%20%20%20%20%20%20%20width%3A%20100.0%25%3B%0A%20%20%20%20%20%20%20%20%20%20%20%20%20%20%20%20%20%20%20%20height%3A%20100.0%25%3B%0A%20%20%20%20%20%20%20%20%20%20%20%20%20%20%20%20%20%20%20%20left%3A%200.0%25%3B%0A%20%20%20%20%20%20%20%20%20%20%20%20%20%20%20%20%20%20%20%20top%3A%200.0%25%3B%0A%20%20%20%20%20%20%20%20%20%20%20%20%20%20%20%20%7D%0A%20%20%20%20%20%20%20%20%20%20%20%20%3C/style%3E%0A%20%20%20%20%20%20%20%20%0A%3C/head%3E%0A%3Cbody%3E%20%20%20%20%0A%20%20%20%20%0A%20%20%20%20%20%20%20%20%20%20%20%20%3Cdiv%20class%3D%22folium-map%22%20id%3D%22map_517f083d22834064b1dcb149134b1625%22%20%3E%3C/div%3E%0A%20%20%20%20%20%20%20%20%0A%3C/body%3E%0A%3Cscript%3E%20%20%20%20%0A%20%20%20%20%0A%20%20%20%20%20%20%20%20%20%20%20%20var%20map_517f083d22834064b1dcb149134b1625%20%3D%20L.map%28%0A%20%20%20%20%20%20%20%20%20%20%20%20%20%20%20%20%22map_517f083d22834064b1dcb149134b1625%22%2C%0A%20%20%20%20%20%20%20%20%20%20%20%20%20%20%20%20%7B%0A%20%20%20%20%20%20%20%20%20%20%20%20%20%20%20%20%20%20%20%20center%3A%20%5B36.1612%2C%20-86.7775%5D%2C%0A%20%20%20%20%20%20%20%20%20%20%20%20%20%20%20%20%20%20%20%20crs%3A%20L.CRS.EPSG3857%2C%0A%20%20%20%20%20%20%20%20%20%20%20%20%20%20%20%20%20%20%20%20zoom%3A%2012%2C%0A%20%20%20%20%20%20%20%20%20%20%20%20%20%20%20%20%20%20%20%20zoomControl%3A%20true%2C%0A%20%20%20%20%20%20%20%20%20%20%20%20%20%20%20%20%20%20%20%20preferCanvas%3A%20false%2C%0A%20%20%20%20%20%20%20%20%20%20%20%20%20%20%20%20%7D%0A%20%20%20%20%20%20%20%20%20%20%20%20%29%3B%0A%0A%20%20%20%20%20%20%20%20%20%20%20%20%0A%0A%20%20%20%20%20%20%20%20%0A%20%20%20%20%0A%20%20%20%20%20%20%20%20%20%20%20%20var%20tile_layer_a2d5b06fee0f4afb9a78598a9ed67878%20%3D%20L.tileLayer%28%0A%20%20%20%20%20%20%20%20%20%20%20%20%20%20%20%20%22https%3A//%7Bs%7D.tile.openstreetmap.org/%7Bz%7D/%7Bx%7D/%7By%7D.png%22%2C%0A%20%20%20%20%20%20%20%20%20%20%20%20%20%20%20%20%7B%22attribution%22%3A%20%22Data%20by%20%5Cu0026copy%3B%20%5Cu003ca%20href%3D%5C%22http%3A//openstreetmap.org%5C%22%5Cu003eOpenStreetMap%5Cu003c/a%5Cu003e%2C%20under%20%5Cu003ca%20href%3D%5C%22http%3A//www.openstreetmap.org/copyright%5C%22%5Cu003eODbL%5Cu003c/a%5Cu003e.%22%2C%20%22detectRetina%22%3A%20false%2C%20%22maxNativeZoom%22%3A%2018%2C%20%22maxZoom%22%3A%2018%2C%20%22minZoom%22%3A%200%2C%20%22noWrap%22%3A%20false%2C%20%22opacity%22%3A%201%2C%20%22subdomains%22%3A%20%22abc%22%2C%20%22tms%22%3A%20false%7D%0A%20%20%20%20%20%20%20%20%20%20%20%20%29.addTo%28map_517f083d22834064b1dcb149134b1625%29%3B%0A%20%20%20%20%20%20%20%20%0A%20%20%20%20%0A%20%20%20%20%20%20%20%20%20%20%20%20var%20marker_5c6bd0f5e5b146c09f3c8bd74ae620bc%20%3D%20L.marker%28%0A%20%20%20%20%20%20%20%20%20%20%20%20%20%20%20%20%5B36.12%2C%20-86.753%5D%2C%0A%20%20%20%20%20%20%20%20%20%20%20%20%20%20%20%20%7B%7D%0A%20%20%20%20%20%20%20%20%20%20%20%20%29.addTo%28map_517f083d22834064b1dcb149134b1625%29%3B%0A%20%20%20%20%20%20%20%20%0A%20%20%20%20%0A%20%20%20%20%20%20%20%20var%20popup_66eec5b389a0492593f5f02d0680c65f%20%3D%20L.popup%28%7B%22maxWidth%22%3A%20%22100%25%22%7D%29%3B%0A%0A%20%20%20%20%20%20%20%20%0A%20%20%20%20%20%20%20%20%20%20%20%20var%20html_dfb36eac1169414d8fcd5ded00fc4699%20%3D%20%24%28%60%3Cdiv%20id%3D%22html_dfb36eac1169414d8fcd5ded00fc4699%22%20style%3D%22width%3A%20100.0%25%3B%20height%3A%20100.0%25%3B%22%3E5070.0%3C/div%3E%60%29%5B0%5D%3B%0A%20%20%20%20%20%20%20%20%20%20%20%20popup_66eec5b389a0492593f5f02d0680c65f.setContent%28html_dfb36eac1169414d8fcd5ded00fc4699%29%3B%0A%20%20%20%20%20%20%20%20%0A%0A%20%20%20%20%20%20%20%20marker_5c6bd0f5e5b146c09f3c8bd74ae620bc.bindPopup%28popup_66eec5b389a0492593f5f02d0680c65f%29%0A%20%20%20%20%20%20%20%20%3B%0A%0A%20%20%20%20%20%20%20%20%0A%20%20%20%20%0A%20%20%20%20%0A%20%20%20%20%20%20%20%20%20%20%20%20var%20marker_85fa8247454f44809a51684293084e72%20%3D%20L.marker%28%0A%20%20%20%20%20%20%20%20%20%20%20%20%20%20%20%20%5B36.134%2C%20-86.792%5D%2C%0A%20%20%20%20%20%20%20%20%20%20%20%20%20%20%20%20%7B%7D%0A%20%20%20%20%20%20%20%20%20%20%20%20%29.addTo%28map_517f083d22834064b1dcb149134b1625%29%3B%0A%20%20%20%20%20%20%20%20%0A%20%20%20%20%0A%20%20%20%20%20%20%20%20var%20popup_8a3957eecfa44c2fa7e02613b5284405%20%3D%20L.popup%28%7B%22maxWidth%22%3A%20%22100%25%22%7D%29%3B%0A%0A%20%20%20%20%20%20%20%20%0A%20%20%20%20%20%20%20%20%20%20%20%20var%20html_f250376c600e4bea8e6dace8d10a2bd7%20%3D%20%24%28%60%3Cdiv%20id%3D%22html_f250376c600e4bea8e6dace8d10a2bd7%22%20style%3D%22width%3A%20100.0%25%3B%20height%3A%20100.0%25%3B%22%3E2085.0%3C/div%3E%60%29%5B0%5D%3B%0A%20%20%20%20%20%20%20%20%20%20%20%20popup_8a3957eecfa44c2fa7e02613b5284405.setContent%28html_f250376c600e4bea8e6dace8d10a2bd7%29%3B%0A%20%20%20%20%20%20%20%20%0A%0A%20%20%20%20%20%20%20%20marker_85fa8247454f44809a51684293084e72.bindPopup%28popup_8a3957eecfa44c2fa7e02613b5284405%29%0A%20%20%20%20%20%20%20%20%3B%0A%0A%20%20%20%20%20%20%20%20%0A%20%20%20%20%0A%20%20%20%20%0A%20%20%20%20%20%20%20%20%20%20%20%20var%20marker_57c2ca5f27bd497e8f924c551aa76fbd%20%3D%20L.marker%28%0A%20%20%20%20%20%20%20%20%20%20%20%20%20%20%20%20%5B36.12%2C%20-86.754%5D%2C%0A%20%20%20%20%20%20%20%20%20%20%20%20%20%20%20%20%7B%7D%0A%20%20%20%20%20%20%20%20%20%20%20%20%29.addTo%28map_517f083d22834064b1dcb149134b1625%29%3B%0A%20%20%20%20%20%20%20%20%0A%20%20%20%20%0A%20%20%20%20%20%20%20%20var%20popup_225bc7ce628c472bb1e530cd99c4fe23%20%3D%20L.popup%28%7B%22maxWidth%22%3A%20%22100%25%22%7D%29%3B%0A%0A%20%20%20%20%20%20%20%20%0A%20%20%20%20%20%20%20%20%20%20%20%20var%20html_0281d24f21f44a2394d890aed51b5aa2%20%3D%20%24%28%60%3Cdiv%20id%3D%22html_0281d24f21f44a2394d890aed51b5aa2%22%20style%3D%22width%3A%20100.0%25%3B%20height%3A%20100.0%25%3B%22%3E1960.0%3C/div%3E%60%29%5B0%5D%3B%0A%20%20%20%20%20%20%20%20%20%20%20%20popup_225bc7ce628c472bb1e530cd99c4fe23.setContent%28html_0281d24f21f44a2394d890aed51b5aa2%29%3B%0A%20%20%20%20%20%20%20%20%0A%0A%20%20%20%20%20%20%20%20marker_57c2ca5f27bd497e8f924c551aa76fbd.bindPopup%28popup_225bc7ce628c472bb1e530cd99c4fe23%29%0A%20%20%20%20%20%20%20%20%3B%0A%0A%20%20%20%20%20%20%20%20%0A%20%20%20%20%0A%20%20%20%20%0A%20%20%20%20%20%20%20%20%20%20%20%20var%20marker_34da050488d5464eacbc1c2c884d818b%20%3D%20L.marker%28%0A%20%20%20%20%20%20%20%20%20%20%20%20%20%20%20%20%5B36.121%2C%20-86.77%5D%2C%0A%20%20%20%20%20%20%20%20%20%20%20%20%20%20%20%20%7B%7D%0A%20%20%20%20%20%20%20%20%20%20%20%20%29.addTo%28map_517f083d22834064b1dcb149134b1625%29%3B%0A%20%20%20%20%20%20%20%20%0A%20%20%20%20%0A%20%20%20%20%20%20%20%20var%20popup_991e8b59aae6489a895ecc8536d6113d%20%3D%20L.popup%28%7B%22maxWidth%22%3A%20%22100%25%22%7D%29%3B%0A%0A%20%20%20%20%20%20%20%20%0A%20%20%20%20%20%20%20%20%20%20%20%20var%20html_ad458ba484a545a89cd75136874c7044%20%3D%20%24%28%60%3Cdiv%20id%3D%22html_ad458ba484a545a89cd75136874c7044%22%20style%3D%22width%3A%20100.0%25%3B%20height%3A%20100.0%25%3B%22%3E1002.0%3C/div%3E%60%29%5B0%5D%3B%0A%20%20%20%20%20%20%20%20%20%20%20%20popup_991e8b59aae6489a895ecc8536d6113d.setContent%28html_ad458ba484a545a89cd75136874c7044%29%3B%0A%20%20%20%20%20%20%20%20%0A%0A%20%20%20%20%20%20%20%20marker_34da050488d5464eacbc1c2c884d818b.bindPopup%28popup_991e8b59aae6489a895ecc8536d6113d%29%0A%20%20%20%20%20%20%20%20%3B%0A%0A%20%20%20%20%20%20%20%20%0A%20%20%20%20%0A%20%20%20%20%0A%20%20%20%20%20%20%20%20%20%20%20%20var%20marker_eb0254f5bc424f8fba3003b9793477bf%20%3D%20L.marker%28%0A%20%20%20%20%20%20%20%20%20%20%20%20%20%20%20%20%5B36.176%2C%20-86.754%5D%2C%0A%20%20%20%20%20%20%20%20%20%20%20%20%20%20%20%20%7B%7D%0A%20%20%20%20%20%20%20%20%20%20%20%20%29.addTo%28map_517f083d22834064b1dcb149134b1625%29%3B%0A%20%20%20%20%20%20%20%20%0A%20%20%20%20%0A%20%20%20%20%20%20%20%20var%20popup_ec2d35b54fb74b3f97e86d0cc0be9b2a%20%3D%20L.popup%28%7B%22maxWidth%22%3A%20%22100%25%22%7D%29%3B%0A%0A%20%20%20%20%20%20%20%20%0A%20%20%20%20%20%20%20%20%20%20%20%20var%20html_49bf6cf95dab440aa1dea7b3ff9c96ad%20%3D%20%24%28%60%3Cdiv%20id%3D%22html_49bf6cf95dab440aa1dea7b3ff9c96ad%22%20style%3D%22width%3A%20100.0%25%3B%20height%3A%20100.0%25%3B%22%3E711.0%3C/div%3E%60%29%5B0%5D%3B%0A%20%20%20%20%20%20%20%20%20%20%20%20popup_ec2d35b54fb74b3f97e86d0cc0be9b2a.setContent%28html_49bf6cf95dab440aa1dea7b3ff9c96ad%29%3B%0A%20%20%20%20%20%20%20%20%0A%0A%20%20%20%20%20%20%20%20marker_eb0254f5bc424f8fba3003b9793477bf.bindPopup%28popup_ec2d35b54fb74b3f97e86d0cc0be9b2a%29%0A%20%20%20%20%20%20%20%20%3B%0A%0A%20%20%20%20%20%20%20%20%0A%20%20%20%20%0A%20%20%20%20%0A%20%20%20%20%20%20%20%20%20%20%20%20var%20marker_29619bb004ab42e2b129ec835103113a%20%3D%20L.marker%28%0A%20%20%20%20%20%20%20%20%20%20%20%20%20%20%20%20%5B36.156%2C%20-86.776%5D%2C%0A%20%20%20%20%20%20%20%20%20%20%20%20%20%20%20%20%7B%7D%0A%20%20%20%20%20%20%20%20%20%20%20%20%29.addTo%28map_517f083d22834064b1dcb149134b1625%29%3B%0A%20%20%20%20%20%20%20%20%0A%20%20%20%20%0A%20%20%20%20%20%20%20%20var%20popup_4cb28e23bb9b4591b31a2155da26760d%20%3D%20L.popup%28%7B%22maxWidth%22%3A%20%22100%25%22%7D%29%3B%0A%0A%20%20%20%20%20%20%20%20%0A%20%20%20%20%20%20%20%20%20%20%20%20var%20html_739a9f208fd447638d1775b34bb82c10%20%3D%20%24%28%60%3Cdiv%20id%3D%22html_739a9f208fd447638d1775b34bb82c10%22%20style%3D%22width%3A%20100.0%25%3B%20height%3A%20100.0%25%3B%22%3E349.0%3C/div%3E%60%29%5B0%5D%3B%0A%20%20%20%20%20%20%20%20%20%20%20%20popup_4cb28e23bb9b4591b31a2155da26760d.setContent%28html_739a9f208fd447638d1775b34bb82c10%29%3B%0A%20%20%20%20%20%20%20%20%0A%0A%20%20%20%20%20%20%20%20marker_29619bb004ab42e2b129ec835103113a.bindPopup%28popup_4cb28e23bb9b4591b31a2155da26760d%29%0A%20%20%20%20%20%20%20%20%3B%0A%0A%20%20%20%20%20%20%20%20%0A%20%20%20%20%0A%20%20%20%20%0A%20%20%20%20%20%20%20%20%20%20%20%20var%20marker_f544b5a652254de4a66917688e3fd1ba%20%3D%20L.marker%28%0A%20%20%20%20%20%20%20%20%20%20%20%20%20%20%20%20%5B36.158%2C%20-86.767%5D%2C%0A%20%20%20%20%20%20%20%20%20%20%20%20%20%20%20%20%7B%7D%0A%20%20%20%20%20%20%20%20%20%20%20%20%29.addTo%28map_517f083d22834064b1dcb149134b1625%29%3B%0A%20%20%20%20%20%20%20%20%0A%20%20%20%20%0A%20%20%20%20%20%20%20%20var%20popup_3169f46dc3734667a85f975e2bf51f4b%20%3D%20L.popup%28%7B%22maxWidth%22%3A%20%22100%25%22%7D%29%3B%0A%0A%20%20%20%20%20%20%20%20%0A%20%20%20%20%20%20%20%20%20%20%20%20var%20html_d1829309775f429c9f3b601aad1056cc%20%3D%20%24%28%60%3Cdiv%20id%3D%22html_d1829309775f429c9f3b601aad1056cc%22%20style%3D%22width%3A%20100.0%25%3B%20height%3A%20100.0%25%3B%22%3E326.0%3C/div%3E%60%29%5B0%5D%3B%0A%20%20%20%20%20%20%20%20%20%20%20%20popup_3169f46dc3734667a85f975e2bf51f4b.setContent%28html_d1829309775f429c9f3b601aad1056cc%29%3B%0A%20%20%20%20%20%20%20%20%0A%0A%20%20%20%20%20%20%20%20marker_f544b5a652254de4a66917688e3fd1ba.bindPopup%28popup_3169f46dc3734667a85f975e2bf51f4b%29%0A%20%20%20%20%20%20%20%20%3B%0A%0A%20%20%20%20%20%20%20%20%0A%20%20%20%20%0A%20%20%20%20%0A%20%20%20%20%20%20%20%20%20%20%20%20var%20marker_0050e0d008da430ba01a4a863cafeb94%20%3D%20L.marker%28%0A%20%20%20%20%20%20%20%20%20%20%20%20%20%20%20%20%5B36.174%2C%20-86.786%5D%2C%0A%20%20%20%20%20%20%20%20%20%20%20%20%20%20%20%20%7B%7D%0A%20%20%20%20%20%20%20%20%20%20%20%20%29.addTo%28map_517f083d22834064b1dcb149134b1625%29%3B%0A%20%20%20%20%20%20%20%20%0A%20%20%20%20%0A%20%20%20%20%20%20%20%20var%20popup_236cd1b2f3f64a4d9836201c6b16fe6e%20%3D%20L.popup%28%7B%22maxWidth%22%3A%20%22100%25%22%7D%29%3B%0A%0A%20%20%20%20%20%20%20%20%0A%20%20%20%20%20%20%20%20%20%20%20%20var%20html_0537642076e548e1a6f4c195c6bd26f8%20%3D%20%24%28%60%3Cdiv%20id%3D%22html_0537642076e548e1a6f4c195c6bd26f8%22%20style%3D%22width%3A%20100.0%25%3B%20height%3A%20100.0%25%3B%22%3E321.0%3C/div%3E%60%29%5B0%5D%3B%0A%20%20%20%20%20%20%20%20%20%20%20%20popup_236cd1b2f3f64a4d9836201c6b16fe6e.setContent%28html_0537642076e548e1a6f4c195c6bd26f8%29%3B%0A%20%20%20%20%20%20%20%20%0A%0A%20%20%20%20%20%20%20%20marker_0050e0d008da430ba01a4a863cafeb94.bindPopup%28popup_236cd1b2f3f64a4d9836201c6b16fe6e%29%0A%20%20%20%20%20%20%20%20%3B%0A%0A%20%20%20%20%20%20%20%20%0A%20%20%20%20%0A%20%20%20%20%0A%20%20%20%20%20%20%20%20%20%20%20%20var%20marker_c731d7f298574b3bad7d0ac637988976%20%3D%20L.marker%28%0A%20%20%20%20%20%20%20%20%20%20%20%20%20%20%20%20%5B36.16%2C%20-86.776%5D%2C%0A%20%20%20%20%20%20%20%20%20%20%20%20%20%20%20%20%7B%7D%0A%20%20%20%20%20%20%20%20%20%20%20%20%29.addTo%28map_517f083d22834064b1dcb149134b1625%29%3B%0A%20%20%20%20%20%20%20%20%0A%20%20%20%20%0A%20%20%20%20%20%20%20%20var%20popup_1d087561696d49a6a84980b68b3a3ee9%20%3D%20L.popup%28%7B%22maxWidth%22%3A%20%22100%25%22%7D%29%3B%0A%0A%20%20%20%20%20%20%20%20%0A%20%20%20%20%20%20%20%20%20%20%20%20var%20html_7324c4304e1c46eda23d6aa6bca06c87%20%3D%20%24%28%60%3Cdiv%20id%3D%22html_7324c4304e1c46eda23d6aa6bca06c87%22%20style%3D%22width%3A%20100.0%25%3B%20height%3A%20100.0%25%3B%22%3E259.0%3C/div%3E%60%29%5B0%5D%3B%0A%20%20%20%20%20%20%20%20%20%20%20%20popup_1d087561696d49a6a84980b68b3a3ee9.setContent%28html_7324c4304e1c46eda23d6aa6bca06c87%29%3B%0A%20%20%20%20%20%20%20%20%0A%0A%20%20%20%20%20%20%20%20marker_c731d7f298574b3bad7d0ac637988976.bindPopup%28popup_1d087561696d49a6a84980b68b3a3ee9%29%0A%20%20%20%20%20%20%20%20%3B%0A%0A%20%20%20%20%20%20%20%20%0A%20%20%20%20%0A%20%20%20%20%0A%20%20%20%20%20%20%20%20%20%20%20%20var%20marker_56d43d1eb718497486bf2c7eaac1ffef%20%3D%20L.marker%28%0A%20%20%20%20%20%20%20%20%20%20%20%20%20%20%20%20%5B36.121%2C%20-86.771%5D%2C%0A%20%20%20%20%20%20%20%20%20%20%20%20%20%20%20%20%7B%7D%0A%20%20%20%20%20%20%20%20%20%20%20%20%29.addTo%28map_517f083d22834064b1dcb149134b1625%29%3B%0A%20%20%20%20%20%20%20%20%0A%20%20%20%20%0A%20%20%20%20%20%20%20%20var%20popup_5f14f2bb4e6b486caaf9a8a23ac34a38%20%3D%20L.popup%28%7B%22maxWidth%22%3A%20%22100%25%22%7D%29%3B%0A%0A%20%20%20%20%20%20%20%20%0A%20%20%20%20%20%20%20%20%20%20%20%20var%20html_db238050451b41fc8baaefcd6fffa97e%20%3D%20%24%28%60%3Cdiv%20id%3D%22html_db238050451b41fc8baaefcd6fffa97e%22%20style%3D%22width%3A%20100.0%25%3B%20height%3A%20100.0%25%3B%22%3E198.0%3C/div%3E%60%29%5B0%5D%3B%0A%20%20%20%20%20%20%20%20%20%20%20%20popup_5f14f2bb4e6b486caaf9a8a23ac34a38.setContent%28html_db238050451b41fc8baaefcd6fffa97e%29%3B%0A%20%20%20%20%20%20%20%20%0A%0A%20%20%20%20%20%20%20%20marker_56d43d1eb718497486bf2c7eaac1ffef.bindPopup%28popup_5f14f2bb4e6b486caaf9a8a23ac34a38%29%0A%20%20%20%20%20%20%20%20%3B%0A%0A%20%20%20%20%20%20%20%20%0A%20%20%20%20%0A%3C/script%3E onload=\"this.contentDocument.open();this.contentDocument.write(    decodeURIComponent(this.getAttribute('data-html')));this.contentDocument.close();\" allowfullscreen webkitallowfullscreen mozallowfullscreen></iframe></div></div>"
      ],
      "text/plain": [
       "<folium.folium.Map at 0x1ae43be2310>"
      ]
     },
     "execution_count": 32,
     "metadata": {},
     "output_type": "execute_result"
    }
   ],
   "source": [
    "for ind, row in dead_10.iterrows():\n",
    "    point = [row['latitude'], row['longitude']]\n",
    "    message = row['sumdid']\n",
    "    folium.Marker(location = point, popup = message).add_to(nash_map)\n",
    "\n",
    "nash_map"
   ]
  },
  {
   "cell_type": "code",
   "execution_count": null,
   "id": "02fdf5de",
   "metadata": {},
   "outputs": [],
   "source": []
  }
 ],
 "metadata": {
  "kernelspec": {
   "display_name": "Python 3",
   "language": "python",
   "name": "python3"
  },
  "language_info": {
   "codemirror_mode": {
    "name": "ipython",
    "version": 3
   },
   "file_extension": ".py",
   "mimetype": "text/x-python",
   "name": "python",
   "nbconvert_exporter": "python",
   "pygments_lexer": "ipython3",
   "version": "3.8.8"
  }
 },
 "nbformat": 4,
 "nbformat_minor": 5
}
