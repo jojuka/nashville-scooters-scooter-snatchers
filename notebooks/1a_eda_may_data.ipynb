{
 "cells": [
  {
   "cell_type": "markdown",
   "id": "2552ddba",
   "metadata": {},
   "source": [
    "# This notebook is for May 2019 stationary data Cleaning & EDA"
   ]
  },
  {
   "cell_type": "markdown",
   "id": "9d990c3a",
   "metadata": {},
   "source": [
    "### Import needed modules"
   ]
  },
  {
   "cell_type": "code",
   "execution_count": 2,
   "id": "05f4e7d9",
   "metadata": {},
   "outputs": [],
   "source": [
    "import pandas as pd\n",
    "import matplotlib.pyplot as plt\n",
    "%matplotlib inline"
   ]
  },
  {
   "cell_type": "markdown",
   "id": "fbe1dc78",
   "metadata": {},
   "source": [
    "### Read in pkl file for analysis"
   ]
  },
  {
   "cell_type": "code",
   "execution_count": 3,
   "id": "5995063e",
   "metadata": {
    "scrolled": true
   },
   "outputs": [
    {
     "data": {
      "text/html": [
       "<div>\n",
       "<style scoped>\n",
       "    .dataframe tbody tr th:only-of-type {\n",
       "        vertical-align: middle;\n",
       "    }\n",
       "\n",
       "    .dataframe tbody tr th {\n",
       "        vertical-align: top;\n",
       "    }\n",
       "\n",
       "    .dataframe thead th {\n",
       "        text-align: right;\n",
       "    }\n",
       "</style>\n",
       "<table border=\"1\" class=\"dataframe\">\n",
       "  <thead>\n",
       "    <tr style=\"text-align: right;\">\n",
       "      <th></th>\n",
       "      <th>pubdatetime</th>\n",
       "      <th>latitude</th>\n",
       "      <th>longitude</th>\n",
       "      <th>sumdid</th>\n",
       "      <th>chargelevel</th>\n",
       "      <th>companyname</th>\n",
       "    </tr>\n",
       "  </thead>\n",
       "  <tbody>\n",
       "    <tr>\n",
       "      <th>0</th>\n",
       "      <td>2019-05-01 00:01:41.247000</td>\n",
       "      <td>36.136822</td>\n",
       "      <td>-86.799877</td>\n",
       "      <td>PoweredLIRL1</td>\n",
       "      <td>93.0</td>\n",
       "      <td>Bird</td>\n",
       "    </tr>\n",
       "    <tr>\n",
       "      <th>1</th>\n",
       "      <td>2019-05-01 00:01:41.247000</td>\n",
       "      <td>36.191252</td>\n",
       "      <td>-86.772945</td>\n",
       "      <td>PoweredXWRWC</td>\n",
       "      <td>35.0</td>\n",
       "      <td>Bird</td>\n",
       "    </tr>\n",
       "    <tr>\n",
       "      <th>2</th>\n",
       "      <td>2019-05-01 00:01:41.247000</td>\n",
       "      <td>36.144752</td>\n",
       "      <td>-86.806293</td>\n",
       "      <td>PoweredMEJEH</td>\n",
       "      <td>90.0</td>\n",
       "      <td>Bird</td>\n",
       "    </tr>\n",
       "    <tr>\n",
       "      <th>3</th>\n",
       "      <td>2019-05-01 00:01:41.247000</td>\n",
       "      <td>36.162056</td>\n",
       "      <td>-86.774688</td>\n",
       "      <td>Powered1A7TC</td>\n",
       "      <td>88.0</td>\n",
       "      <td>Bird</td>\n",
       "    </tr>\n",
       "    <tr>\n",
       "      <th>4</th>\n",
       "      <td>2019-05-01 00:01:41.247000</td>\n",
       "      <td>36.150973</td>\n",
       "      <td>-86.783109</td>\n",
       "      <td>Powered2TYEF</td>\n",
       "      <td>98.0</td>\n",
       "      <td>Bird</td>\n",
       "    </tr>\n",
       "  </tbody>\n",
       "</table>\n",
       "</div>"
      ],
      "text/plain": [
       "                  pubdatetime   latitude  longitude        sumdid  \\\n",
       "0  2019-05-01 00:01:41.247000  36.136822 -86.799877  PoweredLIRL1   \n",
       "1  2019-05-01 00:01:41.247000  36.191252 -86.772945  PoweredXWRWC   \n",
       "2  2019-05-01 00:01:41.247000  36.144752 -86.806293  PoweredMEJEH   \n",
       "3  2019-05-01 00:01:41.247000  36.162056 -86.774688  Powered1A7TC   \n",
       "4  2019-05-01 00:01:41.247000  36.150973 -86.783109  Powered2TYEF   \n",
       "\n",
       "   chargelevel companyname  \n",
       "0         93.0        Bird  \n",
       "1         35.0        Bird  \n",
       "2         90.0        Bird  \n",
       "3         88.0        Bird  \n",
       "4         98.0        Bird  "
      ]
     },
     "execution_count": 3,
     "metadata": {},
     "output_type": "execute_result"
    }
   ],
   "source": [
    "may_df = pd.read_pickle('../data/may.pkl')\n",
    "may_df.head()"
   ]
  },
  {
   "cell_type": "code",
   "execution_count": 4,
   "id": "ec48e6db",
   "metadata": {
    "scrolled": false
   },
   "outputs": [
    {
     "data": {
      "text/html": [
       "<div>\n",
       "<style scoped>\n",
       "    .dataframe tbody tr th:only-of-type {\n",
       "        vertical-align: middle;\n",
       "    }\n",
       "\n",
       "    .dataframe tbody tr th {\n",
       "        vertical-align: top;\n",
       "    }\n",
       "\n",
       "    .dataframe thead th {\n",
       "        text-align: right;\n",
       "    }\n",
       "</style>\n",
       "<table border=\"1\" class=\"dataframe\">\n",
       "  <thead>\n",
       "    <tr style=\"text-align: right;\">\n",
       "      <th></th>\n",
       "      <th>pubdatetime</th>\n",
       "      <th>latitude</th>\n",
       "      <th>longitude</th>\n",
       "      <th>sumdid</th>\n",
       "      <th>chargelevel</th>\n",
       "      <th>companyname</th>\n",
       "    </tr>\n",
       "  </thead>\n",
       "  <tbody>\n",
       "    <tr>\n",
       "      <th>20292498</th>\n",
       "      <td>2019-05-31 23:59:42</td>\n",
       "      <td>36.1639</td>\n",
       "      <td>-86.7823</td>\n",
       "      <td>Poweredbb60ef04-c719-597f-805f-20978964fd8c</td>\n",
       "      <td>49.0</td>\n",
       "      <td>Jump</td>\n",
       "    </tr>\n",
       "    <tr>\n",
       "      <th>20292499</th>\n",
       "      <td>2019-05-31 23:59:42</td>\n",
       "      <td>36.1606</td>\n",
       "      <td>-86.7768</td>\n",
       "      <td>Powered9f5743ed-7f81-539b-9e37-6503d54445d3</td>\n",
       "      <td>68.0</td>\n",
       "      <td>Jump</td>\n",
       "    </tr>\n",
       "    <tr>\n",
       "      <th>20292500</th>\n",
       "      <td>2019-05-31 23:59:42</td>\n",
       "      <td>36.1606</td>\n",
       "      <td>-86.7769</td>\n",
       "      <td>Powered5744d1db-3bbe-55e5-9a23-a93828ba54fc</td>\n",
       "      <td>53.0</td>\n",
       "      <td>Jump</td>\n",
       "    </tr>\n",
       "    <tr>\n",
       "      <th>20292501</th>\n",
       "      <td>2019-05-31 23:59:42</td>\n",
       "      <td>36.1624</td>\n",
       "      <td>-86.7745</td>\n",
       "      <td>Poweredad1d6d3b-162a-5bec-bffd-cac4ac8dee1c</td>\n",
       "      <td>42.0</td>\n",
       "      <td>Jump</td>\n",
       "    </tr>\n",
       "    <tr>\n",
       "      <th>20292502</th>\n",
       "      <td>2019-05-31 23:59:42</td>\n",
       "      <td>36.1519</td>\n",
       "      <td>-86.7985</td>\n",
       "      <td>Powered8505008e-97c9-5003-8975-2ea6b2634fa0</td>\n",
       "      <td>76.0</td>\n",
       "      <td>Jump</td>\n",
       "    </tr>\n",
       "  </tbody>\n",
       "</table>\n",
       "</div>"
      ],
      "text/plain": [
       "                  pubdatetime  latitude  longitude  \\\n",
       "20292498  2019-05-31 23:59:42   36.1639   -86.7823   \n",
       "20292499  2019-05-31 23:59:42   36.1606   -86.7768   \n",
       "20292500  2019-05-31 23:59:42   36.1606   -86.7769   \n",
       "20292501  2019-05-31 23:59:42   36.1624   -86.7745   \n",
       "20292502  2019-05-31 23:59:42   36.1519   -86.7985   \n",
       "\n",
       "                                               sumdid  chargelevel companyname  \n",
       "20292498  Poweredbb60ef04-c719-597f-805f-20978964fd8c         49.0        Jump  \n",
       "20292499  Powered9f5743ed-7f81-539b-9e37-6503d54445d3         68.0        Jump  \n",
       "20292500  Powered5744d1db-3bbe-55e5-9a23-a93828ba54fc         53.0        Jump  \n",
       "20292501  Poweredad1d6d3b-162a-5bec-bffd-cac4ac8dee1c         42.0        Jump  \n",
       "20292502  Powered8505008e-97c9-5003-8975-2ea6b2634fa0         76.0        Jump  "
      ]
     },
     "execution_count": 4,
     "metadata": {},
     "output_type": "execute_result"
    }
   ],
   "source": [
    "may_df.tail()"
   ]
  },
  {
   "cell_type": "markdown",
   "id": "941d1a00",
   "metadata": {},
   "source": [
    "### Check column attributes"
   ]
  },
  {
   "cell_type": "code",
   "execution_count": 5,
   "id": "d125399e",
   "metadata": {
    "scrolled": false
   },
   "outputs": [
    {
     "name": "stdout",
     "output_type": "stream",
     "text": [
      "<class 'pandas.core.frame.DataFrame'>\n",
      "Int64Index: 20283582 entries, 0 to 20292502\n",
      "Data columns (total 6 columns):\n",
      " #   Column       Dtype  \n",
      "---  ------       -----  \n",
      " 0   pubdatetime  object \n",
      " 1   latitude     float64\n",
      " 2   longitude    float64\n",
      " 3   sumdid       object \n",
      " 4   chargelevel  float64\n",
      " 5   companyname  object \n",
      "dtypes: float64(3), object(3)\n",
      "memory usage: 1.1+ GB\n"
     ]
    }
   ],
   "source": [
    "may_df.info()"
   ]
  },
  {
   "cell_type": "markdown",
   "id": "92e03550",
   "metadata": {},
   "source": [
    "### Convert pubdatetime column from string to datetime format and create weekday column"
   ]
  },
  {
   "cell_type": "code",
   "execution_count": 6,
   "id": "cbbdced5",
   "metadata": {},
   "outputs": [],
   "source": [
    "may_df['pubdatetime'] = pd.to_datetime(may_df['pubdatetime'])\n",
    "may_df['weekday'] = may_df['pubdatetime'].dt.weekday"
   ]
  },
  {
   "cell_type": "markdown",
   "id": "d6854bf4",
   "metadata": {},
   "source": [
    "### Check for null within columns"
   ]
  },
  {
   "cell_type": "code",
   "execution_count": 7,
   "id": "358fa989",
   "metadata": {
    "scrolled": true
   },
   "outputs": [
    {
     "data": {
      "text/plain": [
       "pubdatetime      0\n",
       "latitude         0\n",
       "longitude        0\n",
       "sumdid           0\n",
       "chargelevel    283\n",
       "companyname      0\n",
       "weekday          0\n",
       "dtype: int64"
      ]
     },
     "execution_count": 7,
     "metadata": {},
     "output_type": "execute_result"
    }
   ],
   "source": [
    "may_df.isnull().sum()"
   ]
  },
  {
   "cell_type": "markdown",
   "id": "e29e80b1",
   "metadata": {},
   "source": [
    "### Drop nulls from chargelevel column"
   ]
  },
  {
   "cell_type": "code",
   "execution_count": 8,
   "id": "f43d8a9d",
   "metadata": {},
   "outputs": [
    {
     "data": {
      "text/plain": [
       "pubdatetime    0\n",
       "latitude       0\n",
       "longitude      0\n",
       "sumdid         0\n",
       "chargelevel    0\n",
       "companyname    0\n",
       "weekday        0\n",
       "dtype: int64"
      ]
     },
     "execution_count": 8,
     "metadata": {},
     "output_type": "execute_result"
    }
   ],
   "source": [
    "may_df.dropna(subset=['chargelevel'], inplace=True)\n",
    "may_df.isnull().sum()"
   ]
  },
  {
   "cell_type": "markdown",
   "id": "fd3ce8c1",
   "metadata": {},
   "source": [
    "### Count of scooters per company"
   ]
  },
  {
   "cell_type": "code",
   "execution_count": 9,
   "id": "547e2921",
   "metadata": {
    "scrolled": true
   },
   "outputs": [
    {
     "data": {
      "text/plain": [
       "companyname\n",
       "Gotcha     223\n",
       "Bolt       346\n",
       "Spin       685\n",
       "Jump       976\n",
       "Lyft      1376\n",
       "Lime      1631\n",
       "Bird      3064\n",
       "Name: sumdid, dtype: int64"
      ]
     },
     "execution_count": 9,
     "metadata": {},
     "output_type": "execute_result"
    }
   ],
   "source": [
    "may_co_cnt = may_df.groupby(['companyname'])['sumdid'].nunique().sort_values()\n",
    "may_co_cnt"
   ]
  },
  {
   "cell_type": "code",
   "execution_count": 10,
   "id": "fb240b68",
   "metadata": {
    "scrolled": false
   },
   "outputs": [
    {
     "data": {
      "image/png": "[encoded data removed]",
      "text/plain": [
       "<Figure size 432x288 with 1 Axes>"
      ]
     },
     "metadata": {
      "needs_background": "light"
     },
     "output_type": "display_data"
    }
   ],
   "source": [
    "may_co_bar = may_co_cnt.plot.bar('companyname', 'sumdid', rot=30, title='May 2019 Scooters').set_ylabel('count')"
   ]
  },
  {
   "cell_type": "markdown",
   "id": "a5da8a2c",
   "metadata": {},
   "source": [
    "### Check for dups within sumdid"
   ]
  },
  {
   "cell_type": "code",
   "execution_count": 11,
   "id": "2073bc2e",
   "metadata": {},
   "outputs": [
    {
     "data": {
      "text/plain": [
       "8301"
      ]
     },
     "execution_count": 11,
     "metadata": {},
     "output_type": "execute_result"
    }
   ],
   "source": [
    "may_df.sumdid.nunique()"
   ]
  },
  {
   "cell_type": "code",
   "execution_count": 12,
   "id": "28934847",
   "metadata": {
    "scrolled": true
   },
   "outputs": [
    {
     "data": {
      "text/html": [
       "<div>\n",
       "<style scoped>\n",
       "    .dataframe tbody tr th:only-of-type {\n",
       "        vertical-align: middle;\n",
       "    }\n",
       "\n",
       "    .dataframe tbody tr th {\n",
       "        vertical-align: top;\n",
       "    }\n",
       "\n",
       "    .dataframe thead th {\n",
       "        text-align: right;\n",
       "    }\n",
       "</style>\n",
       "<table border=\"1\" class=\"dataframe\">\n",
       "  <thead>\n",
       "    <tr style=\"text-align: right;\">\n",
       "      <th></th>\n",
       "      <th>sumdid</th>\n",
       "      <th>companyname</th>\n",
       "    </tr>\n",
       "  </thead>\n",
       "  <tbody>\n",
       "    <tr>\n",
       "      <th>count</th>\n",
       "      <td>20283299</td>\n",
       "      <td>20283299</td>\n",
       "    </tr>\n",
       "    <tr>\n",
       "      <th>unique</th>\n",
       "      <td>8301</td>\n",
       "      <td>7</td>\n",
       "    </tr>\n",
       "    <tr>\n",
       "      <th>top</th>\n",
       "      <td>PoweredIE7H5RIN474PE</td>\n",
       "      <td>Lime</td>\n",
       "    </tr>\n",
       "    <tr>\n",
       "      <th>freq</th>\n",
       "      <td>8921</td>\n",
       "      <td>7111655</td>\n",
       "    </tr>\n",
       "  </tbody>\n",
       "</table>\n",
       "</div>"
      ],
      "text/plain": [
       "                      sumdid companyname\n",
       "count               20283299    20283299\n",
       "unique                  8301           7\n",
       "top     PoweredIE7H5RIN474PE        Lime\n",
       "freq                    8921     7111655"
      ]
     },
     "execution_count": 12,
     "metadata": {},
     "output_type": "execute_result"
    }
   ],
   "source": [
    "may_df.describe(include='O') # may not be useful"
   ]
  },
  {
   "cell_type": "markdown",
   "id": "9043f31c",
   "metadata": {},
   "source": [
    "### Round latitude and longitude"
   ]
  },
  {
   "cell_type": "code",
   "execution_count": 13,
   "id": "4a76264a",
   "metadata": {},
   "outputs": [],
   "source": [
    "may_df = may_df.round({'latitude': 3})\n",
    "\n",
    "may_df = may_df.round({'longitude': 3})"
   ]
  },
  {
   "cell_type": "markdown",
   "id": "f2a67246",
   "metadata": {},
   "source": [
    "### Sort dataframes by sumdid and pubdatetime"
   ]
  },
  {
   "cell_type": "code",
   "execution_count": 14,
   "id": "37ba6186",
   "metadata": {
    "scrolled": true
   },
   "outputs": [
    {
     "data": {
      "text/html": [
       "<div>\n",
       "<style scoped>\n",
       "    .dataframe tbody tr th:only-of-type {\n",
       "        vertical-align: middle;\n",
       "    }\n",
       "\n",
       "    .dataframe tbody tr th {\n",
       "        vertical-align: top;\n",
       "    }\n",
       "\n",
       "    .dataframe thead th {\n",
       "        text-align: right;\n",
       "    }\n",
       "</style>\n",
       "<table border=\"1\" class=\"dataframe\">\n",
       "  <thead>\n",
       "    <tr style=\"text-align: right;\">\n",
       "      <th></th>\n",
       "      <th>pubdatetime</th>\n",
       "      <th>latitude</th>\n",
       "      <th>longitude</th>\n",
       "      <th>sumdid</th>\n",
       "      <th>chargelevel</th>\n",
       "      <th>companyname</th>\n",
       "      <th>weekday</th>\n",
       "    </tr>\n",
       "  </thead>\n",
       "  <tbody>\n",
       "    <tr>\n",
       "      <th>12757337</th>\n",
       "      <td>2019-05-24 00:04:42</td>\n",
       "      <td>36.162</td>\n",
       "      <td>-86.775</td>\n",
       "      <td>Powered-017d3133-f14a-2b83-ee4f-d777e7c5b619</td>\n",
       "      <td>100.0</td>\n",
       "      <td>Bolt</td>\n",
       "      <td>4</td>\n",
       "    </tr>\n",
       "    <tr>\n",
       "      <th>12761150</th>\n",
       "      <td>2019-05-24 00:09:42</td>\n",
       "      <td>36.162</td>\n",
       "      <td>-86.775</td>\n",
       "      <td>Powered-017d3133-f14a-2b83-ee4f-d777e7c5b619</td>\n",
       "      <td>100.0</td>\n",
       "      <td>Bolt</td>\n",
       "      <td>4</td>\n",
       "    </tr>\n",
       "    <tr>\n",
       "      <th>12765093</th>\n",
       "      <td>2019-05-24 00:14:42</td>\n",
       "      <td>36.162</td>\n",
       "      <td>-86.775</td>\n",
       "      <td>Powered-017d3133-f14a-2b83-ee4f-d777e7c5b619</td>\n",
       "      <td>100.0</td>\n",
       "      <td>Bolt</td>\n",
       "      <td>4</td>\n",
       "    </tr>\n",
       "    <tr>\n",
       "      <th>12769113</th>\n",
       "      <td>2019-05-24 00:19:42</td>\n",
       "      <td>36.162</td>\n",
       "      <td>-86.775</td>\n",
       "      <td>Powered-017d3133-f14a-2b83-ee4f-d777e7c5b619</td>\n",
       "      <td>100.0</td>\n",
       "      <td>Bolt</td>\n",
       "      <td>4</td>\n",
       "    </tr>\n",
       "    <tr>\n",
       "      <th>12773048</th>\n",
       "      <td>2019-05-24 00:24:43</td>\n",
       "      <td>36.162</td>\n",
       "      <td>-86.775</td>\n",
       "      <td>Powered-017d3133-f14a-2b83-ee4f-d777e7c5b619</td>\n",
       "      <td>100.0</td>\n",
       "      <td>Bolt</td>\n",
       "      <td>4</td>\n",
       "    </tr>\n",
       "  </tbody>\n",
       "</table>\n",
       "</div>"
      ],
      "text/plain": [
       "                 pubdatetime  latitude  longitude  \\\n",
       "12757337 2019-05-24 00:04:42    36.162    -86.775   \n",
       "12761150 2019-05-24 00:09:42    36.162    -86.775   \n",
       "12765093 2019-05-24 00:14:42    36.162    -86.775   \n",
       "12769113 2019-05-24 00:19:42    36.162    -86.775   \n",
       "12773048 2019-05-24 00:24:43    36.162    -86.775   \n",
       "\n",
       "                                                sumdid  chargelevel  \\\n",
       "12757337  Powered-017d3133-f14a-2b83-ee4f-d777e7c5b619        100.0   \n",
       "12761150  Powered-017d3133-f14a-2b83-ee4f-d777e7c5b619        100.0   \n",
       "12765093  Powered-017d3133-f14a-2b83-ee4f-d777e7c5b619        100.0   \n",
       "12769113  Powered-017d3133-f14a-2b83-ee4f-d777e7c5b619        100.0   \n",
       "12773048  Powered-017d3133-f14a-2b83-ee4f-d777e7c5b619        100.0   \n",
       "\n",
       "         companyname  weekday  \n",
       "12757337        Bolt        4  \n",
       "12761150        Bolt        4  \n",
       "12765093        Bolt        4  \n",
       "12769113        Bolt        4  \n",
       "12773048        Bolt        4  "
      ]
     },
     "execution_count": 14,
     "metadata": {},
     "output_type": "execute_result"
    }
   ],
   "source": [
    "may_df.sort_values(by=['sumdid','pubdatetime'], inplace=True)\n",
    "may_df.head()"
   ]
  },
  {
   "cell_type": "markdown",
   "id": "dc9650d2",
   "metadata": {},
   "source": [
    "### Find when scooter is taken on a trip"
   ]
  },
  {
   "cell_type": "code",
   "execution_count": 15,
   "id": "1a157fed",
   "metadata": {
    "scrolled": true
   },
   "outputs": [
    {
     "data": {
      "text/html": [
       "<div>\n",
       "<style scoped>\n",
       "    .dataframe tbody tr th:only-of-type {\n",
       "        vertical-align: middle;\n",
       "    }\n",
       "\n",
       "    .dataframe tbody tr th {\n",
       "        vertical-align: top;\n",
       "    }\n",
       "\n",
       "    .dataframe thead th {\n",
       "        text-align: right;\n",
       "    }\n",
       "</style>\n",
       "<table border=\"1\" class=\"dataframe\">\n",
       "  <thead>\n",
       "    <tr style=\"text-align: right;\">\n",
       "      <th></th>\n",
       "      <th>pubdatetime</th>\n",
       "      <th>latitude</th>\n",
       "      <th>longitude</th>\n",
       "      <th>sumdid</th>\n",
       "      <th>chargelevel</th>\n",
       "      <th>companyname</th>\n",
       "      <th>weekday</th>\n",
       "      <th>prv_latitude</th>\n",
       "      <th>prv_longitude</th>\n",
       "      <th>nxt_latitude</th>\n",
       "      <th>nxt_longitude</th>\n",
       "      <th>dff_prv_latitude</th>\n",
       "      <th>dff_prv_longitude</th>\n",
       "      <th>dff_nxt_latitude</th>\n",
       "      <th>dff_nxt_longitude</th>\n",
       "    </tr>\n",
       "  </thead>\n",
       "  <tbody>\n",
       "    <tr>\n",
       "      <th>12757337</th>\n",
       "      <td>2019-05-24 00:04:42</td>\n",
       "      <td>36.162</td>\n",
       "      <td>-86.775</td>\n",
       "      <td>Powered-017d3133-f14a-2b83-ee4f-d777e7c5b619</td>\n",
       "      <td>100.0</td>\n",
       "      <td>Bolt</td>\n",
       "      <td>4</td>\n",
       "      <td>NaN</td>\n",
       "      <td>NaN</td>\n",
       "      <td>36.162</td>\n",
       "      <td>-86.775</td>\n",
       "      <td>NaN</td>\n",
       "      <td>NaN</td>\n",
       "      <td>0.0</td>\n",
       "      <td>0.0</td>\n",
       "    </tr>\n",
       "    <tr>\n",
       "      <th>12761150</th>\n",
       "      <td>2019-05-24 00:09:42</td>\n",
       "      <td>36.162</td>\n",
       "      <td>-86.775</td>\n",
       "      <td>Powered-017d3133-f14a-2b83-ee4f-d777e7c5b619</td>\n",
       "      <td>100.0</td>\n",
       "      <td>Bolt</td>\n",
       "      <td>4</td>\n",
       "      <td>36.162</td>\n",
       "      <td>-86.775</td>\n",
       "      <td>36.162</td>\n",
       "      <td>-86.775</td>\n",
       "      <td>0.0</td>\n",
       "      <td>0.0</td>\n",
       "      <td>0.0</td>\n",
       "      <td>0.0</td>\n",
       "    </tr>\n",
       "    <tr>\n",
       "      <th>12765093</th>\n",
       "      <td>2019-05-24 00:14:42</td>\n",
       "      <td>36.162</td>\n",
       "      <td>-86.775</td>\n",
       "      <td>Powered-017d3133-f14a-2b83-ee4f-d777e7c5b619</td>\n",
       "      <td>100.0</td>\n",
       "      <td>Bolt</td>\n",
       "      <td>4</td>\n",
       "      <td>36.162</td>\n",
       "      <td>-86.775</td>\n",
       "      <td>36.162</td>\n",
       "      <td>-86.775</td>\n",
       "      <td>0.0</td>\n",
       "      <td>0.0</td>\n",
       "      <td>0.0</td>\n",
       "      <td>0.0</td>\n",
       "    </tr>\n",
       "    <tr>\n",
       "      <th>12769113</th>\n",
       "      <td>2019-05-24 00:19:42</td>\n",
       "      <td>36.162</td>\n",
       "      <td>-86.775</td>\n",
       "      <td>Powered-017d3133-f14a-2b83-ee4f-d777e7c5b619</td>\n",
       "      <td>100.0</td>\n",
       "      <td>Bolt</td>\n",
       "      <td>4</td>\n",
       "      <td>36.162</td>\n",
       "      <td>-86.775</td>\n",
       "      <td>36.162</td>\n",
       "      <td>-86.775</td>\n",
       "      <td>0.0</td>\n",
       "      <td>0.0</td>\n",
       "      <td>0.0</td>\n",
       "      <td>0.0</td>\n",
       "    </tr>\n",
       "    <tr>\n",
       "      <th>12773048</th>\n",
       "      <td>2019-05-24 00:24:43</td>\n",
       "      <td>36.162</td>\n",
       "      <td>-86.775</td>\n",
       "      <td>Powered-017d3133-f14a-2b83-ee4f-d777e7c5b619</td>\n",
       "      <td>100.0</td>\n",
       "      <td>Bolt</td>\n",
       "      <td>4</td>\n",
       "      <td>36.162</td>\n",
       "      <td>-86.775</td>\n",
       "      <td>36.162</td>\n",
       "      <td>-86.775</td>\n",
       "      <td>0.0</td>\n",
       "      <td>0.0</td>\n",
       "      <td>0.0</td>\n",
       "      <td>0.0</td>\n",
       "    </tr>\n",
       "  </tbody>\n",
       "</table>\n",
       "</div>"
      ],
      "text/plain": [
       "                 pubdatetime  latitude  longitude  \\\n",
       "12757337 2019-05-24 00:04:42    36.162    -86.775   \n",
       "12761150 2019-05-24 00:09:42    36.162    -86.775   \n",
       "12765093 2019-05-24 00:14:42    36.162    -86.775   \n",
       "12769113 2019-05-24 00:19:42    36.162    -86.775   \n",
       "12773048 2019-05-24 00:24:43    36.162    -86.775   \n",
       "\n",
       "                                                sumdid  chargelevel  \\\n",
       "12757337  Powered-017d3133-f14a-2b83-ee4f-d777e7c5b619        100.0   \n",
       "12761150  Powered-017d3133-f14a-2b83-ee4f-d777e7c5b619        100.0   \n",
       "12765093  Powered-017d3133-f14a-2b83-ee4f-d777e7c5b619        100.0   \n",
       "12769113  Powered-017d3133-f14a-2b83-ee4f-d777e7c5b619        100.0   \n",
       "12773048  Powered-017d3133-f14a-2b83-ee4f-d777e7c5b619        100.0   \n",
       "\n",
       "         companyname  weekday  prv_latitude  prv_longitude  nxt_latitude  \\\n",
       "12757337        Bolt        4           NaN            NaN        36.162   \n",
       "12761150        Bolt        4        36.162        -86.775        36.162   \n",
       "12765093        Bolt        4        36.162        -86.775        36.162   \n",
       "12769113        Bolt        4        36.162        -86.775        36.162   \n",
       "12773048        Bolt        4        36.162        -86.775        36.162   \n",
       "\n",
       "          nxt_longitude  dff_prv_latitude  dff_prv_longitude  \\\n",
       "12757337        -86.775               NaN                NaN   \n",
       "12761150        -86.775               0.0                0.0   \n",
       "12765093        -86.775               0.0                0.0   \n",
       "12769113        -86.775               0.0                0.0   \n",
       "12773048        -86.775               0.0                0.0   \n",
       "\n",
       "          dff_nxt_latitude  dff_nxt_longitude  \n",
       "12757337               0.0                0.0  \n",
       "12761150               0.0                0.0  \n",
       "12765093               0.0                0.0  \n",
       "12769113               0.0                0.0  \n",
       "12773048               0.0                0.0  "
      ]
     },
     "execution_count": 15,
     "metadata": {},
     "output_type": "execute_result"
    }
   ],
   "source": [
    "may_df['prv_latitude'] = may_df.groupby(['sumdid'])['latitude'].shift(1)\n",
    "may_df['prv_longitude'] = may_df.groupby(['sumdid'])['longitude'].shift(1)\n",
    "may_df['nxt_latitude'] = may_df.groupby(['sumdid'])['latitude'].shift(-1)\n",
    "may_df['nxt_longitude'] = may_df.groupby(['sumdid'])['longitude'].shift(-1)\n",
    "may_df['dff_prv_latitude'] = may_df['prv_latitude'] - may_df['latitude']\n",
    "may_df['dff_prv_longitude'] = may_df['prv_longitude'] - may_df['longitude']\n",
    "may_df['dff_nxt_latitude'] = may_df['latitude'] - may_df['nxt_latitude']\n",
    "may_df['dff_nxt_longitude'] = may_df['longitude'] - may_df['nxt_longitude']\n",
    "may_df.head()"
   ]
  },
  {
   "cell_type": "markdown",
   "id": "025eef2c",
   "metadata": {},
   "source": [
    "### Calculate how long scooter is unused"
   ]
  },
  {
   "cell_type": "code",
   "execution_count": 16,
   "id": "054426e4",
   "metadata": {
    "scrolled": true
   },
   "outputs": [
    {
     "data": {
      "text/html": [
       "<div>\n",
       "<style scoped>\n",
       "    .dataframe tbody tr th:only-of-type {\n",
       "        vertical-align: middle;\n",
       "    }\n",
       "\n",
       "    .dataframe tbody tr th {\n",
       "        vertical-align: top;\n",
       "    }\n",
       "\n",
       "    .dataframe thead th {\n",
       "        text-align: right;\n",
       "    }\n",
       "</style>\n",
       "<table border=\"1\" class=\"dataframe\">\n",
       "  <thead>\n",
       "    <tr style=\"text-align: right;\">\n",
       "      <th></th>\n",
       "      <th>pubdatetime</th>\n",
       "      <th>latitude</th>\n",
       "      <th>longitude</th>\n",
       "      <th>sumdid</th>\n",
       "      <th>chargelevel</th>\n",
       "      <th>companyname</th>\n",
       "      <th>weekday</th>\n",
       "      <th>prv_latitude</th>\n",
       "      <th>prv_longitude</th>\n",
       "      <th>nxt_latitude</th>\n",
       "      <th>nxt_longitude</th>\n",
       "      <th>dff_prv_latitude</th>\n",
       "      <th>dff_prv_longitude</th>\n",
       "      <th>dff_nxt_latitude</th>\n",
       "      <th>dff_nxt_longitude</th>\n",
       "      <th>shft_time</th>\n",
       "      <th>shft_elaspe_time</th>\n",
       "      <th>dff_time</th>\n",
       "    </tr>\n",
       "  </thead>\n",
       "  <tbody>\n",
       "    <tr>\n",
       "      <th>12757337</th>\n",
       "      <td>2019-05-24 00:04:42</td>\n",
       "      <td>36.162</td>\n",
       "      <td>-86.775</td>\n",
       "      <td>Powered-017d3133-f14a-2b83-ee4f-d777e7c5b619</td>\n",
       "      <td>100.0</td>\n",
       "      <td>Bolt</td>\n",
       "      <td>4</td>\n",
       "      <td>NaN</td>\n",
       "      <td>NaN</td>\n",
       "      <td>36.162</td>\n",
       "      <td>-86.775</td>\n",
       "      <td>NaN</td>\n",
       "      <td>NaN</td>\n",
       "      <td>0.0</td>\n",
       "      <td>0.0</td>\n",
       "      <td>2019-05-24 00:09:42</td>\n",
       "      <td>0 days 00:05:00</td>\n",
       "      <td>0 days 00:00:00</td>\n",
       "    </tr>\n",
       "    <tr>\n",
       "      <th>12761150</th>\n",
       "      <td>2019-05-24 00:09:42</td>\n",
       "      <td>36.162</td>\n",
       "      <td>-86.775</td>\n",
       "      <td>Powered-017d3133-f14a-2b83-ee4f-d777e7c5b619</td>\n",
       "      <td>100.0</td>\n",
       "      <td>Bolt</td>\n",
       "      <td>4</td>\n",
       "      <td>36.162</td>\n",
       "      <td>-86.775</td>\n",
       "      <td>36.162</td>\n",
       "      <td>-86.775</td>\n",
       "      <td>0.0</td>\n",
       "      <td>0.0</td>\n",
       "      <td>0.0</td>\n",
       "      <td>0.0</td>\n",
       "      <td>2019-05-24 00:14:42</td>\n",
       "      <td>0 days 00:05:00</td>\n",
       "      <td>0 days 00:05:00</td>\n",
       "    </tr>\n",
       "    <tr>\n",
       "      <th>12765093</th>\n",
       "      <td>2019-05-24 00:14:42</td>\n",
       "      <td>36.162</td>\n",
       "      <td>-86.775</td>\n",
       "      <td>Powered-017d3133-f14a-2b83-ee4f-d777e7c5b619</td>\n",
       "      <td>100.0</td>\n",
       "      <td>Bolt</td>\n",
       "      <td>4</td>\n",
       "      <td>36.162</td>\n",
       "      <td>-86.775</td>\n",
       "      <td>36.162</td>\n",
       "      <td>-86.775</td>\n",
       "      <td>0.0</td>\n",
       "      <td>0.0</td>\n",
       "      <td>0.0</td>\n",
       "      <td>0.0</td>\n",
       "      <td>2019-05-24 00:19:42</td>\n",
       "      <td>0 days 00:05:00</td>\n",
       "      <td>0 days 00:05:00</td>\n",
       "    </tr>\n",
       "    <tr>\n",
       "      <th>12769113</th>\n",
       "      <td>2019-05-24 00:19:42</td>\n",
       "      <td>36.162</td>\n",
       "      <td>-86.775</td>\n",
       "      <td>Powered-017d3133-f14a-2b83-ee4f-d777e7c5b619</td>\n",
       "      <td>100.0</td>\n",
       "      <td>Bolt</td>\n",
       "      <td>4</td>\n",
       "      <td>36.162</td>\n",
       "      <td>-86.775</td>\n",
       "      <td>36.162</td>\n",
       "      <td>-86.775</td>\n",
       "      <td>0.0</td>\n",
       "      <td>0.0</td>\n",
       "      <td>0.0</td>\n",
       "      <td>0.0</td>\n",
       "      <td>2019-05-24 00:24:43</td>\n",
       "      <td>0 days 00:05:01</td>\n",
       "      <td>0 days 00:05:00</td>\n",
       "    </tr>\n",
       "    <tr>\n",
       "      <th>12773048</th>\n",
       "      <td>2019-05-24 00:24:43</td>\n",
       "      <td>36.162</td>\n",
       "      <td>-86.775</td>\n",
       "      <td>Powered-017d3133-f14a-2b83-ee4f-d777e7c5b619</td>\n",
       "      <td>100.0</td>\n",
       "      <td>Bolt</td>\n",
       "      <td>4</td>\n",
       "      <td>36.162</td>\n",
       "      <td>-86.775</td>\n",
       "      <td>36.162</td>\n",
       "      <td>-86.775</td>\n",
       "      <td>0.0</td>\n",
       "      <td>0.0</td>\n",
       "      <td>0.0</td>\n",
       "      <td>0.0</td>\n",
       "      <td>2019-05-24 00:29:43</td>\n",
       "      <td>0 days 00:05:00</td>\n",
       "      <td>0 days 00:05:01</td>\n",
       "    </tr>\n",
       "  </tbody>\n",
       "</table>\n",
       "</div>"
      ],
      "text/plain": [
       "                 pubdatetime  latitude  longitude  \\\n",
       "12757337 2019-05-24 00:04:42    36.162    -86.775   \n",
       "12761150 2019-05-24 00:09:42    36.162    -86.775   \n",
       "12765093 2019-05-24 00:14:42    36.162    -86.775   \n",
       "12769113 2019-05-24 00:19:42    36.162    -86.775   \n",
       "12773048 2019-05-24 00:24:43    36.162    -86.775   \n",
       "\n",
       "                                                sumdid  chargelevel  \\\n",
       "12757337  Powered-017d3133-f14a-2b83-ee4f-d777e7c5b619        100.0   \n",
       "12761150  Powered-017d3133-f14a-2b83-ee4f-d777e7c5b619        100.0   \n",
       "12765093  Powered-017d3133-f14a-2b83-ee4f-d777e7c5b619        100.0   \n",
       "12769113  Powered-017d3133-f14a-2b83-ee4f-d777e7c5b619        100.0   \n",
       "12773048  Powered-017d3133-f14a-2b83-ee4f-d777e7c5b619        100.0   \n",
       "\n",
       "         companyname  weekday  prv_latitude  prv_longitude  nxt_latitude  \\\n",
       "12757337        Bolt        4           NaN            NaN        36.162   \n",
       "12761150        Bolt        4        36.162        -86.775        36.162   \n",
       "12765093        Bolt        4        36.162        -86.775        36.162   \n",
       "12769113        Bolt        4        36.162        -86.775        36.162   \n",
       "12773048        Bolt        4        36.162        -86.775        36.162   \n",
       "\n",
       "          nxt_longitude  dff_prv_latitude  dff_prv_longitude  \\\n",
       "12757337        -86.775               NaN                NaN   \n",
       "12761150        -86.775               0.0                0.0   \n",
       "12765093        -86.775               0.0                0.0   \n",
       "12769113        -86.775               0.0                0.0   \n",
       "12773048        -86.775               0.0                0.0   \n",
       "\n",
       "          dff_nxt_latitude  dff_nxt_longitude           shft_time  \\\n",
       "12757337               0.0                0.0 2019-05-24 00:09:42   \n",
       "12761150               0.0                0.0 2019-05-24 00:14:42   \n",
       "12765093               0.0                0.0 2019-05-24 00:19:42   \n",
       "12769113               0.0                0.0 2019-05-24 00:24:43   \n",
       "12773048               0.0                0.0 2019-05-24 00:29:43   \n",
       "\n",
       "         shft_elaspe_time        dff_time  \n",
       "12757337  0 days 00:05:00 0 days 00:00:00  \n",
       "12761150  0 days 00:05:00 0 days 00:05:00  \n",
       "12765093  0 days 00:05:00 0 days 00:05:00  \n",
       "12769113  0 days 00:05:01 0 days 00:05:00  \n",
       "12773048  0 days 00:05:00 0 days 00:05:01  "
      ]
     },
     "execution_count": 16,
     "metadata": {},
     "output_type": "execute_result"
    }
   ],
   "source": [
    "may_df['shft_time'] = may_df.groupby(['sumdid'])['pubdatetime'].shift(-1)\n",
    "may_df['shft_elaspe_time'] = may_df['shft_time'] - may_df['pubdatetime']\n",
    "may_df['dff_time'] = may_df.groupby(['latitude', 'longitude'])['pubdatetime'].diff().fillna(pd.Timedelta(0))\n",
    "may_df.head()"
   ]
  },
  {
   "cell_type": "markdown",
   "id": "daeee56d",
   "metadata": {},
   "source": [
    "### Reorganize columns"
   ]
  },
  {
   "cell_type": "code",
   "execution_count": 17,
   "id": "cec9018f",
   "metadata": {
    "scrolled": true
   },
   "outputs": [
    {
     "data": {
      "text/html": [
       "<div>\n",
       "<style scoped>\n",
       "    .dataframe tbody tr th:only-of-type {\n",
       "        vertical-align: middle;\n",
       "    }\n",
       "\n",
       "    .dataframe tbody tr th {\n",
       "        vertical-align: top;\n",
       "    }\n",
       "\n",
       "    .dataframe thead th {\n",
       "        text-align: right;\n",
       "    }\n",
       "</style>\n",
       "<table border=\"1\" class=\"dataframe\">\n",
       "  <thead>\n",
       "    <tr style=\"text-align: right;\">\n",
       "      <th></th>\n",
       "      <th>pubdatetime</th>\n",
       "      <th>dff_time</th>\n",
       "      <th>shft_time</th>\n",
       "      <th>shft_elaspe_time</th>\n",
       "      <th>weekday</th>\n",
       "      <th>latitude</th>\n",
       "      <th>longitude</th>\n",
       "      <th>prv_latitude</th>\n",
       "      <th>prv_longitude</th>\n",
       "      <th>nxt_latitude</th>\n",
       "      <th>nxt_longitude</th>\n",
       "      <th>dff_prv_latitude</th>\n",
       "      <th>dff_prv_longitude</th>\n",
       "      <th>dff_nxt_latitude</th>\n",
       "      <th>dff_nxt_longitude</th>\n",
       "      <th>sumdid</th>\n",
       "      <th>chargelevel</th>\n",
       "      <th>companyname</th>\n",
       "    </tr>\n",
       "  </thead>\n",
       "  <tbody>\n",
       "    <tr>\n",
       "      <th>12757337</th>\n",
       "      <td>2019-05-24 00:04:42</td>\n",
       "      <td>0 days 00:00:00</td>\n",
       "      <td>2019-05-24 00:09:42</td>\n",
       "      <td>0 days 00:05:00</td>\n",
       "      <td>4</td>\n",
       "      <td>36.162</td>\n",
       "      <td>-86.775</td>\n",
       "      <td>NaN</td>\n",
       "      <td>NaN</td>\n",
       "      <td>36.162</td>\n",
       "      <td>-86.775</td>\n",
       "      <td>NaN</td>\n",
       "      <td>NaN</td>\n",
       "      <td>0.0</td>\n",
       "      <td>0.0</td>\n",
       "      <td>Powered-017d3133-f14a-2b83-ee4f-d777e7c5b619</td>\n",
       "      <td>100.0</td>\n",
       "      <td>Bolt</td>\n",
       "    </tr>\n",
       "    <tr>\n",
       "      <th>12761150</th>\n",
       "      <td>2019-05-24 00:09:42</td>\n",
       "      <td>0 days 00:05:00</td>\n",
       "      <td>2019-05-24 00:14:42</td>\n",
       "      <td>0 days 00:05:00</td>\n",
       "      <td>4</td>\n",
       "      <td>36.162</td>\n",
       "      <td>-86.775</td>\n",
       "      <td>36.162</td>\n",
       "      <td>-86.775</td>\n",
       "      <td>36.162</td>\n",
       "      <td>-86.775</td>\n",
       "      <td>0.0</td>\n",
       "      <td>0.0</td>\n",
       "      <td>0.0</td>\n",
       "      <td>0.0</td>\n",
       "      <td>Powered-017d3133-f14a-2b83-ee4f-d777e7c5b619</td>\n",
       "      <td>100.0</td>\n",
       "      <td>Bolt</td>\n",
       "    </tr>\n",
       "    <tr>\n",
       "      <th>12765093</th>\n",
       "      <td>2019-05-24 00:14:42</td>\n",
       "      <td>0 days 00:05:00</td>\n",
       "      <td>2019-05-24 00:19:42</td>\n",
       "      <td>0 days 00:05:00</td>\n",
       "      <td>4</td>\n",
       "      <td>36.162</td>\n",
       "      <td>-86.775</td>\n",
       "      <td>36.162</td>\n",
       "      <td>-86.775</td>\n",
       "      <td>36.162</td>\n",
       "      <td>-86.775</td>\n",
       "      <td>0.0</td>\n",
       "      <td>0.0</td>\n",
       "      <td>0.0</td>\n",
       "      <td>0.0</td>\n",
       "      <td>Powered-017d3133-f14a-2b83-ee4f-d777e7c5b619</td>\n",
       "      <td>100.0</td>\n",
       "      <td>Bolt</td>\n",
       "    </tr>\n",
       "    <tr>\n",
       "      <th>12769113</th>\n",
       "      <td>2019-05-24 00:19:42</td>\n",
       "      <td>0 days 00:05:00</td>\n",
       "      <td>2019-05-24 00:24:43</td>\n",
       "      <td>0 days 00:05:01</td>\n",
       "      <td>4</td>\n",
       "      <td>36.162</td>\n",
       "      <td>-86.775</td>\n",
       "      <td>36.162</td>\n",
       "      <td>-86.775</td>\n",
       "      <td>36.162</td>\n",
       "      <td>-86.775</td>\n",
       "      <td>0.0</td>\n",
       "      <td>0.0</td>\n",
       "      <td>0.0</td>\n",
       "      <td>0.0</td>\n",
       "      <td>Powered-017d3133-f14a-2b83-ee4f-d777e7c5b619</td>\n",
       "      <td>100.0</td>\n",
       "      <td>Bolt</td>\n",
       "    </tr>\n",
       "    <tr>\n",
       "      <th>12773048</th>\n",
       "      <td>2019-05-24 00:24:43</td>\n",
       "      <td>0 days 00:05:01</td>\n",
       "      <td>2019-05-24 00:29:43</td>\n",
       "      <td>0 days 00:05:00</td>\n",
       "      <td>4</td>\n",
       "      <td>36.162</td>\n",
       "      <td>-86.775</td>\n",
       "      <td>36.162</td>\n",
       "      <td>-86.775</td>\n",
       "      <td>36.162</td>\n",
       "      <td>-86.775</td>\n",
       "      <td>0.0</td>\n",
       "      <td>0.0</td>\n",
       "      <td>0.0</td>\n",
       "      <td>0.0</td>\n",
       "      <td>Powered-017d3133-f14a-2b83-ee4f-d777e7c5b619</td>\n",
       "      <td>100.0</td>\n",
       "      <td>Bolt</td>\n",
       "    </tr>\n",
       "  </tbody>\n",
       "</table>\n",
       "</div>"
      ],
      "text/plain": [
       "                 pubdatetime        dff_time           shft_time  \\\n",
       "12757337 2019-05-24 00:04:42 0 days 00:00:00 2019-05-24 00:09:42   \n",
       "12761150 2019-05-24 00:09:42 0 days 00:05:00 2019-05-24 00:14:42   \n",
       "12765093 2019-05-24 00:14:42 0 days 00:05:00 2019-05-24 00:19:42   \n",
       "12769113 2019-05-24 00:19:42 0 days 00:05:00 2019-05-24 00:24:43   \n",
       "12773048 2019-05-24 00:24:43 0 days 00:05:01 2019-05-24 00:29:43   \n",
       "\n",
       "         shft_elaspe_time  weekday  latitude  longitude  prv_latitude  \\\n",
       "12757337  0 days 00:05:00        4    36.162    -86.775           NaN   \n",
       "12761150  0 days 00:05:00        4    36.162    -86.775        36.162   \n",
       "12765093  0 days 00:05:00        4    36.162    -86.775        36.162   \n",
       "12769113  0 days 00:05:01        4    36.162    -86.775        36.162   \n",
       "12773048  0 days 00:05:00        4    36.162    -86.775        36.162   \n",
       "\n",
       "          prv_longitude  nxt_latitude  nxt_longitude  dff_prv_latitude  \\\n",
       "12757337            NaN        36.162        -86.775               NaN   \n",
       "12761150        -86.775        36.162        -86.775               0.0   \n",
       "12765093        -86.775        36.162        -86.775               0.0   \n",
       "12769113        -86.775        36.162        -86.775               0.0   \n",
       "12773048        -86.775        36.162        -86.775               0.0   \n",
       "\n",
       "          dff_prv_longitude  dff_nxt_latitude  dff_nxt_longitude  \\\n",
       "12757337                NaN               0.0                0.0   \n",
       "12761150                0.0               0.0                0.0   \n",
       "12765093                0.0               0.0                0.0   \n",
       "12769113                0.0               0.0                0.0   \n",
       "12773048                0.0               0.0                0.0   \n",
       "\n",
       "                                                sumdid  chargelevel  \\\n",
       "12757337  Powered-017d3133-f14a-2b83-ee4f-d777e7c5b619        100.0   \n",
       "12761150  Powered-017d3133-f14a-2b83-ee4f-d777e7c5b619        100.0   \n",
       "12765093  Powered-017d3133-f14a-2b83-ee4f-d777e7c5b619        100.0   \n",
       "12769113  Powered-017d3133-f14a-2b83-ee4f-d777e7c5b619        100.0   \n",
       "12773048  Powered-017d3133-f14a-2b83-ee4f-d777e7c5b619        100.0   \n",
       "\n",
       "         companyname  \n",
       "12757337        Bolt  \n",
       "12761150        Bolt  \n",
       "12765093        Bolt  \n",
       "12769113        Bolt  \n",
       "12773048        Bolt  "
      ]
     },
     "execution_count": 17,
     "metadata": {},
     "output_type": "execute_result"
    }
   ],
   "source": [
    "may_df = may_df[['pubdatetime', 'dff_time', 'shft_time', 'shft_elaspe_time', 'weekday', 'latitude', 'longitude', 'prv_latitude', 'prv_longitude', 'nxt_latitude', 'nxt_longitude', 'dff_prv_latitude', 'dff_prv_longitude', 'dff_nxt_latitude', 'dff_nxt_longitude', 'sumdid', 'chargelevel', 'companyname']]\n",
    "may_df.head()"
   ]
  },
  {
   "cell_type": "markdown",
   "id": "13339f17",
   "metadata": {},
   "source": [
    "### Export cleaned file to pkl"
   ]
  },
  {
   "cell_type": "code",
   "execution_count": 18,
   "id": "d892b2c1",
   "metadata": {},
   "outputs": [],
   "source": [
    "may_df.to_pickle('../data/may_cleaned.pkl')"
   ]
  }
 ],
 "metadata": {
  "kernelspec": {
   "display_name": "Python 3",
   "language": "python",
   "name": "python3"
  },
  "language_info": {
   "codemirror_mode": {
    "name": "ipython",
    "version": 3
   },
   "file_extension": ".py",
   "mimetype": "text/x-python",
   "name": "python",
   "nbconvert_exporter": "python",
   "pygments_lexer": "ipython3",
   "version": "3.8.8"
  }
 },
 "nbformat": 4,
 "nbformat_minor": 5
}
