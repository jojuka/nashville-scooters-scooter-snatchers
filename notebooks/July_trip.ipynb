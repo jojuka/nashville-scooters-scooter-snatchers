{
 "cells": [
  {
   "cell_type": "code",
   "execution_count": 1,
   "id": "47b3ef1a",
   "metadata": {},
   "outputs": [],
   "source": [
    "import pandas as pd\n",
    "import pickle\n",
    "import matplotlib.pyplot as plt\n",
    "from shapely.geometry import Point\n",
    "import geopandas as gpd\n",
    "import folium\n",
    "from folium.plugins import MarkerCluster\n",
    "from folium.plugins import FastMarkerCluster\n",
    "\n",
    "%matplotlib inline"
   ]
  },
  {
   "cell_type": "code",
   "execution_count": 2,
   "id": "36affa3b",
   "metadata": {
    "scrolled": true
   },
   "outputs": [],
   "source": [
    "july_trip = pd.read_csv('../data/july_trip.csv')"
   ]
  },
  {
   "cell_type": "code",
   "execution_count": 3,
   "id": "c5766cd5",
   "metadata": {
    "scrolled": false
   },
   "outputs": [
    {
     "name": "stdout",
     "output_type": "stream",
     "text": [
      "<class 'pandas.core.frame.DataFrame'>\n",
      "RangeIndex: 134926 entries, 0 to 134925\n",
      "Data columns (total 16 columns):\n",
      " #   Column          Non-Null Count   Dtype  \n",
      "---  ------          --------------   -----  \n",
      " 0   pubTimeStamp    134926 non-null  object \n",
      " 1   companyName     134926 non-null  object \n",
      " 2   tripRecordNum   134926 non-null  object \n",
      " 3   sumdID          134926 non-null  object \n",
      " 4   tripDuration    134926 non-null  float64\n",
      " 5   tripDistance    134926 non-null  float64\n",
      " 6   startDate       134926 non-null  object \n",
      " 7   startTime       134926 non-null  object \n",
      " 8   endDate         134926 non-null  object \n",
      " 9   endTime         134926 non-null  object \n",
      " 10  startLatitude   134926 non-null  float64\n",
      " 11  startLongitude  134926 non-null  float64\n",
      " 12  endLatitude     134926 non-null  float64\n",
      " 13  endLongitude    134926 non-null  float64\n",
      " 14  tripRoute       134926 non-null  object \n",
      " 15  create_dt       134926 non-null  object \n",
      "dtypes: float64(6), object(10)\n",
      "memory usage: 16.5+ MB\n"
     ]
    }
   ],
   "source": [
    "july_trip.info()"
   ]
  },
  {
   "cell_type": "code",
   "execution_count": 4,
   "id": "15a5fbd1",
   "metadata": {
    "scrolled": false
   },
   "outputs": [],
   "source": [
    "lime = july_trip.loc[(july_trip['companyName'] == 'Lime')]\n",
    "lyft = july_trip.loc[(july_trip['companyName'] == 'Lyft')]\n",
    "bird = july_trip.loc[(july_trip['companyName'] == 'Bird')]\n",
    "spin = july_trip.loc[(july_trip['companyName'] == 'SPIN')]\n",
    "bolt = july_trip.loc[(july_trip['companyName'] == 'Bolt Mobility')]\n",
    "gotcha = july_trip.loc[(july_trip['companyName'] == 'Gotcha')]\n",
    "jump = july_trip.loc[(july_trip['companyName'] == 'JUMP')]"
   ]
  },
  {
   "cell_type": "code",
   "execution_count": 5,
   "id": "c87eb6f0",
   "metadata": {},
   "outputs": [
    {
     "data": {
      "text/plain": [
       "(38397, 16)"
      ]
     },
     "execution_count": 5,
     "metadata": {},
     "output_type": "execute_result"
    }
   ],
   "source": [
    "lime.shape"
   ]
  },
  {
   "cell_type": "code",
   "execution_count": 6,
   "id": "8d3fd315",
   "metadata": {
    "scrolled": true
   },
   "outputs": [
    {
     "data": {
      "text/html": [
       "<div>\n",
       "<style scoped>\n",
       "    .dataframe tbody tr th:only-of-type {\n",
       "        vertical-align: middle;\n",
       "    }\n",
       "\n",
       "    .dataframe tbody tr th {\n",
       "        vertical-align: top;\n",
       "    }\n",
       "\n",
       "    .dataframe thead th {\n",
       "        text-align: right;\n",
       "    }\n",
       "</style>\n",
       "<table border=\"1\" class=\"dataframe\">\n",
       "  <thead>\n",
       "    <tr style=\"text-align: right;\">\n",
       "      <th></th>\n",
       "      <th>pubTimeStamp</th>\n",
       "      <th>companyName</th>\n",
       "      <th>tripRecordNum</th>\n",
       "      <th>sumdID</th>\n",
       "      <th>tripDuration</th>\n",
       "      <th>tripDistance</th>\n",
       "      <th>startDate</th>\n",
       "      <th>startTime</th>\n",
       "      <th>endDate</th>\n",
       "      <th>endTime</th>\n",
       "      <th>startLatitude</th>\n",
       "      <th>startLongitude</th>\n",
       "      <th>endLatitude</th>\n",
       "      <th>endLongitude</th>\n",
       "      <th>tripRoute</th>\n",
       "      <th>create_dt</th>\n",
       "    </tr>\n",
       "  </thead>\n",
       "  <tbody>\n",
       "    <tr>\n",
       "      <th>5</th>\n",
       "      <td>2019-07-01 00:03:52.060000</td>\n",
       "      <td>Lyft</td>\n",
       "      <td>LFT7</td>\n",
       "      <td>Powered840423</td>\n",
       "      <td>3.716183</td>\n",
       "      <td>2375.32816</td>\n",
       "      <td>2019-07-01 00:00:00</td>\n",
       "      <td>00:00:08.963333</td>\n",
       "      <td>2019-07-01 00:00:00</td>\n",
       "      <td>00:03:51.933333</td>\n",
       "      <td>36.14933</td>\n",
       "      <td>-86.79760</td>\n",
       "      <td>36.15265</td>\n",
       "      <td>-86.79706</td>\n",
       "      <td>[[36.14933,-86.7976],[36.14942,-86.7975],[36.1...</td>\n",
       "      <td>2019-07-02 09:34:36.953000</td>\n",
       "    </tr>\n",
       "    <tr>\n",
       "      <th>10</th>\n",
       "      <td>2019-07-01 00:08:01.777000</td>\n",
       "      <td>Lyft</td>\n",
       "      <td>LFT11</td>\n",
       "      <td>Powered414680</td>\n",
       "      <td>6.297550</td>\n",
       "      <td>5488.84532</td>\n",
       "      <td>2019-07-01 00:00:00</td>\n",
       "      <td>00:01:43.776666</td>\n",
       "      <td>2019-07-01 00:00:00</td>\n",
       "      <td>00:08:01.630000</td>\n",
       "      <td>36.15249</td>\n",
       "      <td>-86.79472</td>\n",
       "      <td>36.13892</td>\n",
       "      <td>-86.80048</td>\n",
       "      <td>[[36.15249,-86.79472],[36.15235,-86.79489],[36...</td>\n",
       "      <td>2019-07-02 09:34:37.087000</td>\n",
       "    </tr>\n",
       "    <tr>\n",
       "      <th>11</th>\n",
       "      <td>2019-07-01 00:08:15.163000</td>\n",
       "      <td>Lyft</td>\n",
       "      <td>LFT12</td>\n",
       "      <td>Powered635347</td>\n",
       "      <td>6.776617</td>\n",
       "      <td>5383.85844</td>\n",
       "      <td>2019-07-01 00:00:00</td>\n",
       "      <td>00:01:28.440000</td>\n",
       "      <td>2019-07-01 00:00:00</td>\n",
       "      <td>00:08:15.036666</td>\n",
       "      <td>36.15234</td>\n",
       "      <td>-86.79483</td>\n",
       "      <td>36.13895</td>\n",
       "      <td>-86.80047</td>\n",
       "      <td>[[36.15234,-86.79483],[36.15219,-86.79494],[36...</td>\n",
       "      <td>2019-07-02 09:34:37.120000</td>\n",
       "    </tr>\n",
       "    <tr>\n",
       "      <th>12</th>\n",
       "      <td>2019-07-01 00:09:50.063000</td>\n",
       "      <td>Lyft</td>\n",
       "      <td>LFT15</td>\n",
       "      <td>Powered883367</td>\n",
       "      <td>7.443667</td>\n",
       "      <td>4379.92140</td>\n",
       "      <td>2019-07-01 00:00:00</td>\n",
       "      <td>00:02:23.333333</td>\n",
       "      <td>2019-07-01 00:00:00</td>\n",
       "      <td>00:09:49.953333</td>\n",
       "      <td>36.13676</td>\n",
       "      <td>-86.80596</td>\n",
       "      <td>36.13664</td>\n",
       "      <td>-86.80535</td>\n",
       "      <td>[[36.13676,-86.80596],[36.13695,-86.80611],[36...</td>\n",
       "      <td>2019-07-02 09:34:37.217000</td>\n",
       "    </tr>\n",
       "    <tr>\n",
       "      <th>13</th>\n",
       "      <td>2019-07-01 00:10:03.083000</td>\n",
       "      <td>Lyft</td>\n",
       "      <td>LFT16</td>\n",
       "      <td>Powered937680</td>\n",
       "      <td>1.487350</td>\n",
       "      <td>104.98688</td>\n",
       "      <td>2019-07-01 00:00:00</td>\n",
       "      <td>00:08:33.696666</td>\n",
       "      <td>2019-07-01 00:00:00</td>\n",
       "      <td>00:10:02.936666</td>\n",
       "      <td>36.14824</td>\n",
       "      <td>-86.80669</td>\n",
       "      <td>36.14834</td>\n",
       "      <td>-86.80684</td>\n",
       "      <td>[[36.14824,-86.80669],[36.1483,-86.80679],[36....</td>\n",
       "      <td>2019-07-02 09:34:37.253000</td>\n",
       "    </tr>\n",
       "  </tbody>\n",
       "</table>\n",
       "</div>"
      ],
      "text/plain": [
       "                  pubTimeStamp companyName tripRecordNum         sumdID  \\\n",
       "5   2019-07-01 00:03:52.060000        Lyft          LFT7  Powered840423   \n",
       "10  2019-07-01 00:08:01.777000        Lyft         LFT11  Powered414680   \n",
       "11  2019-07-01 00:08:15.163000        Lyft         LFT12  Powered635347   \n",
       "12  2019-07-01 00:09:50.063000        Lyft         LFT15  Powered883367   \n",
       "13  2019-07-01 00:10:03.083000        Lyft         LFT16  Powered937680   \n",
       "\n",
       "    tripDuration  tripDistance            startDate        startTime  \\\n",
       "5       3.716183    2375.32816  2019-07-01 00:00:00  00:00:08.963333   \n",
       "10      6.297550    5488.84532  2019-07-01 00:00:00  00:01:43.776666   \n",
       "11      6.776617    5383.85844  2019-07-01 00:00:00  00:01:28.440000   \n",
       "12      7.443667    4379.92140  2019-07-01 00:00:00  00:02:23.333333   \n",
       "13      1.487350     104.98688  2019-07-01 00:00:00  00:08:33.696666   \n",
       "\n",
       "                endDate          endTime  startLatitude  startLongitude  \\\n",
       "5   2019-07-01 00:00:00  00:03:51.933333       36.14933       -86.79760   \n",
       "10  2019-07-01 00:00:00  00:08:01.630000       36.15249       -86.79472   \n",
       "11  2019-07-01 00:00:00  00:08:15.036666       36.15234       -86.79483   \n",
       "12  2019-07-01 00:00:00  00:09:49.953333       36.13676       -86.80596   \n",
       "13  2019-07-01 00:00:00  00:10:02.936666       36.14824       -86.80669   \n",
       "\n",
       "    endLatitude  endLongitude  \\\n",
       "5      36.15265     -86.79706   \n",
       "10     36.13892     -86.80048   \n",
       "11     36.13895     -86.80047   \n",
       "12     36.13664     -86.80535   \n",
       "13     36.14834     -86.80684   \n",
       "\n",
       "                                            tripRoute  \\\n",
       "5   [[36.14933,-86.7976],[36.14942,-86.7975],[36.1...   \n",
       "10  [[36.15249,-86.79472],[36.15235,-86.79489],[36...   \n",
       "11  [[36.15234,-86.79483],[36.15219,-86.79494],[36...   \n",
       "12  [[36.13676,-86.80596],[36.13695,-86.80611],[36...   \n",
       "13  [[36.14824,-86.80669],[36.1483,-86.80679],[36....   \n",
       "\n",
       "                     create_dt  \n",
       "5   2019-07-02 09:34:36.953000  \n",
       "10  2019-07-02 09:34:37.087000  \n",
       "11  2019-07-02 09:34:37.120000  \n",
       "12  2019-07-02 09:34:37.217000  \n",
       "13  2019-07-02 09:34:37.253000  "
      ]
     },
     "execution_count": 6,
     "metadata": {},
     "output_type": "execute_result"
    }
   ],
   "source": [
    "lyft.head()"
   ]
  },
  {
   "cell_type": "code",
   "execution_count": 7,
   "id": "b646dbb7",
   "metadata": {},
   "outputs": [
    {
     "data": {
      "text/html": [
       "<div>\n",
       "<style scoped>\n",
       "    .dataframe tbody tr th:only-of-type {\n",
       "        vertical-align: middle;\n",
       "    }\n",
       "\n",
       "    .dataframe tbody tr th {\n",
       "        vertical-align: top;\n",
       "    }\n",
       "\n",
       "    .dataframe thead th {\n",
       "        text-align: right;\n",
       "    }\n",
       "</style>\n",
       "<table border=\"1\" class=\"dataframe\">\n",
       "  <thead>\n",
       "    <tr style=\"text-align: right;\">\n",
       "      <th></th>\n",
       "      <th>pubTimeStamp</th>\n",
       "      <th>companyName</th>\n",
       "      <th>tripRecordNum</th>\n",
       "      <th>sumdID</th>\n",
       "      <th>tripDuration</th>\n",
       "      <th>tripDistance</th>\n",
       "      <th>startDate</th>\n",
       "      <th>startTime</th>\n",
       "      <th>endDate</th>\n",
       "      <th>endTime</th>\n",
       "      <th>startLatitude</th>\n",
       "      <th>startLongitude</th>\n",
       "      <th>endLatitude</th>\n",
       "      <th>endLongitude</th>\n",
       "      <th>tripRoute</th>\n",
       "      <th>create_dt</th>\n",
       "    </tr>\n",
       "  </thead>\n",
       "  <tbody>\n",
       "    <tr>\n",
       "      <th>2994</th>\n",
       "      <td>2019-07-01 19:58:07</td>\n",
       "      <td>JUMP</td>\n",
       "      <td>JMP64</td>\n",
       "      <td>Powered7038f9f7-7285-5a3d-8635-df97d6c53c73</td>\n",
       "      <td>21.434584</td>\n",
       "      <td>12249.6</td>\n",
       "      <td>2019-07-01 00:00:00</td>\n",
       "      <td>15:08:58</td>\n",
       "      <td>2019-07-01 00:00:00</td>\n",
       "      <td>15:30:24</td>\n",
       "      <td>36.152416</td>\n",
       "      <td>-86.795006</td>\n",
       "      <td>36.152843</td>\n",
       "      <td>-86.793150</td>\n",
       "      <td>[[\"36.152333\",\"-86.7951\"],[\"36.152343\",\"-86.79...</td>\n",
       "      <td>2019-07-02 07:58:42.137000</td>\n",
       "    </tr>\n",
       "    <tr>\n",
       "      <th>2995</th>\n",
       "      <td>2019-07-01 19:58:07</td>\n",
       "      <td>JUMP</td>\n",
       "      <td>JMP68</td>\n",
       "      <td>Powered0e871aa8-de0a-5b5b-9909-333de5502aa0</td>\n",
       "      <td>21.616800</td>\n",
       "      <td>9979.2</td>\n",
       "      <td>2019-07-01 00:00:00</td>\n",
       "      <td>15:27:46</td>\n",
       "      <td>2019-07-01 00:00:00</td>\n",
       "      <td>15:49:23</td>\n",
       "      <td>36.151066</td>\n",
       "      <td>-86.804146</td>\n",
       "      <td>36.160225</td>\n",
       "      <td>-86.778080</td>\n",
       "      <td>[[\"36.151125\",\"-86.804055\"],[\"36.151103\",\"-86....</td>\n",
       "      <td>2019-07-02 07:58:42.787000</td>\n",
       "    </tr>\n",
       "    <tr>\n",
       "      <th>2996</th>\n",
       "      <td>2019-07-01 19:58:07</td>\n",
       "      <td>JUMP</td>\n",
       "      <td>JMP55</td>\n",
       "      <td>Powered3d099838-659b-5660-9463-a029ba277d63</td>\n",
       "      <td>828.387000</td>\n",
       "      <td>8236.8</td>\n",
       "      <td>2019-07-01 00:00:00</td>\n",
       "      <td>00:15:52</td>\n",
       "      <td>2019-07-01 00:00:00</td>\n",
       "      <td>14:04:15</td>\n",
       "      <td>36.164593</td>\n",
       "      <td>-86.776955</td>\n",
       "      <td>36.165330</td>\n",
       "      <td>-86.800125</td>\n",
       "      <td>[[\"36.164603\",\"-86.776953\"],[\"36.164616\",\"-86....</td>\n",
       "      <td>2019-07-02 07:58:39.650000</td>\n",
       "    </tr>\n",
       "    <tr>\n",
       "      <th>2997</th>\n",
       "      <td>2019-07-01 19:58:07</td>\n",
       "      <td>JUMP</td>\n",
       "      <td>JMP63</td>\n",
       "      <td>Powered0a80f289-6ad7-5354-ab58-0bf7bdaf8a1a</td>\n",
       "      <td>10.221517</td>\n",
       "      <td>4752.0</td>\n",
       "      <td>2019-07-01 00:00:00</td>\n",
       "      <td>15:13:55</td>\n",
       "      <td>2019-07-01 00:00:00</td>\n",
       "      <td>15:24:08</td>\n",
       "      <td>36.150417</td>\n",
       "      <td>-86.800940</td>\n",
       "      <td>36.137707</td>\n",
       "      <td>-86.800710</td>\n",
       "      <td>[[\"36.150418\",\"-86.80094\"],[\"36.150465\",\"-86.8...</td>\n",
       "      <td>2019-07-02 07:58:41.847000</td>\n",
       "    </tr>\n",
       "    <tr>\n",
       "      <th>2998</th>\n",
       "      <td>2019-07-01 19:58:07</td>\n",
       "      <td>JUMP</td>\n",
       "      <td>JMP62</td>\n",
       "      <td>Powerede90c6861-15dd-5072-bd69-60aad4262311</td>\n",
       "      <td>10.497383</td>\n",
       "      <td>4752.0</td>\n",
       "      <td>2019-07-01 00:00:00</td>\n",
       "      <td>15:13:22</td>\n",
       "      <td>2019-07-01 00:00:00</td>\n",
       "      <td>15:23:52</td>\n",
       "      <td>36.150482</td>\n",
       "      <td>-86.801000</td>\n",
       "      <td>36.137794</td>\n",
       "      <td>-86.800835</td>\n",
       "      <td>[[\"36.150418\",\"-86.800951\"],[\"36.150418\",\"-86....</td>\n",
       "      <td>2019-07-02 07:58:41.810000</td>\n",
       "    </tr>\n",
       "    <tr>\n",
       "      <th>2999</th>\n",
       "      <td>2019-07-01 19:58:07</td>\n",
       "      <td>JUMP</td>\n",
       "      <td>JMP66</td>\n",
       "      <td>Poweredab6713c3-7459-53c2-9c45-e0112f720aad</td>\n",
       "      <td>52.033050</td>\n",
       "      <td>20011.2</td>\n",
       "      <td>2019-07-01 00:00:00</td>\n",
       "      <td>14:48:07</td>\n",
       "      <td>2019-07-01 00:00:00</td>\n",
       "      <td>15:40:09</td>\n",
       "      <td>36.164780</td>\n",
       "      <td>-86.779660</td>\n",
       "      <td>36.164040</td>\n",
       "      <td>-86.779260</td>\n",
       "      <td>[[\"36.164778\",\"-86.779665\"],[\"36.164746\",\"-86....</td>\n",
       "      <td>2019-07-02 07:58:42.357000</td>\n",
       "    </tr>\n",
       "    <tr>\n",
       "      <th>3000</th>\n",
       "      <td>2019-07-01 19:58:07</td>\n",
       "      <td>JUMP</td>\n",
       "      <td>JMP57</td>\n",
       "      <td>Powered70e93b4e-0895-59ac-b16d-1b53f04c1dc3</td>\n",
       "      <td>10.586567</td>\n",
       "      <td>5016.0</td>\n",
       "      <td>2019-07-01 00:00:00</td>\n",
       "      <td>14:01:46</td>\n",
       "      <td>2019-07-01 00:00:00</td>\n",
       "      <td>14:12:21</td>\n",
       "      <td>36.169310</td>\n",
       "      <td>-86.802704</td>\n",
       "      <td>36.169130</td>\n",
       "      <td>-86.802580</td>\n",
       "      <td>[[\"36.169293\",\"-86.802611\"],[\"36.169293\",\"-86....</td>\n",
       "      <td>2019-07-02 07:58:41.017000</td>\n",
       "    </tr>\n",
       "    <tr>\n",
       "      <th>3001</th>\n",
       "      <td>2019-07-01 19:58:07</td>\n",
       "      <td>JUMP</td>\n",
       "      <td>JMP59</td>\n",
       "      <td>Powered1596b61a-225f-5a94-9027-cfc92d1075a0</td>\n",
       "      <td>56.271915</td>\n",
       "      <td>0.0</td>\n",
       "      <td>2019-07-01 00:00:00</td>\n",
       "      <td>13:25:43</td>\n",
       "      <td>2019-07-01 00:00:00</td>\n",
       "      <td>14:21:59</td>\n",
       "      <td>36.168510</td>\n",
       "      <td>-86.771805</td>\n",
       "      <td>36.168510</td>\n",
       "      <td>-86.771805</td>\n",
       "      <td>[[\"36.168511\",\"-86.771805\"],[\"36.168511\",\"-86....</td>\n",
       "      <td>2019-07-02 07:58:41.360000</td>\n",
       "    </tr>\n",
       "    <tr>\n",
       "      <th>3002</th>\n",
       "      <td>2019-07-01 19:58:07</td>\n",
       "      <td>JUMP</td>\n",
       "      <td>JMP65</td>\n",
       "      <td>Poweredbb60ef04-c719-597f-805f-20978964fd8c</td>\n",
       "      <td>51.504883</td>\n",
       "      <td>19272.0</td>\n",
       "      <td>2019-07-01 00:00:00</td>\n",
       "      <td>14:48:21</td>\n",
       "      <td>2019-07-01 00:00:00</td>\n",
       "      <td>15:39:51</td>\n",
       "      <td>36.164806</td>\n",
       "      <td>-86.779884</td>\n",
       "      <td>36.163986</td>\n",
       "      <td>-86.778360</td>\n",
       "      <td>[[\"36.16467\",\"-86.779981\"],[\"36.16467\",\"-86.77...</td>\n",
       "      <td>2019-07-02 07:58:42.290000</td>\n",
       "    </tr>\n",
       "    <tr>\n",
       "      <th>3003</th>\n",
       "      <td>2019-07-01 19:58:07</td>\n",
       "      <td>JUMP</td>\n",
       "      <td>JMP67</td>\n",
       "      <td>Powered6e8b5829-e580-5a6f-b26a-10f9d586b75b</td>\n",
       "      <td>53.130066</td>\n",
       "      <td>20486.4</td>\n",
       "      <td>2019-07-01 00:00:00</td>\n",
       "      <td>14:47:06</td>\n",
       "      <td>2019-07-01 00:00:00</td>\n",
       "      <td>15:40:14</td>\n",
       "      <td>36.164684</td>\n",
       "      <td>-86.779760</td>\n",
       "      <td>36.164093</td>\n",
       "      <td>-86.779330</td>\n",
       "      <td>[[\"36.164686\",\"-86.779766\"],[\"36.16484\",\"-86.7...</td>\n",
       "      <td>2019-07-02 07:58:42.323000</td>\n",
       "    </tr>\n",
       "  </tbody>\n",
       "</table>\n",
       "</div>"
      ],
      "text/plain": [
       "             pubTimeStamp companyName tripRecordNum  \\\n",
       "2994  2019-07-01 19:58:07        JUMP         JMP64   \n",
       "2995  2019-07-01 19:58:07        JUMP         JMP68   \n",
       "2996  2019-07-01 19:58:07        JUMP         JMP55   \n",
       "2997  2019-07-01 19:58:07        JUMP         JMP63   \n",
       "2998  2019-07-01 19:58:07        JUMP         JMP62   \n",
       "2999  2019-07-01 19:58:07        JUMP         JMP66   \n",
       "3000  2019-07-01 19:58:07        JUMP         JMP57   \n",
       "3001  2019-07-01 19:58:07        JUMP         JMP59   \n",
       "3002  2019-07-01 19:58:07        JUMP         JMP65   \n",
       "3003  2019-07-01 19:58:07        JUMP         JMP67   \n",
       "\n",
       "                                           sumdID  tripDuration  tripDistance  \\\n",
       "2994  Powered7038f9f7-7285-5a3d-8635-df97d6c53c73     21.434584       12249.6   \n",
       "2995  Powered0e871aa8-de0a-5b5b-9909-333de5502aa0     21.616800        9979.2   \n",
       "2996  Powered3d099838-659b-5660-9463-a029ba277d63    828.387000        8236.8   \n",
       "2997  Powered0a80f289-6ad7-5354-ab58-0bf7bdaf8a1a     10.221517        4752.0   \n",
       "2998  Powerede90c6861-15dd-5072-bd69-60aad4262311     10.497383        4752.0   \n",
       "2999  Poweredab6713c3-7459-53c2-9c45-e0112f720aad     52.033050       20011.2   \n",
       "3000  Powered70e93b4e-0895-59ac-b16d-1b53f04c1dc3     10.586567        5016.0   \n",
       "3001  Powered1596b61a-225f-5a94-9027-cfc92d1075a0     56.271915           0.0   \n",
       "3002  Poweredbb60ef04-c719-597f-805f-20978964fd8c     51.504883       19272.0   \n",
       "3003  Powered6e8b5829-e580-5a6f-b26a-10f9d586b75b     53.130066       20486.4   \n",
       "\n",
       "                startDate startTime              endDate   endTime  \\\n",
       "2994  2019-07-01 00:00:00  15:08:58  2019-07-01 00:00:00  15:30:24   \n",
       "2995  2019-07-01 00:00:00  15:27:46  2019-07-01 00:00:00  15:49:23   \n",
       "2996  2019-07-01 00:00:00  00:15:52  2019-07-01 00:00:00  14:04:15   \n",
       "2997  2019-07-01 00:00:00  15:13:55  2019-07-01 00:00:00  15:24:08   \n",
       "2998  2019-07-01 00:00:00  15:13:22  2019-07-01 00:00:00  15:23:52   \n",
       "2999  2019-07-01 00:00:00  14:48:07  2019-07-01 00:00:00  15:40:09   \n",
       "3000  2019-07-01 00:00:00  14:01:46  2019-07-01 00:00:00  14:12:21   \n",
       "3001  2019-07-01 00:00:00  13:25:43  2019-07-01 00:00:00  14:21:59   \n",
       "3002  2019-07-01 00:00:00  14:48:21  2019-07-01 00:00:00  15:39:51   \n",
       "3003  2019-07-01 00:00:00  14:47:06  2019-07-01 00:00:00  15:40:14   \n",
       "\n",
       "      startLatitude  startLongitude  endLatitude  endLongitude  \\\n",
       "2994      36.152416      -86.795006    36.152843    -86.793150   \n",
       "2995      36.151066      -86.804146    36.160225    -86.778080   \n",
       "2996      36.164593      -86.776955    36.165330    -86.800125   \n",
       "2997      36.150417      -86.800940    36.137707    -86.800710   \n",
       "2998      36.150482      -86.801000    36.137794    -86.800835   \n",
       "2999      36.164780      -86.779660    36.164040    -86.779260   \n",
       "3000      36.169310      -86.802704    36.169130    -86.802580   \n",
       "3001      36.168510      -86.771805    36.168510    -86.771805   \n",
       "3002      36.164806      -86.779884    36.163986    -86.778360   \n",
       "3003      36.164684      -86.779760    36.164093    -86.779330   \n",
       "\n",
       "                                              tripRoute  \\\n",
       "2994  [[\"36.152333\",\"-86.7951\"],[\"36.152343\",\"-86.79...   \n",
       "2995  [[\"36.151125\",\"-86.804055\"],[\"36.151103\",\"-86....   \n",
       "2996  [[\"36.164603\",\"-86.776953\"],[\"36.164616\",\"-86....   \n",
       "2997  [[\"36.150418\",\"-86.80094\"],[\"36.150465\",\"-86.8...   \n",
       "2998  [[\"36.150418\",\"-86.800951\"],[\"36.150418\",\"-86....   \n",
       "2999  [[\"36.164778\",\"-86.779665\"],[\"36.164746\",\"-86....   \n",
       "3000  [[\"36.169293\",\"-86.802611\"],[\"36.169293\",\"-86....   \n",
       "3001  [[\"36.168511\",\"-86.771805\"],[\"36.168511\",\"-86....   \n",
       "3002  [[\"36.16467\",\"-86.779981\"],[\"36.16467\",\"-86.77...   \n",
       "3003  [[\"36.164686\",\"-86.779766\"],[\"36.16484\",\"-86.7...   \n",
       "\n",
       "                       create_dt  \n",
       "2994  2019-07-02 07:58:42.137000  \n",
       "2995  2019-07-02 07:58:42.787000  \n",
       "2996  2019-07-02 07:58:39.650000  \n",
       "2997  2019-07-02 07:58:41.847000  \n",
       "2998  2019-07-02 07:58:41.810000  \n",
       "2999  2019-07-02 07:58:42.357000  \n",
       "3000  2019-07-02 07:58:41.017000  \n",
       "3001  2019-07-02 07:58:41.360000  \n",
       "3002  2019-07-02 07:58:42.290000  \n",
       "3003  2019-07-02 07:58:42.323000  "
      ]
     },
     "execution_count": 7,
     "metadata": {},
     "output_type": "execute_result"
    }
   ],
   "source": [
    "jump.head(10)"
   ]
  },
  {
   "cell_type": "raw",
   "id": "af2f86e0",
   "metadata": {},
   "source": [
    "#1 The total riding time (hours) for each of company"
   ]
  },
  {
   "cell_type": "raw",
   "id": "c390a7f1",
   "metadata": {},
   "source": [
    "lime_5 = lime.time_diff/pd.Timedelta(minutes=1)\n",
    "round(lime_5.mean(),3)"
   ]
  },
  {
   "cell_type": "raw",
   "id": "e7cccfb3",
   "metadata": {},
   "source": [
    "lyft_5 = lyft.time_diff/pd.Timedelta(minutes=1)\n",
    "round(lyft_5.mean(),3)"
   ]
  },
  {
   "cell_type": "raw",
   "id": "f696841c",
   "metadata": {},
   "source": [
    "bird_5 = bird.time_diff/pd.Timedelta(minutes=1)\n",
    "round(bird_5.mean(),3)"
   ]
  },
  {
   "cell_type": "raw",
   "id": "897450b3",
   "metadata": {},
   "source": [
    "spin_5 = spin.time_diff/pd.Timedelta(minutes=1)\n",
    "round(spin_5.mean(),3)"
   ]
  },
  {
   "cell_type": "raw",
   "id": "b689ccc0",
   "metadata": {},
   "source": [
    "bolt_5 = bolt.time_diff/pd.Timedelta(minutes=1)\n",
    "round(bolt_5.mean(),3)"
   ]
  },
  {
   "cell_type": "raw",
   "id": "67461e38",
   "metadata": {},
   "source": [
    "gotcha_5 = gotcha.time_diff/pd.Timedelta(minutes=1)\n",
    "round(gotcha_5.mean(),3)"
   ]
  },
  {
   "cell_type": "raw",
   "id": "a070d673",
   "metadata": {},
   "source": [
    "jump_5 = jump.time_diff/pd.Timedelta(minutes=1)\n",
    "round(jump_5.mean(),3)"
   ]
  },
  {
   "cell_type": "code",
   "execution_count": 8,
   "id": "53eab17c",
   "metadata": {},
   "outputs": [
    {
     "data": {
      "text/plain": [
       "6339.252133733671"
      ]
     },
     "execution_count": 8,
     "metadata": {},
     "output_type": "execute_result"
    }
   ],
   "source": [
    "lime.tripDistance.mean()"
   ]
  },
  {
   "cell_type": "code",
   "execution_count": 9,
   "id": "5a66f963",
   "metadata": {},
   "outputs": [
    {
     "data": {
      "text/plain": [
       "6484.083519094779"
      ]
     },
     "execution_count": 9,
     "metadata": {},
     "output_type": "execute_result"
    }
   ],
   "source": [
    "lyft.tripDistance.mean()"
   ]
  },
  {
   "cell_type": "code",
   "execution_count": 10,
   "id": "44012732",
   "metadata": {
    "scrolled": true
   },
   "outputs": [
    {
     "data": {
      "text/plain": [
       "3173.308698229004"
      ]
     },
     "execution_count": 10,
     "metadata": {},
     "output_type": "execute_result"
    }
   ],
   "source": [
    "bird.tripDistance.mean()"
   ]
  },
  {
   "cell_type": "code",
   "execution_count": 11,
   "id": "4ef1bceb",
   "metadata": {},
   "outputs": [
    {
     "data": {
      "text/plain": [
       "2775.9595765648264"
      ]
     },
     "execution_count": 11,
     "metadata": {},
     "output_type": "execute_result"
    }
   ],
   "source": [
    "spin.tripDistance.mean()"
   ]
  },
  {
   "cell_type": "code",
   "execution_count": 12,
   "id": "1e597795",
   "metadata": {},
   "outputs": [
    {
     "data": {
      "text/plain": [
       "8583.2914957834"
      ]
     },
     "execution_count": 12,
     "metadata": {},
     "output_type": "execute_result"
    }
   ],
   "source": [
    "bolt.tripDistance.mean()"
   ]
  },
  {
   "cell_type": "code",
   "execution_count": 13,
   "id": "536c4bcd",
   "metadata": {},
   "outputs": [
    {
     "data": {
      "text/plain": [
       "4089"
      ]
     },
     "execution_count": 13,
     "metadata": {},
     "output_type": "execute_result"
    }
   ],
   "source": [
    "jump.tripDistance.isnull().count()"
   ]
  },
  {
   "cell_type": "code",
   "execution_count": 14,
   "id": "dcb2d055",
   "metadata": {},
   "outputs": [
    {
     "name": "stdout",
     "output_type": "stream",
     "text": [
      "2202       420.964580\n",
      "2234     26340.650449\n",
      "2877        11.191175\n",
      "11847     1228.809094\n",
      "11880     1491.154903\n",
      "             ...     \n",
      "75600     1925.803867\n",
      "75750      140.604991\n",
      "76433      738.067609\n",
      "77581     5853.510686\n",
      "98755      510.738205\n",
      "Name: tripDistance, Length: 862, dtype: float64\n"
     ]
    }
   ],
   "source": [
    "print(gotcha.tripDistance)"
   ]
  },
  {
   "cell_type": "code",
   "execution_count": 17,
   "id": "012f9b86",
   "metadata": {},
   "outputs": [
    {
     "data": {
      "text/plain": [
       "pubTimeStamp                       2019-07-05 01:18:52\n",
       "companyName                                     Gotcha\n",
       "tripRecordNum                                     GOT9\n",
       "sumdID                                     Powered2460\n",
       "tripDuration                                       9.0\n",
       "tripDistance                             31884482.6476\n",
       "startDate                          2019-07-05 00:00:00\n",
       "startTime                                     01:18:56\n",
       "endDate                            2019-07-05 00:00:00\n",
       "endTime                                       01:27:56\n",
       "startLatitude                                 36.16338\n",
       "startLongitude                              -86.780142\n",
       "endLatitude                                   36.16628\n",
       "endLongitude                                -86.778127\n",
       "tripRoute         [[\"0\",\"0\"],[\"36.16628\",\"-86.77813\"]]\n",
       "create_dt                   2019-07-06 07:13:12.210000\n",
       "Name: 16863, dtype: object"
      ]
     },
     "execution_count": 17,
     "metadata": {},
     "output_type": "execute_result"
    }
   ],
   "source": [
    "gotcha.loc[gotcha['tripDistance'].idxmax()]"
   ]
  },
  {
   "cell_type": "code",
   "execution_count": 18,
   "id": "1e33835c",
   "metadata": {
    "scrolled": true
   },
   "outputs": [
    {
     "data": {
      "text/plain": [
       "38715.152606020725"
      ]
     },
     "execution_count": 18,
     "metadata": {},
     "output_type": "execute_result"
    }
   ],
   "source": [
    "gotcha.tripDistance.mean()"
   ]
  },
  {
   "cell_type": "code",
   "execution_count": 19,
   "id": "188eec61",
   "metadata": {},
   "outputs": [
    {
     "data": {
      "text/plain": [
       "6042.391195891416"
      ]
     },
     "execution_count": 19,
     "metadata": {},
     "output_type": "execute_result"
    }
   ],
   "source": [
    "jump.tripDistance.mean()"
   ]
  }
 ],
 "metadata": {
  "kernelspec": {
   "display_name": "Python 3 (ipykernel)",
   "language": "python",
   "name": "python3"
  },
  "language_info": {
   "codemirror_mode": {
    "name": "ipython",
    "version": 3
   },
   "file_extension": ".py",
   "mimetype": "text/x-python",
   "name": "python",
   "nbconvert_exporter": "python",
   "pygments_lexer": "ipython3",
   "version": "3.8.5"
  }
 },
 "nbformat": 4,
 "nbformat_minor": 5
}
