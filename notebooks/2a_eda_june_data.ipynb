{
 "cells": [
  {
   "cell_type": "markdown",
   "id": "2552ddba",
   "metadata": {},
   "source": [
    "# This notebook is for eda on the June data"
   ]
  },
  {
   "cell_type": "markdown",
   "id": "9d990c3a",
   "metadata": {},
   "source": [
    "#### Import needed modules"
   ]
  },
  {
   "cell_type": "code",
   "execution_count": 1,
   "id": "05f4e7d9",
   "metadata": {},
   "outputs": [],
   "source": [
    "import pandas as pd"
   ]
  },
  {
   "cell_type": "markdown",
   "id": "fbe1dc78",
   "metadata": {},
   "source": [
    "#### Import .csv to DataFrame and check top and bottom of the data"
   ]
  },
  {
   "cell_type": "code",
   "execution_count": 2,
   "id": "5995063e",
   "metadata": {
    "scrolled": true
   },
   "outputs": [
    {
     "data": {
      "text/html": [
       "<div>\n",
       "<style scoped>\n",
       "    .dataframe tbody tr th:only-of-type {\n",
       "        vertical-align: middle;\n",
       "    }\n",
       "\n",
       "    .dataframe tbody tr th {\n",
       "        vertical-align: top;\n",
       "    }\n",
       "\n",
       "    .dataframe thead th {\n",
       "        text-align: right;\n",
       "    }\n",
       "</style>\n",
       "<table border=\"1\" class=\"dataframe\">\n",
       "  <thead>\n",
       "    <tr style=\"text-align: right;\">\n",
       "      <th></th>\n",
       "      <th>pubdatetime</th>\n",
       "      <th>latitude</th>\n",
       "      <th>longitude</th>\n",
       "      <th>sumdid</th>\n",
       "      <th>chargelevel</th>\n",
       "      <th>companyname</th>\n",
       "    </tr>\n",
       "  </thead>\n",
       "  <tbody>\n",
       "    <tr>\n",
       "      <th>0</th>\n",
       "      <td>2019-06-01 00:00:12</td>\n",
       "      <td>36.1202</td>\n",
       "      <td>-86.7534</td>\n",
       "      <td>Powered93627c35-0f62-5b81-a78d-75a4a92ecf47</td>\n",
       "      <td>90.0</td>\n",
       "      <td>Jump</td>\n",
       "    </tr>\n",
       "    <tr>\n",
       "      <th>1</th>\n",
       "      <td>2019-06-01 00:00:12</td>\n",
       "      <td>36.1630</td>\n",
       "      <td>-86.7765</td>\n",
       "      <td>Powered17715097-e8a0-5494-a5ab-9b625796607d</td>\n",
       "      <td>63.0</td>\n",
       "      <td>Jump</td>\n",
       "    </tr>\n",
       "    <tr>\n",
       "      <th>2</th>\n",
       "      <td>2019-06-01 00:00:12</td>\n",
       "      <td>36.1202</td>\n",
       "      <td>-86.7533</td>\n",
       "      <td>Powerede5cb95ae-b091-5a93-86fa-ededd946d0d7</td>\n",
       "      <td>77.0</td>\n",
       "      <td>Jump</td>\n",
       "    </tr>\n",
       "    <tr>\n",
       "      <th>3</th>\n",
       "      <td>2019-06-01 00:00:12</td>\n",
       "      <td>36.1201</td>\n",
       "      <td>-86.7530</td>\n",
       "      <td>Powered71fa5e4f-1e17-54c4-936d-330df38cc2fa</td>\n",
       "      <td>0.0</td>\n",
       "      <td>Jump</td>\n",
       "    </tr>\n",
       "    <tr>\n",
       "      <th>4</th>\n",
       "      <td>2019-06-01 00:00:12</td>\n",
       "      <td>36.1622</td>\n",
       "      <td>-86.7806</td>\n",
       "      <td>Poweredfa549dd6-40bb-5757-ac87-2c2528f2bc68</td>\n",
       "      <td>2.0</td>\n",
       "      <td>Jump</td>\n",
       "    </tr>\n",
       "  </tbody>\n",
       "</table>\n",
       "</div>"
      ],
      "text/plain": [
       "           pubdatetime  latitude  longitude  \\\n",
       "0  2019-06-01 00:00:12   36.1202   -86.7534   \n",
       "1  2019-06-01 00:00:12   36.1630   -86.7765   \n",
       "2  2019-06-01 00:00:12   36.1202   -86.7533   \n",
       "3  2019-06-01 00:00:12   36.1201   -86.7530   \n",
       "4  2019-06-01 00:00:12   36.1622   -86.7806   \n",
       "\n",
       "                                        sumdid  chargelevel companyname  \n",
       "0  Powered93627c35-0f62-5b81-a78d-75a4a92ecf47         90.0        Jump  \n",
       "1  Powered17715097-e8a0-5494-a5ab-9b625796607d         63.0        Jump  \n",
       "2  Powerede5cb95ae-b091-5a93-86fa-ededd946d0d7         77.0        Jump  \n",
       "3  Powered71fa5e4f-1e17-54c4-936d-330df38cc2fa          0.0        Jump  \n",
       "4  Poweredfa549dd6-40bb-5757-ac87-2c2528f2bc68          2.0        Jump  "
      ]
     },
     "execution_count": 2,
     "metadata": {},
     "output_type": "execute_result"
    }
   ],
   "source": [
    "june_df = pd.read_pickle('../data/june.pkl')\n",
    "june_df.head()"
   ]
  },
  {
   "cell_type": "code",
   "execution_count": 3,
   "id": "ec48e6db",
   "metadata": {
    "scrolled": true
   },
   "outputs": [
    {
     "data": {
      "text/html": [
       "<div>\n",
       "<style scoped>\n",
       "    .dataframe tbody tr th:only-of-type {\n",
       "        vertical-align: middle;\n",
       "    }\n",
       "\n",
       "    .dataframe tbody tr th {\n",
       "        vertical-align: top;\n",
       "    }\n",
       "\n",
       "    .dataframe thead th {\n",
       "        text-align: right;\n",
       "    }\n",
       "</style>\n",
       "<table border=\"1\" class=\"dataframe\">\n",
       "  <thead>\n",
       "    <tr style=\"text-align: right;\">\n",
       "      <th></th>\n",
       "      <th>pubdatetime</th>\n",
       "      <th>latitude</th>\n",
       "      <th>longitude</th>\n",
       "      <th>sumdid</th>\n",
       "      <th>chargelevel</th>\n",
       "      <th>companyname</th>\n",
       "    </tr>\n",
       "  </thead>\n",
       "  <tbody>\n",
       "    <tr>\n",
       "      <th>28046090</th>\n",
       "      <td>2019-06-30 23:59:55.273000</td>\n",
       "      <td>36.125567</td>\n",
       "      <td>-86.776982</td>\n",
       "      <td>PoweredZYNSVOII2QSLD</td>\n",
       "      <td>100.0</td>\n",
       "      <td>Lime</td>\n",
       "    </tr>\n",
       "    <tr>\n",
       "      <th>28046091</th>\n",
       "      <td>2019-06-30 23:59:55.273000</td>\n",
       "      <td>36.121717</td>\n",
       "      <td>-86.775207</td>\n",
       "      <td>PoweredXOPAIWGL7SF62</td>\n",
       "      <td>93.0</td>\n",
       "      <td>Lime</td>\n",
       "    </tr>\n",
       "    <tr>\n",
       "      <th>28046092</th>\n",
       "      <td>2019-06-30 23:59:55.273000</td>\n",
       "      <td>36.127046</td>\n",
       "      <td>-86.777262</td>\n",
       "      <td>PoweredBYKFOWELGPKH6</td>\n",
       "      <td>61.0</td>\n",
       "      <td>Lime</td>\n",
       "    </tr>\n",
       "    <tr>\n",
       "      <th>28046093</th>\n",
       "      <td>2019-06-30 23:59:55.273000</td>\n",
       "      <td>36.123775</td>\n",
       "      <td>-86.790115</td>\n",
       "      <td>PoweredIAAQ7WODYXON7</td>\n",
       "      <td>35.0</td>\n",
       "      <td>Lime</td>\n",
       "    </tr>\n",
       "    <tr>\n",
       "      <th>28046094</th>\n",
       "      <td>2019-06-30 23:59:55.273000</td>\n",
       "      <td>36.121735</td>\n",
       "      <td>-86.775148</td>\n",
       "      <td>Powered3HJPPUNVYGL45</td>\n",
       "      <td>96.0</td>\n",
       "      <td>Lime</td>\n",
       "    </tr>\n",
       "  </tbody>\n",
       "</table>\n",
       "</div>"
      ],
      "text/plain": [
       "                         pubdatetime   latitude  longitude  \\\n",
       "28046090  2019-06-30 23:59:55.273000  36.125567 -86.776982   \n",
       "28046091  2019-06-30 23:59:55.273000  36.121717 -86.775207   \n",
       "28046092  2019-06-30 23:59:55.273000  36.127046 -86.777262   \n",
       "28046093  2019-06-30 23:59:55.273000  36.123775 -86.790115   \n",
       "28046094  2019-06-30 23:59:55.273000  36.121735 -86.775148   \n",
       "\n",
       "                        sumdid  chargelevel companyname  \n",
       "28046090  PoweredZYNSVOII2QSLD        100.0        Lime  \n",
       "28046091  PoweredXOPAIWGL7SF62         93.0        Lime  \n",
       "28046092  PoweredBYKFOWELGPKH6         61.0        Lime  \n",
       "28046093  PoweredIAAQ7WODYXON7         35.0        Lime  \n",
       "28046094  Powered3HJPPUNVYGL45         96.0        Lime  "
      ]
     },
     "execution_count": 3,
     "metadata": {},
     "output_type": "execute_result"
    }
   ],
   "source": [
    "june_df.tail()"
   ]
  },
  {
   "cell_type": "markdown",
   "id": "941d1a00",
   "metadata": {},
   "source": [
    "#### Check column attributes"
   ]
  },
  {
   "cell_type": "code",
   "execution_count": 4,
   "id": "d125399e",
   "metadata": {},
   "outputs": [
    {
     "name": "stdout",
     "output_type": "stream",
     "text": [
      "<class 'pandas.core.frame.DataFrame'>\n",
      "Int64Index: 28037408 entries, 0 to 28046094\n",
      "Data columns (total 6 columns):\n",
      " #   Column       Dtype  \n",
      "---  ------       -----  \n",
      " 0   pubdatetime  object \n",
      " 1   latitude     float64\n",
      " 2   longitude    float64\n",
      " 3   sumdid       object \n",
      " 4   chargelevel  float64\n",
      " 5   companyname  object \n",
      "dtypes: float64(3), object(3)\n",
      "memory usage: 1.5+ GB\n"
     ]
    }
   ],
   "source": [
    "june_df.info()"
   ]
  },
  {
   "cell_type": "markdown",
   "id": "01fe891d",
   "metadata": {},
   "source": [
    "#### Convert pubdatetime column from string to datetime format"
   ]
  },
  {
   "cell_type": "code",
   "execution_count": 9,
   "id": "e88de2c2",
   "metadata": {},
   "outputs": [
    {
     "name": "stdout",
     "output_type": "stream",
     "text": [
      "<class 'pandas.core.frame.DataFrame'>\n",
      "Int64Index: 28037408 entries, 0 to 28046094\n",
      "Data columns (total 6 columns):\n",
      " #   Column       Dtype         \n",
      "---  ------       -----         \n",
      " 0   pubdatetime  datetime64[ns]\n",
      " 1   latitude     float64       \n",
      " 2   longitude    float64       \n",
      " 3   sumdid       object        \n",
      " 4   chargelevel  float64       \n",
      " 5   companyname  object        \n",
      "dtypes: datetime64[ns](1), float64(3), object(2)\n",
      "memory usage: 1.5+ GB\n"
     ]
    }
   ],
   "source": [
    "june_df['pubdatetime'] = pd.to_datetime(june_df['pubdatetime'])\n",
    "june_df.info()"
   ]
  },
  {
   "cell_type": "markdown",
   "id": "1a4082eb",
   "metadata": {},
   "source": [
    "#### Check for null within columns"
   ]
  },
  {
   "cell_type": "code",
   "execution_count": 5,
   "id": "358fa989",
   "metadata": {},
   "outputs": [
    {
     "data": {
      "text/plain": [
       "pubdatetime      0\n",
       "latitude         0\n",
       "longitude        0\n",
       "sumdid           0\n",
       "chargelevel    285\n",
       "companyname      0\n",
       "dtype: int64"
      ]
     },
     "execution_count": 5,
     "metadata": {},
     "output_type": "execute_result"
    }
   ],
   "source": [
    "june_df.isnull().sum()"
   ]
  },
  {
   "cell_type": "code",
   "execution_count": 6,
   "id": "547e2921",
   "metadata": {},
   "outputs": [
    {
     "data": {
      "text/plain": [
       "Jump      8482893\n",
       "Lime      6152504\n",
       "Bird      4215302\n",
       "Lyft      3084229\n",
       "Spin      2507991\n",
       "Gotcha    1830453\n",
       "Bolt      1764036\n",
       "Name: companyname, dtype: int64"
      ]
     },
     "execution_count": 6,
     "metadata": {},
     "output_type": "execute_result"
    }
   ],
   "source": [
    "june_df.companyname.value_counts()"
   ]
  },
  {
   "cell_type": "markdown",
   "id": "c1f81e10",
   "metadata": {},
   "source": [
    "#### Check for dups within sumdid"
   ]
  },
  {
   "cell_type": "code",
   "execution_count": 7,
   "id": "2073bc2e",
   "metadata": {},
   "outputs": [
    {
     "data": {
      "text/plain": [
       "7822"
      ]
     },
     "execution_count": 7,
     "metadata": {},
     "output_type": "execute_result"
    }
   ],
   "source": [
    "june_df.sumdid.nunique()"
   ]
  },
  {
   "cell_type": "code",
   "execution_count": 8,
   "id": "28934847",
   "metadata": {},
   "outputs": [
    {
     "data": {
      "text/html": [
       "<div>\n",
       "<style scoped>\n",
       "    .dataframe tbody tr th:only-of-type {\n",
       "        vertical-align: middle;\n",
       "    }\n",
       "\n",
       "    .dataframe tbody tr th {\n",
       "        vertical-align: top;\n",
       "    }\n",
       "\n",
       "    .dataframe thead th {\n",
       "        text-align: right;\n",
       "    }\n",
       "</style>\n",
       "<table border=\"1\" class=\"dataframe\">\n",
       "  <thead>\n",
       "    <tr style=\"text-align: right;\">\n",
       "      <th></th>\n",
       "      <th>latitude</th>\n",
       "      <th>longitude</th>\n",
       "      <th>chargelevel</th>\n",
       "    </tr>\n",
       "  </thead>\n",
       "  <tbody>\n",
       "    <tr>\n",
       "      <th>count</th>\n",
       "      <td>2.803741e+07</td>\n",
       "      <td>2.803741e+07</td>\n",
       "      <td>2.803712e+07</td>\n",
       "    </tr>\n",
       "    <tr>\n",
       "      <th>mean</th>\n",
       "      <td>3.613714e+01</td>\n",
       "      <td>-8.675778e+01</td>\n",
       "      <td>5.830082e+01</td>\n",
       "    </tr>\n",
       "    <tr>\n",
       "      <th>std</th>\n",
       "      <td>4.442858e-01</td>\n",
       "      <td>1.033852e+00</td>\n",
       "      <td>3.468189e+01</td>\n",
       "    </tr>\n",
       "    <tr>\n",
       "      <th>min</th>\n",
       "      <td>0.000000e+00</td>\n",
       "      <td>-9.744388e+01</td>\n",
       "      <td>0.000000e+00</td>\n",
       "    </tr>\n",
       "    <tr>\n",
       "      <th>25%</th>\n",
       "      <td>3.612151e+01</td>\n",
       "      <td>-8.679099e+01</td>\n",
       "      <td>3.400000e+01</td>\n",
       "    </tr>\n",
       "    <tr>\n",
       "      <th>50%</th>\n",
       "      <td>3.615147e+01</td>\n",
       "      <td>-8.677846e+01</td>\n",
       "      <td>6.600000e+01</td>\n",
       "    </tr>\n",
       "    <tr>\n",
       "      <th>75%</th>\n",
       "      <td>3.616186e+01</td>\n",
       "      <td>-8.675370e+01</td>\n",
       "      <td>9.000000e+01</td>\n",
       "    </tr>\n",
       "    <tr>\n",
       "      <th>max</th>\n",
       "      <td>4.271800e+01</td>\n",
       "      <td>0.000000e+00</td>\n",
       "      <td>1.000000e+02</td>\n",
       "    </tr>\n",
       "  </tbody>\n",
       "</table>\n",
       "</div>"
      ],
      "text/plain": [
       "           latitude     longitude   chargelevel\n",
       "count  2.803741e+07  2.803741e+07  2.803712e+07\n",
       "mean   3.613714e+01 -8.675778e+01  5.830082e+01\n",
       "std    4.442858e-01  1.033852e+00  3.468189e+01\n",
       "min    0.000000e+00 -9.744388e+01  0.000000e+00\n",
       "25%    3.612151e+01 -8.679099e+01  3.400000e+01\n",
       "50%    3.615147e+01 -8.677846e+01  6.600000e+01\n",
       "75%    3.616186e+01 -8.675370e+01  9.000000e+01\n",
       "max    4.271800e+01  0.000000e+00  1.000000e+02"
      ]
     },
     "execution_count": 8,
     "metadata": {},
     "output_type": "execute_result"
    }
   ],
   "source": [
    "june_df.describe()"
   ]
  }
 ],
 "metadata": {
  "kernelspec": {
   "display_name": "Python 3",
   "language": "python",
   "name": "python3"
  },
  "language_info": {
   "codemirror_mode": {
    "name": "ipython",
    "version": 3
   },
   "file_extension": ".py",
   "mimetype": "text/x-python",
   "name": "python",
   "nbconvert_exporter": "python",
   "pygments_lexer": "ipython3",
   "version": "3.8.8"
  }
 },
 "nbformat": 4,
 "nbformat_minor": 5
}
