{
 "cells": [
  {
   "cell_type": "markdown",
   "id": "ba3f0cbe",
   "metadata": {},
   "source": [
    "Import packages"
   ]
  },
  {
   "cell_type": "code",
   "execution_count": 9,
   "id": "a96560e8",
   "metadata": {},
   "outputs": [],
   "source": [
    "from shapely.geometry import Point\n",
    "import pandas as pd\n",
    "import geopandas as gpd\n",
    "import matplotlib.pyplot as plt\n",
    "import folium\n",
    "from folium.plugins import MarkerCluster\n",
    "from folium.plugins import FastMarkerCluster"
   ]
  },
  {
   "cell_type": "markdown",
   "id": "85e6caa1",
   "metadata": {},
   "source": [
    "Read CSVs"
   ]
  },
  {
   "cell_type": "code",
   "execution_count": 11,
   "id": "3479a02a",
   "metadata": {},
   "outputs": [
    {
     "ename": "FileNotFoundError",
     "evalue": "[Errno 2] No such file or directory: '../data/may_trips.csv'",
     "output_type": "error",
     "traceback": [
      "\u001b[1;31m---------------------------------------------------------------------------\u001b[0m",
      "\u001b[1;31mFileNotFoundError\u001b[0m                         Traceback (most recent call last)",
      "\u001b[1;32m~\\AppData\\Local\\Temp/ipykernel_16896/2075950307.py\u001b[0m in \u001b[0;36m<module>\u001b[1;34m\u001b[0m\n\u001b[0;32m      1\u001b[0m \u001b[0mmay_data\u001b[0m \u001b[1;33m=\u001b[0m \u001b[0mpd\u001b[0m\u001b[1;33m.\u001b[0m\u001b[0mread_csv\u001b[0m\u001b[1;33m(\u001b[0m\u001b[1;34m'../data/may.csv'\u001b[0m\u001b[1;33m)\u001b[0m\u001b[1;33m\u001b[0m\u001b[1;33m\u001b[0m\u001b[0m\n\u001b[1;32m----> 2\u001b[1;33m \u001b[0mmay_trips\u001b[0m \u001b[1;33m=\u001b[0m \u001b[0mpd\u001b[0m\u001b[1;33m.\u001b[0m\u001b[0mread_csv\u001b[0m\u001b[1;33m(\u001b[0m\u001b[1;34m'../data/may_trips.csv'\u001b[0m\u001b[1;33m)\u001b[0m\u001b[1;33m\u001b[0m\u001b[1;33m\u001b[0m\u001b[0m\n\u001b[0m\u001b[0;32m      3\u001b[0m \u001b[0mjune_data\u001b[0m \u001b[1;33m=\u001b[0m \u001b[0mpd\u001b[0m\u001b[1;33m.\u001b[0m\u001b[0mread_csv\u001b[0m\u001b[1;33m(\u001b[0m\u001b[1;34m'../data/june.csv'\u001b[0m\u001b[1;33m)\u001b[0m\u001b[1;33m\u001b[0m\u001b[1;33m\u001b[0m\u001b[0m\n\u001b[0;32m      4\u001b[0m \u001b[0mjune_trips\u001b[0m \u001b[1;33m=\u001b[0m \u001b[0mpd\u001b[0m\u001b[1;33m.\u001b[0m\u001b[0mread_csv\u001b[0m\u001b[1;33m(\u001b[0m\u001b[1;34m'../data/june_trips.csv'\u001b[0m\u001b[1;33m)\u001b[0m\u001b[1;33m\u001b[0m\u001b[1;33m\u001b[0m\u001b[0m\n\u001b[0;32m      5\u001b[0m \u001b[0mjuly_data\u001b[0m \u001b[1;33m=\u001b[0m \u001b[0mpd\u001b[0m\u001b[1;33m.\u001b[0m\u001b[0mread_csv\u001b[0m\u001b[1;33m(\u001b[0m\u001b[1;34m'../data/july.csv'\u001b[0m\u001b[1;33m)\u001b[0m\u001b[1;33m\u001b[0m\u001b[1;33m\u001b[0m\u001b[0m\n",
      "\u001b[1;32m~\\anaconda3\\envs\\geospatial\\lib\\site-packages\\pandas\\util\\_decorators.py\u001b[0m in \u001b[0;36mwrapper\u001b[1;34m(*args, **kwargs)\u001b[0m\n\u001b[0;32m    309\u001b[0m                     \u001b[0mstacklevel\u001b[0m\u001b[1;33m=\u001b[0m\u001b[0mstacklevel\u001b[0m\u001b[1;33m,\u001b[0m\u001b[1;33m\u001b[0m\u001b[1;33m\u001b[0m\u001b[0m\n\u001b[0;32m    310\u001b[0m                 )\n\u001b[1;32m--> 311\u001b[1;33m             \u001b[1;32mreturn\u001b[0m \u001b[0mfunc\u001b[0m\u001b[1;33m(\u001b[0m\u001b[1;33m*\u001b[0m\u001b[0margs\u001b[0m\u001b[1;33m,\u001b[0m \u001b[1;33m**\u001b[0m\u001b[0mkwargs\u001b[0m\u001b[1;33m)\u001b[0m\u001b[1;33m\u001b[0m\u001b[1;33m\u001b[0m\u001b[0m\n\u001b[0m\u001b[0;32m    312\u001b[0m \u001b[1;33m\u001b[0m\u001b[0m\n\u001b[0;32m    313\u001b[0m         \u001b[1;32mreturn\u001b[0m \u001b[0mwrapper\u001b[0m\u001b[1;33m\u001b[0m\u001b[1;33m\u001b[0m\u001b[0m\n",
      "\u001b[1;32m~\\anaconda3\\envs\\geospatial\\lib\\site-packages\\pandas\\io\\parsers\\readers.py\u001b[0m in \u001b[0;36mread_csv\u001b[1;34m(filepath_or_buffer, sep, delimiter, header, names, index_col, usecols, squeeze, prefix, mangle_dupe_cols, dtype, engine, converters, true_values, false_values, skipinitialspace, skiprows, skipfooter, nrows, na_values, keep_default_na, na_filter, verbose, skip_blank_lines, parse_dates, infer_datetime_format, keep_date_col, date_parser, dayfirst, cache_dates, iterator, chunksize, compression, thousands, decimal, lineterminator, quotechar, quoting, doublequote, escapechar, comment, encoding, encoding_errors, dialect, error_bad_lines, warn_bad_lines, on_bad_lines, delim_whitespace, low_memory, memory_map, float_precision, storage_options)\u001b[0m\n\u001b[0;32m    584\u001b[0m     \u001b[0mkwds\u001b[0m\u001b[1;33m.\u001b[0m\u001b[0mupdate\u001b[0m\u001b[1;33m(\u001b[0m\u001b[0mkwds_defaults\u001b[0m\u001b[1;33m)\u001b[0m\u001b[1;33m\u001b[0m\u001b[1;33m\u001b[0m\u001b[0m\n\u001b[0;32m    585\u001b[0m \u001b[1;33m\u001b[0m\u001b[0m\n\u001b[1;32m--> 586\u001b[1;33m     \u001b[1;32mreturn\u001b[0m \u001b[0m_read\u001b[0m\u001b[1;33m(\u001b[0m\u001b[0mfilepath_or_buffer\u001b[0m\u001b[1;33m,\u001b[0m \u001b[0mkwds\u001b[0m\u001b[1;33m)\u001b[0m\u001b[1;33m\u001b[0m\u001b[1;33m\u001b[0m\u001b[0m\n\u001b[0m\u001b[0;32m    587\u001b[0m \u001b[1;33m\u001b[0m\u001b[0m\n\u001b[0;32m    588\u001b[0m \u001b[1;33m\u001b[0m\u001b[0m\n",
      "\u001b[1;32m~\\anaconda3\\envs\\geospatial\\lib\\site-packages\\pandas\\io\\parsers\\readers.py\u001b[0m in \u001b[0;36m_read\u001b[1;34m(filepath_or_buffer, kwds)\u001b[0m\n\u001b[0;32m    480\u001b[0m \u001b[1;33m\u001b[0m\u001b[0m\n\u001b[0;32m    481\u001b[0m     \u001b[1;31m# Create the parser.\u001b[0m\u001b[1;33m\u001b[0m\u001b[1;33m\u001b[0m\u001b[1;33m\u001b[0m\u001b[0m\n\u001b[1;32m--> 482\u001b[1;33m     \u001b[0mparser\u001b[0m \u001b[1;33m=\u001b[0m \u001b[0mTextFileReader\u001b[0m\u001b[1;33m(\u001b[0m\u001b[0mfilepath_or_buffer\u001b[0m\u001b[1;33m,\u001b[0m \u001b[1;33m**\u001b[0m\u001b[0mkwds\u001b[0m\u001b[1;33m)\u001b[0m\u001b[1;33m\u001b[0m\u001b[1;33m\u001b[0m\u001b[0m\n\u001b[0m\u001b[0;32m    483\u001b[0m \u001b[1;33m\u001b[0m\u001b[0m\n\u001b[0;32m    484\u001b[0m     \u001b[1;32mif\u001b[0m \u001b[0mchunksize\u001b[0m \u001b[1;32mor\u001b[0m \u001b[0miterator\u001b[0m\u001b[1;33m:\u001b[0m\u001b[1;33m\u001b[0m\u001b[1;33m\u001b[0m\u001b[0m\n",
      "\u001b[1;32m~\\anaconda3\\envs\\geospatial\\lib\\site-packages\\pandas\\io\\parsers\\readers.py\u001b[0m in \u001b[0;36m__init__\u001b[1;34m(self, f, engine, **kwds)\u001b[0m\n\u001b[0;32m    809\u001b[0m             \u001b[0mself\u001b[0m\u001b[1;33m.\u001b[0m\u001b[0moptions\u001b[0m\u001b[1;33m[\u001b[0m\u001b[1;34m\"has_index_names\"\u001b[0m\u001b[1;33m]\u001b[0m \u001b[1;33m=\u001b[0m \u001b[0mkwds\u001b[0m\u001b[1;33m[\u001b[0m\u001b[1;34m\"has_index_names\"\u001b[0m\u001b[1;33m]\u001b[0m\u001b[1;33m\u001b[0m\u001b[1;33m\u001b[0m\u001b[0m\n\u001b[0;32m    810\u001b[0m \u001b[1;33m\u001b[0m\u001b[0m\n\u001b[1;32m--> 811\u001b[1;33m         \u001b[0mself\u001b[0m\u001b[1;33m.\u001b[0m\u001b[0m_engine\u001b[0m \u001b[1;33m=\u001b[0m \u001b[0mself\u001b[0m\u001b[1;33m.\u001b[0m\u001b[0m_make_engine\u001b[0m\u001b[1;33m(\u001b[0m\u001b[0mself\u001b[0m\u001b[1;33m.\u001b[0m\u001b[0mengine\u001b[0m\u001b[1;33m)\u001b[0m\u001b[1;33m\u001b[0m\u001b[1;33m\u001b[0m\u001b[0m\n\u001b[0m\u001b[0;32m    812\u001b[0m \u001b[1;33m\u001b[0m\u001b[0m\n\u001b[0;32m    813\u001b[0m     \u001b[1;32mdef\u001b[0m \u001b[0mclose\u001b[0m\u001b[1;33m(\u001b[0m\u001b[0mself\u001b[0m\u001b[1;33m)\u001b[0m\u001b[1;33m:\u001b[0m\u001b[1;33m\u001b[0m\u001b[1;33m\u001b[0m\u001b[0m\n",
      "\u001b[1;32m~\\anaconda3\\envs\\geospatial\\lib\\site-packages\\pandas\\io\\parsers\\readers.py\u001b[0m in \u001b[0;36m_make_engine\u001b[1;34m(self, engine)\u001b[0m\n\u001b[0;32m   1038\u001b[0m             )\n\u001b[0;32m   1039\u001b[0m         \u001b[1;31m# error: Too many arguments for \"ParserBase\"\u001b[0m\u001b[1;33m\u001b[0m\u001b[1;33m\u001b[0m\u001b[1;33m\u001b[0m\u001b[0m\n\u001b[1;32m-> 1040\u001b[1;33m         \u001b[1;32mreturn\u001b[0m \u001b[0mmapping\u001b[0m\u001b[1;33m[\u001b[0m\u001b[0mengine\u001b[0m\u001b[1;33m]\u001b[0m\u001b[1;33m(\u001b[0m\u001b[0mself\u001b[0m\u001b[1;33m.\u001b[0m\u001b[0mf\u001b[0m\u001b[1;33m,\u001b[0m \u001b[1;33m**\u001b[0m\u001b[0mself\u001b[0m\u001b[1;33m.\u001b[0m\u001b[0moptions\u001b[0m\u001b[1;33m)\u001b[0m  \u001b[1;31m# type: ignore[call-arg]\u001b[0m\u001b[1;33m\u001b[0m\u001b[1;33m\u001b[0m\u001b[0m\n\u001b[0m\u001b[0;32m   1041\u001b[0m \u001b[1;33m\u001b[0m\u001b[0m\n\u001b[0;32m   1042\u001b[0m     \u001b[1;32mdef\u001b[0m \u001b[0m_failover_to_python\u001b[0m\u001b[1;33m(\u001b[0m\u001b[0mself\u001b[0m\u001b[1;33m)\u001b[0m\u001b[1;33m:\u001b[0m\u001b[1;33m\u001b[0m\u001b[1;33m\u001b[0m\u001b[0m\n",
      "\u001b[1;32m~\\anaconda3\\envs\\geospatial\\lib\\site-packages\\pandas\\io\\parsers\\c_parser_wrapper.py\u001b[0m in \u001b[0;36m__init__\u001b[1;34m(self, src, **kwds)\u001b[0m\n\u001b[0;32m     49\u001b[0m \u001b[1;33m\u001b[0m\u001b[0m\n\u001b[0;32m     50\u001b[0m         \u001b[1;31m# open handles\u001b[0m\u001b[1;33m\u001b[0m\u001b[1;33m\u001b[0m\u001b[1;33m\u001b[0m\u001b[0m\n\u001b[1;32m---> 51\u001b[1;33m         \u001b[0mself\u001b[0m\u001b[1;33m.\u001b[0m\u001b[0m_open_handles\u001b[0m\u001b[1;33m(\u001b[0m\u001b[0msrc\u001b[0m\u001b[1;33m,\u001b[0m \u001b[0mkwds\u001b[0m\u001b[1;33m)\u001b[0m\u001b[1;33m\u001b[0m\u001b[1;33m\u001b[0m\u001b[0m\n\u001b[0m\u001b[0;32m     52\u001b[0m         \u001b[1;32massert\u001b[0m \u001b[0mself\u001b[0m\u001b[1;33m.\u001b[0m\u001b[0mhandles\u001b[0m \u001b[1;32mis\u001b[0m \u001b[1;32mnot\u001b[0m \u001b[1;32mNone\u001b[0m\u001b[1;33m\u001b[0m\u001b[1;33m\u001b[0m\u001b[0m\n\u001b[0;32m     53\u001b[0m \u001b[1;33m\u001b[0m\u001b[0m\n",
      "\u001b[1;32m~\\anaconda3\\envs\\geospatial\\lib\\site-packages\\pandas\\io\\parsers\\base_parser.py\u001b[0m in \u001b[0;36m_open_handles\u001b[1;34m(self, src, kwds)\u001b[0m\n\u001b[0;32m    220\u001b[0m         \u001b[0mLet\u001b[0m \u001b[0mthe\u001b[0m \u001b[0mreaders\u001b[0m \u001b[0mopen\u001b[0m \u001b[0mIOHandles\u001b[0m \u001b[0mafter\u001b[0m \u001b[0mthey\u001b[0m \u001b[0mare\u001b[0m \u001b[0mdone\u001b[0m \u001b[1;32mwith\u001b[0m \u001b[0mtheir\u001b[0m \u001b[0mpotential\u001b[0m \u001b[0mraises\u001b[0m\u001b[1;33m.\u001b[0m\u001b[1;33m\u001b[0m\u001b[1;33m\u001b[0m\u001b[0m\n\u001b[0;32m    221\u001b[0m         \"\"\"\n\u001b[1;32m--> 222\u001b[1;33m         self.handles = get_handle(\n\u001b[0m\u001b[0;32m    223\u001b[0m             \u001b[0msrc\u001b[0m\u001b[1;33m,\u001b[0m\u001b[1;33m\u001b[0m\u001b[1;33m\u001b[0m\u001b[0m\n\u001b[0;32m    224\u001b[0m             \u001b[1;34m\"r\"\u001b[0m\u001b[1;33m,\u001b[0m\u001b[1;33m\u001b[0m\u001b[1;33m\u001b[0m\u001b[0m\n",
      "\u001b[1;32m~\\anaconda3\\envs\\geospatial\\lib\\site-packages\\pandas\\io\\common.py\u001b[0m in \u001b[0;36mget_handle\u001b[1;34m(path_or_buf, mode, encoding, compression, memory_map, is_text, errors, storage_options)\u001b[0m\n\u001b[0;32m    700\u001b[0m         \u001b[1;32mif\u001b[0m \u001b[0mioargs\u001b[0m\u001b[1;33m.\u001b[0m\u001b[0mencoding\u001b[0m \u001b[1;32mand\u001b[0m \u001b[1;34m\"b\"\u001b[0m \u001b[1;32mnot\u001b[0m \u001b[1;32min\u001b[0m \u001b[0mioargs\u001b[0m\u001b[1;33m.\u001b[0m\u001b[0mmode\u001b[0m\u001b[1;33m:\u001b[0m\u001b[1;33m\u001b[0m\u001b[1;33m\u001b[0m\u001b[0m\n\u001b[0;32m    701\u001b[0m             \u001b[1;31m# Encoding\u001b[0m\u001b[1;33m\u001b[0m\u001b[1;33m\u001b[0m\u001b[1;33m\u001b[0m\u001b[0m\n\u001b[1;32m--> 702\u001b[1;33m             handle = open(\n\u001b[0m\u001b[0;32m    703\u001b[0m                 \u001b[0mhandle\u001b[0m\u001b[1;33m,\u001b[0m\u001b[1;33m\u001b[0m\u001b[1;33m\u001b[0m\u001b[0m\n\u001b[0;32m    704\u001b[0m                 \u001b[0mioargs\u001b[0m\u001b[1;33m.\u001b[0m\u001b[0mmode\u001b[0m\u001b[1;33m,\u001b[0m\u001b[1;33m\u001b[0m\u001b[1;33m\u001b[0m\u001b[0m\n",
      "\u001b[1;31mFileNotFoundError\u001b[0m: [Errno 2] No such file or directory: '../data/may_trips.csv'"
     ]
    }
   ],
   "source": [
    "may_data = pd.read_csv('../data/may.csv')\n",
    "may_trips = pd.read_csv('../data/may_trips.csv')\n",
    "june_data = pd.read_csv('../data/june.csv')\n",
    "june_trips = pd.read_csv('../data/june_trips.csv')\n",
    "july_data = pd.read_csv('../data/july.csv')\n",
    "july_trips = pd.read_csv('../data/july_trips.csv')"
   ]
  },
  {
   "cell_type": "code",
   "execution_count": null,
   "id": "a9fe5a65",
   "metadata": {},
   "outputs": [],
   "source": [
    "may_data.info()"
   ]
  },
  {
   "cell_type": "code",
   "execution_count": 6,
   "id": "8624bcf7",
   "metadata": {},
   "outputs": [
    {
     "name": "stdout",
     "output_type": "stream",
     "text": [
      "                   pubdatetime   latitude  longitude        sumdid sumdtype  \\\n",
      "0   2019-05-01 00:01:41.247000  36.136822 -86.799877  PoweredLIRL1  Powered   \n",
      "1   2019-05-01 00:01:41.247000  36.191252 -86.772945  PoweredXWRWC  Powered   \n",
      "2   2019-05-01 00:01:41.247000  36.144752 -86.806293  PoweredMEJEH  Powered   \n",
      "3   2019-05-01 00:01:41.247000  36.162056 -86.774688  Powered1A7TC  Powered   \n",
      "4   2019-05-01 00:01:41.247000  36.150973 -86.783109  Powered2TYEF  Powered   \n",
      "5   2019-05-01 00:01:41.247000  36.157188 -86.769978  Powered3F3VK  Powered   \n",
      "6   2019-05-01 00:01:41.247000  36.154348 -86.784765  PoweredVL7YG  Powered   \n",
      "7   2019-05-01 00:01:41.247000  36.158930 -86.775987  Powered5LNUG  Powered   \n",
      "8   2019-05-01 00:01:41.247000  36.135993 -86.804226  Powered7SPQQ  Powered   \n",
      "9   2019-05-01 00:01:41.247000  36.148938 -86.811256  PoweredBV1DT  Powered   \n",
      "10  2019-05-01 00:01:41.247000  36.161756 -86.777941  Powered3B46L  Powered   \n",
      "11  2019-05-01 00:01:41.247000  36.154591 -86.782247  Powered7S2UU  Powered   \n",
      "12  2019-05-01 00:01:41.247000  36.148193 -86.802267  PoweredA64US  Powered   \n",
      "13  2019-05-01 00:01:41.247000  36.154716 -86.797860  PoweredGK9VY  Powered   \n",
      "14  2019-05-01 00:01:41.247000  36.160524 -86.778528  PoweredBFCXJ  Powered   \n",
      "15  2019-05-01 00:01:41.247000  36.138401 -86.767465  PoweredAB4VX  Powered   \n",
      "16  2019-05-01 00:01:41.247000  36.159659 -86.788282  PoweredNPV1Q  Powered   \n",
      "17  2019-05-01 00:01:41.247000  36.154781 -86.785050  PoweredXWRSD  Powered   \n",
      "18  2019-05-01 00:01:41.247000  36.160438 -86.778480  Powered2ZSZE  Powered   \n",
      "19  2019-05-01 00:01:41.247000  36.160560 -86.778621  PoweredI4EEE  Powered   \n",
      "20  2019-05-01 00:01:41.247000  36.158783 -86.779234  PoweredY43Q4  Powered   \n",
      "21  2019-05-01 00:01:41.247000  36.161325 -86.777521  PoweredRWGRR  Powered   \n",
      "22  2019-05-01 00:01:41.247000  36.151640 -86.787593  PoweredASJRY  Powered   \n",
      "23  2019-05-01 00:01:41.247000  36.162920 -86.780974  Powered12J9T  Powered   \n",
      "24  2019-05-01 00:01:41.247000  36.161862 -86.779130  PoweredA9W92  Powered   \n",
      "25  2019-05-01 00:01:41.247000  36.153412 -86.780707  Powered38GUR  Powered   \n",
      "26  2019-05-01 00:01:41.247000  36.135730 -86.802048  PoweredMA1E2  Powered   \n",
      "27  2019-05-01 00:01:41.247000  36.146417 -86.802519  PoweredXFQ22  Powered   \n",
      "28  2019-05-01 00:01:41.247000  36.160937 -86.773172  PoweredVZU3B  Powered   \n",
      "29  2019-05-01 00:01:41.247000  36.163215 -86.778137  PoweredLP7V8  Powered   \n",
      "30  2019-05-01 00:01:41.247000  36.160151 -86.778160  Powered4P19Z  Powered   \n",
      "31  2019-05-01 00:01:41.247000  36.160827 -86.777283  PoweredBE3BS  Powered   \n",
      "32  2019-05-01 00:01:41.247000  36.167599 -86.820593  PoweredV33KI  Powered   \n",
      "33  2019-05-01 00:01:41.247000  36.163280 -86.780282  PoweredKUV1U  Powered   \n",
      "34  2019-05-01 00:01:41.247000  36.163904 -86.779432  Powered4BES8  Powered   \n",
      "35  2019-05-01 00:01:41.247000  36.147219 -86.792547  PoweredS3C46  Powered   \n",
      "36  2019-05-01 00:01:41.247000  36.140610 -86.806159  PoweredRAQAI  Powered   \n",
      "37  2019-05-01 00:01:41.247000  36.154377 -86.798815  PoweredBF8XE  Powered   \n",
      "38  2019-05-01 00:01:41.247000  36.176472 -86.785293  PoweredDNCQL  Powered   \n",
      "39  2019-05-01 00:01:41.247000  36.152399 -86.791586  PoweredK6YH7  Powered   \n",
      "40  2019-05-01 00:01:41.247000  36.157598 -86.773162  PoweredINP6E  Powered   \n",
      "41  2019-05-01 00:01:41.247000  36.143279 -86.801851  Powered71SLY  Powered   \n",
      "42  2019-05-01 00:01:41.247000  36.155631 -86.785399  PoweredC4JMV  Powered   \n",
      "43  2019-05-01 00:01:41.247000  36.138622 -86.793982  Powered125HI  Powered   \n",
      "44  2019-05-01 00:01:41.247000  36.162090 -86.775447  PoweredFZIK5  Powered   \n",
      "45  2019-05-01 00:01:41.247000  36.151606 -86.812096  Powered9DC3R  Powered   \n",
      "46  2019-05-01 00:01:41.247000  36.158371 -86.780487  PoweredAPID7  Powered   \n",
      "47  2019-05-01 00:01:41.247000  36.161611 -86.769058  Powered57MTR  Powered   \n",
      "48  2019-05-01 00:01:41.247000  36.153159 -86.789142  Powered3WW12  Powered   \n",
      "49  2019-05-01 00:01:41.247000  36.146792 -86.808228  PoweredDVQDU  Powered   \n",
      "\n",
      "    chargelevel sumdgroup  costpermin companyname  \n",
      "0          93.0   scooter         0.0        Bird  \n",
      "1          35.0   scooter         0.0        Bird  \n",
      "2          90.0   scooter         0.0        Bird  \n",
      "3          88.0   scooter         0.0        Bird  \n",
      "4          98.0   scooter         0.0        Bird  \n",
      "5          82.0   scooter         0.0        Bird  \n",
      "6          56.0   scooter         0.0        Bird  \n",
      "7         100.0   scooter         0.0        Bird  \n",
      "8          85.0   scooter         0.0        Bird  \n",
      "9          65.0   scooter         0.0        Bird  \n",
      "10        100.0   scooter         0.0        Bird  \n",
      "11         69.0   scooter         0.0        Bird  \n",
      "12         72.0   scooter         0.0        Bird  \n",
      "13         74.0   scooter         0.0        Bird  \n",
      "14         79.0   scooter         0.0        Bird  \n",
      "15         65.0   scooter         0.0        Bird  \n",
      "16        100.0   scooter         0.0        Bird  \n",
      "17         35.0   scooter         0.0        Bird  \n",
      "18         90.0   scooter         0.0        Bird  \n",
      "19         93.0   scooter         0.0        Bird  \n",
      "20         34.0   scooter         0.0        Bird  \n",
      "21         87.0   scooter         0.0        Bird  \n",
      "22         72.0   scooter         0.0        Bird  \n",
      "23        100.0   scooter         0.0        Bird  \n",
      "24        100.0   scooter         0.0        Bird  \n",
      "25         35.0   scooter         0.0        Bird  \n",
      "26         94.0   scooter         0.0        Bird  \n",
      "27         92.0   scooter         0.0        Bird  \n",
      "28         46.0   scooter         0.0        Bird  \n",
      "29         92.0   scooter         0.0        Bird  \n",
      "30         69.0   scooter         0.0        Bird  \n",
      "31         95.0   scooter         0.0        Bird  \n",
      "32        100.0   scooter         0.0        Bird  \n",
      "33         92.0   scooter         0.0        Bird  \n",
      "34         35.0   scooter         0.0        Bird  \n",
      "35         72.0   scooter         0.0        Bird  \n",
      "36         54.0   scooter         0.0        Bird  \n",
      "37         79.0   scooter         0.0        Bird  \n",
      "38         90.0   scooter         0.0        Bird  \n",
      "39        100.0   scooter         0.0        Bird  \n",
      "40         78.0   scooter         0.0        Bird  \n",
      "41         70.0   scooter         0.0        Bird  \n",
      "42        100.0   scooter         0.0        Bird  \n",
      "43         85.0   scooter         0.0        Bird  \n",
      "44         95.0   scooter         0.0        Bird  \n",
      "45         35.0   scooter         0.0        Bird  \n",
      "46         82.0   scooter         0.0        Bird  \n",
      "47         38.0   scooter         0.0        Bird  \n",
      "48         89.0   scooter         0.0        Bird  \n",
      "49         79.0   scooter         0.0        Bird  \n"
     ]
    }
   ],
   "source": [
    "print(may_data.head(50))"
   ]
  },
  {
   "cell_type": "code",
   "execution_count": null,
   "id": "40d49de6",
   "metadata": {},
   "outputs": [],
   "source": [
    "print(june_data.info())"
   ]
  }
 ],
 "metadata": {
  "kernelspec": {
   "display_name": "Python 3 (ipykernel)",
   "language": "python",
   "name": "python3"
  },
  "language_info": {
   "codemirror_mode": {
    "name": "ipython",
    "version": 3
   },
   "file_extension": ".py",
   "mimetype": "text/x-python",
   "name": "python",
   "nbconvert_exporter": "python",
   "pygments_lexer": "ipython3",
   "version": "3.8.5"
  }
 },
 "nbformat": 4,
 "nbformat_minor": 5
}
