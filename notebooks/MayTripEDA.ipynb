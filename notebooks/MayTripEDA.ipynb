{
 "cells": [
  {
   "cell_type": "code",
   "execution_count": 1,
   "id": "200130fd",
   "metadata": {},
   "outputs": [],
   "source": [
    "import pandas as pd\n",
    "import pickle"
   ]
  },
  {
   "cell_type": "code",
   "execution_count": 2,
   "id": "dbb1d40f",
   "metadata": {},
   "outputs": [
    {
     "name": "stdout",
     "output_type": "stream",
     "text": [
      "Wall time: 886 ms\n"
     ]
    },
    {
     "data": {
      "text/html": [
       "<div>\n",
       "<style scoped>\n",
       "    .dataframe tbody tr th:only-of-type {\n",
       "        vertical-align: middle;\n",
       "    }\n",
       "\n",
       "    .dataframe tbody tr th {\n",
       "        vertical-align: top;\n",
       "    }\n",
       "\n",
       "    .dataframe thead th {\n",
       "        text-align: right;\n",
       "    }\n",
       "</style>\n",
       "<table border=\"1\" class=\"dataframe\">\n",
       "  <thead>\n",
       "    <tr style=\"text-align: right;\">\n",
       "      <th></th>\n",
       "      <th>pubTimeStamp</th>\n",
       "      <th>companyName</th>\n",
       "      <th>tripRecordNum</th>\n",
       "      <th>sumdID</th>\n",
       "      <th>tripDuration</th>\n",
       "      <th>tripDistance</th>\n",
       "      <th>startDate</th>\n",
       "      <th>startTime</th>\n",
       "      <th>endDate</th>\n",
       "      <th>endTime</th>\n",
       "      <th>startLatitude</th>\n",
       "      <th>startLongitude</th>\n",
       "      <th>endLatitude</th>\n",
       "      <th>endLongitude</th>\n",
       "      <th>tripRoute</th>\n",
       "      <th>create_dt</th>\n",
       "    </tr>\n",
       "  </thead>\n",
       "  <tbody>\n",
       "    <tr>\n",
       "      <th>0</th>\n",
       "      <td>2019-05-01 00:00:55.423</td>\n",
       "      <td>Bird</td>\n",
       "      <td>BRD2134</td>\n",
       "      <td>Powered9EAJL</td>\n",
       "      <td>3.0000</td>\n",
       "      <td>958.00528</td>\n",
       "      <td>2019-05-01</td>\n",
       "      <td>2021-10-23 00:00:20.460000</td>\n",
       "      <td>2019-05-01</td>\n",
       "      <td>2021-10-23 00:02:52.346666</td>\n",
       "      <td>36.15710</td>\n",
       "      <td>-86.80360</td>\n",
       "      <td>36.15660</td>\n",
       "      <td>-86.80670</td>\n",
       "      <td>[[36.157235,-86.803612],[36.157235,-86.80362],...</td>\n",
       "      <td>2019-05-02 05:30:23.780000</td>\n",
       "    </tr>\n",
       "    <tr>\n",
       "      <th>1</th>\n",
       "      <td>2019-05-01 00:03:33.147</td>\n",
       "      <td>Lyft</td>\n",
       "      <td>LFT5</td>\n",
       "      <td>Powered296631</td>\n",
       "      <td>1.7156</td>\n",
       "      <td>1371.39112</td>\n",
       "      <td>2019-05-01</td>\n",
       "      <td>2021-10-23 00:01:50.090000</td>\n",
       "      <td>2019-05-01</td>\n",
       "      <td>2021-10-23 00:03:33.026666</td>\n",
       "      <td>36.15797</td>\n",
       "      <td>-86.77896</td>\n",
       "      <td>36.16054</td>\n",
       "      <td>-86.77689</td>\n",
       "      <td>[[36.15797,-86.77896],[36.15795,-86.77873],[36...</td>\n",
       "      <td>2019-05-02 07:20:32.757000</td>\n",
       "    </tr>\n",
       "    <tr>\n",
       "      <th>2</th>\n",
       "      <td>2019-05-01 00:05:55.570</td>\n",
       "      <td>Bird</td>\n",
       "      <td>BRD2168</td>\n",
       "      <td>Powered7S2UU</td>\n",
       "      <td>3.0000</td>\n",
       "      <td>2296.58800</td>\n",
       "      <td>2019-05-01</td>\n",
       "      <td>2021-10-23 00:03:47.363333</td>\n",
       "      <td>2019-05-01</td>\n",
       "      <td>2021-10-23 00:07:13.596666</td>\n",
       "      <td>36.15470</td>\n",
       "      <td>-86.78180</td>\n",
       "      <td>36.15650</td>\n",
       "      <td>-86.78680</td>\n",
       "      <td>[[36.155068,-86.782124],[36.156597,-86.78675]]</td>\n",
       "      <td>2019-05-02 05:30:24.530000</td>\n",
       "    </tr>\n",
       "    <tr>\n",
       "      <th>3</th>\n",
       "      <td>2019-05-01 00:05:55.570</td>\n",
       "      <td>Bird</td>\n",
       "      <td>BRD2166</td>\n",
       "      <td>PoweredZIIVX</td>\n",
       "      <td>3.0000</td>\n",
       "      <td>1200.78744</td>\n",
       "      <td>2019-05-01</td>\n",
       "      <td>2021-10-23 00:04:21.386666</td>\n",
       "      <td>2019-05-01</td>\n",
       "      <td>2021-10-23 00:06:59.176666</td>\n",
       "      <td>36.14940</td>\n",
       "      <td>-86.77950</td>\n",
       "      <td>36.15310</td>\n",
       "      <td>-86.77960</td>\n",
       "      <td>[[36.149741,-86.779344],[36.149741,-86.779327]...</td>\n",
       "      <td>2019-05-02 05:30:24.237000</td>\n",
       "    </tr>\n",
       "    <tr>\n",
       "      <th>4</th>\n",
       "      <td>2019-05-01 00:05:55.570</td>\n",
       "      <td>Bird</td>\n",
       "      <td>BRD2165</td>\n",
       "      <td>PoweredJ7MB3</td>\n",
       "      <td>2.0000</td>\n",
       "      <td>351.04988</td>\n",
       "      <td>2019-05-01</td>\n",
       "      <td>2021-10-23 00:04:27.796666</td>\n",
       "      <td>2019-05-01</td>\n",
       "      <td>2021-10-23 00:06:23.150000</td>\n",
       "      <td>36.17780</td>\n",
       "      <td>-86.78660</td>\n",
       "      <td>36.17740</td>\n",
       "      <td>-86.78760</td>\n",
       "      <td>[[36.177699,-86.786477],[36.177711,-86.786469]...</td>\n",
       "      <td>2019-05-02 05:30:24.207000</td>\n",
       "    </tr>\n",
       "  </tbody>\n",
       "</table>\n",
       "</div>"
      ],
      "text/plain": [
       "             pubTimeStamp companyName tripRecordNum         sumdID  \\\n",
       "0 2019-05-01 00:00:55.423        Bird       BRD2134   Powered9EAJL   \n",
       "1 2019-05-01 00:03:33.147        Lyft          LFT5  Powered296631   \n",
       "2 2019-05-01 00:05:55.570        Bird       BRD2168   Powered7S2UU   \n",
       "3 2019-05-01 00:05:55.570        Bird       BRD2166   PoweredZIIVX   \n",
       "4 2019-05-01 00:05:55.570        Bird       BRD2165   PoweredJ7MB3   \n",
       "\n",
       "   tripDuration  tripDistance  startDate                  startTime  \\\n",
       "0        3.0000     958.00528 2019-05-01 2021-10-23 00:00:20.460000   \n",
       "1        1.7156    1371.39112 2019-05-01 2021-10-23 00:01:50.090000   \n",
       "2        3.0000    2296.58800 2019-05-01 2021-10-23 00:03:47.363333   \n",
       "3        3.0000    1200.78744 2019-05-01 2021-10-23 00:04:21.386666   \n",
       "4        2.0000     351.04988 2019-05-01 2021-10-23 00:04:27.796666   \n",
       "\n",
       "     endDate                    endTime  startLatitude  startLongitude  \\\n",
       "0 2019-05-01 2021-10-23 00:02:52.346666       36.15710       -86.80360   \n",
       "1 2019-05-01 2021-10-23 00:03:33.026666       36.15797       -86.77896   \n",
       "2 2019-05-01 2021-10-23 00:07:13.596666       36.15470       -86.78180   \n",
       "3 2019-05-01 2021-10-23 00:06:59.176666       36.14940       -86.77950   \n",
       "4 2019-05-01 2021-10-23 00:06:23.150000       36.17780       -86.78660   \n",
       "\n",
       "   endLatitude  endLongitude  \\\n",
       "0     36.15660     -86.80670   \n",
       "1     36.16054     -86.77689   \n",
       "2     36.15650     -86.78680   \n",
       "3     36.15310     -86.77960   \n",
       "4     36.17740     -86.78760   \n",
       "\n",
       "                                           tripRoute  \\\n",
       "0  [[36.157235,-86.803612],[36.157235,-86.80362],...   \n",
       "1  [[36.15797,-86.77896],[36.15795,-86.77873],[36...   \n",
       "2     [[36.155068,-86.782124],[36.156597,-86.78675]]   \n",
       "3  [[36.149741,-86.779344],[36.149741,-86.779327]...   \n",
       "4  [[36.177699,-86.786477],[36.177711,-86.786469]...   \n",
       "\n",
       "                    create_dt  \n",
       "0  2019-05-02 05:30:23.780000  \n",
       "1  2019-05-02 07:20:32.757000  \n",
       "2  2019-05-02 05:30:24.530000  \n",
       "3  2019-05-02 05:30:24.237000  \n",
       "4  2019-05-02 05:30:24.207000  "
      ]
     },
     "execution_count": 2,
     "metadata": {},
     "output_type": "execute_result"
    }
   ],
   "source": [
    "%%time\n",
    "may_trip = pd.read_pickle('../data/may_trip.pkl')\n",
    "may_trip.head()\n"
   ]
  },
  {
   "cell_type": "code",
   "execution_count": 3,
   "id": "edf5911c",
   "metadata": {},
   "outputs": [
    {
     "name": "stdout",
     "output_type": "stream",
     "text": [
      "<class 'pandas.core.frame.DataFrame'>\n",
      "RangeIndex: 224969 entries, 0 to 224968\n",
      "Data columns (total 16 columns):\n",
      " #   Column          Non-Null Count   Dtype         \n",
      "---  ------          --------------   -----         \n",
      " 0   pubTimeStamp    224969 non-null  datetime64[ns]\n",
      " 1   companyName     224969 non-null  object        \n",
      " 2   tripRecordNum   224969 non-null  object        \n",
      " 3   sumdID          224969 non-null  object        \n",
      " 4   tripDuration    224969 non-null  float64       \n",
      " 5   tripDistance    224969 non-null  float64       \n",
      " 6   startDate       224969 non-null  datetime64[ns]\n",
      " 7   startTime       224969 non-null  datetime64[ns]\n",
      " 8   endDate         224969 non-null  datetime64[ns]\n",
      " 9   endTime         224969 non-null  datetime64[ns]\n",
      " 10  startLatitude   224969 non-null  float64       \n",
      " 11  startLongitude  224969 non-null  float64       \n",
      " 12  endLatitude     224969 non-null  float64       \n",
      " 13  endLongitude    224969 non-null  float64       \n",
      " 14  tripRoute       224969 non-null  object        \n",
      " 15  create_dt       224969 non-null  object        \n",
      "dtypes: datetime64[ns](5), float64(6), object(5)\n",
      "memory usage: 27.5+ MB\n"
     ]
    }
   ],
   "source": [
    "may_trip.info()"
   ]
  },
  {
   "cell_type": "code",
   "execution_count": 4,
   "id": "ab32e790",
   "metadata": {},
   "outputs": [
    {
     "data": {
      "text/plain": [
       "array(['Bird', 'Lyft', 'Lime', 'SPIN', 'JUMP', 'Gotcha', 'Bolt Mobility'],\n",
       "      dtype=object)"
      ]
     },
     "execution_count": 4,
     "metadata": {},
     "output_type": "execute_result"
    }
   ],
   "source": [
    "may_trip.companyName.unique()"
   ]
  },
  {
   "cell_type": "code",
   "execution_count": null,
   "id": "0430754e",
   "metadata": {},
   "outputs": [],
   "source": []
  },
  {
   "cell_type": "code",
   "execution_count": 5,
   "id": "9373f90d",
   "metadata": {},
   "outputs": [
    {
     "data": {
      "text/html": [
       "<div>\n",
       "<style scoped>\n",
       "    .dataframe tbody tr th:only-of-type {\n",
       "        vertical-align: middle;\n",
       "    }\n",
       "\n",
       "    .dataframe tbody tr th {\n",
       "        vertical-align: top;\n",
       "    }\n",
       "\n",
       "    .dataframe thead th {\n",
       "        text-align: right;\n",
       "    }\n",
       "</style>\n",
       "<table border=\"1\" class=\"dataframe\">\n",
       "  <thead>\n",
       "    <tr style=\"text-align: right;\">\n",
       "      <th></th>\n",
       "      <th>pubTimeStamp</th>\n",
       "      <th>companyName</th>\n",
       "      <th>tripRecordNum</th>\n",
       "      <th>sumdID</th>\n",
       "      <th>tripDuration</th>\n",
       "      <th>tripDistance</th>\n",
       "      <th>startDate</th>\n",
       "      <th>startTime</th>\n",
       "      <th>endDate</th>\n",
       "      <th>endTime</th>\n",
       "      <th>startLatitude</th>\n",
       "      <th>startLongitude</th>\n",
       "      <th>endLatitude</th>\n",
       "      <th>endLongitude</th>\n",
       "      <th>tripRoute</th>\n",
       "      <th>create_dt</th>\n",
       "    </tr>\n",
       "  </thead>\n",
       "  <tbody>\n",
       "    <tr>\n",
       "      <th>0</th>\n",
       "      <td>2019-05-01 00:00:55.423</td>\n",
       "      <td>Bird</td>\n",
       "      <td>BRD2134</td>\n",
       "      <td>Powered9EAJL</td>\n",
       "      <td>3.0000</td>\n",
       "      <td>958.00528</td>\n",
       "      <td>2019-05-01</td>\n",
       "      <td>2021-10-23 00:00:20.460</td>\n",
       "      <td>2019-05-01</td>\n",
       "      <td>2021-10-23 00:02:52.346666</td>\n",
       "      <td>36.15710</td>\n",
       "      <td>-86.80360</td>\n",
       "      <td>36.15660</td>\n",
       "      <td>-86.80670</td>\n",
       "      <td>[[36.157235,-86.803612],[36.157235,-86.80362],...</td>\n",
       "      <td>2019-05-02 05:30:23.780000</td>\n",
       "    </tr>\n",
       "    <tr>\n",
       "      <th>1</th>\n",
       "      <td>2019-05-01 00:03:33.147</td>\n",
       "      <td>Lyft</td>\n",
       "      <td>LFT5</td>\n",
       "      <td>Powered296631</td>\n",
       "      <td>1.7156</td>\n",
       "      <td>1371.39112</td>\n",
       "      <td>2019-05-01</td>\n",
       "      <td>2021-10-23 00:01:50.090</td>\n",
       "      <td>2019-05-01</td>\n",
       "      <td>2021-10-23 00:03:33.026666</td>\n",
       "      <td>36.15797</td>\n",
       "      <td>-86.77896</td>\n",
       "      <td>36.16054</td>\n",
       "      <td>-86.77689</td>\n",
       "      <td>[[36.15797,-86.77896],[36.15795,-86.77873],[36...</td>\n",
       "      <td>2019-05-02 07:20:32.757000</td>\n",
       "    </tr>\n",
       "  </tbody>\n",
       "</table>\n",
       "</div>"
      ],
      "text/plain": [
       "             pubTimeStamp companyName tripRecordNum         sumdID  \\\n",
       "0 2019-05-01 00:00:55.423        Bird       BRD2134   Powered9EAJL   \n",
       "1 2019-05-01 00:03:33.147        Lyft          LFT5  Powered296631   \n",
       "\n",
       "   tripDuration  tripDistance  startDate               startTime    endDate  \\\n",
       "0        3.0000     958.00528 2019-05-01 2021-10-23 00:00:20.460 2019-05-01   \n",
       "1        1.7156    1371.39112 2019-05-01 2021-10-23 00:01:50.090 2019-05-01   \n",
       "\n",
       "                     endTime  startLatitude  startLongitude  endLatitude  \\\n",
       "0 2021-10-23 00:02:52.346666       36.15710       -86.80360     36.15660   \n",
       "1 2021-10-23 00:03:33.026666       36.15797       -86.77896     36.16054   \n",
       "\n",
       "   endLongitude                                          tripRoute  \\\n",
       "0     -86.80670  [[36.157235,-86.803612],[36.157235,-86.80362],...   \n",
       "1     -86.77689  [[36.15797,-86.77896],[36.15795,-86.77873],[36...   \n",
       "\n",
       "                    create_dt  \n",
       "0  2019-05-02 05:30:23.780000  \n",
       "1  2019-05-02 07:20:32.757000  "
      ]
     },
     "execution_count": 5,
     "metadata": {},
     "output_type": "execute_result"
    }
   ],
   "source": [
    "may_trip.pubTimeStamp = pd.to_datetime(may_trip.pubTimeStamp)\n",
    "may_trip.startDate = pd.to_datetime(may_trip.startDate)\n",
    "may_trip.startTime = pd.to_datetime(may_trip.startTime)\n",
    "may_trip.endDate = pd.to_datetime(may_trip.endDate)\n",
    "may_trip.endTime = pd.to_datetime(may_trip.endTime)\n",
    "\n",
    "may_trip.head(2)\n"
   ]
  },
  {
   "cell_type": "code",
   "execution_count": null,
   "id": "f25cd219",
   "metadata": {},
   "outputs": [],
   "source": []
  },
  {
   "cell_type": "code",
   "execution_count": 6,
   "id": "c5dd4875",
   "metadata": {},
   "outputs": [
    {
     "name": "stdout",
     "output_type": "stream",
     "text": [
      "<class 'pandas.core.frame.DataFrame'>\n",
      "RangeIndex: 224969 entries, 0 to 224968\n",
      "Data columns (total 16 columns):\n",
      " #   Column          Non-Null Count   Dtype         \n",
      "---  ------          --------------   -----         \n",
      " 0   pubTimeStamp    224969 non-null  datetime64[ns]\n",
      " 1   companyName     224969 non-null  object        \n",
      " 2   tripRecordNum   224969 non-null  object        \n",
      " 3   sumdID          224969 non-null  object        \n",
      " 4   tripDuration    224969 non-null  float64       \n",
      " 5   tripDistance    224969 non-null  float64       \n",
      " 6   startDate       224969 non-null  datetime64[ns]\n",
      " 7   startTime       224969 non-null  datetime64[ns]\n",
      " 8   endDate         224969 non-null  datetime64[ns]\n",
      " 9   endTime         224969 non-null  datetime64[ns]\n",
      " 10  startLatitude   224969 non-null  float64       \n",
      " 11  startLongitude  224969 non-null  float64       \n",
      " 12  endLatitude     224969 non-null  float64       \n",
      " 13  endLongitude    224969 non-null  float64       \n",
      " 14  tripRoute       224969 non-null  object        \n",
      " 15  create_dt       224969 non-null  object        \n",
      "dtypes: datetime64[ns](5), float64(6), object(5)\n",
      "memory usage: 27.5+ MB\n"
     ]
    }
   ],
   "source": [
    "may_trip.info()"
   ]
  },
  {
   "cell_type": "code",
   "execution_count": 7,
   "id": "b661af30",
   "metadata": {},
   "outputs": [
    {
     "data": {
      "text/plain": [
       "6966"
      ]
     },
     "execution_count": 7,
     "metadata": {},
     "output_type": "execute_result"
    }
   ],
   "source": [
    "may_trip.sumdID.nunique()##number of unique scooter IDs"
   ]
  },
  {
   "cell_type": "code",
   "execution_count": 8,
   "id": "a700a39b",
   "metadata": {},
   "outputs": [],
   "source": [
    "may_group=may_trip.groupby(['companyName'])['sumdID'].nunique()\n",
    "may_group=may_group.sort_values()"
   ]
  },
  {
   "cell_type": "code",
   "execution_count": 9,
   "id": "89ae26ac",
   "metadata": {},
   "outputs": [
    {
     "data": {
      "text/plain": [
       "companyName\n",
       "JUMP                1\n",
       "Gotcha            105\n",
       "Bolt Mobility     342\n",
       "SPIN              636\n",
       "Lyft             1361\n",
       "Lime             1576\n",
       "Bird             2945\n",
       "Name: sumdID, dtype: int64"
      ]
     },
     "execution_count": 9,
     "metadata": {},
     "output_type": "execute_result"
    }
   ],
   "source": [
    " ##number of unique scooter IDs by company\n",
    "may_group"
   ]
  },
  {
   "cell_type": "code",
   "execution_count": 10,
   "id": "fb05519c",
   "metadata": {},
   "outputs": [
    {
     "data": {
      "text/plain": [
       "<AxesSubplot:title={'center':'Scooter Trips by Company, May 2019'}, xlabel='companyName'>"
      ]
     },
     "execution_count": 10,
     "metadata": {},
     "output_type": "execute_result"
    },
    {
     "data": {
      "image/png": "[encoded data removed]",
      "text/plain": [
       "<Figure size 432x288 with 1 Axes>"
      ]
     },
     "metadata": {
      "needs_background": "light"
     },
     "output_type": "display_data"
    }
   ],
   "source": [
    "import matplotlib.pyplot as plt\n",
    "may_group.plot.bar(x='companyName', y='sumdid', rot=0, title = 'Scooter Trips by Company, May 2019')\n",
    "##plt.show()"
   ]
  },
  {
   "cell_type": "code",
   "execution_count": 11,
   "id": "fc04fc33",
   "metadata": {},
   "outputs": [
    {
     "data": {
      "text/html": [
       "<div>\n",
       "<style scoped>\n",
       "    .dataframe tbody tr th:only-of-type {\n",
       "        vertical-align: middle;\n",
       "    }\n",
       "\n",
       "    .dataframe tbody tr th {\n",
       "        vertical-align: top;\n",
       "    }\n",
       "\n",
       "    .dataframe thead th {\n",
       "        text-align: right;\n",
       "    }\n",
       "</style>\n",
       "<table border=\"1\" class=\"dataframe\">\n",
       "  <thead>\n",
       "    <tr style=\"text-align: right;\">\n",
       "      <th></th>\n",
       "      <th>companyName</th>\n",
       "      <th>tripRecordNum</th>\n",
       "      <th>sumdID</th>\n",
       "      <th>tripRoute</th>\n",
       "      <th>create_dt</th>\n",
       "    </tr>\n",
       "  </thead>\n",
       "  <tbody>\n",
       "    <tr>\n",
       "      <th>count</th>\n",
       "      <td>224969</td>\n",
       "      <td>224969</td>\n",
       "      <td>224969</td>\n",
       "      <td>224969</td>\n",
       "      <td>224969</td>\n",
       "    </tr>\n",
       "    <tr>\n",
       "      <th>unique</th>\n",
       "      <td>7</td>\n",
       "      <td>23226</td>\n",
       "      <td>6966</td>\n",
       "      <td>196595</td>\n",
       "      <td>224969</td>\n",
       "    </tr>\n",
       "    <tr>\n",
       "      <th>top</th>\n",
       "      <td>Lime</td>\n",
       "      <td>LIM239</td>\n",
       "      <td>PoweredUNKNOWN</td>\n",
       "      <td>[]</td>\n",
       "      <td>2019-05-02 05:30:23.780000</td>\n",
       "    </tr>\n",
       "    <tr>\n",
       "      <th>freq</th>\n",
       "      <td>102569</td>\n",
       "      <td>31</td>\n",
       "      <td>2166</td>\n",
       "      <td>3549</td>\n",
       "      <td>1</td>\n",
       "    </tr>\n",
       "  </tbody>\n",
       "</table>\n",
       "</div>"
      ],
      "text/plain": [
       "       companyName tripRecordNum          sumdID tripRoute  \\\n",
       "count       224969        224969          224969    224969   \n",
       "unique           7         23226            6966    196595   \n",
       "top           Lime        LIM239  PoweredUNKNOWN        []   \n",
       "freq        102569            31            2166      3549   \n",
       "\n",
       "                         create_dt  \n",
       "count                       224969  \n",
       "unique                      224969  \n",
       "top     2019-05-02 05:30:23.780000  \n",
       "freq                             1  "
      ]
     },
     "execution_count": 11,
     "metadata": {},
     "output_type": "execute_result"
    }
   ],
   "source": [
    "may_trip.describe(include = 'O')"
   ]
  },
  {
   "cell_type": "code",
   "execution_count": 12,
   "id": "3df5ff20",
   "metadata": {},
   "outputs": [
    {
     "data": {
      "text/plain": [
       "companyName\n",
       "JUMP               240\n",
       "Gotcha             512\n",
       "Lyft               965\n",
       "Bird              1755\n",
       "SPIN              2493\n",
       "Bolt Mobility     3105\n",
       "Lime             12085\n",
       "Name: tripDistance, dtype: int64"
      ]
     },
     "execution_count": 12,
     "metadata": {},
     "output_type": "execute_result"
    }
   ],
   "source": [
    "may_distance=may_trip.groupby(['companyName'])['tripDistance'].nunique().sort_values()\n",
    "may_distance"
   ]
  },
  {
   "cell_type": "code",
   "execution_count": 13,
   "id": "4c1e48cc",
   "metadata": {},
   "outputs": [
    {
     "data": {
      "text/plain": [
       "<AxesSubplot:title={'center':'Scooter Trip Distance by Company, May 2019'}, xlabel='companyName'>"
      ]
     },
     "execution_count": 13,
     "metadata": {},
     "output_type": "execute_result"
    },
    {
     "data": {
      "image/png": "[encoded data removed]",
      "text/plain": [
       "<Figure size 432x288 with 1 Axes>"
      ]
     },
     "metadata": {
      "needs_background": "light"
     },
     "output_type": "display_data"
    }
   ],
   "source": [
    "import matplotlib.pyplot as plt\n",
    "may_distance.plot.bar(x='companyName', y='sumdid', rot=0, title = 'Scooter Trip Distance by Company, May 2019')\n",
    "##plt.show()"
   ]
  },
  {
   "cell_type": "code",
   "execution_count": 14,
   "id": "85131165",
   "metadata": {},
   "outputs": [],
   "source": [
    "##may_trip.loc[(may_trip['tripDuration']==3)].groupby(['companyName'])"
   ]
  },
  {
   "cell_type": "code",
   "execution_count": 25,
   "id": "5d28c959",
   "metadata": {},
   "outputs": [
    {
     "data": {
      "text/html": [
       "<div>\n",
       "<style scoped>\n",
       "    .dataframe tbody tr th:only-of-type {\n",
       "        vertical-align: middle;\n",
       "    }\n",
       "\n",
       "    .dataframe tbody tr th {\n",
       "        vertical-align: top;\n",
       "    }\n",
       "\n",
       "    .dataframe thead th {\n",
       "        text-align: right;\n",
       "    }\n",
       "</style>\n",
       "<table border=\"1\" class=\"dataframe\">\n",
       "  <thead>\n",
       "    <tr style=\"text-align: right;\">\n",
       "      <th></th>\n",
       "      <th>pubTimeStamp</th>\n",
       "      <th>companyName</th>\n",
       "      <th>tripRecordNum</th>\n",
       "      <th>sumdID</th>\n",
       "      <th>tripDuration</th>\n",
       "      <th>tripDistance</th>\n",
       "      <th>startDate</th>\n",
       "      <th>startTime</th>\n",
       "      <th>endDate</th>\n",
       "      <th>endTime</th>\n",
       "      <th>startLatitude</th>\n",
       "      <th>startLongitude</th>\n",
       "      <th>endLatitude</th>\n",
       "      <th>endLongitude</th>\n",
       "      <th>tripRoute</th>\n",
       "      <th>create_dt</th>\n",
       "    </tr>\n",
       "  </thead>\n",
       "  <tbody>\n",
       "    <tr>\n",
       "      <th>0</th>\n",
       "      <td>2019-05-01 00:00:55.423</td>\n",
       "      <td>Bird</td>\n",
       "      <td>BRD2134</td>\n",
       "      <td>Powered9EAJL</td>\n",
       "      <td>3.000000</td>\n",
       "      <td>958.00528</td>\n",
       "      <td>2019-05-01</td>\n",
       "      <td>2021-10-23 00:00:20.460000</td>\n",
       "      <td>2019-05-01</td>\n",
       "      <td>2021-10-23 00:02:52.346666</td>\n",
       "      <td>36.157100</td>\n",
       "      <td>-86.803600</td>\n",
       "      <td>36.156600</td>\n",
       "      <td>-86.806700</td>\n",
       "      <td>[[36.157235,-86.803612],[36.157235,-86.80362],...</td>\n",
       "      <td>2019-05-02 05:30:23.780000</td>\n",
       "    </tr>\n",
       "    <tr>\n",
       "      <th>1</th>\n",
       "      <td>2019-05-01 00:03:33.147</td>\n",
       "      <td>Lyft</td>\n",
       "      <td>LFT5</td>\n",
       "      <td>Powered296631</td>\n",
       "      <td>1.715600</td>\n",
       "      <td>1371.39112</td>\n",
       "      <td>2019-05-01</td>\n",
       "      <td>2021-10-23 00:01:50.090000</td>\n",
       "      <td>2019-05-01</td>\n",
       "      <td>2021-10-23 00:03:33.026666</td>\n",
       "      <td>36.157970</td>\n",
       "      <td>-86.778960</td>\n",
       "      <td>36.160540</td>\n",
       "      <td>-86.776890</td>\n",
       "      <td>[[36.15797,-86.77896],[36.15795,-86.77873],[36...</td>\n",
       "      <td>2019-05-02 07:20:32.757000</td>\n",
       "    </tr>\n",
       "    <tr>\n",
       "      <th>2</th>\n",
       "      <td>2019-05-01 00:05:55.570</td>\n",
       "      <td>Bird</td>\n",
       "      <td>BRD2168</td>\n",
       "      <td>Powered7S2UU</td>\n",
       "      <td>3.000000</td>\n",
       "      <td>2296.58800</td>\n",
       "      <td>2019-05-01</td>\n",
       "      <td>2021-10-23 00:03:47.363333</td>\n",
       "      <td>2019-05-01</td>\n",
       "      <td>2021-10-23 00:07:13.596666</td>\n",
       "      <td>36.154700</td>\n",
       "      <td>-86.781800</td>\n",
       "      <td>36.156500</td>\n",
       "      <td>-86.786800</td>\n",
       "      <td>[[36.155068,-86.782124],[36.156597,-86.78675]]</td>\n",
       "      <td>2019-05-02 05:30:24.530000</td>\n",
       "    </tr>\n",
       "    <tr>\n",
       "      <th>3</th>\n",
       "      <td>2019-05-01 00:05:55.570</td>\n",
       "      <td>Bird</td>\n",
       "      <td>BRD2166</td>\n",
       "      <td>PoweredZIIVX</td>\n",
       "      <td>3.000000</td>\n",
       "      <td>1200.78744</td>\n",
       "      <td>2019-05-01</td>\n",
       "      <td>2021-10-23 00:04:21.386666</td>\n",
       "      <td>2019-05-01</td>\n",
       "      <td>2021-10-23 00:06:59.176666</td>\n",
       "      <td>36.149400</td>\n",
       "      <td>-86.779500</td>\n",
       "      <td>36.153100</td>\n",
       "      <td>-86.779600</td>\n",
       "      <td>[[36.149741,-86.779344],[36.149741,-86.779327]...</td>\n",
       "      <td>2019-05-02 05:30:24.237000</td>\n",
       "    </tr>\n",
       "    <tr>\n",
       "      <th>4</th>\n",
       "      <td>2019-05-01 00:05:55.570</td>\n",
       "      <td>Bird</td>\n",
       "      <td>BRD2165</td>\n",
       "      <td>PoweredJ7MB3</td>\n",
       "      <td>2.000000</td>\n",
       "      <td>351.04988</td>\n",
       "      <td>2019-05-01</td>\n",
       "      <td>2021-10-23 00:04:27.796666</td>\n",
       "      <td>2019-05-01</td>\n",
       "      <td>2021-10-23 00:06:23.150000</td>\n",
       "      <td>36.177800</td>\n",
       "      <td>-86.786600</td>\n",
       "      <td>36.177400</td>\n",
       "      <td>-86.787600</td>\n",
       "      <td>[[36.177699,-86.786477],[36.177711,-86.786469]...</td>\n",
       "      <td>2019-05-02 05:30:24.207000</td>\n",
       "    </tr>\n",
       "    <tr>\n",
       "      <th>...</th>\n",
       "      <td>...</td>\n",
       "      <td>...</td>\n",
       "      <td>...</td>\n",
       "      <td>...</td>\n",
       "      <td>...</td>\n",
       "      <td>...</td>\n",
       "      <td>...</td>\n",
       "      <td>...</td>\n",
       "      <td>...</td>\n",
       "      <td>...</td>\n",
       "      <td>...</td>\n",
       "      <td>...</td>\n",
       "      <td>...</td>\n",
       "      <td>...</td>\n",
       "      <td>...</td>\n",
       "      <td>...</td>\n",
       "    </tr>\n",
       "    <tr>\n",
       "      <th>224963</th>\n",
       "      <td>2019-06-01 23:50:42.337</td>\n",
       "      <td>Lime</td>\n",
       "      <td>LIM5186</td>\n",
       "      <td>Powered2OFHK7WJJGPSG</td>\n",
       "      <td>43.733333</td>\n",
       "      <td>14632.36800</td>\n",
       "      <td>2019-05-31</td>\n",
       "      <td>2021-10-23 23:44:06.000000</td>\n",
       "      <td>2019-06-01</td>\n",
       "      <td>2021-10-23 00:27:50.000000</td>\n",
       "      <td>36.137421</td>\n",
       "      <td>-86.776549</td>\n",
       "      <td>36.172185</td>\n",
       "      <td>-86.785387</td>\n",
       "      <td>[[36.1382,-86.77696],[36.13872,-86.77828000000...</td>\n",
       "      <td>2019-06-02 08:04:55.243000</td>\n",
       "    </tr>\n",
       "    <tr>\n",
       "      <th>224965</th>\n",
       "      <td>2019-06-01 23:50:42.397</td>\n",
       "      <td>Lime</td>\n",
       "      <td>LIM5285</td>\n",
       "      <td>PoweredQDVYGLDL6ZQDU</td>\n",
       "      <td>22.383333</td>\n",
       "      <td>9337.15680</td>\n",
       "      <td>2019-05-31</td>\n",
       "      <td>2021-10-23 23:59:45.000000</td>\n",
       "      <td>2019-06-01</td>\n",
       "      <td>2021-10-23 00:22:08.000000</td>\n",
       "      <td>36.126207</td>\n",
       "      <td>-86.789366</td>\n",
       "      <td>36.149205</td>\n",
       "      <td>-86.786162</td>\n",
       "      <td>[[36.12621,-86.78937],[36.125840000000004,-86....</td>\n",
       "      <td>2019-06-02 08:04:58.683000</td>\n",
       "    </tr>\n",
       "    <tr>\n",
       "      <th>224966</th>\n",
       "      <td>2019-06-01 23:50:42.480</td>\n",
       "      <td>Lime</td>\n",
       "      <td>LIM5413</td>\n",
       "      <td>PoweredH5HCTZB5WVABT</td>\n",
       "      <td>40.200000</td>\n",
       "      <td>20951.18880</td>\n",
       "      <td>2019-05-31</td>\n",
       "      <td>2021-10-23 23:31:19.000000</td>\n",
       "      <td>2019-06-01</td>\n",
       "      <td>2021-10-23 00:11:31.000000</td>\n",
       "      <td>36.126730</td>\n",
       "      <td>-86.778251</td>\n",
       "      <td>36.143138</td>\n",
       "      <td>-86.793144</td>\n",
       "      <td>[[36.12673,-86.77825],[36.12664,-86.77731],[36...</td>\n",
       "      <td>2019-06-02 08:05:02.987000</td>\n",
       "    </tr>\n",
       "    <tr>\n",
       "      <th>224967</th>\n",
       "      <td>2019-06-01 23:50:42.480</td>\n",
       "      <td>Lime</td>\n",
       "      <td>LIM5412</td>\n",
       "      <td>PoweredFXC5KHVLI3T7C</td>\n",
       "      <td>41.033333</td>\n",
       "      <td>21049.61280</td>\n",
       "      <td>2019-05-31</td>\n",
       "      <td>2021-10-23 23:30:26.000000</td>\n",
       "      <td>2019-06-01</td>\n",
       "      <td>2021-10-23 00:11:28.000000</td>\n",
       "      <td>36.126730</td>\n",
       "      <td>-86.778195</td>\n",
       "      <td>36.143140</td>\n",
       "      <td>-86.793125</td>\n",
       "      <td>[[36.12673,-86.77819],[36.126740000000005,-86....</td>\n",
       "      <td>2019-06-02 08:05:02.957000</td>\n",
       "    </tr>\n",
       "    <tr>\n",
       "      <th>224968</th>\n",
       "      <td>2019-06-13 05:17:41.630</td>\n",
       "      <td>SPIN</td>\n",
       "      <td>SPI146</td>\n",
       "      <td>Powered5750098</td>\n",
       "      <td>36206.000000</td>\n",
       "      <td>21551.83796</td>\n",
       "      <td>2019-05-19</td>\n",
       "      <td>2021-10-23 01:49:22.000000</td>\n",
       "      <td>2019-06-13</td>\n",
       "      <td>2021-10-23 05:14:40.000000</td>\n",
       "      <td>36.148668</td>\n",
       "      <td>-86.813511</td>\n",
       "      <td>36.147776</td>\n",
       "      <td>-86.740437</td>\n",
       "      <td>[[36.147775779365219,-86.740436729892863],[36....</td>\n",
       "      <td>2019-06-14 09:36:56.957000</td>\n",
       "    </tr>\n",
       "  </tbody>\n",
       "</table>\n",
       "<p>204310 rows × 16 columns</p>\n",
       "</div>"
      ],
      "text/plain": [
       "                  pubTimeStamp companyName tripRecordNum  \\\n",
       "0      2019-05-01 00:00:55.423        Bird       BRD2134   \n",
       "1      2019-05-01 00:03:33.147        Lyft          LFT5   \n",
       "2      2019-05-01 00:05:55.570        Bird       BRD2168   \n",
       "3      2019-05-01 00:05:55.570        Bird       BRD2166   \n",
       "4      2019-05-01 00:05:55.570        Bird       BRD2165   \n",
       "...                        ...         ...           ...   \n",
       "224963 2019-06-01 23:50:42.337        Lime       LIM5186   \n",
       "224965 2019-06-01 23:50:42.397        Lime       LIM5285   \n",
       "224966 2019-06-01 23:50:42.480        Lime       LIM5413   \n",
       "224967 2019-06-01 23:50:42.480        Lime       LIM5412   \n",
       "224968 2019-06-13 05:17:41.630        SPIN        SPI146   \n",
       "\n",
       "                      sumdID  tripDuration  tripDistance  startDate  \\\n",
       "0               Powered9EAJL      3.000000     958.00528 2019-05-01   \n",
       "1              Powered296631      1.715600    1371.39112 2019-05-01   \n",
       "2               Powered7S2UU      3.000000    2296.58800 2019-05-01   \n",
       "3               PoweredZIIVX      3.000000    1200.78744 2019-05-01   \n",
       "4               PoweredJ7MB3      2.000000     351.04988 2019-05-01   \n",
       "...                      ...           ...           ...        ...   \n",
       "224963  Powered2OFHK7WJJGPSG     43.733333   14632.36800 2019-05-31   \n",
       "224965  PoweredQDVYGLDL6ZQDU     22.383333    9337.15680 2019-05-31   \n",
       "224966  PoweredH5HCTZB5WVABT     40.200000   20951.18880 2019-05-31   \n",
       "224967  PoweredFXC5KHVLI3T7C     41.033333   21049.61280 2019-05-31   \n",
       "224968        Powered5750098  36206.000000   21551.83796 2019-05-19   \n",
       "\n",
       "                        startTime    endDate                    endTime  \\\n",
       "0      2021-10-23 00:00:20.460000 2019-05-01 2021-10-23 00:02:52.346666   \n",
       "1      2021-10-23 00:01:50.090000 2019-05-01 2021-10-23 00:03:33.026666   \n",
       "2      2021-10-23 00:03:47.363333 2019-05-01 2021-10-23 00:07:13.596666   \n",
       "3      2021-10-23 00:04:21.386666 2019-05-01 2021-10-23 00:06:59.176666   \n",
       "4      2021-10-23 00:04:27.796666 2019-05-01 2021-10-23 00:06:23.150000   \n",
       "...                           ...        ...                        ...   \n",
       "224963 2021-10-23 23:44:06.000000 2019-06-01 2021-10-23 00:27:50.000000   \n",
       "224965 2021-10-23 23:59:45.000000 2019-06-01 2021-10-23 00:22:08.000000   \n",
       "224966 2021-10-23 23:31:19.000000 2019-06-01 2021-10-23 00:11:31.000000   \n",
       "224967 2021-10-23 23:30:26.000000 2019-06-01 2021-10-23 00:11:28.000000   \n",
       "224968 2021-10-23 01:49:22.000000 2019-06-13 2021-10-23 05:14:40.000000   \n",
       "\n",
       "        startLatitude  startLongitude  endLatitude  endLongitude  \\\n",
       "0           36.157100      -86.803600    36.156600    -86.806700   \n",
       "1           36.157970      -86.778960    36.160540    -86.776890   \n",
       "2           36.154700      -86.781800    36.156500    -86.786800   \n",
       "3           36.149400      -86.779500    36.153100    -86.779600   \n",
       "4           36.177800      -86.786600    36.177400    -86.787600   \n",
       "...               ...             ...          ...           ...   \n",
       "224963      36.137421      -86.776549    36.172185    -86.785387   \n",
       "224965      36.126207      -86.789366    36.149205    -86.786162   \n",
       "224966      36.126730      -86.778251    36.143138    -86.793144   \n",
       "224967      36.126730      -86.778195    36.143140    -86.793125   \n",
       "224968      36.148668      -86.813511    36.147776    -86.740437   \n",
       "\n",
       "                                                tripRoute  \\\n",
       "0       [[36.157235,-86.803612],[36.157235,-86.80362],...   \n",
       "1       [[36.15797,-86.77896],[36.15795,-86.77873],[36...   \n",
       "2          [[36.155068,-86.782124],[36.156597,-86.78675]]   \n",
       "3       [[36.149741,-86.779344],[36.149741,-86.779327]...   \n",
       "4       [[36.177699,-86.786477],[36.177711,-86.786469]...   \n",
       "...                                                   ...   \n",
       "224963  [[36.1382,-86.77696],[36.13872,-86.77828000000...   \n",
       "224965  [[36.12621,-86.78937],[36.125840000000004,-86....   \n",
       "224966  [[36.12673,-86.77825],[36.12664,-86.77731],[36...   \n",
       "224967  [[36.12673,-86.77819],[36.126740000000005,-86....   \n",
       "224968  [[36.147775779365219,-86.740436729892863],[36....   \n",
       "\n",
       "                         create_dt  \n",
       "0       2019-05-02 05:30:23.780000  \n",
       "1       2019-05-02 07:20:32.757000  \n",
       "2       2019-05-02 05:30:24.530000  \n",
       "3       2019-05-02 05:30:24.237000  \n",
       "4       2019-05-02 05:30:24.207000  \n",
       "...                            ...  \n",
       "224963  2019-06-02 08:04:55.243000  \n",
       "224965  2019-06-02 08:04:58.683000  \n",
       "224966  2019-06-02 08:05:02.987000  \n",
       "224967  2019-06-02 08:05:02.957000  \n",
       "224968  2019-06-14 09:36:56.957000  \n",
       "\n",
       "[204310 rows x 16 columns]"
      ]
     },
     "execution_count": 25,
     "metadata": {},
     "output_type": "execute_result"
    }
   ],
   "source": [
    "may_distance3 = may_trip.loc[(may_trip['tripDistance']>=9.84252)]\n",
    "\n",
    "##may_distance3 = may_trip.loc[(may_trip['tripDistance']>=9.84252)].groupby(['companyName'])\n",
    "may_distance3\n",
    "\n",
    "                                      \n",
    "##trips that are over 3 meters"
   ]
  },
  {
   "cell_type": "code",
   "execution_count": 30,
   "id": "b5905bff",
   "metadata": {
    "scrolled": true
   },
   "outputs": [],
   "source": [
    "\n",
    "may_distance3.to_csv (r'C:\\Users\\jojuk\\Documents\\git\\projects\\nashville-scooters-scooter-snatchers\\export_MayTrip3.csv', index = False)"
   ]
  },
  {
   "cell_type": "code",
   "execution_count": 32,
   "id": "2709b349",
   "metadata": {},
   "outputs": [
    {
     "data": {
      "text/plain": [
       "<pandas.core.groupby.generic.DataFrameGroupBy object at 0x000001A0EA8CB850>"
      ]
     },
     "execution_count": 32,
     "metadata": {},
     "output_type": "execute_result"
    }
   ],
   "source": [
    "may_distance3group= may_distance3.groupby(['sumdID'])\n",
    "may_distance3group"
   ]
  },
  {
   "cell_type": "code",
   "execution_count": 31,
   "id": "b4b2bb90",
   "metadata": {},
   "outputs": [
    {
     "data": {
      "text/plain": [
       "0        Poweredb671ffe4-2bca-5880-98ec-d36f65aa11a2\n",
       "1                               PoweredWVIAXNCVDNOXP\n",
       "2                               PoweredR3QXO6TL2HIAB\n",
       "3                               PoweredRJ7YYJTHAR5N3\n",
       "4                               PoweredEGRN7CFK6Q6K2\n",
       "                            ...                     \n",
       "6300    Powered-630c1b69-c703-9866-014c-7da285c3bc5f\n",
       "6301                                    PoweredH258K\n",
       "6302                                    PoweredMIQMC\n",
       "6303                                   Powered665099\n",
       "6304                                  Powered7437332\n",
       "Name: index, Length: 6305, dtype: object"
      ]
     },
     "execution_count": 31,
     "metadata": {},
     "output_type": "execute_result"
    }
   ],
   "source": [
    "may_occurences = may_distance3.sumdID.value_counts().reset_index(name=\"count\").query(\"count >=3\")[\"index\"]\n",
    "may_occurences"
   ]
  },
  {
   "cell_type": "code",
   "execution_count": null,
   "id": "f798f1f1",
   "metadata": {},
   "outputs": [],
   "source": [
    "may_distance.describe()"
   ]
  },
  {
   "cell_type": "code",
   "execution_count": 33,
   "id": "ff39d523",
   "metadata": {},
   "outputs": [
    {
     "ename": "NameError",
     "evalue": "name 'may_dead' is not defined",
     "output_type": "error",
     "traceback": [
      "\u001b[1;31m---------------------------------------------------------------------------\u001b[0m",
      "\u001b[1;31mNameError\u001b[0m                                 Traceback (most recent call last)",
      "\u001b[1;32m~\\AppData\\Local\\Temp/ipykernel_9188/182711226.py\u001b[0m in \u001b[0;36m<module>\u001b[1;34m\u001b[0m\n\u001b[1;32m----> 1\u001b[1;33m \u001b[0mmay_dead\u001b[0m\u001b[1;33m=\u001b[0m\u001b[0mmay_dead\u001b[0m\u001b[1;33m.\u001b[0m\u001b[0mgroupby\u001b[0m\u001b[1;33m(\u001b[0m\u001b[1;33m[\u001b[0m\u001b[1;34m'companyName'\u001b[0m\u001b[1;33m]\u001b[0m\u001b[1;33m)\u001b[0m\u001b[1;33m[\u001b[0m\u001b[1;34m'sumdid'\u001b[0m\u001b[1;33m]\u001b[0m\u001b[1;33m.\u001b[0m\u001b[0mnunique\u001b[0m\u001b[1;33m(\u001b[0m\u001b[1;33m)\u001b[0m\u001b[1;33m.\u001b[0m\u001b[0msort_values\u001b[0m\u001b[1;33m(\u001b[0m\u001b[1;33m)\u001b[0m\u001b[1;33m\u001b[0m\u001b[1;33m\u001b[0m\u001b[0m\n\u001b[0m\u001b[0;32m      2\u001b[0m \u001b[0mmay_dead\u001b[0m\u001b[1;33m\u001b[0m\u001b[1;33m\u001b[0m\u001b[0m\n",
      "\u001b[1;31mNameError\u001b[0m: name 'may_dead' is not defined"
     ]
    }
   ],
   "source": [
    "may_dead=may_dead.groupby(['companyName'])['sumdid'].nunique().sort_values()\n",
    "may_dead"
   ]
  },
  {
   "cell_type": "code",
   "execution_count": null,
   "id": "8da0a0c8",
   "metadata": {},
   "outputs": [],
   "source": [
    "may_trip.loc[(may_trip['sumdID']=='PoweredUNKNOWN')]\n",
    "#may_longest = may_trip.loc[(may_trip['sumdID']=='PoweredUNKNOWN')\n",
    "#may_longest"
   ]
  },
  {
   "cell_type": "code",
   "execution_count": null,
   "id": "d07c8c53",
   "metadata": {},
   "outputs": [],
   "source": [
    "may_duration.describe()"
   ]
  },
  {
   "cell_type": "code",
   "execution_count": null,
   "id": "7aa1d6c0",
   "metadata": {},
   "outputs": [],
   "source": [
    "test=may_trip.groupby(['companyName'])['tripRecordNum'].nunique().sort_values()\n",
    "test\n"
   ]
  },
  {
   "cell_type": "code",
   "execution_count": null,
   "id": "69af8e7d",
   "metadata": {},
   "outputs": [],
   "source": [
    "may_time=may_trip.startDate-may_trip.endTime\n",
    "may_time"
   ]
  },
  {
   "cell_type": "code",
   "execution_count": null,
   "id": "3c971737",
   "metadata": {},
   "outputs": [],
   "source": [
    "s_locations = may_trip[['startLatitude', 'startLongitude']]\n",
    "locationlist = s_locations.values.tolist()\n",
    "len(locationlist)\n",
    "locationlist[7]"
   ]
  },
  {
   "cell_type": "code",
   "execution_count": null,
   "id": "7b6f7a98",
   "metadata": {},
   "outputs": [],
   "source": [
    "import folium\n",
    "map = folium.Map(location=[36.15193, -86.78439], zoom_start=12)\n",
    "for point in range(0, len(locationlist)):\n",
    "    folium.Marker(locationlist[point], popup=may_trip['companyName'][point]).add_to(map)\n",
    "map"
   ]
  },
  {
   "cell_type": "code",
   "execution_count": null,
   "id": "430afe1f",
   "metadata": {},
   "outputs": [],
   "source": [
    "map2 = folium.Map(location=[36.15193, -86.78439], tiles='CartoDB dark_matter', zoom_start=11)\n",
    "\n",
    "marker_cluster = folium.MarkerCluster().add_to(map2)\n",
    "\n",
    "for point in range(0, len(locationlist)):\n",
    "    folium.Marker(locationlist[point], popup=may_trip['companyName'][point]).add_to(marker_cluster)\n",
    "map2"
   ]
  }
 ],
 "metadata": {
  "kernelspec": {
   "display_name": "Python 3 (ipykernel)",
   "language": "python",
   "name": "python3"
  },
  "language_info": {
   "codemirror_mode": {
    "name": "ipython",
    "version": 3
   },
   "file_extension": ".py",
   "mimetype": "text/x-python",
   "name": "python",
   "nbconvert_exporter": "python",
   "pygments_lexer": "ipython3",
   "version": "3.8.5"
  }
 },
 "nbformat": 4,
 "nbformat_minor": 5
}
