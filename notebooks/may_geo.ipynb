{
 "cells": [
  {
   "cell_type": "markdown",
   "id": "bea5be60",
   "metadata": {},
   "source": [
    "The purpose of this notebook is to create a geodataframe with the month ping data and the zip codes."
   ]
  },
  {
   "cell_type": "markdown",
   "id": "46c583f5",
   "metadata": {},
   "source": [
    "Import packages"
   ]
  },
  {
   "cell_type": "code",
   "execution_count": 3,
   "id": "162a815c",
   "metadata": {},
   "outputs": [],
   "source": [
    "from shapely.geometry import Point\n",
    "import pandas as pd\n",
    "import geopandas as gpd\n",
    "import matplotlib.pyplot as plt\n",
    "import folium\n",
    "from folium.plugins import MarkerCluster\n",
    "from folium.plugins import FastMarkerCluster"
   ]
  },
  {
   "cell_type": "markdown",
   "id": "0fcfb612",
   "metadata": {},
   "source": [
    "Inspect shp file"
   ]
  },
  {
   "cell_type": "code",
   "execution_count": 30,
   "id": "8fc995b7",
   "metadata": {},
   "outputs": [
    {
     "name": "stdout",
     "output_type": "stream",
     "text": [
      "epsg:4326\n"
     ]
    },
    {
     "data": {
      "text/html": [
       "<div>\n",
       "<style scoped>\n",
       "    .dataframe tbody tr th:only-of-type {\n",
       "        vertical-align: middle;\n",
       "    }\n",
       "\n",
       "    .dataframe tbody tr th {\n",
       "        vertical-align: top;\n",
       "    }\n",
       "\n",
       "    .dataframe thead th {\n",
       "        text-align: right;\n",
       "    }\n",
       "</style>\n",
       "<table border=\"1\" class=\"dataframe\">\n",
       "  <thead>\n",
       "    <tr style=\"text-align: right;\">\n",
       "      <th></th>\n",
       "      <th>OBJECTID</th>\n",
       "      <th>ZONE_ID</th>\n",
       "      <th>SHAPE_STAr</th>\n",
       "      <th>SHAPE_STLe</th>\n",
       "      <th>geometry</th>\n",
       "    </tr>\n",
       "  </thead>\n",
       "  <tbody>\n",
       "    <tr>\n",
       "      <th>0</th>\n",
       "      <td>1</td>\n",
       "      <td>1</td>\n",
       "      <td>1.053728e+08</td>\n",
       "      <td>49364.601403</td>\n",
       "      <td>POLYGON ((-86.76297 36.19364, -86.76297 36.193...</td>\n",
       "    </tr>\n",
       "    <tr>\n",
       "      <th>1</th>\n",
       "      <td>2</td>\n",
       "      <td>2</td>\n",
       "      <td>7.670585e+07</td>\n",
       "      <td>45226.018917</td>\n",
       "      <td>POLYGON ((-86.77838 36.14889, -86.77823 36.148...</td>\n",
       "    </tr>\n",
       "    <tr>\n",
       "      <th>2</th>\n",
       "      <td>3</td>\n",
       "      <td>3</td>\n",
       "      <td>2.985488e+08</td>\n",
       "      <td>75207.067487</td>\n",
       "      <td>POLYGON ((-86.70771 36.16723, -86.70758 36.166...</td>\n",
       "    </tr>\n",
       "    <tr>\n",
       "      <th>3</th>\n",
       "      <td>4</td>\n",
       "      <td>4</td>\n",
       "      <td>2.713638e+08</td>\n",
       "      <td>74348.596054</td>\n",
       "      <td>POLYGON ((-86.74735 36.13036, -86.74728 36.130...</td>\n",
       "    </tr>\n",
       "    <tr>\n",
       "      <th>4</th>\n",
       "      <td>5</td>\n",
       "      <td>5</td>\n",
       "      <td>3.928178e+08</td>\n",
       "      <td>106661.712102</td>\n",
       "      <td>POLYGON ((-86.78490 36.23358, -86.78452 36.232...</td>\n",
       "    </tr>\n",
       "  </tbody>\n",
       "</table>\n",
       "</div>"
      ],
      "text/plain": [
       "   OBJECTID  ZONE_ID    SHAPE_STAr     SHAPE_STLe  \\\n",
       "0         1        1  1.053728e+08   49364.601403   \n",
       "1         2        2  7.670585e+07   45226.018917   \n",
       "2         3        3  2.985488e+08   75207.067487   \n",
       "3         4        4  2.713638e+08   74348.596054   \n",
       "4         5        5  3.928178e+08  106661.712102   \n",
       "\n",
       "                                            geometry  \n",
       "0  POLYGON ((-86.76297 36.19364, -86.76297 36.193...  \n",
       "1  POLYGON ((-86.77838 36.14889, -86.77823 36.148...  \n",
       "2  POLYGON ((-86.70771 36.16723, -86.70758 36.166...  \n",
       "3  POLYGON ((-86.74735 36.13036, -86.74728 36.130...  \n",
       "4  POLYGON ((-86.78490 36.23358, -86.78452 36.232...  "
      ]
     },
     "execution_count": 30,
     "metadata": {},
     "output_type": "execute_result"
    }
   ],
   "source": [
    "promise_zone = gpd.read_file('../data/MDHA_Promise_Zones/promise_zone.json')\n",
    "print(promise_zone.crs)\n",
    "promise_zone.head( )"
   ]
  },
  {
   "cell_type": "markdown",
   "id": "f95db293",
   "metadata": {},
   "source": [
    "Plot the Promise Zone"
   ]
  },
  {
   "cell_type": "code",
   "execution_count": 32,
   "id": "b64808a9",
   "metadata": {},
   "outputs": [
    {
     "data": {
      "image/png": "[encoded data removed]",
      "text/plain": [
       "<Figure size 432x288 with 1 Axes>"
      ]
     },
     "metadata": {
      "needs_background": "light"
     },
     "output_type": "display_data"
    }
   ],
   "source": [
    "promise_zone.plot();"
   ]
  },
  {
   "cell_type": "markdown",
   "id": "82a09db2",
   "metadata": {},
   "source": [
    "Read in the pkl file"
   ]
  },
  {
   "cell_type": "code",
   "execution_count": 6,
   "id": "4549a81d",
   "metadata": {},
   "outputs": [],
   "source": [
    "may = pd.read_pickle('../data/may.pkl')"
   ]
  },
  {
   "cell_type": "code",
   "execution_count": 33,
   "id": "31b1dad1",
   "metadata": {},
   "outputs": [
    {
     "data": {
      "text/html": [
       "<div>\n",
       "<style scoped>\n",
       "    .dataframe tbody tr th:only-of-type {\n",
       "        vertical-align: middle;\n",
       "    }\n",
       "\n",
       "    .dataframe tbody tr th {\n",
       "        vertical-align: top;\n",
       "    }\n",
       "\n",
       "    .dataframe thead th {\n",
       "        text-align: right;\n",
       "    }\n",
       "</style>\n",
       "<table border=\"1\" class=\"dataframe\">\n",
       "  <thead>\n",
       "    <tr style=\"text-align: right;\">\n",
       "      <th></th>\n",
       "      <th>pubdatetime</th>\n",
       "      <th>latitude</th>\n",
       "      <th>longitude</th>\n",
       "      <th>sumdid</th>\n",
       "      <th>chargelevel</th>\n",
       "      <th>companyname</th>\n",
       "      <th>geometry</th>\n",
       "    </tr>\n",
       "  </thead>\n",
       "  <tbody>\n",
       "    <tr>\n",
       "      <th>0</th>\n",
       "      <td>2019-05-01 00:01:41.247</td>\n",
       "      <td>36.136822</td>\n",
       "      <td>-86.799877</td>\n",
       "      <td>PoweredLIRL1</td>\n",
       "      <td>93.0</td>\n",
       "      <td>0</td>\n",
       "      <td>POINT (-86.79988 36.13682)</td>\n",
       "    </tr>\n",
       "    <tr>\n",
       "      <th>1</th>\n",
       "      <td>2019-05-01 00:01:41.247</td>\n",
       "      <td>36.191252</td>\n",
       "      <td>-86.772945</td>\n",
       "      <td>PoweredXWRWC</td>\n",
       "      <td>35.0</td>\n",
       "      <td>0</td>\n",
       "      <td>POINT (-86.77295 36.19125)</td>\n",
       "    </tr>\n",
       "    <tr>\n",
       "      <th>2</th>\n",
       "      <td>2019-05-01 00:01:41.247</td>\n",
       "      <td>36.144752</td>\n",
       "      <td>-86.806293</td>\n",
       "      <td>PoweredMEJEH</td>\n",
       "      <td>90.0</td>\n",
       "      <td>0</td>\n",
       "      <td>POINT (-86.80629 36.14475)</td>\n",
       "    </tr>\n",
       "    <tr>\n",
       "      <th>3</th>\n",
       "      <td>2019-05-01 00:01:41.247</td>\n",
       "      <td>36.162056</td>\n",
       "      <td>-86.774688</td>\n",
       "      <td>Powered1A7TC</td>\n",
       "      <td>88.0</td>\n",
       "      <td>0</td>\n",
       "      <td>POINT (-86.77469 36.16206)</td>\n",
       "    </tr>\n",
       "    <tr>\n",
       "      <th>4</th>\n",
       "      <td>2019-05-01 00:01:41.247</td>\n",
       "      <td>36.150973</td>\n",
       "      <td>-86.783109</td>\n",
       "      <td>Powered2TYEF</td>\n",
       "      <td>98.0</td>\n",
       "      <td>0</td>\n",
       "      <td>POINT (-86.78311 36.15097)</td>\n",
       "    </tr>\n",
       "  </tbody>\n",
       "</table>\n",
       "</div>"
      ],
      "text/plain": [
       "              pubdatetime   latitude  longitude        sumdid  chargelevel  \\\n",
       "0 2019-05-01 00:01:41.247  36.136822 -86.799877  PoweredLIRL1         93.0   \n",
       "1 2019-05-01 00:01:41.247  36.191252 -86.772945  PoweredXWRWC         35.0   \n",
       "2 2019-05-01 00:01:41.247  36.144752 -86.806293  PoweredMEJEH         90.0   \n",
       "3 2019-05-01 00:01:41.247  36.162056 -86.774688  Powered1A7TC         88.0   \n",
       "4 2019-05-01 00:01:41.247  36.150973 -86.783109  Powered2TYEF         98.0   \n",
       "\n",
       "   companyname                    geometry  \n",
       "0            0  POINT (-86.79988 36.13682)  \n",
       "1            0  POINT (-86.77295 36.19125)  \n",
       "2            0  POINT (-86.80629 36.14475)  \n",
       "3            0  POINT (-86.77469 36.16206)  \n",
       "4            0  POINT (-86.78311 36.15097)  "
      ]
     },
     "execution_count": 33,
     "metadata": {},
     "output_type": "execute_result"
    }
   ],
   "source": [
    "may.head()"
   ]
  },
  {
   "cell_type": "markdown",
   "id": "25388ef9",
   "metadata": {},
   "source": [
    "Create geometry column for may."
   ]
  },
  {
   "cell_type": "code",
   "execution_count": null,
   "id": "256faf48",
   "metadata": {},
   "outputs": [],
   "source": [
    "may['geometry'] = may.apply(lambda x: Point((x.longitude, \n",
    "                                            x.latitude)), \n",
    "                                        axis=1)\n",
    "may.head(3)"
   ]
  },
  {
   "cell_type": "markdown",
   "id": "709de23c",
   "metadata": {},
   "source": [
    "Match the crs"
   ]
  },
  {
   "cell_type": "code",
   "execution_count": null,
   "id": "a9342d3d",
   "metadata": {},
   "outputs": [],
   "source": [
    "promise_zone.crs"
   ]
  },
  {
   "cell_type": "code",
   "execution_count": null,
   "id": "e5d45580",
   "metadata": {},
   "outputs": [],
   "source": [
    "may_geo = gpd.GeoDataFrame(may, \n",
    "                           crs = promise_zone.crs, \n",
    "                           geometry = may['geometry'])\n",
    "type(may_geo)\n",
    "may_geo.head()"
   ]
  },
  {
   "cell_type": "code",
   "execution_count": null,
   "id": "7965d539",
   "metadata": {},
   "outputs": [],
   "source": [
    "may_geo.crs"
   ]
  },
  {
   "cell_type": "markdown",
   "id": "682d704c",
   "metadata": {},
   "source": [
    "Join the geodataframes with a spatial join. Only keep the zone_id and geometry from promise_zone."
   ]
  },
  {
   "cell_type": "code",
   "execution_count": 17,
   "id": "e928eef7",
   "metadata": {},
   "outputs": [
    {
     "data": {
      "text/html": [
       "<div>\n",
       "<style scoped>\n",
       "    .dataframe tbody tr th:only-of-type {\n",
       "        vertical-align: middle;\n",
       "    }\n",
       "\n",
       "    .dataframe tbody tr th {\n",
       "        vertical-align: top;\n",
       "    }\n",
       "\n",
       "    .dataframe thead th {\n",
       "        text-align: right;\n",
       "    }\n",
       "</style>\n",
       "<table border=\"1\" class=\"dataframe\">\n",
       "  <thead>\n",
       "    <tr style=\"text-align: right;\">\n",
       "      <th></th>\n",
       "      <th>ZONE_ID</th>\n",
       "      <th>geometry</th>\n",
       "    </tr>\n",
       "  </thead>\n",
       "  <tbody>\n",
       "    <tr>\n",
       "      <th>0</th>\n",
       "      <td>1</td>\n",
       "      <td>POLYGON ((1743366.812 678044.543, 1743367.698 ...</td>\n",
       "    </tr>\n",
       "    <tr>\n",
       "      <th>1</th>\n",
       "      <td>2</td>\n",
       "      <td>POLYGON ((1738690.545 661791.347, 1738733.644 ...</td>\n",
       "    </tr>\n",
       "    <tr>\n",
       "      <th>2</th>\n",
       "      <td>3</td>\n",
       "      <td>POLYGON ((1759602.544 668309.889, 1759640.155 ...</td>\n",
       "    </tr>\n",
       "    <tr>\n",
       "      <th>3</th>\n",
       "      <td>4</td>\n",
       "      <td>POLYGON ((1747799.003 654974.612, 1747821.293 ...</td>\n",
       "    </tr>\n",
       "    <tr>\n",
       "      <th>4</th>\n",
       "      <td>5</td>\n",
       "      <td>POLYGON ((1737013.744 692634.639, 1737122.605 ...</td>\n",
       "    </tr>\n",
       "  </tbody>\n",
       "</table>\n",
       "</div>"
      ],
      "text/plain": [
       "   ZONE_ID                                           geometry\n",
       "0        1  POLYGON ((1743366.812 678044.543, 1743367.698 ...\n",
       "1        2  POLYGON ((1738690.545 661791.347, 1738733.644 ...\n",
       "2        3  POLYGON ((1759602.544 668309.889, 1759640.155 ...\n",
       "3        4  POLYGON ((1747799.003 654974.612, 1747821.293 ...\n",
       "4        5  POLYGON ((1737013.744 692634.639, 1737122.605 ..."
      ]
     },
     "execution_count": 17,
     "metadata": {},
     "output_type": "execute_result"
    }
   ],
   "source": [
    "promise_zone = promise_zone[['ZONE_ID', 'geometry']]\n",
    "promise_zone.head()"
   ]
  },
  {
   "cell_type": "code",
   "execution_count": 23,
   "id": "c1b5135c",
   "metadata": {},
   "outputs": [
    {
     "name": "stderr",
     "output_type": "stream",
     "text": [
      "Exception ignored on calling ctypes callback function: <function Index._create_idx_from_stream.<locals>.py_next_item at 0x000001B30E32E940>\n",
      "Traceback (most recent call last):\n",
      "  File \"C:\\Users\\16159\\anaconda3\\envs\\geospatial\\lib\\site-packages\\rtree\\index.py\", line 1035, in py_next_item\n",
      "    p_id[0], coordinates, obj = next(stream_iter)\n",
      "  File \"C:\\Users\\16159\\anaconda3\\envs\\geospatial\\lib\\site-packages\\geopandas\\sindex.py\", line 86, in <genexpr>\n",
      "    (i, item.bounds, idx)\n",
      "  File \"C:\\Users\\16159\\anaconda3\\envs\\geospatial\\lib\\site-packages\\shapely\\geometry\\point.py\", line 123, in bounds\n",
      "    xy = self.coords[0]\n",
      "  File \"C:\\Users\\16159\\anaconda3\\envs\\geospatial\\lib\\site-packages\\shapely\\coords.py\", line 74, in __getitem__\n",
      "    m = self.__len__()\n",
      "  File \"C:\\Users\\16159\\anaconda3\\envs\\geospatial\\lib\\site-packages\\shapely\\coords.py\", line 49, in __len__\n",
      "    self._update()\n",
      "  File \"C:\\Users\\16159\\anaconda3\\envs\\geospatial\\lib\\site-packages\\shapely\\coords.py\", line 46, in _update\n",
      "    self._cseq = lgeos.GEOSGeom_getCoordSeq(self.__p__._geom)\n",
      "KeyboardInterrupt: \n"
     ]
    }
   ],
   "source": [
    "may_by_zone = gpd.sjoin(may_geo, promise_zone, op = 'within')"
   ]
  },
  {
   "cell_type": "code",
   "execution_count": 21,
   "id": "8b3b4037",
   "metadata": {},
   "outputs": [
    {
     "data": {
      "text/html": [
       "<div>\n",
       "<style scoped>\n",
       "    .dataframe tbody tr th:only-of-type {\n",
       "        vertical-align: middle;\n",
       "    }\n",
       "\n",
       "    .dataframe tbody tr th {\n",
       "        vertical-align: top;\n",
       "    }\n",
       "\n",
       "    .dataframe thead th {\n",
       "        text-align: right;\n",
       "    }\n",
       "</style>\n",
       "<table border=\"1\" class=\"dataframe\">\n",
       "  <thead>\n",
       "    <tr style=\"text-align: right;\">\n",
       "      <th></th>\n",
       "      <th>pubdatetime</th>\n",
       "      <th>latitude</th>\n",
       "      <th>longitude</th>\n",
       "      <th>sumdid</th>\n",
       "      <th>chargelevel</th>\n",
       "      <th>companyname</th>\n",
       "      <th>geometry</th>\n",
       "      <th>index_right</th>\n",
       "      <th>ZONE_ID</th>\n",
       "    </tr>\n",
       "  </thead>\n",
       "  <tbody>\n",
       "  </tbody>\n",
       "</table>\n",
       "</div>"
      ],
      "text/plain": [
       "Empty GeoDataFrame\n",
       "Columns: [pubdatetime, latitude, longitude, sumdid, chargelevel, companyname, geometry, index_right, ZONE_ID]\n",
       "Index: []"
      ]
     },
     "execution_count": 21,
     "metadata": {},
     "output_type": "execute_result"
    }
   ],
   "source": [
    "may_by_zone.head()"
   ]
  }
 ],
 "metadata": {
  "kernelspec": {
   "display_name": "Python 3 (ipykernel)",
   "language": "python",
   "name": "python3"
  },
  "language_info": {
   "codemirror_mode": {
    "name": "ipython",
    "version": 3
   },
   "file_extension": ".py",
   "mimetype": "text/x-python",
   "name": "python",
   "nbconvert_exporter": "python",
   "pygments_lexer": "ipython3",
   "version": "3.8.5"
  }
 },
 "nbformat": 4,
 "nbformat_minor": 5
}
