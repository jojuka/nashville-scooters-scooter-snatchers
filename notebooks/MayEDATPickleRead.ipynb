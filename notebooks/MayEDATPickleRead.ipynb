{
 "cells": [
  {
   "cell_type": "code",
   "execution_count": 1,
   "id": "6711db19",
   "metadata": {},
   "outputs": [],
   "source": [
    "import pandas as pd\n",
    "import pickle"
   ]
  },
  {
   "cell_type": "code",
   "execution_count": 2,
   "id": "9dfc77ca",
   "metadata": {},
   "outputs": [
    {
     "name": "stdout",
     "output_type": "stream",
     "text": [
      "Wall time: 2.09 s\n"
     ]
    },
    {
     "data": {
      "text/html": [
       "<div>\n",
       "<style scoped>\n",
       "    .dataframe tbody tr th:only-of-type {\n",
       "        vertical-align: middle;\n",
       "    }\n",
       "\n",
       "    .dataframe tbody tr th {\n",
       "        vertical-align: top;\n",
       "    }\n",
       "\n",
       "    .dataframe thead th {\n",
       "        text-align: right;\n",
       "    }\n",
       "</style>\n",
       "<table border=\"1\" class=\"dataframe\">\n",
       "  <thead>\n",
       "    <tr style=\"text-align: right;\">\n",
       "      <th></th>\n",
       "      <th>pubdatetime</th>\n",
       "      <th>latitude</th>\n",
       "      <th>longitude</th>\n",
       "      <th>sumdid</th>\n",
       "      <th>chargelevel</th>\n",
       "      <th>companyname</th>\n",
       "    </tr>\n",
       "  </thead>\n",
       "  <tbody>\n",
       "    <tr>\n",
       "      <th>0</th>\n",
       "      <td>2019-05-01 00:01:41.247</td>\n",
       "      <td>36.136822</td>\n",
       "      <td>-86.799877</td>\n",
       "      <td>PoweredLIRL1</td>\n",
       "      <td>93.0</td>\n",
       "      <td>0</td>\n",
       "    </tr>\n",
       "    <tr>\n",
       "      <th>1</th>\n",
       "      <td>2019-05-01 00:01:41.247</td>\n",
       "      <td>36.191252</td>\n",
       "      <td>-86.772945</td>\n",
       "      <td>PoweredXWRWC</td>\n",
       "      <td>35.0</td>\n",
       "      <td>0</td>\n",
       "    </tr>\n",
       "    <tr>\n",
       "      <th>2</th>\n",
       "      <td>2019-05-01 00:01:41.247</td>\n",
       "      <td>36.144752</td>\n",
       "      <td>-86.806293</td>\n",
       "      <td>PoweredMEJEH</td>\n",
       "      <td>90.0</td>\n",
       "      <td>0</td>\n",
       "    </tr>\n",
       "    <tr>\n",
       "      <th>3</th>\n",
       "      <td>2019-05-01 00:01:41.247</td>\n",
       "      <td>36.162056</td>\n",
       "      <td>-86.774688</td>\n",
       "      <td>Powered1A7TC</td>\n",
       "      <td>88.0</td>\n",
       "      <td>0</td>\n",
       "    </tr>\n",
       "    <tr>\n",
       "      <th>4</th>\n",
       "      <td>2019-05-01 00:01:41.247</td>\n",
       "      <td>36.150973</td>\n",
       "      <td>-86.783109</td>\n",
       "      <td>Powered2TYEF</td>\n",
       "      <td>98.0</td>\n",
       "      <td>0</td>\n",
       "    </tr>\n",
       "  </tbody>\n",
       "</table>\n",
       "</div>"
      ],
      "text/plain": [
       "              pubdatetime   latitude  longitude        sumdid  chargelevel  \\\n",
       "0 2019-05-01 00:01:41.247  36.136822 -86.799877  PoweredLIRL1         93.0   \n",
       "1 2019-05-01 00:01:41.247  36.191252 -86.772945  PoweredXWRWC         35.0   \n",
       "2 2019-05-01 00:01:41.247  36.144752 -86.806293  PoweredMEJEH         90.0   \n",
       "3 2019-05-01 00:01:41.247  36.162056 -86.774688  Powered1A7TC         88.0   \n",
       "4 2019-05-01 00:01:41.247  36.150973 -86.783109  Powered2TYEF         98.0   \n",
       "\n",
       "   companyname  \n",
       "0            0  \n",
       "1            0  \n",
       "2            0  \n",
       "3            0  \n",
       "4            0  "
      ]
     },
     "execution_count": 2,
     "metadata": {},
     "output_type": "execute_result"
    }
   ],
   "source": [
    "%%time\n",
    "may_scooters = pd.read_pickle('../data/may.pkl')\n",
    "may_scooters.head()"
   ]
  },
  {
   "cell_type": "code",
   "execution_count": 3,
   "id": "f58e9620",
   "metadata": {},
   "outputs": [
    {
     "name": "stdout",
     "output_type": "stream",
     "text": [
      "<class 'pandas.core.frame.DataFrame'>\n",
      "Int64Index: 20283582 entries, 0 to 20292502\n",
      "Data columns (total 6 columns):\n",
      " #   Column       Dtype         \n",
      "---  ------       -----         \n",
      " 0   pubdatetime  datetime64[ns]\n",
      " 1   latitude     float64       \n",
      " 2   longitude    float64       \n",
      " 3   sumdid       object        \n",
      " 4   chargelevel  float64       \n",
      " 5   companyname  int64         \n",
      "dtypes: datetime64[ns](1), float64(3), int64(1), object(1)\n",
      "memory usage: 1.1+ GB\n"
     ]
    }
   ],
   "source": [
    "may_scooters.info() ##20292503 rows, 9 columns, note pubdatetime is an object and needs to be changed to datetime"
   ]
  },
  {
   "cell_type": "code",
   "execution_count": 4,
   "id": "18cf4bc0",
   "metadata": {},
   "outputs": [],
   "source": [
    "company_dict = {'Bird':'Bi', 'Lyft': 'Ly', 'Gotcha': 'G', 'Lime': 'Li', 'Spin': 'S', 'Jump': 'J', 'Bolt': 'Bo'}"
   ]
  },
  {
   "cell_type": "code",
   "execution_count": 5,
   "id": "2add0815",
   "metadata": {},
   "outputs": [],
   "source": [
    "may_scooters.companyname = may_scooters.companyname.replace(company_dict)##replaced company name with 2 letter name dictionary"
   ]
  },
  {
   "cell_type": "code",
   "execution_count": 6,
   "id": "7b658290",
   "metadata": {},
   "outputs": [],
   "source": [
    "may_scooters['year'] = may_scooters['pubdatetime'].dt.year\n",
    "\n",
    "may_scooters['month'] = may_scooters['pubdatetime'].dt.month\n",
    "\n",
    "may_scooters['day'] = may_scooters['pubdatetime'].dt.day\n",
    "\n",
    "may_scooters['hour'] = may_scooters['pubdatetime'].dt.hour\n",
    "may_scooters['min'] = may_scooters['pubdatetime'].dt.minute\n"
   ]
  },
  {
   "cell_type": "code",
   "execution_count": 7,
   "id": "4c93b4a0",
   "metadata": {},
   "outputs": [
    {
     "name": "stdout",
     "output_type": "stream",
     "text": [
      "<class 'pandas.core.frame.DataFrame'>\n",
      "Int64Index: 20283582 entries, 0 to 20292502\n",
      "Data columns (total 11 columns):\n",
      " #   Column       Dtype         \n",
      "---  ------       -----         \n",
      " 0   pubdatetime  datetime64[ns]\n",
      " 1   latitude     float64       \n",
      " 2   longitude    float64       \n",
      " 3   sumdid       object        \n",
      " 4   chargelevel  float64       \n",
      " 5   companyname  int64         \n",
      " 6   year         int64         \n",
      " 7   month        int64         \n",
      " 8   day          int64         \n",
      " 9   hour         int64         \n",
      " 10  min          int64         \n",
      "dtypes: datetime64[ns](1), float64(3), int64(6), object(1)\n",
      "memory usage: 1.8+ GB\n"
     ]
    }
   ],
   "source": [
    "may_scooters.info()"
   ]
  },
  {
   "cell_type": "code",
   "execution_count": 8,
   "id": "48d4f638",
   "metadata": {},
   "outputs": [],
   "source": [
    "may_scooters = may_scooters[['pubdatetime', 'year', 'month', 'day', 'hour', 'sumdid', 'latitude', 'longitude', 'chargelevel', 'companyname']] ##drops columns costpermin from dataframe"
   ]
  },
  {
   "cell_type": "code",
   "execution_count": 9,
   "id": "af0aed3b",
   "metadata": {},
   "outputs": [],
   "source": [
    "pd.set_option('display.max_columns', 15)##sets dataframe to view 15 columns"
   ]
  },
  {
   "cell_type": "code",
   "execution_count": 10,
   "id": "e858519a",
   "metadata": {},
   "outputs": [],
   "source": [
    "may_scooters.dropna(inplace=True) ##dropping all null rows"
   ]
  },
  {
   "cell_type": "code",
   "execution_count": 11,
   "id": "8d13b5a3",
   "metadata": {},
   "outputs": [
    {
     "data": {
      "text/html": [
       "<div>\n",
       "<style scoped>\n",
       "    .dataframe tbody tr th:only-of-type {\n",
       "        vertical-align: middle;\n",
       "    }\n",
       "\n",
       "    .dataframe tbody tr th {\n",
       "        vertical-align: top;\n",
       "    }\n",
       "\n",
       "    .dataframe thead th {\n",
       "        text-align: right;\n",
       "    }\n",
       "</style>\n",
       "<table border=\"1\" class=\"dataframe\">\n",
       "  <thead>\n",
       "    <tr style=\"text-align: right;\">\n",
       "      <th></th>\n",
       "      <th>pubdatetime</th>\n",
       "      <th>year</th>\n",
       "      <th>month</th>\n",
       "      <th>day</th>\n",
       "      <th>hour</th>\n",
       "      <th>sumdid</th>\n",
       "      <th>latitude</th>\n",
       "      <th>longitude</th>\n",
       "      <th>chargelevel</th>\n",
       "      <th>companyname</th>\n",
       "    </tr>\n",
       "  </thead>\n",
       "  <tbody>\n",
       "    <tr>\n",
       "      <th>20292493</th>\n",
       "      <td>2019-05-31 23:58:27.243</td>\n",
       "      <td>2019</td>\n",
       "      <td>5</td>\n",
       "      <td>31</td>\n",
       "      <td>23</td>\n",
       "      <td>PoweredHICJ5XYHBAW5I</td>\n",
       "      <td>36.122375</td>\n",
       "      <td>-86.775722</td>\n",
       "      <td>60.0</td>\n",
       "      <td>3</td>\n",
       "    </tr>\n",
       "    <tr>\n",
       "      <th>20292494</th>\n",
       "      <td>2019-05-31 23:58:27.243</td>\n",
       "      <td>2019</td>\n",
       "      <td>5</td>\n",
       "      <td>31</td>\n",
       "      <td>23</td>\n",
       "      <td>PoweredXZH7USFBU76DX</td>\n",
       "      <td>36.121613</td>\n",
       "      <td>-86.775351</td>\n",
       "      <td>94.0</td>\n",
       "      <td>3</td>\n",
       "    </tr>\n",
       "    <tr>\n",
       "      <th>20292495</th>\n",
       "      <td>2019-05-31 23:58:27.243</td>\n",
       "      <td>2019</td>\n",
       "      <td>5</td>\n",
       "      <td>31</td>\n",
       "      <td>23</td>\n",
       "      <td>PoweredSZAWEG5FWAI6V</td>\n",
       "      <td>36.120440</td>\n",
       "      <td>-86.777199</td>\n",
       "      <td>56.0</td>\n",
       "      <td>3</td>\n",
       "    </tr>\n",
       "    <tr>\n",
       "      <th>20292496</th>\n",
       "      <td>2019-05-31 23:58:27.243</td>\n",
       "      <td>2019</td>\n",
       "      <td>5</td>\n",
       "      <td>31</td>\n",
       "      <td>23</td>\n",
       "      <td>PoweredU6FP6ZXZ6JRTC</td>\n",
       "      <td>36.121584</td>\n",
       "      <td>-86.775493</td>\n",
       "      <td>94.0</td>\n",
       "      <td>3</td>\n",
       "    </tr>\n",
       "    <tr>\n",
       "      <th>20292497</th>\n",
       "      <td>2019-05-31 23:58:43.000</td>\n",
       "      <td>2019</td>\n",
       "      <td>5</td>\n",
       "      <td>31</td>\n",
       "      <td>23</td>\n",
       "      <td>Poweredf0c59838-3392-5ea9-9a8f-d680bc8ac344</td>\n",
       "      <td>36.147400</td>\n",
       "      <td>-86.811700</td>\n",
       "      <td>71.0</td>\n",
       "      <td>5</td>\n",
       "    </tr>\n",
       "    <tr>\n",
       "      <th>20292498</th>\n",
       "      <td>2019-05-31 23:59:42.000</td>\n",
       "      <td>2019</td>\n",
       "      <td>5</td>\n",
       "      <td>31</td>\n",
       "      <td>23</td>\n",
       "      <td>Poweredbb60ef04-c719-597f-805f-20978964fd8c</td>\n",
       "      <td>36.163900</td>\n",
       "      <td>-86.782300</td>\n",
       "      <td>49.0</td>\n",
       "      <td>5</td>\n",
       "    </tr>\n",
       "    <tr>\n",
       "      <th>20292499</th>\n",
       "      <td>2019-05-31 23:59:42.000</td>\n",
       "      <td>2019</td>\n",
       "      <td>5</td>\n",
       "      <td>31</td>\n",
       "      <td>23</td>\n",
       "      <td>Powered9f5743ed-7f81-539b-9e37-6503d54445d3</td>\n",
       "      <td>36.160600</td>\n",
       "      <td>-86.776800</td>\n",
       "      <td>68.0</td>\n",
       "      <td>5</td>\n",
       "    </tr>\n",
       "    <tr>\n",
       "      <th>20292500</th>\n",
       "      <td>2019-05-31 23:59:42.000</td>\n",
       "      <td>2019</td>\n",
       "      <td>5</td>\n",
       "      <td>31</td>\n",
       "      <td>23</td>\n",
       "      <td>Powered5744d1db-3bbe-55e5-9a23-a93828ba54fc</td>\n",
       "      <td>36.160600</td>\n",
       "      <td>-86.776900</td>\n",
       "      <td>53.0</td>\n",
       "      <td>5</td>\n",
       "    </tr>\n",
       "    <tr>\n",
       "      <th>20292501</th>\n",
       "      <td>2019-05-31 23:59:42.000</td>\n",
       "      <td>2019</td>\n",
       "      <td>5</td>\n",
       "      <td>31</td>\n",
       "      <td>23</td>\n",
       "      <td>Poweredad1d6d3b-162a-5bec-bffd-cac4ac8dee1c</td>\n",
       "      <td>36.162400</td>\n",
       "      <td>-86.774500</td>\n",
       "      <td>42.0</td>\n",
       "      <td>5</td>\n",
       "    </tr>\n",
       "    <tr>\n",
       "      <th>20292502</th>\n",
       "      <td>2019-05-31 23:59:42.000</td>\n",
       "      <td>2019</td>\n",
       "      <td>5</td>\n",
       "      <td>31</td>\n",
       "      <td>23</td>\n",
       "      <td>Powered8505008e-97c9-5003-8975-2ea6b2634fa0</td>\n",
       "      <td>36.151900</td>\n",
       "      <td>-86.798500</td>\n",
       "      <td>76.0</td>\n",
       "      <td>5</td>\n",
       "    </tr>\n",
       "  </tbody>\n",
       "</table>\n",
       "</div>"
      ],
      "text/plain": [
       "                     pubdatetime  year  month  day  hour  \\\n",
       "20292493 2019-05-31 23:58:27.243  2019      5   31    23   \n",
       "20292494 2019-05-31 23:58:27.243  2019      5   31    23   \n",
       "20292495 2019-05-31 23:58:27.243  2019      5   31    23   \n",
       "20292496 2019-05-31 23:58:27.243  2019      5   31    23   \n",
       "20292497 2019-05-31 23:58:43.000  2019      5   31    23   \n",
       "20292498 2019-05-31 23:59:42.000  2019      5   31    23   \n",
       "20292499 2019-05-31 23:59:42.000  2019      5   31    23   \n",
       "20292500 2019-05-31 23:59:42.000  2019      5   31    23   \n",
       "20292501 2019-05-31 23:59:42.000  2019      5   31    23   \n",
       "20292502 2019-05-31 23:59:42.000  2019      5   31    23   \n",
       "\n",
       "                                               sumdid   latitude  longitude  \\\n",
       "20292493                         PoweredHICJ5XYHBAW5I  36.122375 -86.775722   \n",
       "20292494                         PoweredXZH7USFBU76DX  36.121613 -86.775351   \n",
       "20292495                         PoweredSZAWEG5FWAI6V  36.120440 -86.777199   \n",
       "20292496                         PoweredU6FP6ZXZ6JRTC  36.121584 -86.775493   \n",
       "20292497  Poweredf0c59838-3392-5ea9-9a8f-d680bc8ac344  36.147400 -86.811700   \n",
       "20292498  Poweredbb60ef04-c719-597f-805f-20978964fd8c  36.163900 -86.782300   \n",
       "20292499  Powered9f5743ed-7f81-539b-9e37-6503d54445d3  36.160600 -86.776800   \n",
       "20292500  Powered5744d1db-3bbe-55e5-9a23-a93828ba54fc  36.160600 -86.776900   \n",
       "20292501  Poweredad1d6d3b-162a-5bec-bffd-cac4ac8dee1c  36.162400 -86.774500   \n",
       "20292502  Powered8505008e-97c9-5003-8975-2ea6b2634fa0  36.151900 -86.798500   \n",
       "\n",
       "          chargelevel  companyname  \n",
       "20292493         60.0            3  \n",
       "20292494         94.0            3  \n",
       "20292495         56.0            3  \n",
       "20292496         94.0            3  \n",
       "20292497         71.0            5  \n",
       "20292498         49.0            5  \n",
       "20292499         68.0            5  \n",
       "20292500         53.0            5  \n",
       "20292501         42.0            5  \n",
       "20292502         76.0            5  "
      ]
     },
     "execution_count": 11,
     "metadata": {},
     "output_type": "execute_result"
    }
   ],
   "source": [
    "may_scooters.tail(10)"
   ]
  },
  {
   "cell_type": "code",
   "execution_count": 12,
   "id": "2eccc15a",
   "metadata": {},
   "outputs": [
    {
     "name": "stdout",
     "output_type": "stream",
     "text": [
      "<class 'pandas.core.frame.DataFrame'>\n",
      "Int64Index: 20283299 entries, 0 to 20292502\n",
      "Data columns (total 10 columns):\n",
      " #   Column       Dtype         \n",
      "---  ------       -----         \n",
      " 0   pubdatetime  datetime64[ns]\n",
      " 1   year         int64         \n",
      " 2   month        int64         \n",
      " 3   day          int64         \n",
      " 4   hour         int64         \n",
      " 5   sumdid       object        \n",
      " 6   latitude     float64       \n",
      " 7   longitude    float64       \n",
      " 8   chargelevel  float64       \n",
      " 9   companyname  int64         \n",
      "dtypes: datetime64[ns](1), float64(3), int64(5), object(1)\n",
      "memory usage: 1.7+ GB\n"
     ]
    }
   ],
   "source": [
    "may_scooters.info()\n",
    "##Original info before drop of null rows, RangeIndex: 20292503 entries, 0 to 20292502, Data columns (total 9 columns):"
   ]
  },
  {
   "cell_type": "code",
   "execution_count": 13,
   "id": "7c7eb8b4",
   "metadata": {},
   "outputs": [],
   "source": [
    "##may_scooters.to_pickle(\"../data/may.pkl\")"
   ]
  },
  {
   "cell_type": "code",
   "execution_count": 14,
   "id": "5aaca2b5",
   "metadata": {},
   "outputs": [],
   "source": [
    "##%%time\n",
    "##may_test = pd.read_pickle(\"../data/may.pkl\")"
   ]
  },
  {
   "cell_type": "code",
   "execution_count": 15,
   "id": "b07f4b52",
   "metadata": {},
   "outputs": [
    {
     "data": {
      "text/plain": [
       "array(['PoweredLIRL1', 'PoweredXWRWC', 'PoweredMEJEH', ...,\n",
       "       'PoweredS26HB', 'PoweredWVFVTYLWIVLI7', 'Powered6Y1U7'],\n",
       "      dtype=object)"
      ]
     },
     "execution_count": 15,
     "metadata": {},
     "output_type": "execute_result"
    }
   ],
   "source": [
    "may_scooters.sumdid.unique()"
   ]
  },
  {
   "cell_type": "code",
   "execution_count": 16,
   "id": "45ec36ea",
   "metadata": {},
   "outputs": [
    {
     "data": {
      "text/plain": [
       "8301"
      ]
     },
     "execution_count": 16,
     "metadata": {},
     "output_type": "execute_result"
    }
   ],
   "source": [
    "may_scooters.sumdid.nunique() ##count the number of unique sumdid"
   ]
  },
  {
   "cell_type": "code",
   "execution_count": 17,
   "id": "725ac726",
   "metadata": {},
   "outputs": [
    {
     "name": "stdout",
     "output_type": "stream",
     "text": [
      "PoweredIE7H5RIN474PE    8921\n",
      "PoweredUK65LOU3K5N7G    8748\n",
      "PoweredIOHG2G3XKATUL    8576\n",
      "PoweredJCKMQCAL2SSNJ    8521\n",
      "Powered4NYK5PWADVIAU    8439\n",
      "                        ... \n",
      "PoweredGJYGPDVTFXRH7       1\n",
      "PoweredYEBSU               1\n",
      "PoweredCW742BQMJ3XHN       1\n",
      "PoweredCI6VKIK2KOFMC       1\n",
      "PoweredN4YI2A7RXZQLY       1\n",
      "Name: sumdid, Length: 8301, dtype: int64\n"
     ]
    }
   ],
   "source": [
    "print(may_scooters['sumdid'].value_counts()) ##the count of each of the distinct values of a specific column\n",
    "##https://datascienceparichay.com/article/pandas-count-of-unique-values-in-each-column/"
   ]
  },
  {
   "cell_type": "code",
   "execution_count": 18,
   "id": "3ed8638a",
   "metadata": {},
   "outputs": [],
   "source": [
    "##7 SCOOTER COMPANIES, 8304 SCOOTERS, "
   ]
  },
  {
   "cell_type": "code",
   "execution_count": 19,
   "id": "8beed043",
   "metadata": {},
   "outputs": [],
   "source": [
    "may_group=may_scooters.groupby(['companyname'])['sumdid'].nunique() ##NUMBER OF UNIQUE SCOOTER GROUPED BY COMPANY NAME"
   ]
  },
  {
   "cell_type": "code",
   "execution_count": 20,
   "id": "7a3b1fe7",
   "metadata": {},
   "outputs": [
    {
     "data": {
      "text/plain": [
       "companyname\n",
       "0    3064\n",
       "1    1376\n",
       "2     223\n",
       "3    1631\n",
       "4     685\n",
       "5     976\n",
       "6     346\n",
       "Name: sumdid, dtype: int64"
      ]
     },
     "execution_count": 20,
     "metadata": {},
     "output_type": "execute_result"
    }
   ],
   "source": [
    "may_group"
   ]
  },
  {
   "cell_type": "code",
   "execution_count": 21,
   "id": "f66ca701",
   "metadata": {},
   "outputs": [
    {
     "data": {
      "image/png": "[encoded data removed]",
      "text/plain": [
       "<Figure size 432x288 with 1 Axes>"
      ]
     },
     "metadata": {
      "needs_background": "light"
     },
     "output_type": "display_data"
    }
   ],
   "source": [
    "import matplotlib.pyplot as plt\n",
    "plt.hist(may_group)##, label=companyname)\n",
    "plt.show()"
   ]
  },
  {
   "cell_type": "code",
   "execution_count": 22,
   "id": "dc9ba781",
   "metadata": {},
   "outputs": [],
   "source": [
    "##import matplotlib.pyplot as plt\n",
    "##import seaborn as sns\n",
    "##%matplotlib inline      "
   ]
  },
  {
   "cell_type": "code",
   "execution_count": 23,
   "id": "ffc44562",
   "metadata": {},
   "outputs": [],
   "source": [
    "#set the seaborn theme, style, color palette\n",
    "#sns.set(style=\"ticks\", color_codes=True)\n",
    "\n",
    "#make a correlation plot that looks at each variables relationship with every other variable\n",
    "#and plots the distribution of each variable along the diagonal\n",
    "#sns.pairplot(may_scooters);"
   ]
  },
  {
   "cell_type": "code",
   "execution_count": 24,
   "id": "42ac2bf7",
   "metadata": {},
   "outputs": [],
   "source": [
    "duplicate_rows = may_scooters[may_scooters.duplicated()]\n",
    "## Select duplicate rows except first occurrence based on all columns\n",
    "##duplicateRowsDF = dfObj[dfObj.duplicated()]\n",
    "##print(\"Duplicate Rows except first occurrence based on all columns are :\")\n",
    "##print(duplicateRowsDF)"
   ]
  },
  {
   "cell_type": "code",
   "execution_count": 25,
   "id": "a60699fb",
   "metadata": {},
   "outputs": [
    {
     "name": "stdout",
     "output_type": "stream",
     "text": [
      "Duplicate Rows except first occurrence based on all columns are:\n"
     ]
    }
   ],
   "source": [
    "print(\"Duplicate Rows except first occurrence based on all columns are:\")"
   ]
  },
  {
   "cell_type": "code",
   "execution_count": 26,
   "id": "63043271",
   "metadata": {},
   "outputs": [
    {
     "name": "stdout",
     "output_type": "stream",
     "text": [
      "Empty DataFrame\n",
      "Columns: [pubdatetime, year, month, day, hour, sumdid, latitude, longitude, chargelevel, companyname]\n",
      "Index: []\n"
     ]
    }
   ],
   "source": [
    "print(duplicate_rows)"
   ]
  },
  {
   "cell_type": "code",
   "execution_count": 27,
   "id": "4ddf8464",
   "metadata": {},
   "outputs": [],
   "source": [
    "##https://thispointer.com/pandas-find-duplicate-rows-in-a-dataframe-based-on-all-or-selected-columns-using-dataframe-duplicated-in-python/"
   ]
  },
  {
   "cell_type": "code",
   "execution_count": 28,
   "id": "acb5f142",
   "metadata": {},
   "outputs": [],
   "source": [
    "may_dead=may_scooters.loc[(may_scooters['chargelevel'] == 0.00)]"
   ]
  },
  {
   "cell_type": "code",
   "execution_count": 29,
   "id": "066f1545",
   "metadata": {},
   "outputs": [
    {
     "data": {
      "text/html": [
       "<div>\n",
       "<style scoped>\n",
       "    .dataframe tbody tr th:only-of-type {\n",
       "        vertical-align: middle;\n",
       "    }\n",
       "\n",
       "    .dataframe tbody tr th {\n",
       "        vertical-align: top;\n",
       "    }\n",
       "\n",
       "    .dataframe thead th {\n",
       "        text-align: right;\n",
       "    }\n",
       "</style>\n",
       "<table border=\"1\" class=\"dataframe\">\n",
       "  <thead>\n",
       "    <tr style=\"text-align: right;\">\n",
       "      <th></th>\n",
       "      <th>pubdatetime</th>\n",
       "      <th>year</th>\n",
       "      <th>month</th>\n",
       "      <th>day</th>\n",
       "      <th>hour</th>\n",
       "      <th>sumdid</th>\n",
       "      <th>latitude</th>\n",
       "      <th>longitude</th>\n",
       "      <th>chargelevel</th>\n",
       "      <th>companyname</th>\n",
       "    </tr>\n",
       "  </thead>\n",
       "  <tbody>\n",
       "    <tr>\n",
       "      <th>1077</th>\n",
       "      <td>2019-05-01 00:04:48.030</td>\n",
       "      <td>2019</td>\n",
       "      <td>5</td>\n",
       "      <td>1</td>\n",
       "      <td>0</td>\n",
       "      <td>Powered406</td>\n",
       "      <td>36.162910</td>\n",
       "      <td>-86.776332</td>\n",
       "      <td>0.0</td>\n",
       "      <td>2</td>\n",
       "    </tr>\n",
       "    <tr>\n",
       "      <th>1084</th>\n",
       "      <td>2019-05-01 00:04:48.030</td>\n",
       "      <td>2019</td>\n",
       "      <td>5</td>\n",
       "      <td>1</td>\n",
       "      <td>0</td>\n",
       "      <td>Powered785</td>\n",
       "      <td>36.152102</td>\n",
       "      <td>-86.762997</td>\n",
       "      <td>0.0</td>\n",
       "      <td>2</td>\n",
       "    </tr>\n",
       "    <tr>\n",
       "      <th>1093</th>\n",
       "      <td>2019-05-01 00:04:48.030</td>\n",
       "      <td>2019</td>\n",
       "      <td>5</td>\n",
       "      <td>1</td>\n",
       "      <td>0</td>\n",
       "      <td>Powered412</td>\n",
       "      <td>36.156370</td>\n",
       "      <td>-86.786350</td>\n",
       "      <td>0.0</td>\n",
       "      <td>2</td>\n",
       "    </tr>\n",
       "    <tr>\n",
       "      <th>1095</th>\n",
       "      <td>2019-05-01 00:04:48.030</td>\n",
       "      <td>2019</td>\n",
       "      <td>5</td>\n",
       "      <td>1</td>\n",
       "      <td>0</td>\n",
       "      <td>Powered826</td>\n",
       "      <td>36.121324</td>\n",
       "      <td>-86.770482</td>\n",
       "      <td>0.0</td>\n",
       "      <td>2</td>\n",
       "    </tr>\n",
       "    <tr>\n",
       "      <th>1096</th>\n",
       "      <td>2019-05-01 00:04:48.030</td>\n",
       "      <td>2019</td>\n",
       "      <td>5</td>\n",
       "      <td>1</td>\n",
       "      <td>0</td>\n",
       "      <td>Powered769</td>\n",
       "      <td>36.121522</td>\n",
       "      <td>-86.770209</td>\n",
       "      <td>0.0</td>\n",
       "      <td>2</td>\n",
       "    </tr>\n",
       "    <tr>\n",
       "      <th>...</th>\n",
       "      <td>...</td>\n",
       "      <td>...</td>\n",
       "      <td>...</td>\n",
       "      <td>...</td>\n",
       "      <td>...</td>\n",
       "      <td>...</td>\n",
       "      <td>...</td>\n",
       "      <td>...</td>\n",
       "      <td>...</td>\n",
       "      <td>...</td>\n",
       "    </tr>\n",
       "    <tr>\n",
       "      <th>20291457</th>\n",
       "      <td>2019-05-31 23:58:00.927</td>\n",
       "      <td>2019</td>\n",
       "      <td>5</td>\n",
       "      <td>31</td>\n",
       "      <td>23</td>\n",
       "      <td>Powered1572748</td>\n",
       "      <td>36.153768</td>\n",
       "      <td>-86.783705</td>\n",
       "      <td>0.0</td>\n",
       "      <td>4</td>\n",
       "    </tr>\n",
       "    <tr>\n",
       "      <th>20291578</th>\n",
       "      <td>2019-05-31 23:58:00.927</td>\n",
       "      <td>2019</td>\n",
       "      <td>5</td>\n",
       "      <td>31</td>\n",
       "      <td>23</td>\n",
       "      <td>Powered1590780</td>\n",
       "      <td>36.210910</td>\n",
       "      <td>-86.736240</td>\n",
       "      <td>0.0</td>\n",
       "      <td>4</td>\n",
       "    </tr>\n",
       "    <tr>\n",
       "      <th>20291808</th>\n",
       "      <td>2019-05-31 23:58:27.210</td>\n",
       "      <td>2019</td>\n",
       "      <td>5</td>\n",
       "      <td>31</td>\n",
       "      <td>23</td>\n",
       "      <td>PoweredUK65LOU3K5N7G</td>\n",
       "      <td>36.133764</td>\n",
       "      <td>-86.791866</td>\n",
       "      <td>0.0</td>\n",
       "      <td>3</td>\n",
       "    </tr>\n",
       "    <tr>\n",
       "      <th>20291887</th>\n",
       "      <td>2019-05-31 23:58:27.210</td>\n",
       "      <td>2019</td>\n",
       "      <td>5</td>\n",
       "      <td>31</td>\n",
       "      <td>23</td>\n",
       "      <td>PoweredKZQINR7YHPOLL</td>\n",
       "      <td>36.133778</td>\n",
       "      <td>-86.791849</td>\n",
       "      <td>0.0</td>\n",
       "      <td>3</td>\n",
       "    </tr>\n",
       "    <tr>\n",
       "      <th>20292041</th>\n",
       "      <td>2019-05-31 23:58:27.217</td>\n",
       "      <td>2019</td>\n",
       "      <td>5</td>\n",
       "      <td>31</td>\n",
       "      <td>23</td>\n",
       "      <td>PoweredJ36KZF4FQ7LQB</td>\n",
       "      <td>36.161245</td>\n",
       "      <td>-86.781209</td>\n",
       "      <td>0.0</td>\n",
       "      <td>3</td>\n",
       "    </tr>\n",
       "  </tbody>\n",
       "</table>\n",
       "<p>1025190 rows × 10 columns</p>\n",
       "</div>"
      ],
      "text/plain": [
       "                     pubdatetime  year  month  day  hour  \\\n",
       "1077     2019-05-01 00:04:48.030  2019      5    1     0   \n",
       "1084     2019-05-01 00:04:48.030  2019      5    1     0   \n",
       "1093     2019-05-01 00:04:48.030  2019      5    1     0   \n",
       "1095     2019-05-01 00:04:48.030  2019      5    1     0   \n",
       "1096     2019-05-01 00:04:48.030  2019      5    1     0   \n",
       "...                          ...   ...    ...  ...   ...   \n",
       "20291457 2019-05-31 23:58:00.927  2019      5   31    23   \n",
       "20291578 2019-05-31 23:58:00.927  2019      5   31    23   \n",
       "20291808 2019-05-31 23:58:27.210  2019      5   31    23   \n",
       "20291887 2019-05-31 23:58:27.210  2019      5   31    23   \n",
       "20292041 2019-05-31 23:58:27.217  2019      5   31    23   \n",
       "\n",
       "                        sumdid   latitude  longitude  chargelevel  companyname  \n",
       "1077                Powered406  36.162910 -86.776332          0.0            2  \n",
       "1084                Powered785  36.152102 -86.762997          0.0            2  \n",
       "1093                Powered412  36.156370 -86.786350          0.0            2  \n",
       "1095                Powered826  36.121324 -86.770482          0.0            2  \n",
       "1096                Powered769  36.121522 -86.770209          0.0            2  \n",
       "...                        ...        ...        ...          ...          ...  \n",
       "20291457        Powered1572748  36.153768 -86.783705          0.0            4  \n",
       "20291578        Powered1590780  36.210910 -86.736240          0.0            4  \n",
       "20291808  PoweredUK65LOU3K5N7G  36.133764 -86.791866          0.0            3  \n",
       "20291887  PoweredKZQINR7YHPOLL  36.133778 -86.791849          0.0            3  \n",
       "20292041  PoweredJ36KZF4FQ7LQB  36.161245 -86.781209          0.0            3  \n",
       "\n",
       "[1025190 rows x 10 columns]"
      ]
     },
     "execution_count": 29,
     "metadata": {},
     "output_type": "execute_result"
    }
   ],
   "source": [
    "may_dead ##1025190 DEAD SCOOTERS/SCOOTERS WITH NO CHARGE/CHARGE LEVEL = 0"
   ]
  },
  {
   "cell_type": "code",
   "execution_count": 30,
   "id": "61dd917e",
   "metadata": {},
   "outputs": [
    {
     "data": {
      "text/plain": [
       "companyname\n",
       "5              769269\n",
       "2              193698\n",
       "4               39098\n",
       "3               21465\n",
       "6                1660\n",
       "dtype: int64"
      ]
     },
     "execution_count": 30,
     "metadata": {},
     "output_type": "execute_result"
    }
   ],
   "source": [
    "may_dead_company = may_dead.value_counts(['companyname'])##NUMBER OF DEAD SCOOTERS BY COMPANY\n",
    "may_dead_company "
   ]
  },
  {
   "cell_type": "code",
   "execution_count": 31,
   "id": "b5ba83c0",
   "metadata": {},
   "outputs": [
    {
     "data": {
      "text/plain": [
       "5"
      ]
     },
     "execution_count": 31,
     "metadata": {},
     "output_type": "execute_result"
    }
   ],
   "source": [
    "may_dead=may_dead.value_counts(['companyname']).nunique() ##THE NUMBER OF COMPANIES WITH DEAD SCOOTERS\n",
    "may_dead"
   ]
  },
  {
   "cell_type": "code",
   "execution_count": null,
   "id": "c3a05df6",
   "metadata": {},
   "outputs": [],
   "source": [
    "Powered406=may_dead.loc[(may_dead['sumdid']=='Powered406')]\n",
    "Powered406"
   ]
  },
  {
   "cell_type": "code",
   "execution_count": null,
   "id": "c73d9ea6",
   "metadata": {},
   "outputs": [],
   "source": []
  },
  {
   "cell_type": "code",
   "execution_count": null,
   "id": "a5b58023",
   "metadata": {},
   "outputs": [],
   "source": [
    "# Select all duplicate rows based on multiple column names in list\n",
    "duplicate_location = Powered406[Powered406.duplicated(['latitude', 'longitude'])]"
   ]
  },
  {
   "cell_type": "code",
   "execution_count": null,
   "id": "4b749045",
   "metadata": {},
   "outputs": [],
   "source": [
    "duplicate_location ##in Powered406 there are 868 rows. when looking at duplicate locations for Powered406 662 rows"
   ]
  },
  {
   "cell_type": "code",
   "execution_count": null,
   "id": "28ec5928",
   "metadata": {},
   "outputs": [],
   "source": [
    "grouped_multiple=may_scooters.groupby(['latitude', 'longitude'])['sumdid'].nunique()"
   ]
  },
  {
   "cell_type": "code",
   "execution_count": null,
   "id": "f7dc7b99",
   "metadata": {},
   "outputs": [],
   "source": [
    "grouped_multiple"
   ]
  },
  {
   "cell_type": "code",
   "execution_count": null,
   "id": "ddaa7921",
   "metadata": {},
   "outputs": [],
   "source": [
    "grouped_multiple.value_counts()\n",
    "\n",
    "##may_scooters=grouped_multiple.dropna(['latitude', 'longitude']==0.000000)\n",
    "##may_scooters"
   ]
  }
 ],
 "metadata": {
  "kernelspec": {
   "display_name": "Python 3 (ipykernel)",
   "language": "python",
   "name": "python3"
  },
  "language_info": {
   "codemirror_mode": {
    "name": "ipython",
    "version": 3
   },
   "file_extension": ".py",
   "mimetype": "text/x-python",
   "name": "python",
   "nbconvert_exporter": "python",
   "pygments_lexer": "ipython3",
   "version": "3.8.5"
  }
 },
 "nbformat": 4,
 "nbformat_minor": 5
}
