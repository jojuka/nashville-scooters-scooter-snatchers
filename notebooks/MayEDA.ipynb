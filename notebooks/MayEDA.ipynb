{
 "cells": [
  {
   "cell_type": "code",
   "execution_count": 77,
   "id": "6711db19",
   "metadata": {},
   "outputs": [],
   "source": [
    "import pandas as pd\n",
    "import pickle"
   ]
  },
  {
   "cell_type": "code",
   "execution_count": 78,
   "id": "9dfc77ca",
   "metadata": {},
   "outputs": [
    {
     "name": "stdout",
     "output_type": "stream",
     "text": [
      "Wall time: 6.81 s\n"
     ]
    },
    {
     "data": {
      "text/html": [
       "<div>\n",
       "<style scoped>\n",
       "    .dataframe tbody tr th:only-of-type {\n",
       "        vertical-align: middle;\n",
       "    }\n",
       "\n",
       "    .dataframe tbody tr th {\n",
       "        vertical-align: top;\n",
       "    }\n",
       "\n",
       "    .dataframe thead th {\n",
       "        text-align: right;\n",
       "    }\n",
       "</style>\n",
       "<table border=\"1\" class=\"dataframe\">\n",
       "  <thead>\n",
       "    <tr style=\"text-align: right;\">\n",
       "      <th></th>\n",
       "      <th>pubdatetime</th>\n",
       "      <th>latitude</th>\n",
       "      <th>longitude</th>\n",
       "      <th>sumdid</th>\n",
       "      <th>chargelevel</th>\n",
       "      <th>companyname</th>\n",
       "    </tr>\n",
       "  </thead>\n",
       "  <tbody>\n",
       "    <tr>\n",
       "      <th>0</th>\n",
       "      <td>2019-05-01 00:01:41.247</td>\n",
       "      <td>36.136822</td>\n",
       "      <td>-86.799877</td>\n",
       "      <td>PoweredLIRL1</td>\n",
       "      <td>93.0</td>\n",
       "      <td>Bird</td>\n",
       "    </tr>\n",
       "    <tr>\n",
       "      <th>1</th>\n",
       "      <td>2019-05-01 00:01:41.247</td>\n",
       "      <td>36.191252</td>\n",
       "      <td>-86.772945</td>\n",
       "      <td>PoweredXWRWC</td>\n",
       "      <td>35.0</td>\n",
       "      <td>Bird</td>\n",
       "    </tr>\n",
       "    <tr>\n",
       "      <th>2</th>\n",
       "      <td>2019-05-01 00:01:41.247</td>\n",
       "      <td>36.144752</td>\n",
       "      <td>-86.806293</td>\n",
       "      <td>PoweredMEJEH</td>\n",
       "      <td>90.0</td>\n",
       "      <td>Bird</td>\n",
       "    </tr>\n",
       "    <tr>\n",
       "      <th>3</th>\n",
       "      <td>2019-05-01 00:01:41.247</td>\n",
       "      <td>36.162056</td>\n",
       "      <td>-86.774688</td>\n",
       "      <td>Powered1A7TC</td>\n",
       "      <td>88.0</td>\n",
       "      <td>Bird</td>\n",
       "    </tr>\n",
       "    <tr>\n",
       "      <th>4</th>\n",
       "      <td>2019-05-01 00:01:41.247</td>\n",
       "      <td>36.150973</td>\n",
       "      <td>-86.783109</td>\n",
       "      <td>Powered2TYEF</td>\n",
       "      <td>98.0</td>\n",
       "      <td>Bird</td>\n",
       "    </tr>\n",
       "  </tbody>\n",
       "</table>\n",
       "</div>"
      ],
      "text/plain": [
       "              pubdatetime   latitude  longitude        sumdid  chargelevel  \\\n",
       "0 2019-05-01 00:01:41.247  36.136822 -86.799877  PoweredLIRL1         93.0   \n",
       "1 2019-05-01 00:01:41.247  36.191252 -86.772945  PoweredXWRWC         35.0   \n",
       "2 2019-05-01 00:01:41.247  36.144752 -86.806293  PoweredMEJEH         90.0   \n",
       "3 2019-05-01 00:01:41.247  36.162056 -86.774688  Powered1A7TC         88.0   \n",
       "4 2019-05-01 00:01:41.247  36.150973 -86.783109  Powered2TYEF         98.0   \n",
       "\n",
       "  companyname  \n",
       "0        Bird  \n",
       "1        Bird  \n",
       "2        Bird  \n",
       "3        Bird  \n",
       "4        Bird  "
      ]
     },
     "execution_count": 78,
     "metadata": {},
     "output_type": "execute_result"
    }
   ],
   "source": [
    "%%time\n",
    "may_scooters = pd.read_pickle('../data/may.pkl')\n",
    "may_scooters.head()"
   ]
  },
  {
   "cell_type": "code",
   "execution_count": 79,
   "id": "f58e9620",
   "metadata": {},
   "outputs": [
    {
     "name": "stdout",
     "output_type": "stream",
     "text": [
      "<class 'pandas.core.frame.DataFrame'>\n",
      "Int64Index: 20283582 entries, 0 to 20292502\n",
      "Data columns (total 6 columns):\n",
      " #   Column       Dtype         \n",
      "---  ------       -----         \n",
      " 0   pubdatetime  datetime64[ns]\n",
      " 1   latitude     float64       \n",
      " 2   longitude    float64       \n",
      " 3   sumdid       object        \n",
      " 4   chargelevel  float64       \n",
      " 5   companyname  object        \n",
      "dtypes: datetime64[ns](1), float64(3), object(2)\n",
      "memory usage: 1.1+ GB\n"
     ]
    }
   ],
   "source": [
    "may_scooters.info() ##20292503 rows, 9 columns, note pubdatetime is an object and needs to be changed to datetime"
   ]
  },
  {
   "cell_type": "code",
   "execution_count": 4,
   "id": "18cf4bc0",
   "metadata": {},
   "outputs": [],
   "source": [
    "company_dict = {'Bird':'Bi', 'Lyft': 'Ly', 'Gotcha': 'G', 'Lime': 'Li', 'Spin': 'S', 'Jump': 'J', 'Bolt': 'Bo'}"
   ]
  },
  {
   "cell_type": "code",
   "execution_count": 5,
   "id": "2add0815",
   "metadata": {},
   "outputs": [],
   "source": [
    "may_scooters.companyname = may_scooters.companyname.replace(company_dict)##replaced company name with 2 letter name dictionary"
   ]
  },
  {
   "cell_type": "code",
   "execution_count": 6,
   "id": "7b658290",
   "metadata": {},
   "outputs": [],
   "source": [
    "may_scooters['year'] = may_scooters['pubdatetime'].dt.year\n",
    "\n",
    "may_scooters['month'] = may_scooters['pubdatetime'].dt.month\n",
    "\n",
    "may_scooters['day'] = may_scooters['pubdatetime'].dt.day\n",
    "\n",
    "may_scooters['hour'] = may_scooters['pubdatetime'].dt.hour\n",
    "may_scooters['min'] = may_scooters['pubdatetime'].dt.minute\n"
   ]
  },
  {
   "cell_type": "code",
   "execution_count": 80,
   "id": "4c93b4a0",
   "metadata": {},
   "outputs": [
    {
     "name": "stdout",
     "output_type": "stream",
     "text": [
      "<class 'pandas.core.frame.DataFrame'>\n",
      "Int64Index: 20283582 entries, 0 to 20292502\n",
      "Data columns (total 6 columns):\n",
      " #   Column       Dtype         \n",
      "---  ------       -----         \n",
      " 0   pubdatetime  datetime64[ns]\n",
      " 1   latitude     float64       \n",
      " 2   longitude    float64       \n",
      " 3   sumdid       object        \n",
      " 4   chargelevel  float64       \n",
      " 5   companyname  object        \n",
      "dtypes: datetime64[ns](1), float64(3), object(2)\n",
      "memory usage: 1.1+ GB\n"
     ]
    }
   ],
   "source": [
    "may_scooters.info()"
   ]
  },
  {
   "cell_type": "code",
   "execution_count": 81,
   "id": "48d4f638",
   "metadata": {},
   "outputs": [
    {
     "ename": "KeyError",
     "evalue": "\"['year', 'month', 'day', 'hour'] not in index\"",
     "output_type": "error",
     "traceback": [
      "\u001b[1;31m---------------------------------------------------------------------------\u001b[0m",
      "\u001b[1;31mKeyError\u001b[0m                                  Traceback (most recent call last)",
      "\u001b[1;32m~\\AppData\\Local\\Temp/ipykernel_12820/499138879.py\u001b[0m in \u001b[0;36m<module>\u001b[1;34m\u001b[0m\n\u001b[1;32m----> 1\u001b[1;33m \u001b[0mmay_scooters\u001b[0m \u001b[1;33m=\u001b[0m \u001b[0mmay_scooters\u001b[0m\u001b[1;33m[\u001b[0m\u001b[1;33m[\u001b[0m\u001b[1;34m'pubdatetime'\u001b[0m\u001b[1;33m,\u001b[0m \u001b[1;34m'year'\u001b[0m\u001b[1;33m,\u001b[0m \u001b[1;34m'month'\u001b[0m\u001b[1;33m,\u001b[0m \u001b[1;34m'day'\u001b[0m\u001b[1;33m,\u001b[0m \u001b[1;34m'hour'\u001b[0m\u001b[1;33m,\u001b[0m \u001b[1;34m'sumdid'\u001b[0m\u001b[1;33m,\u001b[0m \u001b[1;34m'latitude'\u001b[0m\u001b[1;33m,\u001b[0m \u001b[1;34m'longitude'\u001b[0m\u001b[1;33m,\u001b[0m \u001b[1;34m'chargelevel'\u001b[0m\u001b[1;33m,\u001b[0m \u001b[1;34m'companyname'\u001b[0m\u001b[1;33m]\u001b[0m\u001b[1;33m]\u001b[0m \u001b[1;31m##drops columns costpermin from dataframe\u001b[0m\u001b[1;33m\u001b[0m\u001b[1;33m\u001b[0m\u001b[0m\n\u001b[0m",
      "\u001b[1;32m~\\Anaconda3\\envs\\geospatial\\lib\\site-packages\\pandas\\core\\frame.py\u001b[0m in \u001b[0;36m__getitem__\u001b[1;34m(self, key)\u001b[0m\n\u001b[0;32m   3462\u001b[0m             \u001b[1;32mif\u001b[0m \u001b[0mis_iterator\u001b[0m\u001b[1;33m(\u001b[0m\u001b[0mkey\u001b[0m\u001b[1;33m)\u001b[0m\u001b[1;33m:\u001b[0m\u001b[1;33m\u001b[0m\u001b[1;33m\u001b[0m\u001b[0m\n\u001b[0;32m   3463\u001b[0m                 \u001b[0mkey\u001b[0m \u001b[1;33m=\u001b[0m \u001b[0mlist\u001b[0m\u001b[1;33m(\u001b[0m\u001b[0mkey\u001b[0m\u001b[1;33m)\u001b[0m\u001b[1;33m\u001b[0m\u001b[1;33m\u001b[0m\u001b[0m\n\u001b[1;32m-> 3464\u001b[1;33m             \u001b[0mindexer\u001b[0m \u001b[1;33m=\u001b[0m \u001b[0mself\u001b[0m\u001b[1;33m.\u001b[0m\u001b[0mloc\u001b[0m\u001b[1;33m.\u001b[0m\u001b[0m_get_listlike_indexer\u001b[0m\u001b[1;33m(\u001b[0m\u001b[0mkey\u001b[0m\u001b[1;33m,\u001b[0m \u001b[0maxis\u001b[0m\u001b[1;33m=\u001b[0m\u001b[1;36m1\u001b[0m\u001b[1;33m)\u001b[0m\u001b[1;33m[\u001b[0m\u001b[1;36m1\u001b[0m\u001b[1;33m]\u001b[0m\u001b[1;33m\u001b[0m\u001b[1;33m\u001b[0m\u001b[0m\n\u001b[0m\u001b[0;32m   3465\u001b[0m \u001b[1;33m\u001b[0m\u001b[0m\n\u001b[0;32m   3466\u001b[0m         \u001b[1;31m# take() does not accept boolean indexers\u001b[0m\u001b[1;33m\u001b[0m\u001b[1;33m\u001b[0m\u001b[1;33m\u001b[0m\u001b[0m\n",
      "\u001b[1;32m~\\Anaconda3\\envs\\geospatial\\lib\\site-packages\\pandas\\core\\indexing.py\u001b[0m in \u001b[0;36m_get_listlike_indexer\u001b[1;34m(self, key, axis)\u001b[0m\n\u001b[0;32m   1312\u001b[0m             \u001b[0mkeyarr\u001b[0m\u001b[1;33m,\u001b[0m \u001b[0mindexer\u001b[0m\u001b[1;33m,\u001b[0m \u001b[0mnew_indexer\u001b[0m \u001b[1;33m=\u001b[0m \u001b[0max\u001b[0m\u001b[1;33m.\u001b[0m\u001b[0m_reindex_non_unique\u001b[0m\u001b[1;33m(\u001b[0m\u001b[0mkeyarr\u001b[0m\u001b[1;33m)\u001b[0m\u001b[1;33m\u001b[0m\u001b[1;33m\u001b[0m\u001b[0m\n\u001b[0;32m   1313\u001b[0m \u001b[1;33m\u001b[0m\u001b[0m\n\u001b[1;32m-> 1314\u001b[1;33m         \u001b[0mself\u001b[0m\u001b[1;33m.\u001b[0m\u001b[0m_validate_read_indexer\u001b[0m\u001b[1;33m(\u001b[0m\u001b[0mkeyarr\u001b[0m\u001b[1;33m,\u001b[0m \u001b[0mindexer\u001b[0m\u001b[1;33m,\u001b[0m \u001b[0maxis\u001b[0m\u001b[1;33m)\u001b[0m\u001b[1;33m\u001b[0m\u001b[1;33m\u001b[0m\u001b[0m\n\u001b[0m\u001b[0;32m   1315\u001b[0m \u001b[1;33m\u001b[0m\u001b[0m\n\u001b[0;32m   1316\u001b[0m         if needs_i8_conversion(ax.dtype) or isinstance(\n",
      "\u001b[1;32m~\\Anaconda3\\envs\\geospatial\\lib\\site-packages\\pandas\\core\\indexing.py\u001b[0m in \u001b[0;36m_validate_read_indexer\u001b[1;34m(self, key, indexer, axis)\u001b[0m\n\u001b[0;32m   1375\u001b[0m \u001b[1;33m\u001b[0m\u001b[0m\n\u001b[0;32m   1376\u001b[0m             \u001b[0mnot_found\u001b[0m \u001b[1;33m=\u001b[0m \u001b[0mlist\u001b[0m\u001b[1;33m(\u001b[0m\u001b[0mensure_index\u001b[0m\u001b[1;33m(\u001b[0m\u001b[0mkey\u001b[0m\u001b[1;33m)\u001b[0m\u001b[1;33m[\u001b[0m\u001b[0mmissing_mask\u001b[0m\u001b[1;33m.\u001b[0m\u001b[0mnonzero\u001b[0m\u001b[1;33m(\u001b[0m\u001b[1;33m)\u001b[0m\u001b[1;33m[\u001b[0m\u001b[1;36m0\u001b[0m\u001b[1;33m]\u001b[0m\u001b[1;33m]\u001b[0m\u001b[1;33m.\u001b[0m\u001b[0munique\u001b[0m\u001b[1;33m(\u001b[0m\u001b[1;33m)\u001b[0m\u001b[1;33m)\u001b[0m\u001b[1;33m\u001b[0m\u001b[1;33m\u001b[0m\u001b[0m\n\u001b[1;32m-> 1377\u001b[1;33m             \u001b[1;32mraise\u001b[0m \u001b[0mKeyError\u001b[0m\u001b[1;33m(\u001b[0m\u001b[1;34mf\"{not_found} not in index\"\u001b[0m\u001b[1;33m)\u001b[0m\u001b[1;33m\u001b[0m\u001b[1;33m\u001b[0m\u001b[0m\n\u001b[0m\u001b[0;32m   1378\u001b[0m \u001b[1;33m\u001b[0m\u001b[0m\n\u001b[0;32m   1379\u001b[0m \u001b[1;33m\u001b[0m\u001b[0m\n",
      "\u001b[1;31mKeyError\u001b[0m: \"['year', 'month', 'day', 'hour'] not in index\""
     ]
    }
   ],
   "source": [
    "may_scooters = may_scooters[['pubdatetime', 'year', 'month', 'day', 'hour', 'sumdid', 'latitude', 'longitude', 'chargelevel', 'companyname']] ##drops columns costpermin from dataframe"
   ]
  },
  {
   "cell_type": "code",
   "execution_count": 82,
   "id": "af0aed3b",
   "metadata": {},
   "outputs": [],
   "source": [
    "pd.set_option('display.max_columns', 15)##sets dataframe to view 15 columns"
   ]
  },
  {
   "cell_type": "code",
   "execution_count": 83,
   "id": "e858519a",
   "metadata": {},
   "outputs": [],
   "source": [
    "may_scooters.dropna(inplace=True) ##dropping all null rows"
   ]
  },
  {
   "cell_type": "code",
   "execution_count": 84,
   "id": "8d13b5a3",
   "metadata": {},
   "outputs": [
    {
     "data": {
      "text/html": [
       "<div>\n",
       "<style scoped>\n",
       "    .dataframe tbody tr th:only-of-type {\n",
       "        vertical-align: middle;\n",
       "    }\n",
       "\n",
       "    .dataframe tbody tr th {\n",
       "        vertical-align: top;\n",
       "    }\n",
       "\n",
       "    .dataframe thead th {\n",
       "        text-align: right;\n",
       "    }\n",
       "</style>\n",
       "<table border=\"1\" class=\"dataframe\">\n",
       "  <thead>\n",
       "    <tr style=\"text-align: right;\">\n",
       "      <th></th>\n",
       "      <th>pubdatetime</th>\n",
       "      <th>latitude</th>\n",
       "      <th>longitude</th>\n",
       "      <th>sumdid</th>\n",
       "      <th>chargelevel</th>\n",
       "      <th>companyname</th>\n",
       "    </tr>\n",
       "  </thead>\n",
       "  <tbody>\n",
       "    <tr>\n",
       "      <th>20292493</th>\n",
       "      <td>2019-05-31 23:58:27.243</td>\n",
       "      <td>36.122375</td>\n",
       "      <td>-86.775722</td>\n",
       "      <td>PoweredHICJ5XYHBAW5I</td>\n",
       "      <td>60.0</td>\n",
       "      <td>Lime</td>\n",
       "    </tr>\n",
       "    <tr>\n",
       "      <th>20292494</th>\n",
       "      <td>2019-05-31 23:58:27.243</td>\n",
       "      <td>36.121613</td>\n",
       "      <td>-86.775351</td>\n",
       "      <td>PoweredXZH7USFBU76DX</td>\n",
       "      <td>94.0</td>\n",
       "      <td>Lime</td>\n",
       "    </tr>\n",
       "    <tr>\n",
       "      <th>20292495</th>\n",
       "      <td>2019-05-31 23:58:27.243</td>\n",
       "      <td>36.120440</td>\n",
       "      <td>-86.777199</td>\n",
       "      <td>PoweredSZAWEG5FWAI6V</td>\n",
       "      <td>56.0</td>\n",
       "      <td>Lime</td>\n",
       "    </tr>\n",
       "    <tr>\n",
       "      <th>20292496</th>\n",
       "      <td>2019-05-31 23:58:27.243</td>\n",
       "      <td>36.121584</td>\n",
       "      <td>-86.775493</td>\n",
       "      <td>PoweredU6FP6ZXZ6JRTC</td>\n",
       "      <td>94.0</td>\n",
       "      <td>Lime</td>\n",
       "    </tr>\n",
       "    <tr>\n",
       "      <th>20292497</th>\n",
       "      <td>2019-05-31 23:58:43.000</td>\n",
       "      <td>36.147400</td>\n",
       "      <td>-86.811700</td>\n",
       "      <td>Poweredf0c59838-3392-5ea9-9a8f-d680bc8ac344</td>\n",
       "      <td>71.0</td>\n",
       "      <td>Jump</td>\n",
       "    </tr>\n",
       "    <tr>\n",
       "      <th>20292498</th>\n",
       "      <td>2019-05-31 23:59:42.000</td>\n",
       "      <td>36.163900</td>\n",
       "      <td>-86.782300</td>\n",
       "      <td>Poweredbb60ef04-c719-597f-805f-20978964fd8c</td>\n",
       "      <td>49.0</td>\n",
       "      <td>Jump</td>\n",
       "    </tr>\n",
       "    <tr>\n",
       "      <th>20292499</th>\n",
       "      <td>2019-05-31 23:59:42.000</td>\n",
       "      <td>36.160600</td>\n",
       "      <td>-86.776800</td>\n",
       "      <td>Powered9f5743ed-7f81-539b-9e37-6503d54445d3</td>\n",
       "      <td>68.0</td>\n",
       "      <td>Jump</td>\n",
       "    </tr>\n",
       "    <tr>\n",
       "      <th>20292500</th>\n",
       "      <td>2019-05-31 23:59:42.000</td>\n",
       "      <td>36.160600</td>\n",
       "      <td>-86.776900</td>\n",
       "      <td>Powered5744d1db-3bbe-55e5-9a23-a93828ba54fc</td>\n",
       "      <td>53.0</td>\n",
       "      <td>Jump</td>\n",
       "    </tr>\n",
       "    <tr>\n",
       "      <th>20292501</th>\n",
       "      <td>2019-05-31 23:59:42.000</td>\n",
       "      <td>36.162400</td>\n",
       "      <td>-86.774500</td>\n",
       "      <td>Poweredad1d6d3b-162a-5bec-bffd-cac4ac8dee1c</td>\n",
       "      <td>42.0</td>\n",
       "      <td>Jump</td>\n",
       "    </tr>\n",
       "    <tr>\n",
       "      <th>20292502</th>\n",
       "      <td>2019-05-31 23:59:42.000</td>\n",
       "      <td>36.151900</td>\n",
       "      <td>-86.798500</td>\n",
       "      <td>Powered8505008e-97c9-5003-8975-2ea6b2634fa0</td>\n",
       "      <td>76.0</td>\n",
       "      <td>Jump</td>\n",
       "    </tr>\n",
       "  </tbody>\n",
       "</table>\n",
       "</div>"
      ],
      "text/plain": [
       "                     pubdatetime   latitude  longitude  \\\n",
       "20292493 2019-05-31 23:58:27.243  36.122375 -86.775722   \n",
       "20292494 2019-05-31 23:58:27.243  36.121613 -86.775351   \n",
       "20292495 2019-05-31 23:58:27.243  36.120440 -86.777199   \n",
       "20292496 2019-05-31 23:58:27.243  36.121584 -86.775493   \n",
       "20292497 2019-05-31 23:58:43.000  36.147400 -86.811700   \n",
       "20292498 2019-05-31 23:59:42.000  36.163900 -86.782300   \n",
       "20292499 2019-05-31 23:59:42.000  36.160600 -86.776800   \n",
       "20292500 2019-05-31 23:59:42.000  36.160600 -86.776900   \n",
       "20292501 2019-05-31 23:59:42.000  36.162400 -86.774500   \n",
       "20292502 2019-05-31 23:59:42.000  36.151900 -86.798500   \n",
       "\n",
       "                                               sumdid  chargelevel companyname  \n",
       "20292493                         PoweredHICJ5XYHBAW5I         60.0        Lime  \n",
       "20292494                         PoweredXZH7USFBU76DX         94.0        Lime  \n",
       "20292495                         PoweredSZAWEG5FWAI6V         56.0        Lime  \n",
       "20292496                         PoweredU6FP6ZXZ6JRTC         94.0        Lime  \n",
       "20292497  Poweredf0c59838-3392-5ea9-9a8f-d680bc8ac344         71.0        Jump  \n",
       "20292498  Poweredbb60ef04-c719-597f-805f-20978964fd8c         49.0        Jump  \n",
       "20292499  Powered9f5743ed-7f81-539b-9e37-6503d54445d3         68.0        Jump  \n",
       "20292500  Powered5744d1db-3bbe-55e5-9a23-a93828ba54fc         53.0        Jump  \n",
       "20292501  Poweredad1d6d3b-162a-5bec-bffd-cac4ac8dee1c         42.0        Jump  \n",
       "20292502  Powered8505008e-97c9-5003-8975-2ea6b2634fa0         76.0        Jump  "
      ]
     },
     "execution_count": 84,
     "metadata": {},
     "output_type": "execute_result"
    }
   ],
   "source": [
    "may_scooters.tail(10)"
   ]
  },
  {
   "cell_type": "code",
   "execution_count": 85,
   "id": "2eccc15a",
   "metadata": {},
   "outputs": [
    {
     "name": "stdout",
     "output_type": "stream",
     "text": [
      "<class 'pandas.core.frame.DataFrame'>\n",
      "Int64Index: 20283299 entries, 0 to 20292502\n",
      "Data columns (total 6 columns):\n",
      " #   Column       Dtype         \n",
      "---  ------       -----         \n",
      " 0   pubdatetime  datetime64[ns]\n",
      " 1   latitude     float64       \n",
      " 2   longitude    float64       \n",
      " 3   sumdid       object        \n",
      " 4   chargelevel  float64       \n",
      " 5   companyname  object        \n",
      "dtypes: datetime64[ns](1), float64(3), object(2)\n",
      "memory usage: 1.1+ GB\n"
     ]
    }
   ],
   "source": [
    "may_scooters.info()\n",
    "##Original info before drop of null rows, RangeIndex: 20292503 entries, 0 to 20292502, Data columns (total 9 columns):"
   ]
  },
  {
   "cell_type": "code",
   "execution_count": 86,
   "id": "b07f4b52",
   "metadata": {},
   "outputs": [
    {
     "data": {
      "text/plain": [
       "array(['PoweredLIRL1', 'PoweredXWRWC', 'PoweredMEJEH', ...,\n",
       "       'PoweredS26HB', 'PoweredWVFVTYLWIVLI7', 'Powered6Y1U7'],\n",
       "      dtype=object)"
      ]
     },
     "execution_count": 86,
     "metadata": {},
     "output_type": "execute_result"
    }
   ],
   "source": [
    "may_scooters.sumdid.unique()"
   ]
  },
  {
   "cell_type": "code",
   "execution_count": 87,
   "id": "45ec36ea",
   "metadata": {},
   "outputs": [
    {
     "data": {
      "text/plain": [
       "8301"
      ]
     },
     "execution_count": 87,
     "metadata": {},
     "output_type": "execute_result"
    }
   ],
   "source": [
    "may_scooters.sumdid.nunique() ##count the number of unique sumdid"
   ]
  },
  {
   "cell_type": "code",
   "execution_count": 88,
   "id": "725ac726",
   "metadata": {},
   "outputs": [
    {
     "name": "stdout",
     "output_type": "stream",
     "text": [
      "PoweredIE7H5RIN474PE    8921\n",
      "PoweredUK65LOU3K5N7G    8748\n",
      "PoweredIOHG2G3XKATUL    8576\n",
      "PoweredJCKMQCAL2SSNJ    8521\n",
      "Powered4NYK5PWADVIAU    8439\n",
      "                        ... \n",
      "PoweredGJYGPDVTFXRH7       1\n",
      "PoweredYEBSU               1\n",
      "PoweredCW742BQMJ3XHN       1\n",
      "PoweredCI6VKIK2KOFMC       1\n",
      "PoweredN4YI2A7RXZQLY       1\n",
      "Name: sumdid, Length: 8301, dtype: int64\n"
     ]
    }
   ],
   "source": [
    "print(may_scooters['sumdid'].value_counts()) ##the count of each of the distinct values of a specific column\n",
    "##https://datascienceparichay.com/article/pandas-count-of-unique-values-in-each-column/"
   ]
  },
  {
   "cell_type": "code",
   "execution_count": 16,
   "id": "3ed8638a",
   "metadata": {},
   "outputs": [],
   "source": [
    "##7 SCOOTER COMPANIES, 8304 SCOOTERS, "
   ]
  },
  {
   "cell_type": "code",
   "execution_count": 89,
   "id": "8beed043",
   "metadata": {},
   "outputs": [],
   "source": [
    "may_group=may_scooters.groupby(['companyname'])['sumdid'].nunique() ##NUMBER OF UNIQUE SCOOTER GROUPED BY COMPANY NAME"
   ]
  },
  {
   "cell_type": "code",
   "execution_count": 90,
   "id": "7a3b1fe7",
   "metadata": {},
   "outputs": [
    {
     "data": {
      "text/plain": [
       "companyname\n",
       "Gotcha     223\n",
       "Bolt       346\n",
       "Spin       685\n",
       "Jump       976\n",
       "Lyft      1376\n",
       "Lime      1631\n",
       "Bird      3064\n",
       "Name: sumdid, dtype: int64"
      ]
     },
     "execution_count": 90,
     "metadata": {},
     "output_type": "execute_result"
    }
   ],
   "source": [
    "may_group=may_group.sort_values()\n",
    "may_group"
   ]
  },
  {
   "cell_type": "code",
   "execution_count": 91,
   "id": "f66ca701",
   "metadata": {},
   "outputs": [
    {
     "data": {
      "text/plain": [
       "<AxesSubplot:title={'center':'Scooters by Company, May 2019'}, xlabel='companyname'>"
      ]
     },
     "execution_count": 91,
     "metadata": {},
     "output_type": "execute_result"
    },
    {
     "data": {
      "image/png": "[encoded data removed]",
      "text/plain": [
       "<Figure size 432x288 with 1 Axes>"
      ]
     },
     "metadata": {
      "needs_background": "light"
     },
     "output_type": "display_data"
    }
   ],
   "source": [
    "import matplotlib.pyplot as plt\n",
    "may_group.plot.bar(x='companyname', y='sumdid', rot=0, title = 'Scooters by Company, May 2019')\n",
    "##plt.show()"
   ]
  },
  {
   "cell_type": "code",
   "execution_count": 20,
   "id": "dc9ba781",
   "metadata": {},
   "outputs": [],
   "source": [
    "##import matplotlib.pyplot as plt\n",
    "##import seaborn as sns\n",
    "##%matplotlib inline      "
   ]
  },
  {
   "cell_type": "code",
   "execution_count": 21,
   "id": "ffc44562",
   "metadata": {},
   "outputs": [],
   "source": [
    "#set the seaborn theme, style, color palette\n",
    "#sns.set(style=\"ticks\", color_codes=True)\n",
    "\n",
    "#make a correlation plot that looks at each variables relationship with every other variable\n",
    "#and plots the distribution of each variable along the diagonal\n",
    "#sns.pairplot(may_scooters);"
   ]
  },
  {
   "cell_type": "code",
   "execution_count": 22,
   "id": "42ac2bf7",
   "metadata": {},
   "outputs": [],
   "source": [
    "duplicate_rows = may_scooters[may_scooters.duplicated()]\n",
    "## Select duplicate rows except first occurrence based on all columns\n",
    "##duplicateRowsDF = dfObj[dfObj.duplicated()]\n",
    "##print(\"Duplicate Rows except first occurrence based on all columns are :\")\n",
    "##print(duplicateRowsDF)"
   ]
  },
  {
   "cell_type": "code",
   "execution_count": 23,
   "id": "a60699fb",
   "metadata": {},
   "outputs": [
    {
     "name": "stdout",
     "output_type": "stream",
     "text": [
      "Duplicate Rows except first occurrence based on all columns are:\n"
     ]
    }
   ],
   "source": [
    "print(\"Duplicate Rows except first occurrence based on all columns are:\")"
   ]
  },
  {
   "cell_type": "code",
   "execution_count": 24,
   "id": "63043271",
   "metadata": {},
   "outputs": [
    {
     "name": "stdout",
     "output_type": "stream",
     "text": [
      "Empty DataFrame\n",
      "Columns: [pubdatetime, year, month, day, hour, sumdid, latitude, longitude, chargelevel, companyname]\n",
      "Index: []\n"
     ]
    }
   ],
   "source": [
    "print(duplicate_rows)"
   ]
  },
  {
   "cell_type": "code",
   "execution_count": 25,
   "id": "4ddf8464",
   "metadata": {},
   "outputs": [],
   "source": [
    "##https://thispointer.com/pandas-find-duplicate-rows-in-a-dataframe-based-on-all-or-selected-columns-using-dataframe-duplicated-in-python/"
   ]
  },
  {
   "cell_type": "code",
   "execution_count": 92,
   "id": "acb5f142",
   "metadata": {},
   "outputs": [],
   "source": [
    "may_dead=may_scooters.loc[(may_scooters['chargelevel'] == 0.00)]"
   ]
  },
  {
   "cell_type": "code",
   "execution_count": 93,
   "id": "066f1545",
   "metadata": {},
   "outputs": [
    {
     "data": {
      "text/html": [
       "<div>\n",
       "<style scoped>\n",
       "    .dataframe tbody tr th:only-of-type {\n",
       "        vertical-align: middle;\n",
       "    }\n",
       "\n",
       "    .dataframe tbody tr th {\n",
       "        vertical-align: top;\n",
       "    }\n",
       "\n",
       "    .dataframe thead th {\n",
       "        text-align: right;\n",
       "    }\n",
       "</style>\n",
       "<table border=\"1\" class=\"dataframe\">\n",
       "  <thead>\n",
       "    <tr style=\"text-align: right;\">\n",
       "      <th></th>\n",
       "      <th>pubdatetime</th>\n",
       "      <th>latitude</th>\n",
       "      <th>longitude</th>\n",
       "      <th>sumdid</th>\n",
       "      <th>chargelevel</th>\n",
       "      <th>companyname</th>\n",
       "    </tr>\n",
       "  </thead>\n",
       "  <tbody>\n",
       "    <tr>\n",
       "      <th>1077</th>\n",
       "      <td>2019-05-01 00:04:48.030</td>\n",
       "      <td>36.162910</td>\n",
       "      <td>-86.776332</td>\n",
       "      <td>Powered406</td>\n",
       "      <td>0.0</td>\n",
       "      <td>Gotcha</td>\n",
       "    </tr>\n",
       "    <tr>\n",
       "      <th>1084</th>\n",
       "      <td>2019-05-01 00:04:48.030</td>\n",
       "      <td>36.152102</td>\n",
       "      <td>-86.762997</td>\n",
       "      <td>Powered785</td>\n",
       "      <td>0.0</td>\n",
       "      <td>Gotcha</td>\n",
       "    </tr>\n",
       "    <tr>\n",
       "      <th>1093</th>\n",
       "      <td>2019-05-01 00:04:48.030</td>\n",
       "      <td>36.156370</td>\n",
       "      <td>-86.786350</td>\n",
       "      <td>Powered412</td>\n",
       "      <td>0.0</td>\n",
       "      <td>Gotcha</td>\n",
       "    </tr>\n",
       "    <tr>\n",
       "      <th>1095</th>\n",
       "      <td>2019-05-01 00:04:48.030</td>\n",
       "      <td>36.121324</td>\n",
       "      <td>-86.770482</td>\n",
       "      <td>Powered826</td>\n",
       "      <td>0.0</td>\n",
       "      <td>Gotcha</td>\n",
       "    </tr>\n",
       "    <tr>\n",
       "      <th>1096</th>\n",
       "      <td>2019-05-01 00:04:48.030</td>\n",
       "      <td>36.121522</td>\n",
       "      <td>-86.770209</td>\n",
       "      <td>Powered769</td>\n",
       "      <td>0.0</td>\n",
       "      <td>Gotcha</td>\n",
       "    </tr>\n",
       "    <tr>\n",
       "      <th>...</th>\n",
       "      <td>...</td>\n",
       "      <td>...</td>\n",
       "      <td>...</td>\n",
       "      <td>...</td>\n",
       "      <td>...</td>\n",
       "      <td>...</td>\n",
       "    </tr>\n",
       "    <tr>\n",
       "      <th>20291457</th>\n",
       "      <td>2019-05-31 23:58:00.927</td>\n",
       "      <td>36.153768</td>\n",
       "      <td>-86.783705</td>\n",
       "      <td>Powered1572748</td>\n",
       "      <td>0.0</td>\n",
       "      <td>Spin</td>\n",
       "    </tr>\n",
       "    <tr>\n",
       "      <th>20291578</th>\n",
       "      <td>2019-05-31 23:58:00.927</td>\n",
       "      <td>36.210910</td>\n",
       "      <td>-86.736240</td>\n",
       "      <td>Powered1590780</td>\n",
       "      <td>0.0</td>\n",
       "      <td>Spin</td>\n",
       "    </tr>\n",
       "    <tr>\n",
       "      <th>20291808</th>\n",
       "      <td>2019-05-31 23:58:27.210</td>\n",
       "      <td>36.133764</td>\n",
       "      <td>-86.791866</td>\n",
       "      <td>PoweredUK65LOU3K5N7G</td>\n",
       "      <td>0.0</td>\n",
       "      <td>Lime</td>\n",
       "    </tr>\n",
       "    <tr>\n",
       "      <th>20291887</th>\n",
       "      <td>2019-05-31 23:58:27.210</td>\n",
       "      <td>36.133778</td>\n",
       "      <td>-86.791849</td>\n",
       "      <td>PoweredKZQINR7YHPOLL</td>\n",
       "      <td>0.0</td>\n",
       "      <td>Lime</td>\n",
       "    </tr>\n",
       "    <tr>\n",
       "      <th>20292041</th>\n",
       "      <td>2019-05-31 23:58:27.217</td>\n",
       "      <td>36.161245</td>\n",
       "      <td>-86.781209</td>\n",
       "      <td>PoweredJ36KZF4FQ7LQB</td>\n",
       "      <td>0.0</td>\n",
       "      <td>Lime</td>\n",
       "    </tr>\n",
       "  </tbody>\n",
       "</table>\n",
       "<p>1025190 rows × 6 columns</p>\n",
       "</div>"
      ],
      "text/plain": [
       "                     pubdatetime   latitude  longitude                sumdid  \\\n",
       "1077     2019-05-01 00:04:48.030  36.162910 -86.776332            Powered406   \n",
       "1084     2019-05-01 00:04:48.030  36.152102 -86.762997            Powered785   \n",
       "1093     2019-05-01 00:04:48.030  36.156370 -86.786350            Powered412   \n",
       "1095     2019-05-01 00:04:48.030  36.121324 -86.770482            Powered826   \n",
       "1096     2019-05-01 00:04:48.030  36.121522 -86.770209            Powered769   \n",
       "...                          ...        ...        ...                   ...   \n",
       "20291457 2019-05-31 23:58:00.927  36.153768 -86.783705        Powered1572748   \n",
       "20291578 2019-05-31 23:58:00.927  36.210910 -86.736240        Powered1590780   \n",
       "20291808 2019-05-31 23:58:27.210  36.133764 -86.791866  PoweredUK65LOU3K5N7G   \n",
       "20291887 2019-05-31 23:58:27.210  36.133778 -86.791849  PoweredKZQINR7YHPOLL   \n",
       "20292041 2019-05-31 23:58:27.217  36.161245 -86.781209  PoweredJ36KZF4FQ7LQB   \n",
       "\n",
       "          chargelevel companyname  \n",
       "1077              0.0      Gotcha  \n",
       "1084              0.0      Gotcha  \n",
       "1093              0.0      Gotcha  \n",
       "1095              0.0      Gotcha  \n",
       "1096              0.0      Gotcha  \n",
       "...               ...         ...  \n",
       "20291457          0.0        Spin  \n",
       "20291578          0.0        Spin  \n",
       "20291808          0.0        Lime  \n",
       "20291887          0.0        Lime  \n",
       "20292041          0.0        Lime  \n",
       "\n",
       "[1025190 rows x 6 columns]"
      ]
     },
     "execution_count": 93,
     "metadata": {},
     "output_type": "execute_result"
    }
   ],
   "source": [
    "may_dead ##1025190 DEAD SCOOTERS/SCOOTERS WITH NO CHARGE/CHARGE LEVEL = 0"
   ]
  },
  {
   "cell_type": "code",
   "execution_count": 95,
   "id": "61dd917e",
   "metadata": {
    "scrolled": true
   },
   "outputs": [
    {
     "data": {
      "text/plain": [
       "companyname\n",
       "Jump           769269\n",
       "Gotcha         193698\n",
       "Spin            39098\n",
       "Lime            21465\n",
       "Bolt             1660\n",
       "dtype: int64"
      ]
     },
     "execution_count": 95,
     "metadata": {},
     "output_type": "execute_result"
    }
   ],
   "source": [
    "may_dead_company = may_dead.value_counts(['companyname'])##NUMBER OF DEAD SCOOTERS BY COMPANY\n",
    "may_dead_company "
   ]
  },
  {
   "cell_type": "code",
   "execution_count": 105,
   "id": "f53cdc84",
   "metadata": {},
   "outputs": [
    {
     "data": {
      "text/plain": [
       "1236"
      ]
     },
     "execution_count": 105,
     "metadata": {},
     "output_type": "execute_result"
    }
   ],
   "source": [
    "may_dead=may_scooters.loc[(may_scooters['chargelevel'] == 0.00)]['sumdid'].nunique()\n",
    "may_dead"
   ]
  },
  {
   "cell_type": "code",
   "execution_count": 107,
   "id": "b5ba83c0",
   "metadata": {},
   "outputs": [
    {
     "ename": "AttributeError",
     "evalue": "'int' object has no attribute 'value_counts'",
     "output_type": "error",
     "traceback": [
      "\u001b[1;31m---------------------------------------------------------------------------\u001b[0m",
      "\u001b[1;31mAttributeError\u001b[0m                            Traceback (most recent call last)",
      "\u001b[1;32m~\\AppData\\Local\\Temp/ipykernel_12820/1916133449.py\u001b[0m in \u001b[0;36m<module>\u001b[1;34m\u001b[0m\n\u001b[1;32m----> 1\u001b[1;33m \u001b[0mmay_dead\u001b[0m\u001b[1;33m=\u001b[0m\u001b[0mmay_dead\u001b[0m\u001b[1;33m.\u001b[0m\u001b[0mvalue_counts\u001b[0m\u001b[1;33m(\u001b[0m\u001b[1;33m[\u001b[0m\u001b[1;34m'companyname'\u001b[0m\u001b[1;33m]\u001b[0m\u001b[1;33m)\u001b[0m\u001b[1;33m.\u001b[0m\u001b[0mnunique\u001b[0m\u001b[1;33m(\u001b[0m\u001b[1;33m)\u001b[0m \u001b[1;31m##THE NUMBER OF COMPANIES WITH DEAD SCOOTERS\u001b[0m\u001b[1;33m\u001b[0m\u001b[1;33m\u001b[0m\u001b[0m\n\u001b[0m\u001b[0;32m      2\u001b[0m \u001b[0mmay_dead\u001b[0m\u001b[1;33m\u001b[0m\u001b[1;33m\u001b[0m\u001b[0m\n",
      "\u001b[1;31mAttributeError\u001b[0m: 'int' object has no attribute 'value_counts'"
     ]
    }
   ],
   "source": [
    "may_dead=may_dead.value_counts(['companyname']).nunique() ##THE NUMBER OF COMPANIES WITH DEAD SCOOTERS\n",
    "may_dead"
   ]
  },
  {
   "cell_type": "code",
   "execution_count": 108,
   "id": "87e6192d",
   "metadata": {},
   "outputs": [
    {
     "ename": "AttributeError",
     "evalue": "'int' object has no attribute 'plot'",
     "output_type": "error",
     "traceback": [
      "\u001b[1;31m---------------------------------------------------------------------------\u001b[0m",
      "\u001b[1;31mAttributeError\u001b[0m                            Traceback (most recent call last)",
      "\u001b[1;32m~\\AppData\\Local\\Temp/ipykernel_12820/1471755922.py\u001b[0m in \u001b[0;36m<module>\u001b[1;34m\u001b[0m\n\u001b[0;32m      1\u001b[0m \u001b[1;32mimport\u001b[0m \u001b[0mmatplotlib\u001b[0m\u001b[1;33m.\u001b[0m\u001b[0mpyplot\u001b[0m \u001b[1;32mas\u001b[0m \u001b[0mplt\u001b[0m\u001b[1;33m\u001b[0m\u001b[1;33m\u001b[0m\u001b[0m\n\u001b[1;32m----> 2\u001b[1;33m \u001b[0mmay_dead\u001b[0m\u001b[1;33m.\u001b[0m\u001b[0mplot\u001b[0m\u001b[1;33m.\u001b[0m\u001b[0mbar\u001b[0m\u001b[1;33m(\u001b[0m\u001b[0mx\u001b[0m\u001b[1;33m=\u001b[0m\u001b[1;34m'companyname'\u001b[0m\u001b[1;33m,\u001b[0m \u001b[0my\u001b[0m\u001b[1;33m=\u001b[0m\u001b[1;34m'sumdid'\u001b[0m\u001b[1;33m,\u001b[0m \u001b[0mrot\u001b[0m\u001b[1;33m=\u001b[0m\u001b[1;36m0\u001b[0m\u001b[1;33m,\u001b[0m \u001b[0mtitle\u001b[0m \u001b[1;33m=\u001b[0m \u001b[1;34m'Zero Charge Scooters by Company, May 2019'\u001b[0m\u001b[1;33m)\u001b[0m\u001b[1;33m\u001b[0m\u001b[1;33m\u001b[0m\u001b[0m\n\u001b[0m\u001b[0;32m      3\u001b[0m \u001b[0mplt\u001b[0m\u001b[1;33m.\u001b[0m\u001b[0mshow\u001b[0m\u001b[1;33m(\u001b[0m\u001b[1;33m)\u001b[0m\u001b[1;33m\u001b[0m\u001b[1;33m\u001b[0m\u001b[0m\n\u001b[0;32m      4\u001b[0m \u001b[1;33m\u001b[0m\u001b[0m\n",
      "\u001b[1;31mAttributeError\u001b[0m: 'int' object has no attribute 'plot'"
     ]
    }
   ],
   "source": [
    "import matplotlib.pyplot as plt\n",
    "may_dead.plot.bar(x='companyname', y='sumdid', rot=0, title = 'Zero Charge Scooters by Company, May 2019')\n",
    "plt.show()\n",
    "\n"
   ]
  },
  {
   "cell_type": "code",
   "execution_count": 31,
   "id": "3f0bec70",
   "metadata": {},
   "outputs": [
    {
     "ename": "AttributeError",
     "evalue": "'int' object has no attribute 'to_csv'",
     "output_type": "error",
     "traceback": [
      "\u001b[1;31m---------------------------------------------------------------------------\u001b[0m",
      "\u001b[1;31mAttributeError\u001b[0m                            Traceback (most recent call last)",
      "\u001b[1;32m~\\AppData\\Local\\Temp/ipykernel_12820/3919066206.py\u001b[0m in \u001b[0;36m<module>\u001b[1;34m\u001b[0m\n\u001b[1;32m----> 1\u001b[1;33m \u001b[0mmay_dead\u001b[0m\u001b[1;33m.\u001b[0m\u001b[0mto_csv\u001b[0m \u001b[1;33m(\u001b[0m\u001b[1;34mr'C:\\Users\\jojuk\\Documents\\git\\projects\\nashville-scooters-scooter-snatchers\\export_MayDead.csv'\u001b[0m\u001b[1;33m,\u001b[0m \u001b[0mindex\u001b[0m \u001b[1;33m=\u001b[0m \u001b[1;32mFalse\u001b[0m\u001b[1;33m)\u001b[0m\u001b[1;33m\u001b[0m\u001b[1;33m\u001b[0m\u001b[0m\n\u001b[0m",
      "\u001b[1;31mAttributeError\u001b[0m: 'int' object has no attribute 'to_csv'"
     ]
    }
   ],
   "source": [
    "##may_dead.to_csv (r'C:\\Users\\jojuk\\Documents\\git\\projects\\nashville-scooters-scooter-snatchers\\export_MayDead.csv', index = False)"
   ]
  },
  {
   "cell_type": "code",
   "execution_count": null,
   "id": "c3a05df6",
   "metadata": {},
   "outputs": [],
   "source": [
    "##Powered406=may_dead.loc[(may_dead['sumdid']=='Powered406')]\n",
    "##Powered406"
   ]
  },
  {
   "cell_type": "code",
   "execution_count": null,
   "id": "a5b58023",
   "metadata": {},
   "outputs": [],
   "source": [
    "# Select all duplicate rows based on multiple column names in list\n",
    "#duplicate_location = Powered406[Powered406.duplicated(['latitude', 'longitude'])]"
   ]
  },
  {
   "cell_type": "code",
   "execution_count": null,
   "id": "4b749045",
   "metadata": {},
   "outputs": [],
   "source": [
    "##duplicate_location in Powered406 there are 868 rows. when looking at duplicate locations for Powered406 662 rows"
   ]
  },
  {
   "cell_type": "code",
   "execution_count": null,
   "id": "28ec5928",
   "metadata": {},
   "outputs": [],
   "source": [
    "grouped_multiple=may_scooters.groupby(['latitude', 'longitude'])['sumdid'].nunique()"
   ]
  },
  {
   "cell_type": "code",
   "execution_count": null,
   "id": "f7dc7b99",
   "metadata": {},
   "outputs": [],
   "source": [
    "grouped_multiple"
   ]
  },
  {
   "cell_type": "code",
   "execution_count": null,
   "id": "ddaa7921",
   "metadata": {},
   "outputs": [],
   "source": [
    "grouped_multiple.value_counts()\n",
    "\n",
    "##may_scooters=grouped_multiple.dropna(['latitude', 'longitude']==0.000000)\n",
    "##may_scooters"
   ]
  },
  {
   "cell_type": "code",
   "execution_count": 32,
   "id": "114598cf",
   "metadata": {},
   "outputs": [
    {
     "data": {
      "text/plain": [
       "65.90530320388221"
      ]
     },
     "execution_count": 32,
     "metadata": {},
     "output_type": "execute_result"
    }
   ],
   "source": [
    "may_scooters['chargelevel'].mean()"
   ]
  },
  {
   "cell_type": "code",
   "execution_count": 33,
   "id": "df8f0853",
   "metadata": {},
   "outputs": [
    {
     "data": {
      "text/html": [
       "<div>\n",
       "<style scoped>\n",
       "    .dataframe tbody tr th:only-of-type {\n",
       "        vertical-align: middle;\n",
       "    }\n",
       "\n",
       "    .dataframe tbody tr th {\n",
       "        vertical-align: top;\n",
       "    }\n",
       "\n",
       "    .dataframe thead th {\n",
       "        text-align: right;\n",
       "    }\n",
       "</style>\n",
       "<table border=\"1\" class=\"dataframe\">\n",
       "  <thead>\n",
       "    <tr style=\"text-align: right;\">\n",
       "      <th></th>\n",
       "      <th>sumdid</th>\n",
       "    </tr>\n",
       "  </thead>\n",
       "  <tbody>\n",
       "    <tr>\n",
       "      <th>count</th>\n",
       "      <td>20283299</td>\n",
       "    </tr>\n",
       "    <tr>\n",
       "      <th>unique</th>\n",
       "      <td>8301</td>\n",
       "    </tr>\n",
       "    <tr>\n",
       "      <th>top</th>\n",
       "      <td>PoweredIE7H5RIN474PE</td>\n",
       "    </tr>\n",
       "    <tr>\n",
       "      <th>freq</th>\n",
       "      <td>8921</td>\n",
       "    </tr>\n",
       "  </tbody>\n",
       "</table>\n",
       "</div>"
      ],
      "text/plain": [
       "                      sumdid\n",
       "count               20283299\n",
       "unique                  8301\n",
       "top     PoweredIE7H5RIN474PE\n",
       "freq                    8921"
      ]
     },
     "execution_count": 33,
     "metadata": {},
     "output_type": "execute_result"
    }
   ],
   "source": [
    "may_scooters.describe(include='O')"
   ]
  },
  {
   "cell_type": "code",
   "execution_count": 34,
   "id": "de729263",
   "metadata": {},
   "outputs": [
    {
     "data": {
      "text/html": [
       "<div>\n",
       "<style scoped>\n",
       "    .dataframe tbody tr th:only-of-type {\n",
       "        vertical-align: middle;\n",
       "    }\n",
       "\n",
       "    .dataframe tbody tr th {\n",
       "        vertical-align: top;\n",
       "    }\n",
       "\n",
       "    .dataframe thead th {\n",
       "        text-align: right;\n",
       "    }\n",
       "</style>\n",
       "<table border=\"1\" class=\"dataframe\">\n",
       "  <thead>\n",
       "    <tr style=\"text-align: right;\">\n",
       "      <th></th>\n",
       "      <th>pubdatetime</th>\n",
       "      <th>year</th>\n",
       "      <th>month</th>\n",
       "      <th>day</th>\n",
       "      <th>hour</th>\n",
       "      <th>sumdid</th>\n",
       "      <th>latitude</th>\n",
       "      <th>longitude</th>\n",
       "      <th>chargelevel</th>\n",
       "      <th>companyname</th>\n",
       "    </tr>\n",
       "  </thead>\n",
       "  <tbody>\n",
       "    <tr>\n",
       "      <th>1365</th>\n",
       "      <td>2019-05-01 00:04:56.910</td>\n",
       "      <td>2019</td>\n",
       "      <td>5</td>\n",
       "      <td>1</td>\n",
       "      <td>0</td>\n",
       "      <td>PoweredIE7H5RIN474PE</td>\n",
       "      <td>36.150001</td>\n",
       "      <td>-86.761955</td>\n",
       "      <td>91.0</td>\n",
       "      <td>3</td>\n",
       "    </tr>\n",
       "    <tr>\n",
       "      <th>3607</th>\n",
       "      <td>2019-05-01 00:09:56.970</td>\n",
       "      <td>2019</td>\n",
       "      <td>5</td>\n",
       "      <td>1</td>\n",
       "      <td>0</td>\n",
       "      <td>PoweredIE7H5RIN474PE</td>\n",
       "      <td>36.150001</td>\n",
       "      <td>-86.761955</td>\n",
       "      <td>91.0</td>\n",
       "      <td>3</td>\n",
       "    </tr>\n",
       "    <tr>\n",
       "      <th>5783</th>\n",
       "      <td>2019-05-01 00:14:58.037</td>\n",
       "      <td>2019</td>\n",
       "      <td>5</td>\n",
       "      <td>1</td>\n",
       "      <td>0</td>\n",
       "      <td>PoweredIE7H5RIN474PE</td>\n",
       "      <td>36.150001</td>\n",
       "      <td>-86.761955</td>\n",
       "      <td>91.0</td>\n",
       "      <td>3</td>\n",
       "    </tr>\n",
       "    <tr>\n",
       "      <th>7982</th>\n",
       "      <td>2019-05-01 00:19:57.383</td>\n",
       "      <td>2019</td>\n",
       "      <td>5</td>\n",
       "      <td>1</td>\n",
       "      <td>0</td>\n",
       "      <td>PoweredIE7H5RIN474PE</td>\n",
       "      <td>36.149929</td>\n",
       "      <td>-86.761890</td>\n",
       "      <td>91.0</td>\n",
       "      <td>3</td>\n",
       "    </tr>\n",
       "    <tr>\n",
       "      <th>10158</th>\n",
       "      <td>2019-05-01 00:24:57.743</td>\n",
       "      <td>2019</td>\n",
       "      <td>5</td>\n",
       "      <td>1</td>\n",
       "      <td>0</td>\n",
       "      <td>PoweredIE7H5RIN474PE</td>\n",
       "      <td>36.149929</td>\n",
       "      <td>-86.761890</td>\n",
       "      <td>91.0</td>\n",
       "      <td>3</td>\n",
       "    </tr>\n",
       "    <tr>\n",
       "      <th>...</th>\n",
       "      <td>...</td>\n",
       "      <td>...</td>\n",
       "      <td>...</td>\n",
       "      <td>...</td>\n",
       "      <td>...</td>\n",
       "      <td>...</td>\n",
       "      <td>...</td>\n",
       "      <td>...</td>\n",
       "      <td>...</td>\n",
       "      <td>...</td>\n",
       "    </tr>\n",
       "    <tr>\n",
       "      <th>20277855</th>\n",
       "      <td>2019-05-31 23:38:26.567</td>\n",
       "      <td>2019</td>\n",
       "      <td>5</td>\n",
       "      <td>31</td>\n",
       "      <td>23</td>\n",
       "      <td>PoweredIE7H5RIN474PE</td>\n",
       "      <td>36.150014</td>\n",
       "      <td>-86.761922</td>\n",
       "      <td>5.0</td>\n",
       "      <td>3</td>\n",
       "    </tr>\n",
       "    <tr>\n",
       "      <th>20281419</th>\n",
       "      <td>2019-05-31 23:43:26.623</td>\n",
       "      <td>2019</td>\n",
       "      <td>5</td>\n",
       "      <td>31</td>\n",
       "      <td>23</td>\n",
       "      <td>PoweredIE7H5RIN474PE</td>\n",
       "      <td>36.150014</td>\n",
       "      <td>-86.761922</td>\n",
       "      <td>5.0</td>\n",
       "      <td>3</td>\n",
       "    </tr>\n",
       "    <tr>\n",
       "      <th>20284877</th>\n",
       "      <td>2019-05-31 23:48:26.857</td>\n",
       "      <td>2019</td>\n",
       "      <td>5</td>\n",
       "      <td>31</td>\n",
       "      <td>23</td>\n",
       "      <td>PoweredIE7H5RIN474PE</td>\n",
       "      <td>36.150009</td>\n",
       "      <td>-86.761919</td>\n",
       "      <td>5.0</td>\n",
       "      <td>3</td>\n",
       "    </tr>\n",
       "    <tr>\n",
       "      <th>20288303</th>\n",
       "      <td>2019-05-31 23:53:27.153</td>\n",
       "      <td>2019</td>\n",
       "      <td>5</td>\n",
       "      <td>31</td>\n",
       "      <td>23</td>\n",
       "      <td>PoweredIE7H5RIN474PE</td>\n",
       "      <td>36.150009</td>\n",
       "      <td>-86.761919</td>\n",
       "      <td>5.0</td>\n",
       "      <td>3</td>\n",
       "    </tr>\n",
       "    <tr>\n",
       "      <th>20291764</th>\n",
       "      <td>2019-05-31 23:58:27.207</td>\n",
       "      <td>2019</td>\n",
       "      <td>5</td>\n",
       "      <td>31</td>\n",
       "      <td>23</td>\n",
       "      <td>PoweredIE7H5RIN474PE</td>\n",
       "      <td>36.150009</td>\n",
       "      <td>-86.761919</td>\n",
       "      <td>5.0</td>\n",
       "      <td>3</td>\n",
       "    </tr>\n",
       "  </tbody>\n",
       "</table>\n",
       "<p>8921 rows × 10 columns</p>\n",
       "</div>"
      ],
      "text/plain": [
       "                     pubdatetime  year  month  day  hour  \\\n",
       "1365     2019-05-01 00:04:56.910  2019      5    1     0   \n",
       "3607     2019-05-01 00:09:56.970  2019      5    1     0   \n",
       "5783     2019-05-01 00:14:58.037  2019      5    1     0   \n",
       "7982     2019-05-01 00:19:57.383  2019      5    1     0   \n",
       "10158    2019-05-01 00:24:57.743  2019      5    1     0   \n",
       "...                          ...   ...    ...  ...   ...   \n",
       "20277855 2019-05-31 23:38:26.567  2019      5   31    23   \n",
       "20281419 2019-05-31 23:43:26.623  2019      5   31    23   \n",
       "20284877 2019-05-31 23:48:26.857  2019      5   31    23   \n",
       "20288303 2019-05-31 23:53:27.153  2019      5   31    23   \n",
       "20291764 2019-05-31 23:58:27.207  2019      5   31    23   \n",
       "\n",
       "                        sumdid   latitude  longitude  chargelevel  companyname  \n",
       "1365      PoweredIE7H5RIN474PE  36.150001 -86.761955         91.0            3  \n",
       "3607      PoweredIE7H5RIN474PE  36.150001 -86.761955         91.0            3  \n",
       "5783      PoweredIE7H5RIN474PE  36.150001 -86.761955         91.0            3  \n",
       "7982      PoweredIE7H5RIN474PE  36.149929 -86.761890         91.0            3  \n",
       "10158     PoweredIE7H5RIN474PE  36.149929 -86.761890         91.0            3  \n",
       "...                        ...        ...        ...          ...          ...  \n",
       "20277855  PoweredIE7H5RIN474PE  36.150014 -86.761922          5.0            3  \n",
       "20281419  PoweredIE7H5RIN474PE  36.150014 -86.761922          5.0            3  \n",
       "20284877  PoweredIE7H5RIN474PE  36.150009 -86.761919          5.0            3  \n",
       "20288303  PoweredIE7H5RIN474PE  36.150009 -86.761919          5.0            3  \n",
       "20291764  PoweredIE7H5RIN474PE  36.150009 -86.761919          5.0            3  \n",
       "\n",
       "[8921 rows x 10 columns]"
      ]
     },
     "execution_count": 34,
     "metadata": {},
     "output_type": "execute_result"
    }
   ],
   "source": [
    "top=may_scooters.loc[(may_scooters['sumdid'] == 'PoweredIE7H5RIN474PE')]\n",
    "##top=may_scooters['sumdid']=='PoweredIE7H5RIN474PE'\n",
    "top"
   ]
  },
  {
   "cell_type": "code",
   "execution_count": 35,
   "id": "704ef6e9",
   "metadata": {},
   "outputs": [
    {
     "data": {
      "text/plain": [
       "latitude\n",
       "0.000000      0.000000\n",
       "32.789116   -79.940267\n",
       "32.828031   -79.954386\n",
       "32.859748   -79.992988\n",
       "33.315812   -80.544998\n",
       "               ...    \n",
       "36.616620   -87.284660\n",
       "36.616640   -87.284570\n",
       "36.616650   -87.284660\n",
       "36.616670   -87.284640\n",
       "36.616700   -87.284640\n",
       "Name: longitude, Length: 105691, dtype: float64"
      ]
     },
     "execution_count": 35,
     "metadata": {},
     "output_type": "execute_result"
    }
   ],
   "source": [
    "may_location=may_scooters.groupby(['latitude'])['longitude'].max()\n",
    "may_location"
   ]
  },
  {
   "cell_type": "code",
   "execution_count": 39,
   "id": "cdf1aed0",
   "metadata": {},
   "outputs": [
    {
     "data": {
      "text/plain": [
       "72.0"
      ]
     },
     "execution_count": 39,
     "metadata": {},
     "output_type": "execute_result"
    }
   ],
   "source": [
    "may_scooters['chargelevel'].median()"
   ]
  },
  {
   "cell_type": "code",
   "execution_count": 41,
   "id": "9998e3e0",
   "metadata": {},
   "outputs": [
    {
     "name": "stderr",
     "output_type": "stream",
     "text": [
      "C:\\Users\\jojuk\\AppData\\Local\\Temp/ipykernel_12820/1745667394.py:1: FutureWarning: DataFrame.mean and DataFrame.median with numeric_only=None will include datetime64 and datetime64tz columns in a future version.\n",
      "  may_scooters.median()\n",
      "C:\\Users\\jojuk\\AppData\\Local\\Temp/ipykernel_12820/1745667394.py:1: FutureWarning: Dropping of nuisance columns in DataFrame reductions (with 'numeric_only=None') is deprecated; in a future version this will raise TypeError.  Select only valid columns before calling the reduction.\n",
      "  may_scooters.median()\n"
     ]
    },
    {
     "data": {
      "text/plain": [
       "year           2019.000000\n",
       "month             5.000000\n",
       "day              20.000000\n",
       "hour             13.000000\n",
       "latitude         36.154105\n",
       "longitude       -86.780900\n",
       "chargelevel      72.000000\n",
       "companyname       3.000000\n",
       "dtype: float64"
      ]
     },
     "execution_count": 41,
     "metadata": {},
     "output_type": "execute_result"
    }
   ],
   "source": [
    "may_scooters.median()"
   ]
  },
  {
   "cell_type": "code",
   "execution_count": 43,
   "id": "e6aa5bce",
   "metadata": {},
   "outputs": [
    {
     "data": {
      "text/html": [
       "<div>\n",
       "<style scoped>\n",
       "    .dataframe tbody tr th:only-of-type {\n",
       "        vertical-align: middle;\n",
       "    }\n",
       "\n",
       "    .dataframe tbody tr th {\n",
       "        vertical-align: top;\n",
       "    }\n",
       "\n",
       "    .dataframe thead th {\n",
       "        text-align: right;\n",
       "    }\n",
       "</style>\n",
       "<table border=\"1\" class=\"dataframe\">\n",
       "  <thead>\n",
       "    <tr style=\"text-align: right;\">\n",
       "      <th></th>\n",
       "      <th>year</th>\n",
       "      <th>month</th>\n",
       "      <th>day</th>\n",
       "      <th>hour</th>\n",
       "      <th>latitude</th>\n",
       "      <th>longitude</th>\n",
       "      <th>chargelevel</th>\n",
       "      <th>companyname</th>\n",
       "    </tr>\n",
       "  </thead>\n",
       "  <tbody>\n",
       "    <tr>\n",
       "      <th>count</th>\n",
       "      <td>20283299.0</td>\n",
       "      <td>20283299.0</td>\n",
       "      <td>2.028330e+07</td>\n",
       "      <td>2.028330e+07</td>\n",
       "      <td>2.028330e+07</td>\n",
       "      <td>2.028330e+07</td>\n",
       "      <td>2.028330e+07</td>\n",
       "      <td>2.028330e+07</td>\n",
       "    </tr>\n",
       "    <tr>\n",
       "      <th>mean</th>\n",
       "      <td>2019.0</td>\n",
       "      <td>5.0</td>\n",
       "      <td>1.849900e+01</td>\n",
       "      <td>1.216913e+01</td>\n",
       "      <td>3.614047e+01</td>\n",
       "      <td>-8.675242e+01</td>\n",
       "      <td>6.590530e+01</td>\n",
       "      <td>2.442924e+00</td>\n",
       "    </tr>\n",
       "    <tr>\n",
       "      <th>std</th>\n",
       "      <td>0.0</td>\n",
       "      <td>0.0</td>\n",
       "      <td>9.027137e+00</td>\n",
       "      <td>7.082390e+00</td>\n",
       "      <td>6.193962e-01</td>\n",
       "      <td>1.486421e+00</td>\n",
       "      <td>3.041610e+01</td>\n",
       "      <td>1.776816e+00</td>\n",
       "    </tr>\n",
       "    <tr>\n",
       "      <th>min</th>\n",
       "      <td>2019.0</td>\n",
       "      <td>5.0</td>\n",
       "      <td>1.000000e+00</td>\n",
       "      <td>0.000000e+00</td>\n",
       "      <td>0.000000e+00</td>\n",
       "      <td>-8.728604e+01</td>\n",
       "      <td>0.000000e+00</td>\n",
       "      <td>0.000000e+00</td>\n",
       "    </tr>\n",
       "    <tr>\n",
       "      <th>25%</th>\n",
       "      <td>2019.0</td>\n",
       "      <td>5.0</td>\n",
       "      <td>1.100000e+01</td>\n",
       "      <td>6.000000e+00</td>\n",
       "      <td>3.614305e+01</td>\n",
       "      <td>-8.679266e+01</td>\n",
       "      <td>4.700000e+01</td>\n",
       "      <td>1.000000e+00</td>\n",
       "    </tr>\n",
       "    <tr>\n",
       "      <th>50%</th>\n",
       "      <td>2019.0</td>\n",
       "      <td>5.0</td>\n",
       "      <td>2.000000e+01</td>\n",
       "      <td>1.300000e+01</td>\n",
       "      <td>3.615411e+01</td>\n",
       "      <td>-8.678090e+01</td>\n",
       "      <td>7.200000e+01</td>\n",
       "      <td>3.000000e+00</td>\n",
       "    </tr>\n",
       "    <tr>\n",
       "      <th>75%</th>\n",
       "      <td>2019.0</td>\n",
       "      <td>5.0</td>\n",
       "      <td>2.600000e+01</td>\n",
       "      <td>1.800000e+01</td>\n",
       "      <td>3.616320e+01</td>\n",
       "      <td>-8.677170e+01</td>\n",
       "      <td>9.300000e+01</td>\n",
       "      <td>3.000000e+00</td>\n",
       "    </tr>\n",
       "    <tr>\n",
       "      <th>max</th>\n",
       "      <td>2019.0</td>\n",
       "      <td>5.0</td>\n",
       "      <td>3.100000e+01</td>\n",
       "      <td>2.300000e+01</td>\n",
       "      <td>3.661670e+01</td>\n",
       "      <td>0.000000e+00</td>\n",
       "      <td>1.000000e+02</td>\n",
       "      <td>6.000000e+00</td>\n",
       "    </tr>\n",
       "  </tbody>\n",
       "</table>\n",
       "</div>"
      ],
      "text/plain": [
       "             year       month           day          hour      latitude  \\\n",
       "count  20283299.0  20283299.0  2.028330e+07  2.028330e+07  2.028330e+07   \n",
       "mean       2019.0         5.0  1.849900e+01  1.216913e+01  3.614047e+01   \n",
       "std           0.0         0.0  9.027137e+00  7.082390e+00  6.193962e-01   \n",
       "min        2019.0         5.0  1.000000e+00  0.000000e+00  0.000000e+00   \n",
       "25%        2019.0         5.0  1.100000e+01  6.000000e+00  3.614305e+01   \n",
       "50%        2019.0         5.0  2.000000e+01  1.300000e+01  3.615411e+01   \n",
       "75%        2019.0         5.0  2.600000e+01  1.800000e+01  3.616320e+01   \n",
       "max        2019.0         5.0  3.100000e+01  2.300000e+01  3.661670e+01   \n",
       "\n",
       "          longitude   chargelevel   companyname  \n",
       "count  2.028330e+07  2.028330e+07  2.028330e+07  \n",
       "mean  -8.675242e+01  6.590530e+01  2.442924e+00  \n",
       "std    1.486421e+00  3.041610e+01  1.776816e+00  \n",
       "min   -8.728604e+01  0.000000e+00  0.000000e+00  \n",
       "25%   -8.679266e+01  4.700000e+01  1.000000e+00  \n",
       "50%   -8.678090e+01  7.200000e+01  3.000000e+00  \n",
       "75%   -8.677170e+01  9.300000e+01  3.000000e+00  \n",
       "max    0.000000e+00  1.000000e+02  6.000000e+00  "
      ]
     },
     "execution_count": 43,
     "metadata": {},
     "output_type": "execute_result"
    }
   ],
   "source": [
    "may_scooters.describe()"
   ]
  },
  {
   "cell_type": "code",
   "execution_count": 44,
   "id": "7546d419",
   "metadata": {},
   "outputs": [
    {
     "data": {
      "text/plain": [
       "20283299"
      ]
     },
     "execution_count": 44,
     "metadata": {},
     "output_type": "execute_result"
    }
   ],
   "source": [
    "may_scooters['chargelevel'].count()"
   ]
  },
  {
   "cell_type": "code",
   "execution_count": 45,
   "id": "78acb9f1",
   "metadata": {},
   "outputs": [
    {
     "data": {
      "text/plain": [
       "100.00    1.165699e-01\n",
       "0.00      5.054355e-02\n",
       "98.00     2.252410e-02\n",
       "99.00     2.057708e-02\n",
       "96.00     1.965632e-02\n",
       "              ...     \n",
       "13.35     4.930164e-08\n",
       "27.26     4.930164e-08\n",
       "21.15     4.930164e-08\n",
       "17.04     4.930164e-08\n",
       "58.90     4.930164e-08\n",
       "Name: chargelevel, Length: 885, dtype: float64"
      ]
     },
     "execution_count": 45,
     "metadata": {},
     "output_type": "execute_result"
    }
   ],
   "source": [
    "may_scooters['chargelevel'].value_counts(normalize=True)"
   ]
  },
  {
   "cell_type": "code",
   "execution_count": 72,
   "id": "990f300c",
   "metadata": {},
   "outputs": [
    {
     "data": {
      "text/plain": [
       "<pandas.core.groupby.generic.DataFrameGroupBy object at 0x000001A59DB5D5B0>"
      ]
     },
     "execution_count": 72,
     "metadata": {},
     "output_type": "execute_result"
    }
   ],
   "source": [
    "may_scooters.groupby(['companyname'])"
   ]
  },
  {
   "cell_type": "code",
   "execution_count": 73,
   "id": "8a182d5b",
   "metadata": {},
   "outputs": [],
   "source": [
    "company_grp=may_scooters.groupby(['companyname'])"
   ]
  },
  {
   "cell_type": "code",
   "execution_count": 74,
   "id": "25c67cfa",
   "metadata": {},
   "outputs": [
    {
     "data": {
      "text/html": [
       "<div>\n",
       "<style scoped>\n",
       "    .dataframe tbody tr th:only-of-type {\n",
       "        vertical-align: middle;\n",
       "    }\n",
       "\n",
       "    .dataframe tbody tr th {\n",
       "        vertical-align: top;\n",
       "    }\n",
       "\n",
       "    .dataframe thead th {\n",
       "        text-align: right;\n",
       "    }\n",
       "</style>\n",
       "<table border=\"1\" class=\"dataframe\">\n",
       "  <thead>\n",
       "    <tr style=\"text-align: right;\">\n",
       "      <th></th>\n",
       "      <th>pubdatetime</th>\n",
       "      <th>year</th>\n",
       "      <th>month</th>\n",
       "      <th>day</th>\n",
       "      <th>hour</th>\n",
       "      <th>sumdid</th>\n",
       "      <th>latitude</th>\n",
       "      <th>longitude</th>\n",
       "      <th>chargelevel</th>\n",
       "      <th>companyname</th>\n",
       "    </tr>\n",
       "  </thead>\n",
       "  <tbody>\n",
       "    <tr>\n",
       "      <th>1225</th>\n",
       "      <td>2019-05-01 00:04:56.883</td>\n",
       "      <td>2019</td>\n",
       "      <td>5</td>\n",
       "      <td>1</td>\n",
       "      <td>0</td>\n",
       "      <td>PoweredGEHJ5GBPV7NJ5</td>\n",
       "      <td>36.179623</td>\n",
       "      <td>-86.792091</td>\n",
       "      <td>29.0</td>\n",
       "      <td>3</td>\n",
       "    </tr>\n",
       "    <tr>\n",
       "      <th>1226</th>\n",
       "      <td>2019-05-01 00:04:56.883</td>\n",
       "      <td>2019</td>\n",
       "      <td>5</td>\n",
       "      <td>1</td>\n",
       "      <td>0</td>\n",
       "      <td>PoweredRZTJOC7AACAQV</td>\n",
       "      <td>36.179466</td>\n",
       "      <td>-86.838192</td>\n",
       "      <td>100.0</td>\n",
       "      <td>3</td>\n",
       "    </tr>\n",
       "    <tr>\n",
       "      <th>1227</th>\n",
       "      <td>2019-05-01 00:04:56.883</td>\n",
       "      <td>2019</td>\n",
       "      <td>5</td>\n",
       "      <td>1</td>\n",
       "      <td>0</td>\n",
       "      <td>PoweredKF47YZWLD3URV</td>\n",
       "      <td>36.190752</td>\n",
       "      <td>-86.755384</td>\n",
       "      <td>71.0</td>\n",
       "      <td>3</td>\n",
       "    </tr>\n",
       "    <tr>\n",
       "      <th>1228</th>\n",
       "      <td>2019-05-01 00:04:56.883</td>\n",
       "      <td>2019</td>\n",
       "      <td>5</td>\n",
       "      <td>1</td>\n",
       "      <td>0</td>\n",
       "      <td>PoweredZUQ6GPER5N4CR</td>\n",
       "      <td>36.227547</td>\n",
       "      <td>-86.733978</td>\n",
       "      <td>96.0</td>\n",
       "      <td>3</td>\n",
       "    </tr>\n",
       "    <tr>\n",
       "      <th>1229</th>\n",
       "      <td>2019-05-01 00:04:56.883</td>\n",
       "      <td>2019</td>\n",
       "      <td>5</td>\n",
       "      <td>1</td>\n",
       "      <td>0</td>\n",
       "      <td>Powered2ZA4GQSKRFQEO</td>\n",
       "      <td>36.179418</td>\n",
       "      <td>-86.798616</td>\n",
       "      <td>65.0</td>\n",
       "      <td>3</td>\n",
       "    </tr>\n",
       "    <tr>\n",
       "      <th>...</th>\n",
       "      <td>...</td>\n",
       "      <td>...</td>\n",
       "      <td>...</td>\n",
       "      <td>...</td>\n",
       "      <td>...</td>\n",
       "      <td>...</td>\n",
       "      <td>...</td>\n",
       "      <td>...</td>\n",
       "      <td>...</td>\n",
       "      <td>...</td>\n",
       "    </tr>\n",
       "    <tr>\n",
       "      <th>20292492</th>\n",
       "      <td>2019-05-31 23:58:27.243</td>\n",
       "      <td>2019</td>\n",
       "      <td>5</td>\n",
       "      <td>31</td>\n",
       "      <td>23</td>\n",
       "      <td>PoweredQOW23KD6JPIJZ</td>\n",
       "      <td>36.108510</td>\n",
       "      <td>-86.764921</td>\n",
       "      <td>58.0</td>\n",
       "      <td>3</td>\n",
       "    </tr>\n",
       "    <tr>\n",
       "      <th>20292493</th>\n",
       "      <td>2019-05-31 23:58:27.243</td>\n",
       "      <td>2019</td>\n",
       "      <td>5</td>\n",
       "      <td>31</td>\n",
       "      <td>23</td>\n",
       "      <td>PoweredHICJ5XYHBAW5I</td>\n",
       "      <td>36.122375</td>\n",
       "      <td>-86.775722</td>\n",
       "      <td>60.0</td>\n",
       "      <td>3</td>\n",
       "    </tr>\n",
       "    <tr>\n",
       "      <th>20292494</th>\n",
       "      <td>2019-05-31 23:58:27.243</td>\n",
       "      <td>2019</td>\n",
       "      <td>5</td>\n",
       "      <td>31</td>\n",
       "      <td>23</td>\n",
       "      <td>PoweredXZH7USFBU76DX</td>\n",
       "      <td>36.121613</td>\n",
       "      <td>-86.775351</td>\n",
       "      <td>94.0</td>\n",
       "      <td>3</td>\n",
       "    </tr>\n",
       "    <tr>\n",
       "      <th>20292495</th>\n",
       "      <td>2019-05-31 23:58:27.243</td>\n",
       "      <td>2019</td>\n",
       "      <td>5</td>\n",
       "      <td>31</td>\n",
       "      <td>23</td>\n",
       "      <td>PoweredSZAWEG5FWAI6V</td>\n",
       "      <td>36.120440</td>\n",
       "      <td>-86.777199</td>\n",
       "      <td>56.0</td>\n",
       "      <td>3</td>\n",
       "    </tr>\n",
       "    <tr>\n",
       "      <th>20292496</th>\n",
       "      <td>2019-05-31 23:58:27.243</td>\n",
       "      <td>2019</td>\n",
       "      <td>5</td>\n",
       "      <td>31</td>\n",
       "      <td>23</td>\n",
       "      <td>PoweredU6FP6ZXZ6JRTC</td>\n",
       "      <td>36.121584</td>\n",
       "      <td>-86.775493</td>\n",
       "      <td>94.0</td>\n",
       "      <td>3</td>\n",
       "    </tr>\n",
       "  </tbody>\n",
       "</table>\n",
       "<p>7111655 rows × 10 columns</p>\n",
       "</div>"
      ],
      "text/plain": [
       "                     pubdatetime  year  month  day  hour  \\\n",
       "1225     2019-05-01 00:04:56.883  2019      5    1     0   \n",
       "1226     2019-05-01 00:04:56.883  2019      5    1     0   \n",
       "1227     2019-05-01 00:04:56.883  2019      5    1     0   \n",
       "1228     2019-05-01 00:04:56.883  2019      5    1     0   \n",
       "1229     2019-05-01 00:04:56.883  2019      5    1     0   \n",
       "...                          ...   ...    ...  ...   ...   \n",
       "20292492 2019-05-31 23:58:27.243  2019      5   31    23   \n",
       "20292493 2019-05-31 23:58:27.243  2019      5   31    23   \n",
       "20292494 2019-05-31 23:58:27.243  2019      5   31    23   \n",
       "20292495 2019-05-31 23:58:27.243  2019      5   31    23   \n",
       "20292496 2019-05-31 23:58:27.243  2019      5   31    23   \n",
       "\n",
       "                        sumdid   latitude  longitude  chargelevel  companyname  \n",
       "1225      PoweredGEHJ5GBPV7NJ5  36.179623 -86.792091         29.0            3  \n",
       "1226      PoweredRZTJOC7AACAQV  36.179466 -86.838192        100.0            3  \n",
       "1227      PoweredKF47YZWLD3URV  36.190752 -86.755384         71.0            3  \n",
       "1228      PoweredZUQ6GPER5N4CR  36.227547 -86.733978         96.0            3  \n",
       "1229      Powered2ZA4GQSKRFQEO  36.179418 -86.798616         65.0            3  \n",
       "...                        ...        ...        ...          ...          ...  \n",
       "20292492  PoweredQOW23KD6JPIJZ  36.108510 -86.764921         58.0            3  \n",
       "20292493  PoweredHICJ5XYHBAW5I  36.122375 -86.775722         60.0            3  \n",
       "20292494  PoweredXZH7USFBU76DX  36.121613 -86.775351         94.0            3  \n",
       "20292495  PoweredSZAWEG5FWAI6V  36.120440 -86.777199         56.0            3  \n",
       "20292496  PoweredU6FP6ZXZ6JRTC  36.121584 -86.775493         94.0            3  \n",
       "\n",
       "[7111655 rows x 10 columns]"
      ]
     },
     "execution_count": 74,
     "metadata": {},
     "output_type": "execute_result"
    }
   ],
   "source": [
    "company_grp.get_group(3)"
   ]
  },
  {
   "cell_type": "code",
   "execution_count": 56,
   "id": "d742ec6f",
   "metadata": {},
   "outputs": [
    {
     "data": {
      "text/html": [
       "<div>\n",
       "<style scoped>\n",
       "    .dataframe tbody tr th:only-of-type {\n",
       "        vertical-align: middle;\n",
       "    }\n",
       "\n",
       "    .dataframe tbody tr th {\n",
       "        vertical-align: top;\n",
       "    }\n",
       "\n",
       "    .dataframe thead th {\n",
       "        text-align: right;\n",
       "    }\n",
       "</style>\n",
       "<table border=\"1\" class=\"dataframe\">\n",
       "  <thead>\n",
       "    <tr style=\"text-align: right;\">\n",
       "      <th></th>\n",
       "      <th>pubdatetime</th>\n",
       "      <th>year</th>\n",
       "      <th>month</th>\n",
       "      <th>day</th>\n",
       "      <th>hour</th>\n",
       "      <th>sumdid</th>\n",
       "      <th>latitude</th>\n",
       "      <th>longitude</th>\n",
       "      <th>chargelevel</th>\n",
       "      <th>companyname</th>\n",
       "    </tr>\n",
       "  </thead>\n",
       "  <tbody>\n",
       "    <tr>\n",
       "      <th>1225</th>\n",
       "      <td>2019-05-01 00:04:56.883</td>\n",
       "      <td>2019</td>\n",
       "      <td>5</td>\n",
       "      <td>1</td>\n",
       "      <td>0</td>\n",
       "      <td>PoweredGEHJ5GBPV7NJ5</td>\n",
       "      <td>36.179623</td>\n",
       "      <td>-86.792091</td>\n",
       "      <td>29.0</td>\n",
       "      <td>3</td>\n",
       "    </tr>\n",
       "    <tr>\n",
       "      <th>1226</th>\n",
       "      <td>2019-05-01 00:04:56.883</td>\n",
       "      <td>2019</td>\n",
       "      <td>5</td>\n",
       "      <td>1</td>\n",
       "      <td>0</td>\n",
       "      <td>PoweredRZTJOC7AACAQV</td>\n",
       "      <td>36.179466</td>\n",
       "      <td>-86.838192</td>\n",
       "      <td>100.0</td>\n",
       "      <td>3</td>\n",
       "    </tr>\n",
       "    <tr>\n",
       "      <th>1227</th>\n",
       "      <td>2019-05-01 00:04:56.883</td>\n",
       "      <td>2019</td>\n",
       "      <td>5</td>\n",
       "      <td>1</td>\n",
       "      <td>0</td>\n",
       "      <td>PoweredKF47YZWLD3URV</td>\n",
       "      <td>36.190752</td>\n",
       "      <td>-86.755384</td>\n",
       "      <td>71.0</td>\n",
       "      <td>3</td>\n",
       "    </tr>\n",
       "    <tr>\n",
       "      <th>1228</th>\n",
       "      <td>2019-05-01 00:04:56.883</td>\n",
       "      <td>2019</td>\n",
       "      <td>5</td>\n",
       "      <td>1</td>\n",
       "      <td>0</td>\n",
       "      <td>PoweredZUQ6GPER5N4CR</td>\n",
       "      <td>36.227547</td>\n",
       "      <td>-86.733978</td>\n",
       "      <td>96.0</td>\n",
       "      <td>3</td>\n",
       "    </tr>\n",
       "    <tr>\n",
       "      <th>1229</th>\n",
       "      <td>2019-05-01 00:04:56.883</td>\n",
       "      <td>2019</td>\n",
       "      <td>5</td>\n",
       "      <td>1</td>\n",
       "      <td>0</td>\n",
       "      <td>Powered2ZA4GQSKRFQEO</td>\n",
       "      <td>36.179418</td>\n",
       "      <td>-86.798616</td>\n",
       "      <td>65.0</td>\n",
       "      <td>3</td>\n",
       "    </tr>\n",
       "    <tr>\n",
       "      <th>...</th>\n",
       "      <td>...</td>\n",
       "      <td>...</td>\n",
       "      <td>...</td>\n",
       "      <td>...</td>\n",
       "      <td>...</td>\n",
       "      <td>...</td>\n",
       "      <td>...</td>\n",
       "      <td>...</td>\n",
       "      <td>...</td>\n",
       "      <td>...</td>\n",
       "    </tr>\n",
       "    <tr>\n",
       "      <th>20292492</th>\n",
       "      <td>2019-05-31 23:58:27.243</td>\n",
       "      <td>2019</td>\n",
       "      <td>5</td>\n",
       "      <td>31</td>\n",
       "      <td>23</td>\n",
       "      <td>PoweredQOW23KD6JPIJZ</td>\n",
       "      <td>36.108510</td>\n",
       "      <td>-86.764921</td>\n",
       "      <td>58.0</td>\n",
       "      <td>3</td>\n",
       "    </tr>\n",
       "    <tr>\n",
       "      <th>20292493</th>\n",
       "      <td>2019-05-31 23:58:27.243</td>\n",
       "      <td>2019</td>\n",
       "      <td>5</td>\n",
       "      <td>31</td>\n",
       "      <td>23</td>\n",
       "      <td>PoweredHICJ5XYHBAW5I</td>\n",
       "      <td>36.122375</td>\n",
       "      <td>-86.775722</td>\n",
       "      <td>60.0</td>\n",
       "      <td>3</td>\n",
       "    </tr>\n",
       "    <tr>\n",
       "      <th>20292494</th>\n",
       "      <td>2019-05-31 23:58:27.243</td>\n",
       "      <td>2019</td>\n",
       "      <td>5</td>\n",
       "      <td>31</td>\n",
       "      <td>23</td>\n",
       "      <td>PoweredXZH7USFBU76DX</td>\n",
       "      <td>36.121613</td>\n",
       "      <td>-86.775351</td>\n",
       "      <td>94.0</td>\n",
       "      <td>3</td>\n",
       "    </tr>\n",
       "    <tr>\n",
       "      <th>20292495</th>\n",
       "      <td>2019-05-31 23:58:27.243</td>\n",
       "      <td>2019</td>\n",
       "      <td>5</td>\n",
       "      <td>31</td>\n",
       "      <td>23</td>\n",
       "      <td>PoweredSZAWEG5FWAI6V</td>\n",
       "      <td>36.120440</td>\n",
       "      <td>-86.777199</td>\n",
       "      <td>56.0</td>\n",
       "      <td>3</td>\n",
       "    </tr>\n",
       "    <tr>\n",
       "      <th>20292496</th>\n",
       "      <td>2019-05-31 23:58:27.243</td>\n",
       "      <td>2019</td>\n",
       "      <td>5</td>\n",
       "      <td>31</td>\n",
       "      <td>23</td>\n",
       "      <td>PoweredU6FP6ZXZ6JRTC</td>\n",
       "      <td>36.121584</td>\n",
       "      <td>-86.775493</td>\n",
       "      <td>94.0</td>\n",
       "      <td>3</td>\n",
       "    </tr>\n",
       "  </tbody>\n",
       "</table>\n",
       "<p>7111655 rows × 10 columns</p>\n",
       "</div>"
      ],
      "text/plain": [
       "                     pubdatetime  year  month  day  hour  \\\n",
       "1225     2019-05-01 00:04:56.883  2019      5    1     0   \n",
       "1226     2019-05-01 00:04:56.883  2019      5    1     0   \n",
       "1227     2019-05-01 00:04:56.883  2019      5    1     0   \n",
       "1228     2019-05-01 00:04:56.883  2019      5    1     0   \n",
       "1229     2019-05-01 00:04:56.883  2019      5    1     0   \n",
       "...                          ...   ...    ...  ...   ...   \n",
       "20292492 2019-05-31 23:58:27.243  2019      5   31    23   \n",
       "20292493 2019-05-31 23:58:27.243  2019      5   31    23   \n",
       "20292494 2019-05-31 23:58:27.243  2019      5   31    23   \n",
       "20292495 2019-05-31 23:58:27.243  2019      5   31    23   \n",
       "20292496 2019-05-31 23:58:27.243  2019      5   31    23   \n",
       "\n",
       "                        sumdid   latitude  longitude  chargelevel  companyname  \n",
       "1225      PoweredGEHJ5GBPV7NJ5  36.179623 -86.792091         29.0            3  \n",
       "1226      PoweredRZTJOC7AACAQV  36.179466 -86.838192        100.0            3  \n",
       "1227      PoweredKF47YZWLD3URV  36.190752 -86.755384         71.0            3  \n",
       "1228      PoweredZUQ6GPER5N4CR  36.227547 -86.733978         96.0            3  \n",
       "1229      Powered2ZA4GQSKRFQEO  36.179418 -86.798616         65.0            3  \n",
       "...                        ...        ...        ...          ...          ...  \n",
       "20292492  PoweredQOW23KD6JPIJZ  36.108510 -86.764921         58.0            3  \n",
       "20292493  PoweredHICJ5XYHBAW5I  36.122375 -86.775722         60.0            3  \n",
       "20292494  PoweredXZH7USFBU76DX  36.121613 -86.775351         94.0            3  \n",
       "20292495  PoweredSZAWEG5FWAI6V  36.120440 -86.777199         56.0            3  \n",
       "20292496  PoweredU6FP6ZXZ6JRTC  36.121584 -86.775493         94.0            3  \n",
       "\n",
       "[7111655 rows x 10 columns]"
      ]
     },
     "execution_count": 56,
     "metadata": {},
     "output_type": "execute_result"
    }
   ],
   "source": [
    "filt= may_scooters['companyname'] == 3\n",
    "may_scooters.loc[filt]"
   ]
  },
  {
   "cell_type": "code",
   "execution_count": 59,
   "id": "af6abd91",
   "metadata": {},
   "outputs": [
    {
     "data": {
      "text/plain": [
       "PoweredIE7H5RIN474PE    8921\n",
       "PoweredUK65LOU3K5N7G    8748\n",
       "PoweredIOHG2G3XKATUL    8576\n",
       "PoweredJCKMQCAL2SSNJ    8521\n",
       "Powered4NYK5PWADVIAU    8439\n",
       "                        ... \n",
       "PoweredIF7UIJXEPYHJU       2\n",
       "PoweredCW742BQMJ3XHN       1\n",
       "PoweredGJYGPDVTFXRH7       1\n",
       "PoweredN4YI2A7RXZQLY       1\n",
       "PoweredCI6VKIK2KOFMC       1\n",
       "Name: sumdid, Length: 1631, dtype: int64"
      ]
     },
     "execution_count": 59,
     "metadata": {},
     "output_type": "execute_result"
    }
   ],
   "source": [
    "filt= may_scooters['companyname'] == 3\n",
    "may_scooters.loc[filt]['sumdid'].value_counts()"
   ]
  },
  {
   "cell_type": "code",
   "execution_count": 60,
   "id": "e6a708dd",
   "metadata": {},
   "outputs": [
    {
     "data": {
      "text/plain": [
       "companyname  sumdid                                      \n",
       "0            PoweredLSWU7                                    3758\n",
       "             Powered9KWG4                                    3624\n",
       "             PoweredUYV13                                    3446\n",
       "             Powered36EWB                                    3439\n",
       "             PoweredRT6M7                                    3425\n",
       "                                                             ... \n",
       "6            Powered-8056ec65-315b-450d-4c9e-afad1402b6cf     191\n",
       "             Powered-0d6ecd4b-30bf-936c-b722-96ab9f6bfb5b     181\n",
       "             Powered-1d664277-55a1-ec4a-f26e-662b56e0b441     160\n",
       "             Powered-0cf6fb25-5afa-09e8-004a-aefd4e320266     130\n",
       "             Powered-ff728c28-5239-68af-ddf3-6d1207b01196       5\n",
       "Name: sumdid, Length: 8301, dtype: int64"
      ]
     },
     "execution_count": 60,
     "metadata": {},
     "output_type": "execute_result"
    }
   ],
   "source": [
    "company_grp['sumdid'].value_counts()"
   ]
  },
  {
   "cell_type": "code",
   "execution_count": 62,
   "id": "bd043778",
   "metadata": {},
   "outputs": [
    {
     "data": {
      "text/plain": [
       "sumdid\n",
       "Powered-877e8356-8d3f-de39-499e-5e562c29bdf5    2299\n",
       "Powered-8a086751-8528-1a41-482c-c0b43c247859    2276\n",
       "Powered-2826ffdd-23e0-4499-1a6f-9a3ab7782cb1    2220\n",
       "Powered-bae6a12e-3ef8-0f7a-97e4-264f170da5ee    2197\n",
       "Powered-a28f9c36-f38c-e305-a35b-426a3aa5bd3f    2194\n",
       "                                                ... \n",
       "Powered-8056ec65-315b-450d-4c9e-afad1402b6cf     191\n",
       "Powered-0d6ecd4b-30bf-936c-b722-96ab9f6bfb5b     181\n",
       "Powered-1d664277-55a1-ec4a-f26e-662b56e0b441     160\n",
       "Powered-0cf6fb25-5afa-09e8-004a-aefd4e320266     130\n",
       "Powered-ff728c28-5239-68af-ddf3-6d1207b01196       5\n",
       "Name: sumdid, Length: 346, dtype: int64"
      ]
     },
     "execution_count": 62,
     "metadata": {},
     "output_type": "execute_result"
    }
   ],
   "source": [
    "company_grp['sumdid'].value_counts().loc[6]"
   ]
  },
  {
   "cell_type": "code",
   "execution_count": 70,
   "id": "9f0cfdbf",
   "metadata": {},
   "outputs": [
    {
     "data": {
      "text/plain": [
       "median    79.000000\n",
       "mean      75.929047\n",
       "Name: 0, dtype: float64"
      ]
     },
     "execution_count": 70,
     "metadata": {},
     "output_type": "execute_result"
    }
   ],
   "source": [
    "company_grp['chargelevel'].agg(['median', 'mean']).loc[0]"
   ]
  },
  {
   "cell_type": "code",
   "execution_count": 71,
   "id": "1c9505b8",
   "metadata": {},
   "outputs": [
    {
     "ename": "ValueError",
     "evalue": "('Lengths must match to compare', (20283299,), (1,))",
     "output_type": "error",
     "traceback": [
      "\u001b[1;31m---------------------------------------------------------------------------\u001b[0m",
      "\u001b[1;31mValueError\u001b[0m                                Traceback (most recent call last)",
      "\u001b[1;32m~\\AppData\\Local\\Temp/ipykernel_12820/1737254306.py\u001b[0m in \u001b[0;36m<module>\u001b[1;34m\u001b[0m\n\u001b[1;32m----> 1\u001b[1;33m \u001b[0mfilt\u001b[0m\u001b[1;33m=\u001b[0m \u001b[0mmay_scooters\u001b[0m\u001b[1;33m[\u001b[0m\u001b[1;34m'sumdid'\u001b[0m\u001b[1;33m]\u001b[0m \u001b[1;33m==\u001b[0m \u001b[1;33m[\u001b[0m\u001b[1;34m'PoweredLSWU7'\u001b[0m\u001b[1;33m]\u001b[0m\u001b[1;33m\u001b[0m\u001b[1;33m\u001b[0m\u001b[0m\n\u001b[0m\u001b[0;32m      2\u001b[0m \u001b[0mmay_scooters\u001b[0m\u001b[1;33m.\u001b[0m\u001b[0mloc\u001b[0m\u001b[1;33m[\u001b[0m\u001b[0mfilt\u001b[0m\u001b[1;33m]\u001b[0m\u001b[1;33m[\u001b[0m\u001b[1;34m'companyname'\u001b[0m\u001b[1;33m]\u001b[0m\u001b[1;33m.\u001b[0m\u001b[0mvalue_counts\u001b[0m\u001b[1;33m(\u001b[0m\u001b[1;33m)\u001b[0m\u001b[1;33m\u001b[0m\u001b[1;33m\u001b[0m\u001b[0m\n",
      "\u001b[1;32m~\\Anaconda3\\envs\\geospatial\\lib\\site-packages\\pandas\\core\\ops\\common.py\u001b[0m in \u001b[0;36mnew_method\u001b[1;34m(self, other)\u001b[0m\n\u001b[0;32m     67\u001b[0m         \u001b[0mother\u001b[0m \u001b[1;33m=\u001b[0m \u001b[0mitem_from_zerodim\u001b[0m\u001b[1;33m(\u001b[0m\u001b[0mother\u001b[0m\u001b[1;33m)\u001b[0m\u001b[1;33m\u001b[0m\u001b[1;33m\u001b[0m\u001b[0m\n\u001b[0;32m     68\u001b[0m \u001b[1;33m\u001b[0m\u001b[0m\n\u001b[1;32m---> 69\u001b[1;33m         \u001b[1;32mreturn\u001b[0m \u001b[0mmethod\u001b[0m\u001b[1;33m(\u001b[0m\u001b[0mself\u001b[0m\u001b[1;33m,\u001b[0m \u001b[0mother\u001b[0m\u001b[1;33m)\u001b[0m\u001b[1;33m\u001b[0m\u001b[1;33m\u001b[0m\u001b[0m\n\u001b[0m\u001b[0;32m     70\u001b[0m \u001b[1;33m\u001b[0m\u001b[0m\n\u001b[0;32m     71\u001b[0m     \u001b[1;32mreturn\u001b[0m \u001b[0mnew_method\u001b[0m\u001b[1;33m\u001b[0m\u001b[1;33m\u001b[0m\u001b[0m\n",
      "\u001b[1;32m~\\Anaconda3\\envs\\geospatial\\lib\\site-packages\\pandas\\core\\arraylike.py\u001b[0m in \u001b[0;36m__eq__\u001b[1;34m(self, other)\u001b[0m\n\u001b[0;32m     30\u001b[0m     \u001b[1;33m@\u001b[0m\u001b[0munpack_zerodim_and_defer\u001b[0m\u001b[1;33m(\u001b[0m\u001b[1;34m\"__eq__\"\u001b[0m\u001b[1;33m)\u001b[0m\u001b[1;33m\u001b[0m\u001b[1;33m\u001b[0m\u001b[0m\n\u001b[0;32m     31\u001b[0m     \u001b[1;32mdef\u001b[0m \u001b[0m__eq__\u001b[0m\u001b[1;33m(\u001b[0m\u001b[0mself\u001b[0m\u001b[1;33m,\u001b[0m \u001b[0mother\u001b[0m\u001b[1;33m)\u001b[0m\u001b[1;33m:\u001b[0m\u001b[1;33m\u001b[0m\u001b[1;33m\u001b[0m\u001b[0m\n\u001b[1;32m---> 32\u001b[1;33m         \u001b[1;32mreturn\u001b[0m \u001b[0mself\u001b[0m\u001b[1;33m.\u001b[0m\u001b[0m_cmp_method\u001b[0m\u001b[1;33m(\u001b[0m\u001b[0mother\u001b[0m\u001b[1;33m,\u001b[0m \u001b[0moperator\u001b[0m\u001b[1;33m.\u001b[0m\u001b[0meq\u001b[0m\u001b[1;33m)\u001b[0m\u001b[1;33m\u001b[0m\u001b[1;33m\u001b[0m\u001b[0m\n\u001b[0m\u001b[0;32m     33\u001b[0m \u001b[1;33m\u001b[0m\u001b[0m\n\u001b[0;32m     34\u001b[0m     \u001b[1;33m@\u001b[0m\u001b[0munpack_zerodim_and_defer\u001b[0m\u001b[1;33m(\u001b[0m\u001b[1;34m\"__ne__\"\u001b[0m\u001b[1;33m)\u001b[0m\u001b[1;33m\u001b[0m\u001b[1;33m\u001b[0m\u001b[0m\n",
      "\u001b[1;32m~\\Anaconda3\\envs\\geospatial\\lib\\site-packages\\pandas\\core\\series.py\u001b[0m in \u001b[0;36m_cmp_method\u001b[1;34m(self, other, op)\u001b[0m\n\u001b[0;32m   5500\u001b[0m \u001b[1;33m\u001b[0m\u001b[0m\n\u001b[0;32m   5501\u001b[0m         \u001b[1;32mwith\u001b[0m \u001b[0mnp\u001b[0m\u001b[1;33m.\u001b[0m\u001b[0merrstate\u001b[0m\u001b[1;33m(\u001b[0m\u001b[0mall\u001b[0m\u001b[1;33m=\u001b[0m\u001b[1;34m\"ignore\"\u001b[0m\u001b[1;33m)\u001b[0m\u001b[1;33m:\u001b[0m\u001b[1;33m\u001b[0m\u001b[1;33m\u001b[0m\u001b[0m\n\u001b[1;32m-> 5502\u001b[1;33m             \u001b[0mres_values\u001b[0m \u001b[1;33m=\u001b[0m \u001b[0mops\u001b[0m\u001b[1;33m.\u001b[0m\u001b[0mcomparison_op\u001b[0m\u001b[1;33m(\u001b[0m\u001b[0mlvalues\u001b[0m\u001b[1;33m,\u001b[0m \u001b[0mrvalues\u001b[0m\u001b[1;33m,\u001b[0m \u001b[0mop\u001b[0m\u001b[1;33m)\u001b[0m\u001b[1;33m\u001b[0m\u001b[1;33m\u001b[0m\u001b[0m\n\u001b[0m\u001b[0;32m   5503\u001b[0m \u001b[1;33m\u001b[0m\u001b[0m\n\u001b[0;32m   5504\u001b[0m         \u001b[1;32mreturn\u001b[0m \u001b[0mself\u001b[0m\u001b[1;33m.\u001b[0m\u001b[0m_construct_result\u001b[0m\u001b[1;33m(\u001b[0m\u001b[0mres_values\u001b[0m\u001b[1;33m,\u001b[0m \u001b[0mname\u001b[0m\u001b[1;33m=\u001b[0m\u001b[0mres_name\u001b[0m\u001b[1;33m)\u001b[0m\u001b[1;33m\u001b[0m\u001b[1;33m\u001b[0m\u001b[0m\n",
      "\u001b[1;32m~\\Anaconda3\\envs\\geospatial\\lib\\site-packages\\pandas\\core\\ops\\array_ops.py\u001b[0m in \u001b[0;36mcomparison_op\u001b[1;34m(left, right, op)\u001b[0m\n\u001b[0;32m    259\u001b[0m         \u001b[1;31m#  The ambiguous case is object-dtype.  See GH#27803\u001b[0m\u001b[1;33m\u001b[0m\u001b[1;33m\u001b[0m\u001b[1;33m\u001b[0m\u001b[0m\n\u001b[0;32m    260\u001b[0m         \u001b[1;32mif\u001b[0m \u001b[0mlen\u001b[0m\u001b[1;33m(\u001b[0m\u001b[0mlvalues\u001b[0m\u001b[1;33m)\u001b[0m \u001b[1;33m!=\u001b[0m \u001b[0mlen\u001b[0m\u001b[1;33m(\u001b[0m\u001b[0mrvalues\u001b[0m\u001b[1;33m)\u001b[0m\u001b[1;33m:\u001b[0m\u001b[1;33m\u001b[0m\u001b[1;33m\u001b[0m\u001b[0m\n\u001b[1;32m--> 261\u001b[1;33m             raise ValueError(\n\u001b[0m\u001b[0;32m    262\u001b[0m                 \u001b[1;34m\"Lengths must match to compare\"\u001b[0m\u001b[1;33m,\u001b[0m \u001b[0mlvalues\u001b[0m\u001b[1;33m.\u001b[0m\u001b[0mshape\u001b[0m\u001b[1;33m,\u001b[0m \u001b[0mrvalues\u001b[0m\u001b[1;33m.\u001b[0m\u001b[0mshape\u001b[0m\u001b[1;33m\u001b[0m\u001b[1;33m\u001b[0m\u001b[0m\n\u001b[0;32m    263\u001b[0m             )\n",
      "\u001b[1;31mValueError\u001b[0m: ('Lengths must match to compare', (20283299,), (1,))"
     ]
    }
   ],
   "source": [
    "filt= may_scooters['sumdid'] == ['PoweredLSWU7']\n",
    "may_scooters.loc[filt]['companyname'].value_counts()"
   ]
  },
  {
   "cell_type": "code",
   "execution_count": null,
   "id": "fb9d5796",
   "metadata": {},
   "outputs": [],
   "source": [
    "##country_grp['column'].str.contains('column').sum()"
   ]
  }
 ],
 "metadata": {
  "kernelspec": {
   "display_name": "Python 3 (ipykernel)",
   "language": "python",
   "name": "python3"
  },
  "language_info": {
   "codemirror_mode": {
    "name": "ipython",
    "version": 3
   },
   "file_extension": ".py",
   "mimetype": "text/x-python",
   "name": "python",
   "nbconvert_exporter": "python",
   "pygments_lexer": "ipython3",
   "version": "3.8.5"
  }
 },
 "nbformat": 4,
 "nbformat_minor": 5
}
