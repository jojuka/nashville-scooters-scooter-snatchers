{
 "cells": [
  {
   "cell_type": "code",
   "execution_count": 1,
   "id": "98391a41",
   "metadata": {},
   "outputs": [],
   "source": [
    "import folium\n",
    "from folium import IFrame\n",
    "import os\n",
    "import base64"
   ]
  },
  {
   "cell_type": "code",
   "execution_count": null,
   "id": "6858cba4",
   "metadata": {},
   "outputs": [],
   "source": [
    "m = folium.Map(location=[36.236907,-86.834683], zoom_start=17)\n",
    "walkData = os.path.join('walk.json')"
   ]
  },
  {
   "cell_type": "code",
   "execution_count": null,
   "id": "723caffe",
   "metadata": {},
   "outputs": [],
   "source": [
    "folium.GeoJson(walkData, name='walk').add_to(m)"
   ]
  },
  {
   "cell_type": "code",
   "execution_count": null,
   "id": "6c8a9742",
   "metadata": {},
   "outputs": [],
   "source": [
    "tooltip = \"Click to see picture\""
   ]
  },
  {
   "cell_type": "code",
   "execution_count": null,
   "id": "1db0a7f9",
   "metadata": {},
   "outputs": [],
   "source": [
    "picture1 = base64.b64encode(open('./images/1.png','rb').read()).decode()\n",
    "iframe1 = IFrame(html(picture1), width=600+20, height=400+20)\n",
    "popup1 = folium.Popup(iframe1, max_width=650)\n",
    "icon1 = folium.Icon(color=\"red\", icon=\"glyphicon-home\")\n",
    "marker1 = folium.Marker(location=[52.16218549247337,  7.4977827072143555], popup=popup1, tooltip=tooltip, icon=icon1).add_to(m)\n"
   ]
  },
  {
   "cell_type": "code",
   "execution_count": null,
   "id": "cc19eadf",
   "metadata": {},
   "outputs": [],
   "source": [
    "locationScooter1 = [36.158981,-86.778382 ]\n",
    "iconScooter1 = folium.features.CustomIcon('../data/MDHA_Promise_Zones/scooter.png', icon_size = (40, 40))\n",
    "popupScooter1 = '<strong>scooter</strong>'\n",
    "folium.Marker(location=locationScooter1, tooltip=tooltip, popup=popupScooter1, icon = iconScooter1).add_to(m)"
   ]
  },
  {
   "cell_type": "code",
   "execution_count": null,
   "id": "c974b1e9",
   "metadata": {},
   "outputs": [],
   "source": [
    "m.save('index.html')"
   ]
  },
  {
   "cell_type": "code",
   "execution_count": null,
   "id": "e840c20a",
   "metadata": {},
   "outputs": [],
   "source": []
  },
  {
   "cell_type": "code",
   "execution_count": null,
   "id": "d7575caf",
   "metadata": {},
   "outputs": [],
   "source": []
  },
  {
   "cell_type": "code",
   "execution_count": null,
   "id": "9b8fa5b3",
   "metadata": {},
   "outputs": [],
   "source": []
  }
 ],
 "metadata": {
  "kernelspec": {
   "display_name": "Python 3 (ipykernel)",
   "language": "python",
   "name": "python3"
  },
  "language_info": {
   "codemirror_mode": {
    "name": "ipython",
    "version": 3
   },
   "file_extension": ".py",
   "mimetype": "text/x-python",
   "name": "python",
   "nbconvert_exporter": "python",
   "pygments_lexer": "ipython3",
   "version": "3.8.5"
  }
 },
 "nbformat": 4,
 "nbformat_minor": 5
}
