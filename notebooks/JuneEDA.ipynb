{
 "cells": [
  {
   "cell_type": "code",
   "execution_count": 1,
   "id": "200130fd",
   "metadata": {},
   "outputs": [],
   "source": [
    "import pandas as pd\n",
    "import pickle"
   ]
  },
  {
   "cell_type": "code",
   "execution_count": 2,
   "id": "dbb1d40f",
   "metadata": {},
   "outputs": [
    {
     "name": "stdout",
     "output_type": "stream",
     "text": [
      "Wall time: 22.4 s\n"
     ]
    },
    {
     "data": {
      "text/html": [
       "<div>\n",
       "<style scoped>\n",
       "    .dataframe tbody tr th:only-of-type {\n",
       "        vertical-align: middle;\n",
       "    }\n",
       "\n",
       "    .dataframe tbody tr th {\n",
       "        vertical-align: top;\n",
       "    }\n",
       "\n",
       "    .dataframe thead th {\n",
       "        text-align: right;\n",
       "    }\n",
       "</style>\n",
       "<table border=\"1\" class=\"dataframe\">\n",
       "  <thead>\n",
       "    <tr style=\"text-align: right;\">\n",
       "      <th></th>\n",
       "      <th>pubdatetime</th>\n",
       "      <th>latitude</th>\n",
       "      <th>longitude</th>\n",
       "      <th>sumdid</th>\n",
       "      <th>sumdtype</th>\n",
       "      <th>chargelevel</th>\n",
       "      <th>sumdgroup</th>\n",
       "      <th>costpermin</th>\n",
       "      <th>companyname</th>\n",
       "    </tr>\n",
       "  </thead>\n",
       "  <tbody>\n",
       "    <tr>\n",
       "      <th>0</th>\n",
       "      <td>2019-06-01 00:00:12</td>\n",
       "      <td>36.1202</td>\n",
       "      <td>-86.7534</td>\n",
       "      <td>Powered93627c35-0f62-5b81-a78d-75a4a92ecf47</td>\n",
       "      <td>Powered</td>\n",
       "      <td>90.0</td>\n",
       "      <td>scooter</td>\n",
       "      <td>0.06</td>\n",
       "      <td>Jump</td>\n",
       "    </tr>\n",
       "    <tr>\n",
       "      <th>1</th>\n",
       "      <td>2019-06-01 00:00:12</td>\n",
       "      <td>36.1630</td>\n",
       "      <td>-86.7765</td>\n",
       "      <td>Powered17715097-e8a0-5494-a5ab-9b625796607d</td>\n",
       "      <td>Powered</td>\n",
       "      <td>63.0</td>\n",
       "      <td>scooter</td>\n",
       "      <td>0.06</td>\n",
       "      <td>Jump</td>\n",
       "    </tr>\n",
       "    <tr>\n",
       "      <th>2</th>\n",
       "      <td>2019-06-01 00:00:12</td>\n",
       "      <td>36.1202</td>\n",
       "      <td>-86.7533</td>\n",
       "      <td>Powerede5cb95ae-b091-5a93-86fa-ededd946d0d7</td>\n",
       "      <td>Powered</td>\n",
       "      <td>77.0</td>\n",
       "      <td>scooter</td>\n",
       "      <td>0.06</td>\n",
       "      <td>Jump</td>\n",
       "    </tr>\n",
       "    <tr>\n",
       "      <th>3</th>\n",
       "      <td>2019-06-01 00:00:12</td>\n",
       "      <td>36.1201</td>\n",
       "      <td>-86.7530</td>\n",
       "      <td>Powered71fa5e4f-1e17-54c4-936d-330df38cc2fa</td>\n",
       "      <td>Powered</td>\n",
       "      <td>0.0</td>\n",
       "      <td>scooter</td>\n",
       "      <td>0.06</td>\n",
       "      <td>Jump</td>\n",
       "    </tr>\n",
       "    <tr>\n",
       "      <th>4</th>\n",
       "      <td>2019-06-01 00:00:12</td>\n",
       "      <td>36.1622</td>\n",
       "      <td>-86.7806</td>\n",
       "      <td>Poweredfa549dd6-40bb-5757-ac87-2c2528f2bc68</td>\n",
       "      <td>Powered</td>\n",
       "      <td>2.0</td>\n",
       "      <td>scooter</td>\n",
       "      <td>0.06</td>\n",
       "      <td>Jump</td>\n",
       "    </tr>\n",
       "  </tbody>\n",
       "</table>\n",
       "</div>"
      ],
      "text/plain": [
       "           pubdatetime  latitude  longitude  \\\n",
       "0  2019-06-01 00:00:12   36.1202   -86.7534   \n",
       "1  2019-06-01 00:00:12   36.1630   -86.7765   \n",
       "2  2019-06-01 00:00:12   36.1202   -86.7533   \n",
       "3  2019-06-01 00:00:12   36.1201   -86.7530   \n",
       "4  2019-06-01 00:00:12   36.1622   -86.7806   \n",
       "\n",
       "                                        sumdid sumdtype  chargelevel  \\\n",
       "0  Powered93627c35-0f62-5b81-a78d-75a4a92ecf47  Powered         90.0   \n",
       "1  Powered17715097-e8a0-5494-a5ab-9b625796607d  Powered         63.0   \n",
       "2  Powerede5cb95ae-b091-5a93-86fa-ededd946d0d7  Powered         77.0   \n",
       "3  Powered71fa5e4f-1e17-54c4-936d-330df38cc2fa  Powered          0.0   \n",
       "4  Poweredfa549dd6-40bb-5757-ac87-2c2528f2bc68  Powered          2.0   \n",
       "\n",
       "  sumdgroup  costpermin companyname  \n",
       "0   scooter        0.06        Jump  \n",
       "1   scooter        0.06        Jump  \n",
       "2   scooter        0.06        Jump  \n",
       "3   scooter        0.06        Jump  \n",
       "4   scooter        0.06        Jump  "
      ]
     },
     "execution_count": 2,
     "metadata": {},
     "output_type": "execute_result"
    }
   ],
   "source": [
    "%%time\n",
    "june = pd.read_csv('../data/june.csv')\n",
    "june.head()"
   ]
  },
  {
   "cell_type": "code",
   "execution_count": 3,
   "id": "edf5911c",
   "metadata": {},
   "outputs": [
    {
     "name": "stdout",
     "output_type": "stream",
     "text": [
      "<class 'pandas.core.frame.DataFrame'>\n",
      "RangeIndex: 28046095 entries, 0 to 28046094\n",
      "Data columns (total 9 columns):\n",
      " #   Column       Dtype  \n",
      "---  ------       -----  \n",
      " 0   pubdatetime  object \n",
      " 1   latitude     float64\n",
      " 2   longitude    float64\n",
      " 3   sumdid       object \n",
      " 4   sumdtype     object \n",
      " 5   chargelevel  float64\n",
      " 6   sumdgroup    object \n",
      " 7   costpermin   float64\n",
      " 8   companyname  object \n",
      "dtypes: float64(4), object(5)\n",
      "memory usage: 1.9+ GB\n"
     ]
    }
   ],
   "source": [
    "june.info()"
   ]
  },
  {
   "cell_type": "code",
   "execution_count": 4,
   "id": "0b7bbeec",
   "metadata": {},
   "outputs": [
    {
     "data": {
      "text/plain": [
       "pubdatetime      0\n",
       "latitude         0\n",
       "longitude        0\n",
       "sumdid           0\n",
       "sumdtype         0\n",
       "chargelevel    285\n",
       "sumdgroup        0\n",
       "costpermin       0\n",
       "companyname      0\n",
       "dtype: int64"
      ]
     },
     "execution_count": 4,
     "metadata": {},
     "output_type": "execute_result"
    }
   ],
   "source": [
    "june.isnull().sum()##CHARGE LEVEL COLUMN HAS 285 NULLS"
   ]
  },
  {
   "cell_type": "code",
   "execution_count": 5,
   "id": "ab32e790",
   "metadata": {},
   "outputs": [
    {
     "data": {
      "text/plain": [
       "array(['Jump', 'Bird', 'Bolt', 'Gotcha', 'Spin', 'Lime', 'Lyft'],\n",
       "      dtype=object)"
      ]
     },
     "execution_count": 5,
     "metadata": {},
     "output_type": "execute_result"
    }
   ],
   "source": [
    "june.companyname.unique()"
   ]
  },
  {
   "cell_type": "code",
   "execution_count": 6,
   "id": "0430754e",
   "metadata": {},
   "outputs": [],
   "source": [
    "company_dict = {'Bird':'Bi', 'Lyft': 'Ly', 'Gotcha': 'G', 'Lime': 'Li', 'Spin': 'S', 'Jump': 'J', 'Bolt': 'Bo'}"
   ]
  },
  {
   "cell_type": "code",
   "execution_count": 7,
   "id": "06bf0b10",
   "metadata": {},
   "outputs": [],
   "source": [
    "june.companyname = june.companyname.replace(company_dict)"
   ]
  },
  {
   "cell_type": "code",
   "execution_count": 8,
   "id": "9373f90d",
   "metadata": {},
   "outputs": [
    {
     "data": {
      "text/html": [
       "<div>\n",
       "<style scoped>\n",
       "    .dataframe tbody tr th:only-of-type {\n",
       "        vertical-align: middle;\n",
       "    }\n",
       "\n",
       "    .dataframe tbody tr th {\n",
       "        vertical-align: top;\n",
       "    }\n",
       "\n",
       "    .dataframe thead th {\n",
       "        text-align: right;\n",
       "    }\n",
       "</style>\n",
       "<table border=\"1\" class=\"dataframe\">\n",
       "  <thead>\n",
       "    <tr style=\"text-align: right;\">\n",
       "      <th></th>\n",
       "      <th>pubdatetime</th>\n",
       "      <th>latitude</th>\n",
       "      <th>longitude</th>\n",
       "      <th>sumdid</th>\n",
       "      <th>sumdtype</th>\n",
       "      <th>chargelevel</th>\n",
       "      <th>sumdgroup</th>\n",
       "      <th>costpermin</th>\n",
       "      <th>companyname</th>\n",
       "    </tr>\n",
       "  </thead>\n",
       "  <tbody>\n",
       "    <tr>\n",
       "      <th>0</th>\n",
       "      <td>2019-06-01 00:00:12</td>\n",
       "      <td>36.1202</td>\n",
       "      <td>-86.7534</td>\n",
       "      <td>Powered93627c35-0f62-5b81-a78d-75a4a92ecf47</td>\n",
       "      <td>Powered</td>\n",
       "      <td>90.0</td>\n",
       "      <td>scooter</td>\n",
       "      <td>0.06</td>\n",
       "      <td>J</td>\n",
       "    </tr>\n",
       "    <tr>\n",
       "      <th>1</th>\n",
       "      <td>2019-06-01 00:00:12</td>\n",
       "      <td>36.1630</td>\n",
       "      <td>-86.7765</td>\n",
       "      <td>Powered17715097-e8a0-5494-a5ab-9b625796607d</td>\n",
       "      <td>Powered</td>\n",
       "      <td>63.0</td>\n",
       "      <td>scooter</td>\n",
       "      <td>0.06</td>\n",
       "      <td>J</td>\n",
       "    </tr>\n",
       "  </tbody>\n",
       "</table>\n",
       "</div>"
      ],
      "text/plain": [
       "          pubdatetime  latitude  longitude  \\\n",
       "0 2019-06-01 00:00:12   36.1202   -86.7534   \n",
       "1 2019-06-01 00:00:12   36.1630   -86.7765   \n",
       "\n",
       "                                        sumdid sumdtype  chargelevel  \\\n",
       "0  Powered93627c35-0f62-5b81-a78d-75a4a92ecf47  Powered         90.0   \n",
       "1  Powered17715097-e8a0-5494-a5ab-9b625796607d  Powered         63.0   \n",
       "\n",
       "  sumdgroup  costpermin companyname  \n",
       "0   scooter        0.06           J  \n",
       "1   scooter        0.06           J  "
      ]
     },
     "execution_count": 8,
     "metadata": {},
     "output_type": "execute_result"
    }
   ],
   "source": [
    "june.pubdatetime = pd.to_datetime(june.pubdatetime)\n",
    "june.head(2)\n"
   ]
  },
  {
   "cell_type": "code",
   "execution_count": 9,
   "id": "e7efb59f",
   "metadata": {},
   "outputs": [
    {
     "data": {
      "text/plain": [
       "array(['scooter', 'Scooter', 'bicycle'], dtype=object)"
      ]
     },
     "execution_count": 9,
     "metadata": {},
     "output_type": "execute_result"
    }
   ],
   "source": [
    "june.sumdgroup.unique()\n"
   ]
  },
  {
   "cell_type": "code",
   "execution_count": 10,
   "id": "42059368",
   "metadata": {},
   "outputs": [],
   "source": [
    "june_scooters = june.loc[june.sumdgroup.isin(['scooter', 'Scooter'])]"
   ]
  },
  {
   "cell_type": "code",
   "execution_count": 11,
   "id": "7c0a2e69",
   "metadata": {},
   "outputs": [
    {
     "data": {
      "text/plain": [
       "array(['Powered', 'Standard'], dtype=object)"
      ]
     },
     "execution_count": 11,
     "metadata": {},
     "output_type": "execute_result"
    }
   ],
   "source": [
    "june.sumdtype.unique() ##produces all the unique values in the sumdtype column"
   ]
  },
  {
   "cell_type": "code",
   "execution_count": 12,
   "id": "f25cd219",
   "metadata": {},
   "outputs": [],
   "source": [
    "june_scooters = june_scooters[['pubdatetime', 'latitude', 'longitude', 'sumdid', 'chargelevel', 'companyname']]"
   ]
  },
  {
   "cell_type": "code",
   "execution_count": 22,
   "id": "8fdbb428",
   "metadata": {},
   "outputs": [],
   "source": [
    "june_scooters = june.drop(columns=['costpermin']) ##drops columns chargelevel and cosstpermin from dataframe"
   ]
  },
  {
   "cell_type": "code",
   "execution_count": 23,
   "id": "c5dd4875",
   "metadata": {},
   "outputs": [
    {
     "name": "stdout",
     "output_type": "stream",
     "text": [
      "<class 'pandas.core.frame.DataFrame'>\n",
      "RangeIndex: 28046095 entries, 0 to 28046094\n",
      "Data columns (total 8 columns):\n",
      " #   Column       Dtype         \n",
      "---  ------       -----         \n",
      " 0   pubdatetime  datetime64[ns]\n",
      " 1   latitude     float64       \n",
      " 2   longitude    float64       \n",
      " 3   sumdid       object        \n",
      " 4   sumdtype     object        \n",
      " 5   chargelevel  float64       \n",
      " 6   sumdgroup    object        \n",
      " 7   companyname  object        \n",
      "dtypes: datetime64[ns](1), float64(3), object(4)\n",
      "memory usage: 1.7+ GB\n"
     ]
    }
   ],
   "source": [
    "june_scooters.info()"
   ]
  },
  {
   "cell_type": "code",
   "execution_count": 24,
   "id": "b8c226a9",
   "metadata": {},
   "outputs": [
    {
     "data": {
      "text/plain": [
       "array(['Powered93627c35-0f62-5b81-a78d-75a4a92ecf47',\n",
       "       'Powered17715097-e8a0-5494-a5ab-9b625796607d',\n",
       "       'Powerede5cb95ae-b091-5a93-86fa-ededd946d0d7', ...,\n",
       "       'Powered749778', 'Powered211807', 'Powered255293'], dtype=object)"
      ]
     },
     "execution_count": 24,
     "metadata": {},
     "output_type": "execute_result"
    }
   ],
   "source": [
    "june_scooters.sumdid.unique()"
   ]
  },
  {
   "cell_type": "code",
   "execution_count": 16,
   "id": "db82bbc4",
   "metadata": {},
   "outputs": [
    {
     "data": {
      "text/plain": [
       "7828"
      ]
     },
     "execution_count": 16,
     "metadata": {},
     "output_type": "execute_result"
    }
   ],
   "source": [
    "june_scooters.sumdid.nunique() ##count the number of unique sumdid\n"
   ]
  },
  {
   "cell_type": "code",
   "execution_count": 26,
   "id": "b355d2f7",
   "metadata": {},
   "outputs": [],
   "source": [
    "june_group=june_scooters.groupby(['companyname'])['sumdid'].nunique()"
   ]
  },
  {
   "cell_type": "code",
   "execution_count": 27,
   "id": "68cf510a",
   "metadata": {},
   "outputs": [
    {
     "data": {
      "text/plain": [
       "companyname\n",
       "Bi    2910\n",
       "Bo     333\n",
       "G      223\n",
       "J     1036\n",
       "Li    1461\n",
       "Ly    1152\n",
       "S      713\n",
       "Name: sumdid, dtype: int64"
      ]
     },
     "execution_count": 27,
     "metadata": {},
     "output_type": "execute_result"
    }
   ],
   "source": [
    "june_group"
   ]
  },
  {
   "cell_type": "code",
   "execution_count": 19,
   "id": "b661af30",
   "metadata": {},
   "outputs": [
    {
     "data": {
      "image/png": "[encoded data removed]",
      "text/plain": [
       "<Figure size 432x288 with 1 Axes>"
      ]
     },
     "metadata": {
      "needs_background": "light"
     },
     "output_type": "display_data"
    }
   ],
   "source": [
    "import matplotlib.pyplot as plt\n",
    "june_group.plot.bar(x='companyname', y='sumdid', rot=0, title = 'Scooters by Company, June 2019')\n",
    "plt.show()"
   ]
  },
  {
   "cell_type": "code",
   "execution_count": 28,
   "id": "a700a39b",
   "metadata": {},
   "outputs": [
    {
     "data": {
      "text/html": [
       "<div>\n",
       "<style scoped>\n",
       "    .dataframe tbody tr th:only-of-type {\n",
       "        vertical-align: middle;\n",
       "    }\n",
       "\n",
       "    .dataframe tbody tr th {\n",
       "        vertical-align: top;\n",
       "    }\n",
       "\n",
       "    .dataframe thead th {\n",
       "        text-align: right;\n",
       "    }\n",
       "</style>\n",
       "<table border=\"1\" class=\"dataframe\">\n",
       "  <thead>\n",
       "    <tr style=\"text-align: right;\">\n",
       "      <th></th>\n",
       "      <th>pubdatetime</th>\n",
       "      <th>latitude</th>\n",
       "      <th>longitude</th>\n",
       "      <th>sumdid</th>\n",
       "      <th>sumdtype</th>\n",
       "      <th>chargelevel</th>\n",
       "      <th>sumdgroup</th>\n",
       "      <th>companyname</th>\n",
       "    </tr>\n",
       "  </thead>\n",
       "  <tbody>\n",
       "    <tr>\n",
       "      <th>3</th>\n",
       "      <td>2019-06-01 00:00:12.000</td>\n",
       "      <td>36.120100</td>\n",
       "      <td>-86.753000</td>\n",
       "      <td>Powered71fa5e4f-1e17-54c4-936d-330df38cc2fa</td>\n",
       "      <td>Powered</td>\n",
       "      <td>0.0</td>\n",
       "      <td>scooter</td>\n",
       "      <td>J</td>\n",
       "    </tr>\n",
       "    <tr>\n",
       "      <th>16</th>\n",
       "      <td>2019-06-01 00:00:12.000</td>\n",
       "      <td>36.120200</td>\n",
       "      <td>-86.753300</td>\n",
       "      <td>Powerede4138a33-4d2e-5ce4-ad3c-9da496472b9d</td>\n",
       "      <td>Powered</td>\n",
       "      <td>0.0</td>\n",
       "      <td>scooter</td>\n",
       "      <td>J</td>\n",
       "    </tr>\n",
       "    <tr>\n",
       "      <th>17</th>\n",
       "      <td>2019-06-01 00:00:12.000</td>\n",
       "      <td>36.119900</td>\n",
       "      <td>-86.753200</td>\n",
       "      <td>Powered947f9e23-64e9-5dc6-af9c-3980af15c192</td>\n",
       "      <td>Powered</td>\n",
       "      <td>0.0</td>\n",
       "      <td>scooter</td>\n",
       "      <td>J</td>\n",
       "    </tr>\n",
       "    <tr>\n",
       "      <th>23</th>\n",
       "      <td>2019-06-01 00:00:12.000</td>\n",
       "      <td>36.119800</td>\n",
       "      <td>-86.753200</td>\n",
       "      <td>Powered96fbef92-52d1-586a-b97f-8c6de34b6291</td>\n",
       "      <td>Powered</td>\n",
       "      <td>0.0</td>\n",
       "      <td>scooter</td>\n",
       "      <td>J</td>\n",
       "    </tr>\n",
       "    <tr>\n",
       "      <th>25</th>\n",
       "      <td>2019-06-01 00:00:12.000</td>\n",
       "      <td>36.120300</td>\n",
       "      <td>-86.753600</td>\n",
       "      <td>Poweredc25cd7bb-3007-5df0-b0c8-606eaf139918</td>\n",
       "      <td>Powered</td>\n",
       "      <td>0.0</td>\n",
       "      <td>scooter</td>\n",
       "      <td>J</td>\n",
       "    </tr>\n",
       "    <tr>\n",
       "      <th>...</th>\n",
       "      <td>...</td>\n",
       "      <td>...</td>\n",
       "      <td>...</td>\n",
       "      <td>...</td>\n",
       "      <td>...</td>\n",
       "      <td>...</td>\n",
       "      <td>...</td>\n",
       "      <td>...</td>\n",
       "    </tr>\n",
       "    <tr>\n",
       "      <th>28045513</th>\n",
       "      <td>2019-06-30 23:59:23.483</td>\n",
       "      <td>36.160017</td>\n",
       "      <td>-86.778196</td>\n",
       "      <td>Powered1676330</td>\n",
       "      <td>Powered</td>\n",
       "      <td>0.0</td>\n",
       "      <td>Scooter</td>\n",
       "      <td>S</td>\n",
       "    </tr>\n",
       "    <tr>\n",
       "      <th>28045526</th>\n",
       "      <td>2019-06-30 23:59:23.483</td>\n",
       "      <td>36.172140</td>\n",
       "      <td>-86.789020</td>\n",
       "      <td>Powered9876847</td>\n",
       "      <td>Powered</td>\n",
       "      <td>0.0</td>\n",
       "      <td>Scooter</td>\n",
       "      <td>S</td>\n",
       "    </tr>\n",
       "    <tr>\n",
       "      <th>28045560</th>\n",
       "      <td>2019-06-30 23:59:23.483</td>\n",
       "      <td>36.172270</td>\n",
       "      <td>-86.788600</td>\n",
       "      <td>Powered4442615</td>\n",
       "      <td>Powered</td>\n",
       "      <td>0.0</td>\n",
       "      <td>Scooter</td>\n",
       "      <td>S</td>\n",
       "    </tr>\n",
       "    <tr>\n",
       "      <th>28046050</th>\n",
       "      <td>2019-06-30 23:59:55.270</td>\n",
       "      <td>36.127920</td>\n",
       "      <td>-86.805808</td>\n",
       "      <td>PoweredBV42LPYJGVBL4</td>\n",
       "      <td>Powered</td>\n",
       "      <td>0.0</td>\n",
       "      <td>scooter</td>\n",
       "      <td>Li</td>\n",
       "    </tr>\n",
       "    <tr>\n",
       "      <th>28046081</th>\n",
       "      <td>2019-06-30 23:59:55.273</td>\n",
       "      <td>36.107561</td>\n",
       "      <td>-86.764125</td>\n",
       "      <td>PoweredF5NZS7XQI7GY2</td>\n",
       "      <td>Powered</td>\n",
       "      <td>0.0</td>\n",
       "      <td>scooter</td>\n",
       "      <td>Li</td>\n",
       "    </tr>\n",
       "  </tbody>\n",
       "</table>\n",
       "<p>2844694 rows × 8 columns</p>\n",
       "</div>"
      ],
      "text/plain": [
       "                     pubdatetime   latitude  longitude  \\\n",
       "3        2019-06-01 00:00:12.000  36.120100 -86.753000   \n",
       "16       2019-06-01 00:00:12.000  36.120200 -86.753300   \n",
       "17       2019-06-01 00:00:12.000  36.119900 -86.753200   \n",
       "23       2019-06-01 00:00:12.000  36.119800 -86.753200   \n",
       "25       2019-06-01 00:00:12.000  36.120300 -86.753600   \n",
       "...                          ...        ...        ...   \n",
       "28045513 2019-06-30 23:59:23.483  36.160017 -86.778196   \n",
       "28045526 2019-06-30 23:59:23.483  36.172140 -86.789020   \n",
       "28045560 2019-06-30 23:59:23.483  36.172270 -86.788600   \n",
       "28046050 2019-06-30 23:59:55.270  36.127920 -86.805808   \n",
       "28046081 2019-06-30 23:59:55.273  36.107561 -86.764125   \n",
       "\n",
       "                                               sumdid sumdtype  chargelevel  \\\n",
       "3         Powered71fa5e4f-1e17-54c4-936d-330df38cc2fa  Powered          0.0   \n",
       "16        Powerede4138a33-4d2e-5ce4-ad3c-9da496472b9d  Powered          0.0   \n",
       "17        Powered947f9e23-64e9-5dc6-af9c-3980af15c192  Powered          0.0   \n",
       "23        Powered96fbef92-52d1-586a-b97f-8c6de34b6291  Powered          0.0   \n",
       "25        Poweredc25cd7bb-3007-5df0-b0c8-606eaf139918  Powered          0.0   \n",
       "...                                               ...      ...          ...   \n",
       "28045513                               Powered1676330  Powered          0.0   \n",
       "28045526                               Powered9876847  Powered          0.0   \n",
       "28045560                               Powered4442615  Powered          0.0   \n",
       "28046050                         PoweredBV42LPYJGVBL4  Powered          0.0   \n",
       "28046081                         PoweredF5NZS7XQI7GY2  Powered          0.0   \n",
       "\n",
       "         sumdgroup companyname  \n",
       "3          scooter           J  \n",
       "16         scooter           J  \n",
       "17         scooter           J  \n",
       "23         scooter           J  \n",
       "25         scooter           J  \n",
       "...            ...         ...  \n",
       "28045513   Scooter           S  \n",
       "28045526   Scooter           S  \n",
       "28045560   Scooter           S  \n",
       "28046050   scooter          Li  \n",
       "28046081   scooter          Li  \n",
       "\n",
       "[2844694 rows x 8 columns]"
      ]
     },
     "execution_count": 28,
     "metadata": {},
     "output_type": "execute_result"
    }
   ],
   "source": [
    "june_dead=june_scooters.loc[(june_scooters['chargelevel'] == 0.00)]\n",
    "june_dead"
   ]
  },
  {
   "cell_type": "code",
   "execution_count": 29,
   "id": "89ae26ac",
   "metadata": {},
   "outputs": [
    {
     "data": {
      "text/plain": [
       "companyname\n",
       "J              2341213\n",
       "G               388000\n",
       "S                83360\n",
       "Li               29590\n",
       "Bo                2531\n",
       "dtype: int64"
      ]
     },
     "execution_count": 29,
     "metadata": {},
     "output_type": "execute_result"
    }
   ],
   "source": [
    "june_dead_company = june_dead.value_counts(['companyname'])##NUMBER OF DEAD SCOOTERS BY COMPANY\n",
    "june_dead_company "
   ]
  },
  {
   "cell_type": "code",
   "execution_count": 30,
   "id": "a7a8cf5e",
   "metadata": {},
   "outputs": [
    {
     "data": {
      "text/html": [
       "<div>\n",
       "<style scoped>\n",
       "    .dataframe tbody tr th:only-of-type {\n",
       "        vertical-align: middle;\n",
       "    }\n",
       "\n",
       "    .dataframe tbody tr th {\n",
       "        vertical-align: top;\n",
       "    }\n",
       "\n",
       "    .dataframe thead th {\n",
       "        text-align: right;\n",
       "    }\n",
       "</style>\n",
       "<table border=\"1\" class=\"dataframe\">\n",
       "  <thead>\n",
       "    <tr style=\"text-align: right;\">\n",
       "      <th></th>\n",
       "      <th>pubdatetime</th>\n",
       "      <th>latitude</th>\n",
       "      <th>longitude</th>\n",
       "      <th>sumdid</th>\n",
       "      <th>sumdtype</th>\n",
       "      <th>chargelevel</th>\n",
       "      <th>sumdgroup</th>\n",
       "      <th>companyname</th>\n",
       "    </tr>\n",
       "  </thead>\n",
       "  <tbody>\n",
       "    <tr>\n",
       "      <th>3</th>\n",
       "      <td>2019-06-01 00:00:12.000</td>\n",
       "      <td>36.120100</td>\n",
       "      <td>-86.753000</td>\n",
       "      <td>Powered71fa5e4f-1e17-54c4-936d-330df38cc2fa</td>\n",
       "      <td>Powered</td>\n",
       "      <td>0.0</td>\n",
       "      <td>scooter</td>\n",
       "      <td>J</td>\n",
       "    </tr>\n",
       "    <tr>\n",
       "      <th>16</th>\n",
       "      <td>2019-06-01 00:00:12.000</td>\n",
       "      <td>36.120200</td>\n",
       "      <td>-86.753300</td>\n",
       "      <td>Powerede4138a33-4d2e-5ce4-ad3c-9da496472b9d</td>\n",
       "      <td>Powered</td>\n",
       "      <td>0.0</td>\n",
       "      <td>scooter</td>\n",
       "      <td>J</td>\n",
       "    </tr>\n",
       "    <tr>\n",
       "      <th>17</th>\n",
       "      <td>2019-06-01 00:00:12.000</td>\n",
       "      <td>36.119900</td>\n",
       "      <td>-86.753200</td>\n",
       "      <td>Powered947f9e23-64e9-5dc6-af9c-3980af15c192</td>\n",
       "      <td>Powered</td>\n",
       "      <td>0.0</td>\n",
       "      <td>scooter</td>\n",
       "      <td>J</td>\n",
       "    </tr>\n",
       "    <tr>\n",
       "      <th>23</th>\n",
       "      <td>2019-06-01 00:00:12.000</td>\n",
       "      <td>36.119800</td>\n",
       "      <td>-86.753200</td>\n",
       "      <td>Powered96fbef92-52d1-586a-b97f-8c6de34b6291</td>\n",
       "      <td>Powered</td>\n",
       "      <td>0.0</td>\n",
       "      <td>scooter</td>\n",
       "      <td>J</td>\n",
       "    </tr>\n",
       "    <tr>\n",
       "      <th>25</th>\n",
       "      <td>2019-06-01 00:00:12.000</td>\n",
       "      <td>36.120300</td>\n",
       "      <td>-86.753600</td>\n",
       "      <td>Poweredc25cd7bb-3007-5df0-b0c8-606eaf139918</td>\n",
       "      <td>Powered</td>\n",
       "      <td>0.0</td>\n",
       "      <td>scooter</td>\n",
       "      <td>J</td>\n",
       "    </tr>\n",
       "    <tr>\n",
       "      <th>...</th>\n",
       "      <td>...</td>\n",
       "      <td>...</td>\n",
       "      <td>...</td>\n",
       "      <td>...</td>\n",
       "      <td>...</td>\n",
       "      <td>...</td>\n",
       "      <td>...</td>\n",
       "      <td>...</td>\n",
       "    </tr>\n",
       "    <tr>\n",
       "      <th>28045513</th>\n",
       "      <td>2019-06-30 23:59:23.483</td>\n",
       "      <td>36.160017</td>\n",
       "      <td>-86.778196</td>\n",
       "      <td>Powered1676330</td>\n",
       "      <td>Powered</td>\n",
       "      <td>0.0</td>\n",
       "      <td>Scooter</td>\n",
       "      <td>S</td>\n",
       "    </tr>\n",
       "    <tr>\n",
       "      <th>28045526</th>\n",
       "      <td>2019-06-30 23:59:23.483</td>\n",
       "      <td>36.172140</td>\n",
       "      <td>-86.789020</td>\n",
       "      <td>Powered9876847</td>\n",
       "      <td>Powered</td>\n",
       "      <td>0.0</td>\n",
       "      <td>Scooter</td>\n",
       "      <td>S</td>\n",
       "    </tr>\n",
       "    <tr>\n",
       "      <th>28045560</th>\n",
       "      <td>2019-06-30 23:59:23.483</td>\n",
       "      <td>36.172270</td>\n",
       "      <td>-86.788600</td>\n",
       "      <td>Powered4442615</td>\n",
       "      <td>Powered</td>\n",
       "      <td>0.0</td>\n",
       "      <td>Scooter</td>\n",
       "      <td>S</td>\n",
       "    </tr>\n",
       "    <tr>\n",
       "      <th>28046050</th>\n",
       "      <td>2019-06-30 23:59:55.270</td>\n",
       "      <td>36.127920</td>\n",
       "      <td>-86.805808</td>\n",
       "      <td>PoweredBV42LPYJGVBL4</td>\n",
       "      <td>Powered</td>\n",
       "      <td>0.0</td>\n",
       "      <td>scooter</td>\n",
       "      <td>Li</td>\n",
       "    </tr>\n",
       "    <tr>\n",
       "      <th>28046081</th>\n",
       "      <td>2019-06-30 23:59:55.273</td>\n",
       "      <td>36.107561</td>\n",
       "      <td>-86.764125</td>\n",
       "      <td>PoweredF5NZS7XQI7GY2</td>\n",
       "      <td>Powered</td>\n",
       "      <td>0.0</td>\n",
       "      <td>scooter</td>\n",
       "      <td>Li</td>\n",
       "    </tr>\n",
       "  </tbody>\n",
       "</table>\n",
       "<p>2844694 rows × 8 columns</p>\n",
       "</div>"
      ],
      "text/plain": [
       "                     pubdatetime   latitude  longitude  \\\n",
       "3        2019-06-01 00:00:12.000  36.120100 -86.753000   \n",
       "16       2019-06-01 00:00:12.000  36.120200 -86.753300   \n",
       "17       2019-06-01 00:00:12.000  36.119900 -86.753200   \n",
       "23       2019-06-01 00:00:12.000  36.119800 -86.753200   \n",
       "25       2019-06-01 00:00:12.000  36.120300 -86.753600   \n",
       "...                          ...        ...        ...   \n",
       "28045513 2019-06-30 23:59:23.483  36.160017 -86.778196   \n",
       "28045526 2019-06-30 23:59:23.483  36.172140 -86.789020   \n",
       "28045560 2019-06-30 23:59:23.483  36.172270 -86.788600   \n",
       "28046050 2019-06-30 23:59:55.270  36.127920 -86.805808   \n",
       "28046081 2019-06-30 23:59:55.273  36.107561 -86.764125   \n",
       "\n",
       "                                               sumdid sumdtype  chargelevel  \\\n",
       "3         Powered71fa5e4f-1e17-54c4-936d-330df38cc2fa  Powered          0.0   \n",
       "16        Powerede4138a33-4d2e-5ce4-ad3c-9da496472b9d  Powered          0.0   \n",
       "17        Powered947f9e23-64e9-5dc6-af9c-3980af15c192  Powered          0.0   \n",
       "23        Powered96fbef92-52d1-586a-b97f-8c6de34b6291  Powered          0.0   \n",
       "25        Poweredc25cd7bb-3007-5df0-b0c8-606eaf139918  Powered          0.0   \n",
       "...                                               ...      ...          ...   \n",
       "28045513                               Powered1676330  Powered          0.0   \n",
       "28045526                               Powered9876847  Powered          0.0   \n",
       "28045560                               Powered4442615  Powered          0.0   \n",
       "28046050                         PoweredBV42LPYJGVBL4  Powered          0.0   \n",
       "28046081                         PoweredF5NZS7XQI7GY2  Powered          0.0   \n",
       "\n",
       "         sumdgroup companyname  \n",
       "3          scooter           J  \n",
       "16         scooter           J  \n",
       "17         scooter           J  \n",
       "23         scooter           J  \n",
       "25         scooter           J  \n",
       "...            ...         ...  \n",
       "28045513   Scooter           S  \n",
       "28045526   Scooter           S  \n",
       "28045560   Scooter           S  \n",
       "28046050   scooter          Li  \n",
       "28046081   scooter          Li  \n",
       "\n",
       "[2844694 rows x 8 columns]"
      ]
     },
     "execution_count": 30,
     "metadata": {},
     "output_type": "execute_result"
    }
   ],
   "source": [
    "june=june_dead.value_counts(['companyname']).nunique() ##THE NUMBER OF COMPANIES WITH DEAD SCOOTERS\n",
    "june_dead"
   ]
  },
  {
   "cell_type": "code",
   "execution_count": 31,
   "id": "03b7a765",
   "metadata": {},
   "outputs": [
    {
     "data": {
      "image/png": "[encoded data removed]",
      "text/plain": [
       "<Figure size 432x288 with 1 Axes>"
      ]
     },
     "metadata": {
      "needs_background": "light"
     },
     "output_type": "display_data"
    }
   ],
   "source": [
    "import matplotlib.pyplot as plt\n",
    "june_dead_company.plot.bar(x='companyname', y='sumdid', rot=0, title = 'Zero Charge Scooters by Company, June 2019')\n",
    "plt.show()"
   ]
  }
 ],
 "metadata": {
  "kernelspec": {
   "display_name": "Python 3 (ipykernel)",
   "language": "python",
   "name": "python3"
  },
  "language_info": {
   "codemirror_mode": {
    "name": "ipython",
    "version": 3
   },
   "file_extension": ".py",
   "mimetype": "text/x-python",
   "name": "python",
   "nbconvert_exporter": "python",
   "pygments_lexer": "ipython3",
   "version": "3.8.5"
  }
 },
 "nbformat": 4,
 "nbformat_minor": 5
}
