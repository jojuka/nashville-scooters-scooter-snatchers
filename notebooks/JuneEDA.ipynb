{
 "cells": [
  {
   "cell_type": "code",
   "execution_count": 1,
   "id": "200130fd",
   "metadata": {},
   "outputs": [],
   "source": [
    "import pandas as pd\n",
    "import pickle"
   ]
  },
  {
   "cell_type": "code",
   "execution_count": 2,
   "id": "dbb1d40f",
   "metadata": {},
   "outputs": [
    {
     "name": "stdout",
     "output_type": "stream",
     "text": [
      "Wall time: 4.61 s\n"
     ]
    },
    {
     "data": {
      "text/html": [
       "<div>\n",
       "<style scoped>\n",
       "    .dataframe tbody tr th:only-of-type {\n",
       "        vertical-align: middle;\n",
       "    }\n",
       "\n",
       "    .dataframe tbody tr th {\n",
       "        vertical-align: top;\n",
       "    }\n",
       "\n",
       "    .dataframe thead th {\n",
       "        text-align: right;\n",
       "    }\n",
       "</style>\n",
       "<table border=\"1\" class=\"dataframe\">\n",
       "  <thead>\n",
       "    <tr style=\"text-align: right;\">\n",
       "      <th></th>\n",
       "      <th>pubdatetime</th>\n",
       "      <th>latitude</th>\n",
       "      <th>longitude</th>\n",
       "      <th>sumdid</th>\n",
       "      <th>chargelevel</th>\n",
       "      <th>companyname</th>\n",
       "    </tr>\n",
       "  </thead>\n",
       "  <tbody>\n",
       "    <tr>\n",
       "      <th>0</th>\n",
       "      <td>2019-06-01 00:00:12</td>\n",
       "      <td>36.1202</td>\n",
       "      <td>-86.7534</td>\n",
       "      <td>Powered93627c35-0f62-5b81-a78d-75a4a92ecf47</td>\n",
       "      <td>90.0</td>\n",
       "      <td>Jump</td>\n",
       "    </tr>\n",
       "    <tr>\n",
       "      <th>1</th>\n",
       "      <td>2019-06-01 00:00:12</td>\n",
       "      <td>36.1630</td>\n",
       "      <td>-86.7765</td>\n",
       "      <td>Powered17715097-e8a0-5494-a5ab-9b625796607d</td>\n",
       "      <td>63.0</td>\n",
       "      <td>Jump</td>\n",
       "    </tr>\n",
       "    <tr>\n",
       "      <th>2</th>\n",
       "      <td>2019-06-01 00:00:12</td>\n",
       "      <td>36.1202</td>\n",
       "      <td>-86.7533</td>\n",
       "      <td>Powerede5cb95ae-b091-5a93-86fa-ededd946d0d7</td>\n",
       "      <td>77.0</td>\n",
       "      <td>Jump</td>\n",
       "    </tr>\n",
       "    <tr>\n",
       "      <th>3</th>\n",
       "      <td>2019-06-01 00:00:12</td>\n",
       "      <td>36.1201</td>\n",
       "      <td>-86.7530</td>\n",
       "      <td>Powered71fa5e4f-1e17-54c4-936d-330df38cc2fa</td>\n",
       "      <td>0.0</td>\n",
       "      <td>Jump</td>\n",
       "    </tr>\n",
       "    <tr>\n",
       "      <th>4</th>\n",
       "      <td>2019-06-01 00:00:12</td>\n",
       "      <td>36.1622</td>\n",
       "      <td>-86.7806</td>\n",
       "      <td>Poweredfa549dd6-40bb-5757-ac87-2c2528f2bc68</td>\n",
       "      <td>2.0</td>\n",
       "      <td>Jump</td>\n",
       "    </tr>\n",
       "  </tbody>\n",
       "</table>\n",
       "</div>"
      ],
      "text/plain": [
       "          pubdatetime  latitude  longitude  \\\n",
       "0 2019-06-01 00:00:12   36.1202   -86.7534   \n",
       "1 2019-06-01 00:00:12   36.1630   -86.7765   \n",
       "2 2019-06-01 00:00:12   36.1202   -86.7533   \n",
       "3 2019-06-01 00:00:12   36.1201   -86.7530   \n",
       "4 2019-06-01 00:00:12   36.1622   -86.7806   \n",
       "\n",
       "                                        sumdid  chargelevel companyname  \n",
       "0  Powered93627c35-0f62-5b81-a78d-75a4a92ecf47         90.0        Jump  \n",
       "1  Powered17715097-e8a0-5494-a5ab-9b625796607d         63.0        Jump  \n",
       "2  Powerede5cb95ae-b091-5a93-86fa-ededd946d0d7         77.0        Jump  \n",
       "3  Powered71fa5e4f-1e17-54c4-936d-330df38cc2fa          0.0        Jump  \n",
       "4  Poweredfa549dd6-40bb-5757-ac87-2c2528f2bc68          2.0        Jump  "
      ]
     },
     "execution_count": 2,
     "metadata": {},
     "output_type": "execute_result"
    }
   ],
   "source": [
    "%%time\n",
    "june = pd.read_pickle('../data/june.pkl')\n",
    "june.head()"
   ]
  },
  {
   "cell_type": "code",
   "execution_count": 3,
   "id": "edf5911c",
   "metadata": {},
   "outputs": [
    {
     "name": "stdout",
     "output_type": "stream",
     "text": [
      "<class 'pandas.core.frame.DataFrame'>\n",
      "Int64Index: 28037408 entries, 0 to 28046094\n",
      "Data columns (total 6 columns):\n",
      " #   Column       Dtype         \n",
      "---  ------       -----         \n",
      " 0   pubdatetime  datetime64[ns]\n",
      " 1   latitude     float64       \n",
      " 2   longitude    float64       \n",
      " 3   sumdid       object        \n",
      " 4   chargelevel  float64       \n",
      " 5   companyname  object        \n",
      "dtypes: datetime64[ns](1), float64(3), object(2)\n",
      "memory usage: 1.5+ GB\n"
     ]
    }
   ],
   "source": [
    "june.info()"
   ]
  },
  {
   "cell_type": "code",
   "execution_count": 4,
   "id": "0b7bbeec",
   "metadata": {},
   "outputs": [
    {
     "data": {
      "text/plain": [
       "pubdatetime      0\n",
       "latitude         0\n",
       "longitude        0\n",
       "sumdid           0\n",
       "chargelevel    285\n",
       "companyname      0\n",
       "dtype: int64"
      ]
     },
     "execution_count": 4,
     "metadata": {},
     "output_type": "execute_result"
    }
   ],
   "source": [
    "june.isnull().sum()##CHARGE LEVEL COLUMN HAS 285 NULLS"
   ]
  },
  {
   "cell_type": "code",
   "execution_count": 5,
   "id": "ab32e790",
   "metadata": {},
   "outputs": [
    {
     "data": {
      "text/plain": [
       "array(['Jump', 'Bird', 'Bolt', 'Gotcha', 'Spin', 'Lime', 'Lyft'],\n",
       "      dtype=object)"
      ]
     },
     "execution_count": 5,
     "metadata": {},
     "output_type": "execute_result"
    }
   ],
   "source": [
    "june.companyname.unique()"
   ]
  },
  {
   "cell_type": "code",
   "execution_count": 6,
   "id": "b8c226a9",
   "metadata": {},
   "outputs": [
    {
     "data": {
      "text/plain": [
       "array(['Powered93627c35-0f62-5b81-a78d-75a4a92ecf47',\n",
       "       'Powered17715097-e8a0-5494-a5ab-9b625796607d',\n",
       "       'Powerede5cb95ae-b091-5a93-86fa-ededd946d0d7', ...,\n",
       "       'Powered749778', 'Powered211807', 'Powered255293'], dtype=object)"
      ]
     },
     "execution_count": 6,
     "metadata": {},
     "output_type": "execute_result"
    }
   ],
   "source": [
    "june.sumdid.unique()"
   ]
  },
  {
   "cell_type": "code",
   "execution_count": 7,
   "id": "b355d2f7",
   "metadata": {},
   "outputs": [],
   "source": [
    "june_group=june.groupby(['companyname'])['sumdid'].nunique()"
   ]
  },
  {
   "cell_type": "code",
   "execution_count": 8,
   "id": "68cf510a",
   "metadata": {},
   "outputs": [
    {
     "data": {
      "text/plain": [
       "<bound method Series.sort_values of companyname\n",
       "Bird      2910\n",
       "Bolt       333\n",
       "Gotcha     223\n",
       "Jump      1036\n",
       "Lime      1455\n",
       "Lyft      1152\n",
       "Spin       713\n",
       "Name: sumdid, dtype: int64>"
      ]
     },
     "execution_count": 8,
     "metadata": {},
     "output_type": "execute_result"
    }
   ],
   "source": [
    "june_group.sort_values"
   ]
  },
  {
   "cell_type": "code",
   "execution_count": 9,
   "id": "b661af30",
   "metadata": {},
   "outputs": [
    {
     "data": {
      "image/png": "[encoded data removed]",
      "text/plain": [
       "<Figure size 432x288 with 1 Axes>"
      ]
     },
     "metadata": {
      "needs_background": "light"
     },
     "output_type": "display_data"
    }
   ],
   "source": [
    "import matplotlib.pyplot as plt\n",
    "june_group.plot.bar(x='companyname', y='sumdid', rot=0, title = 'Scooters by Company, June 2019')\n",
    "plt.show()"
   ]
  },
  {
   "cell_type": "code",
   "execution_count": 11,
   "id": "a700a39b",
   "metadata": {},
   "outputs": [
    {
     "data": {
      "text/plain": [
       "1358"
      ]
     },
     "execution_count": 11,
     "metadata": {},
     "output_type": "execute_result"
    }
   ],
   "source": [
    "june_dead=june.loc[(june['chargelevel'] == 0.00)]['sumdid'].nunique()\n",
    "june_dead"
   ]
  },
  {
   "cell_type": "code",
   "execution_count": 13,
   "id": "a31f52a4",
   "metadata": {},
   "outputs": [
    {
     "ename": "AttributeError",
     "evalue": "'int' object has no attribute 'value_counts'",
     "output_type": "error",
     "traceback": [
      "\u001b[1;31m---------------------------------------------------------------------------\u001b[0m",
      "\u001b[1;31mAttributeError\u001b[0m                            Traceback (most recent call last)",
      "\u001b[1;32m~\\AppData\\Local\\Temp/ipykernel_14704/3314778964.py\u001b[0m in \u001b[0;36m<module>\u001b[1;34m\u001b[0m\n\u001b[1;32m----> 1\u001b[1;33m \u001b[0mjune_dead_company\u001b[0m \u001b[1;33m=\u001b[0m \u001b[0mjune_dead\u001b[0m\u001b[1;33m.\u001b[0m\u001b[0mvalue_counts\u001b[0m\u001b[1;33m(\u001b[0m\u001b[1;33m[\u001b[0m\u001b[1;34m'companyname'\u001b[0m\u001b[1;33m]\u001b[0m\u001b[1;33m)\u001b[0m\u001b[1;31m##NUMBER OF DEAD SCOOTERS BY COMPANY\u001b[0m\u001b[1;33m\u001b[0m\u001b[1;33m\u001b[0m\u001b[0m\n\u001b[0m\u001b[0;32m      2\u001b[0m \u001b[0mjune_dead_company\u001b[0m\u001b[1;33m\u001b[0m\u001b[1;33m\u001b[0m\u001b[0m\n",
      "\u001b[1;31mAttributeError\u001b[0m: 'int' object has no attribute 'value_counts'"
     ]
    }
   ],
   "source": [
    "june_dead_company = june_dead.value_counts(['companyname'])##NUMBER OF DEAD SCOOTERS BY COMPANY\n",
    "june_dead_company "
   ]
  },
  {
   "cell_type": "code",
   "execution_count": 17,
   "id": "7f8841b1",
   "metadata": {},
   "outputs": [],
   "source": [
    "june_dead_company=june.loc[(june['chargelevel'] == 0.00)].groupby('companyname')"
   ]
  },
  {
   "cell_type": "code",
   "execution_count": 18,
   "id": "8a62540c",
   "metadata": {},
   "outputs": [
    {
     "data": {
      "text/plain": [
       "<pandas.core.groupby.generic.DataFrameGroupBy object at 0x000001CF5C8DE8B0>"
      ]
     },
     "execution_count": 18,
     "metadata": {},
     "output_type": "execute_result"
    }
   ],
   "source": [
    "june_dead_company"
   ]
  },
  {
   "cell_type": "code",
   "execution_count": 16,
   "id": "03b7a765",
   "metadata": {},
   "outputs": [
    {
     "ename": "AttributeError",
     "evalue": "'int' object has no attribute 'plot'",
     "output_type": "error",
     "traceback": [
      "\u001b[1;31m---------------------------------------------------------------------------\u001b[0m",
      "\u001b[1;31mAttributeError\u001b[0m                            Traceback (most recent call last)",
      "\u001b[1;32m~\\AppData\\Local\\Temp/ipykernel_14704/1194398857.py\u001b[0m in \u001b[0;36m<module>\u001b[1;34m\u001b[0m\n\u001b[0;32m      1\u001b[0m \u001b[1;32mimport\u001b[0m \u001b[0mmatplotlib\u001b[0m\u001b[1;33m.\u001b[0m\u001b[0mpyplot\u001b[0m \u001b[1;32mas\u001b[0m \u001b[0mplt\u001b[0m\u001b[1;33m\u001b[0m\u001b[1;33m\u001b[0m\u001b[0m\n\u001b[1;32m----> 2\u001b[1;33m \u001b[0mjune_dead\u001b[0m\u001b[1;33m.\u001b[0m\u001b[0mplot\u001b[0m\u001b[1;33m.\u001b[0m\u001b[0mbar\u001b[0m\u001b[1;33m(\u001b[0m\u001b[0mx\u001b[0m\u001b[1;33m=\u001b[0m\u001b[1;34m'companyname'\u001b[0m\u001b[1;33m,\u001b[0m \u001b[0my\u001b[0m\u001b[1;33m=\u001b[0m\u001b[1;34m'sumdid'\u001b[0m\u001b[1;33m,\u001b[0m \u001b[0mrot\u001b[0m\u001b[1;33m=\u001b[0m\u001b[1;36m0\u001b[0m\u001b[1;33m,\u001b[0m \u001b[0mtitle\u001b[0m \u001b[1;33m=\u001b[0m \u001b[1;34m'Zero Charge Scooters by Company, June 2019'\u001b[0m\u001b[1;33m)\u001b[0m\u001b[1;33m\u001b[0m\u001b[1;33m\u001b[0m\u001b[0m\n\u001b[0m\u001b[0;32m      3\u001b[0m \u001b[0mplt\u001b[0m\u001b[1;33m.\u001b[0m\u001b[0mshow\u001b[0m\u001b[1;33m(\u001b[0m\u001b[1;33m)\u001b[0m\u001b[1;33m\u001b[0m\u001b[1;33m\u001b[0m\u001b[0m\n",
      "\u001b[1;31mAttributeError\u001b[0m: 'int' object has no attribute 'plot'"
     ]
    }
   ],
   "source": [
    "import matplotlib.pyplot as plt\n",
    "june_dead.plot.bar(x='companyname', y='sumdid', rot=0, title = 'Zero Charge Scooters by Company, June 2019')\n",
    "plt.show()"
   ]
  },
  {
   "cell_type": "code",
   "execution_count": null,
   "id": "89ae26ac",
   "metadata": {},
   "outputs": [],
   "source": [
    "#filt= may_scooters['sumdid'] == ['PoweredLSWU7']\n",
    "#may_scooters.loc[filt]['companyname'].value_counts()\n",
    "\n",
    "june_dead.groupby('companyname')\n",
    "\n",
    "#mayscoot =june\n",
    "#filt=junedead\n",
    "\n",
    "#filt= may_scooters['companyname'] == 3\n",
    "#may_scooters.loc[filt]['sumdid'].value_counts()\n",
    "#june.loc[june_dead]['sumdid'].value_counts()\n",
    "\n",
    "#june_dead_company = june_dead.value_counts(['companyname'])##NUMBER OF DEAD SCOOTERS BY COMPANY\n",
    "#june_dead_company "
   ]
  }
 ],
 "metadata": {
  "kernelspec": {
   "display_name": "Python 3 (ipykernel)",
   "language": "python",
   "name": "python3"
  },
  "language_info": {
   "codemirror_mode": {
    "name": "ipython",
    "version": 3
   },
   "file_extension": ".py",
   "mimetype": "text/x-python",
   "name": "python",
   "nbconvert_exporter": "python",
   "pygments_lexer": "ipython3",
   "version": "3.8.5"
  }
 },
 "nbformat": 4,
 "nbformat_minor": 5
}
