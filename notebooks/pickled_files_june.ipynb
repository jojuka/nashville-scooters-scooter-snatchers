{
 "cells": [
  {
   "cell_type": "code",
   "execution_count": 51,
   "id": "c016a587",
   "metadata": {},
   "outputs": [],
   "source": [
    "import pandas as pd\n",
    "import pickle"
   ]
  },
  {
   "cell_type": "code",
   "execution_count": 52,
   "id": "1750f739",
   "metadata": {},
   "outputs": [
    {
     "name": "stdout",
     "output_type": "stream",
     "text": [
      "Wall time: 1min 13s\n"
     ]
    },
    {
     "data": {
      "text/html": [
       "<div>\n",
       "<style scoped>\n",
       "    .dataframe tbody tr th:only-of-type {\n",
       "        vertical-align: middle;\n",
       "    }\n",
       "\n",
       "    .dataframe tbody tr th {\n",
       "        vertical-align: top;\n",
       "    }\n",
       "\n",
       "    .dataframe thead th {\n",
       "        text-align: right;\n",
       "    }\n",
       "</style>\n",
       "<table border=\"1\" class=\"dataframe\">\n",
       "  <thead>\n",
       "    <tr style=\"text-align: right;\">\n",
       "      <th></th>\n",
       "      <th>pubdatetime</th>\n",
       "      <th>latitude</th>\n",
       "      <th>longitude</th>\n",
       "      <th>sumdid</th>\n",
       "      <th>sumdtype</th>\n",
       "      <th>chargelevel</th>\n",
       "      <th>sumdgroup</th>\n",
       "      <th>costpermin</th>\n",
       "      <th>companyname</th>\n",
       "    </tr>\n",
       "  </thead>\n",
       "  <tbody>\n",
       "    <tr>\n",
       "      <th>0</th>\n",
       "      <td>2019-06-01 00:00:12</td>\n",
       "      <td>36.1202</td>\n",
       "      <td>-86.7534</td>\n",
       "      <td>Powered93627c35-0f62-5b81-a78d-75a4a92ecf47</td>\n",
       "      <td>Powered</td>\n",
       "      <td>90.0</td>\n",
       "      <td>scooter</td>\n",
       "      <td>0.06</td>\n",
       "      <td>Jump</td>\n",
       "    </tr>\n",
       "    <tr>\n",
       "      <th>1</th>\n",
       "      <td>2019-06-01 00:00:12</td>\n",
       "      <td>36.1630</td>\n",
       "      <td>-86.7765</td>\n",
       "      <td>Powered17715097-e8a0-5494-a5ab-9b625796607d</td>\n",
       "      <td>Powered</td>\n",
       "      <td>63.0</td>\n",
       "      <td>scooter</td>\n",
       "      <td>0.06</td>\n",
       "      <td>Jump</td>\n",
       "    </tr>\n",
       "    <tr>\n",
       "      <th>2</th>\n",
       "      <td>2019-06-01 00:00:12</td>\n",
       "      <td>36.1202</td>\n",
       "      <td>-86.7533</td>\n",
       "      <td>Powerede5cb95ae-b091-5a93-86fa-ededd946d0d7</td>\n",
       "      <td>Powered</td>\n",
       "      <td>77.0</td>\n",
       "      <td>scooter</td>\n",
       "      <td>0.06</td>\n",
       "      <td>Jump</td>\n",
       "    </tr>\n",
       "    <tr>\n",
       "      <th>3</th>\n",
       "      <td>2019-06-01 00:00:12</td>\n",
       "      <td>36.1201</td>\n",
       "      <td>-86.7530</td>\n",
       "      <td>Powered71fa5e4f-1e17-54c4-936d-330df38cc2fa</td>\n",
       "      <td>Powered</td>\n",
       "      <td>0.0</td>\n",
       "      <td>scooter</td>\n",
       "      <td>0.06</td>\n",
       "      <td>Jump</td>\n",
       "    </tr>\n",
       "    <tr>\n",
       "      <th>4</th>\n",
       "      <td>2019-06-01 00:00:12</td>\n",
       "      <td>36.1622</td>\n",
       "      <td>-86.7806</td>\n",
       "      <td>Poweredfa549dd6-40bb-5757-ac87-2c2528f2bc68</td>\n",
       "      <td>Powered</td>\n",
       "      <td>2.0</td>\n",
       "      <td>scooter</td>\n",
       "      <td>0.06</td>\n",
       "      <td>Jump</td>\n",
       "    </tr>\n",
       "  </tbody>\n",
       "</table>\n",
       "</div>"
      ],
      "text/plain": [
       "           pubdatetime  latitude  longitude  \\\n",
       "0  2019-06-01 00:00:12   36.1202   -86.7534   \n",
       "1  2019-06-01 00:00:12   36.1630   -86.7765   \n",
       "2  2019-06-01 00:00:12   36.1202   -86.7533   \n",
       "3  2019-06-01 00:00:12   36.1201   -86.7530   \n",
       "4  2019-06-01 00:00:12   36.1622   -86.7806   \n",
       "\n",
       "                                        sumdid sumdtype  chargelevel  \\\n",
       "0  Powered93627c35-0f62-5b81-a78d-75a4a92ecf47  Powered         90.0   \n",
       "1  Powered17715097-e8a0-5494-a5ab-9b625796607d  Powered         63.0   \n",
       "2  Powerede5cb95ae-b091-5a93-86fa-ededd946d0d7  Powered         77.0   \n",
       "3  Powered71fa5e4f-1e17-54c4-936d-330df38cc2fa  Powered          0.0   \n",
       "4  Poweredfa549dd6-40bb-5757-ac87-2c2528f2bc68  Powered          2.0   \n",
       "\n",
       "  sumdgroup  costpermin companyname  \n",
       "0   scooter        0.06        Jump  \n",
       "1   scooter        0.06        Jump  \n",
       "2   scooter        0.06        Jump  \n",
       "3   scooter        0.06        Jump  \n",
       "4   scooter        0.06        Jump  "
      ]
     },
     "execution_count": 52,
     "metadata": {},
     "output_type": "execute_result"
    }
   ],
   "source": [
    "%%time\n",
    "june = pd.read_csv('../data/june.csv')\n",
    "june.head()"
   ]
  },
  {
   "cell_type": "code",
   "execution_count": 56,
   "id": "842cf0d4",
   "metadata": {},
   "outputs": [
    {
     "data": {
      "text/plain": [
       "array([5, 0, 6, 2, 4, 3, 1], dtype=int64)"
      ]
     },
     "execution_count": 56,
     "metadata": {},
     "output_type": "execute_result"
    }
   ],
   "source": [
    "june.companyname.unique()"
   ]
  },
  {
   "cell_type": "code",
   "execution_count": 57,
   "id": "382d829f",
   "metadata": {},
   "outputs": [],
   "source": [
    "company_dict = {'Bird':0, 'Lyft': 1, 'Gotcha': 2, 'Lime': 3, 'Spin': 4, 'Jump': 5, 'Bolt': 6}\n",
    "june.companyname = june.companyname.replace(company_dict)"
   ]
  },
  {
   "cell_type": "code",
   "execution_count": 58,
   "id": "e76f733f",
   "metadata": {},
   "outputs": [
    {
     "data": {
      "text/html": [
       "<div>\n",
       "<style scoped>\n",
       "    .dataframe tbody tr th:only-of-type {\n",
       "        vertical-align: middle;\n",
       "    }\n",
       "\n",
       "    .dataframe tbody tr th {\n",
       "        vertical-align: top;\n",
       "    }\n",
       "\n",
       "    .dataframe thead th {\n",
       "        text-align: right;\n",
       "    }\n",
       "</style>\n",
       "<table border=\"1\" class=\"dataframe\">\n",
       "  <thead>\n",
       "    <tr style=\"text-align: right;\">\n",
       "      <th></th>\n",
       "      <th>pubdatetime</th>\n",
       "      <th>latitude</th>\n",
       "      <th>longitude</th>\n",
       "      <th>sumdid</th>\n",
       "      <th>sumdtype</th>\n",
       "      <th>chargelevel</th>\n",
       "      <th>sumdgroup</th>\n",
       "      <th>costpermin</th>\n",
       "      <th>companyname</th>\n",
       "    </tr>\n",
       "  </thead>\n",
       "  <tbody>\n",
       "    <tr>\n",
       "      <th>0</th>\n",
       "      <td>2019-06-01 00:00:12</td>\n",
       "      <td>36.1202</td>\n",
       "      <td>-86.7534</td>\n",
       "      <td>Powered93627c35-0f62-5b81-a78d-75a4a92ecf47</td>\n",
       "      <td>Powered</td>\n",
       "      <td>90.0</td>\n",
       "      <td>scooter</td>\n",
       "      <td>0.06</td>\n",
       "      <td>5</td>\n",
       "    </tr>\n",
       "    <tr>\n",
       "      <th>1</th>\n",
       "      <td>2019-06-01 00:00:12</td>\n",
       "      <td>36.1630</td>\n",
       "      <td>-86.7765</td>\n",
       "      <td>Powered17715097-e8a0-5494-a5ab-9b625796607d</td>\n",
       "      <td>Powered</td>\n",
       "      <td>63.0</td>\n",
       "      <td>scooter</td>\n",
       "      <td>0.06</td>\n",
       "      <td>5</td>\n",
       "    </tr>\n",
       "  </tbody>\n",
       "</table>\n",
       "</div>"
      ],
      "text/plain": [
       "          pubdatetime  latitude  longitude  \\\n",
       "0 2019-06-01 00:00:12   36.1202   -86.7534   \n",
       "1 2019-06-01 00:00:12   36.1630   -86.7765   \n",
       "\n",
       "                                        sumdid sumdtype  chargelevel  \\\n",
       "0  Powered93627c35-0f62-5b81-a78d-75a4a92ecf47  Powered         90.0   \n",
       "1  Powered17715097-e8a0-5494-a5ab-9b625796607d  Powered         63.0   \n",
       "\n",
       "  sumdgroup  costpermin  companyname  \n",
       "0   scooter        0.06            5  \n",
       "1   scooter        0.06            5  "
      ]
     },
     "execution_count": 58,
     "metadata": {},
     "output_type": "execute_result"
    }
   ],
   "source": [
    "june.pubdatetime = pd.to_datetime(june.pubdatetime)\n",
    "june.head(2)"
   ]
  },
  {
   "cell_type": "code",
   "execution_count": 59,
   "id": "43e7e8ae",
   "metadata": {},
   "outputs": [
    {
     "data": {
      "text/plain": [
       "array(['scooter', 'Scooter', 'bicycle'], dtype=object)"
      ]
     },
     "execution_count": 59,
     "metadata": {},
     "output_type": "execute_result"
    }
   ],
   "source": [
    "june.sumdgroup.unique()"
   ]
  },
  {
   "cell_type": "code",
   "execution_count": 60,
   "id": "158e54b8",
   "metadata": {},
   "outputs": [],
   "source": [
    "june_scooters = june.loc[june.sumdgroup.isin(['scooter', 'Scooter'])]"
   ]
  },
  {
   "cell_type": "code",
   "execution_count": 61,
   "id": "eb4ac129",
   "metadata": {},
   "outputs": [],
   "source": [
    "june_scooters = june_scooters[['pubdatetime', 'latitude', 'longitude', 'sumdid', 'chargelevel', 'companyname']]"
   ]
  },
  {
   "cell_type": "code",
   "execution_count": 62,
   "id": "38c8a077",
   "metadata": {},
   "outputs": [
    {
     "name": "stdout",
     "output_type": "stream",
     "text": [
      "<class 'pandas.core.frame.DataFrame'>\n",
      "Int64Index: 28037408 entries, 0 to 28046094\n",
      "Data columns (total 6 columns):\n",
      " #   Column       Dtype         \n",
      "---  ------       -----         \n",
      " 0   pubdatetime  datetime64[ns]\n",
      " 1   latitude     float64       \n",
      " 2   longitude    float64       \n",
      " 3   sumdid       object        \n",
      " 4   chargelevel  float64       \n",
      " 5   companyname  int64         \n",
      "dtypes: datetime64[ns](1), float64(3), int64(1), object(1)\n",
      "memory usage: 1.5+ GB\n"
     ]
    }
   ],
   "source": [
    "june_scooters.info()"
   ]
  },
  {
   "cell_type": "code",
   "execution_count": 64,
   "id": "f2afe553",
   "metadata": {},
   "outputs": [],
   "source": [
    "june_scooters.to_pickle(\"../data/june.pkl\")"
   ]
  },
  {
   "cell_type": "code",
   "execution_count": 65,
   "id": "20c548ec",
   "metadata": {},
   "outputs": [
    {
     "name": "stdout",
     "output_type": "stream",
     "text": [
      "Wall time: 10.9 s\n"
     ]
    }
   ],
   "source": [
    "%%time\n",
    "june_test = pd.read_pickle(\"../data/june.pkl\")"
   ]
  }
 ],
 "metadata": {
  "kernelspec": {
   "display_name": "Python 3 (ipykernel)",
   "language": "python",
   "name": "python3"
  },
  "language_info": {
   "codemirror_mode": {
    "name": "ipython",
    "version": 3
   },
   "file_extension": ".py",
   "mimetype": "text/x-python",
   "name": "python",
   "nbconvert_exporter": "python",
   "pygments_lexer": "ipython3",
   "version": "3.8.5"
  }
 },
 "nbformat": 4,
 "nbformat_minor": 5
}
